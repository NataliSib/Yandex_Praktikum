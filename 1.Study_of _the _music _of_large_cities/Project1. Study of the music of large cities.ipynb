{
 "cells": [
  {
   "cell_type": "markdown",
   "metadata": {
    "id": "E0vqbgi9ay0H"
   },
   "source": [
    "# Яндекс.Музыка"
   ]
  },
  {
   "cell_type": "markdown",
   "metadata": {
    "id": "VUC88oWjTJw2"
   },
   "source": [
    "**Цель исследования** — проверить три гипотезы:\n",
    "1. Активность пользователей зависит от дня недели. Причём в Москве и Петербурге это проявляется по-разному.\n",
    "2. В понедельник утром в Москве преобладают одни жанры, а в Петербурге — другие. Так же и вечером пятницы преобладают разные жанры — в зависимости от города. \n",
    "3. Москва и Петербург предпочитают разные жанры музыки. В Москве чаще слушают поп-музыку, в Петербурге — русский рэп."
   ]
  },
  {
   "cell_type": "markdown",
   "metadata": {
    "id": "Ml1hmfXC_Zcs"
   },
   "source": [
    "## Обзор данных"
   ]
  },
  {
   "cell_type": "code",
   "execution_count": 1,
   "metadata": {
    "id": "AXN7PHPN_Zcs"
   },
   "outputs": [],
   "source": [
    "# импорт библиотеки pandas\n",
    "import pandas as pd"
   ]
  },
  {
   "cell_type": "code",
   "execution_count": 2,
   "metadata": {
    "id": "fFVu7vqh_Zct"
   },
   "outputs": [],
   "source": [
    "# чтение файла с данными и сохранение в df\n",
    "df = pd.read_csv('/datasets/yandex_music_project.csv')"
   ]
  },
  {
   "cell_type": "code",
   "execution_count": 3,
   "metadata": {
    "id": "oWTVX3gW_Zct"
   },
   "outputs": [
    {
     "data": {
      "text/html": [
       "<div>\n",
       "<style scoped>\n",
       "    .dataframe tbody tr th:only-of-type {\n",
       "        vertical-align: middle;\n",
       "    }\n",
       "\n",
       "    .dataframe tbody tr th {\n",
       "        vertical-align: top;\n",
       "    }\n",
       "\n",
       "    .dataframe thead th {\n",
       "        text-align: right;\n",
       "    }\n",
       "</style>\n",
       "<table border=\"1\" class=\"dataframe\">\n",
       "  <thead>\n",
       "    <tr style=\"text-align: right;\">\n",
       "      <th></th>\n",
       "      <th>userID</th>\n",
       "      <th>Track</th>\n",
       "      <th>artist</th>\n",
       "      <th>genre</th>\n",
       "      <th>City</th>\n",
       "      <th>time</th>\n",
       "      <th>Day</th>\n",
       "    </tr>\n",
       "  </thead>\n",
       "  <tbody>\n",
       "    <tr>\n",
       "      <td>0</td>\n",
       "      <td>FFB692EC</td>\n",
       "      <td>Kamigata To Boots</td>\n",
       "      <td>The Mass Missile</td>\n",
       "      <td>rock</td>\n",
       "      <td>Saint-Petersburg</td>\n",
       "      <td>20:28:33</td>\n",
       "      <td>Wednesday</td>\n",
       "    </tr>\n",
       "    <tr>\n",
       "      <td>1</td>\n",
       "      <td>55204538</td>\n",
       "      <td>Delayed Because of Accident</td>\n",
       "      <td>Andreas Rönnberg</td>\n",
       "      <td>rock</td>\n",
       "      <td>Moscow</td>\n",
       "      <td>14:07:09</td>\n",
       "      <td>Friday</td>\n",
       "    </tr>\n",
       "    <tr>\n",
       "      <td>2</td>\n",
       "      <td>20EC38</td>\n",
       "      <td>Funiculì funiculà</td>\n",
       "      <td>Mario Lanza</td>\n",
       "      <td>pop</td>\n",
       "      <td>Saint-Petersburg</td>\n",
       "      <td>20:58:07</td>\n",
       "      <td>Wednesday</td>\n",
       "    </tr>\n",
       "    <tr>\n",
       "      <td>3</td>\n",
       "      <td>A3DD03C9</td>\n",
       "      <td>Dragons in the Sunset</td>\n",
       "      <td>Fire + Ice</td>\n",
       "      <td>folk</td>\n",
       "      <td>Saint-Petersburg</td>\n",
       "      <td>08:37:09</td>\n",
       "      <td>Monday</td>\n",
       "    </tr>\n",
       "    <tr>\n",
       "      <td>4</td>\n",
       "      <td>E2DC1FAE</td>\n",
       "      <td>Soul People</td>\n",
       "      <td>Space Echo</td>\n",
       "      <td>dance</td>\n",
       "      <td>Moscow</td>\n",
       "      <td>08:34:34</td>\n",
       "      <td>Monday</td>\n",
       "    </tr>\n",
       "    <tr>\n",
       "      <td>5</td>\n",
       "      <td>842029A1</td>\n",
       "      <td>Преданная</td>\n",
       "      <td>IMPERVTOR</td>\n",
       "      <td>rusrap</td>\n",
       "      <td>Saint-Petersburg</td>\n",
       "      <td>13:09:41</td>\n",
       "      <td>Friday</td>\n",
       "    </tr>\n",
       "    <tr>\n",
       "      <td>6</td>\n",
       "      <td>4CB90AA5</td>\n",
       "      <td>True</td>\n",
       "      <td>Roman Messer</td>\n",
       "      <td>dance</td>\n",
       "      <td>Moscow</td>\n",
       "      <td>13:00:07</td>\n",
       "      <td>Wednesday</td>\n",
       "    </tr>\n",
       "    <tr>\n",
       "      <td>7</td>\n",
       "      <td>F03E1C1F</td>\n",
       "      <td>Feeling This Way</td>\n",
       "      <td>Polina Griffith</td>\n",
       "      <td>dance</td>\n",
       "      <td>Moscow</td>\n",
       "      <td>20:47:49</td>\n",
       "      <td>Wednesday</td>\n",
       "    </tr>\n",
       "    <tr>\n",
       "      <td>8</td>\n",
       "      <td>8FA1D3BE</td>\n",
       "      <td>И вновь продолжается бой</td>\n",
       "      <td>NaN</td>\n",
       "      <td>ruspop</td>\n",
       "      <td>Moscow</td>\n",
       "      <td>09:17:40</td>\n",
       "      <td>Friday</td>\n",
       "    </tr>\n",
       "    <tr>\n",
       "      <td>9</td>\n",
       "      <td>E772D5C0</td>\n",
       "      <td>Pessimist</td>\n",
       "      <td>NaN</td>\n",
       "      <td>dance</td>\n",
       "      <td>Saint-Petersburg</td>\n",
       "      <td>21:20:49</td>\n",
       "      <td>Wednesday</td>\n",
       "    </tr>\n",
       "  </tbody>\n",
       "</table>\n",
       "</div>"
      ],
      "text/plain": [
       "     userID                        Track            artist   genre  \\\n",
       "0  FFB692EC            Kamigata To Boots  The Mass Missile    rock   \n",
       "1  55204538  Delayed Because of Accident  Andreas Rönnberg    rock   \n",
       "2    20EC38            Funiculì funiculà       Mario Lanza     pop   \n",
       "3  A3DD03C9        Dragons in the Sunset        Fire + Ice    folk   \n",
       "4  E2DC1FAE                  Soul People        Space Echo   dance   \n",
       "5  842029A1                    Преданная         IMPERVTOR  rusrap   \n",
       "6  4CB90AA5                         True      Roman Messer   dance   \n",
       "7  F03E1C1F             Feeling This Way   Polina Griffith   dance   \n",
       "8  8FA1D3BE     И вновь продолжается бой               NaN  ruspop   \n",
       "9  E772D5C0                    Pessimist               NaN   dance   \n",
       "\n",
       "             City        time        Day  \n",
       "0  Saint-Petersburg  20:28:33  Wednesday  \n",
       "1            Moscow  14:07:09     Friday  \n",
       "2  Saint-Petersburg  20:58:07  Wednesday  \n",
       "3  Saint-Petersburg  08:37:09     Monday  \n",
       "4            Moscow  08:34:34     Monday  \n",
       "5  Saint-Petersburg  13:09:41     Friday  \n",
       "6            Moscow  13:00:07  Wednesday  \n",
       "7            Moscow  20:47:49  Wednesday  \n",
       "8            Moscow  09:17:40     Friday  \n",
       "9  Saint-Petersburg  21:20:49  Wednesday  "
      ]
     },
     "execution_count": 3,
     "metadata": {},
     "output_type": "execute_result"
    }
   ],
   "source": [
    "# получение первых 10 строк таблицы df\n",
    "df.head(10)"
   ]
  },
  {
   "cell_type": "code",
   "execution_count": 4,
   "metadata": {
    "id": "DSf2kIb-_Zct"
   },
   "outputs": [
    {
     "name": "stdout",
     "output_type": "stream",
     "text": [
      "<class 'pandas.core.frame.DataFrame'>\n",
      "RangeIndex: 65079 entries, 0 to 65078\n",
      "Data columns (total 7 columns):\n",
      "  userID    65079 non-null object\n",
      "Track       63848 non-null object\n",
      "artist      57876 non-null object\n",
      "genre       63881 non-null object\n",
      "  City      65079 non-null object\n",
      "time        65079 non-null object\n",
      "Day         65079 non-null object\n",
      "dtypes: object(7)\n",
      "memory usage: 3.5+ MB\n"
     ]
    }
   ],
   "source": [
    "# получение общей информации о данных в таблице df\n",
    "df.info()"
   ]
  },
  {
   "cell_type": "markdown",
   "metadata": {
    "id": "TaQ2Iwbr_Zct"
   },
   "source": [
    "Итак, в таблице семь столбцов. Тип данных во всех столбцах — `object`.\n",
    "\n",
    "В названиях колонок видны три нарушения стиля:\n",
    "1. Строчные буквы сочетаются с прописными.\n",
    "2. Встречаются пробелы.\n",
    "3. Необходимо привести все названия к змеиному регистру.\n",
    "\n",
    "Количество значений в столбцах различается. Значит, в данных есть пропущенные значения.\n"
   ]
  },
  {
   "cell_type": "markdown",
   "metadata": {
    "id": "MCB6-dXG_Zct"
   },
   "source": [
    "**Выводы**\n",
    "\n",
    "В каждой строке таблицы — данные о прослушанном треке. Часть колонок описывает саму композицию: название, исполнителя и жанр. Остальные данные рассказывают о пользователе: из какого он города, когда он слушал музыку. \n",
    "\n",
    "Предварительно можно утверждать, что, данных достаточно для проверки гипотез. Но встречаются пропуски в данных, а в названиях колонок — расхождения с хорошим стилем.\n",
    "\n",
    "Чтобы двигаться дальше, нужно устранить проблемы в данных."
   ]
  },
  {
   "cell_type": "markdown",
   "metadata": {
    "id": "SjYF6Ub9_Zct"
   },
   "source": [
    "## Предобработка данных"
   ]
  },
  {
   "cell_type": "markdown",
   "metadata": {
    "id": "dIaKXr29_Zct"
   },
   "source": [
    "### Стиль заголовков\n",
    "Выведите на экран названия столбцов:"
   ]
  },
  {
   "cell_type": "code",
   "execution_count": 5,
   "metadata": {
    "id": "oKOTdF_Q_Zct"
   },
   "outputs": [
    {
     "data": {
      "text/plain": [
       "Index(['  userID', 'Track', 'artist', 'genre', '  City  ', 'time', 'Day'], dtype='object')"
      ]
     },
     "execution_count": 5,
     "metadata": {},
     "output_type": "execute_result"
    }
   ],
   "source": [
    "# перечень названий столбцов таблицы df\n",
    "df.columns"
   ]
  },
  {
   "cell_type": "code",
   "execution_count": 6,
   "metadata": {
    "id": "ISlFqs5y_Zct"
   },
   "outputs": [],
   "source": [
    "# переименование столбцов\n",
    "df = df.rename(columns={'  userID': 'user_id', 'Track': 'track', '  City  ' : 'city', 'Day' : 'day'})"
   ]
  },
  {
   "cell_type": "code",
   "execution_count": 7,
   "metadata": {
    "id": "d4NOAmTW_Zct"
   },
   "outputs": [
    {
     "data": {
      "text/plain": [
       "Index(['user_id', 'track', 'artist', 'genre', 'city', 'time', 'day'], dtype='object')"
      ]
     },
     "metadata": {},
     "output_type": "display_data"
    }
   ],
   "source": [
    "# проверка результатов - перечень названий столбцов\n",
    "display(df.columns)"
   ]
  },
  {
   "cell_type": "markdown",
   "metadata": {
    "id": "5ISfbcfY_Zct"
   },
   "source": [
    "### Пропуски значений"
   ]
  },
  {
   "cell_type": "code",
   "execution_count": 8,
   "metadata": {
    "id": "RskX29qr_Zct"
   },
   "outputs": [
    {
     "data": {
      "text/plain": [
       "user_id       0\n",
       "track      1231\n",
       "artist     7203\n",
       "genre      1198\n",
       "city          0\n",
       "time          0\n",
       "day           0\n",
       "dtype: int64"
      ]
     },
     "metadata": {},
     "output_type": "display_data"
    }
   ],
   "source": [
    "# подсчёт пропусков\n",
    "display(df.isna().sum())"
   ]
  },
  {
   "cell_type": "code",
   "execution_count": 9,
   "metadata": {
    "id": "KplB5qWs_Zct"
   },
   "outputs": [],
   "source": [
    "# перебор названий столбцов в цикле и замена пропущенных значений на 'unknown'\n",
    "columns_to_replace = ['track', 'artist', 'genre']\n",
    "for column in columns_to_replace:\n",
    "    df[column] = df[column].fillna('unknown')"
   ]
  },
  {
   "cell_type": "code",
   "execution_count": 10,
   "metadata": {
    "id": "Tq4nYRX4_Zct"
   },
   "outputs": [
    {
     "data": {
      "text/plain": [
       "user_id    0\n",
       "track      0\n",
       "artist     0\n",
       "genre      0\n",
       "city       0\n",
       "time       0\n",
       "day        0\n",
       "dtype: int64"
      ]
     },
     "metadata": {},
     "output_type": "display_data"
    }
   ],
   "source": [
    "# подсчёт пропусков\n",
    "display(df.isna().sum())"
   ]
  },
  {
   "cell_type": "markdown",
   "metadata": {
    "id": "BWKRtBJ3_Zct"
   },
   "source": [
    "### Дубликаты"
   ]
  },
  {
   "cell_type": "code",
   "execution_count": 11,
   "metadata": {
    "id": "36eES_S0_Zct"
   },
   "outputs": [
    {
     "data": {
      "text/plain": [
       "3826"
      ]
     },
     "metadata": {},
     "output_type": "display_data"
    }
   ],
   "source": [
    "# подсчёт явных дубликатов\n",
    "display(df.duplicated().sum())"
   ]
  },
  {
   "cell_type": "code",
   "execution_count": 12,
   "metadata": {
    "id": "exFHq6tt_Zct"
   },
   "outputs": [],
   "source": [
    "# удаление явных дубликатов (с удалением старых индексов и формированием новых)\n",
    "df = df.drop_duplicates().reset_index(drop=True) "
   ]
  },
  {
   "cell_type": "code",
   "execution_count": 13,
   "metadata": {
    "id": "-8PuNWQ0_Zct"
   },
   "outputs": [
    {
     "data": {
      "text/plain": [
       "0"
      ]
     },
     "metadata": {},
     "output_type": "display_data"
    }
   ],
   "source": [
    "# проверка на отсутствие дубликатов\n",
    "display(df.duplicated().sum())"
   ]
  },
  {
   "cell_type": "code",
   "execution_count": 14,
   "metadata": {
    "id": "JIUcqzZN_Zct",
    "scrolled": false
   },
   "outputs": [
    {
     "data": {
      "text/plain": [
       "array(['acid', 'acoustic', 'action', 'adult', 'africa', 'afrikaans',\n",
       "       'alternative', 'alternativepunk', 'ambient', 'americana',\n",
       "       'animated', 'anime', 'arabesk', 'arabic', 'arena',\n",
       "       'argentinetango', 'art', 'audiobook', 'author', 'avantgarde',\n",
       "       'axé', 'baile', 'balkan', 'beats', 'bigroom', 'black', 'bluegrass',\n",
       "       'blues', 'bollywood', 'bossa', 'brazilian', 'breakbeat', 'breaks',\n",
       "       'broadway', 'cantautori', 'cantopop', 'canzone', 'caribbean',\n",
       "       'caucasian', 'celtic', 'chamber', 'chanson', 'children', 'chill',\n",
       "       'chinese', 'choral', 'christian', 'christmas', 'classical',\n",
       "       'classicmetal', 'club', 'colombian', 'comedy', 'conjazz',\n",
       "       'contemporary', 'country', 'cuban', 'dance', 'dancehall',\n",
       "       'dancepop', 'dark', 'death', 'deep', 'deutschrock', 'deutschspr',\n",
       "       'dirty', 'disco', 'dnb', 'documentary', 'downbeat', 'downtempo',\n",
       "       'drum', 'dub', 'dubstep', 'eastern', 'easy', 'electronic',\n",
       "       'electropop', 'emo', 'entehno', 'epicmetal', 'estrada', 'ethnic',\n",
       "       'eurofolk', 'european', 'experimental', 'extrememetal', 'fado',\n",
       "       'fairytail', 'film', 'fitness', 'flamenco', 'folk', 'folklore',\n",
       "       'folkmetal', 'folkrock', 'folktronica', 'forró', 'frankreich',\n",
       "       'französisch', 'french', 'funk', 'future', 'gangsta', 'garage',\n",
       "       'german', 'ghazal', 'gitarre', 'glitch', 'gospel', 'gothic',\n",
       "       'grime', 'grunge', 'gypsy', 'handsup', \"hard'n'heavy\", 'hardcore',\n",
       "       'hardstyle', 'hardtechno', 'hip', 'hip-hop', 'hiphop',\n",
       "       'historisch', 'holiday', 'hop', 'horror', 'house', 'hymn', 'idm',\n",
       "       'independent', 'indian', 'indie', 'indipop', 'industrial',\n",
       "       'inspirational', 'instrumental', 'international', 'irish', 'jam',\n",
       "       'japanese', 'jazz', 'jewish', 'jpop', 'jungle', 'k-pop',\n",
       "       'karadeniz', 'karaoke', 'kayokyoku', 'korean', 'laiko', 'latin',\n",
       "       'latino', 'leftfield', 'local', 'lounge', 'loungeelectronic',\n",
       "       'lovers', 'malaysian', 'mandopop', 'marschmusik', 'meditative',\n",
       "       'mediterranean', 'melodic', 'metal', 'metalcore', 'mexican',\n",
       "       'middle', 'minimal', 'miscellaneous', 'modern', 'mood', 'mpb',\n",
       "       'muslim', 'native', 'neoklassik', 'neue', 'new', 'newage',\n",
       "       'newwave', 'nu', 'nujazz', 'numetal', 'oceania', 'old', 'opera',\n",
       "       'orchestral', 'other', 'piano', 'podcasts', 'pop', 'popdance',\n",
       "       'popelectronic', 'popeurodance', 'poprussian', 'post',\n",
       "       'posthardcore', 'postrock', 'power', 'progmetal', 'progressive',\n",
       "       'psychedelic', 'punjabi', 'punk', 'quebecois', 'ragga', 'ram',\n",
       "       'rancheras', 'rap', 'rave', 'reggae', 'reggaeton', 'regional',\n",
       "       'relax', 'religious', 'retro', 'rhythm', 'rnb', 'rnr', 'rock',\n",
       "       'rockabilly', 'rockalternative', 'rockindie', 'rockother',\n",
       "       'romance', 'roots', 'ruspop', 'rusrap', 'rusrock', 'russian',\n",
       "       'salsa', 'samba', 'scenic', 'schlager', 'self', 'sertanejo',\n",
       "       'shanson', 'shoegazing', 'showtunes', 'singer', 'ska', 'skarock',\n",
       "       'slow', 'smooth', 'soft', 'soul', 'soulful', 'sound', 'soundtrack',\n",
       "       'southern', 'specialty', 'speech', 'spiritual', 'sport',\n",
       "       'stonerrock', 'surf', 'swing', 'synthpop', 'synthrock',\n",
       "       'sängerportrait', 'tango', 'tanzorchester', 'taraftar', 'tatar',\n",
       "       'tech', 'techno', 'teen', 'thrash', 'top', 'traditional',\n",
       "       'tradjazz', 'trance', 'tribal', 'trip', 'triphop', 'tropical',\n",
       "       'türk', 'türkçe', 'ukrrock', 'unknown', 'urban', 'uzbek',\n",
       "       'variété', 'vi', 'videogame', 'vocal', 'western', 'world',\n",
       "       'worldbeat', 'ïîï', 'электроника'], dtype=object)"
      ]
     },
     "execution_count": 14,
     "metadata": {},
     "output_type": "execute_result"
    }
   ],
   "source": [
    "# Просмотр уникальных названий жанров\n",
    "df['genre'].sort_values().unique()"
   ]
  },
  {
   "cell_type": "markdown",
   "metadata": {
    "id": "qej-Qmuo_Zct"
   },
   "source": [
    "Просмотрим список и найдем неявные дубликаты названия `hiphop`. Это могут быть названия с ошибками или альтернативные названия того же жанра."
   ]
  },
  {
   "cell_type": "code",
   "execution_count": 15,
   "metadata": {
    "id": "ErNDkmns_Zct"
   },
   "outputs": [],
   "source": [
    "# Функция для замены неявных дубликатов\n",
    "def  replace_wrong_genres(wrong_genres, correct_genre):\n",
    "    for wrong_genre in wrong_genres: #перебор неправильтных значений\n",
    "        df['genre'] = df['genre'].replace(wrong_genre, correct_genre) #replace для неправильных наименований     "
   ]
  },
  {
   "cell_type": "code",
   "execution_count": 16,
   "metadata": {
    "id": "YN5i2hpmSo09"
   },
   "outputs": [],
   "source": [
    "# Устранение неявных дубликатов\n",
    "replace_wrong_genres(['hip', 'hop', 'hip-hop'], 'hiphop')"
   ]
  },
  {
   "cell_type": "code",
   "execution_count": 17,
   "metadata": {
    "id": "wvixALnFG15m",
    "scrolled": false
   },
   "outputs": [
    {
     "data": {
      "text/plain": [
       "array(['acid', 'acoustic', 'action', 'adult', 'africa', 'afrikaans',\n",
       "       'alternative', 'alternativepunk', 'ambient', 'americana',\n",
       "       'animated', 'anime', 'arabesk', 'arabic', 'arena',\n",
       "       'argentinetango', 'art', 'audiobook', 'author', 'avantgarde',\n",
       "       'axé', 'baile', 'balkan', 'beats', 'bigroom', 'black', 'bluegrass',\n",
       "       'blues', 'bollywood', 'bossa', 'brazilian', 'breakbeat', 'breaks',\n",
       "       'broadway', 'cantautori', 'cantopop', 'canzone', 'caribbean',\n",
       "       'caucasian', 'celtic', 'chamber', 'chanson', 'children', 'chill',\n",
       "       'chinese', 'choral', 'christian', 'christmas', 'classical',\n",
       "       'classicmetal', 'club', 'colombian', 'comedy', 'conjazz',\n",
       "       'contemporary', 'country', 'cuban', 'dance', 'dancehall',\n",
       "       'dancepop', 'dark', 'death', 'deep', 'deutschrock', 'deutschspr',\n",
       "       'dirty', 'disco', 'dnb', 'documentary', 'downbeat', 'downtempo',\n",
       "       'drum', 'dub', 'dubstep', 'eastern', 'easy', 'electronic',\n",
       "       'electropop', 'emo', 'entehno', 'epicmetal', 'estrada', 'ethnic',\n",
       "       'eurofolk', 'european', 'experimental', 'extrememetal', 'fado',\n",
       "       'fairytail', 'film', 'fitness', 'flamenco', 'folk', 'folklore',\n",
       "       'folkmetal', 'folkrock', 'folktronica', 'forró', 'frankreich',\n",
       "       'französisch', 'french', 'funk', 'future', 'gangsta', 'garage',\n",
       "       'german', 'ghazal', 'gitarre', 'glitch', 'gospel', 'gothic',\n",
       "       'grime', 'grunge', 'gypsy', 'handsup', \"hard'n'heavy\", 'hardcore',\n",
       "       'hardstyle', 'hardtechno', 'hiphop', 'historisch', 'holiday',\n",
       "       'horror', 'house', 'hymn', 'idm', 'independent', 'indian', 'indie',\n",
       "       'indipop', 'industrial', 'inspirational', 'instrumental',\n",
       "       'international', 'irish', 'jam', 'japanese', 'jazz', 'jewish',\n",
       "       'jpop', 'jungle', 'k-pop', 'karadeniz', 'karaoke', 'kayokyoku',\n",
       "       'korean', 'laiko', 'latin', 'latino', 'leftfield', 'local',\n",
       "       'lounge', 'loungeelectronic', 'lovers', 'malaysian', 'mandopop',\n",
       "       'marschmusik', 'meditative', 'mediterranean', 'melodic', 'metal',\n",
       "       'metalcore', 'mexican', 'middle', 'minimal', 'miscellaneous',\n",
       "       'modern', 'mood', 'mpb', 'muslim', 'native', 'neoklassik', 'neue',\n",
       "       'new', 'newage', 'newwave', 'nu', 'nujazz', 'numetal', 'oceania',\n",
       "       'old', 'opera', 'orchestral', 'other', 'piano', 'podcasts', 'pop',\n",
       "       'popdance', 'popelectronic', 'popeurodance', 'poprussian', 'post',\n",
       "       'posthardcore', 'postrock', 'power', 'progmetal', 'progressive',\n",
       "       'psychedelic', 'punjabi', 'punk', 'quebecois', 'ragga', 'ram',\n",
       "       'rancheras', 'rap', 'rave', 'reggae', 'reggaeton', 'regional',\n",
       "       'relax', 'religious', 'retro', 'rhythm', 'rnb', 'rnr', 'rock',\n",
       "       'rockabilly', 'rockalternative', 'rockindie', 'rockother',\n",
       "       'romance', 'roots', 'ruspop', 'rusrap', 'rusrock', 'russian',\n",
       "       'salsa', 'samba', 'scenic', 'schlager', 'self', 'sertanejo',\n",
       "       'shanson', 'shoegazing', 'showtunes', 'singer', 'ska', 'skarock',\n",
       "       'slow', 'smooth', 'soft', 'soul', 'soulful', 'sound', 'soundtrack',\n",
       "       'southern', 'specialty', 'speech', 'spiritual', 'sport',\n",
       "       'stonerrock', 'surf', 'swing', 'synthpop', 'synthrock',\n",
       "       'sängerportrait', 'tango', 'tanzorchester', 'taraftar', 'tatar',\n",
       "       'tech', 'techno', 'teen', 'thrash', 'top', 'traditional',\n",
       "       'tradjazz', 'trance', 'tribal', 'trip', 'triphop', 'tropical',\n",
       "       'türk', 'türkçe', 'ukrrock', 'unknown', 'urban', 'uzbek',\n",
       "       'variété', 'vi', 'videogame', 'vocal', 'western', 'world',\n",
       "       'worldbeat', 'ïîï', 'электроника'], dtype=object)"
      ]
     },
     "execution_count": 17,
     "metadata": {},
     "output_type": "execute_result"
    }
   ],
   "source": [
    "# Проверка на неявные дубликаты\n",
    "df['genre'].sort_values().unique()"
   ]
  },
  {
   "cell_type": "markdown",
   "metadata": {
    "id": "jz6a9-7HQUDd"
   },
   "source": [
    "**Выводы**\n",
    "\n",
    "Предобработка обнаружила три проблемы в данных:\n",
    "\n",
    "- нарушения в стиле заголовков,\n",
    "- пропущенные значения,\n",
    "- дубликаты — явные и неявные.\n",
    "\n",
    "Вы исправили заголовки, чтобы упростить работу с таблицей. Без дубликатов исследование станет более точным.\n",
    "\n",
    "Пропущенные значения вы заменили на `'unknown'`. Ещё предстоит увидеть, не повредят ли исследованию пропуски в колонке `genre`.\n",
    "\n",
    "Теперь можно перейти к проверке гипотез. "
   ]
  },
  {
   "cell_type": "markdown",
   "metadata": {
    "id": "WttZHXH0SqKk"
   },
   "source": [
    "## Проверка гипотез"
   ]
  },
  {
   "cell_type": "markdown",
   "metadata": {
    "id": "Im936VVi_Zcu"
   },
   "source": [
    "### Сравнение поведения пользователей двух столиц"
   ]
  },
  {
   "cell_type": "markdown",
   "metadata": {
    "id": "nwt_MuaL_Zcu"
   },
   "source": [
    "Первая гипотеза утверждает, что пользователи по-разному слушают музыку в Москве и Санкт-Петербурге. Проверим это предположение по данным о трёх днях недели — понедельнике, среде и пятнице. Для этого:\n",
    "\n",
    "* Разделим пользователей Москвы и Санкт-Петербурга\n",
    "* Сравним, сколько треков послушала каждая группа пользователей в понедельник, среду и пятницу.\n"
   ]
  },
  {
   "cell_type": "code",
   "execution_count": 18,
   "metadata": {
    "id": "0_Qs96oh_Zcu"
   },
   "outputs": [
    {
     "data": {
      "text/plain": [
       "city\n",
       "Moscow              42741\n",
       "Saint-Petersburg    18512\n",
       "Name: track, dtype: int64"
      ]
     },
     "execution_count": 18,
     "metadata": {},
     "output_type": "execute_result"
    }
   ],
   "source": [
    "# Подсчёт прослушиваний в каждом городе\n",
    "df.groupby('city')['track'].count()"
   ]
  },
  {
   "cell_type": "code",
   "execution_count": 19,
   "metadata": {
    "id": "uZMKjiJz_Zcu"
   },
   "outputs": [
    {
     "data": {
      "text/plain": [
       "day\n",
       "Friday       21840\n",
       "Monday       21354\n",
       "Wednesday    18059\n",
       "Name: track, dtype: int64"
      ]
     },
     "execution_count": 19,
     "metadata": {},
     "output_type": "execute_result"
    }
   ],
   "source": [
    "# Подсчёт прослушиваний в каждый из трёх дней\n",
    "df.groupby('day')['track'].count()"
   ]
  },
  {
   "cell_type": "markdown",
   "metadata": {
    "id": "cC2tNrlL_Zcu"
   },
   "source": [
    "В среднем пользователи из двух городов менее активны по средам. Но картина может измениться, если рассмотреть каждый город в отдельности."
   ]
  },
  {
   "cell_type": "code",
   "execution_count": 20,
   "metadata": {
    "id": "Nz3GdQB1_Zcu"
   },
   "outputs": [],
   "source": [
    "# <создание функции number_tracks()>\n",
    "# Объявляется функция с двумя параметрами: day, city.\n",
    "\n",
    "def number_tracks(day, city):\n",
    "    track_list=df[(df['day'] == day) & (df['city'] == city)]\n",
    "    track_list_count = track_list['user_id'].count()\n",
    "    return track_list_count"
   ]
  },
  {
   "cell_type": "code",
   "execution_count": 21,
   "metadata": {
    "id": "rJcRATNQ_Zcu"
   },
   "outputs": [
    {
     "data": {
      "text/plain": [
       "15740"
      ]
     },
     "execution_count": 21,
     "metadata": {},
     "output_type": "execute_result"
    }
   ],
   "source": [
    "# количество прослушиваний в Москве по понедельникам\n",
    "number_tracks('Monday', 'Moscow')"
   ]
  },
  {
   "cell_type": "code",
   "execution_count": 22,
   "metadata": {
    "id": "hq_ncZ5T_Zcu"
   },
   "outputs": [
    {
     "data": {
      "text/plain": [
       "5614"
      ]
     },
     "execution_count": 22,
     "metadata": {},
     "output_type": "execute_result"
    }
   ],
   "source": [
    "# количество прослушиваний в Санкт-Петербурге по понедельникам\n",
    "number_tracks('Monday', 'Saint-Petersburg')"
   ]
  },
  {
   "cell_type": "code",
   "execution_count": 23,
   "metadata": {
    "id": "_NTy2VPU_Zcu"
   },
   "outputs": [
    {
     "data": {
      "text/plain": [
       "11056"
      ]
     },
     "execution_count": 23,
     "metadata": {},
     "output_type": "execute_result"
    }
   ],
   "source": [
    "# количество прослушиваний в Москве по средам\n",
    "number_tracks('Wednesday', 'Moscow')"
   ]
  },
  {
   "cell_type": "code",
   "execution_count": 24,
   "metadata": {
    "id": "j2y3TAwo_Zcu"
   },
   "outputs": [
    {
     "data": {
      "text/plain": [
       "7003"
      ]
     },
     "execution_count": 24,
     "metadata": {},
     "output_type": "execute_result"
    }
   ],
   "source": [
    "# количество прослушиваний в Санкт-Петербурге по средам\n",
    "number_tracks('Wednesday', 'Saint-Petersburg')"
   ]
  },
  {
   "cell_type": "code",
   "execution_count": 25,
   "metadata": {
    "id": "vYDw5u_K_Zcu"
   },
   "outputs": [
    {
     "data": {
      "text/plain": [
       "15945"
      ]
     },
     "execution_count": 25,
     "metadata": {},
     "output_type": "execute_result"
    }
   ],
   "source": [
    "# количество прослушиваний в Москве по пятницам\n",
    "number_tracks('Friday', 'Moscow')"
   ]
  },
  {
   "cell_type": "code",
   "execution_count": 26,
   "metadata": {
    "id": "8_yzFtW3_Zcu"
   },
   "outputs": [
    {
     "data": {
      "text/plain": [
       "5895"
      ]
     },
     "execution_count": 26,
     "metadata": {},
     "output_type": "execute_result"
    }
   ],
   "source": [
    "# количество прослушиваний в Санкт-Петербурге по пятницам\n",
    "number_tracks('Friday', 'Saint-Petersburg')"
   ]
  },
  {
   "cell_type": "code",
   "execution_count": 27,
   "metadata": {
    "id": "APAcLpOr_Zcu"
   },
   "outputs": [
    {
     "data": {
      "text/html": [
       "<div>\n",
       "<style scoped>\n",
       "    .dataframe tbody tr th:only-of-type {\n",
       "        vertical-align: middle;\n",
       "    }\n",
       "\n",
       "    .dataframe tbody tr th {\n",
       "        vertical-align: top;\n",
       "    }\n",
       "\n",
       "    .dataframe thead th {\n",
       "        text-align: right;\n",
       "    }\n",
       "</style>\n",
       "<table border=\"1\" class=\"dataframe\">\n",
       "  <thead>\n",
       "    <tr style=\"text-align: right;\">\n",
       "      <th></th>\n",
       "      <th>city</th>\n",
       "      <th>monday</th>\n",
       "      <th>wednesday</th>\n",
       "      <th>friday</th>\n",
       "    </tr>\n",
       "  </thead>\n",
       "  <tbody>\n",
       "    <tr>\n",
       "      <td>0</td>\n",
       "      <td>Moscow</td>\n",
       "      <td>15740</td>\n",
       "      <td>11056</td>\n",
       "      <td>15945</td>\n",
       "    </tr>\n",
       "    <tr>\n",
       "      <td>1</td>\n",
       "      <td>Saint-Petersburg</td>\n",
       "      <td>5614</td>\n",
       "      <td>7003</td>\n",
       "      <td>5895</td>\n",
       "    </tr>\n",
       "  </tbody>\n",
       "</table>\n",
       "</div>"
      ],
      "text/plain": [
       "               city  monday  wednesday  friday\n",
       "0            Moscow   15740      11056   15945\n",
       "1  Saint-Petersburg    5614       7003    5895"
      ]
     },
     "metadata": {},
     "output_type": "display_data"
    }
   ],
   "source": [
    "# Таблица с результатами\n",
    "data = [['Moscow', 15740, 11056, 15945],\n",
    "        ['Saint-Petersburg', 5614, 7003, 5895]] \n",
    "columns = ['city', 'monday', 'wednesday', 'friday'] \n",
    "display(pd.DataFrame(data = data, columns = columns))"
   ]
  },
  {
   "cell_type": "markdown",
   "metadata": {
    "id": "-EgPIHYu_Zcu"
   },
   "source": [
    "**Выводы**\n",
    "\n",
    "Данные показывают разницу поведения пользователей:\n",
    "\n",
    "- В Москве пик прослушиваний приходится на понедельник и пятницу, а в среду заметен спад.\n",
    "- В Петербурге, наоборот, больше слушают музыку по средам. Активность в понедельник и пятницу здесь почти в равной мере уступает среде.\n",
    "\n",
    "Значит, данные говорят в пользу первой гипотезы."
   ]
  },
  {
   "cell_type": "markdown",
   "metadata": {
    "id": "atZAxtq4_Zcu"
   },
   "source": [
    "### Музыка в начале и в конце недели"
   ]
  },
  {
   "cell_type": "markdown",
   "metadata": {
    "id": "eXrQqXFH_Zcu"
   },
   "source": [
    "Согласно второй гипотезе, утром в понедельник в Москве преобладают одни жанры, а в Петербурге — другие. Так же и вечером пятницы преобладают разные жанры — в зависимости от города."
   ]
  },
  {
   "cell_type": "markdown",
   "metadata": {
    "id": "S8UcW6Hw_Zcu"
   },
   "source": [
    "Сохраним таблицы с данными в две переменные:\n",
    "* по Москве — в `moscow_general`;\n",
    "* по Санкт-Петербургу — в `spb_general`."
   ]
  },
  {
   "cell_type": "code",
   "execution_count": 28,
   "metadata": {
    "id": "qeaFfM_P_Zcu"
   },
   "outputs": [
    {
     "data": {
      "text/html": [
       "<div>\n",
       "<style scoped>\n",
       "    .dataframe tbody tr th:only-of-type {\n",
       "        vertical-align: middle;\n",
       "    }\n",
       "\n",
       "    .dataframe tbody tr th {\n",
       "        vertical-align: top;\n",
       "    }\n",
       "\n",
       "    .dataframe thead th {\n",
       "        text-align: right;\n",
       "    }\n",
       "</style>\n",
       "<table border=\"1\" class=\"dataframe\">\n",
       "  <thead>\n",
       "    <tr style=\"text-align: right;\">\n",
       "      <th></th>\n",
       "      <th>user_id</th>\n",
       "      <th>track</th>\n",
       "      <th>artist</th>\n",
       "      <th>genre</th>\n",
       "      <th>city</th>\n",
       "      <th>time</th>\n",
       "      <th>day</th>\n",
       "    </tr>\n",
       "  </thead>\n",
       "  <tbody>\n",
       "    <tr>\n",
       "      <td>1</td>\n",
       "      <td>55204538</td>\n",
       "      <td>Delayed Because of Accident</td>\n",
       "      <td>Andreas Rönnberg</td>\n",
       "      <td>rock</td>\n",
       "      <td>Moscow</td>\n",
       "      <td>14:07:09</td>\n",
       "      <td>Friday</td>\n",
       "    </tr>\n",
       "    <tr>\n",
       "      <td>4</td>\n",
       "      <td>E2DC1FAE</td>\n",
       "      <td>Soul People</td>\n",
       "      <td>Space Echo</td>\n",
       "      <td>dance</td>\n",
       "      <td>Moscow</td>\n",
       "      <td>08:34:34</td>\n",
       "      <td>Monday</td>\n",
       "    </tr>\n",
       "    <tr>\n",
       "      <td>6</td>\n",
       "      <td>4CB90AA5</td>\n",
       "      <td>True</td>\n",
       "      <td>Roman Messer</td>\n",
       "      <td>dance</td>\n",
       "      <td>Moscow</td>\n",
       "      <td>13:00:07</td>\n",
       "      <td>Wednesday</td>\n",
       "    </tr>\n",
       "    <tr>\n",
       "      <td>7</td>\n",
       "      <td>F03E1C1F</td>\n",
       "      <td>Feeling This Way</td>\n",
       "      <td>Polina Griffith</td>\n",
       "      <td>dance</td>\n",
       "      <td>Moscow</td>\n",
       "      <td>20:47:49</td>\n",
       "      <td>Wednesday</td>\n",
       "    </tr>\n",
       "    <tr>\n",
       "      <td>8</td>\n",
       "      <td>8FA1D3BE</td>\n",
       "      <td>И вновь продолжается бой</td>\n",
       "      <td>unknown</td>\n",
       "      <td>ruspop</td>\n",
       "      <td>Moscow</td>\n",
       "      <td>09:17:40</td>\n",
       "      <td>Friday</td>\n",
       "    </tr>\n",
       "  </tbody>\n",
       "</table>\n",
       "</div>"
      ],
      "text/plain": [
       "    user_id                        track            artist   genre    city  \\\n",
       "1  55204538  Delayed Because of Accident  Andreas Rönnberg    rock  Moscow   \n",
       "4  E2DC1FAE                  Soul People        Space Echo   dance  Moscow   \n",
       "6  4CB90AA5                         True      Roman Messer   dance  Moscow   \n",
       "7  F03E1C1F             Feeling This Way   Polina Griffith   dance  Moscow   \n",
       "8  8FA1D3BE     И вновь продолжается бой           unknown  ruspop  Moscow   \n",
       "\n",
       "       time        day  \n",
       "1  14:07:09     Friday  \n",
       "4  08:34:34     Monday  \n",
       "6  13:00:07  Wednesday  \n",
       "7  20:47:49  Wednesday  \n",
       "8  09:17:40     Friday  "
      ]
     },
     "execution_count": 28,
     "metadata": {},
     "output_type": "execute_result"
    }
   ],
   "source": [
    "# получение таблицы moscow_general из тех строк таблицы df, \n",
    "# для которых значение в столбце 'city' равно 'Moscow'\n",
    "moscow_general = df[df['city'] == 'Moscow']\n",
    "moscow_general.head()"
   ]
  },
  {
   "cell_type": "code",
   "execution_count": 29,
   "metadata": {
    "id": "ORaVRKto_Zcu"
   },
   "outputs": [
    {
     "data": {
      "text/html": [
       "<div>\n",
       "<style scoped>\n",
       "    .dataframe tbody tr th:only-of-type {\n",
       "        vertical-align: middle;\n",
       "    }\n",
       "\n",
       "    .dataframe tbody tr th {\n",
       "        vertical-align: top;\n",
       "    }\n",
       "\n",
       "    .dataframe thead th {\n",
       "        text-align: right;\n",
       "    }\n",
       "</style>\n",
       "<table border=\"1\" class=\"dataframe\">\n",
       "  <thead>\n",
       "    <tr style=\"text-align: right;\">\n",
       "      <th></th>\n",
       "      <th>user_id</th>\n",
       "      <th>track</th>\n",
       "      <th>artist</th>\n",
       "      <th>genre</th>\n",
       "      <th>city</th>\n",
       "      <th>time</th>\n",
       "      <th>day</th>\n",
       "    </tr>\n",
       "  </thead>\n",
       "  <tbody>\n",
       "    <tr>\n",
       "      <td>0</td>\n",
       "      <td>FFB692EC</td>\n",
       "      <td>Kamigata To Boots</td>\n",
       "      <td>The Mass Missile</td>\n",
       "      <td>rock</td>\n",
       "      <td>Saint-Petersburg</td>\n",
       "      <td>20:28:33</td>\n",
       "      <td>Wednesday</td>\n",
       "    </tr>\n",
       "    <tr>\n",
       "      <td>2</td>\n",
       "      <td>20EC38</td>\n",
       "      <td>Funiculì funiculà</td>\n",
       "      <td>Mario Lanza</td>\n",
       "      <td>pop</td>\n",
       "      <td>Saint-Petersburg</td>\n",
       "      <td>20:58:07</td>\n",
       "      <td>Wednesday</td>\n",
       "    </tr>\n",
       "    <tr>\n",
       "      <td>3</td>\n",
       "      <td>A3DD03C9</td>\n",
       "      <td>Dragons in the Sunset</td>\n",
       "      <td>Fire + Ice</td>\n",
       "      <td>folk</td>\n",
       "      <td>Saint-Petersburg</td>\n",
       "      <td>08:37:09</td>\n",
       "      <td>Monday</td>\n",
       "    </tr>\n",
       "    <tr>\n",
       "      <td>5</td>\n",
       "      <td>842029A1</td>\n",
       "      <td>Преданная</td>\n",
       "      <td>IMPERVTOR</td>\n",
       "      <td>rusrap</td>\n",
       "      <td>Saint-Petersburg</td>\n",
       "      <td>13:09:41</td>\n",
       "      <td>Friday</td>\n",
       "    </tr>\n",
       "    <tr>\n",
       "      <td>9</td>\n",
       "      <td>E772D5C0</td>\n",
       "      <td>Pessimist</td>\n",
       "      <td>unknown</td>\n",
       "      <td>dance</td>\n",
       "      <td>Saint-Petersburg</td>\n",
       "      <td>21:20:49</td>\n",
       "      <td>Wednesday</td>\n",
       "    </tr>\n",
       "  </tbody>\n",
       "</table>\n",
       "</div>"
      ],
      "text/plain": [
       "    user_id                  track            artist   genre  \\\n",
       "0  FFB692EC      Kamigata To Boots  The Mass Missile    rock   \n",
       "2    20EC38      Funiculì funiculà       Mario Lanza     pop   \n",
       "3  A3DD03C9  Dragons in the Sunset        Fire + Ice    folk   \n",
       "5  842029A1              Преданная         IMPERVTOR  rusrap   \n",
       "9  E772D5C0              Pessimist           unknown   dance   \n",
       "\n",
       "               city      time        day  \n",
       "0  Saint-Petersburg  20:28:33  Wednesday  \n",
       "2  Saint-Petersburg  20:58:07  Wednesday  \n",
       "3  Saint-Petersburg  08:37:09     Monday  \n",
       "5  Saint-Petersburg  13:09:41     Friday  \n",
       "9  Saint-Petersburg  21:20:49  Wednesday  "
      ]
     },
     "execution_count": 29,
     "metadata": {},
     "output_type": "execute_result"
    }
   ],
   "source": [
    "# получение таблицы spb_general из тех строк таблицы df,\n",
    "# для которых значение в столбце 'city' равно 'Saint-Petersburg'\n",
    "spb_general = df[df['city'] == 'Saint-Petersburg']\n",
    "spb_general.head()"
   ]
  },
  {
   "cell_type": "code",
   "execution_count": 30,
   "metadata": {
    "id": "laJT9BYl_Zcu"
   },
   "outputs": [],
   "source": [
    "# Объявление функции genre_weekday() с параметрами table, day, time1, time2,\n",
    "# которая возвращает информацию о самых популярных жанрах в указанный день в заданное время:\n",
    "def genre_weekday(df, day, time1, time2):\n",
    "    genre_df = df[df['day'] == day]\n",
    "    genre_df = genre_df[genre_df['time'] < time2]\n",
    "    genre_df = genre_df[genre_df['time'] > time1]\n",
    "    genre_df_grouped = genre_df.groupby('genre')['genre'].count()\n",
    "    genre_df_sorted = genre_df_grouped.sort_values(ascending=False)\n",
    "    return genre_df_sorted.head(10)\n"
   ]
  },
  {
   "cell_type": "markdown",
   "metadata": {
    "id": "la2s2_PF_Zcu"
   },
   "source": [
    "Cравним результаты функции `genre_weekday()` для Москвы и Санкт-Петербурга в понедельник утром (с 7:00 до 11:00) и в пятницу вечером (с 17:00 до 23:00):"
   ]
  },
  {
   "cell_type": "code",
   "execution_count": 31,
   "metadata": {
    "id": "yz7itPUQ_Zcu"
   },
   "outputs": [
    {
     "data": {
      "text/plain": [
       "genre\n",
       "pop            781\n",
       "dance          549\n",
       "electronic     480\n",
       "rock           474\n",
       "hiphop         286\n",
       "ruspop         186\n",
       "world          181\n",
       "rusrap         175\n",
       "alternative    164\n",
       "unknown        161\n",
       "Name: genre, dtype: int64"
      ]
     },
     "execution_count": 31,
     "metadata": {},
     "output_type": "execute_result"
    }
   ],
   "source": [
    "# вызов функции для утра понедельника в Москве (вместо df — таблица moscow_general)\n",
    "# объекты, хранящие время, являются строками и сравниваются как строки\n",
    "genre_weekday(moscow_general, 'Monday', '07:00', '11:00')"
   ]
  },
  {
   "cell_type": "code",
   "execution_count": 32,
   "metadata": {
    "id": "kwUcHPdy_Zcu"
   },
   "outputs": [
    {
     "data": {
      "text/plain": [
       "genre\n",
       "pop            218\n",
       "dance          182\n",
       "rock           162\n",
       "electronic     147\n",
       "hiphop          80\n",
       "ruspop          64\n",
       "alternative     58\n",
       "rusrap          55\n",
       "jazz            44\n",
       "classical       40\n",
       "Name: genre, dtype: int64"
      ]
     },
     "execution_count": 32,
     "metadata": {},
     "output_type": "execute_result"
    }
   ],
   "source": [
    "# вызов функции для утра понедельника в Петербурге (вместо df — таблица spb_general)\n",
    "genre_weekday(spb_general, 'Monday', '07:00', '11:00')"
   ]
  },
  {
   "cell_type": "code",
   "execution_count": 33,
   "metadata": {
    "id": "EzXVRE1o_Zcu"
   },
   "outputs": [
    {
     "data": {
      "text/plain": [
       "genre\n",
       "pop            713\n",
       "rock           517\n",
       "dance          495\n",
       "electronic     482\n",
       "hiphop         273\n",
       "world          208\n",
       "ruspop         170\n",
       "alternative    163\n",
       "classical      163\n",
       "rusrap         142\n",
       "Name: genre, dtype: int64"
      ]
     },
     "execution_count": 33,
     "metadata": {},
     "output_type": "execute_result"
    }
   ],
   "source": [
    "# вызов функции для вечера пятницы в Москве\n",
    "genre_weekday(moscow_general, 'Friday', '17:00', '23:00')"
   ]
  },
  {
   "cell_type": "code",
   "execution_count": 34,
   "metadata": {
    "id": "JZaEKu5v_Zcu"
   },
   "outputs": [
    {
     "data": {
      "text/plain": [
       "genre\n",
       "pop            256\n",
       "rock           216\n",
       "electronic     216\n",
       "dance          210\n",
       "hiphop          97\n",
       "alternative     63\n",
       "jazz            61\n",
       "classical       60\n",
       "rusrap          59\n",
       "world           54\n",
       "Name: genre, dtype: int64"
      ]
     },
     "execution_count": 34,
     "metadata": {},
     "output_type": "execute_result"
    }
   ],
   "source": [
    "# вызов функции для вечера пятницы в Петербурге\n",
    "genre_weekday(spb_general, 'Friday', '17:00', '23:00')"
   ]
  },
  {
   "cell_type": "markdown",
   "metadata": {
    "id": "wrCe4MNX_Zcu"
   },
   "source": [
    "**Выводы**\n",
    "\n",
    "Если сравнить топ-10 жанров в понедельник утром, можно сделать такие выводы:\n",
    "\n",
    "1. В Москве и Петербурге слушают похожую музыку. Единственное отличие — в московский рейтинг вошёл жанр “world”, а в петербургский — джаз и классика.\n",
    "\n",
    "2. В Москве пропущенных значений оказалось так много, что значение `'unknown'` заняло десятое место среди самых популярных жанров. Значит, пропущенные значения занимают существенную долю в данных и угрожают достоверности исследования.\n",
    "\n",
    "Вечер пятницы не меняет эту картину. Некоторые жанры поднимаются немного выше, другие спускаются, но в целом топ-10 остаётся тем же самым.\n",
    "\n",
    "Таким образом, вторая гипотеза подтвердилась лишь частично:\n",
    "* Пользователи слушают похожую музыку в начале недели и в конце.\n",
    "* Разница между Москвой и Петербургом не слишком выражена. В Москве чаще слушают русскую популярную музыку, в Петербурге — джаз.\n",
    "\n",
    "Однако пропуски в данных ставят под сомнение этот результат. В Москве их так много, что рейтинг топ-10 мог бы выглядеть иначе, если бы не утерянные  данные о жанрах."
   ]
  },
  {
   "cell_type": "markdown",
   "metadata": {
    "id": "JolODAqr_Zcu"
   },
   "source": [
    "### Жанровые предпочтения в Москве и Петербурге\n",
    "\n",
    "Гипотеза: Петербург — столица рэпа, музыку этого жанра там слушают чаще, чем в Москве.  А Москва — город контрастов, в котором, тем не менее, преобладает поп-музыка."
   ]
  },
  {
   "cell_type": "code",
   "execution_count": 35,
   "metadata": {
    "id": "r19lIPke_Zcu"
   },
   "outputs": [],
   "source": [
    "# одной строкой: группировка таблицы moscow_general по столбцу 'genre', \n",
    "# подсчёт числа значений 'genre' в этой группировке методом count(), \n",
    "# сортировка получившегося Series в порядке убывания и сохранение в moscow_genres\n",
    "moscow_genres = moscow_general.groupby('genre')['genre'].count().sort_values(ascending=False)"
   ]
  },
  {
   "cell_type": "markdown",
   "metadata": {
    "id": "6kMuomxTiIr8"
   },
   "source": [
    "Выведим на экран первые десять строк `moscow_genres`:"
   ]
  },
  {
   "cell_type": "code",
   "execution_count": 36,
   "metadata": {
    "id": "WhCSooF8_Zcv"
   },
   "outputs": [
    {
     "data": {
      "text/plain": [
       "genre\n",
       "pop            5892\n",
       "dance          4435\n",
       "rock           3965\n",
       "electronic     3786\n",
       "hiphop         2096\n",
       "classical      1616\n",
       "world          1432\n",
       "alternative    1379\n",
       "ruspop         1372\n",
       "rusrap         1161\n",
       "Name: genre, dtype: int64"
      ]
     },
     "metadata": {},
     "output_type": "display_data"
    }
   ],
   "source": [
    "# просмотр первых 10 строк moscow_genres\n",
    "display(moscow_genres.head(10))"
   ]
  },
  {
   "cell_type": "code",
   "execution_count": 37,
   "metadata": {
    "id": "gluLIpE7_Zcv"
   },
   "outputs": [],
   "source": [
    "# одной строкой: группировка таблицы spb_general по столбцу 'genre', \n",
    "# подсчёт числа значений 'genre' в этой группировке методом count(), \n",
    "# сортировка получившегося Series в порядке убывания и сохранение в spb_genres\n",
    "spb_genres = spb_general.groupby('genre')['genre'].count().sort_values(ascending=False)"
   ]
  },
  {
   "cell_type": "code",
   "execution_count": 38,
   "metadata": {
    "id": "uaGJHjVU_Zcv"
   },
   "outputs": [
    {
     "data": {
      "text/plain": [
       "genre\n",
       "pop            2431\n",
       "dance          1932\n",
       "rock           1879\n",
       "electronic     1736\n",
       "hiphop          960\n",
       "alternative     649\n",
       "classical       646\n",
       "rusrap          564\n",
       "ruspop          538\n",
       "world           515\n",
       "Name: genre, dtype: int64"
      ]
     },
     "metadata": {},
     "output_type": "display_data"
    }
   ],
   "source": [
    "# просмотр первых 10 строк spb_genres\n",
    "display(spb_genres.head(10))"
   ]
  },
  {
   "cell_type": "markdown",
   "metadata": {
    "id": "RY51YJYu_Zcv"
   },
   "source": [
    "**Выводы**"
   ]
  },
  {
   "cell_type": "markdown",
   "metadata": {
    "id": "nVhnJEm__Zcv"
   },
   "source": [
    "Гипотеза частично подтвердилась:\n",
    "* Поп-музыка — самый популярный жанр в Москве, как и предполагала гипотеза. Более того, в топ-10 жанров встречается близкий жанр — русская популярная музыка.\n",
    "* Вопреки ожиданиям, рэп одинаково популярен в Москве и Петербурге. \n"
   ]
  },
  {
   "cell_type": "markdown",
   "metadata": {
    "id": "ykKQ0N65_Zcv"
   },
   "source": [
    "## Итоги исследования"
   ]
  },
  {
   "cell_type": "markdown",
   "metadata": {
    "id": "tjUwbHb3_Zcv"
   },
   "source": [
    "Вы проверили три гипотезы и установили:\n",
    "\n",
    "1. День недели по-разному влияет на активность пользователей в Москве и Петербурге. \n",
    "\n",
    "Первая гипотеза полностью подтвердилась.\n",
    "\n",
    "2. Музыкальные предпочтения не сильно меняются в течение недели — будь то Москва или Петербург. Небольшие различия заметны в начале недели, по понедельникам:\n",
    "* в Москве слушают музыку жанра “world”,\n",
    "* в Петербурге — джаз и классику.\n",
    "\n",
    "Таким образом, вторая гипотеза подтвердилась лишь отчасти. Этот результат мог оказаться иным, если бы не пропуски в данных.\n",
    "\n",
    "3. Во вкусах пользователей Москвы и Петербурга больше общего чем различий. Вопреки ожиданиям, предпочтения жанров в Петербурге напоминают московские.\n",
    "\n",
    "Третья гипотеза не подтвердилась. Если различия в предпочтениях и существуют, на основной массе пользователей они незаметны.\n"
   ]
  }
 ],
 "metadata": {
  "ExecuteTimeLog": [
   {
    "duration": 351,
    "start_time": "2022-02-20T06:17:11.437Z"
   },
   {
    "duration": 310,
    "start_time": "2022-02-20T06:17:22.197Z"
   },
   {
    "duration": 338,
    "start_time": "2022-02-20T06:17:49.941Z"
   },
   {
    "duration": 328,
    "start_time": "2022-02-20T06:18:03.994Z"
   },
   {
    "duration": 617,
    "start_time": "2022-02-20T06:18:24.006Z"
   },
   {
    "duration": 574,
    "start_time": "2022-02-20T06:18:46.948Z"
   },
   {
    "duration": 139,
    "start_time": "2022-02-20T06:18:47.524Z"
   },
   {
    "duration": 15,
    "start_time": "2022-02-20T06:18:47.666Z"
   },
   {
    "duration": 3,
    "start_time": "2022-02-20T06:18:47.683Z"
   },
   {
    "duration": 4,
    "start_time": "2022-02-20T06:18:47.687Z"
   },
   {
    "duration": 4,
    "start_time": "2022-02-20T06:18:47.692Z"
   },
   {
    "duration": 5,
    "start_time": "2022-02-20T06:18:47.697Z"
   },
   {
    "duration": 3,
    "start_time": "2022-02-20T06:18:47.704Z"
   },
   {
    "duration": 23,
    "start_time": "2022-02-20T06:18:47.709Z"
   },
   {
    "duration": 3,
    "start_time": "2022-02-20T06:18:47.733Z"
   },
   {
    "duration": 6,
    "start_time": "2022-02-20T06:18:47.738Z"
   },
   {
    "duration": 8,
    "start_time": "2022-02-20T06:18:47.745Z"
   },
   {
    "duration": 7,
    "start_time": "2022-02-20T06:18:47.754Z"
   },
   {
    "duration": 8,
    "start_time": "2022-02-20T06:18:47.762Z"
   },
   {
    "duration": 7,
    "start_time": "2022-02-20T06:18:47.771Z"
   },
   {
    "duration": 7,
    "start_time": "2022-02-20T06:18:47.780Z"
   },
   {
    "duration": 7,
    "start_time": "2022-02-20T06:18:47.789Z"
   },
   {
    "duration": 7,
    "start_time": "2022-02-20T06:18:47.798Z"
   },
   {
    "duration": 7,
    "start_time": "2022-02-20T06:18:47.806Z"
   },
   {
    "duration": 10,
    "start_time": "2022-02-20T06:18:47.814Z"
   },
   {
    "duration": 9,
    "start_time": "2022-02-20T06:18:47.826Z"
   },
   {
    "duration": 8,
    "start_time": "2022-02-20T06:18:47.836Z"
   },
   {
    "duration": 7,
    "start_time": "2022-02-20T06:18:47.847Z"
   },
   {
    "duration": 8,
    "start_time": "2022-02-20T06:18:47.856Z"
   },
   {
    "duration": 12,
    "start_time": "2022-02-20T06:18:47.865Z"
   },
   {
    "duration": 9,
    "start_time": "2022-02-20T06:18:47.878Z"
   },
   {
    "duration": 9,
    "start_time": "2022-02-20T06:18:47.888Z"
   },
   {
    "duration": 7,
    "start_time": "2022-02-20T06:18:47.899Z"
   },
   {
    "duration": 8,
    "start_time": "2022-02-20T06:18:47.907Z"
   },
   {
    "duration": 8,
    "start_time": "2022-02-20T06:18:47.917Z"
   },
   {
    "duration": 13,
    "start_time": "2022-02-20T06:18:47.926Z"
   },
   {
    "duration": 8,
    "start_time": "2022-02-20T06:18:47.940Z"
   },
   {
    "duration": 14,
    "start_time": "2022-02-20T06:18:47.949Z"
   },
   {
    "duration": 8,
    "start_time": "2022-02-20T06:18:47.964Z"
   },
   {
    "duration": 8,
    "start_time": "2022-02-20T06:18:47.974Z"
   },
   {
    "duration": 8,
    "start_time": "2022-02-20T06:18:47.984Z"
   },
   {
    "duration": 11,
    "start_time": "2022-02-20T06:18:47.993Z"
   },
   {
    "duration": 7,
    "start_time": "2022-02-20T06:18:48.005Z"
   },
   {
    "duration": 8,
    "start_time": "2022-02-20T06:20:17.262Z"
   },
   {
    "duration": 7,
    "start_time": "2022-02-20T06:21:20.008Z"
   },
   {
    "duration": 22,
    "start_time": "2022-02-20T06:22:21.137Z"
   },
   {
    "duration": 4,
    "start_time": "2022-02-20T06:29:31.887Z"
   },
   {
    "duration": 20,
    "start_time": "2022-02-20T06:31:49.552Z"
   },
   {
    "duration": 4,
    "start_time": "2022-02-20T06:31:51.992Z"
   },
   {
    "duration": 18,
    "start_time": "2022-02-20T06:33:06.293Z"
   },
   {
    "duration": 4,
    "start_time": "2022-02-20T06:33:08.748Z"
   },
   {
    "duration": 588,
    "start_time": "2022-02-20T06:33:18.635Z"
   },
   {
    "duration": 134,
    "start_time": "2022-02-20T06:33:19.225Z"
   },
   {
    "duration": 16,
    "start_time": "2022-02-20T06:33:19.361Z"
   },
   {
    "duration": 25,
    "start_time": "2022-02-20T06:33:19.379Z"
   },
   {
    "duration": 3,
    "start_time": "2022-02-20T06:33:19.406Z"
   },
   {
    "duration": 34,
    "start_time": "2022-02-20T06:33:19.410Z"
   },
   {
    "duration": 4,
    "start_time": "2022-02-20T06:33:19.445Z"
   },
   {
    "duration": 3,
    "start_time": "2022-02-20T06:33:19.452Z"
   },
   {
    "duration": 5,
    "start_time": "2022-02-20T06:33:19.457Z"
   },
   {
    "duration": 4,
    "start_time": "2022-02-20T06:33:19.463Z"
   },
   {
    "duration": 7,
    "start_time": "2022-02-20T06:33:19.469Z"
   },
   {
    "duration": 8,
    "start_time": "2022-02-20T06:33:19.477Z"
   },
   {
    "duration": 9,
    "start_time": "2022-02-20T06:33:19.486Z"
   },
   {
    "duration": 9,
    "start_time": "2022-02-20T06:33:19.496Z"
   },
   {
    "duration": 8,
    "start_time": "2022-02-20T06:33:19.507Z"
   },
   {
    "duration": 9,
    "start_time": "2022-02-20T06:33:19.517Z"
   },
   {
    "duration": 10,
    "start_time": "2022-02-20T06:33:19.527Z"
   },
   {
    "duration": 8,
    "start_time": "2022-02-20T06:33:19.539Z"
   },
   {
    "duration": 8,
    "start_time": "2022-02-20T06:33:19.548Z"
   },
   {
    "duration": 8,
    "start_time": "2022-02-20T06:33:19.558Z"
   },
   {
    "duration": 12,
    "start_time": "2022-02-20T06:33:19.567Z"
   },
   {
    "duration": 9,
    "start_time": "2022-02-20T06:33:19.580Z"
   },
   {
    "duration": 6,
    "start_time": "2022-02-20T06:33:19.592Z"
   },
   {
    "duration": 10,
    "start_time": "2022-02-20T06:33:19.600Z"
   },
   {
    "duration": 8,
    "start_time": "2022-02-20T06:33:19.612Z"
   },
   {
    "duration": 11,
    "start_time": "2022-02-20T06:33:19.621Z"
   },
   {
    "duration": 11,
    "start_time": "2022-02-20T06:33:19.633Z"
   },
   {
    "duration": 7,
    "start_time": "2022-02-20T06:33:19.646Z"
   },
   {
    "duration": 9,
    "start_time": "2022-02-20T06:33:19.654Z"
   },
   {
    "duration": 8,
    "start_time": "2022-02-20T06:33:19.664Z"
   },
   {
    "duration": 11,
    "start_time": "2022-02-20T06:33:19.673Z"
   },
   {
    "duration": 10,
    "start_time": "2022-02-20T06:33:19.686Z"
   },
   {
    "duration": 12,
    "start_time": "2022-02-20T06:33:19.697Z"
   },
   {
    "duration": 8,
    "start_time": "2022-02-20T06:33:19.710Z"
   },
   {
    "duration": 8,
    "start_time": "2022-02-20T06:33:19.719Z"
   },
   {
    "duration": 11,
    "start_time": "2022-02-20T06:33:19.728Z"
   },
   {
    "duration": 7,
    "start_time": "2022-02-20T06:33:19.741Z"
   },
   {
    "duration": 7,
    "start_time": "2022-02-20T06:33:19.750Z"
   },
   {
    "duration": 21,
    "start_time": "2022-02-20T06:33:52.035Z"
   },
   {
    "duration": 4,
    "start_time": "2022-02-20T06:33:55.445Z"
   },
   {
    "duration": 2,
    "start_time": "2022-02-20T06:37:49.077Z"
   },
   {
    "duration": 23,
    "start_time": "2022-02-20T06:38:28.405Z"
   },
   {
    "duration": 17,
    "start_time": "2022-02-20T06:56:50.072Z"
   },
   {
    "duration": 3,
    "start_time": "2022-02-20T06:56:53.089Z"
   },
   {
    "duration": 34,
    "start_time": "2022-02-20T06:57:33.649Z"
   },
   {
    "duration": 54,
    "start_time": "2022-02-20T07:00:41.754Z"
   },
   {
    "duration": 58,
    "start_time": "2022-02-20T07:03:06.415Z"
   },
   {
    "duration": 44,
    "start_time": "2022-02-20T07:03:16.528Z"
   },
   {
    "duration": 9,
    "start_time": "2022-02-20T07:05:52.800Z"
   },
   {
    "duration": 3,
    "start_time": "2022-02-20T07:29:19.113Z"
   },
   {
    "duration": 652,
    "start_time": "2022-02-20T07:29:20.990Z"
   },
   {
    "duration": 108,
    "start_time": "2022-02-20T07:34:47.615Z"
   },
   {
    "duration": 98,
    "start_time": "2022-02-20T07:34:59.363Z"
   },
   {
    "duration": 729,
    "start_time": "2022-02-20T07:35:01.487Z"
   },
   {
    "duration": 743,
    "start_time": "2022-02-20T07:35:49.639Z"
   },
   {
    "duration": 101,
    "start_time": "2022-02-20T07:37:10.768Z"
   },
   {
    "duration": 3,
    "start_time": "2022-02-20T07:45:40.156Z"
   },
   {
    "duration": 11,
    "start_time": "2022-02-20T07:46:08.072Z"
   },
   {
    "duration": 13,
    "start_time": "2022-02-20T07:46:14.696Z"
   },
   {
    "duration": 5,
    "start_time": "2022-02-20T07:46:55.900Z"
   },
   {
    "duration": 6,
    "start_time": "2022-02-20T07:47:20.724Z"
   },
   {
    "duration": 6,
    "start_time": "2022-02-20T07:48:55.833Z"
   },
   {
    "duration": 324,
    "start_time": "2022-02-20T07:49:32.050Z"
   },
   {
    "duration": 573,
    "start_time": "2022-02-20T07:49:48.828Z"
   },
   {
    "duration": 121,
    "start_time": "2022-02-20T07:49:49.403Z"
   },
   {
    "duration": 15,
    "start_time": "2022-02-20T07:49:49.526Z"
   },
   {
    "duration": 23,
    "start_time": "2022-02-20T07:49:49.543Z"
   },
   {
    "duration": 3,
    "start_time": "2022-02-20T07:49:49.568Z"
   },
   {
    "duration": 20,
    "start_time": "2022-02-20T07:49:49.573Z"
   },
   {
    "duration": 4,
    "start_time": "2022-02-20T07:49:49.594Z"
   },
   {
    "duration": 47,
    "start_time": "2022-02-20T07:49:49.599Z"
   },
   {
    "duration": 15,
    "start_time": "2022-02-20T07:49:49.649Z"
   },
   {
    "duration": 22,
    "start_time": "2022-02-20T07:49:49.666Z"
   },
   {
    "duration": 71,
    "start_time": "2022-02-20T07:49:49.690Z"
   },
   {
    "duration": 69,
    "start_time": "2022-02-20T07:49:49.763Z"
   },
   {
    "duration": 46,
    "start_time": "2022-02-20T07:49:49.834Z"
   },
   {
    "duration": 8,
    "start_time": "2022-02-20T07:49:49.882Z"
   },
   {
    "duration": 3,
    "start_time": "2022-02-20T07:49:49.891Z"
   },
   {
    "duration": 12,
    "start_time": "2022-02-20T07:49:49.896Z"
   },
   {
    "duration": 27,
    "start_time": "2022-02-20T07:49:49.909Z"
   },
   {
    "duration": 3,
    "start_time": "2022-02-20T07:49:49.938Z"
   },
   {
    "duration": 3,
    "start_time": "2022-02-20T07:49:49.942Z"
   },
   {
    "duration": 3,
    "start_time": "2022-02-20T07:49:49.947Z"
   },
   {
    "duration": 9,
    "start_time": "2022-02-20T07:49:49.952Z"
   },
   {
    "duration": 8,
    "start_time": "2022-02-20T07:49:49.963Z"
   },
   {
    "duration": 9,
    "start_time": "2022-02-20T07:49:49.973Z"
   },
   {
    "duration": 8,
    "start_time": "2022-02-20T07:49:49.983Z"
   },
   {
    "duration": 8,
    "start_time": "2022-02-20T07:49:49.992Z"
   },
   {
    "duration": 10,
    "start_time": "2022-02-20T07:49:50.001Z"
   },
   {
    "duration": 6,
    "start_time": "2022-02-20T07:49:50.015Z"
   },
   {
    "duration": 8,
    "start_time": "2022-02-20T07:49:50.022Z"
   },
   {
    "duration": 8,
    "start_time": "2022-02-20T07:49:50.031Z"
   },
   {
    "duration": 8,
    "start_time": "2022-02-20T07:49:50.041Z"
   },
   {
    "duration": 11,
    "start_time": "2022-02-20T07:49:50.051Z"
   },
   {
    "duration": 8,
    "start_time": "2022-02-20T07:49:50.063Z"
   },
   {
    "duration": 14,
    "start_time": "2022-02-20T07:49:50.072Z"
   },
   {
    "duration": 8,
    "start_time": "2022-02-20T07:49:50.088Z"
   },
   {
    "duration": 10,
    "start_time": "2022-02-20T07:49:50.098Z"
   },
   {
    "duration": 9,
    "start_time": "2022-02-20T07:49:50.109Z"
   },
   {
    "duration": 7,
    "start_time": "2022-02-20T07:49:50.119Z"
   },
   {
    "duration": 9,
    "start_time": "2022-02-20T07:49:50.127Z"
   },
   {
    "duration": 13,
    "start_time": "2022-02-20T07:54:11.374Z"
   },
   {
    "duration": 6,
    "start_time": "2022-02-20T07:54:13.102Z"
   },
   {
    "duration": 29,
    "start_time": "2022-02-20T07:58:28.572Z"
   },
   {
    "duration": 352,
    "start_time": "2022-02-20T07:59:49.036Z"
   },
   {
    "duration": 27,
    "start_time": "2022-02-20T08:00:01.240Z"
   },
   {
    "duration": 4,
    "start_time": "2022-02-20T08:07:21.963Z"
   },
   {
    "duration": 17,
    "start_time": "2022-02-20T08:09:00.676Z"
   },
   {
    "duration": 15,
    "start_time": "2022-02-20T08:09:01.584Z"
   },
   {
    "duration": 14,
    "start_time": "2022-02-20T08:09:02.608Z"
   },
   {
    "duration": 13,
    "start_time": "2022-02-20T08:09:03.248Z"
   },
   {
    "duration": 16,
    "start_time": "2022-02-20T08:09:03.812Z"
   },
   {
    "duration": 13,
    "start_time": "2022-02-20T08:09:06.344Z"
   },
   {
    "duration": 4,
    "start_time": "2022-02-20T08:11:11.085Z"
   },
   {
    "duration": 8,
    "start_time": "2022-02-20T08:11:37.265Z"
   },
   {
    "duration": 8,
    "start_time": "2022-02-20T08:12:05.038Z"
   },
   {
    "duration": 18,
    "start_time": "2022-02-20T08:14:33.874Z"
   },
   {
    "duration": 10,
    "start_time": "2022-02-20T08:14:51.774Z"
   },
   {
    "duration": 9,
    "start_time": "2022-02-20T08:15:06.142Z"
   },
   {
    "duration": 99,
    "start_time": "2022-02-20T08:26:20.835Z"
   },
   {
    "duration": 4,
    "start_time": "2022-02-20T08:27:36.107Z"
   },
   {
    "duration": 3,
    "start_time": "2022-02-20T08:28:19.631Z"
   },
   {
    "duration": 17,
    "start_time": "2022-02-20T08:29:39.572Z"
   },
   {
    "duration": 17,
    "start_time": "2022-02-20T08:30:32.752Z"
   },
   {
    "duration": 564,
    "start_time": "2022-02-20T08:30:51.071Z"
   },
   {
    "duration": 132,
    "start_time": "2022-02-20T08:30:51.636Z"
   },
   {
    "duration": 14,
    "start_time": "2022-02-20T08:30:51.770Z"
   },
   {
    "duration": 22,
    "start_time": "2022-02-20T08:30:51.785Z"
   },
   {
    "duration": 3,
    "start_time": "2022-02-20T08:30:51.809Z"
   },
   {
    "duration": 34,
    "start_time": "2022-02-20T08:30:51.813Z"
   },
   {
    "duration": 4,
    "start_time": "2022-02-20T08:30:51.848Z"
   },
   {
    "duration": 20,
    "start_time": "2022-02-20T08:30:51.854Z"
   },
   {
    "duration": 14,
    "start_time": "2022-02-20T08:30:51.876Z"
   },
   {
    "duration": 43,
    "start_time": "2022-02-20T08:30:51.892Z"
   },
   {
    "duration": 52,
    "start_time": "2022-02-20T08:30:51.936Z"
   },
   {
    "duration": 78,
    "start_time": "2022-02-20T08:30:51.989Z"
   },
   {
    "duration": 47,
    "start_time": "2022-02-20T08:30:52.069Z"
   },
   {
    "duration": 18,
    "start_time": "2022-02-20T08:30:52.118Z"
   },
   {
    "duration": 3,
    "start_time": "2022-02-20T08:30:52.138Z"
   },
   {
    "duration": 13,
    "start_time": "2022-02-20T08:30:52.142Z"
   },
   {
    "duration": 6,
    "start_time": "2022-02-20T08:30:52.156Z"
   },
   {
    "duration": 28,
    "start_time": "2022-02-20T08:30:52.164Z"
   },
   {
    "duration": 47,
    "start_time": "2022-02-20T08:30:52.193Z"
   },
   {
    "duration": 3,
    "start_time": "2022-02-20T08:30:52.241Z"
   },
   {
    "duration": 21,
    "start_time": "2022-02-20T08:30:52.246Z"
   },
   {
    "duration": 12,
    "start_time": "2022-02-20T08:30:52.269Z"
   },
   {
    "duration": 13,
    "start_time": "2022-02-20T08:30:52.284Z"
   },
   {
    "duration": 33,
    "start_time": "2022-02-20T08:30:52.299Z"
   },
   {
    "duration": 14,
    "start_time": "2022-02-20T08:30:52.334Z"
   },
   {
    "duration": 13,
    "start_time": "2022-02-20T08:30:52.349Z"
   },
   {
    "duration": 8,
    "start_time": "2022-02-20T08:30:52.364Z"
   },
   {
    "duration": 13,
    "start_time": "2022-02-20T08:30:52.373Z"
   },
   {
    "duration": 8,
    "start_time": "2022-02-20T08:30:52.388Z"
   },
   {
    "duration": 35,
    "start_time": "2022-02-20T08:30:52.398Z"
   },
   {
    "duration": 22,
    "start_time": "2022-02-20T08:30:52.435Z"
   },
   {
    "duration": 2,
    "start_time": "2022-02-20T08:30:52.458Z"
   },
   {
    "duration": 9,
    "start_time": "2022-02-20T08:30:52.462Z"
   },
   {
    "duration": 12,
    "start_time": "2022-02-20T08:30:52.472Z"
   },
   {
    "duration": 8,
    "start_time": "2022-02-20T08:30:52.485Z"
   },
   {
    "duration": 7,
    "start_time": "2022-02-20T08:30:52.494Z"
   },
   {
    "duration": 11,
    "start_time": "2022-02-20T08:30:52.503Z"
   },
   {
    "duration": 7,
    "start_time": "2022-02-20T08:30:52.515Z"
   },
   {
    "duration": 13,
    "start_time": "2022-02-20T08:34:21.744Z"
   },
   {
    "duration": 4,
    "start_time": "2022-02-20T08:34:48.409Z"
   },
   {
    "duration": 17,
    "start_time": "2022-02-20T08:34:49.853Z"
   },
   {
    "duration": 11,
    "start_time": "2022-02-20T08:34:50.857Z"
   },
   {
    "duration": 12,
    "start_time": "2022-02-20T08:36:23.393Z"
   },
   {
    "duration": 16,
    "start_time": "2022-02-20T08:36:26.198Z"
   },
   {
    "duration": 544,
    "start_time": "2022-02-20T08:36:38.988Z"
   },
   {
    "duration": 145,
    "start_time": "2022-02-20T08:36:39.533Z"
   },
   {
    "duration": 16,
    "start_time": "2022-02-20T08:36:39.680Z"
   },
   {
    "duration": 39,
    "start_time": "2022-02-20T08:36:39.698Z"
   },
   {
    "duration": 5,
    "start_time": "2022-02-20T08:36:39.738Z"
   },
   {
    "duration": 23,
    "start_time": "2022-02-20T08:36:39.744Z"
   },
   {
    "duration": 3,
    "start_time": "2022-02-20T08:36:39.769Z"
   },
   {
    "duration": 22,
    "start_time": "2022-02-20T08:36:39.773Z"
   },
   {
    "duration": 39,
    "start_time": "2022-02-20T08:36:39.798Z"
   },
   {
    "duration": 20,
    "start_time": "2022-02-20T08:36:39.840Z"
   },
   {
    "duration": 52,
    "start_time": "2022-02-20T08:36:39.862Z"
   },
   {
    "duration": 76,
    "start_time": "2022-02-20T08:36:39.915Z"
   },
   {
    "duration": 57,
    "start_time": "2022-02-20T08:36:39.993Z"
   },
   {
    "duration": 9,
    "start_time": "2022-02-20T08:36:40.052Z"
   },
   {
    "duration": 3,
    "start_time": "2022-02-20T08:36:40.062Z"
   },
   {
    "duration": 12,
    "start_time": "2022-02-20T08:36:40.067Z"
   },
   {
    "duration": 10,
    "start_time": "2022-02-20T08:36:40.080Z"
   },
   {
    "duration": 49,
    "start_time": "2022-02-20T08:36:40.091Z"
   },
   {
    "duration": 28,
    "start_time": "2022-02-20T08:36:40.142Z"
   },
   {
    "duration": 3,
    "start_time": "2022-02-20T08:36:40.171Z"
   },
   {
    "duration": 20,
    "start_time": "2022-02-20T08:36:40.176Z"
   },
   {
    "duration": 12,
    "start_time": "2022-02-20T08:36:40.198Z"
   },
   {
    "duration": 15,
    "start_time": "2022-02-20T08:36:40.231Z"
   },
   {
    "duration": 12,
    "start_time": "2022-02-20T08:36:40.247Z"
   },
   {
    "duration": 14,
    "start_time": "2022-02-20T08:36:40.261Z"
   },
   {
    "duration": 12,
    "start_time": "2022-02-20T08:36:40.277Z"
   },
   {
    "duration": 8,
    "start_time": "2022-02-20T08:36:40.292Z"
   },
   {
    "duration": 10,
    "start_time": "2022-02-20T08:36:40.331Z"
   },
   {
    "duration": 8,
    "start_time": "2022-02-20T08:36:40.343Z"
   },
   {
    "duration": 5,
    "start_time": "2022-02-20T08:36:40.352Z"
   },
   {
    "duration": 28,
    "start_time": "2022-02-20T08:36:40.358Z"
   },
   {
    "duration": 11,
    "start_time": "2022-02-20T08:36:40.387Z"
   },
   {
    "duration": 33,
    "start_time": "2022-02-20T08:36:40.399Z"
   },
   {
    "duration": 10,
    "start_time": "2022-02-20T08:36:40.434Z"
   },
   {
    "duration": 2,
    "start_time": "2022-02-20T08:36:40.445Z"
   },
   {
    "duration": 9,
    "start_time": "2022-02-20T08:36:40.449Z"
   },
   {
    "duration": 8,
    "start_time": "2022-02-20T08:36:40.459Z"
   },
   {
    "duration": 9,
    "start_time": "2022-02-20T08:36:40.468Z"
   },
   {
    "duration": 18,
    "start_time": "2022-02-20T08:39:48.973Z"
   },
   {
    "duration": 12,
    "start_time": "2022-02-20T08:40:24.109Z"
   },
   {
    "duration": 10,
    "start_time": "2022-02-20T08:40:25.269Z"
   },
   {
    "duration": 4,
    "start_time": "2022-02-20T08:44:56.843Z"
   },
   {
    "duration": 11,
    "start_time": "2022-02-20T08:44:58.690Z"
   },
   {
    "duration": 8,
    "start_time": "2022-02-20T08:44:59.939Z"
   },
   {
    "duration": 10,
    "start_time": "2022-02-20T08:45:00.903Z"
   },
   {
    "duration": 8,
    "start_time": "2022-02-20T08:45:02.055Z"
   },
   {
    "duration": 100,
    "start_time": "2022-02-20T08:45:19.179Z"
   },
   {
    "duration": 4,
    "start_time": "2022-02-20T08:46:39.963Z"
   },
   {
    "duration": 8223,
    "start_time": "2022-02-20T08:46:42.315Z"
   },
   {
    "duration": -999,
    "start_time": "2022-02-20T08:46:51.540Z"
   },
   {
    "duration": -1001,
    "start_time": "2022-02-20T08:46:51.543Z"
   },
   {
    "duration": 8226,
    "start_time": "2022-02-20T08:46:53.092Z"
   },
   {
    "duration": 4,
    "start_time": "2022-02-20T08:48:40.176Z"
   },
   {
    "duration": 8043,
    "start_time": "2022-02-20T08:48:42.268Z"
   },
   {
    "duration": -962,
    "start_time": "2022-02-20T08:48:51.275Z"
   },
   {
    "duration": -966,
    "start_time": "2022-02-20T08:48:51.280Z"
   },
   {
    "duration": 4,
    "start_time": "2022-02-20T08:50:33.257Z"
   },
   {
    "duration": 17,
    "start_time": "2022-02-20T08:50:34.936Z"
   },
   {
    "duration": 13,
    "start_time": "2022-02-20T08:50:36.993Z"
   },
   {
    "duration": 17,
    "start_time": "2022-02-20T08:50:37.948Z"
   },
   {
    "duration": 5,
    "start_time": "2022-02-20T08:51:59.061Z"
   },
   {
    "duration": 20,
    "start_time": "2022-02-20T08:52:00.521Z"
   },
   {
    "duration": 32,
    "start_time": "2022-02-20T08:52:01.745Z"
   },
   {
    "duration": 18,
    "start_time": "2022-02-20T08:52:02.897Z"
   },
   {
    "duration": 18,
    "start_time": "2022-02-20T08:52:03.737Z"
   },
   {
    "duration": 19,
    "start_time": "2022-02-20T08:52:09.325Z"
   },
   {
    "duration": 4,
    "start_time": "2022-02-20T08:53:16.471Z"
   },
   {
    "duration": 18,
    "start_time": "2022-02-20T08:53:22.042Z"
   },
   {
    "duration": 4,
    "start_time": "2022-02-20T09:00:07.800Z"
   },
   {
    "duration": 17,
    "start_time": "2022-02-20T09:00:09.432Z"
   },
   {
    "duration": 18,
    "start_time": "2022-02-20T09:00:30.261Z"
   },
   {
    "duration": 4,
    "start_time": "2022-02-20T09:01:42.069Z"
   },
   {
    "duration": 586,
    "start_time": "2022-02-20T09:01:43.489Z"
   },
   {
    "duration": 5,
    "start_time": "2022-02-20T09:01:54.557Z"
   },
   {
    "duration": 17,
    "start_time": "2022-02-20T09:01:56.621Z"
   },
   {
    "duration": 13,
    "start_time": "2022-02-20T09:01:57.821Z"
   },
   {
    "duration": 16,
    "start_time": "2022-02-20T09:01:58.677Z"
   },
   {
    "duration": 367,
    "start_time": "2022-02-20T09:02:12.895Z"
   },
   {
    "duration": 4,
    "start_time": "2022-02-20T09:05:13.127Z"
   },
   {
    "duration": 97,
    "start_time": "2022-02-20T09:09:25.973Z"
   },
   {
    "duration": 3,
    "start_time": "2022-02-20T09:09:32.381Z"
   },
   {
    "duration": 319,
    "start_time": "2022-02-20T09:09:35.681Z"
   },
   {
    "duration": 295,
    "start_time": "2022-02-20T09:09:45.213Z"
   },
   {
    "duration": 287,
    "start_time": "2022-02-20T09:09:45.997Z"
   },
   {
    "duration": 605,
    "start_time": "2022-02-20T09:10:00.369Z"
   },
   {
    "duration": 129,
    "start_time": "2022-02-20T09:10:00.976Z"
   },
   {
    "duration": 25,
    "start_time": "2022-02-20T09:10:01.107Z"
   },
   {
    "duration": 22,
    "start_time": "2022-02-20T09:10:01.134Z"
   },
   {
    "duration": 4,
    "start_time": "2022-02-20T09:10:01.157Z"
   },
   {
    "duration": 25,
    "start_time": "2022-02-20T09:10:01.162Z"
   },
   {
    "duration": 3,
    "start_time": "2022-02-20T09:10:01.189Z"
   },
   {
    "duration": 41,
    "start_time": "2022-02-20T09:10:01.195Z"
   },
   {
    "duration": 15,
    "start_time": "2022-02-20T09:10:01.239Z"
   },
   {
    "duration": 20,
    "start_time": "2022-02-20T09:10:01.256Z"
   },
   {
    "duration": 72,
    "start_time": "2022-02-20T09:10:01.278Z"
   },
   {
    "duration": 63,
    "start_time": "2022-02-20T09:10:01.352Z"
   },
   {
    "duration": 60,
    "start_time": "2022-02-20T09:10:01.417Z"
   },
   {
    "duration": 8,
    "start_time": "2022-02-20T09:10:01.478Z"
   },
   {
    "duration": 3,
    "start_time": "2022-02-20T09:10:01.488Z"
   },
   {
    "duration": 17,
    "start_time": "2022-02-20T09:10:01.493Z"
   },
   {
    "duration": 21,
    "start_time": "2022-02-20T09:10:01.512Z"
   },
   {
    "duration": 29,
    "start_time": "2022-02-20T09:10:01.535Z"
   },
   {
    "duration": 29,
    "start_time": "2022-02-20T09:10:01.565Z"
   },
   {
    "duration": 3,
    "start_time": "2022-02-20T09:10:01.596Z"
   },
   {
    "duration": 45,
    "start_time": "2022-02-20T09:10:01.601Z"
   },
   {
    "duration": 14,
    "start_time": "2022-02-20T09:10:01.648Z"
   },
   {
    "duration": 17,
    "start_time": "2022-02-20T09:10:01.665Z"
   },
   {
    "duration": 13,
    "start_time": "2022-02-20T09:10:01.684Z"
   },
   {
    "duration": 40,
    "start_time": "2022-02-20T09:10:01.699Z"
   },
   {
    "duration": 14,
    "start_time": "2022-02-20T09:10:01.741Z"
   },
   {
    "duration": 8,
    "start_time": "2022-02-20T09:10:01.757Z"
   },
   {
    "duration": 16,
    "start_time": "2022-02-20T09:10:01.766Z"
   },
   {
    "duration": 9,
    "start_time": "2022-02-20T09:10:01.784Z"
   },
   {
    "duration": 6,
    "start_time": "2022-02-20T09:10:01.794Z"
   },
   {
    "duration": 52,
    "start_time": "2022-02-20T09:10:01.802Z"
   },
   {
    "duration": 11,
    "start_time": "2022-02-20T09:10:01.856Z"
   },
   {
    "duration": 22,
    "start_time": "2022-02-20T09:10:01.869Z"
   },
   {
    "duration": 11,
    "start_time": "2022-02-20T09:10:01.893Z"
   },
   {
    "duration": 2,
    "start_time": "2022-02-20T09:10:01.906Z"
   },
   {
    "duration": 7,
    "start_time": "2022-02-20T09:10:01.909Z"
   },
   {
    "duration": 2,
    "start_time": "2022-02-20T09:10:01.932Z"
   },
   {
    "duration": 8,
    "start_time": "2022-02-20T09:10:01.935Z"
   },
   {
    "duration": 12,
    "start_time": "2022-02-20T09:10:09.749Z"
   },
   {
    "duration": 9,
    "start_time": "2022-02-20T09:10:10.613Z"
   },
   {
    "duration": 4,
    "start_time": "2022-02-20T09:10:13.433Z"
   },
   {
    "duration": 18,
    "start_time": "2022-02-20T09:10:16.629Z"
   },
   {
    "duration": 12,
    "start_time": "2022-02-20T09:10:19.333Z"
   },
   {
    "duration": 4,
    "start_time": "2022-02-20T09:10:37.077Z"
   },
   {
    "duration": 18,
    "start_time": "2022-02-20T09:10:38.353Z"
   },
   {
    "duration": 12,
    "start_time": "2022-02-20T09:10:39.353Z"
   },
   {
    "duration": 15,
    "start_time": "2022-02-20T09:10:44.042Z"
   },
   {
    "duration": 11,
    "start_time": "2022-02-20T09:10:45.624Z"
   },
   {
    "duration": 4,
    "start_time": "2022-02-20T09:11:33.974Z"
   },
   {
    "duration": 16,
    "start_time": "2022-02-20T09:11:35.162Z"
   },
   {
    "duration": 12,
    "start_time": "2022-02-20T09:11:36.214Z"
   },
   {
    "duration": 4,
    "start_time": "2022-02-20T09:13:06.162Z"
   },
   {
    "duration": 17,
    "start_time": "2022-02-20T09:13:07.426Z"
   },
   {
    "duration": 12,
    "start_time": "2022-02-20T09:13:08.354Z"
   },
   {
    "duration": 20,
    "start_time": "2022-02-20T09:13:37.970Z"
   },
   {
    "duration": 4,
    "start_time": "2022-02-20T09:13:59.026Z"
   },
   {
    "duration": 18,
    "start_time": "2022-02-20T09:14:00.018Z"
   },
   {
    "duration": 4,
    "start_time": "2022-02-20T09:14:58.239Z"
   },
   {
    "duration": 18,
    "start_time": "2022-02-20T09:14:59.747Z"
   },
   {
    "duration": 4,
    "start_time": "2022-02-20T09:20:12.081Z"
   },
   {
    "duration": 16,
    "start_time": "2022-02-20T09:20:13.489Z"
   },
   {
    "duration": 3,
    "start_time": "2022-02-20T09:22:18.996Z"
   },
   {
    "duration": 10,
    "start_time": "2022-02-20T09:22:20.169Z"
   },
   {
    "duration": 8,
    "start_time": "2022-02-20T09:22:21.165Z"
   },
   {
    "duration": 9,
    "start_time": "2022-02-20T09:22:21.998Z"
   },
   {
    "duration": 8,
    "start_time": "2022-02-20T09:22:22.546Z"
   },
   {
    "duration": 582,
    "start_time": "2022-02-20T09:22:32.897Z"
   },
   {
    "duration": 127,
    "start_time": "2022-02-20T09:22:33.481Z"
   },
   {
    "duration": 23,
    "start_time": "2022-02-20T09:22:33.610Z"
   },
   {
    "duration": 27,
    "start_time": "2022-02-20T09:22:33.635Z"
   },
   {
    "duration": 4,
    "start_time": "2022-02-20T09:22:33.664Z"
   },
   {
    "duration": 27,
    "start_time": "2022-02-20T09:22:33.669Z"
   },
   {
    "duration": 3,
    "start_time": "2022-02-20T09:22:33.698Z"
   },
   {
    "duration": 34,
    "start_time": "2022-02-20T09:22:33.704Z"
   },
   {
    "duration": 19,
    "start_time": "2022-02-20T09:22:33.740Z"
   },
   {
    "duration": 33,
    "start_time": "2022-02-20T09:22:33.760Z"
   },
   {
    "duration": 55,
    "start_time": "2022-02-20T09:22:33.795Z"
   },
   {
    "duration": 63,
    "start_time": "2022-02-20T09:22:33.852Z"
   },
   {
    "duration": 53,
    "start_time": "2022-02-20T09:22:33.917Z"
   },
   {
    "duration": 8,
    "start_time": "2022-02-20T09:22:33.972Z"
   },
   {
    "duration": 8,
    "start_time": "2022-02-20T09:22:33.981Z"
   },
   {
    "duration": 25,
    "start_time": "2022-02-20T09:22:33.990Z"
   },
   {
    "duration": 10,
    "start_time": "2022-02-20T09:22:34.017Z"
   },
   {
    "duration": 49,
    "start_time": "2022-02-20T09:22:34.028Z"
   },
   {
    "duration": 28,
    "start_time": "2022-02-20T09:22:34.079Z"
   },
   {
    "duration": 4,
    "start_time": "2022-02-20T09:22:34.108Z"
   },
   {
    "duration": 26,
    "start_time": "2022-02-20T09:22:34.113Z"
   },
   {
    "duration": 20,
    "start_time": "2022-02-20T09:22:34.140Z"
   },
   {
    "duration": 20,
    "start_time": "2022-02-20T09:22:34.162Z"
   },
   {
    "duration": 22,
    "start_time": "2022-02-20T09:22:34.184Z"
   },
   {
    "duration": 22,
    "start_time": "2022-02-20T09:22:34.207Z"
   },
   {
    "duration": 22,
    "start_time": "2022-02-20T09:22:34.231Z"
   },
   {
    "duration": 23,
    "start_time": "2022-02-20T09:22:34.255Z"
   },
   {
    "duration": 21,
    "start_time": "2022-02-20T09:22:34.279Z"
   },
   {
    "duration": 19,
    "start_time": "2022-02-20T09:22:34.301Z"
   },
   {
    "duration": 23,
    "start_time": "2022-02-20T09:22:34.321Z"
   },
   {
    "duration": 27,
    "start_time": "2022-02-20T09:22:34.346Z"
   },
   {
    "duration": 22,
    "start_time": "2022-02-20T09:22:34.375Z"
   },
   {
    "duration": 31,
    "start_time": "2022-02-20T09:22:34.399Z"
   },
   {
    "duration": 31,
    "start_time": "2022-02-20T09:22:34.432Z"
   },
   {
    "duration": 11,
    "start_time": "2022-02-20T09:22:34.465Z"
   },
   {
    "duration": 22,
    "start_time": "2022-02-20T09:22:34.478Z"
   },
   {
    "duration": 13,
    "start_time": "2022-02-20T09:22:34.501Z"
   },
   {
    "duration": 19,
    "start_time": "2022-02-20T09:22:34.515Z"
   },
   {
    "duration": 4,
    "start_time": "2022-02-20T09:25:32.539Z"
   },
   {
    "duration": 890,
    "start_time": "2022-02-20T09:25:33.723Z"
   },
   {
    "duration": 4,
    "start_time": "2022-02-20T09:26:05.999Z"
   },
   {
    "duration": 17,
    "start_time": "2022-02-20T09:26:07.731Z"
   },
   {
    "duration": 12,
    "start_time": "2022-02-20T09:26:08.868Z"
   },
   {
    "duration": 16,
    "start_time": "2022-02-20T09:26:09.563Z"
   },
   {
    "duration": 4,
    "start_time": "2022-02-20T09:26:15.839Z"
   },
   {
    "duration": 16,
    "start_time": "2022-02-20T09:26:17.404Z"
   },
   {
    "duration": 4,
    "start_time": "2022-02-20T09:26:34.071Z"
   },
   {
    "duration": 25,
    "start_time": "2022-02-20T09:26:35.163Z"
   },
   {
    "duration": 4,
    "start_time": "2022-02-20T09:26:54.955Z"
   },
   {
    "duration": 17,
    "start_time": "2022-02-20T09:26:56.135Z"
   },
   {
    "duration": 12,
    "start_time": "2022-02-20T09:26:57.179Z"
   },
   {
    "duration": 15,
    "start_time": "2022-02-20T09:26:57.959Z"
   },
   {
    "duration": 13,
    "start_time": "2022-02-20T09:26:58.519Z"
   },
   {
    "duration": 4,
    "start_time": "2022-02-20T09:28:46.010Z"
   },
   {
    "duration": 18,
    "start_time": "2022-02-20T09:28:46.708Z"
   },
   {
    "duration": 758,
    "start_time": "2022-02-20T09:30:23.128Z"
   },
   {
    "duration": 173,
    "start_time": "2022-02-20T09:30:23.888Z"
   },
   {
    "duration": 23,
    "start_time": "2022-02-20T09:30:24.063Z"
   },
   {
    "duration": 31,
    "start_time": "2022-02-20T09:30:24.088Z"
   },
   {
    "duration": 12,
    "start_time": "2022-02-20T09:30:24.121Z"
   },
   {
    "duration": 19,
    "start_time": "2022-02-20T09:30:24.135Z"
   },
   {
    "duration": 4,
    "start_time": "2022-02-20T09:30:24.155Z"
   },
   {
    "duration": 25,
    "start_time": "2022-02-20T09:30:24.162Z"
   },
   {
    "duration": 47,
    "start_time": "2022-02-20T09:30:24.190Z"
   },
   {
    "duration": 21,
    "start_time": "2022-02-20T09:30:24.239Z"
   },
   {
    "duration": 54,
    "start_time": "2022-02-20T09:30:24.262Z"
   },
   {
    "duration": 76,
    "start_time": "2022-02-20T09:30:24.317Z"
   },
   {
    "duration": 61,
    "start_time": "2022-02-20T09:30:24.395Z"
   },
   {
    "duration": 8,
    "start_time": "2022-02-20T09:30:24.458Z"
   },
   {
    "duration": 3,
    "start_time": "2022-02-20T09:30:24.467Z"
   },
   {
    "duration": 12,
    "start_time": "2022-02-20T09:30:24.472Z"
   },
   {
    "duration": 6,
    "start_time": "2022-02-20T09:30:24.485Z"
   },
   {
    "duration": 59,
    "start_time": "2022-02-20T09:30:24.493Z"
   },
   {
    "duration": 28,
    "start_time": "2022-02-20T09:30:24.553Z"
   },
   {
    "duration": 5,
    "start_time": "2022-02-20T09:30:24.583Z"
   },
   {
    "duration": 26,
    "start_time": "2022-02-20T09:30:24.589Z"
   },
   {
    "duration": 16,
    "start_time": "2022-02-20T09:30:24.632Z"
   },
   {
    "duration": 14,
    "start_time": "2022-02-20T09:30:24.650Z"
   },
   {
    "duration": 18,
    "start_time": "2022-02-20T09:30:24.667Z"
   },
   {
    "duration": 46,
    "start_time": "2022-02-20T09:30:24.688Z"
   },
   {
    "duration": 14,
    "start_time": "2022-02-20T09:30:24.738Z"
   },
   {
    "duration": 8,
    "start_time": "2022-02-20T09:30:24.755Z"
   },
   {
    "duration": 13,
    "start_time": "2022-02-20T09:30:24.765Z"
   },
   {
    "duration": 101,
    "start_time": "2022-02-20T09:30:24.780Z"
   },
   {
    "duration": 4,
    "start_time": "2022-02-20T09:30:24.883Z"
   },
   {
    "duration": 46,
    "start_time": "2022-02-20T09:30:24.889Z"
   },
   {
    "duration": 12,
    "start_time": "2022-02-20T09:30:24.937Z"
   },
   {
    "duration": 23,
    "start_time": "2022-02-20T09:30:24.950Z"
   },
   {
    "duration": 12,
    "start_time": "2022-02-20T09:30:24.975Z"
   },
   {
    "duration": 4,
    "start_time": "2022-02-20T09:30:24.989Z"
   },
   {
    "duration": 10,
    "start_time": "2022-02-20T09:30:24.994Z"
   },
   {
    "duration": 9,
    "start_time": "2022-02-20T09:30:25.006Z"
   },
   {
    "duration": 3,
    "start_time": "2022-02-20T09:30:25.031Z"
   },
   {
    "duration": 18,
    "start_time": "2022-02-20T09:30:43.701Z"
   },
   {
    "duration": 4,
    "start_time": "2022-02-20T09:32:33.666Z"
   },
   {
    "duration": 22,
    "start_time": "2022-02-20T09:32:35.361Z"
   },
   {
    "duration": 21,
    "start_time": "2022-02-20T09:32:36.245Z"
   },
   {
    "duration": 18,
    "start_time": "2022-02-20T09:32:36.701Z"
   },
   {
    "duration": 19,
    "start_time": "2022-02-20T09:32:37.285Z"
   },
   {
    "duration": 3,
    "start_time": "2022-02-20T09:34:58.671Z"
   },
   {
    "duration": 26,
    "start_time": "2022-02-20T09:35:00.255Z"
   },
   {
    "duration": 21,
    "start_time": "2022-02-20T09:37:09.400Z"
   },
   {
    "duration": 22,
    "start_time": "2022-02-20T09:40:06.493Z"
   },
   {
    "duration": 4,
    "start_time": "2022-02-20T10:11:19.385Z"
   },
   {
    "duration": 4,
    "start_time": "2022-02-20T10:11:22.229Z"
   },
   {
    "duration": 17,
    "start_time": "2022-02-20T10:11:23.345Z"
   },
   {
    "duration": 13,
    "start_time": "2022-02-20T10:11:24.281Z"
   },
   {
    "duration": 17,
    "start_time": "2022-02-20T10:11:25.085Z"
   },
   {
    "duration": 19,
    "start_time": "2022-02-20T10:11:38.712Z"
   },
   {
    "duration": 547,
    "start_time": "2022-02-20T10:11:49.767Z"
   },
   {
    "duration": 125,
    "start_time": "2022-02-20T10:11:50.315Z"
   },
   {
    "duration": 15,
    "start_time": "2022-02-20T10:11:50.442Z"
   },
   {
    "duration": 23,
    "start_time": "2022-02-20T10:11:50.458Z"
   },
   {
    "duration": 3,
    "start_time": "2022-02-20T10:11:50.483Z"
   },
   {
    "duration": 19,
    "start_time": "2022-02-20T10:11:50.487Z"
   },
   {
    "duration": 26,
    "start_time": "2022-02-20T10:11:50.507Z"
   },
   {
    "duration": 23,
    "start_time": "2022-02-20T10:11:50.535Z"
   },
   {
    "duration": 17,
    "start_time": "2022-02-20T10:11:50.560Z"
   },
   {
    "duration": 23,
    "start_time": "2022-02-20T10:11:50.579Z"
   },
   {
    "duration": 78,
    "start_time": "2022-02-20T10:11:50.603Z"
   },
   {
    "duration": 76,
    "start_time": "2022-02-20T10:11:50.682Z"
   },
   {
    "duration": 47,
    "start_time": "2022-02-20T10:11:50.760Z"
   },
   {
    "duration": 8,
    "start_time": "2022-02-20T10:11:50.809Z"
   },
   {
    "duration": 2,
    "start_time": "2022-02-20T10:11:50.832Z"
   },
   {
    "duration": 12,
    "start_time": "2022-02-20T10:11:50.836Z"
   },
   {
    "duration": 5,
    "start_time": "2022-02-20T10:11:50.850Z"
   },
   {
    "duration": 28,
    "start_time": "2022-02-20T10:11:50.856Z"
   },
   {
    "duration": 46,
    "start_time": "2022-02-20T10:11:50.886Z"
   },
   {
    "duration": 3,
    "start_time": "2022-02-20T10:11:50.934Z"
   },
   {
    "duration": 18,
    "start_time": "2022-02-20T10:11:50.939Z"
   },
   {
    "duration": 11,
    "start_time": "2022-02-20T10:11:50.959Z"
   },
   {
    "duration": 19,
    "start_time": "2022-02-20T10:11:50.973Z"
   },
   {
    "duration": 23,
    "start_time": "2022-02-20T10:11:50.994Z"
   },
   {
    "duration": 22,
    "start_time": "2022-02-20T10:11:51.019Z"
   },
   {
    "duration": 20,
    "start_time": "2022-02-20T10:11:51.043Z"
   },
   {
    "duration": 8,
    "start_time": "2022-02-20T10:11:51.065Z"
   },
   {
    "duration": 14,
    "start_time": "2022-02-20T10:11:51.074Z"
   },
   {
    "duration": 10,
    "start_time": "2022-02-20T10:11:51.089Z"
   },
   {
    "duration": 6,
    "start_time": "2022-02-20T10:11:51.101Z"
   },
   {
    "duration": 37,
    "start_time": "2022-02-20T10:11:51.109Z"
   },
   {
    "duration": 39,
    "start_time": "2022-02-20T10:11:51.147Z"
   },
   {
    "duration": 14,
    "start_time": "2022-02-20T10:11:51.188Z"
   },
   {
    "duration": 13,
    "start_time": "2022-02-20T10:11:51.204Z"
   },
   {
    "duration": 14,
    "start_time": "2022-02-20T10:11:51.218Z"
   },
   {
    "duration": 9,
    "start_time": "2022-02-20T10:11:51.234Z"
   },
   {
    "duration": 8,
    "start_time": "2022-02-20T10:11:51.244Z"
   },
   {
    "duration": 12,
    "start_time": "2022-02-20T10:11:51.253Z"
   },
   {
    "duration": 4,
    "start_time": "2022-02-20T10:13:03.397Z"
   },
   {
    "duration": 18,
    "start_time": "2022-02-20T10:13:04.472Z"
   },
   {
    "duration": 12,
    "start_time": "2022-02-20T10:13:05.345Z"
   },
   {
    "duration": 15,
    "start_time": "2022-02-20T10:13:06.176Z"
   },
   {
    "duration": 12,
    "start_time": "2022-02-20T10:15:17.370Z"
   },
   {
    "duration": 16,
    "start_time": "2022-02-20T10:15:22.154Z"
   },
   {
    "duration": 678,
    "start_time": "2022-02-20T10:20:11.079Z"
   },
   {
    "duration": 123,
    "start_time": "2022-02-20T10:20:11.759Z"
   },
   {
    "duration": 16,
    "start_time": "2022-02-20T10:20:11.884Z"
   },
   {
    "duration": 35,
    "start_time": "2022-02-20T10:20:11.901Z"
   },
   {
    "duration": 4,
    "start_time": "2022-02-20T10:20:11.937Z"
   },
   {
    "duration": 26,
    "start_time": "2022-02-20T10:20:11.942Z"
   },
   {
    "duration": 8,
    "start_time": "2022-02-20T10:20:11.970Z"
   },
   {
    "duration": 31,
    "start_time": "2022-02-20T10:20:11.981Z"
   },
   {
    "duration": 30,
    "start_time": "2022-02-20T10:20:12.014Z"
   },
   {
    "duration": 20,
    "start_time": "2022-02-20T10:20:12.046Z"
   },
   {
    "duration": 64,
    "start_time": "2022-02-20T10:20:12.068Z"
   },
   {
    "duration": 63,
    "start_time": "2022-02-20T10:20:12.134Z"
   },
   {
    "duration": 59,
    "start_time": "2022-02-20T10:20:12.199Z"
   },
   {
    "duration": 9,
    "start_time": "2022-02-20T10:20:12.259Z"
   },
   {
    "duration": 2,
    "start_time": "2022-02-20T10:20:12.270Z"
   },
   {
    "duration": 13,
    "start_time": "2022-02-20T10:20:12.274Z"
   },
   {
    "duration": 6,
    "start_time": "2022-02-20T10:20:12.288Z"
   },
   {
    "duration": 49,
    "start_time": "2022-02-20T10:20:12.295Z"
   },
   {
    "duration": 28,
    "start_time": "2022-02-20T10:20:12.346Z"
   },
   {
    "duration": 5,
    "start_time": "2022-02-20T10:20:12.376Z"
   },
   {
    "duration": 42,
    "start_time": "2022-02-20T10:20:12.382Z"
   },
   {
    "duration": 24,
    "start_time": "2022-02-20T10:20:12.425Z"
   },
   {
    "duration": 40,
    "start_time": "2022-02-20T10:20:12.452Z"
   },
   {
    "duration": 28,
    "start_time": "2022-02-20T10:20:12.494Z"
   },
   {
    "duration": 14,
    "start_time": "2022-02-20T10:20:12.523Z"
   },
   {
    "duration": 21,
    "start_time": "2022-02-20T10:20:12.539Z"
   },
   {
    "duration": 17,
    "start_time": "2022-02-20T10:20:12.561Z"
   },
   {
    "duration": 23,
    "start_time": "2022-02-20T10:20:12.580Z"
   },
   {
    "duration": 16,
    "start_time": "2022-02-20T10:20:12.605Z"
   },
   {
    "duration": 8,
    "start_time": "2022-02-20T10:20:12.622Z"
   },
   {
    "duration": 43,
    "start_time": "2022-02-20T10:20:12.631Z"
   },
   {
    "duration": 10,
    "start_time": "2022-02-20T10:20:12.676Z"
   },
   {
    "duration": 20,
    "start_time": "2022-02-20T10:20:12.688Z"
   },
   {
    "duration": 11,
    "start_time": "2022-02-20T10:20:12.709Z"
   },
   {
    "duration": 9,
    "start_time": "2022-02-20T10:20:12.722Z"
   },
   {
    "duration": 22,
    "start_time": "2022-02-20T10:20:12.732Z"
   },
   {
    "duration": 17,
    "start_time": "2022-02-20T10:20:12.756Z"
   },
   {
    "duration": 20,
    "start_time": "2022-02-20T10:20:12.775Z"
   },
   {
    "duration": 3,
    "start_time": "2022-02-20T10:20:20.439Z"
   },
   {
    "duration": 17,
    "start_time": "2022-02-20T10:20:21.395Z"
   },
   {
    "duration": 2,
    "start_time": "2022-02-20T10:23:20.812Z"
   },
   {
    "duration": 141,
    "start_time": "2022-02-20T10:23:20.818Z"
   },
   {
    "duration": 10,
    "start_time": "2022-02-20T10:23:20.960Z"
   },
   {
    "duration": 32,
    "start_time": "2022-02-20T10:23:20.972Z"
   },
   {
    "duration": 9,
    "start_time": "2022-02-20T10:23:21.006Z"
   },
   {
    "duration": 32,
    "start_time": "2022-02-20T10:23:21.016Z"
   },
   {
    "duration": 4,
    "start_time": "2022-02-20T10:23:21.050Z"
   },
   {
    "duration": 25,
    "start_time": "2022-02-20T10:23:21.056Z"
   },
   {
    "duration": 20,
    "start_time": "2022-02-20T10:23:21.083Z"
   },
   {
    "duration": 42,
    "start_time": "2022-02-20T10:23:21.105Z"
   },
   {
    "duration": 60,
    "start_time": "2022-02-20T10:23:21.149Z"
   },
   {
    "duration": 58,
    "start_time": "2022-02-20T10:23:21.210Z"
   },
   {
    "duration": 45,
    "start_time": "2022-02-20T10:23:21.269Z"
   },
   {
    "duration": 20,
    "start_time": "2022-02-20T10:23:21.316Z"
   },
   {
    "duration": 3,
    "start_time": "2022-02-20T10:23:21.337Z"
   },
   {
    "duration": 16,
    "start_time": "2022-02-20T10:23:21.341Z"
   },
   {
    "duration": 6,
    "start_time": "2022-02-20T10:23:21.358Z"
   },
   {
    "duration": 27,
    "start_time": "2022-02-20T10:23:21.366Z"
   },
   {
    "duration": 46,
    "start_time": "2022-02-20T10:23:21.395Z"
   },
   {
    "duration": 3,
    "start_time": "2022-02-20T10:23:21.442Z"
   },
   {
    "duration": 17,
    "start_time": "2022-02-20T10:23:21.447Z"
   },
   {
    "duration": 12,
    "start_time": "2022-02-20T10:23:21.466Z"
   },
   {
    "duration": 12,
    "start_time": "2022-02-20T10:23:21.480Z"
   },
   {
    "duration": 26,
    "start_time": "2022-02-20T10:23:21.494Z"
   },
   {
    "duration": 22,
    "start_time": "2022-02-20T10:23:21.522Z"
   },
   {
    "duration": 28,
    "start_time": "2022-02-20T10:23:21.545Z"
   },
   {
    "duration": 26,
    "start_time": "2022-02-20T10:23:21.574Z"
   },
   {
    "duration": 23,
    "start_time": "2022-02-20T10:23:21.602Z"
   },
   {
    "duration": 19,
    "start_time": "2022-02-20T10:23:21.626Z"
   },
   {
    "duration": 7,
    "start_time": "2022-02-20T10:23:21.646Z"
   },
   {
    "duration": 45,
    "start_time": "2022-02-20T10:23:21.654Z"
   },
   {
    "duration": 31,
    "start_time": "2022-02-20T10:23:21.700Z"
   },
   {
    "duration": 16,
    "start_time": "2022-02-20T10:23:21.733Z"
   },
   {
    "duration": 14,
    "start_time": "2022-02-20T10:23:21.751Z"
   },
   {
    "duration": 20,
    "start_time": "2022-02-20T10:23:21.766Z"
   },
   {
    "duration": 17,
    "start_time": "2022-02-20T10:23:21.787Z"
   },
   {
    "duration": 18,
    "start_time": "2022-02-20T10:23:21.806Z"
   },
   {
    "duration": 29,
    "start_time": "2022-02-20T10:23:21.826Z"
   },
   {
    "duration": 11,
    "start_time": "2022-02-20T10:35:27.617Z"
   },
   {
    "duration": 9,
    "start_time": "2022-02-20T10:35:28.488Z"
   },
   {
    "duration": 7,
    "start_time": "2022-02-20T10:42:59.251Z"
   },
   {
    "duration": 4,
    "start_time": "2022-02-20T10:43:41.091Z"
   },
   {
    "duration": 555,
    "start_time": "2022-02-20T10:48:23.921Z"
   },
   {
    "duration": 5,
    "start_time": "2022-02-20T10:49:35.350Z"
   },
   {
    "duration": 4,
    "start_time": "2022-02-20T10:49:36.510Z"
   },
   {
    "duration": 555,
    "start_time": "2022-02-20T10:50:21.891Z"
   },
   {
    "duration": 123,
    "start_time": "2022-02-20T10:50:22.448Z"
   },
   {
    "duration": 14,
    "start_time": "2022-02-20T10:50:22.573Z"
   },
   {
    "duration": 25,
    "start_time": "2022-02-20T10:50:22.589Z"
   },
   {
    "duration": 3,
    "start_time": "2022-02-20T10:50:22.616Z"
   },
   {
    "duration": 20,
    "start_time": "2022-02-20T10:50:22.632Z"
   },
   {
    "duration": 10,
    "start_time": "2022-02-20T10:50:22.653Z"
   },
   {
    "duration": 21,
    "start_time": "2022-02-20T10:50:22.665Z"
   },
   {
    "duration": 16,
    "start_time": "2022-02-20T10:50:22.688Z"
   },
   {
    "duration": 36,
    "start_time": "2022-02-20T10:50:22.706Z"
   },
   {
    "duration": 50,
    "start_time": "2022-02-20T10:50:22.744Z"
   },
   {
    "duration": 69,
    "start_time": "2022-02-20T10:50:22.796Z"
   },
   {
    "duration": 43,
    "start_time": "2022-02-20T10:50:22.867Z"
   },
   {
    "duration": 8,
    "start_time": "2022-02-20T10:50:22.911Z"
   },
   {
    "duration": 2,
    "start_time": "2022-02-20T10:50:22.932Z"
   },
   {
    "duration": 12,
    "start_time": "2022-02-20T10:50:22.936Z"
   },
   {
    "duration": 7,
    "start_time": "2022-02-20T10:50:22.949Z"
   },
   {
    "duration": 27,
    "start_time": "2022-02-20T10:50:22.958Z"
   },
   {
    "duration": 47,
    "start_time": "2022-02-20T10:50:22.986Z"
   },
   {
    "duration": 4,
    "start_time": "2022-02-20T10:50:23.034Z"
   },
   {
    "duration": 19,
    "start_time": "2022-02-20T10:50:23.039Z"
   },
   {
    "duration": 12,
    "start_time": "2022-02-20T10:50:23.059Z"
   },
   {
    "duration": 12,
    "start_time": "2022-02-20T10:50:23.073Z"
   },
   {
    "duration": 11,
    "start_time": "2022-02-20T10:50:23.086Z"
   },
   {
    "duration": 41,
    "start_time": "2022-02-20T10:50:23.098Z"
   },
   {
    "duration": 12,
    "start_time": "2022-02-20T10:50:23.140Z"
   },
   {
    "duration": 7,
    "start_time": "2022-02-20T10:50:23.155Z"
   },
   {
    "duration": 12,
    "start_time": "2022-02-20T10:50:23.164Z"
   },
   {
    "duration": 10,
    "start_time": "2022-02-20T10:50:23.177Z"
   },
   {
    "duration": 6,
    "start_time": "2022-02-20T10:50:23.188Z"
   },
   {
    "duration": 38,
    "start_time": "2022-02-20T10:50:23.195Z"
   },
   {
    "duration": 10,
    "start_time": "2022-02-20T10:50:23.235Z"
   },
   {
    "duration": 13,
    "start_time": "2022-02-20T10:50:23.246Z"
   },
   {
    "duration": 9,
    "start_time": "2022-02-20T10:50:23.261Z"
   },
   {
    "duration": 10,
    "start_time": "2022-02-20T10:50:23.272Z"
   },
   {
    "duration": 8,
    "start_time": "2022-02-20T10:50:23.283Z"
   },
   {
    "duration": 9,
    "start_time": "2022-02-20T10:50:23.293Z"
   },
   {
    "duration": 9,
    "start_time": "2022-02-20T10:50:23.304Z"
   },
   {
    "duration": 20,
    "start_time": "2022-02-20T10:51:05.058Z"
   },
   {
    "duration": 13,
    "start_time": "2022-02-20T11:07:18.928Z"
   },
   {
    "duration": 10,
    "start_time": "2022-02-20T11:07:20.780Z"
   },
   {
    "duration": 18,
    "start_time": "2022-02-20T11:09:31.097Z"
   },
   {
    "duration": 22,
    "start_time": "2022-02-20T11:09:52.134Z"
   },
   {
    "duration": 4,
    "start_time": "2022-02-20T11:10:06.389Z"
   },
   {
    "duration": 20,
    "start_time": "2022-02-20T11:10:07.802Z"
   },
   {
    "duration": 12,
    "start_time": "2022-02-20T11:10:08.733Z"
   },
   {
    "duration": 4,
    "start_time": "2022-02-20T11:35:15.147Z"
   },
   {
    "duration": 15,
    "start_time": "2022-02-20T11:35:16.379Z"
   },
   {
    "duration": 12,
    "start_time": "2022-02-20T11:35:17.278Z"
   },
   {
    "duration": 843,
    "start_time": "2022-02-20T11:35:34.319Z"
   },
   {
    "duration": 134,
    "start_time": "2022-02-20T11:35:35.164Z"
   },
   {
    "duration": 16,
    "start_time": "2022-02-20T11:35:35.300Z"
   },
   {
    "duration": 30,
    "start_time": "2022-02-20T11:35:35.318Z"
   },
   {
    "duration": 3,
    "start_time": "2022-02-20T11:35:35.350Z"
   },
   {
    "duration": 18,
    "start_time": "2022-02-20T11:35:35.355Z"
   },
   {
    "duration": 3,
    "start_time": "2022-02-20T11:35:35.375Z"
   },
   {
    "duration": 20,
    "start_time": "2022-02-20T11:35:35.380Z"
   },
   {
    "duration": 39,
    "start_time": "2022-02-20T11:35:35.403Z"
   },
   {
    "duration": 21,
    "start_time": "2022-02-20T11:35:35.445Z"
   },
   {
    "duration": 70,
    "start_time": "2022-02-20T11:35:35.468Z"
   },
   {
    "duration": 69,
    "start_time": "2022-02-20T11:35:35.540Z"
   },
   {
    "duration": 54,
    "start_time": "2022-02-20T11:35:35.611Z"
   },
   {
    "duration": 8,
    "start_time": "2022-02-20T11:35:35.667Z"
   },
   {
    "duration": 2,
    "start_time": "2022-02-20T11:35:35.677Z"
   },
   {
    "duration": 13,
    "start_time": "2022-02-20T11:35:35.681Z"
   },
   {
    "duration": 7,
    "start_time": "2022-02-20T11:35:35.695Z"
   },
   {
    "duration": 50,
    "start_time": "2022-02-20T11:35:35.704Z"
   },
   {
    "duration": 26,
    "start_time": "2022-02-20T11:35:35.756Z"
   },
   {
    "duration": 3,
    "start_time": "2022-02-20T11:35:35.783Z"
   },
   {
    "duration": 17,
    "start_time": "2022-02-20T11:35:35.788Z"
   },
   {
    "duration": 33,
    "start_time": "2022-02-20T11:35:35.806Z"
   },
   {
    "duration": 12,
    "start_time": "2022-02-20T11:35:35.841Z"
   },
   {
    "duration": 11,
    "start_time": "2022-02-20T11:35:35.855Z"
   },
   {
    "duration": 13,
    "start_time": "2022-02-20T11:35:35.868Z"
   },
   {
    "duration": 11,
    "start_time": "2022-02-20T11:35:35.883Z"
   },
   {
    "duration": 40,
    "start_time": "2022-02-20T11:35:35.897Z"
   },
   {
    "duration": 17,
    "start_time": "2022-02-20T11:35:35.939Z"
   },
   {
    "duration": 13,
    "start_time": "2022-02-20T11:35:35.957Z"
   },
   {
    "duration": 3,
    "start_time": "2022-02-20T11:35:35.971Z"
   },
   {
    "duration": 22,
    "start_time": "2022-02-20T11:35:35.976Z"
   },
   {
    "duration": 32,
    "start_time": "2022-02-20T11:35:36.000Z"
   },
   {
    "duration": 18,
    "start_time": "2022-02-20T11:35:36.034Z"
   },
   {
    "duration": 12,
    "start_time": "2022-02-20T11:35:36.053Z"
   },
   {
    "duration": 6,
    "start_time": "2022-02-20T11:35:36.067Z"
   },
   {
    "duration": 9,
    "start_time": "2022-02-20T11:35:36.075Z"
   },
   {
    "duration": 10,
    "start_time": "2022-02-20T11:35:36.085Z"
   },
   {
    "duration": 10,
    "start_time": "2022-02-20T11:35:36.096Z"
   },
   {
    "duration": 3,
    "start_time": "2022-02-20T14:38:20.013Z"
   },
   {
    "duration": 13,
    "start_time": "2022-02-20T14:38:22.313Z"
   },
   {
    "duration": 6,
    "start_time": "2022-02-20T14:38:24.893Z"
   },
   {
    "duration": 6,
    "start_time": "2022-02-20T14:38:28.589Z"
   },
   {
    "duration": 3,
    "start_time": "2022-02-20T14:38:36.089Z"
   },
   {
    "duration": 19,
    "start_time": "2022-02-20T14:38:37.329Z"
   },
   {
    "duration": 7,
    "start_time": "2022-02-20T14:38:38.609Z"
   },
   {
    "duration": 570,
    "start_time": "2022-02-20T14:39:08.363Z"
   },
   {
    "duration": 119,
    "start_time": "2022-02-20T14:39:08.935Z"
   },
   {
    "duration": 15,
    "start_time": "2022-02-20T14:39:09.056Z"
   },
   {
    "duration": 23,
    "start_time": "2022-02-20T14:39:09.073Z"
   },
   {
    "duration": 3,
    "start_time": "2022-02-20T14:39:09.098Z"
   },
   {
    "duration": 31,
    "start_time": "2022-02-20T14:39:09.102Z"
   },
   {
    "duration": 6,
    "start_time": "2022-02-20T14:39:09.134Z"
   },
   {
    "duration": 21,
    "start_time": "2022-02-20T14:39:09.143Z"
   },
   {
    "duration": 15,
    "start_time": "2022-02-20T14:39:09.166Z"
   },
   {
    "duration": 20,
    "start_time": "2022-02-20T14:39:09.182Z"
   },
   {
    "duration": 76,
    "start_time": "2022-02-20T14:39:09.204Z"
   },
   {
    "duration": 68,
    "start_time": "2022-02-20T14:39:09.282Z"
   },
   {
    "duration": 46,
    "start_time": "2022-02-20T14:39:09.351Z"
   },
   {
    "duration": 9,
    "start_time": "2022-02-20T14:39:09.398Z"
   },
   {
    "duration": 4,
    "start_time": "2022-02-20T14:39:09.409Z"
   },
   {
    "duration": 14,
    "start_time": "2022-02-20T14:39:09.432Z"
   },
   {
    "duration": 8,
    "start_time": "2022-02-20T14:39:09.448Z"
   },
   {
    "duration": 27,
    "start_time": "2022-02-20T14:39:09.457Z"
   },
   {
    "duration": 49,
    "start_time": "2022-02-20T14:39:09.486Z"
   },
   {
    "duration": 4,
    "start_time": "2022-02-20T14:39:09.536Z"
   },
   {
    "duration": 19,
    "start_time": "2022-02-20T14:39:09.542Z"
   },
   {
    "duration": 13,
    "start_time": "2022-02-20T14:39:09.563Z"
   },
   {
    "duration": 14,
    "start_time": "2022-02-20T14:39:09.578Z"
   },
   {
    "duration": 39,
    "start_time": "2022-02-20T14:39:09.594Z"
   },
   {
    "duration": 15,
    "start_time": "2022-02-20T14:39:09.635Z"
   },
   {
    "duration": 12,
    "start_time": "2022-02-20T14:39:09.654Z"
   },
   {
    "duration": 7,
    "start_time": "2022-02-20T14:39:09.668Z"
   },
   {
    "duration": 16,
    "start_time": "2022-02-20T14:39:09.677Z"
   },
   {
    "duration": 47,
    "start_time": "2022-02-20T14:39:09.694Z"
   },
   {
    "duration": 4,
    "start_time": "2022-02-20T14:39:09.743Z"
   },
   {
    "duration": 20,
    "start_time": "2022-02-20T14:39:09.748Z"
   },
   {
    "duration": 9,
    "start_time": "2022-02-20T14:39:09.770Z"
   },
   {
    "duration": 15,
    "start_time": "2022-02-20T14:39:09.781Z"
   },
   {
    "duration": 40,
    "start_time": "2022-02-20T14:39:09.797Z"
   },
   {
    "duration": 7,
    "start_time": "2022-02-20T14:39:09.838Z"
   },
   {
    "duration": 4,
    "start_time": "2022-02-20T14:39:09.847Z"
   },
   {
    "duration": 7,
    "start_time": "2022-02-20T14:39:09.852Z"
   },
   {
    "duration": 8,
    "start_time": "2022-02-20T14:39:09.860Z"
   },
   {
    "duration": 28,
    "start_time": "2022-02-20T14:42:09.643Z"
   },
   {
    "duration": 14,
    "start_time": "2022-02-20T14:44:31.983Z"
   },
   {
    "duration": 8,
    "start_time": "2022-02-20T14:44:38.807Z"
   },
   {
    "duration": 12,
    "start_time": "2022-02-20T14:46:21.632Z"
   },
   {
    "duration": 12,
    "start_time": "2022-02-20T14:46:26.937Z"
   },
   {
    "duration": 8,
    "start_time": "2022-02-20T14:46:49.168Z"
   },
   {
    "duration": 5,
    "start_time": "2022-02-20T14:46:52.288Z"
   },
   {
    "duration": 6,
    "start_time": "2022-02-20T14:47:10.080Z"
   },
   {
    "duration": 4,
    "start_time": "2022-02-20T14:47:16.993Z"
   },
   {
    "duration": 276,
    "start_time": "2022-03-02T14:15:01.889Z"
   },
   {
    "duration": 196,
    "start_time": "2022-03-02T14:15:12.069Z"
   },
   {
    "duration": 590,
    "start_time": "2022-03-02T14:15:35.520Z"
   },
   {
    "duration": 148,
    "start_time": "2022-03-02T14:15:36.112Z"
   },
   {
    "duration": 17,
    "start_time": "2022-03-02T14:15:36.262Z"
   },
   {
    "duration": 23,
    "start_time": "2022-03-02T14:15:36.281Z"
   },
   {
    "duration": 5,
    "start_time": "2022-03-02T14:15:36.305Z"
   },
   {
    "duration": 21,
    "start_time": "2022-03-02T14:15:36.341Z"
   },
   {
    "duration": 10,
    "start_time": "2022-03-02T14:15:36.364Z"
   },
   {
    "duration": 28,
    "start_time": "2022-03-02T14:15:36.376Z"
   },
   {
    "duration": 19,
    "start_time": "2022-03-02T14:15:36.407Z"
   },
   {
    "duration": 28,
    "start_time": "2022-03-02T14:15:36.428Z"
   },
   {
    "duration": 58,
    "start_time": "2022-03-02T14:15:36.458Z"
   },
   {
    "duration": 84,
    "start_time": "2022-03-02T14:15:36.518Z"
   },
   {
    "duration": 59,
    "start_time": "2022-03-02T14:15:36.604Z"
   },
   {
    "duration": 8,
    "start_time": "2022-03-02T14:15:36.665Z"
   },
   {
    "duration": 3,
    "start_time": "2022-03-02T14:15:36.674Z"
   },
   {
    "duration": 19,
    "start_time": "2022-03-02T14:15:36.679Z"
   },
   {
    "duration": 8,
    "start_time": "2022-03-02T14:15:36.700Z"
   },
   {
    "duration": 58,
    "start_time": "2022-03-02T14:15:36.709Z"
   },
   {
    "duration": 29,
    "start_time": "2022-03-02T14:15:36.769Z"
   },
   {
    "duration": 3,
    "start_time": "2022-03-02T14:15:36.800Z"
   },
   {
    "duration": 32,
    "start_time": "2022-03-02T14:15:36.805Z"
   },
   {
    "duration": 21,
    "start_time": "2022-03-02T14:15:36.839Z"
   },
   {
    "duration": 21,
    "start_time": "2022-03-02T14:15:36.864Z"
   },
   {
    "duration": 20,
    "start_time": "2022-03-02T14:15:36.887Z"
   },
   {
    "duration": 22,
    "start_time": "2022-03-02T14:15:36.933Z"
   },
   {
    "duration": 14,
    "start_time": "2022-03-02T14:15:36.957Z"
   },
   {
    "duration": 10,
    "start_time": "2022-03-02T14:15:36.974Z"
   },
   {
    "duration": 20,
    "start_time": "2022-03-02T14:15:36.986Z"
   },
   {
    "duration": 39,
    "start_time": "2022-03-02T14:15:37.008Z"
   },
   {
    "duration": 5,
    "start_time": "2022-03-02T14:15:37.049Z"
   },
   {
    "duration": 22,
    "start_time": "2022-03-02T14:15:37.056Z"
   },
   {
    "duration": 11,
    "start_time": "2022-03-02T14:15:37.079Z"
   },
   {
    "duration": 60,
    "start_time": "2022-03-02T14:15:37.091Z"
   },
   {
    "duration": 16,
    "start_time": "2022-03-02T14:15:37.153Z"
   },
   {
    "duration": 10,
    "start_time": "2022-03-02T14:15:37.171Z"
   },
   {
    "duration": 5,
    "start_time": "2022-03-02T14:15:37.183Z"
   },
   {
    "duration": 13,
    "start_time": "2022-03-02T14:15:37.189Z"
   },
   {
    "duration": 5,
    "start_time": "2022-03-02T14:15:37.204Z"
   },
   {
    "duration": 4,
    "start_time": "2022-03-02T14:20:43.122Z"
   },
   {
    "duration": 39,
    "start_time": "2022-03-02T14:25:25.846Z"
   },
   {
    "duration": 45,
    "start_time": "2022-03-02T14:28:34.214Z"
   },
   {
    "duration": 10,
    "start_time": "2022-03-02T14:54:59.905Z"
   },
   {
    "duration": 36,
    "start_time": "2022-03-02T14:56:07.425Z"
   },
   {
    "duration": 12,
    "start_time": "2022-03-02T14:57:56.510Z"
   },
   {
    "duration": 13,
    "start_time": "2022-03-02T14:59:49.582Z"
   },
   {
    "duration": 3,
    "start_time": "2022-03-03T10:40:25.874Z"
   },
   {
    "duration": 3334,
    "start_time": "2022-03-03T10:40:28.816Z"
   },
   {
    "duration": 589,
    "start_time": "2022-03-03T10:40:44.958Z"
   },
   {
    "duration": 123,
    "start_time": "2022-03-03T10:40:45.549Z"
   },
   {
    "duration": 16,
    "start_time": "2022-03-03T10:40:45.674Z"
   },
   {
    "duration": 30,
    "start_time": "2022-03-03T10:40:45.692Z"
   },
   {
    "duration": 5,
    "start_time": "2022-03-03T10:40:45.723Z"
   },
   {
    "duration": 16,
    "start_time": "2022-03-03T10:40:45.730Z"
   },
   {
    "duration": 5,
    "start_time": "2022-03-03T10:40:45.748Z"
   },
   {
    "duration": 20,
    "start_time": "2022-03-03T10:40:45.755Z"
   },
   {
    "duration": 40,
    "start_time": "2022-03-03T10:40:45.777Z"
   },
   {
    "duration": 17,
    "start_time": "2022-03-03T10:40:45.819Z"
   },
   {
    "duration": 48,
    "start_time": "2022-03-03T10:40:45.838Z"
   },
   {
    "duration": 70,
    "start_time": "2022-03-03T10:40:45.887Z"
   },
   {
    "duration": 51,
    "start_time": "2022-03-03T10:40:45.959Z"
   },
   {
    "duration": 35,
    "start_time": "2022-03-03T10:40:46.011Z"
   },
   {
    "duration": 4,
    "start_time": "2022-03-03T10:40:46.047Z"
   },
   {
    "duration": 846,
    "start_time": "2022-03-03T10:40:46.052Z"
   },
   {
    "duration": -2198,
    "start_time": "2022-03-03T10:40:49.098Z"
   },
   {
    "duration": -2210,
    "start_time": "2022-03-03T10:40:49.111Z"
   },
   {
    "duration": -2217,
    "start_time": "2022-03-03T10:40:49.119Z"
   },
   {
    "duration": -2222,
    "start_time": "2022-03-03T10:40:49.125Z"
   },
   {
    "duration": -2229,
    "start_time": "2022-03-03T10:40:49.133Z"
   },
   {
    "duration": -2234,
    "start_time": "2022-03-03T10:40:49.139Z"
   },
   {
    "duration": -2240,
    "start_time": "2022-03-03T10:40:49.146Z"
   },
   {
    "duration": -2245,
    "start_time": "2022-03-03T10:40:49.152Z"
   },
   {
    "duration": -2251,
    "start_time": "2022-03-03T10:40:49.158Z"
   },
   {
    "duration": -2256,
    "start_time": "2022-03-03T10:40:49.164Z"
   },
   {
    "duration": -2277,
    "start_time": "2022-03-03T10:40:49.186Z"
   },
   {
    "duration": -2288,
    "start_time": "2022-03-03T10:40:49.198Z"
   },
   {
    "duration": -2294,
    "start_time": "2022-03-03T10:40:49.205Z"
   },
   {
    "duration": -2300,
    "start_time": "2022-03-03T10:40:49.211Z"
   },
   {
    "duration": -2305,
    "start_time": "2022-03-03T10:40:49.217Z"
   },
   {
    "duration": -2310,
    "start_time": "2022-03-03T10:40:49.223Z"
   },
   {
    "duration": -2315,
    "start_time": "2022-03-03T10:40:49.229Z"
   },
   {
    "duration": -2318,
    "start_time": "2022-03-03T10:40:49.233Z"
   },
   {
    "duration": -2322,
    "start_time": "2022-03-03T10:40:49.238Z"
   },
   {
    "duration": -2325,
    "start_time": "2022-03-03T10:40:49.242Z"
   },
   {
    "duration": -2330,
    "start_time": "2022-03-03T10:40:49.247Z"
   },
   {
    "duration": -2352,
    "start_time": "2022-03-03T10:40:49.270Z"
   },
   {
    "duration": 3,
    "start_time": "2022-03-03T10:41:57.051Z"
   },
   {
    "duration": 671,
    "start_time": "2022-03-03T10:41:59.434Z"
   },
   {
    "duration": 2,
    "start_time": "2022-03-03T10:42:50.279Z"
   },
   {
    "duration": 607,
    "start_time": "2022-03-03T10:42:52.215Z"
   },
   {
    "duration": 3,
    "start_time": "2022-03-03T10:46:55.728Z"
   },
   {
    "duration": 703,
    "start_time": "2022-03-03T10:46:58.353Z"
   },
   {
    "duration": 586,
    "start_time": "2022-03-03T10:48:07.069Z"
   },
   {
    "duration": 569,
    "start_time": "2022-03-03T10:49:02.406Z"
   },
   {
    "duration": 576,
    "start_time": "2022-03-03T10:49:35.286Z"
   },
   {
    "duration": 123,
    "start_time": "2022-03-03T10:49:35.864Z"
   },
   {
    "duration": 15,
    "start_time": "2022-03-03T10:49:35.988Z"
   },
   {
    "duration": 22,
    "start_time": "2022-03-03T10:49:36.005Z"
   },
   {
    "duration": 4,
    "start_time": "2022-03-03T10:49:36.028Z"
   },
   {
    "duration": 20,
    "start_time": "2022-03-03T10:49:36.034Z"
   },
   {
    "duration": 4,
    "start_time": "2022-03-03T10:49:36.056Z"
   },
   {
    "duration": 43,
    "start_time": "2022-03-03T10:49:36.063Z"
   },
   {
    "duration": 14,
    "start_time": "2022-03-03T10:49:36.108Z"
   },
   {
    "duration": 18,
    "start_time": "2022-03-03T10:49:36.123Z"
   },
   {
    "duration": 65,
    "start_time": "2022-03-03T10:49:36.143Z"
   },
   {
    "duration": 64,
    "start_time": "2022-03-03T10:49:36.210Z"
   },
   {
    "duration": 57,
    "start_time": "2022-03-03T10:49:36.275Z"
   },
   {
    "duration": 35,
    "start_time": "2022-03-03T10:49:36.333Z"
   },
   {
    "duration": 2,
    "start_time": "2022-03-03T10:49:36.370Z"
   },
   {
    "duration": 618,
    "start_time": "2022-03-03T10:49:36.374Z"
   },
   {
    "duration": -2142,
    "start_time": "2022-03-03T10:49:39.136Z"
   },
   {
    "duration": -2148,
    "start_time": "2022-03-03T10:49:39.143Z"
   },
   {
    "duration": -2154,
    "start_time": "2022-03-03T10:49:39.150Z"
   },
   {
    "duration": -2159,
    "start_time": "2022-03-03T10:49:39.156Z"
   },
   {
    "duration": -2166,
    "start_time": "2022-03-03T10:49:39.164Z"
   },
   {
    "duration": -2172,
    "start_time": "2022-03-03T10:49:39.171Z"
   },
   {
    "duration": -2179,
    "start_time": "2022-03-03T10:49:39.178Z"
   },
   {
    "duration": -2184,
    "start_time": "2022-03-03T10:49:39.184Z"
   },
   {
    "duration": -2190,
    "start_time": "2022-03-03T10:49:39.191Z"
   },
   {
    "duration": -2196,
    "start_time": "2022-03-03T10:49:39.197Z"
   },
   {
    "duration": -2202,
    "start_time": "2022-03-03T10:49:39.204Z"
   },
   {
    "duration": -2207,
    "start_time": "2022-03-03T10:49:39.210Z"
   },
   {
    "duration": -2212,
    "start_time": "2022-03-03T10:49:39.215Z"
   },
   {
    "duration": -2230,
    "start_time": "2022-03-03T10:49:39.234Z"
   },
   {
    "duration": -2233,
    "start_time": "2022-03-03T10:49:39.239Z"
   },
   {
    "duration": -2236,
    "start_time": "2022-03-03T10:49:39.243Z"
   },
   {
    "duration": -2240,
    "start_time": "2022-03-03T10:49:39.248Z"
   },
   {
    "duration": -2244,
    "start_time": "2022-03-03T10:49:39.253Z"
   },
   {
    "duration": -2248,
    "start_time": "2022-03-03T10:49:39.258Z"
   },
   {
    "duration": -2252,
    "start_time": "2022-03-03T10:49:39.263Z"
   },
   {
    "duration": -2255,
    "start_time": "2022-03-03T10:49:39.267Z"
   },
   {
    "duration": -2258,
    "start_time": "2022-03-03T10:49:39.272Z"
   },
   {
    "duration": 12,
    "start_time": "2022-03-03T10:49:55.106Z"
   },
   {
    "duration": 14,
    "start_time": "2022-03-03T10:49:57.282Z"
   },
   {
    "duration": 3,
    "start_time": "2022-03-03T10:50:10.518Z"
   },
   {
    "duration": 574,
    "start_time": "2022-03-03T10:50:14.027Z"
   },
   {
    "duration": 3,
    "start_time": "2022-03-03T10:51:33.195Z"
   },
   {
    "duration": 9,
    "start_time": "2022-03-03T10:51:35.791Z"
   },
   {
    "duration": 14,
    "start_time": "2022-03-03T10:52:29.675Z"
   },
   {
    "duration": 14,
    "start_time": "2022-03-03T10:52:32.975Z"
   },
   {
    "duration": 577,
    "start_time": "2022-03-03T10:52:45.103Z"
   },
   {
    "duration": 115,
    "start_time": "2022-03-03T10:52:45.682Z"
   },
   {
    "duration": 14,
    "start_time": "2022-03-03T10:52:45.799Z"
   },
   {
    "duration": 22,
    "start_time": "2022-03-03T10:52:45.815Z"
   },
   {
    "duration": 3,
    "start_time": "2022-03-03T10:52:45.839Z"
   },
   {
    "duration": 16,
    "start_time": "2022-03-03T10:52:45.844Z"
   },
   {
    "duration": 3,
    "start_time": "2022-03-03T10:52:45.862Z"
   },
   {
    "duration": 19,
    "start_time": "2022-03-03T10:52:45.867Z"
   },
   {
    "duration": 14,
    "start_time": "2022-03-03T10:52:45.906Z"
   },
   {
    "duration": 17,
    "start_time": "2022-03-03T10:52:45.922Z"
   },
   {
    "duration": 49,
    "start_time": "2022-03-03T10:52:45.941Z"
   },
   {
    "duration": 57,
    "start_time": "2022-03-03T10:52:46.006Z"
   },
   {
    "duration": 51,
    "start_time": "2022-03-03T10:52:46.064Z"
   },
   {
    "duration": 35,
    "start_time": "2022-03-03T10:52:46.116Z"
   },
   {
    "duration": 2,
    "start_time": "2022-03-03T10:52:46.152Z"
   },
   {
    "duration": 14,
    "start_time": "2022-03-03T10:52:46.156Z"
   },
   {
    "duration": 51,
    "start_time": "2022-03-03T10:52:46.171Z"
   },
   {
    "duration": 9,
    "start_time": "2022-03-03T10:52:46.224Z"
   },
   {
    "duration": 9,
    "start_time": "2022-03-03T10:52:46.234Z"
   },
   {
    "duration": 3,
    "start_time": "2022-03-03T10:52:46.244Z"
   },
   {
    "duration": 18,
    "start_time": "2022-03-03T10:52:46.248Z"
   },
   {
    "duration": 10,
    "start_time": "2022-03-03T10:52:46.267Z"
   },
   {
    "duration": 37,
    "start_time": "2022-03-03T10:52:46.280Z"
   },
   {
    "duration": 12,
    "start_time": "2022-03-03T10:52:46.318Z"
   },
   {
    "duration": 13,
    "start_time": "2022-03-03T10:52:46.332Z"
   },
   {
    "duration": 18,
    "start_time": "2022-03-03T10:52:46.346Z"
   },
   {
    "duration": 13,
    "start_time": "2022-03-03T10:52:46.365Z"
   },
   {
    "duration": 35,
    "start_time": "2022-03-03T10:52:46.379Z"
   },
   {
    "duration": 13,
    "start_time": "2022-03-03T10:52:46.415Z"
   },
   {
    "duration": 3,
    "start_time": "2022-03-03T10:52:46.429Z"
   },
   {
    "duration": 19,
    "start_time": "2022-03-03T10:52:46.433Z"
   },
   {
    "duration": 9,
    "start_time": "2022-03-03T10:52:46.453Z"
   },
   {
    "duration": 15,
    "start_time": "2022-03-03T10:52:46.463Z"
   },
   {
    "duration": 35,
    "start_time": "2022-03-03T10:52:46.479Z"
   },
   {
    "duration": 6,
    "start_time": "2022-03-03T10:52:46.515Z"
   },
   {
    "duration": 5,
    "start_time": "2022-03-03T10:52:46.523Z"
   },
   {
    "duration": 7,
    "start_time": "2022-03-03T10:52:46.529Z"
   },
   {
    "duration": 3,
    "start_time": "2022-03-03T10:52:46.537Z"
   },
   {
    "duration": 3,
    "start_time": "2022-03-03T10:54:25.152Z"
   },
   {
    "duration": 14,
    "start_time": "2022-03-03T10:54:26.607Z"
   },
   {
    "duration": 14,
    "start_time": "2022-03-03T10:56:46.313Z"
   },
   {
    "duration": 36,
    "start_time": "2022-03-03T10:56:51.389Z"
   },
   {
    "duration": 6,
    "start_time": "2022-03-04T17:38:19.147Z"
   },
   {
    "duration": 557,
    "start_time": "2022-03-04T17:38:25.591Z"
   },
   {
    "duration": 1078,
    "start_time": "2022-03-04T17:38:37.931Z"
   },
   {
    "duration": 184,
    "start_time": "2022-03-04T17:38:39.012Z"
   },
   {
    "duration": 27,
    "start_time": "2022-03-04T17:38:39.200Z"
   },
   {
    "duration": 57,
    "start_time": "2022-03-04T17:38:39.230Z"
   },
   {
    "duration": 7,
    "start_time": "2022-03-04T17:38:39.290Z"
   },
   {
    "duration": 30,
    "start_time": "2022-03-04T17:38:39.300Z"
   },
   {
    "duration": 10,
    "start_time": "2022-03-04T17:38:39.332Z"
   },
   {
    "duration": 66,
    "start_time": "2022-03-04T17:38:39.347Z"
   },
   {
    "duration": 21,
    "start_time": "2022-03-04T17:38:39.416Z"
   },
   {
    "duration": 48,
    "start_time": "2022-03-04T17:38:39.440Z"
   },
   {
    "duration": 100,
    "start_time": "2022-03-04T17:38:39.491Z"
   },
   {
    "duration": 104,
    "start_time": "2022-03-04T17:38:39.593Z"
   },
   {
    "duration": 89,
    "start_time": "2022-03-04T17:38:39.700Z"
   },
   {
    "duration": 59,
    "start_time": "2022-03-04T17:38:39.792Z"
   },
   {
    "duration": 33,
    "start_time": "2022-03-04T17:38:39.854Z"
   },
   {
    "duration": 22,
    "start_time": "2022-03-04T17:38:39.889Z"
   },
   {
    "duration": 78,
    "start_time": "2022-03-04T17:38:39.914Z"
   },
   {
    "duration": 14,
    "start_time": "2022-03-04T17:38:39.994Z"
   },
   {
    "duration": 18,
    "start_time": "2022-03-04T17:38:40.011Z"
   },
   {
    "duration": 7,
    "start_time": "2022-03-04T17:38:40.032Z"
   },
   {
    "duration": 56,
    "start_time": "2022-03-04T17:38:40.041Z"
   },
   {
    "duration": 17,
    "start_time": "2022-03-04T17:38:40.099Z"
   },
   {
    "duration": 18,
    "start_time": "2022-03-04T17:38:40.121Z"
   },
   {
    "duration": 48,
    "start_time": "2022-03-04T17:38:40.142Z"
   },
   {
    "duration": 21,
    "start_time": "2022-03-04T17:38:40.192Z"
   },
   {
    "duration": 18,
    "start_time": "2022-03-04T17:38:40.215Z"
   },
   {
    "duration": 12,
    "start_time": "2022-03-04T17:38:40.236Z"
   },
   {
    "duration": 59,
    "start_time": "2022-03-04T17:38:40.250Z"
   },
   {
    "duration": 22,
    "start_time": "2022-03-04T17:38:40.311Z"
   },
   {
    "duration": 6,
    "start_time": "2022-03-04T17:38:40.335Z"
   },
   {
    "duration": 63,
    "start_time": "2022-03-04T17:38:40.343Z"
   },
   {
    "duration": 17,
    "start_time": "2022-03-04T17:38:40.408Z"
   },
   {
    "duration": 27,
    "start_time": "2022-03-04T17:38:40.428Z"
   },
   {
    "duration": 49,
    "start_time": "2022-03-04T17:38:40.457Z"
   },
   {
    "duration": 12,
    "start_time": "2022-03-04T17:38:40.509Z"
   },
   {
    "duration": 9,
    "start_time": "2022-03-04T17:38:40.523Z"
   },
   {
    "duration": 9,
    "start_time": "2022-03-04T17:38:40.535Z"
   },
   {
    "duration": 48,
    "start_time": "2022-03-04T17:38:40.547Z"
   },
   {
    "duration": 4,
    "start_time": "2022-03-04T17:48:15.102Z"
   },
   {
    "duration": 13,
    "start_time": "2022-03-04T17:48:17.774Z"
   },
   {
    "duration": 57,
    "start_time": "2022-03-04T17:48:19.661Z"
   },
   {
    "duration": 4,
    "start_time": "2022-03-04T17:50:22.487Z"
   },
   {
    "duration": 13,
    "start_time": "2022-03-04T17:50:24.366Z"
   },
   {
    "duration": 58,
    "start_time": "2022-03-04T17:50:25.731Z"
   },
   {
    "duration": 742,
    "start_time": "2022-03-04T18:20:18.400Z"
   },
   {
    "duration": 210,
    "start_time": "2022-03-04T18:20:19.145Z"
   },
   {
    "duration": 32,
    "start_time": "2022-03-04T18:20:19.358Z"
   },
   {
    "duration": 43,
    "start_time": "2022-03-04T18:20:19.392Z"
   },
   {
    "duration": 5,
    "start_time": "2022-03-04T18:20:19.437Z"
   },
   {
    "duration": 23,
    "start_time": "2022-03-04T18:20:19.445Z"
   },
   {
    "duration": 8,
    "start_time": "2022-03-04T18:20:19.470Z"
   },
   {
    "duration": 45,
    "start_time": "2022-03-04T18:20:19.482Z"
   },
   {
    "duration": 21,
    "start_time": "2022-03-04T18:20:19.530Z"
   },
   {
    "duration": 28,
    "start_time": "2022-03-04T18:20:19.554Z"
   },
   {
    "duration": 93,
    "start_time": "2022-03-04T18:20:19.586Z"
   },
   {
    "duration": 95,
    "start_time": "2022-03-04T18:20:19.682Z"
   },
   {
    "duration": 78,
    "start_time": "2022-03-04T18:20:19.780Z"
   },
   {
    "duration": 67,
    "start_time": "2022-03-04T18:20:19.860Z"
   },
   {
    "duration": 4,
    "start_time": "2022-03-04T18:20:19.930Z"
   },
   {
    "duration": 18,
    "start_time": "2022-03-04T18:20:19.936Z"
   },
   {
    "duration": 65,
    "start_time": "2022-03-04T18:20:19.956Z"
   },
   {
    "duration": 15,
    "start_time": "2022-03-04T18:20:20.024Z"
   },
   {
    "duration": 56,
    "start_time": "2022-03-04T18:20:20.041Z"
   },
   {
    "duration": 4,
    "start_time": "2022-03-04T18:20:20.102Z"
   },
   {
    "duration": 90,
    "start_time": "2022-03-04T18:20:20.109Z"
   },
   {
    "duration": 18,
    "start_time": "2022-03-04T18:20:20.202Z"
   },
   {
    "duration": 35,
    "start_time": "2022-03-04T18:20:20.224Z"
   },
   {
    "duration": 45,
    "start_time": "2022-03-04T18:20:20.262Z"
   },
   {
    "duration": 25,
    "start_time": "2022-03-04T18:20:20.309Z"
   },
   {
    "duration": 53,
    "start_time": "2022-03-04T18:20:20.337Z"
   },
   {
    "duration": 29,
    "start_time": "2022-03-04T18:20:20.399Z"
   },
   {
    "duration": 68,
    "start_time": "2022-03-04T18:20:20.430Z"
   },
   {
    "duration": 92,
    "start_time": "2022-03-04T18:20:20.502Z"
   },
   {
    "duration": 8,
    "start_time": "2022-03-04T18:20:20.597Z"
   },
   {
    "duration": 88,
    "start_time": "2022-03-04T18:20:20.608Z"
   },
   {
    "duration": 22,
    "start_time": "2022-03-04T18:20:20.701Z"
   },
   {
    "duration": 78,
    "start_time": "2022-03-04T18:20:20.726Z"
   },
   {
    "duration": 17,
    "start_time": "2022-03-04T18:20:20.810Z"
   },
   {
    "duration": 16,
    "start_time": "2022-03-04T18:20:20.882Z"
   },
   {
    "duration": 10,
    "start_time": "2022-03-04T18:20:20.900Z"
   },
   {
    "duration": 23,
    "start_time": "2022-03-04T18:20:20.913Z"
   },
   {
    "duration": 21,
    "start_time": "2022-03-04T18:20:20.938Z"
   }
  ],
  "colab": {
   "collapsed_sections": [
    "E0vqbgi9ay0H",
    "VUC88oWjTJw2"
   ],
   "name": "yandex_music_project_2021.2.ipynb",
   "provenance": []
  },
  "kernelspec": {
   "display_name": "Python 3 (ipykernel)",
   "language": "python",
   "name": "python3"
  },
  "language_info": {
   "codemirror_mode": {
    "name": "ipython",
    "version": 3
   },
   "file_extension": ".py",
   "mimetype": "text/x-python",
   "name": "python",
   "nbconvert_exporter": "python",
   "pygments_lexer": "ipython3",
   "version": "3.9.7"
  },
  "toc": {
   "base_numbering": 1,
   "nav_menu": {},
   "number_sections": true,
   "sideBar": true,
   "skip_h1_title": true,
   "title_cell": "Table of Contents",
   "title_sidebar": "Contents",
   "toc_cell": false,
   "toc_position": {
    "height": "calc(100% - 180px)",
    "left": "10px",
    "top": "150px",
    "width": "165px"
   },
   "toc_section_display": true,
   "toc_window_display": true
  }
 },
 "nbformat": 4,
 "nbformat_minor": 1
}
