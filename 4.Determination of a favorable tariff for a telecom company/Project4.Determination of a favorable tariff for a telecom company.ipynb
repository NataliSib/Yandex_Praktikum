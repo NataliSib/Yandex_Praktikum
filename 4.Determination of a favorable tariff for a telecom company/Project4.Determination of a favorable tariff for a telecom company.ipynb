{
 "cells": [
  {
   "cell_type": "markdown",
   "id": "ce587a75",
   "metadata": {},
   "source": [
    "# Определение перспективного тарифа для телеком-компании"
   ]
  },
  {
   "cell_type": "markdown",
   "id": "b8bedfe4",
   "metadata": {},
   "source": [
    "### Шаг 1. Обзор данных"
   ]
  },
  {
   "cell_type": "markdown",
   "id": "fedefb08",
   "metadata": {},
   "source": [
    "Импортируем необходимые библиотеки. Прочитаем файлы с данными для анализа. Выведем на экран первые 15 строк и общую информацию о каждой таблице:"
   ]
  },
  {
   "cell_type": "code",
   "execution_count": 2,
   "id": "ccefa157",
   "metadata": {},
   "outputs": [],
   "source": [
    "import pandas as pd\n",
    "import math\n",
    "import numpy as np\n",
    "import matplotlib.pyplot as plt\n",
    "from scipy import stats as st"
   ]
  },
  {
   "cell_type": "code",
   "execution_count": 3,
   "id": "0b3f69f8",
   "metadata": {
    "scrolled": true
   },
   "outputs": [],
   "source": [
    "df_calls = pd.read_csv('/datasets/calls.csv') \n",
    "df_tariffs = pd.read_csv('/datasets/tariffs.csv') \n",
    "df_messages = pd.read_csv('/datasets/messages.csv')\n",
    "df_internet = pd.read_csv('/datasets/internet.csv') \n",
    "df_users = pd.read_csv('/datasets/users.csv') "
   ]
  },
  {
   "cell_type": "code",
   "execution_count": 4,
   "id": "423d92ec",
   "metadata": {
    "scrolled": true
   },
   "outputs": [
    {
     "data": {
      "text/html": [
       "<div>\n",
       "<style scoped>\n",
       "    .dataframe tbody tr th:only-of-type {\n",
       "        vertical-align: middle;\n",
       "    }\n",
       "\n",
       "    .dataframe tbody tr th {\n",
       "        vertical-align: top;\n",
       "    }\n",
       "\n",
       "    .dataframe thead th {\n",
       "        text-align: right;\n",
       "    }\n",
       "</style>\n",
       "<table border=\"1\" class=\"dataframe\">\n",
       "  <thead>\n",
       "    <tr style=\"text-align: right;\">\n",
       "      <th></th>\n",
       "      <th>id</th>\n",
       "      <th>call_date</th>\n",
       "      <th>duration</th>\n",
       "      <th>user_id</th>\n",
       "    </tr>\n",
       "  </thead>\n",
       "  <tbody>\n",
       "    <tr>\n",
       "      <th>0</th>\n",
       "      <td>1000_0</td>\n",
       "      <td>2018-07-25</td>\n",
       "      <td>0.00</td>\n",
       "      <td>1000</td>\n",
       "    </tr>\n",
       "    <tr>\n",
       "      <th>1</th>\n",
       "      <td>1000_1</td>\n",
       "      <td>2018-08-17</td>\n",
       "      <td>0.00</td>\n",
       "      <td>1000</td>\n",
       "    </tr>\n",
       "    <tr>\n",
       "      <th>2</th>\n",
       "      <td>1000_2</td>\n",
       "      <td>2018-06-11</td>\n",
       "      <td>2.85</td>\n",
       "      <td>1000</td>\n",
       "    </tr>\n",
       "    <tr>\n",
       "      <th>3</th>\n",
       "      <td>1000_3</td>\n",
       "      <td>2018-09-21</td>\n",
       "      <td>13.80</td>\n",
       "      <td>1000</td>\n",
       "    </tr>\n",
       "    <tr>\n",
       "      <th>4</th>\n",
       "      <td>1000_4</td>\n",
       "      <td>2018-12-15</td>\n",
       "      <td>5.18</td>\n",
       "      <td>1000</td>\n",
       "    </tr>\n",
       "    <tr>\n",
       "      <th>5</th>\n",
       "      <td>1000_5</td>\n",
       "      <td>2018-11-02</td>\n",
       "      <td>0.00</td>\n",
       "      <td>1000</td>\n",
       "    </tr>\n",
       "    <tr>\n",
       "      <th>6</th>\n",
       "      <td>1000_6</td>\n",
       "      <td>2018-10-18</td>\n",
       "      <td>0.00</td>\n",
       "      <td>1000</td>\n",
       "    </tr>\n",
       "    <tr>\n",
       "      <th>7</th>\n",
       "      <td>1000_7</td>\n",
       "      <td>2018-08-22</td>\n",
       "      <td>18.31</td>\n",
       "      <td>1000</td>\n",
       "    </tr>\n",
       "    <tr>\n",
       "      <th>8</th>\n",
       "      <td>1000_8</td>\n",
       "      <td>2018-09-15</td>\n",
       "      <td>18.44</td>\n",
       "      <td>1000</td>\n",
       "    </tr>\n",
       "    <tr>\n",
       "      <th>9</th>\n",
       "      <td>1000_9</td>\n",
       "      <td>2018-08-15</td>\n",
       "      <td>0.00</td>\n",
       "      <td>1000</td>\n",
       "    </tr>\n",
       "    <tr>\n",
       "      <th>10</th>\n",
       "      <td>1000_10</td>\n",
       "      <td>2018-08-22</td>\n",
       "      <td>5.03</td>\n",
       "      <td>1000</td>\n",
       "    </tr>\n",
       "    <tr>\n",
       "      <th>11</th>\n",
       "      <td>1000_11</td>\n",
       "      <td>2018-05-28</td>\n",
       "      <td>18.82</td>\n",
       "      <td>1000</td>\n",
       "    </tr>\n",
       "    <tr>\n",
       "      <th>12</th>\n",
       "      <td>1000_12</td>\n",
       "      <td>2018-07-05</td>\n",
       "      <td>2.02</td>\n",
       "      <td>1000</td>\n",
       "    </tr>\n",
       "    <tr>\n",
       "      <th>13</th>\n",
       "      <td>1000_13</td>\n",
       "      <td>2018-09-29</td>\n",
       "      <td>7.15</td>\n",
       "      <td>1000</td>\n",
       "    </tr>\n",
       "    <tr>\n",
       "      <th>14</th>\n",
       "      <td>1000_14</td>\n",
       "      <td>2018-12-11</td>\n",
       "      <td>9.13</td>\n",
       "      <td>1000</td>\n",
       "    </tr>\n",
       "  </tbody>\n",
       "</table>\n",
       "</div>"
      ],
      "text/plain": [
       "         id   call_date  duration  user_id\n",
       "0    1000_0  2018-07-25      0.00     1000\n",
       "1    1000_1  2018-08-17      0.00     1000\n",
       "2    1000_2  2018-06-11      2.85     1000\n",
       "3    1000_3  2018-09-21     13.80     1000\n",
       "4    1000_4  2018-12-15      5.18     1000\n",
       "5    1000_5  2018-11-02      0.00     1000\n",
       "6    1000_6  2018-10-18      0.00     1000\n",
       "7    1000_7  2018-08-22     18.31     1000\n",
       "8    1000_8  2018-09-15     18.44     1000\n",
       "9    1000_9  2018-08-15      0.00     1000\n",
       "10  1000_10  2018-08-22      5.03     1000\n",
       "11  1000_11  2018-05-28     18.82     1000\n",
       "12  1000_12  2018-07-05      2.02     1000\n",
       "13  1000_13  2018-09-29      7.15     1000\n",
       "14  1000_14  2018-12-11      9.13     1000"
      ]
     },
     "execution_count": 4,
     "metadata": {},
     "output_type": "execute_result"
    }
   ],
   "source": [
    "df_calls.head(15)"
   ]
  },
  {
   "cell_type": "code",
   "execution_count": 5,
   "id": "7d7d881c",
   "metadata": {
    "scrolled": true
   },
   "outputs": [
    {
     "name": "stdout",
     "output_type": "stream",
     "text": [
      "<class 'pandas.core.frame.DataFrame'>\n",
      "RangeIndex: 202607 entries, 0 to 202606\n",
      "Data columns (total 4 columns):\n",
      " #   Column     Non-Null Count   Dtype  \n",
      "---  ------     --------------   -----  \n",
      " 0   id         202607 non-null  object \n",
      " 1   call_date  202607 non-null  object \n",
      " 2   duration   202607 non-null  float64\n",
      " 3   user_id    202607 non-null  int64  \n",
      "dtypes: float64(1), int64(1), object(2)\n",
      "memory usage: 6.2+ MB\n"
     ]
    }
   ],
   "source": [
    "df_calls.info()"
   ]
  },
  {
   "cell_type": "code",
   "execution_count": 6,
   "id": "8628164c",
   "metadata": {},
   "outputs": [
    {
     "data": {
      "text/html": [
       "<div>\n",
       "<style scoped>\n",
       "    .dataframe tbody tr th:only-of-type {\n",
       "        vertical-align: middle;\n",
       "    }\n",
       "\n",
       "    .dataframe tbody tr th {\n",
       "        vertical-align: top;\n",
       "    }\n",
       "\n",
       "    .dataframe thead th {\n",
       "        text-align: right;\n",
       "    }\n",
       "</style>\n",
       "<table border=\"1\" class=\"dataframe\">\n",
       "  <thead>\n",
       "    <tr style=\"text-align: right;\">\n",
       "      <th></th>\n",
       "      <th>messages_included</th>\n",
       "      <th>mb_per_month_included</th>\n",
       "      <th>minutes_included</th>\n",
       "      <th>rub_monthly_fee</th>\n",
       "      <th>rub_per_gb</th>\n",
       "      <th>rub_per_message</th>\n",
       "      <th>rub_per_minute</th>\n",
       "      <th>tariff_name</th>\n",
       "    </tr>\n",
       "  </thead>\n",
       "  <tbody>\n",
       "    <tr>\n",
       "      <th>0</th>\n",
       "      <td>50</td>\n",
       "      <td>15360</td>\n",
       "      <td>500</td>\n",
       "      <td>550</td>\n",
       "      <td>200</td>\n",
       "      <td>3</td>\n",
       "      <td>3</td>\n",
       "      <td>smart</td>\n",
       "    </tr>\n",
       "    <tr>\n",
       "      <th>1</th>\n",
       "      <td>1000</td>\n",
       "      <td>30720</td>\n",
       "      <td>3000</td>\n",
       "      <td>1950</td>\n",
       "      <td>150</td>\n",
       "      <td>1</td>\n",
       "      <td>1</td>\n",
       "      <td>ultra</td>\n",
       "    </tr>\n",
       "  </tbody>\n",
       "</table>\n",
       "</div>"
      ],
      "text/plain": [
       "   messages_included  mb_per_month_included  minutes_included  \\\n",
       "0                 50                  15360               500   \n",
       "1               1000                  30720              3000   \n",
       "\n",
       "   rub_monthly_fee  rub_per_gb  rub_per_message  rub_per_minute tariff_name  \n",
       "0              550         200                3               3       smart  \n",
       "1             1950         150                1               1       ultra  "
      ]
     },
     "execution_count": 6,
     "metadata": {},
     "output_type": "execute_result"
    }
   ],
   "source": [
    "df_tariffs.head(15)"
   ]
  },
  {
   "cell_type": "code",
   "execution_count": 7,
   "id": "26265e0b",
   "metadata": {},
   "outputs": [
    {
     "name": "stdout",
     "output_type": "stream",
     "text": [
      "<class 'pandas.core.frame.DataFrame'>\n",
      "RangeIndex: 2 entries, 0 to 1\n",
      "Data columns (total 8 columns):\n",
      " #   Column                 Non-Null Count  Dtype \n",
      "---  ------                 --------------  ----- \n",
      " 0   messages_included      2 non-null      int64 \n",
      " 1   mb_per_month_included  2 non-null      int64 \n",
      " 2   minutes_included       2 non-null      int64 \n",
      " 3   rub_monthly_fee        2 non-null      int64 \n",
      " 4   rub_per_gb             2 non-null      int64 \n",
      " 5   rub_per_message        2 non-null      int64 \n",
      " 6   rub_per_minute         2 non-null      int64 \n",
      " 7   tariff_name            2 non-null      object\n",
      "dtypes: int64(7), object(1)\n",
      "memory usage: 256.0+ bytes\n"
     ]
    }
   ],
   "source": [
    "df_tariffs.info()"
   ]
  },
  {
   "cell_type": "code",
   "execution_count": 8,
   "id": "64fb73b4",
   "metadata": {},
   "outputs": [
    {
     "data": {
      "text/html": [
       "<div>\n",
       "<style scoped>\n",
       "    .dataframe tbody tr th:only-of-type {\n",
       "        vertical-align: middle;\n",
       "    }\n",
       "\n",
       "    .dataframe tbody tr th {\n",
       "        vertical-align: top;\n",
       "    }\n",
       "\n",
       "    .dataframe thead th {\n",
       "        text-align: right;\n",
       "    }\n",
       "</style>\n",
       "<table border=\"1\" class=\"dataframe\">\n",
       "  <thead>\n",
       "    <tr style=\"text-align: right;\">\n",
       "      <th></th>\n",
       "      <th>id</th>\n",
       "      <th>message_date</th>\n",
       "      <th>user_id</th>\n",
       "    </tr>\n",
       "  </thead>\n",
       "  <tbody>\n",
       "    <tr>\n",
       "      <th>0</th>\n",
       "      <td>1000_0</td>\n",
       "      <td>2018-06-27</td>\n",
       "      <td>1000</td>\n",
       "    </tr>\n",
       "    <tr>\n",
       "      <th>1</th>\n",
       "      <td>1000_1</td>\n",
       "      <td>2018-10-08</td>\n",
       "      <td>1000</td>\n",
       "    </tr>\n",
       "    <tr>\n",
       "      <th>2</th>\n",
       "      <td>1000_2</td>\n",
       "      <td>2018-08-04</td>\n",
       "      <td>1000</td>\n",
       "    </tr>\n",
       "    <tr>\n",
       "      <th>3</th>\n",
       "      <td>1000_3</td>\n",
       "      <td>2018-06-16</td>\n",
       "      <td>1000</td>\n",
       "    </tr>\n",
       "    <tr>\n",
       "      <th>4</th>\n",
       "      <td>1000_4</td>\n",
       "      <td>2018-12-05</td>\n",
       "      <td>1000</td>\n",
       "    </tr>\n",
       "    <tr>\n",
       "      <th>5</th>\n",
       "      <td>1000_5</td>\n",
       "      <td>2018-06-20</td>\n",
       "      <td>1000</td>\n",
       "    </tr>\n",
       "    <tr>\n",
       "      <th>6</th>\n",
       "      <td>1000_6</td>\n",
       "      <td>2018-11-19</td>\n",
       "      <td>1000</td>\n",
       "    </tr>\n",
       "    <tr>\n",
       "      <th>7</th>\n",
       "      <td>1000_7</td>\n",
       "      <td>2018-10-29</td>\n",
       "      <td>1000</td>\n",
       "    </tr>\n",
       "    <tr>\n",
       "      <th>8</th>\n",
       "      <td>1000_8</td>\n",
       "      <td>2018-06-25</td>\n",
       "      <td>1000</td>\n",
       "    </tr>\n",
       "    <tr>\n",
       "      <th>9</th>\n",
       "      <td>1000_9</td>\n",
       "      <td>2018-12-18</td>\n",
       "      <td>1000</td>\n",
       "    </tr>\n",
       "    <tr>\n",
       "      <th>10</th>\n",
       "      <td>1000_10</td>\n",
       "      <td>2018-05-30</td>\n",
       "      <td>1000</td>\n",
       "    </tr>\n",
       "    <tr>\n",
       "      <th>11</th>\n",
       "      <td>1000_11</td>\n",
       "      <td>2018-07-06</td>\n",
       "      <td>1000</td>\n",
       "    </tr>\n",
       "    <tr>\n",
       "      <th>12</th>\n",
       "      <td>1000_12</td>\n",
       "      <td>2018-08-20</td>\n",
       "      <td>1000</td>\n",
       "    </tr>\n",
       "    <tr>\n",
       "      <th>13</th>\n",
       "      <td>1000_13</td>\n",
       "      <td>2018-10-30</td>\n",
       "      <td>1000</td>\n",
       "    </tr>\n",
       "    <tr>\n",
       "      <th>14</th>\n",
       "      <td>1000_14</td>\n",
       "      <td>2018-09-14</td>\n",
       "      <td>1000</td>\n",
       "    </tr>\n",
       "  </tbody>\n",
       "</table>\n",
       "</div>"
      ],
      "text/plain": [
       "         id message_date  user_id\n",
       "0    1000_0   2018-06-27     1000\n",
       "1    1000_1   2018-10-08     1000\n",
       "2    1000_2   2018-08-04     1000\n",
       "3    1000_3   2018-06-16     1000\n",
       "4    1000_4   2018-12-05     1000\n",
       "5    1000_5   2018-06-20     1000\n",
       "6    1000_6   2018-11-19     1000\n",
       "7    1000_7   2018-10-29     1000\n",
       "8    1000_8   2018-06-25     1000\n",
       "9    1000_9   2018-12-18     1000\n",
       "10  1000_10   2018-05-30     1000\n",
       "11  1000_11   2018-07-06     1000\n",
       "12  1000_12   2018-08-20     1000\n",
       "13  1000_13   2018-10-30     1000\n",
       "14  1000_14   2018-09-14     1000"
      ]
     },
     "execution_count": 8,
     "metadata": {},
     "output_type": "execute_result"
    }
   ],
   "source": [
    "df_messages.head(15)"
   ]
  },
  {
   "cell_type": "code",
   "execution_count": 9,
   "id": "8e4b9e59",
   "metadata": {},
   "outputs": [
    {
     "name": "stdout",
     "output_type": "stream",
     "text": [
      "<class 'pandas.core.frame.DataFrame'>\n",
      "RangeIndex: 123036 entries, 0 to 123035\n",
      "Data columns (total 3 columns):\n",
      " #   Column        Non-Null Count   Dtype \n",
      "---  ------        --------------   ----- \n",
      " 0   id            123036 non-null  object\n",
      " 1   message_date  123036 non-null  object\n",
      " 2   user_id       123036 non-null  int64 \n",
      "dtypes: int64(1), object(2)\n",
      "memory usage: 2.8+ MB\n"
     ]
    }
   ],
   "source": [
    "df_messages.info()"
   ]
  },
  {
   "cell_type": "code",
   "execution_count": 10,
   "id": "b3eaf092",
   "metadata": {},
   "outputs": [
    {
     "data": {
      "text/html": [
       "<div>\n",
       "<style scoped>\n",
       "    .dataframe tbody tr th:only-of-type {\n",
       "        vertical-align: middle;\n",
       "    }\n",
       "\n",
       "    .dataframe tbody tr th {\n",
       "        vertical-align: top;\n",
       "    }\n",
       "\n",
       "    .dataframe thead th {\n",
       "        text-align: right;\n",
       "    }\n",
       "</style>\n",
       "<table border=\"1\" class=\"dataframe\">\n",
       "  <thead>\n",
       "    <tr style=\"text-align: right;\">\n",
       "      <th></th>\n",
       "      <th>Unnamed: 0</th>\n",
       "      <th>id</th>\n",
       "      <th>mb_used</th>\n",
       "      <th>session_date</th>\n",
       "      <th>user_id</th>\n",
       "    </tr>\n",
       "  </thead>\n",
       "  <tbody>\n",
       "    <tr>\n",
       "      <th>0</th>\n",
       "      <td>0</td>\n",
       "      <td>1000_0</td>\n",
       "      <td>112.95</td>\n",
       "      <td>2018-11-25</td>\n",
       "      <td>1000</td>\n",
       "    </tr>\n",
       "    <tr>\n",
       "      <th>1</th>\n",
       "      <td>1</td>\n",
       "      <td>1000_1</td>\n",
       "      <td>1052.81</td>\n",
       "      <td>2018-09-07</td>\n",
       "      <td>1000</td>\n",
       "    </tr>\n",
       "    <tr>\n",
       "      <th>2</th>\n",
       "      <td>2</td>\n",
       "      <td>1000_2</td>\n",
       "      <td>1197.26</td>\n",
       "      <td>2018-06-25</td>\n",
       "      <td>1000</td>\n",
       "    </tr>\n",
       "    <tr>\n",
       "      <th>3</th>\n",
       "      <td>3</td>\n",
       "      <td>1000_3</td>\n",
       "      <td>550.27</td>\n",
       "      <td>2018-08-22</td>\n",
       "      <td>1000</td>\n",
       "    </tr>\n",
       "    <tr>\n",
       "      <th>4</th>\n",
       "      <td>4</td>\n",
       "      <td>1000_4</td>\n",
       "      <td>302.56</td>\n",
       "      <td>2018-09-24</td>\n",
       "      <td>1000</td>\n",
       "    </tr>\n",
       "    <tr>\n",
       "      <th>5</th>\n",
       "      <td>5</td>\n",
       "      <td>1000_5</td>\n",
       "      <td>399.97</td>\n",
       "      <td>2018-10-02</td>\n",
       "      <td>1000</td>\n",
       "    </tr>\n",
       "    <tr>\n",
       "      <th>6</th>\n",
       "      <td>6</td>\n",
       "      <td>1000_6</td>\n",
       "      <td>540.08</td>\n",
       "      <td>2018-09-07</td>\n",
       "      <td>1000</td>\n",
       "    </tr>\n",
       "    <tr>\n",
       "      <th>7</th>\n",
       "      <td>7</td>\n",
       "      <td>1000_7</td>\n",
       "      <td>415.70</td>\n",
       "      <td>2018-07-11</td>\n",
       "      <td>1000</td>\n",
       "    </tr>\n",
       "    <tr>\n",
       "      <th>8</th>\n",
       "      <td>8</td>\n",
       "      <td>1000_8</td>\n",
       "      <td>505.40</td>\n",
       "      <td>2018-10-08</td>\n",
       "      <td>1000</td>\n",
       "    </tr>\n",
       "    <tr>\n",
       "      <th>9</th>\n",
       "      <td>9</td>\n",
       "      <td>1000_9</td>\n",
       "      <td>345.54</td>\n",
       "      <td>2018-09-03</td>\n",
       "      <td>1000</td>\n",
       "    </tr>\n",
       "    <tr>\n",
       "      <th>10</th>\n",
       "      <td>10</td>\n",
       "      <td>1000_10</td>\n",
       "      <td>385.14</td>\n",
       "      <td>2018-09-27</td>\n",
       "      <td>1000</td>\n",
       "    </tr>\n",
       "    <tr>\n",
       "      <th>11</th>\n",
       "      <td>11</td>\n",
       "      <td>1000_11</td>\n",
       "      <td>0.00</td>\n",
       "      <td>2018-08-28</td>\n",
       "      <td>1000</td>\n",
       "    </tr>\n",
       "    <tr>\n",
       "      <th>12</th>\n",
       "      <td>12</td>\n",
       "      <td>1000_12</td>\n",
       "      <td>375.87</td>\n",
       "      <td>2018-06-20</td>\n",
       "      <td>1000</td>\n",
       "    </tr>\n",
       "    <tr>\n",
       "      <th>13</th>\n",
       "      <td>13</td>\n",
       "      <td>1000_13</td>\n",
       "      <td>393.83</td>\n",
       "      <td>2018-08-09</td>\n",
       "      <td>1000</td>\n",
       "    </tr>\n",
       "    <tr>\n",
       "      <th>14</th>\n",
       "      <td>14</td>\n",
       "      <td>1000_14</td>\n",
       "      <td>180.64</td>\n",
       "      <td>2018-08-11</td>\n",
       "      <td>1000</td>\n",
       "    </tr>\n",
       "  </tbody>\n",
       "</table>\n",
       "</div>"
      ],
      "text/plain": [
       "    Unnamed: 0       id  mb_used session_date  user_id\n",
       "0            0   1000_0   112.95   2018-11-25     1000\n",
       "1            1   1000_1  1052.81   2018-09-07     1000\n",
       "2            2   1000_2  1197.26   2018-06-25     1000\n",
       "3            3   1000_3   550.27   2018-08-22     1000\n",
       "4            4   1000_4   302.56   2018-09-24     1000\n",
       "5            5   1000_5   399.97   2018-10-02     1000\n",
       "6            6   1000_6   540.08   2018-09-07     1000\n",
       "7            7   1000_7   415.70   2018-07-11     1000\n",
       "8            8   1000_8   505.40   2018-10-08     1000\n",
       "9            9   1000_9   345.54   2018-09-03     1000\n",
       "10          10  1000_10   385.14   2018-09-27     1000\n",
       "11          11  1000_11     0.00   2018-08-28     1000\n",
       "12          12  1000_12   375.87   2018-06-20     1000\n",
       "13          13  1000_13   393.83   2018-08-09     1000\n",
       "14          14  1000_14   180.64   2018-08-11     1000"
      ]
     },
     "execution_count": 10,
     "metadata": {},
     "output_type": "execute_result"
    }
   ],
   "source": [
    "df_internet.head(15)"
   ]
  },
  {
   "cell_type": "code",
   "execution_count": 11,
   "id": "aee9fb7c",
   "metadata": {},
   "outputs": [
    {
     "name": "stdout",
     "output_type": "stream",
     "text": [
      "<class 'pandas.core.frame.DataFrame'>\n",
      "RangeIndex: 149396 entries, 0 to 149395\n",
      "Data columns (total 5 columns):\n",
      " #   Column        Non-Null Count   Dtype  \n",
      "---  ------        --------------   -----  \n",
      " 0   Unnamed: 0    149396 non-null  int64  \n",
      " 1   id            149396 non-null  object \n",
      " 2   mb_used       149396 non-null  float64\n",
      " 3   session_date  149396 non-null  object \n",
      " 4   user_id       149396 non-null  int64  \n",
      "dtypes: float64(1), int64(2), object(2)\n",
      "memory usage: 5.7+ MB\n"
     ]
    }
   ],
   "source": [
    "df_internet.info()"
   ]
  },
  {
   "cell_type": "code",
   "execution_count": 12,
   "id": "f1f29188",
   "metadata": {},
   "outputs": [
    {
     "data": {
      "text/html": [
       "<div>\n",
       "<style scoped>\n",
       "    .dataframe tbody tr th:only-of-type {\n",
       "        vertical-align: middle;\n",
       "    }\n",
       "\n",
       "    .dataframe tbody tr th {\n",
       "        vertical-align: top;\n",
       "    }\n",
       "\n",
       "    .dataframe thead th {\n",
       "        text-align: right;\n",
       "    }\n",
       "</style>\n",
       "<table border=\"1\" class=\"dataframe\">\n",
       "  <thead>\n",
       "    <tr style=\"text-align: right;\">\n",
       "      <th></th>\n",
       "      <th>user_id</th>\n",
       "      <th>age</th>\n",
       "      <th>churn_date</th>\n",
       "      <th>city</th>\n",
       "      <th>first_name</th>\n",
       "      <th>last_name</th>\n",
       "      <th>reg_date</th>\n",
       "      <th>tariff</th>\n",
       "    </tr>\n",
       "  </thead>\n",
       "  <tbody>\n",
       "    <tr>\n",
       "      <th>0</th>\n",
       "      <td>1000</td>\n",
       "      <td>52</td>\n",
       "      <td>NaN</td>\n",
       "      <td>Краснодар</td>\n",
       "      <td>Рафаил</td>\n",
       "      <td>Верещагин</td>\n",
       "      <td>2018-05-25</td>\n",
       "      <td>ultra</td>\n",
       "    </tr>\n",
       "    <tr>\n",
       "      <th>1</th>\n",
       "      <td>1001</td>\n",
       "      <td>41</td>\n",
       "      <td>NaN</td>\n",
       "      <td>Москва</td>\n",
       "      <td>Иван</td>\n",
       "      <td>Ежов</td>\n",
       "      <td>2018-11-01</td>\n",
       "      <td>smart</td>\n",
       "    </tr>\n",
       "    <tr>\n",
       "      <th>2</th>\n",
       "      <td>1002</td>\n",
       "      <td>59</td>\n",
       "      <td>NaN</td>\n",
       "      <td>Стерлитамак</td>\n",
       "      <td>Евгений</td>\n",
       "      <td>Абрамович</td>\n",
       "      <td>2018-06-17</td>\n",
       "      <td>smart</td>\n",
       "    </tr>\n",
       "    <tr>\n",
       "      <th>3</th>\n",
       "      <td>1003</td>\n",
       "      <td>23</td>\n",
       "      <td>NaN</td>\n",
       "      <td>Москва</td>\n",
       "      <td>Белла</td>\n",
       "      <td>Белякова</td>\n",
       "      <td>2018-08-17</td>\n",
       "      <td>ultra</td>\n",
       "    </tr>\n",
       "    <tr>\n",
       "      <th>4</th>\n",
       "      <td>1004</td>\n",
       "      <td>68</td>\n",
       "      <td>NaN</td>\n",
       "      <td>Новокузнецк</td>\n",
       "      <td>Татьяна</td>\n",
       "      <td>Авдеенко</td>\n",
       "      <td>2018-05-14</td>\n",
       "      <td>ultra</td>\n",
       "    </tr>\n",
       "    <tr>\n",
       "      <th>5</th>\n",
       "      <td>1005</td>\n",
       "      <td>67</td>\n",
       "      <td>NaN</td>\n",
       "      <td>Набережные Челны</td>\n",
       "      <td>Афанасий</td>\n",
       "      <td>Горлов</td>\n",
       "      <td>2018-01-25</td>\n",
       "      <td>smart</td>\n",
       "    </tr>\n",
       "    <tr>\n",
       "      <th>6</th>\n",
       "      <td>1006</td>\n",
       "      <td>21</td>\n",
       "      <td>NaN</td>\n",
       "      <td>Ульяновск</td>\n",
       "      <td>Леонид</td>\n",
       "      <td>Ермолаев</td>\n",
       "      <td>2018-02-26</td>\n",
       "      <td>smart</td>\n",
       "    </tr>\n",
       "    <tr>\n",
       "      <th>7</th>\n",
       "      <td>1007</td>\n",
       "      <td>65</td>\n",
       "      <td>NaN</td>\n",
       "      <td>Москва</td>\n",
       "      <td>Юна</td>\n",
       "      <td>Березина</td>\n",
       "      <td>2018-04-19</td>\n",
       "      <td>smart</td>\n",
       "    </tr>\n",
       "    <tr>\n",
       "      <th>8</th>\n",
       "      <td>1008</td>\n",
       "      <td>63</td>\n",
       "      <td>NaN</td>\n",
       "      <td>Челябинск</td>\n",
       "      <td>Рустэм</td>\n",
       "      <td>Пономарёв</td>\n",
       "      <td>2018-12-19</td>\n",
       "      <td>smart</td>\n",
       "    </tr>\n",
       "    <tr>\n",
       "      <th>9</th>\n",
       "      <td>1009</td>\n",
       "      <td>24</td>\n",
       "      <td>NaN</td>\n",
       "      <td>Пермь</td>\n",
       "      <td>Василиса</td>\n",
       "      <td>Блинова</td>\n",
       "      <td>2018-03-22</td>\n",
       "      <td>smart</td>\n",
       "    </tr>\n",
       "    <tr>\n",
       "      <th>10</th>\n",
       "      <td>1010</td>\n",
       "      <td>26</td>\n",
       "      <td>NaN</td>\n",
       "      <td>Тюмень</td>\n",
       "      <td>Эдуард</td>\n",
       "      <td>Кононов</td>\n",
       "      <td>2018-08-05</td>\n",
       "      <td>smart</td>\n",
       "    </tr>\n",
       "    <tr>\n",
       "      <th>11</th>\n",
       "      <td>1011</td>\n",
       "      <td>44</td>\n",
       "      <td>NaN</td>\n",
       "      <td>Самара</td>\n",
       "      <td>Веселина</td>\n",
       "      <td>Алёшко</td>\n",
       "      <td>2018-03-19</td>\n",
       "      <td>smart</td>\n",
       "    </tr>\n",
       "    <tr>\n",
       "      <th>12</th>\n",
       "      <td>1012</td>\n",
       "      <td>38</td>\n",
       "      <td>NaN</td>\n",
       "      <td>Санкт-Петербург</td>\n",
       "      <td>Варлам</td>\n",
       "      <td>Соловьев</td>\n",
       "      <td>2018-03-28</td>\n",
       "      <td>smart</td>\n",
       "    </tr>\n",
       "    <tr>\n",
       "      <th>13</th>\n",
       "      <td>1013</td>\n",
       "      <td>36</td>\n",
       "      <td>NaN</td>\n",
       "      <td>Иваново</td>\n",
       "      <td>Борис</td>\n",
       "      <td>Андреенко</td>\n",
       "      <td>2018-11-14</td>\n",
       "      <td>ultra</td>\n",
       "    </tr>\n",
       "    <tr>\n",
       "      <th>14</th>\n",
       "      <td>1014</td>\n",
       "      <td>64</td>\n",
       "      <td>NaN</td>\n",
       "      <td>Чебоксары</td>\n",
       "      <td>Яков</td>\n",
       "      <td>Акинфьев</td>\n",
       "      <td>2018-05-15</td>\n",
       "      <td>smart</td>\n",
       "    </tr>\n",
       "  </tbody>\n",
       "</table>\n",
       "</div>"
      ],
      "text/plain": [
       "    user_id  age churn_date              city first_name  last_name  \\\n",
       "0      1000   52        NaN         Краснодар     Рафаил  Верещагин   \n",
       "1      1001   41        NaN            Москва       Иван       Ежов   \n",
       "2      1002   59        NaN       Стерлитамак    Евгений  Абрамович   \n",
       "3      1003   23        NaN            Москва      Белла   Белякова   \n",
       "4      1004   68        NaN       Новокузнецк    Татьяна   Авдеенко   \n",
       "5      1005   67        NaN  Набережные Челны   Афанасий     Горлов   \n",
       "6      1006   21        NaN         Ульяновск     Леонид   Ермолаев   \n",
       "7      1007   65        NaN            Москва        Юна   Березина   \n",
       "8      1008   63        NaN         Челябинск     Рустэм  Пономарёв   \n",
       "9      1009   24        NaN             Пермь   Василиса    Блинова   \n",
       "10     1010   26        NaN            Тюмень     Эдуард    Кононов   \n",
       "11     1011   44        NaN            Самара   Веселина     Алёшко   \n",
       "12     1012   38        NaN   Санкт-Петербург     Варлам   Соловьев   \n",
       "13     1013   36        NaN           Иваново      Борис  Андреенко   \n",
       "14     1014   64        NaN         Чебоксары       Яков   Акинфьев   \n",
       "\n",
       "      reg_date tariff  \n",
       "0   2018-05-25  ultra  \n",
       "1   2018-11-01  smart  \n",
       "2   2018-06-17  smart  \n",
       "3   2018-08-17  ultra  \n",
       "4   2018-05-14  ultra  \n",
       "5   2018-01-25  smart  \n",
       "6   2018-02-26  smart  \n",
       "7   2018-04-19  smart  \n",
       "8   2018-12-19  smart  \n",
       "9   2018-03-22  smart  \n",
       "10  2018-08-05  smart  \n",
       "11  2018-03-19  smart  \n",
       "12  2018-03-28  smart  \n",
       "13  2018-11-14  ultra  \n",
       "14  2018-05-15  smart  "
      ]
     },
     "execution_count": 12,
     "metadata": {},
     "output_type": "execute_result"
    }
   ],
   "source": [
    "df_users.head(15)"
   ]
  },
  {
   "cell_type": "code",
   "execution_count": 13,
   "id": "f61a7020",
   "metadata": {},
   "outputs": [
    {
     "name": "stdout",
     "output_type": "stream",
     "text": [
      "<class 'pandas.core.frame.DataFrame'>\n",
      "RangeIndex: 500 entries, 0 to 499\n",
      "Data columns (total 8 columns):\n",
      " #   Column      Non-Null Count  Dtype \n",
      "---  ------      --------------  ----- \n",
      " 0   user_id     500 non-null    int64 \n",
      " 1   age         500 non-null    int64 \n",
      " 2   churn_date  38 non-null     object\n",
      " 3   city        500 non-null    object\n",
      " 4   first_name  500 non-null    object\n",
      " 5   last_name   500 non-null    object\n",
      " 6   reg_date    500 non-null    object\n",
      " 7   tariff      500 non-null    object\n",
      "dtypes: int64(2), object(6)\n",
      "memory usage: 31.4+ KB\n"
     ]
    }
   ],
   "source": [
    "df_users.info()"
   ]
  },
  {
   "cell_type": "markdown",
   "id": "78caafb0",
   "metadata": {},
   "source": [
    "Как мы видим, данные неоднородны по размеру. В некоторых таблицах есть пропуски, а так же типы данных в некоторых колонках не верны. Выполним предобработку данных."
   ]
  },
  {
   "cell_type": "markdown",
   "id": "8551a633",
   "metadata": {},
   "source": [
    "### Шаг 2. Подготовка данных"
   ]
  },
  {
   "cell_type": "markdown",
   "id": "b36b8956",
   "metadata": {},
   "source": [
    "#### Шаг 2.1 Предобработка данных"
   ]
  },
  {
   "cell_type": "markdown",
   "id": "9a8277d9",
   "metadata": {},
   "source": [
    "<b>Приведение данных к нужным типам.</b>"
   ]
  },
  {
   "cell_type": "markdown",
   "id": "050922a9",
   "metadata": {},
   "source": [
    "Во всех таблицах, кроме df_tariffs, есть столббцы с датами. Нужно заменить тип данных в этих столбцах с object на datetime.\n",
    "Столбец churn_date в таблице с пользователями оставим без изменений, так как в нем  много пропусков из-за того, что клиенты до сих пор пользуются тарифом (привести столбец  к нужному типу не получится не избавившись от пропусков. Нам эта колонка в анализе не нужна, поэтому оставим и пропуски и тип данных без изменений)."
   ]
  },
  {
   "cell_type": "code",
   "execution_count": 14,
   "id": "d54614d2",
   "metadata": {},
   "outputs": [],
   "source": [
    "df_calls['call_date'] = pd.to_datetime(df_calls['call_date'], format='%Y.%m.%d')\n",
    "df_messages['message_date'] = pd.to_datetime(df_messages['message_date'], format='%Y.%m.%d')\n",
    "df_internet['session_date'] = pd.to_datetime(df_internet['session_date'], format='%Y.%m.%d')\n",
    "df_users['reg_date'] = pd.to_datetime(df_users['reg_date'], format='%Y.%m.%d')"
   ]
  },
  {
   "cell_type": "markdown",
   "id": "c652e2dc",
   "metadata": {},
   "source": [
    "<b>Проверка на дубликаты.</b>"
   ]
  },
  {
   "cell_type": "code",
   "execution_count": 15,
   "id": "24f700f5",
   "metadata": {},
   "outputs": [
    {
     "data": {
      "text/plain": [
       "0"
      ]
     },
     "execution_count": 15,
     "metadata": {},
     "output_type": "execute_result"
    }
   ],
   "source": [
    "df_calls.duplicated().sum()"
   ]
  },
  {
   "cell_type": "code",
   "execution_count": 16,
   "id": "b24ae2bc",
   "metadata": {},
   "outputs": [
    {
     "data": {
      "text/plain": [
       "0"
      ]
     },
     "execution_count": 16,
     "metadata": {},
     "output_type": "execute_result"
    }
   ],
   "source": [
    "df_messages.duplicated().sum()"
   ]
  },
  {
   "cell_type": "code",
   "execution_count": 17,
   "id": "177ac34e",
   "metadata": {},
   "outputs": [
    {
     "data": {
      "text/plain": [
       "0"
      ]
     },
     "execution_count": 17,
     "metadata": {},
     "output_type": "execute_result"
    }
   ],
   "source": [
    "df_internet.duplicated().sum()"
   ]
  },
  {
   "cell_type": "code",
   "execution_count": 18,
   "id": "8977b6af",
   "metadata": {},
   "outputs": [
    {
     "data": {
      "text/plain": [
       "0"
      ]
     },
     "execution_count": 18,
     "metadata": {},
     "output_type": "execute_result"
    }
   ],
   "source": [
    "df_users.duplicated().sum()"
   ]
  },
  {
   "cell_type": "markdown",
   "id": "b15a83b3",
   "metadata": {},
   "source": [
    "Дубликатов нет."
   ]
  },
  {
   "cell_type": "markdown",
   "id": "bd801bba",
   "metadata": {},
   "source": [
    "<b>Исправление ошибок.</b>"
   ]
  },
  {
   "cell_type": "markdown",
   "id": "6e96eca4",
   "metadata": {},
   "source": [
    "В таблице df_internet есть столбец \"Unnamed: 0\", который повторяет индексы строк. Удалим его."
   ]
  },
  {
   "cell_type": "code",
   "execution_count": 19,
   "id": "2288f494",
   "metadata": {},
   "outputs": [],
   "source": [
    "del df_internet['Unnamed: 0']"
   ]
  },
  {
   "cell_type": "markdown",
   "id": "c1b3ad8c",
   "metadata": {},
   "source": [
    "Проверим результат операций по предобработке данных."
   ]
  },
  {
   "cell_type": "code",
   "execution_count": 20,
   "id": "8cc9618c",
   "metadata": {},
   "outputs": [
    {
     "name": "stdout",
     "output_type": "stream",
     "text": [
      "<class 'pandas.core.frame.DataFrame'>\n",
      "RangeIndex: 149396 entries, 0 to 149395\n",
      "Data columns (total 4 columns):\n",
      " #   Column        Non-Null Count   Dtype         \n",
      "---  ------        --------------   -----         \n",
      " 0   id            149396 non-null  object        \n",
      " 1   mb_used       149396 non-null  float64       \n",
      " 2   session_date  149396 non-null  datetime64[ns]\n",
      " 3   user_id       149396 non-null  int64         \n",
      "dtypes: datetime64[ns](1), float64(1), int64(1), object(1)\n",
      "memory usage: 4.6+ MB\n"
     ]
    }
   ],
   "source": [
    "df_internet.info()"
   ]
  },
  {
   "cell_type": "code",
   "execution_count": 21,
   "id": "1805fabe",
   "metadata": {},
   "outputs": [
    {
     "name": "stdout",
     "output_type": "stream",
     "text": [
      "<class 'pandas.core.frame.DataFrame'>\n",
      "RangeIndex: 500 entries, 0 to 499\n",
      "Data columns (total 8 columns):\n",
      " #   Column      Non-Null Count  Dtype         \n",
      "---  ------      --------------  -----         \n",
      " 0   user_id     500 non-null    int64         \n",
      " 1   age         500 non-null    int64         \n",
      " 2   churn_date  38 non-null     object        \n",
      " 3   city        500 non-null    object        \n",
      " 4   first_name  500 non-null    object        \n",
      " 5   last_name   500 non-null    object        \n",
      " 6   reg_date    500 non-null    datetime64[ns]\n",
      " 7   tariff      500 non-null    object        \n",
      "dtypes: datetime64[ns](1), int64(2), object(5)\n",
      "memory usage: 31.4+ KB\n"
     ]
    }
   ],
   "source": [
    "df_users.info()"
   ]
  },
  {
   "cell_type": "code",
   "execution_count": 22,
   "id": "ca49e9b1",
   "metadata": {},
   "outputs": [
    {
     "name": "stdout",
     "output_type": "stream",
     "text": [
      "<class 'pandas.core.frame.DataFrame'>\n",
      "RangeIndex: 202607 entries, 0 to 202606\n",
      "Data columns (total 4 columns):\n",
      " #   Column     Non-Null Count   Dtype         \n",
      "---  ------     --------------   -----         \n",
      " 0   id         202607 non-null  object        \n",
      " 1   call_date  202607 non-null  datetime64[ns]\n",
      " 2   duration   202607 non-null  float64       \n",
      " 3   user_id    202607 non-null  int64         \n",
      "dtypes: datetime64[ns](1), float64(1), int64(1), object(1)\n",
      "memory usage: 6.2+ MB\n"
     ]
    }
   ],
   "source": [
    "df_calls.info()"
   ]
  },
  {
   "cell_type": "code",
   "execution_count": 23,
   "id": "db8b2651",
   "metadata": {},
   "outputs": [
    {
     "name": "stdout",
     "output_type": "stream",
     "text": [
      "<class 'pandas.core.frame.DataFrame'>\n",
      "RangeIndex: 123036 entries, 0 to 123035\n",
      "Data columns (total 3 columns):\n",
      " #   Column        Non-Null Count   Dtype         \n",
      "---  ------        --------------   -----         \n",
      " 0   id            123036 non-null  object        \n",
      " 1   message_date  123036 non-null  datetime64[ns]\n",
      " 2   user_id       123036 non-null  int64         \n",
      "dtypes: datetime64[ns](1), int64(1), object(1)\n",
      "memory usage: 2.8+ MB\n"
     ]
    }
   ],
   "source": [
    "df_messages.info()"
   ]
  },
  {
   "cell_type": "markdown",
   "id": "28f4b0d9",
   "metadata": {},
   "source": [
    "#### Шаг 2.2 Вычисление параметров для каждого пользователя"
   ]
  },
  {
   "cell_type": "markdown",
   "id": "aeac4106",
   "metadata": {},
   "source": [
    "Необходимо вычислить для каждого пользователя:\n",
    "\n",
    "*количество сделанных звонков и израсходованных минут разговора по месяцам;\n",
    "\n",
    "*количество отправленных сообщений по месяцам;\n",
    "\n",
    "*объем израсходованного интернет-трафика по месяцам;\n",
    "\n",
    "*помесячную выручку с каждого пользователя."
   ]
  },
  {
   "cell_type": "markdown",
   "id": "d13b9658",
   "metadata": {},
   "source": [
    "<b>Количество сделанных звонков и израсходованных минут разговора по месяцам.</b>"
   ]
  },
  {
   "cell_type": "code",
   "execution_count": 24,
   "id": "cd7cf69d",
   "metadata": {},
   "outputs": [
    {
     "data": {
      "text/html": [
       "<div>\n",
       "<style scoped>\n",
       "    .dataframe tbody tr th:only-of-type {\n",
       "        vertical-align: middle;\n",
       "    }\n",
       "\n",
       "    .dataframe tbody tr th {\n",
       "        vertical-align: top;\n",
       "    }\n",
       "\n",
       "    .dataframe thead th {\n",
       "        text-align: right;\n",
       "    }\n",
       "</style>\n",
       "<table border=\"1\" class=\"dataframe\">\n",
       "  <thead>\n",
       "    <tr style=\"text-align: right;\">\n",
       "      <th></th>\n",
       "      <th>id</th>\n",
       "      <th>call_date</th>\n",
       "      <th>duration</th>\n",
       "      <th>user_id</th>\n",
       "      <th>month</th>\n",
       "      <th>calls_min</th>\n",
       "    </tr>\n",
       "  </thead>\n",
       "  <tbody>\n",
       "    <tr>\n",
       "      <th>0</th>\n",
       "      <td>1000_0</td>\n",
       "      <td>2018-07-25</td>\n",
       "      <td>0.00</td>\n",
       "      <td>1000</td>\n",
       "      <td>7</td>\n",
       "      <td>0.0</td>\n",
       "    </tr>\n",
       "    <tr>\n",
       "      <th>1</th>\n",
       "      <td>1000_1</td>\n",
       "      <td>2018-08-17</td>\n",
       "      <td>0.00</td>\n",
       "      <td>1000</td>\n",
       "      <td>8</td>\n",
       "      <td>0.0</td>\n",
       "    </tr>\n",
       "    <tr>\n",
       "      <th>2</th>\n",
       "      <td>1000_2</td>\n",
       "      <td>2018-06-11</td>\n",
       "      <td>2.85</td>\n",
       "      <td>1000</td>\n",
       "      <td>6</td>\n",
       "      <td>3.0</td>\n",
       "    </tr>\n",
       "    <tr>\n",
       "      <th>3</th>\n",
       "      <td>1000_3</td>\n",
       "      <td>2018-09-21</td>\n",
       "      <td>13.80</td>\n",
       "      <td>1000</td>\n",
       "      <td>9</td>\n",
       "      <td>14.0</td>\n",
       "    </tr>\n",
       "    <tr>\n",
       "      <th>4</th>\n",
       "      <td>1000_4</td>\n",
       "      <td>2018-12-15</td>\n",
       "      <td>5.18</td>\n",
       "      <td>1000</td>\n",
       "      <td>12</td>\n",
       "      <td>6.0</td>\n",
       "    </tr>\n",
       "  </tbody>\n",
       "</table>\n",
       "</div>"
      ],
      "text/plain": [
       "       id  call_date  duration  user_id  month  calls_min\n",
       "0  1000_0 2018-07-25      0.00     1000      7        0.0\n",
       "1  1000_1 2018-08-17      0.00     1000      8        0.0\n",
       "2  1000_2 2018-06-11      2.85     1000      6        3.0\n",
       "3  1000_3 2018-09-21     13.80     1000      9       14.0\n",
       "4  1000_4 2018-12-15      5.18     1000     12        6.0"
      ]
     },
     "execution_count": 24,
     "metadata": {},
     "output_type": "execute_result"
    }
   ],
   "source": [
    "#Добавим в таблицу df_calls столбец с месяцем звонка\n",
    "df_calls['month'] = pd.DatetimeIndex(df_calls['call_date']).month \n",
    "#Добавим столбец с длительностью звонка в минутах (округлим значения до минут в столбце duration, так как согласно условию «Мегалайн» всегда округляет секунды до минут)\n",
    "df_calls['calls_min'] = np.ceil(df_calls['duration'])\n",
    "df_calls.head()"
   ]
  },
  {
   "cell_type": "code",
   "execution_count": 25,
   "id": "0d6c3e9e",
   "metadata": {},
   "outputs": [
    {
     "data": {
      "text/html": [
       "<div>\n",
       "<style scoped>\n",
       "    .dataframe tbody tr th:only-of-type {\n",
       "        vertical-align: middle;\n",
       "    }\n",
       "\n",
       "    .dataframe tbody tr th {\n",
       "        vertical-align: top;\n",
       "    }\n",
       "\n",
       "    .dataframe thead th {\n",
       "        text-align: right;\n",
       "    }\n",
       "</style>\n",
       "<table border=\"1\" class=\"dataframe\">\n",
       "  <thead>\n",
       "    <tr style=\"text-align: right;\">\n",
       "      <th></th>\n",
       "      <th></th>\n",
       "      <th>calls_count</th>\n",
       "      <th>calls_duration</th>\n",
       "    </tr>\n",
       "    <tr>\n",
       "      <th>user_id</th>\n",
       "      <th>month</th>\n",
       "      <th></th>\n",
       "      <th></th>\n",
       "    </tr>\n",
       "  </thead>\n",
       "  <tbody>\n",
       "    <tr>\n",
       "      <th rowspan=\"5\" valign=\"top\">1000</th>\n",
       "      <th>5</th>\n",
       "      <td>22</td>\n",
       "      <td>159.0</td>\n",
       "    </tr>\n",
       "    <tr>\n",
       "      <th>6</th>\n",
       "      <td>43</td>\n",
       "      <td>172.0</td>\n",
       "    </tr>\n",
       "    <tr>\n",
       "      <th>7</th>\n",
       "      <td>47</td>\n",
       "      <td>340.0</td>\n",
       "    </tr>\n",
       "    <tr>\n",
       "      <th>8</th>\n",
       "      <td>52</td>\n",
       "      <td>408.0</td>\n",
       "    </tr>\n",
       "    <tr>\n",
       "      <th>9</th>\n",
       "      <td>58</td>\n",
       "      <td>466.0</td>\n",
       "    </tr>\n",
       "  </tbody>\n",
       "</table>\n",
       "</div>"
      ],
      "text/plain": [
       "               calls_count  calls_duration\n",
       "user_id month                             \n",
       "1000    5               22           159.0\n",
       "        6               43           172.0\n",
       "        7               47           340.0\n",
       "        8               52           408.0\n",
       "        9               58           466.0"
      ]
     },
     "execution_count": 25,
     "metadata": {},
     "output_type": "execute_result"
    }
   ],
   "source": [
    "#Сгруппируем данные по user_id и month, применим методы к соответствующим значениям.\n",
    "df_calls_pivot = df_calls.pivot_table(index=['user_id', 'month'], aggfunc={'call_date':\"count\", 'calls_min':sum}) \n",
    "df_calls_pivot.columns = ['calls_count', 'calls_duration']\n",
    "df_calls_pivot.head()"
   ]
  },
  {
   "cell_type": "markdown",
   "id": "0a6f41e3",
   "metadata": {},
   "source": [
    "<b>Количество отправленных сообщений по месяцам.</b>"
   ]
  },
  {
   "cell_type": "code",
   "execution_count": 26,
   "id": "490432c6",
   "metadata": {},
   "outputs": [],
   "source": [
    "#Добавим в таблицу df_messages столбец с месяцем \n",
    "df_messages['month'] = pd.DatetimeIndex(df_messages['message_date']).month "
   ]
  },
  {
   "cell_type": "code",
   "execution_count": 27,
   "id": "df7eaa24",
   "metadata": {},
   "outputs": [
    {
     "data": {
      "text/html": [
       "<div>\n",
       "<style scoped>\n",
       "    .dataframe tbody tr th:only-of-type {\n",
       "        vertical-align: middle;\n",
       "    }\n",
       "\n",
       "    .dataframe tbody tr th {\n",
       "        vertical-align: top;\n",
       "    }\n",
       "\n",
       "    .dataframe thead th {\n",
       "        text-align: right;\n",
       "    }\n",
       "</style>\n",
       "<table border=\"1\" class=\"dataframe\">\n",
       "  <thead>\n",
       "    <tr style=\"text-align: right;\">\n",
       "      <th></th>\n",
       "      <th></th>\n",
       "      <th>messagess_count</th>\n",
       "    </tr>\n",
       "    <tr>\n",
       "      <th>user_id</th>\n",
       "      <th>month</th>\n",
       "      <th></th>\n",
       "    </tr>\n",
       "  </thead>\n",
       "  <tbody>\n",
       "    <tr>\n",
       "      <th rowspan=\"5\" valign=\"top\">1000</th>\n",
       "      <th>5</th>\n",
       "      <td>22</td>\n",
       "    </tr>\n",
       "    <tr>\n",
       "      <th>6</th>\n",
       "      <td>60</td>\n",
       "    </tr>\n",
       "    <tr>\n",
       "      <th>7</th>\n",
       "      <td>75</td>\n",
       "    </tr>\n",
       "    <tr>\n",
       "      <th>8</th>\n",
       "      <td>81</td>\n",
       "    </tr>\n",
       "    <tr>\n",
       "      <th>9</th>\n",
       "      <td>57</td>\n",
       "    </tr>\n",
       "  </tbody>\n",
       "</table>\n",
       "</div>"
      ],
      "text/plain": [
       "               messagess_count\n",
       "user_id month                 \n",
       "1000    5                   22\n",
       "        6                   60\n",
       "        7                   75\n",
       "        8                   81\n",
       "        9                   57"
      ]
     },
     "execution_count": 27,
     "metadata": {},
     "output_type": "execute_result"
    }
   ],
   "source": [
    "#Сгруппируем данные по user_id и month, применим методы к соответствующим значениям.\n",
    "df_messages_pivot = df_messages.pivot_table(index=['user_id', 'month'], aggfunc={'id':\"count\"}) \n",
    "df_messages_pivot.columns = ['messagess_count']\n",
    "df_messages_pivot.head()"
   ]
  },
  {
   "cell_type": "markdown",
   "id": "ffca3b24",
   "metadata": {},
   "source": [
    "<b>Объем израсходованного интернет-трафика по месяцам. </b>"
   ]
  },
  {
   "cell_type": "code",
   "execution_count": 28,
   "id": "67391f7c",
   "metadata": {
    "scrolled": true
   },
   "outputs": [
    {
     "data": {
      "text/html": [
       "<div>\n",
       "<style scoped>\n",
       "    .dataframe tbody tr th:only-of-type {\n",
       "        vertical-align: middle;\n",
       "    }\n",
       "\n",
       "    .dataframe tbody tr th {\n",
       "        vertical-align: top;\n",
       "    }\n",
       "\n",
       "    .dataframe thead th {\n",
       "        text-align: right;\n",
       "    }\n",
       "</style>\n",
       "<table border=\"1\" class=\"dataframe\">\n",
       "  <thead>\n",
       "    <tr style=\"text-align: right;\">\n",
       "      <th></th>\n",
       "      <th>id</th>\n",
       "      <th>mb_used</th>\n",
       "      <th>session_date</th>\n",
       "      <th>user_id</th>\n",
       "      <th>month</th>\n",
       "      <th>internet_gb</th>\n",
       "    </tr>\n",
       "  </thead>\n",
       "  <tbody>\n",
       "    <tr>\n",
       "      <th>0</th>\n",
       "      <td>1000_0</td>\n",
       "      <td>112.95</td>\n",
       "      <td>2018-11-25</td>\n",
       "      <td>1000</td>\n",
       "      <td>11</td>\n",
       "      <td>1.0</td>\n",
       "    </tr>\n",
       "    <tr>\n",
       "      <th>1</th>\n",
       "      <td>1000_1</td>\n",
       "      <td>1052.81</td>\n",
       "      <td>2018-09-07</td>\n",
       "      <td>1000</td>\n",
       "      <td>9</td>\n",
       "      <td>2.0</td>\n",
       "    </tr>\n",
       "    <tr>\n",
       "      <th>2</th>\n",
       "      <td>1000_2</td>\n",
       "      <td>1197.26</td>\n",
       "      <td>2018-06-25</td>\n",
       "      <td>1000</td>\n",
       "      <td>6</td>\n",
       "      <td>2.0</td>\n",
       "    </tr>\n",
       "    <tr>\n",
       "      <th>3</th>\n",
       "      <td>1000_3</td>\n",
       "      <td>550.27</td>\n",
       "      <td>2018-08-22</td>\n",
       "      <td>1000</td>\n",
       "      <td>8</td>\n",
       "      <td>1.0</td>\n",
       "    </tr>\n",
       "    <tr>\n",
       "      <th>4</th>\n",
       "      <td>1000_4</td>\n",
       "      <td>302.56</td>\n",
       "      <td>2018-09-24</td>\n",
       "      <td>1000</td>\n",
       "      <td>9</td>\n",
       "      <td>1.0</td>\n",
       "    </tr>\n",
       "  </tbody>\n",
       "</table>\n",
       "</div>"
      ],
      "text/plain": [
       "       id  mb_used session_date  user_id  month  internet_gb\n",
       "0  1000_0   112.95   2018-11-25     1000     11          1.0\n",
       "1  1000_1  1052.81   2018-09-07     1000      9          2.0\n",
       "2  1000_2  1197.26   2018-06-25     1000      6          2.0\n",
       "3  1000_3   550.27   2018-08-22     1000      8          1.0\n",
       "4  1000_4   302.56   2018-09-24     1000      9          1.0"
      ]
     },
     "execution_count": 28,
     "metadata": {},
     "output_type": "execute_result"
    }
   ],
   "source": [
    "#Добавим в таблицу df_internet столбец с месяцем \n",
    "df_internet['month'] = pd.DatetimeIndex(df_internet['session_date']).month \n",
    "#Добавим столбец с объемом израсходованного трафика в Гб (округлим значения) \n",
    "df_internet['internet_gb'] = np.ceil(df_internet['mb_used'] / 1024)\n",
    "df_internet.head()"
   ]
  },
  {
   "cell_type": "code",
   "execution_count": 29,
   "id": "abc3e782",
   "metadata": {},
   "outputs": [
    {
     "data": {
      "text/html": [
       "<div>\n",
       "<style scoped>\n",
       "    .dataframe tbody tr th:only-of-type {\n",
       "        vertical-align: middle;\n",
       "    }\n",
       "\n",
       "    .dataframe tbody tr th {\n",
       "        vertical-align: top;\n",
       "    }\n",
       "\n",
       "    .dataframe thead th {\n",
       "        text-align: right;\n",
       "    }\n",
       "</style>\n",
       "<table border=\"1\" class=\"dataframe\">\n",
       "  <thead>\n",
       "    <tr style=\"text-align: right;\">\n",
       "      <th></th>\n",
       "      <th></th>\n",
       "      <th>internet_volume</th>\n",
       "    </tr>\n",
       "    <tr>\n",
       "      <th>user_id</th>\n",
       "      <th>month</th>\n",
       "      <th></th>\n",
       "    </tr>\n",
       "  </thead>\n",
       "  <tbody>\n",
       "    <tr>\n",
       "      <th rowspan=\"5\" valign=\"top\">1000</th>\n",
       "      <th>5</th>\n",
       "      <td>4.0</td>\n",
       "    </tr>\n",
       "    <tr>\n",
       "      <th>6</th>\n",
       "      <td>49.0</td>\n",
       "    </tr>\n",
       "    <tr>\n",
       "      <th>7</th>\n",
       "      <td>28.0</td>\n",
       "    </tr>\n",
       "    <tr>\n",
       "      <th>8</th>\n",
       "      <td>27.0</td>\n",
       "    </tr>\n",
       "    <tr>\n",
       "      <th>9</th>\n",
       "      <td>26.0</td>\n",
       "    </tr>\n",
       "  </tbody>\n",
       "</table>\n",
       "</div>"
      ],
      "text/plain": [
       "               internet_volume\n",
       "user_id month                 \n",
       "1000    5                  4.0\n",
       "        6                 49.0\n",
       "        7                 28.0\n",
       "        8                 27.0\n",
       "        9                 26.0"
      ]
     },
     "execution_count": 29,
     "metadata": {},
     "output_type": "execute_result"
    }
   ],
   "source": [
    "#Сгруппируем данные по user_id и month, применим методы к соответствующим значениям.\n",
    "df_internet_pivot = df_internet.pivot_table(index=['user_id', 'month'], aggfunc={'internet_gb':sum}) \n",
    "df_internet_pivot.columns = ['internet_volume']\n",
    "df_internet_pivot.head()"
   ]
  },
  {
   "cell_type": "markdown",
   "id": "4808c5be",
   "metadata": {},
   "source": [
    "<b> Помесячная выручка с каждого пользователя.</b> "
   ]
  },
  {
   "cell_type": "markdown",
   "id": "7f395a8d",
   "metadata": {},
   "source": [
    "Вычтем бесплатный лимит из суммарного количества звонков, сообщений и интернет-трафика.\n",
    "Остаток умножем на значение из тарифного плана и прибавим абонентскую плату, соответствующую тарифному плану."
   ]
  },
  {
   "cell_type": "markdown",
   "id": "7996d758",
   "metadata": {},
   "source": [
    "Для рассчета помесячной выручки объеденим все сводные таблицы и таблицу df_users."
   ]
  },
  {
   "cell_type": "code",
   "execution_count": 55,
   "id": "028fac49",
   "metadata": {},
   "outputs": [
    {
     "data": {
      "text/html": [
       "<div>\n",
       "<style scoped>\n",
       "    .dataframe tbody tr th:only-of-type {\n",
       "        vertical-align: middle;\n",
       "    }\n",
       "\n",
       "    .dataframe tbody tr th {\n",
       "        vertical-align: top;\n",
       "    }\n",
       "\n",
       "    .dataframe thead th {\n",
       "        text-align: right;\n",
       "    }\n",
       "</style>\n",
       "<table border=\"1\" class=\"dataframe\">\n",
       "  <thead>\n",
       "    <tr style=\"text-align: right;\">\n",
       "      <th></th>\n",
       "      <th>month</th>\n",
       "      <th>internet_volume</th>\n",
       "      <th>calls_count</th>\n",
       "      <th>calls_duration</th>\n",
       "      <th>messagess_count</th>\n",
       "    </tr>\n",
       "    <tr>\n",
       "      <th>user_id</th>\n",
       "      <th></th>\n",
       "      <th></th>\n",
       "      <th></th>\n",
       "      <th></th>\n",
       "      <th></th>\n",
       "    </tr>\n",
       "  </thead>\n",
       "  <tbody>\n",
       "    <tr>\n",
       "      <th>1000</th>\n",
       "      <td>5</td>\n",
       "      <td>4.0</td>\n",
       "      <td>22.0</td>\n",
       "      <td>159.0</td>\n",
       "      <td>22.0</td>\n",
       "    </tr>\n",
       "    <tr>\n",
       "      <th>1000</th>\n",
       "      <td>6</td>\n",
       "      <td>49.0</td>\n",
       "      <td>43.0</td>\n",
       "      <td>172.0</td>\n",
       "      <td>60.0</td>\n",
       "    </tr>\n",
       "    <tr>\n",
       "      <th>1000</th>\n",
       "      <td>7</td>\n",
       "      <td>28.0</td>\n",
       "      <td>47.0</td>\n",
       "      <td>340.0</td>\n",
       "      <td>75.0</td>\n",
       "    </tr>\n",
       "    <tr>\n",
       "      <th>1000</th>\n",
       "      <td>8</td>\n",
       "      <td>27.0</td>\n",
       "      <td>52.0</td>\n",
       "      <td>408.0</td>\n",
       "      <td>81.0</td>\n",
       "    </tr>\n",
       "    <tr>\n",
       "      <th>1000</th>\n",
       "      <td>9</td>\n",
       "      <td>26.0</td>\n",
       "      <td>58.0</td>\n",
       "      <td>466.0</td>\n",
       "      <td>57.0</td>\n",
       "    </tr>\n",
       "  </tbody>\n",
       "</table>\n",
       "</div>"
      ],
      "text/plain": [
       "         month  internet_volume  calls_count  calls_duration  messagess_count\n",
       "user_id                                                                      \n",
       "1000         5              4.0         22.0           159.0             22.0\n",
       "1000         6             49.0         43.0           172.0             60.0\n",
       "1000         7             28.0         47.0           340.0             75.0\n",
       "1000         8             27.0         52.0           408.0             81.0\n",
       "1000         9             26.0         58.0           466.0             57.0"
      ]
     },
     "execution_count": 55,
     "metadata": {},
     "output_type": "execute_result"
    }
   ],
   "source": [
    "# при помощи метода join объеденим сразу все сводные таблицы по индексам\n",
    "# и сбросим индекс month для последующего объединения с df_users\n",
    "df_cmi_pivot = df_internet_pivot.join([df_calls_pivot, df_messages_pivot], how = 'outer').reset_index(level='month')\n",
    "df_cmi_pivot.head(5)"
   ]
  },
  {
   "cell_type": "code",
   "execution_count": 31,
   "id": "4e814c77",
   "metadata": {},
   "outputs": [
    {
     "data": {
      "text/html": [
       "<div>\n",
       "<style scoped>\n",
       "    .dataframe tbody tr th:only-of-type {\n",
       "        vertical-align: middle;\n",
       "    }\n",
       "\n",
       "    .dataframe tbody tr th {\n",
       "        vertical-align: top;\n",
       "    }\n",
       "\n",
       "    .dataframe thead th {\n",
       "        text-align: right;\n",
       "    }\n",
       "</style>\n",
       "<table border=\"1\" class=\"dataframe\">\n",
       "  <thead>\n",
       "    <tr style=\"text-align: right;\">\n",
       "      <th></th>\n",
       "      <th>user_id</th>\n",
       "      <th>age</th>\n",
       "      <th>churn_date</th>\n",
       "      <th>city</th>\n",
       "      <th>first_name</th>\n",
       "      <th>last_name</th>\n",
       "      <th>reg_date</th>\n",
       "      <th>tariff</th>\n",
       "      <th>month</th>\n",
       "      <th>internet_volume</th>\n",
       "      <th>calls_count</th>\n",
       "      <th>calls_duration</th>\n",
       "      <th>messagess_count</th>\n",
       "    </tr>\n",
       "  </thead>\n",
       "  <tbody>\n",
       "    <tr>\n",
       "      <th>0</th>\n",
       "      <td>1000</td>\n",
       "      <td>52</td>\n",
       "      <td>NaN</td>\n",
       "      <td>Краснодар</td>\n",
       "      <td>Рафаил</td>\n",
       "      <td>Верещагин</td>\n",
       "      <td>2018-05-25</td>\n",
       "      <td>ultra</td>\n",
       "      <td>5.0</td>\n",
       "      <td>4.0</td>\n",
       "      <td>22.0</td>\n",
       "      <td>159.0</td>\n",
       "      <td>22.0</td>\n",
       "    </tr>\n",
       "    <tr>\n",
       "      <th>0</th>\n",
       "      <td>1000</td>\n",
       "      <td>52</td>\n",
       "      <td>NaN</td>\n",
       "      <td>Краснодар</td>\n",
       "      <td>Рафаил</td>\n",
       "      <td>Верещагин</td>\n",
       "      <td>2018-05-25</td>\n",
       "      <td>ultra</td>\n",
       "      <td>6.0</td>\n",
       "      <td>49.0</td>\n",
       "      <td>43.0</td>\n",
       "      <td>172.0</td>\n",
       "      <td>60.0</td>\n",
       "    </tr>\n",
       "    <tr>\n",
       "      <th>0</th>\n",
       "      <td>1000</td>\n",
       "      <td>52</td>\n",
       "      <td>NaN</td>\n",
       "      <td>Краснодар</td>\n",
       "      <td>Рафаил</td>\n",
       "      <td>Верещагин</td>\n",
       "      <td>2018-05-25</td>\n",
       "      <td>ultra</td>\n",
       "      <td>7.0</td>\n",
       "      <td>28.0</td>\n",
       "      <td>47.0</td>\n",
       "      <td>340.0</td>\n",
       "      <td>75.0</td>\n",
       "    </tr>\n",
       "    <tr>\n",
       "      <th>0</th>\n",
       "      <td>1000</td>\n",
       "      <td>52</td>\n",
       "      <td>NaN</td>\n",
       "      <td>Краснодар</td>\n",
       "      <td>Рафаил</td>\n",
       "      <td>Верещагин</td>\n",
       "      <td>2018-05-25</td>\n",
       "      <td>ultra</td>\n",
       "      <td>8.0</td>\n",
       "      <td>27.0</td>\n",
       "      <td>52.0</td>\n",
       "      <td>408.0</td>\n",
       "      <td>81.0</td>\n",
       "    </tr>\n",
       "    <tr>\n",
       "      <th>0</th>\n",
       "      <td>1000</td>\n",
       "      <td>52</td>\n",
       "      <td>NaN</td>\n",
       "      <td>Краснодар</td>\n",
       "      <td>Рафаил</td>\n",
       "      <td>Верещагин</td>\n",
       "      <td>2018-05-25</td>\n",
       "      <td>ultra</td>\n",
       "      <td>9.0</td>\n",
       "      <td>26.0</td>\n",
       "      <td>58.0</td>\n",
       "      <td>466.0</td>\n",
       "      <td>57.0</td>\n",
       "    </tr>\n",
       "  </tbody>\n",
       "</table>\n",
       "</div>"
      ],
      "text/plain": [
       "   user_id  age churn_date       city first_name  last_name   reg_date tariff  \\\n",
       "0     1000   52        NaN  Краснодар     Рафаил  Верещагин 2018-05-25  ultra   \n",
       "0     1000   52        NaN  Краснодар     Рафаил  Верещагин 2018-05-25  ultra   \n",
       "0     1000   52        NaN  Краснодар     Рафаил  Верещагин 2018-05-25  ultra   \n",
       "0     1000   52        NaN  Краснодар     Рафаил  Верещагин 2018-05-25  ultra   \n",
       "0     1000   52        NaN  Краснодар     Рафаил  Верещагин 2018-05-25  ultra   \n",
       "\n",
       "   month  internet_volume  calls_count  calls_duration  messagess_count  \n",
       "0    5.0              4.0         22.0           159.0             22.0  \n",
       "0    6.0             49.0         43.0           172.0             60.0  \n",
       "0    7.0             28.0         47.0           340.0             75.0  \n",
       "0    8.0             27.0         52.0           408.0             81.0  \n",
       "0    9.0             26.0         58.0           466.0             57.0  "
      ]
     },
     "execution_count": 31,
     "metadata": {},
     "output_type": "execute_result"
    }
   ],
   "source": [
    "# объединяем df_users и df_cmi_pivot также методом join\n",
    "# параметру 'on' передаем значения df_users['user_id']\n",
    "# метод join будет искать совпадения этих значений с индексами df_cmi_pivot и объединять по ним\n",
    "df_cmiu_pivot = df_users.join(df_cmi_pivot, on='user_id')\n",
    "df_cmiu_pivot.head(5)"
   ]
  },
  {
   "cell_type": "code",
   "execution_count": 32,
   "id": "40d44928",
   "metadata": {},
   "outputs": [
    {
     "data": {
      "text/html": [
       "<div>\n",
       "<style scoped>\n",
       "    .dataframe tbody tr th:only-of-type {\n",
       "        vertical-align: middle;\n",
       "    }\n",
       "\n",
       "    .dataframe tbody tr th {\n",
       "        vertical-align: top;\n",
       "    }\n",
       "\n",
       "    .dataframe thead th {\n",
       "        text-align: right;\n",
       "    }\n",
       "</style>\n",
       "<table border=\"1\" class=\"dataframe\">\n",
       "  <thead>\n",
       "    <tr style=\"text-align: right;\">\n",
       "      <th></th>\n",
       "      <th>messages_included</th>\n",
       "      <th>mb_per_month_included</th>\n",
       "      <th>minutes_included</th>\n",
       "      <th>rub_monthly_fee</th>\n",
       "      <th>rub_per_gb</th>\n",
       "      <th>rub_per_message</th>\n",
       "      <th>rub_per_minute</th>\n",
       "      <th>tariff</th>\n",
       "    </tr>\n",
       "  </thead>\n",
       "  <tbody>\n",
       "    <tr>\n",
       "      <th>0</th>\n",
       "      <td>50</td>\n",
       "      <td>15360</td>\n",
       "      <td>500</td>\n",
       "      <td>550</td>\n",
       "      <td>200</td>\n",
       "      <td>3</td>\n",
       "      <td>3</td>\n",
       "      <td>smart</td>\n",
       "    </tr>\n",
       "    <tr>\n",
       "      <th>1</th>\n",
       "      <td>1000</td>\n",
       "      <td>30720</td>\n",
       "      <td>3000</td>\n",
       "      <td>1950</td>\n",
       "      <td>150</td>\n",
       "      <td>1</td>\n",
       "      <td>1</td>\n",
       "      <td>ultra</td>\n",
       "    </tr>\n",
       "  </tbody>\n",
       "</table>\n",
       "</div>"
      ],
      "text/plain": [
       "   messages_included  mb_per_month_included  minutes_included  \\\n",
       "0                 50                  15360               500   \n",
       "1               1000                  30720              3000   \n",
       "\n",
       "   rub_monthly_fee  rub_per_gb  rub_per_message  rub_per_minute tariff  \n",
       "0              550         200                3               3  smart  \n",
       "1             1950         150                1               1  ultra  "
      ]
     },
     "execution_count": 32,
     "metadata": {},
     "output_type": "execute_result"
    }
   ],
   "source": [
    "# добавим к df_cmiu_pivot информацию о тарифах из таблицы df_tariffs\n",
    "# объединим таблицы по колонке с названиями тарифов\n",
    "# в df_tariffs поменяем название нужного столбца на tariff\n",
    "\n",
    "df_tariffs.columns = ['messages_included', 'mb_per_month_included', 'minutes_included', 'rub_monthly_fee',\\\n",
    "                      'rub_per_gb', 'rub_per_message', 'rub_per_minute', 'tariff']\n",
    "df_tariffs"
   ]
  },
  {
   "cell_type": "code",
   "execution_count": 33,
   "id": "e98ddb10",
   "metadata": {},
   "outputs": [
    {
     "data": {
      "text/html": [
       "<div>\n",
       "<style scoped>\n",
       "    .dataframe tbody tr th:only-of-type {\n",
       "        vertical-align: middle;\n",
       "    }\n",
       "\n",
       "    .dataframe tbody tr th {\n",
       "        vertical-align: top;\n",
       "    }\n",
       "\n",
       "    .dataframe thead th {\n",
       "        text-align: right;\n",
       "    }\n",
       "</style>\n",
       "<table border=\"1\" class=\"dataframe\">\n",
       "  <thead>\n",
       "    <tr style=\"text-align: right;\">\n",
       "      <th></th>\n",
       "      <th>user_id</th>\n",
       "      <th>age</th>\n",
       "      <th>churn_date</th>\n",
       "      <th>city</th>\n",
       "      <th>first_name</th>\n",
       "      <th>last_name</th>\n",
       "      <th>reg_date</th>\n",
       "      <th>tariff</th>\n",
       "      <th>month</th>\n",
       "      <th>internet_volume</th>\n",
       "      <th>calls_count</th>\n",
       "      <th>calls_duration</th>\n",
       "      <th>messagess_count</th>\n",
       "      <th>messages_included</th>\n",
       "      <th>mb_per_month_included</th>\n",
       "      <th>minutes_included</th>\n",
       "      <th>rub_monthly_fee</th>\n",
       "      <th>rub_per_gb</th>\n",
       "      <th>rub_per_message</th>\n",
       "      <th>rub_per_minute</th>\n",
       "    </tr>\n",
       "  </thead>\n",
       "  <tbody>\n",
       "    <tr>\n",
       "      <th>0</th>\n",
       "      <td>1000</td>\n",
       "      <td>52</td>\n",
       "      <td>NaN</td>\n",
       "      <td>Краснодар</td>\n",
       "      <td>Рафаил</td>\n",
       "      <td>Верещагин</td>\n",
       "      <td>2018-05-25</td>\n",
       "      <td>ultra</td>\n",
       "      <td>5.0</td>\n",
       "      <td>4.0</td>\n",
       "      <td>22.0</td>\n",
       "      <td>159.0</td>\n",
       "      <td>22.0</td>\n",
       "      <td>1000</td>\n",
       "      <td>30720</td>\n",
       "      <td>3000</td>\n",
       "      <td>1950</td>\n",
       "      <td>150</td>\n",
       "      <td>1</td>\n",
       "      <td>1</td>\n",
       "    </tr>\n",
       "    <tr>\n",
       "      <th>1</th>\n",
       "      <td>1000</td>\n",
       "      <td>52</td>\n",
       "      <td>NaN</td>\n",
       "      <td>Краснодар</td>\n",
       "      <td>Рафаил</td>\n",
       "      <td>Верещагин</td>\n",
       "      <td>2018-05-25</td>\n",
       "      <td>ultra</td>\n",
       "      <td>6.0</td>\n",
       "      <td>49.0</td>\n",
       "      <td>43.0</td>\n",
       "      <td>172.0</td>\n",
       "      <td>60.0</td>\n",
       "      <td>1000</td>\n",
       "      <td>30720</td>\n",
       "      <td>3000</td>\n",
       "      <td>1950</td>\n",
       "      <td>150</td>\n",
       "      <td>1</td>\n",
       "      <td>1</td>\n",
       "    </tr>\n",
       "    <tr>\n",
       "      <th>2</th>\n",
       "      <td>1000</td>\n",
       "      <td>52</td>\n",
       "      <td>NaN</td>\n",
       "      <td>Краснодар</td>\n",
       "      <td>Рафаил</td>\n",
       "      <td>Верещагин</td>\n",
       "      <td>2018-05-25</td>\n",
       "      <td>ultra</td>\n",
       "      <td>7.0</td>\n",
       "      <td>28.0</td>\n",
       "      <td>47.0</td>\n",
       "      <td>340.0</td>\n",
       "      <td>75.0</td>\n",
       "      <td>1000</td>\n",
       "      <td>30720</td>\n",
       "      <td>3000</td>\n",
       "      <td>1950</td>\n",
       "      <td>150</td>\n",
       "      <td>1</td>\n",
       "      <td>1</td>\n",
       "    </tr>\n",
       "    <tr>\n",
       "      <th>3</th>\n",
       "      <td>1000</td>\n",
       "      <td>52</td>\n",
       "      <td>NaN</td>\n",
       "      <td>Краснодар</td>\n",
       "      <td>Рафаил</td>\n",
       "      <td>Верещагин</td>\n",
       "      <td>2018-05-25</td>\n",
       "      <td>ultra</td>\n",
       "      <td>8.0</td>\n",
       "      <td>27.0</td>\n",
       "      <td>52.0</td>\n",
       "      <td>408.0</td>\n",
       "      <td>81.0</td>\n",
       "      <td>1000</td>\n",
       "      <td>30720</td>\n",
       "      <td>3000</td>\n",
       "      <td>1950</td>\n",
       "      <td>150</td>\n",
       "      <td>1</td>\n",
       "      <td>1</td>\n",
       "    </tr>\n",
       "    <tr>\n",
       "      <th>4</th>\n",
       "      <td>1000</td>\n",
       "      <td>52</td>\n",
       "      <td>NaN</td>\n",
       "      <td>Краснодар</td>\n",
       "      <td>Рафаил</td>\n",
       "      <td>Верещагин</td>\n",
       "      <td>2018-05-25</td>\n",
       "      <td>ultra</td>\n",
       "      <td>9.0</td>\n",
       "      <td>26.0</td>\n",
       "      <td>58.0</td>\n",
       "      <td>466.0</td>\n",
       "      <td>57.0</td>\n",
       "      <td>1000</td>\n",
       "      <td>30720</td>\n",
       "      <td>3000</td>\n",
       "      <td>1950</td>\n",
       "      <td>150</td>\n",
       "      <td>1</td>\n",
       "      <td>1</td>\n",
       "    </tr>\n",
       "  </tbody>\n",
       "</table>\n",
       "</div>"
      ],
      "text/plain": [
       "   user_id  age churn_date       city first_name  last_name   reg_date tariff  \\\n",
       "0     1000   52        NaN  Краснодар     Рафаил  Верещагин 2018-05-25  ultra   \n",
       "1     1000   52        NaN  Краснодар     Рафаил  Верещагин 2018-05-25  ultra   \n",
       "2     1000   52        NaN  Краснодар     Рафаил  Верещагин 2018-05-25  ultra   \n",
       "3     1000   52        NaN  Краснодар     Рафаил  Верещагин 2018-05-25  ultra   \n",
       "4     1000   52        NaN  Краснодар     Рафаил  Верещагин 2018-05-25  ultra   \n",
       "\n",
       "   month  internet_volume  calls_count  calls_duration  messagess_count  \\\n",
       "0    5.0              4.0         22.0           159.0             22.0   \n",
       "1    6.0             49.0         43.0           172.0             60.0   \n",
       "2    7.0             28.0         47.0           340.0             75.0   \n",
       "3    8.0             27.0         52.0           408.0             81.0   \n",
       "4    9.0             26.0         58.0           466.0             57.0   \n",
       "\n",
       "   messages_included  mb_per_month_included  minutes_included  \\\n",
       "0               1000                  30720              3000   \n",
       "1               1000                  30720              3000   \n",
       "2               1000                  30720              3000   \n",
       "3               1000                  30720              3000   \n",
       "4               1000                  30720              3000   \n",
       "\n",
       "   rub_monthly_fee  rub_per_gb  rub_per_message  rub_per_minute  \n",
       "0             1950         150                1               1  \n",
       "1             1950         150                1               1  \n",
       "2             1950         150                1               1  \n",
       "3             1950         150                1               1  \n",
       "4             1950         150                1               1  "
      ]
     },
     "execution_count": 33,
     "metadata": {},
     "output_type": "execute_result"
    }
   ],
   "source": [
    "# применим метод merge, параметру \"on\" передадим колонку с названиями тарифов\n",
    "df_cmiu_pivot = df_cmiu_pivot.merge(df_tariffs, on='tariff')\n",
    "df_cmiu_pivot.head()"
   ]
  },
  {
   "cell_type": "code",
   "execution_count": 34,
   "id": "0d14df9f",
   "metadata": {},
   "outputs": [
    {
     "data": {
      "text/plain": [
       "user_id                     0\n",
       "age                         0\n",
       "churn_date               3027\n",
       "city                        0\n",
       "first_name                  0\n",
       "last_name                   0\n",
       "reg_date                    0\n",
       "tariff                      0\n",
       "month                       2\n",
       "internet_volume            13\n",
       "calls_count                42\n",
       "calls_duration             42\n",
       "messagess_count           499\n",
       "messages_included           0\n",
       "mb_per_month_included       0\n",
       "minutes_included            0\n",
       "rub_monthly_fee             0\n",
       "rub_per_gb                  0\n",
       "rub_per_message             0\n",
       "rub_per_minute              0\n",
       "dtype: int64"
      ]
     },
     "execution_count": 34,
     "metadata": {},
     "output_type": "execute_result"
    }
   ],
   "source": [
    "# Проверим на пропуски df_cmiu_pivot\n",
    "df_cmiu_pivot.isnull().sum()"
   ]
  },
  {
   "cell_type": "code",
   "execution_count": 35,
   "id": "a387da69",
   "metadata": {},
   "outputs": [
    {
     "data": {
      "text/html": [
       "<div>\n",
       "<style scoped>\n",
       "    .dataframe tbody tr th:only-of-type {\n",
       "        vertical-align: middle;\n",
       "    }\n",
       "\n",
       "    .dataframe tbody tr th {\n",
       "        vertical-align: top;\n",
       "    }\n",
       "\n",
       "    .dataframe thead th {\n",
       "        text-align: right;\n",
       "    }\n",
       "</style>\n",
       "<table border=\"1\" class=\"dataframe\">\n",
       "  <thead>\n",
       "    <tr style=\"text-align: right;\">\n",
       "      <th></th>\n",
       "      <th>user_id</th>\n",
       "      <th>age</th>\n",
       "      <th>churn_date</th>\n",
       "      <th>city</th>\n",
       "      <th>first_name</th>\n",
       "      <th>last_name</th>\n",
       "      <th>reg_date</th>\n",
       "      <th>tariff</th>\n",
       "      <th>month</th>\n",
       "      <th>internet_volume</th>\n",
       "      <th>calls_count</th>\n",
       "      <th>calls_duration</th>\n",
       "      <th>messagess_count</th>\n",
       "      <th>messages_included</th>\n",
       "      <th>mb_per_month_included</th>\n",
       "      <th>minutes_included</th>\n",
       "      <th>rub_monthly_fee</th>\n",
       "      <th>rub_per_gb</th>\n",
       "      <th>rub_per_message</th>\n",
       "      <th>rub_per_minute</th>\n",
       "    </tr>\n",
       "  </thead>\n",
       "  <tbody>\n",
       "  </tbody>\n",
       "</table>\n",
       "</div>"
      ],
      "text/plain": [
       "Empty DataFrame\n",
       "Columns: [user_id, age, churn_date, city, first_name, last_name, reg_date, tariff, month, internet_volume, calls_count, calls_duration, messagess_count, messages_included, mb_per_month_included, minutes_included, rub_monthly_fee, rub_per_gb, rub_per_message, rub_per_minute]\n",
       "Index: []"
      ]
     },
     "execution_count": 35,
     "metadata": {},
     "output_type": "execute_result"
    }
   ],
   "source": [
    "# В столбце month всего две строки с пропусками,поэтому удалим их\n",
    "df_cmiu_pivot = df_cmiu_pivot.dropna(subset=['month'])\n",
    "#Проверка\n",
    "df_cmiu_pivot[df_cmiu_pivot['month'].isnull()]"
   ]
  },
  {
   "cell_type": "code",
   "execution_count": 36,
   "id": "a0b42ead",
   "metadata": {},
   "outputs": [],
   "source": [
    "# Столбец churn_date не нужен для анализа, поэтому удалим его\n",
    "del df_cmiu_pivot['churn_date']"
   ]
  },
  {
   "cell_type": "code",
   "execution_count": 37,
   "id": "5b21185e",
   "metadata": {},
   "outputs": [],
   "source": [
    "# остальные пропуски заменим на ноль\n",
    "df_cmiu_pivot = df_cmiu_pivot.fillna(0)"
   ]
  },
  {
   "cell_type": "code",
   "execution_count": 38,
   "id": "bf4de751",
   "metadata": {},
   "outputs": [
    {
     "data": {
      "text/plain": [
       "user_id                  0\n",
       "age                      0\n",
       "city                     0\n",
       "first_name               0\n",
       "last_name                0\n",
       "reg_date                 0\n",
       "tariff                   0\n",
       "month                    0\n",
       "internet_volume          0\n",
       "calls_count              0\n",
       "calls_duration           0\n",
       "messagess_count          0\n",
       "messages_included        0\n",
       "mb_per_month_included    0\n",
       "minutes_included         0\n",
       "rub_monthly_fee          0\n",
       "rub_per_gb               0\n",
       "rub_per_message          0\n",
       "rub_per_minute           0\n",
       "dtype: int64"
      ]
     },
     "execution_count": 38,
     "metadata": {},
     "output_type": "execute_result"
    }
   ],
   "source": [
    "#Проверка\n",
    "df_cmiu_pivot.isnull().sum()"
   ]
  },
  {
   "cell_type": "code",
   "execution_count": 39,
   "id": "232fdca1",
   "metadata": {},
   "outputs": [],
   "source": [
    "#Функция для расчета итогового счета за месяц\n",
    "def total_bill(row):\n",
    "    revenue = 0\n",
    "    if row['messagess_count'] > row['messages_included']:\n",
    "        revenue += (row['messagess_count'] - row['messages_included'])*row['rub_per_message']\n",
    "    if row['calls_duration'] > row['minutes_included']:\n",
    "        revenue += (row['calls_duration'] - row['minutes_included'])*row['rub_per_minute']\n",
    "    if row['internet_volume'] > (row['mb_per_month_included']/1024):\n",
    "        revenue += (row['internet_volume'] - (row['mb_per_month_included']/1024))*row['rub_per_gb']\n",
    "    else:\n",
    "        revenue += 0\n",
    "    return revenue    "
   ]
  },
  {
   "cell_type": "code",
   "execution_count": 40,
   "id": "d26b4885",
   "metadata": {},
   "outputs": [
    {
     "data": {
      "text/html": [
       "<div>\n",
       "<style scoped>\n",
       "    .dataframe tbody tr th:only-of-type {\n",
       "        vertical-align: middle;\n",
       "    }\n",
       "\n",
       "    .dataframe tbody tr th {\n",
       "        vertical-align: top;\n",
       "    }\n",
       "\n",
       "    .dataframe thead th {\n",
       "        text-align: right;\n",
       "    }\n",
       "</style>\n",
       "<table border=\"1\" class=\"dataframe\">\n",
       "  <thead>\n",
       "    <tr style=\"text-align: right;\">\n",
       "      <th></th>\n",
       "      <th>user_id</th>\n",
       "      <th>age</th>\n",
       "      <th>city</th>\n",
       "      <th>first_name</th>\n",
       "      <th>last_name</th>\n",
       "      <th>reg_date</th>\n",
       "      <th>tariff</th>\n",
       "      <th>month</th>\n",
       "      <th>internet_volume</th>\n",
       "      <th>calls_count</th>\n",
       "      <th>calls_duration</th>\n",
       "      <th>messagess_count</th>\n",
       "      <th>messages_included</th>\n",
       "      <th>mb_per_month_included</th>\n",
       "      <th>minutes_included</th>\n",
       "      <th>rub_monthly_fee</th>\n",
       "      <th>rub_per_gb</th>\n",
       "      <th>rub_per_message</th>\n",
       "      <th>rub_per_minute</th>\n",
       "      <th>total_bill</th>\n",
       "    </tr>\n",
       "  </thead>\n",
       "  <tbody>\n",
       "    <tr>\n",
       "      <th>0</th>\n",
       "      <td>1000</td>\n",
       "      <td>52</td>\n",
       "      <td>Краснодар</td>\n",
       "      <td>Рафаил</td>\n",
       "      <td>Верещагин</td>\n",
       "      <td>2018-05-25</td>\n",
       "      <td>ultra</td>\n",
       "      <td>5.0</td>\n",
       "      <td>4.0</td>\n",
       "      <td>22.0</td>\n",
       "      <td>159.0</td>\n",
       "      <td>22.0</td>\n",
       "      <td>1000</td>\n",
       "      <td>30720</td>\n",
       "      <td>3000</td>\n",
       "      <td>1950</td>\n",
       "      <td>150</td>\n",
       "      <td>1</td>\n",
       "      <td>1</td>\n",
       "      <td>1950.0</td>\n",
       "    </tr>\n",
       "    <tr>\n",
       "      <th>1</th>\n",
       "      <td>1000</td>\n",
       "      <td>52</td>\n",
       "      <td>Краснодар</td>\n",
       "      <td>Рафаил</td>\n",
       "      <td>Верещагин</td>\n",
       "      <td>2018-05-25</td>\n",
       "      <td>ultra</td>\n",
       "      <td>6.0</td>\n",
       "      <td>49.0</td>\n",
       "      <td>43.0</td>\n",
       "      <td>172.0</td>\n",
       "      <td>60.0</td>\n",
       "      <td>1000</td>\n",
       "      <td>30720</td>\n",
       "      <td>3000</td>\n",
       "      <td>1950</td>\n",
       "      <td>150</td>\n",
       "      <td>1</td>\n",
       "      <td>1</td>\n",
       "      <td>4800.0</td>\n",
       "    </tr>\n",
       "    <tr>\n",
       "      <th>2</th>\n",
       "      <td>1000</td>\n",
       "      <td>52</td>\n",
       "      <td>Краснодар</td>\n",
       "      <td>Рафаил</td>\n",
       "      <td>Верещагин</td>\n",
       "      <td>2018-05-25</td>\n",
       "      <td>ultra</td>\n",
       "      <td>7.0</td>\n",
       "      <td>28.0</td>\n",
       "      <td>47.0</td>\n",
       "      <td>340.0</td>\n",
       "      <td>75.0</td>\n",
       "      <td>1000</td>\n",
       "      <td>30720</td>\n",
       "      <td>3000</td>\n",
       "      <td>1950</td>\n",
       "      <td>150</td>\n",
       "      <td>1</td>\n",
       "      <td>1</td>\n",
       "      <td>1950.0</td>\n",
       "    </tr>\n",
       "    <tr>\n",
       "      <th>3</th>\n",
       "      <td>1000</td>\n",
       "      <td>52</td>\n",
       "      <td>Краснодар</td>\n",
       "      <td>Рафаил</td>\n",
       "      <td>Верещагин</td>\n",
       "      <td>2018-05-25</td>\n",
       "      <td>ultra</td>\n",
       "      <td>8.0</td>\n",
       "      <td>27.0</td>\n",
       "      <td>52.0</td>\n",
       "      <td>408.0</td>\n",
       "      <td>81.0</td>\n",
       "      <td>1000</td>\n",
       "      <td>30720</td>\n",
       "      <td>3000</td>\n",
       "      <td>1950</td>\n",
       "      <td>150</td>\n",
       "      <td>1</td>\n",
       "      <td>1</td>\n",
       "      <td>1950.0</td>\n",
       "    </tr>\n",
       "    <tr>\n",
       "      <th>4</th>\n",
       "      <td>1000</td>\n",
       "      <td>52</td>\n",
       "      <td>Краснодар</td>\n",
       "      <td>Рафаил</td>\n",
       "      <td>Верещагин</td>\n",
       "      <td>2018-05-25</td>\n",
       "      <td>ultra</td>\n",
       "      <td>9.0</td>\n",
       "      <td>26.0</td>\n",
       "      <td>58.0</td>\n",
       "      <td>466.0</td>\n",
       "      <td>57.0</td>\n",
       "      <td>1000</td>\n",
       "      <td>30720</td>\n",
       "      <td>3000</td>\n",
       "      <td>1950</td>\n",
       "      <td>150</td>\n",
       "      <td>1</td>\n",
       "      <td>1</td>\n",
       "      <td>1950.0</td>\n",
       "    </tr>\n",
       "  </tbody>\n",
       "</table>\n",
       "</div>"
      ],
      "text/plain": [
       "   user_id  age       city first_name  last_name   reg_date tariff  month  \\\n",
       "0     1000   52  Краснодар     Рафаил  Верещагин 2018-05-25  ultra    5.0   \n",
       "1     1000   52  Краснодар     Рафаил  Верещагин 2018-05-25  ultra    6.0   \n",
       "2     1000   52  Краснодар     Рафаил  Верещагин 2018-05-25  ultra    7.0   \n",
       "3     1000   52  Краснодар     Рафаил  Верещагин 2018-05-25  ultra    8.0   \n",
       "4     1000   52  Краснодар     Рафаил  Верещагин 2018-05-25  ultra    9.0   \n",
       "\n",
       "   internet_volume  calls_count  calls_duration  messagess_count  \\\n",
       "0              4.0         22.0           159.0             22.0   \n",
       "1             49.0         43.0           172.0             60.0   \n",
       "2             28.0         47.0           340.0             75.0   \n",
       "3             27.0         52.0           408.0             81.0   \n",
       "4             26.0         58.0           466.0             57.0   \n",
       "\n",
       "   messages_included  mb_per_month_included  minutes_included  \\\n",
       "0               1000                  30720              3000   \n",
       "1               1000                  30720              3000   \n",
       "2               1000                  30720              3000   \n",
       "3               1000                  30720              3000   \n",
       "4               1000                  30720              3000   \n",
       "\n",
       "   rub_monthly_fee  rub_per_gb  rub_per_message  rub_per_minute  total_bill  \n",
       "0             1950         150                1               1      1950.0  \n",
       "1             1950         150                1               1      4800.0  \n",
       "2             1950         150                1               1      1950.0  \n",
       "3             1950         150                1               1      1950.0  \n",
       "4             1950         150                1               1      1950.0  "
      ]
     },
     "execution_count": 40,
     "metadata": {},
     "output_type": "execute_result"
    }
   ],
   "source": [
    "df_cmiu_pivot['total_bill'] = (df_cmiu_pivot.apply(total_bill, axis=1)) + df_cmiu_pivot['rub_monthly_fee']\n",
    "df_cmiu_pivot.head()"
   ]
  },
  {
   "cell_type": "markdown",
   "id": "f62cae4b",
   "metadata": {},
   "source": [
    "### Шаг 3. Анализ данных"
   ]
  },
  {
   "cell_type": "markdown",
   "id": "f486c3f8",
   "metadata": {},
   "source": [
    "Опредедим сколько минут разговора, сколько сообщений и какой объём интернет-трафика требуется пользователям каждого тарифа в месяц. Посчитаем среднее количество, дисперсию и стандартное отклонение. Построим гистограммы. Опишим распределения.\n"
   ]
  },
  {
   "cell_type": "code",
   "execution_count": 41,
   "id": "55d95df2",
   "metadata": {},
   "outputs": [
    {
     "data": {
      "text/html": [
       "<div>\n",
       "<style scoped>\n",
       "    .dataframe tbody tr th:only-of-type {\n",
       "        vertical-align: middle;\n",
       "    }\n",
       "\n",
       "    .dataframe tbody tr th {\n",
       "        vertical-align: top;\n",
       "    }\n",
       "\n",
       "    .dataframe thead th {\n",
       "        text-align: right;\n",
       "    }\n",
       "</style>\n",
       "<table border=\"1\" class=\"dataframe\">\n",
       "  <thead>\n",
       "    <tr style=\"text-align: right;\">\n",
       "      <th></th>\n",
       "      <th>month</th>\n",
       "      <th>calls_duration</th>\n",
       "      <th>internet_volume</th>\n",
       "      <th>messagess_count</th>\n",
       "      <th>total_bill</th>\n",
       "    </tr>\n",
       "    <tr>\n",
       "      <th>tariff</th>\n",
       "      <th></th>\n",
       "      <th></th>\n",
       "      <th></th>\n",
       "      <th></th>\n",
       "      <th></th>\n",
       "    </tr>\n",
       "  </thead>\n",
       "  <tbody>\n",
       "    <tr>\n",
       "      <th>smart</th>\n",
       "      <td>1.0</td>\n",
       "      <td>6931.0</td>\n",
       "      <td>733.0</td>\n",
       "      <td>620.0</td>\n",
       "      <td>85525.0</td>\n",
       "    </tr>\n",
       "    <tr>\n",
       "      <th>smart</th>\n",
       "      <td>2.0</td>\n",
       "      <td>17324.0</td>\n",
       "      <td>1726.0</td>\n",
       "      <td>1397.0</td>\n",
       "      <td>225001.0</td>\n",
       "    </tr>\n",
       "    <tr>\n",
       "      <th>smart</th>\n",
       "      <td>3.0</td>\n",
       "      <td>30034.0</td>\n",
       "      <td>3070.0</td>\n",
       "      <td>2453.0</td>\n",
       "      <td>439076.0</td>\n",
       "    </tr>\n",
       "    <tr>\n",
       "      <th>smart</th>\n",
       "      <td>4.0</td>\n",
       "      <td>41119.0</td>\n",
       "      <td>3976.0</td>\n",
       "      <td>3443.0</td>\n",
       "      <td>547066.0</td>\n",
       "    </tr>\n",
       "    <tr>\n",
       "      <th>smart</th>\n",
       "      <td>5.0</td>\n",
       "      <td>54618.0</td>\n",
       "      <td>5810.0</td>\n",
       "      <td>4762.0</td>\n",
       "      <td>846249.0</td>\n",
       "    </tr>\n",
       "    <tr>\n",
       "      <th>smart</th>\n",
       "      <td>6.0</td>\n",
       "      <td>64885.0</td>\n",
       "      <td>6748.0</td>\n",
       "      <td>5478.0</td>\n",
       "      <td>975059.0</td>\n",
       "    </tr>\n",
       "    <tr>\n",
       "      <th>smart</th>\n",
       "      <td>7.0</td>\n",
       "      <td>82079.0</td>\n",
       "      <td>8344.0</td>\n",
       "      <td>6784.0</td>\n",
       "      <td>1218814.0</td>\n",
       "    </tr>\n",
       "    <tr>\n",
       "      <th>smart</th>\n",
       "      <td>8.0</td>\n",
       "      <td>99045.0</td>\n",
       "      <td>10199.0</td>\n",
       "      <td>7905.0</td>\n",
       "      <td>1505940.0</td>\n",
       "    </tr>\n",
       "    <tr>\n",
       "      <th>smart</th>\n",
       "      <td>9.0</td>\n",
       "      <td>111439.0</td>\n",
       "      <td>11117.0</td>\n",
       "      <td>8746.0</td>\n",
       "      <td>1635586.0</td>\n",
       "    </tr>\n",
       "    <tr>\n",
       "      <th>smart</th>\n",
       "      <td>10.0</td>\n",
       "      <td>125284.0</td>\n",
       "      <td>12871.0</td>\n",
       "      <td>9927.0</td>\n",
       "      <td>1918667.0</td>\n",
       "    </tr>\n",
       "    <tr>\n",
       "      <th>smart</th>\n",
       "      <td>11.0</td>\n",
       "      <td>137544.0</td>\n",
       "      <td>14033.0</td>\n",
       "      <td>10768.0</td>\n",
       "      <td>2090603.0</td>\n",
       "    </tr>\n",
       "    <tr>\n",
       "      <th>smart</th>\n",
       "      <td>12.0</td>\n",
       "      <td>161275.0</td>\n",
       "      <td>15923.0</td>\n",
       "      <td>12130.0</td>\n",
       "      <td>2437165.0</td>\n",
       "    </tr>\n",
       "    <tr>\n",
       "      <th>ultra</th>\n",
       "      <td>1.0</td>\n",
       "      <td>3853.0</td>\n",
       "      <td>245.0</td>\n",
       "      <td>304.0</td>\n",
       "      <td>23100.0</td>\n",
       "    </tr>\n",
       "    <tr>\n",
       "      <th>ultra</th>\n",
       "      <td>2.0</td>\n",
       "      <td>7131.0</td>\n",
       "      <td>574.0</td>\n",
       "      <td>527.0</td>\n",
       "      <td>70050.0</td>\n",
       "    </tr>\n",
       "    <tr>\n",
       "      <th>ultra</th>\n",
       "      <td>3.0</td>\n",
       "      <td>18117.0</td>\n",
       "      <td>1267.0</td>\n",
       "      <td>1195.0</td>\n",
       "      <td>137400.0</td>\n",
       "    </tr>\n",
       "    <tr>\n",
       "      <th>ultra</th>\n",
       "      <td>4.0</td>\n",
       "      <td>25191.0</td>\n",
       "      <td>1826.0</td>\n",
       "      <td>1736.0</td>\n",
       "      <td>186000.0</td>\n",
       "    </tr>\n",
       "    <tr>\n",
       "      <th>ultra</th>\n",
       "      <td>5.0</td>\n",
       "      <td>34192.0</td>\n",
       "      <td>2557.0</td>\n",
       "      <td>2536.0</td>\n",
       "      <td>254850.0</td>\n",
       "    </tr>\n",
       "    <tr>\n",
       "      <th>ultra</th>\n",
       "      <td>6.0</td>\n",
       "      <td>40295.0</td>\n",
       "      <td>3111.0</td>\n",
       "      <td>3505.0</td>\n",
       "      <td>309000.0</td>\n",
       "    </tr>\n",
       "    <tr>\n",
       "      <th>ultra</th>\n",
       "      <td>7.0</td>\n",
       "      <td>49667.0</td>\n",
       "      <td>3668.0</td>\n",
       "      <td>4536.0</td>\n",
       "      <td>363000.0</td>\n",
       "    </tr>\n",
       "    <tr>\n",
       "      <th>ultra</th>\n",
       "      <td>8.0</td>\n",
       "      <td>54653.0</td>\n",
       "      <td>4078.0</td>\n",
       "      <td>5183.0</td>\n",
       "      <td>414150.0</td>\n",
       "    </tr>\n",
       "    <tr>\n",
       "      <th>ultra</th>\n",
       "      <td>9.0</td>\n",
       "      <td>62036.0</td>\n",
       "      <td>4334.0</td>\n",
       "      <td>6013.0</td>\n",
       "      <td>433200.0</td>\n",
       "    </tr>\n",
       "    <tr>\n",
       "      <th>ultra</th>\n",
       "      <td>10.0</td>\n",
       "      <td>68644.0</td>\n",
       "      <td>4812.0</td>\n",
       "      <td>7187.0</td>\n",
       "      <td>477750.0</td>\n",
       "    </tr>\n",
       "    <tr>\n",
       "      <th>ultra</th>\n",
       "      <td>11.0</td>\n",
       "      <td>72545.0</td>\n",
       "      <td>5204.0</td>\n",
       "      <td>7476.0</td>\n",
       "      <td>517200.0</td>\n",
       "    </tr>\n",
       "    <tr>\n",
       "      <th>ultra</th>\n",
       "      <td>12.0</td>\n",
       "      <td>82400.0</td>\n",
       "      <td>5916.0</td>\n",
       "      <td>8425.0</td>\n",
       "      <td>601050.0</td>\n",
       "    </tr>\n",
       "  </tbody>\n",
       "</table>\n",
       "</div>"
      ],
      "text/plain": [
       "        month  calls_duration  internet_volume  messagess_count  total_bill\n",
       "tariff                                                                     \n",
       "smart     1.0          6931.0            733.0            620.0     85525.0\n",
       "smart     2.0         17324.0           1726.0           1397.0    225001.0\n",
       "smart     3.0         30034.0           3070.0           2453.0    439076.0\n",
       "smart     4.0         41119.0           3976.0           3443.0    547066.0\n",
       "smart     5.0         54618.0           5810.0           4762.0    846249.0\n",
       "smart     6.0         64885.0           6748.0           5478.0    975059.0\n",
       "smart     7.0         82079.0           8344.0           6784.0   1218814.0\n",
       "smart     8.0         99045.0          10199.0           7905.0   1505940.0\n",
       "smart     9.0        111439.0          11117.0           8746.0   1635586.0\n",
       "smart    10.0        125284.0          12871.0           9927.0   1918667.0\n",
       "smart    11.0        137544.0          14033.0          10768.0   2090603.0\n",
       "smart    12.0        161275.0          15923.0          12130.0   2437165.0\n",
       "ultra     1.0          3853.0            245.0            304.0     23100.0\n",
       "ultra     2.0          7131.0            574.0            527.0     70050.0\n",
       "ultra     3.0         18117.0           1267.0           1195.0    137400.0\n",
       "ultra     4.0         25191.0           1826.0           1736.0    186000.0\n",
       "ultra     5.0         34192.0           2557.0           2536.0    254850.0\n",
       "ultra     6.0         40295.0           3111.0           3505.0    309000.0\n",
       "ultra     7.0         49667.0           3668.0           4536.0    363000.0\n",
       "ultra     8.0         54653.0           4078.0           5183.0    414150.0\n",
       "ultra     9.0         62036.0           4334.0           6013.0    433200.0\n",
       "ultra    10.0         68644.0           4812.0           7187.0    477750.0\n",
       "ultra    11.0         72545.0           5204.0           7476.0    517200.0\n",
       "ultra    12.0         82400.0           5916.0           8425.0    601050.0"
      ]
     },
     "execution_count": 41,
     "metadata": {},
     "output_type": "execute_result"
    }
   ],
   "source": [
    "#Опредедим сколько всего минут разговора,сообщений и какой объём интернет-трафика требуется пользователям  каждого тарифа в месяц (всего).\n",
    "df_month_sum = (df_cmiu_pivot.pivot_table(index=['tariff', 'month'],values=['calls_duration', 'messagess_count', 'internet_volume', 'total_bill'],aggfunc=sum))\n",
    "df_month_sum = df_month_sum.reset_index(level='month')\n",
    "df_month_sum"
   ]
  },
  {
   "cell_type": "code",
   "execution_count": 42,
   "id": "85c1be99",
   "metadata": {},
   "outputs": [
    {
     "data": {
      "image/png": "[encoded data removed]",
      "text/plain": [
       "<Figure size 1080x360 with 2 Axes>"
      ]
     },
     "metadata": {
      "needs_background": "light"
     },
     "output_type": "display_data"
    },
    {
     "data": {
      "image/png": "[encoded data removed]",
      "text/plain": [
       "<Figure size 1080x360 with 2 Axes>"
      ]
     },
     "metadata": {
      "needs_background": "light"
     },
     "output_type": "display_data"
    },
    {
     "data": {
      "image/png": "[encoded data removed]",
      "text/plain": [
       "<Figure size 1080x360 with 2 Axes>"
      ]
     },
     "metadata": {
      "needs_background": "light"
     },
     "output_type": "display_data"
    },
    {
     "data": {
      "image/png": "[encoded data removed]",
      "text/plain": [
       "<Figure size 1080x360 with 2 Axes>"
      ]
     },
     "metadata": {
      "needs_background": "light"
     },
     "output_type": "display_data"
    }
   ],
   "source": [
    "#Построим графики для тарифа smart и ultra\n",
    "for dms_col_name in ['calls_duration', 'internet_volume', 'messagess_count', 'total_bill']:\n",
    "    fig, axs = plt.subplots(1,2)\n",
    "    df_month_sum[df_month_sum.index=='smart'].plot(x='month', y=dms_col_name, kind='bar', title='smart', ax=axs[0], figsize=(15, 5))\n",
    "    df_month_sum[df_month_sum.index=='ultra'].plot(x='month', y=dms_col_name, kind='bar', title='ultra', ax=axs[1], figsize=(15, 5))"
   ]
  },
  {
   "cell_type": "markdown",
   "id": "4bcd4bb0",
   "metadata": {},
   "source": [
    "Как видно из графиков все параметры (количество звонков, продолжительность разговоров, количество сообщений, объем израсходованного интернет-трафика и итоговый счет) растут от января к декабрю по обоим тарифам."
   ]
  },
  {
   "cell_type": "markdown",
   "id": "d6a1d228",
   "metadata": {},
   "source": [
    "Количественные параметры разные, т.к. объем выборок разный:"
   ]
  },
  {
   "cell_type": "code",
   "execution_count": 43,
   "id": "31991e2c",
   "metadata": {},
   "outputs": [
    {
     "data": {
      "text/plain": [
       "2229"
      ]
     },
     "execution_count": 43,
     "metadata": {},
     "output_type": "execute_result"
    }
   ],
   "source": [
    "df_cmiu_pivot[df_cmiu_pivot['tariff']=='smart']['tariff'].count()"
   ]
  },
  {
   "cell_type": "code",
   "execution_count": 44,
   "id": "b16c1703",
   "metadata": {},
   "outputs": [
    {
     "data": {
      "text/plain": [
       "985"
      ]
     },
     "execution_count": 44,
     "metadata": {},
     "output_type": "execute_result"
    }
   ],
   "source": [
    "df_cmiu_pivot[df_cmiu_pivot['tariff']=='ultra']['tariff'].count()"
   ]
  },
  {
   "cell_type": "markdown",
   "id": "d967ee6d",
   "metadata": {},
   "source": [
    "<b>Построим графики и  посчитаем среднее количество, дисперсию и стандартное отклонение для следующих параметров:</b>"
   ]
  },
  {
   "cell_type": "code",
   "execution_count": 45,
   "id": "9e785bae",
   "metadata": {},
   "outputs": [
    {
     "data": {
      "text/html": [
       "<style  type=\"text/css\" >\n",
       "</style><table id=\"T_6ca7a_\" ><thead>    <tr>        <th class=\"blank level0\" ></th>        <th class=\"col_heading level0 col0\" colspan=\"3\">calls_duration</th>    </tr>    <tr>        <th class=\"blank level1\" ></th>        <th class=\"col_heading level1 col0\" >mean</th>        <th class=\"col_heading level1 col1\" >var</th>        <th class=\"col_heading level1 col2\" >std</th>    </tr>    <tr>        <th class=\"index_name level0\" >tariff</th>        <th class=\"blank\" ></th>        <th class=\"blank\" ></th>        <th class=\"blank\" ></th>    </tr></thead><tbody>\n",
       "                <tr>\n",
       "                        <th id=\"T_6ca7a_level0_row0\" class=\"row_heading level0 row0\" >smart</th>\n",
       "                        <td id=\"T_6ca7a_row0_col0\" class=\"data row0 col0\" >417.93</td>\n",
       "                        <td id=\"T_6ca7a_row0_col1\" class=\"data row0 col1\" >36219.32</td>\n",
       "                        <td id=\"T_6ca7a_row0_col2\" class=\"data row0 col2\" >190.31</td>\n",
       "            </tr>\n",
       "            <tr>\n",
       "                        <th id=\"T_6ca7a_level0_row1\" class=\"row_heading level0 row1\" >ultra</th>\n",
       "                        <td id=\"T_6ca7a_row1_col0\" class=\"data row1 col0\" >526.62</td>\n",
       "                        <td id=\"T_6ca7a_row1_col1\" class=\"data row1 col1\" >100873.63</td>\n",
       "                        <td id=\"T_6ca7a_row1_col2\" class=\"data row1 col2\" >317.61</td>\n",
       "            </tr>\n",
       "    </tbody></table>"
      ],
      "text/plain": [
       "<pandas.io.formats.style.Styler at 0x7f49d0dd3df0>"
      ]
     },
     "execution_count": 45,
     "metadata": {},
     "output_type": "execute_result"
    }
   ],
   "source": [
    "#Продолжительность звонков\n",
    "df_cmiu_pivot.groupby('tariff').agg({'calls_duration':['mean','var','std']}).style.format(\"{:.2f}\")"
   ]
  },
  {
   "cell_type": "code",
   "execution_count": 46,
   "id": "525859e1",
   "metadata": {
    "scrolled": true
   },
   "outputs": [
    {
     "data": {
      "text/plain": [
       "<AxesSubplot:title={'center':'Продолжительность звонков'}, ylabel='Frequency'>"
      ]
     },
     "execution_count": 46,
     "metadata": {},
     "output_type": "execute_result"
    },
    {
     "data": {
      "image/png": "[encoded data removed]",
      "text/plain": [
       "<Figure size 432x288 with 1 Axes>"
      ]
     },
     "metadata": {
      "needs_background": "light"
     },
     "output_type": "display_data"
    }
   ],
   "source": [
    "df_cmiu_pivot[df_cmiu_pivot['tariff'] == 'smart']['calls_duration'].plot(kind='hist', bins=10, legend = True, color='b', title='Продолжительность звонков')\n",
    "df_cmiu_pivot[df_cmiu_pivot['tariff'] == 'ultra']['calls_duration'].plot(kind='hist', bins=10, legend = True, color='g')"
   ]
  },
  {
   "cell_type": "markdown",
   "id": "f7e02fcd",
   "metadata": {},
   "source": [
    "На тарифе Смарт  большинство клиентов в месяц тратят около 450 - 500 минут, на Ультре - 500 - 550 минут в месяц. То есть на Смарте люди тратят весь пакет, а на Ультре у клиентов остается еще около 2500 минут. "
   ]
  },
  {
   "cell_type": "code",
   "execution_count": 47,
   "id": "b52db754",
   "metadata": {},
   "outputs": [
    {
     "data": {
      "text/html": [
       "<style  type=\"text/css\" >\n",
       "</style><table id=\"T_8dc2b_\" ><thead>    <tr>        <th class=\"blank level0\" ></th>        <th class=\"col_heading level0 col0\" colspan=\"3\">internet_volume</th>    </tr>    <tr>        <th class=\"blank level1\" ></th>        <th class=\"col_heading level1 col0\" >mean</th>        <th class=\"col_heading level1 col1\" >var</th>        <th class=\"col_heading level1 col2\" >std</th>    </tr>    <tr>        <th class=\"index_name level0\" >tariff</th>        <th class=\"blank\" ></th>        <th class=\"blank\" ></th>        <th class=\"blank\" ></th>    </tr></thead><tbody>\n",
       "                <tr>\n",
       "                        <th id=\"T_8dc2b_level0_row0\" class=\"row_heading level0 row0\" >smart</th>\n",
       "                        <td id=\"T_8dc2b_row0_col0\" class=\"data row0 col0\" >42.42</td>\n",
       "                        <td id=\"T_8dc2b_row0_col1\" class=\"data row0 col1\" >223.30</td>\n",
       "                        <td id=\"T_8dc2b_row0_col2\" class=\"data row0 col2\" >14.94</td>\n",
       "            </tr>\n",
       "            <tr>\n",
       "                        <th id=\"T_8dc2b_level0_row1\" class=\"row_heading level0 row1\" >ultra</th>\n",
       "                        <td id=\"T_8dc2b_row1_col0\" class=\"data row1 col0\" >38.16</td>\n",
       "                        <td id=\"T_8dc2b_row1_col1\" class=\"data row1 col1\" >382.78</td>\n",
       "                        <td id=\"T_8dc2b_row1_col2\" class=\"data row1 col2\" >19.56</td>\n",
       "            </tr>\n",
       "    </tbody></table>"
      ],
      "text/plain": [
       "<pandas.io.formats.style.Styler at 0x7f49d12a8a60>"
      ]
     },
     "execution_count": 47,
     "metadata": {},
     "output_type": "execute_result"
    }
   ],
   "source": [
    "#Объем интернет траффика\n",
    "df_cmiu_pivot.groupby('tariff').agg({'internet_volume':['mean','var','std']}).style.format(\"{:.2f}\")"
   ]
  },
  {
   "cell_type": "code",
   "execution_count": 48,
   "id": "06235e3b",
   "metadata": {},
   "outputs": [
    {
     "data": {
      "text/plain": [
       "<AxesSubplot:title={'center':'Объем интернет траффика'}, ylabel='Frequency'>"
      ]
     },
     "execution_count": 48,
     "metadata": {},
     "output_type": "execute_result"
    },
    {
     "data": {
      "image/png": "[encoded data removed]",
      "text/plain": [
       "<Figure size 432x288 with 1 Axes>"
      ]
     },
     "metadata": {
      "needs_background": "light"
     },
     "output_type": "display_data"
    }
   ],
   "source": [
    "df_cmiu_pivot[df_cmiu_pivot['tariff'] == 'smart']['internet_volume'].plot(kind='hist', bins=10, legend = True, color='b', title='Объем интернет траффика')\n",
    "df_cmiu_pivot[df_cmiu_pivot['tariff'] == 'ultra']['internet_volume'].plot(kind='hist', bins=10, legend = True, color='g')"
   ]
  },
  {
   "cell_type": "markdown",
   "id": "af97bbcf",
   "metadata": {},
   "source": [
    "На Смарте люди выходят за пределы тарифа чаще."
   ]
  },
  {
   "cell_type": "code",
   "execution_count": 49,
   "id": "2860c37c",
   "metadata": {},
   "outputs": [
    {
     "data": {
      "text/html": [
       "<style  type=\"text/css\" >\n",
       "</style><table id=\"T_86a8f_\" ><thead>    <tr>        <th class=\"blank level0\" ></th>        <th class=\"col_heading level0 col0\" colspan=\"3\">messagess_count</th>    </tr>    <tr>        <th class=\"blank level1\" ></th>        <th class=\"col_heading level1 col0\" >mean</th>        <th class=\"col_heading level1 col1\" >var</th>        <th class=\"col_heading level1 col2\" >std</th>    </tr>    <tr>        <th class=\"index_name level0\" >tariff</th>        <th class=\"blank\" ></th>        <th class=\"blank\" ></th>        <th class=\"blank\" ></th>    </tr></thead><tbody>\n",
       "                <tr>\n",
       "                        <th id=\"T_86a8f_level0_row0\" class=\"row_heading level0 row0\" >smart</th>\n",
       "                        <td id=\"T_86a8f_row0_col0\" class=\"data row0 col0\" >33.38</td>\n",
       "                        <td id=\"T_86a8f_row0_col1\" class=\"data row0 col1\" >796.81</td>\n",
       "                        <td id=\"T_86a8f_row0_col2\" class=\"data row0 col2\" >28.23</td>\n",
       "            </tr>\n",
       "            <tr>\n",
       "                        <th id=\"T_86a8f_level0_row1\" class=\"row_heading level0 row1\" >ultra</th>\n",
       "                        <td id=\"T_86a8f_row1_col0\" class=\"data row1 col0\" >49.36</td>\n",
       "                        <td id=\"T_86a8f_row1_col1\" class=\"data row1 col1\" >2285.27</td>\n",
       "                        <td id=\"T_86a8f_row1_col2\" class=\"data row1 col2\" >47.80</td>\n",
       "            </tr>\n",
       "    </tbody></table>"
      ],
      "text/plain": [
       "<pandas.io.formats.style.Styler at 0x7f49d129c040>"
      ]
     },
     "execution_count": 49,
     "metadata": {},
     "output_type": "execute_result"
    }
   ],
   "source": [
    "#Количество сообщений\n",
    "df_cmiu_pivot.groupby('tariff').agg({'messagess_count':['mean','var','std']}).style.format(\"{:.2f}\")"
   ]
  },
  {
   "cell_type": "code",
   "execution_count": 50,
   "id": "28573eb4",
   "metadata": {},
   "outputs": [
    {
     "data": {
      "text/plain": [
       "<AxesSubplot:title={'center':'Количество сообщений'}, ylabel='Frequency'>"
      ]
     },
     "execution_count": 50,
     "metadata": {},
     "output_type": "execute_result"
    },
    {
     "data": {
      "image/png": "[encoded data removed]",
      "text/plain": [
       "<Figure size 432x288 with 1 Axes>"
      ]
     },
     "metadata": {
      "needs_background": "light"
     },
     "output_type": "display_data"
    }
   ],
   "source": [
    "df_cmiu_pivot[df_cmiu_pivot['tariff'] == 'smart']['messagess_count'].plot(kind='hist', bins=10, legend = True, color='b', title='Количество сообщений')\n",
    "df_cmiu_pivot[df_cmiu_pivot['tariff'] == 'ultra']['messagess_count'].plot(kind='hist', bins=10, legend = True, color='g')"
   ]
  },
  {
   "cell_type": "markdown",
   "id": "cf2fed60",
   "metadata": {},
   "source": [
    "Видно, что большинство клиентов как  тарифа Смарт, так и тарифа  редко пользуются смс сообщениями. "
   ]
  },
  {
   "cell_type": "code",
   "execution_count": 51,
   "id": "8daa0645",
   "metadata": {},
   "outputs": [
    {
     "data": {
      "text/html": [
       "<style  type=\"text/css\" >\n",
       "</style><table id=\"T_039d9_\" ><thead>    <tr>        <th class=\"blank level0\" ></th>        <th class=\"col_heading level0 col0\" colspan=\"3\">total_bill</th>    </tr>    <tr>        <th class=\"blank level1\" ></th>        <th class=\"col_heading level1 col0\" >mean</th>        <th class=\"col_heading level1 col1\" >var</th>        <th class=\"col_heading level1 col2\" >std</th>    </tr>    <tr>        <th class=\"index_name level0\" >tariff</th>        <th class=\"blank\" ></th>        <th class=\"blank\" ></th>        <th class=\"blank\" ></th>    </tr></thead><tbody>\n",
       "                <tr>\n",
       "                        <th id=\"T_039d9_level0_row0\" class=\"row_heading level0 row0\" >smart</th>\n",
       "                        <td id=\"T_039d9_row0_col0\" class=\"data row0 col0\" >6247.08</td>\n",
       "                        <td id=\"T_039d9_row0_col1\" class=\"data row0 col1\" >8373601.12</td>\n",
       "                        <td id=\"T_039d9_row0_col2\" class=\"data row0 col2\" >2893.72</td>\n",
       "            </tr>\n",
       "            <tr>\n",
       "                        <th id=\"T_039d9_level0_row1\" class=\"row_heading level0 row1\" >ultra</th>\n",
       "                        <td id=\"T_039d9_row1_col0\" class=\"data row1 col0\" >3844.42</td>\n",
       "                        <td id=\"T_039d9_row1_col1\" class=\"data row1 col1\" >4692158.83</td>\n",
       "                        <td id=\"T_039d9_row1_col2\" class=\"data row1 col2\" >2166.14</td>\n",
       "            </tr>\n",
       "    </tbody></table>"
      ],
      "text/plain": [
       "<pandas.io.formats.style.Styler at 0x7f49d121d250>"
      ]
     },
     "execution_count": 51,
     "metadata": {},
     "output_type": "execute_result"
    }
   ],
   "source": [
    "#Итоговый счет\n",
    "df_cmiu_pivot.groupby('tariff').agg({'total_bill':['mean','var','std']}).style.format(\"{:.2f}\")"
   ]
  },
  {
   "cell_type": "code",
   "execution_count": 52,
   "id": "57d24801",
   "metadata": {},
   "outputs": [
    {
     "data": {
      "text/plain": [
       "<AxesSubplot:title={'center':'Итоговый счет'}, ylabel='Frequency'>"
      ]
     },
     "execution_count": 52,
     "metadata": {},
     "output_type": "execute_result"
    },
    {
     "data": {
      "image/png": "[encoded data removed]",
      "text/plain": [
       "<Figure size 432x288 with 1 Axes>"
      ]
     },
     "metadata": {
      "needs_background": "light"
     },
     "output_type": "display_data"
    }
   ],
   "source": [
    "df_cmiu_pivot[df_cmiu_pivot['tariff'] == 'smart']['total_bill'].plot(kind='hist', bins=10, legend = True, color='b', title='Итоговый счет')\n",
    "df_cmiu_pivot[df_cmiu_pivot['tariff'] == 'ultra']['total_bill'].plot(kind='hist', bins=10, legend = True, color='g')"
   ]
  },
  {
   "cell_type": "markdown",
   "id": "fc8823c6",
   "metadata": {},
   "source": [
    "По тарифу Ультра клиенты в основном платят по тарифу и затем небольшими группами выходят за пределы абонентской платы. По тарифу Смарт клиенты  выходят за пределы абонентской платы намного чаще.\n",
    "\n",
    "\n",
    "Большую дисперсию по тарифу ультра можно объяснить меньшим объемом выборки, чем у смарт. Более высокое стандартное отклонение тарифа ультра по использованию сообщений, звонков, интернета указывает на то, что значения распределены в более широком диапазоне. "
   ]
  },
  {
   "cell_type": "markdown",
   "id": "6a54698c",
   "metadata": {},
   "source": [
    "### Шаг 4. Проверка гипотез"
   ]
  },
  {
   "cell_type": "markdown",
   "id": "861fb9c5",
   "metadata": {},
   "source": [
    "1.Средняя выручка пользователей тарифов «Ультра» и «Смарт» различаются."
   ]
  },
  {
   "cell_type": "markdown",
   "id": "5a62dd38",
   "metadata": {},
   "source": [
    "Сформулируем нулевую и альтернативную гипотезы:\n",
    "\n",
    "H0 - средняя выручка пользователей тарифов «Ультра» и «Смарт» равны;\n",
    "\n",
    "H1 - средние выручки пользователей тарифов «Ультра» и «Смарт» различаются."
   ]
  },
  {
   "cell_type": "code",
   "execution_count": 53,
   "id": "5d5d7b4c",
   "metadata": {},
   "outputs": [
    {
     "name": "stdout",
     "output_type": "stream",
     "text": [
      "p-значение: 3.3661232169196476e-132\n",
      "Отвергаем нулевую гипотезу\n"
     ]
    }
   ],
   "source": [
    "smart_ttest = df_cmiu_pivot[df_cmiu_pivot['tariff']=='smart']['total_bill']\n",
    "ultra_ttest = df_cmiu_pivot[df_cmiu_pivot['tariff']=='ultra']['total_bill']\n",
    "\n",
    "# уровень значимости зададим равным 5%\n",
    "alpha = 0.05\n",
    "\n",
    "results = st.ttest_ind(smart_ttest, ultra_ttest, equal_var=False) #equal_var=False так как в шаге 3 видно, что дисперсии выборок по смарт и ультра различаются\n",
    "\n",
    "print('p-значение:', results.pvalue)\n",
    "\n",
    "if (results.pvalue < alpha):\n",
    "    print(\"Отвергаем нулевую гипотезу\")\n",
    "else:\n",
    "    print(\"Не получилось отвергнуть нулевую гипотезу\")"
   ]
  },
  {
   "cell_type": "markdown",
   "id": "36f1d64a",
   "metadata": {},
   "source": [
    "Средняя выручка пользователей тарифов Смарт и Ульра  отличаются друг от друга."
   ]
  },
  {
   "cell_type": "markdown",
   "id": "721466fe",
   "metadata": {},
   "source": [
    "2.Средняя выручка пользователей из Москвы отличается от выручки пользователей из других регионов."
   ]
  },
  {
   "cell_type": "markdown",
   "id": "ef0808b4",
   "metadata": {},
   "source": [
    "Сформулируем нулевую и альтернативную гипотезы:\n",
    "    \n",
    "Н0 - средняя выручка пользователей из Москвы равна средней выручке пользователей из других регионов;\n",
    "\n",
    "Н1 - средняя выручка пользователей из Москвы отличается от выручки пользователей из других регионов."
   ]
  },
  {
   "cell_type": "code",
   "execution_count": 54,
   "id": "4884de7c",
   "metadata": {},
   "outputs": [
    {
     "name": "stdout",
     "output_type": "stream",
     "text": [
      "p-значение:  0.19642848457860967\n",
      "Не получилось отвергнуть нулевую гипотезу\n"
     ]
    }
   ],
   "source": [
    "moscow_ttest = df_cmiu_pivot[df_cmiu_pivot['city']=='Москва']['total_bill'] #Данные - Выручка пользователей из Москвы\n",
    "\n",
    "province_mean = df_cmiu_pivot[df_cmiu_pivot['city']!='Москва']['total_bill'].mean() #Среднее значение выручки пользователе не из Москвы\n",
    "\n",
    "# уровень значимости 5%\n",
    "alpha = 0.05\n",
    "\n",
    "results = st.ttest_1samp(moscow_ttest, province_mean)\n",
    "\n",
    "print('p-значение: ', results.pvalue)\n",
    "\n",
    "if results.pvalue < alpha:\n",
    "    print(\"Отвергаем нулевую гипотезу\")\n",
    "else:\n",
    "    print(\"Не получилось отвергнуть нулевую гипотезу\")"
   ]
  },
  {
   "cell_type": "markdown",
   "id": "e8261046",
   "metadata": {},
   "source": [
    "Средняя выручка по Москве статистически значимо не отличается от средней выручки по другим регионам."
   ]
  },
  {
   "cell_type": "markdown",
   "id": "cccb0ad3",
   "metadata": {},
   "source": [
    "### Шаг 5. Общий вывод"
   ]
  },
  {
   "cell_type": "markdown",
   "id": "6da75367",
   "metadata": {},
   "source": [
    "Сделав  анализ тарифов на небольшой выборке пользователей можем сделать следующие выводы:\n",
    "\n",
    "Средние выручки тарифов смарт и ультра значимо различаются. В среднем пользователи тарифа ультра платят больше.\n",
    "\n",
    "Средняя выручка по Москве и другим регионам значимо не различается.\n",
    "\n",
    "СМС сообщениями мало популярны  на обоих тарифах. Клиенты тарифа Смарт близки к своим лимитам по пакету, у клиентов с тарифом  Ультра часто остаются большие \"остатки\" по пакету.\n",
    "\n",
    "Выбор тарифа зависит от конкретного пользователя. Исходя из исследования, тариф ультра лучше для активных пользователей.  По тарифу ультра клиенты имеют больший пакет минут/сообщений/ интернета и в основном платят по тарифу, за пределы абонентской платы выходят редко."
   ]
  }
 ],
 "metadata": {
  "ExecuteTimeLog": [
   {
    "duration": 781,
    "start_time": "2022-03-08T14:16:46.017Z"
   },
   {
    "duration": 16,
    "start_time": "2022-03-08T14:20:15.418Z"
   },
   {
    "duration": 367,
    "start_time": "2022-03-08T14:40:19.559Z"
   },
   {
    "duration": 101,
    "start_time": "2022-03-08T14:41:29.842Z"
   },
   {
    "duration": 70,
    "start_time": "2022-03-08T14:42:28.051Z"
   },
   {
    "duration": 10,
    "start_time": "2022-03-08T14:46:38.177Z"
   },
   {
    "duration": 10,
    "start_time": "2022-03-08T14:47:33.173Z"
   },
   {
    "duration": 70,
    "start_time": "2022-03-08T14:47:41.709Z"
   },
   {
    "duration": 10,
    "start_time": "2022-03-08T14:47:47.254Z"
   },
   {
    "duration": 20,
    "start_time": "2022-03-08T14:51:35.710Z"
   },
   {
    "duration": 19,
    "start_time": "2022-03-08T14:54:01.919Z"
   },
   {
    "duration": 7,
    "start_time": "2022-03-08T14:54:24.151Z"
   },
   {
    "duration": 7,
    "start_time": "2022-03-08T15:08:24.450Z"
   },
   {
    "duration": 7,
    "start_time": "2022-03-08T15:10:57.122Z"
   },
   {
    "duration": 7,
    "start_time": "2022-03-08T15:12:36.278Z"
   },
   {
    "duration": 21,
    "start_time": "2022-03-08T15:12:48.580Z"
   },
   {
    "duration": 4,
    "start_time": "2022-03-08T15:20:21.132Z"
   },
   {
    "duration": 4,
    "start_time": "2022-03-08T15:20:28.035Z"
   },
   {
    "duration": 5,
    "start_time": "2022-03-08T15:20:40.869Z"
   },
   {
    "duration": 76,
    "start_time": "2022-03-08T15:22:36.995Z"
   },
   {
    "duration": 7,
    "start_time": "2022-03-08T15:23:28.205Z"
   },
   {
    "duration": 20,
    "start_time": "2022-03-08T15:23:39.365Z"
   },
   {
    "duration": 24,
    "start_time": "2022-03-08T15:24:06.367Z"
   },
   {
    "duration": 6,
    "start_time": "2022-03-08T15:24:58.661Z"
   },
   {
    "duration": 14,
    "start_time": "2022-03-08T15:28:30.328Z"
   },
   {
    "duration": 6,
    "start_time": "2022-03-08T15:28:39.436Z"
   },
   {
    "duration": 69,
    "start_time": "2022-03-08T15:41:03.503Z"
   },
   {
    "duration": 207,
    "start_time": "2022-03-08T15:41:17.924Z"
   },
   {
    "duration": 217,
    "start_time": "2022-03-08T15:41:40.737Z"
   },
   {
    "duration": 222,
    "start_time": "2022-03-08T15:41:50.249Z"
   },
   {
    "duration": 223,
    "start_time": "2022-03-08T15:47:37.637Z"
   },
   {
    "duration": 209,
    "start_time": "2022-03-08T15:48:47.642Z"
   },
   {
    "duration": 25,
    "start_time": "2022-03-08T15:57:38.835Z"
   },
   {
    "duration": 25,
    "start_time": "2022-03-08T15:58:42.756Z"
   },
   {
    "duration": 21,
    "start_time": "2022-03-08T15:58:48.360Z"
   },
   {
    "duration": 22,
    "start_time": "2022-03-08T15:59:19.224Z"
   },
   {
    "duration": 6,
    "start_time": "2022-03-08T15:59:21.123Z"
   },
   {
    "duration": 6,
    "start_time": "2022-03-08T15:59:25.513Z"
   },
   {
    "duration": 5,
    "start_time": "2022-03-08T15:59:30.648Z"
   },
   {
    "duration": 853,
    "start_time": "2022-03-08T15:59:48.646Z"
   },
   {
    "duration": 13,
    "start_time": "2022-03-08T15:59:49.502Z"
   },
   {
    "duration": 7,
    "start_time": "2022-03-08T15:59:49.518Z"
   },
   {
    "duration": 22,
    "start_time": "2022-03-08T15:59:49.528Z"
   },
   {
    "duration": 55,
    "start_time": "2022-03-08T15:59:49.553Z"
   },
   {
    "duration": 6,
    "start_time": "2022-03-08T15:59:49.611Z"
   },
   {
    "duration": 312,
    "start_time": "2022-03-08T16:01:52.037Z"
   },
   {
    "duration": 6,
    "start_time": "2022-03-08T16:01:54.217Z"
   },
   {
    "duration": 6,
    "start_time": "2022-03-08T16:01:57.904Z"
   },
   {
    "duration": 230,
    "start_time": "2022-03-08T16:02:03.827Z"
   },
   {
    "duration": 23,
    "start_time": "2022-03-08T16:02:54.634Z"
   },
   {
    "duration": 824,
    "start_time": "2022-03-08T16:03:13.401Z"
   },
   {
    "duration": 15,
    "start_time": "2022-03-08T16:03:14.228Z"
   },
   {
    "duration": 9,
    "start_time": "2022-03-08T16:03:14.246Z"
   },
   {
    "duration": 40,
    "start_time": "2022-03-08T16:03:14.257Z"
   },
   {
    "duration": 24,
    "start_time": "2022-03-08T16:03:14.300Z"
   },
   {
    "duration": 7,
    "start_time": "2022-03-08T16:03:14.327Z"
   },
   {
    "duration": 23,
    "start_time": "2022-03-08T16:03:54.266Z"
   },
   {
    "duration": 26,
    "start_time": "2022-03-08T16:04:37.848Z"
   },
   {
    "duration": -1131,
    "start_time": "2022-03-08T16:06:04.111Z"
   },
   {
    "duration": 806,
    "start_time": "2022-03-08T16:06:22.124Z"
   },
   {
    "duration": 15,
    "start_time": "2022-03-08T16:06:22.933Z"
   },
   {
    "duration": 10,
    "start_time": "2022-03-08T16:06:22.951Z"
   },
   {
    "duration": 38,
    "start_time": "2022-03-08T16:06:22.964Z"
   },
   {
    "duration": 3084,
    "start_time": "2022-03-08T16:06:23.004Z"
   },
   {
    "duration": -1095,
    "start_time": "2022-03-08T16:06:27.186Z"
   },
   {
    "duration": 20,
    "start_time": "2022-03-08T16:08:41.432Z"
   },
   {
    "duration": 5,
    "start_time": "2022-03-08T16:12:38.157Z"
   },
   {
    "duration": 9,
    "start_time": "2022-03-08T16:29:07.913Z"
   },
   {
    "duration": 69,
    "start_time": "2022-03-08T16:31:46.274Z"
   },
   {
    "duration": 72,
    "start_time": "2022-03-08T16:31:57.596Z"
   },
   {
    "duration": 66,
    "start_time": "2022-03-08T16:32:57.158Z"
   },
   {
    "duration": 73,
    "start_time": "2022-03-08T16:33:10.237Z"
   },
   {
    "duration": 83,
    "start_time": "2022-03-08T16:34:03.372Z"
   },
   {
    "duration": 69,
    "start_time": "2022-03-08T16:34:54.853Z"
   },
   {
    "duration": 8,
    "start_time": "2022-03-08T16:39:33.110Z"
   },
   {
    "duration": 6,
    "start_time": "2022-03-08T16:41:23.076Z"
   },
   {
    "duration": 11,
    "start_time": "2022-03-08T16:46:39.407Z"
   },
   {
    "duration": 10,
    "start_time": "2022-03-08T16:46:59.908Z"
   },
   {
    "duration": 11,
    "start_time": "2022-03-08T16:48:18.978Z"
   },
   {
    "duration": 11,
    "start_time": "2022-03-08T16:49:12.931Z"
   },
   {
    "duration": 9,
    "start_time": "2022-03-08T16:51:07.031Z"
   },
   {
    "duration": 20,
    "start_time": "2022-03-08T16:57:21.011Z"
   },
   {
    "duration": 8,
    "start_time": "2022-03-08T16:57:46.231Z"
   },
   {
    "duration": 9,
    "start_time": "2022-03-08T16:59:05.582Z"
   },
   {
    "duration": 4,
    "start_time": "2022-03-08T17:00:14.240Z"
   },
   {
    "duration": 3,
    "start_time": "2022-03-08T17:00:17.491Z"
   },
   {
    "duration": 14,
    "start_time": "2022-03-08T17:02:22.727Z"
   },
   {
    "duration": 21,
    "start_time": "2022-03-08T17:03:51.379Z"
   },
   {
    "duration": 4,
    "start_time": "2022-03-08T17:04:25.972Z"
   },
   {
    "duration": 12,
    "start_time": "2022-03-08T17:05:42.822Z"
   },
   {
    "duration": 11,
    "start_time": "2022-03-08T17:06:10.740Z"
   },
   {
    "duration": 813,
    "start_time": "2022-03-08T17:06:25.960Z"
   },
   {
    "duration": 18,
    "start_time": "2022-03-08T17:06:26.776Z"
   },
   {
    "duration": 10,
    "start_time": "2022-03-08T17:06:26.797Z"
   },
   {
    "duration": 19,
    "start_time": "2022-03-08T17:06:26.810Z"
   },
   {
    "duration": 9,
    "start_time": "2022-03-08T17:06:26.831Z"
   },
   {
    "duration": 52,
    "start_time": "2022-03-08T17:06:26.843Z"
   },
   {
    "duration": 21,
    "start_time": "2022-03-08T17:07:11.530Z"
   },
   {
    "duration": 5668,
    "start_time": "2022-03-08T17:09:00.285Z"
   },
   {
    "duration": 5892,
    "start_time": "2022-03-08T17:09:57.846Z"
   },
   {
    "duration": -1098,
    "start_time": "2022-03-08T17:10:14.275Z"
   },
   {
    "duration": 21,
    "start_time": "2022-03-08T17:10:46.829Z"
   },
   {
    "duration": 21,
    "start_time": "2022-03-08T17:10:55.601Z"
   },
   {
    "duration": 819,
    "start_time": "2022-03-08T17:11:13.782Z"
   },
   {
    "duration": 14,
    "start_time": "2022-03-08T17:11:14.604Z"
   },
   {
    "duration": 11,
    "start_time": "2022-03-08T17:11:14.621Z"
   },
   {
    "duration": 19,
    "start_time": "2022-03-08T17:11:14.634Z"
   },
   {
    "duration": 35,
    "start_time": "2022-03-08T17:11:14.656Z"
   },
   {
    "duration": 12,
    "start_time": "2022-03-08T17:11:14.694Z"
   },
   {
    "duration": 21,
    "start_time": "2022-03-08T17:11:14.708Z"
   },
   {
    "duration": 5334,
    "start_time": "2022-03-08T17:11:14.732Z"
   },
   {
    "duration": 21,
    "start_time": "2022-03-08T17:11:20.354Z"
   },
   {
    "duration": 6,
    "start_time": "2022-03-08T17:12:00.284Z"
   },
   {
    "duration": 13,
    "start_time": "2022-03-08T17:12:04.898Z"
   },
   {
    "duration": 64,
    "start_time": "2022-03-08T17:12:27.576Z"
   },
   {
    "duration": 12,
    "start_time": "2022-03-08T17:12:28.164Z"
   },
   {
    "duration": 76,
    "start_time": "2022-03-08T17:12:55.133Z"
   },
   {
    "duration": 333,
    "start_time": "2022-03-10T14:47:34.035Z"
   },
   {
    "duration": 261,
    "start_time": "2022-03-10T14:47:47.273Z"
   },
   {
    "duration": 843,
    "start_time": "2022-03-10T14:47:55.411Z"
   },
   {
    "duration": 27,
    "start_time": "2022-03-10T14:47:56.258Z"
   },
   {
    "duration": 140,
    "start_time": "2022-03-10T14:47:56.288Z"
   },
   {
    "duration": 225,
    "start_time": "2022-03-10T14:47:56.430Z"
   },
   {
    "duration": 180,
    "start_time": "2022-03-10T14:47:56.657Z"
   },
   {
    "duration": 207,
    "start_time": "2022-03-10T14:47:56.840Z"
   },
   {
    "duration": 225,
    "start_time": "2022-03-10T14:47:57.050Z"
   },
   {
    "duration": 192,
    "start_time": "2022-03-10T14:47:57.278Z"
   },
   {
    "duration": 173,
    "start_time": "2022-03-10T14:47:57.472Z"
   },
   {
    "duration": 160,
    "start_time": "2022-03-10T14:47:57.647Z"
   },
   {
    "duration": 12,
    "start_time": "2022-03-10T14:48:28.160Z"
   },
   {
    "duration": 13,
    "start_time": "2022-03-10T14:48:38.580Z"
   },
   {
    "duration": 13,
    "start_time": "2022-03-10T14:48:44.070Z"
   },
   {
    "duration": 6,
    "start_time": "2022-03-10T14:48:52.949Z"
   },
   {
    "duration": 12,
    "start_time": "2022-03-10T14:48:53.628Z"
   },
   {
    "duration": 12,
    "start_time": "2022-03-10T14:48:56.619Z"
   },
   {
    "duration": 817,
    "start_time": "2022-03-10T14:49:08.106Z"
   },
   {
    "duration": 16,
    "start_time": "2022-03-10T14:49:08.927Z"
   },
   {
    "duration": 230,
    "start_time": "2022-03-10T14:49:08.946Z"
   },
   {
    "duration": 322,
    "start_time": "2022-03-10T14:49:09.179Z"
   },
   {
    "duration": 572,
    "start_time": "2022-03-10T14:49:09.504Z"
   },
   {
    "duration": 272,
    "start_time": "2022-03-10T14:49:10.079Z"
   },
   {
    "duration": 313,
    "start_time": "2022-03-10T14:49:10.353Z"
   },
   {
    "duration": 330,
    "start_time": "2022-03-10T14:49:10.671Z"
   },
   {
    "duration": 274,
    "start_time": "2022-03-10T14:49:11.004Z"
   },
   {
    "duration": 426,
    "start_time": "2022-03-10T14:49:11.281Z"
   },
   {
    "duration": 15,
    "start_time": "2022-03-10T14:52:18.700Z"
   },
   {
    "duration": 18,
    "start_time": "2022-03-10T15:00:26.660Z"
   },
   {
    "duration": 338,
    "start_time": "2022-03-10T15:05:45.661Z"
   },
   {
    "duration": 5,
    "start_time": "2022-03-10T15:05:53.557Z"
   },
   {
    "duration": 17,
    "start_time": "2022-03-10T15:06:02.077Z"
   },
   {
    "duration": 20,
    "start_time": "2022-03-10T15:06:57.194Z"
   },
   {
    "duration": 6,
    "start_time": "2022-03-10T15:08:52.859Z"
   },
   {
    "duration": 16,
    "start_time": "2022-03-10T15:08:55.255Z"
   },
   {
    "duration": 3337,
    "start_time": "2022-03-10T15:09:34.694Z"
   },
   {
    "duration": -1353,
    "start_time": "2022-03-10T15:09:39.387Z"
   },
   {
    "duration": 314,
    "start_time": "2022-03-10T15:10:15.412Z"
   },
   {
    "duration": 303,
    "start_time": "2022-03-10T15:10:39.727Z"
   },
   {
    "duration": 6,
    "start_time": "2022-03-10T15:10:56.917Z"
   },
   {
    "duration": 15,
    "start_time": "2022-03-10T15:10:58.768Z"
   },
   {
    "duration": 379,
    "start_time": "2022-03-10T15:18:55.998Z"
   },
   {
    "duration": 15,
    "start_time": "2022-03-10T15:19:16.855Z"
   },
   {
    "duration": 7,
    "start_time": "2022-03-10T15:23:03.304Z"
   },
   {
    "duration": 10,
    "start_time": "2022-03-10T15:26:35.493Z"
   },
   {
    "duration": 7,
    "start_time": "2022-03-10T15:26:55.577Z"
   },
   {
    "duration": 9,
    "start_time": "2022-03-10T15:27:05.042Z"
   },
   {
    "duration": 7,
    "start_time": "2022-03-10T15:27:45.069Z"
   },
   {
    "duration": 8,
    "start_time": "2022-03-10T15:27:58.554Z"
   },
   {
    "duration": 8,
    "start_time": "2022-03-10T15:28:17.390Z"
   },
   {
    "duration": 9,
    "start_time": "2022-03-10T15:28:50.142Z"
   },
   {
    "duration": 24,
    "start_time": "2022-03-10T15:36:05.177Z"
   },
   {
    "duration": 26,
    "start_time": "2022-03-10T15:36:33.761Z"
   },
   {
    "duration": 21,
    "start_time": "2022-03-10T15:37:03.561Z"
   },
   {
    "duration": 31,
    "start_time": "2022-03-10T15:37:54.265Z"
   },
   {
    "duration": 26,
    "start_time": "2022-03-10T15:39:36.364Z"
   },
   {
    "duration": 28,
    "start_time": "2022-03-10T15:39:41.766Z"
   },
   {
    "duration": 8,
    "start_time": "2022-03-10T15:40:17.338Z"
   },
   {
    "duration": 7,
    "start_time": "2022-03-10T15:41:05.063Z"
   },
   {
    "duration": 7,
    "start_time": "2022-03-10T15:41:06.331Z"
   },
   {
    "duration": 6,
    "start_time": "2022-03-10T15:46:15.014Z"
   },
   {
    "duration": 8,
    "start_time": "2022-03-10T15:46:45.911Z"
   },
   {
    "duration": 881,
    "start_time": "2022-03-10T15:47:00.035Z"
   },
   {
    "duration": 18,
    "start_time": "2022-03-10T15:47:00.919Z"
   },
   {
    "duration": 9,
    "start_time": "2022-03-10T15:47:00.941Z"
   },
   {
    "duration": 48,
    "start_time": "2022-03-10T15:47:00.953Z"
   },
   {
    "duration": 12,
    "start_time": "2022-03-10T15:47:01.003Z"
   },
   {
    "duration": 46,
    "start_time": "2022-03-10T15:47:01.017Z"
   },
   {
    "duration": 30,
    "start_time": "2022-03-10T15:47:01.066Z"
   },
   {
    "duration": 6,
    "start_time": "2022-03-10T15:47:01.099Z"
   },
   {
    "duration": 28,
    "start_time": "2022-03-10T15:47:01.108Z"
   },
   {
    "duration": 11,
    "start_time": "2022-03-10T15:47:01.138Z"
   },
   {
    "duration": 8,
    "start_time": "2022-03-10T15:47:01.152Z"
   },
   {
    "duration": 30,
    "start_time": "2022-03-10T15:47:01.162Z"
   },
   {
    "duration": 32,
    "start_time": "2022-03-10T15:47:01.195Z"
   },
   {
    "duration": 31,
    "start_time": "2022-03-10T15:47:01.230Z"
   },
   {
    "duration": 34,
    "start_time": "2022-03-10T15:47:01.263Z"
   },
   {
    "duration": 8,
    "start_time": "2022-03-10T15:49:06.839Z"
   },
   {
    "duration": 8,
    "start_time": "2022-03-10T15:50:31.884Z"
   },
   {
    "duration": 9,
    "start_time": "2022-03-10T15:50:48.298Z"
   },
   {
    "duration": 15,
    "start_time": "2022-03-10T15:51:15.404Z"
   },
   {
    "duration": 10,
    "start_time": "2022-03-10T15:51:30.976Z"
   },
   {
    "duration": 10,
    "start_time": "2022-03-10T15:51:40.951Z"
   },
   {
    "duration": 7,
    "start_time": "2022-03-10T15:51:57.229Z"
   },
   {
    "duration": 9,
    "start_time": "2022-03-10T15:52:06.784Z"
   },
   {
    "duration": 8,
    "start_time": "2022-03-10T15:52:36.399Z"
   },
   {
    "duration": 9,
    "start_time": "2022-03-10T15:52:47.456Z"
   },
   {
    "duration": 7,
    "start_time": "2022-03-10T15:52:59.560Z"
   },
   {
    "duration": 7314,
    "start_time": "2022-03-10T15:53:11.689Z"
   },
   {
    "duration": 6,
    "start_time": "2022-03-10T15:53:24.660Z"
   },
   {
    "duration": 9,
    "start_time": "2022-03-10T15:53:40.693Z"
   },
   {
    "duration": 9,
    "start_time": "2022-03-10T15:53:53.078Z"
   },
   {
    "duration": 7,
    "start_time": "2022-03-10T15:54:15.574Z"
   },
   {
    "duration": 5,
    "start_time": "2022-03-10T15:54:21.209Z"
   },
   {
    "duration": 9,
    "start_time": "2022-03-10T15:54:47.937Z"
   },
   {
    "duration": 9,
    "start_time": "2022-03-10T15:57:38.626Z"
   },
   {
    "duration": 268,
    "start_time": "2022-03-10T16:01:15.424Z"
   },
   {
    "duration": 13,
    "start_time": "2022-03-10T16:01:26.794Z"
   },
   {
    "duration": 13,
    "start_time": "2022-03-10T16:02:33.312Z"
   },
   {
    "duration": 12,
    "start_time": "2022-03-10T16:03:04.611Z"
   },
   {
    "duration": 7,
    "start_time": "2022-03-10T16:09:22.035Z"
   },
   {
    "duration": 759,
    "start_time": "2022-03-10T16:09:35.838Z"
   },
   {
    "duration": 15,
    "start_time": "2022-03-10T16:09:36.600Z"
   },
   {
    "duration": 9,
    "start_time": "2022-03-10T16:09:36.619Z"
   },
   {
    "duration": 55,
    "start_time": "2022-03-10T16:09:36.630Z"
   },
   {
    "duration": 6,
    "start_time": "2022-03-10T16:09:36.688Z"
   },
   {
    "duration": 17,
    "start_time": "2022-03-10T16:09:36.697Z"
   },
   {
    "duration": 19,
    "start_time": "2022-03-10T16:09:36.717Z"
   },
   {
    "duration": 6,
    "start_time": "2022-03-10T16:09:36.738Z"
   },
   {
    "duration": 44,
    "start_time": "2022-03-10T16:09:36.747Z"
   },
   {
    "duration": 8,
    "start_time": "2022-03-10T16:09:36.794Z"
   },
   {
    "duration": 10,
    "start_time": "2022-03-10T16:09:36.805Z"
   },
   {
    "duration": 11,
    "start_time": "2022-03-10T16:09:36.817Z"
   },
   {
    "duration": 15,
    "start_time": "2022-03-10T16:09:36.830Z"
   },
   {
    "duration": 35,
    "start_time": "2022-03-10T16:09:36.847Z"
   },
   {
    "duration": 21,
    "start_time": "2022-03-10T16:09:36.885Z"
   },
   {
    "duration": 14,
    "start_time": "2022-03-10T16:09:36.908Z"
   },
   {
    "duration": 27,
    "start_time": "2022-03-10T16:09:36.924Z"
   },
   {
    "duration": 47,
    "start_time": "2022-03-10T16:09:36.954Z"
   },
   {
    "duration": 18,
    "start_time": "2022-03-10T16:10:10.130Z"
   },
   {
    "duration": 9,
    "start_time": "2022-03-10T16:13:21.897Z"
   },
   {
    "duration": 786,
    "start_time": "2022-03-10T16:13:46.401Z"
   },
   {
    "duration": 15,
    "start_time": "2022-03-10T16:13:47.190Z"
   },
   {
    "duration": 10,
    "start_time": "2022-03-10T16:13:47.208Z"
   },
   {
    "duration": 20,
    "start_time": "2022-03-10T16:13:47.221Z"
   },
   {
    "duration": 7,
    "start_time": "2022-03-10T16:13:47.283Z"
   },
   {
    "duration": 20,
    "start_time": "2022-03-10T16:13:47.293Z"
   },
   {
    "duration": 31,
    "start_time": "2022-03-10T16:13:47.315Z"
   },
   {
    "duration": 5,
    "start_time": "2022-03-10T16:13:47.350Z"
   },
   {
    "duration": 34,
    "start_time": "2022-03-10T16:13:47.358Z"
   },
   {
    "duration": 13,
    "start_time": "2022-03-10T16:13:47.395Z"
   },
   {
    "duration": 5,
    "start_time": "2022-03-10T16:13:47.411Z"
   },
   {
    "duration": 12,
    "start_time": "2022-03-10T16:13:47.419Z"
   },
   {
    "duration": 50,
    "start_time": "2022-03-10T16:13:47.434Z"
   },
   {
    "duration": 9,
    "start_time": "2022-03-10T16:13:47.487Z"
   },
   {
    "duration": 19,
    "start_time": "2022-03-10T16:13:47.499Z"
   },
   {
    "duration": 15,
    "start_time": "2022-03-10T16:13:47.521Z"
   },
   {
    "duration": 49,
    "start_time": "2022-03-10T16:13:47.539Z"
   },
   {
    "duration": 27,
    "start_time": "2022-03-10T16:13:47.590Z"
   },
   {
    "duration": 2542,
    "start_time": "2022-03-14T12:35:11.567Z"
   },
   {
    "duration": 468,
    "start_time": "2022-03-14T12:36:04.003Z"
   },
   {
    "duration": 540,
    "start_time": "2022-03-14T12:36:17.027Z"
   },
   {
    "duration": 802,
    "start_time": "2022-03-14T12:36:24.492Z"
   },
   {
    "duration": 9,
    "start_time": "2022-03-14T12:36:25.296Z"
   },
   {
    "duration": 6,
    "start_time": "2022-03-14T12:36:25.307Z"
   },
   {
    "duration": 11,
    "start_time": "2022-03-14T12:36:25.315Z"
   },
   {
    "duration": 6,
    "start_time": "2022-03-14T12:36:25.328Z"
   },
   {
    "duration": 8,
    "start_time": "2022-03-14T12:36:25.335Z"
   },
   {
    "duration": 41,
    "start_time": "2022-03-14T12:36:25.345Z"
   },
   {
    "duration": 5,
    "start_time": "2022-03-14T12:36:25.388Z"
   },
   {
    "duration": 8,
    "start_time": "2022-03-14T12:36:25.395Z"
   },
   {
    "duration": 7,
    "start_time": "2022-03-14T12:36:25.405Z"
   },
   {
    "duration": 5,
    "start_time": "2022-03-14T12:36:25.413Z"
   },
   {
    "duration": 14,
    "start_time": "2022-03-14T12:36:25.420Z"
   },
   {
    "duration": 18,
    "start_time": "2022-03-14T12:36:25.435Z"
   },
   {
    "duration": 27,
    "start_time": "2022-03-14T12:36:25.454Z"
   },
   {
    "duration": 14,
    "start_time": "2022-03-14T12:36:25.483Z"
   },
   {
    "duration": 11,
    "start_time": "2022-03-14T12:36:25.498Z"
   },
   {
    "duration": 19,
    "start_time": "2022-03-14T12:36:25.511Z"
   },
   {
    "duration": 16,
    "start_time": "2022-03-14T12:36:25.531Z"
   },
   {
    "duration": 6,
    "start_time": "2022-03-14T12:36:25.548Z"
   },
   {
    "duration": 6,
    "start_time": "2022-03-14T12:37:33.285Z"
   },
   {
    "duration": 8,
    "start_time": "2022-03-14T12:39:55.280Z"
   },
   {
    "duration": 7,
    "start_time": "2022-03-14T12:40:38.342Z"
   },
   {
    "duration": 6,
    "start_time": "2022-03-14T12:40:48.466Z"
   },
   {
    "duration": 8,
    "start_time": "2022-03-14T12:53:46.644Z"
   },
   {
    "duration": 12,
    "start_time": "2022-03-14T12:53:54.774Z"
   },
   {
    "duration": 13,
    "start_time": "2022-03-14T12:54:23.719Z"
   },
   {
    "duration": 380,
    "start_time": "2022-03-14T12:54:37.351Z"
   },
   {
    "duration": 302,
    "start_time": "2022-03-14T12:54:43.757Z"
   },
   {
    "duration": 292,
    "start_time": "2022-03-14T12:54:47.031Z"
   },
   {
    "duration": 315,
    "start_time": "2022-03-14T12:54:54.819Z"
   },
   {
    "duration": 679,
    "start_time": "2022-03-14T12:55:02.861Z"
   },
   {
    "duration": 10,
    "start_time": "2022-03-14T12:55:03.542Z"
   },
   {
    "duration": 16,
    "start_time": "2022-03-14T12:55:03.554Z"
   },
   {
    "duration": 35,
    "start_time": "2022-03-14T12:55:03.571Z"
   },
   {
    "duration": 12,
    "start_time": "2022-03-14T12:55:03.608Z"
   },
   {
    "duration": 8,
    "start_time": "2022-03-14T12:55:03.622Z"
   },
   {
    "duration": 17,
    "start_time": "2022-03-14T12:55:03.632Z"
   },
   {
    "duration": 6,
    "start_time": "2022-03-14T12:55:03.651Z"
   },
   {
    "duration": 18,
    "start_time": "2022-03-14T12:55:03.658Z"
   },
   {
    "duration": 20,
    "start_time": "2022-03-14T12:55:03.677Z"
   },
   {
    "duration": 9,
    "start_time": "2022-03-14T12:55:03.698Z"
   },
   {
    "duration": 26,
    "start_time": "2022-03-14T12:55:03.708Z"
   },
   {
    "duration": 17,
    "start_time": "2022-03-14T12:55:03.736Z"
   },
   {
    "duration": 16,
    "start_time": "2022-03-14T12:55:03.754Z"
   },
   {
    "duration": 20,
    "start_time": "2022-03-14T12:55:03.772Z"
   },
   {
    "duration": 15,
    "start_time": "2022-03-14T12:55:03.793Z"
   },
   {
    "duration": 30,
    "start_time": "2022-03-14T12:55:03.809Z"
   },
   {
    "duration": 15,
    "start_time": "2022-03-14T12:55:03.840Z"
   },
   {
    "duration": 7,
    "start_time": "2022-03-14T12:55:03.856Z"
   },
   {
    "duration": 36,
    "start_time": "2022-03-14T12:55:03.864Z"
   },
   {
    "duration": 5,
    "start_time": "2022-03-14T12:55:03.901Z"
   },
   {
    "duration": 10,
    "start_time": "2022-03-14T12:55:03.907Z"
   },
   {
    "duration": 11,
    "start_time": "2022-03-14T12:55:03.919Z"
   },
   {
    "duration": 344,
    "start_time": "2022-03-14T13:08:19.626Z"
   },
   {
    "duration": 3,
    "start_time": "2022-03-14T13:08:29.974Z"
   },
   {
    "duration": 3,
    "start_time": "2022-03-14T13:08:31.249Z"
   },
   {
    "duration": 16,
    "start_time": "2022-03-14T13:16:37.434Z"
   },
   {
    "duration": 3,
    "start_time": "2022-03-14T13:20:58.821Z"
   },
   {
    "duration": 15,
    "start_time": "2022-03-14T13:21:00.641Z"
   },
   {
    "duration": 107,
    "start_time": "2022-03-14T13:23:41.909Z"
   },
   {
    "duration": 6,
    "start_time": "2022-03-14T13:23:48.064Z"
   },
   {
    "duration": 99,
    "start_time": "2022-03-14T13:25:03.796Z"
   },
   {
    "duration": 6,
    "start_time": "2022-03-14T13:35:20.416Z"
   },
   {
    "duration": 7,
    "start_time": "2022-03-14T13:35:31.413Z"
   },
   {
    "duration": 7,
    "start_time": "2022-03-14T13:36:30.376Z"
   },
   {
    "duration": 3,
    "start_time": "2022-03-14T13:45:15.929Z"
   },
   {
    "duration": 1519,
    "start_time": "2022-03-14T13:48:00.948Z"
   },
   {
    "duration": 3,
    "start_time": "2022-03-14T13:48:09.305Z"
   },
   {
    "duration": 1478,
    "start_time": "2022-03-14T13:48:10.768Z"
   },
   {
    "duration": 3,
    "start_time": "2022-03-14T13:49:02.009Z"
   },
   {
    "duration": 17,
    "start_time": "2022-03-14T13:49:03.540Z"
   },
   {
    "duration": 445,
    "start_time": "2022-03-14T14:04:15.076Z"
   },
   {
    "duration": 6,
    "start_time": "2022-03-14T14:04:50.197Z"
   },
   {
    "duration": 4,
    "start_time": "2022-03-14T14:04:53.306Z"
   },
   {
    "duration": 4,
    "start_time": "2022-03-14T14:05:17.326Z"
   },
   {
    "duration": 4,
    "start_time": "2022-03-14T14:05:22.304Z"
   },
   {
    "duration": 593,
    "start_time": "2022-03-14T14:05:33.619Z"
   },
   {
    "duration": 10,
    "start_time": "2022-03-14T14:05:34.214Z"
   },
   {
    "duration": 6,
    "start_time": "2022-03-14T14:05:34.226Z"
   },
   {
    "duration": 11,
    "start_time": "2022-03-14T14:05:34.233Z"
   },
   {
    "duration": 5,
    "start_time": "2022-03-14T14:05:34.245Z"
   },
   {
    "duration": 30,
    "start_time": "2022-03-14T14:05:34.251Z"
   },
   {
    "duration": 10,
    "start_time": "2022-03-14T14:05:34.283Z"
   },
   {
    "duration": 3,
    "start_time": "2022-03-14T14:05:34.295Z"
   },
   {
    "duration": 8,
    "start_time": "2022-03-14T14:05:34.300Z"
   },
   {
    "duration": 5,
    "start_time": "2022-03-14T14:05:34.310Z"
   },
   {
    "duration": 4,
    "start_time": "2022-03-14T14:05:34.317Z"
   },
   {
    "duration": 7,
    "start_time": "2022-03-14T14:05:34.323Z"
   },
   {
    "duration": 12,
    "start_time": "2022-03-14T14:05:34.332Z"
   },
   {
    "duration": 37,
    "start_time": "2022-03-14T14:05:34.345Z"
   },
   {
    "duration": 12,
    "start_time": "2022-03-14T14:05:34.383Z"
   },
   {
    "duration": 10,
    "start_time": "2022-03-14T14:05:34.396Z"
   },
   {
    "duration": 17,
    "start_time": "2022-03-14T14:05:34.408Z"
   },
   {
    "duration": 16,
    "start_time": "2022-03-14T14:05:34.426Z"
   },
   {
    "duration": 6,
    "start_time": "2022-03-14T14:05:34.443Z"
   },
   {
    "duration": 37,
    "start_time": "2022-03-14T14:05:34.451Z"
   },
   {
    "duration": 6,
    "start_time": "2022-03-14T14:05:34.489Z"
   },
   {
    "duration": 9,
    "start_time": "2022-03-14T14:05:34.497Z"
   },
   {
    "duration": 11,
    "start_time": "2022-03-14T14:05:34.508Z"
   },
   {
    "duration": 6,
    "start_time": "2022-03-14T14:05:34.521Z"
   },
   {
    "duration": 16,
    "start_time": "2022-03-14T14:05:34.528Z"
   },
   {
    "duration": 38,
    "start_time": "2022-03-14T14:05:34.546Z"
   },
   {
    "duration": 7,
    "start_time": "2022-03-14T14:05:34.586Z"
   },
   {
    "duration": 5,
    "start_time": "2022-03-14T14:05:34.594Z"
   },
   {
    "duration": 17,
    "start_time": "2022-03-14T14:05:34.600Z"
   },
   {
    "duration": 5,
    "start_time": "2022-03-14T14:05:34.619Z"
   },
   {
    "duration": 4,
    "start_time": "2022-03-14T14:06:06.842Z"
   },
   {
    "duration": 7,
    "start_time": "2022-03-14T14:06:36.030Z"
   },
   {
    "duration": 377,
    "start_time": "2022-03-14T14:07:16.260Z"
   },
   {
    "duration": 528,
    "start_time": "2022-03-14T14:07:27.134Z"
   },
   {
    "duration": 14,
    "start_time": "2022-03-14T14:10:50.362Z"
   },
   {
    "duration": 5,
    "start_time": "2022-03-14T14:18:08.419Z"
   },
   {
    "duration": 7,
    "start_time": "2022-03-14T14:18:24.274Z"
   },
   {
    "duration": 4,
    "start_time": "2022-03-14T14:18:42.721Z"
   },
   {
    "duration": 6,
    "start_time": "2022-03-14T14:18:52.410Z"
   },
   {
    "duration": 4,
    "start_time": "2022-03-14T14:18:56.648Z"
   },
   {
    "duration": 6,
    "start_time": "2022-03-14T14:18:58.738Z"
   },
   {
    "duration": 623,
    "start_time": "2022-03-14T14:19:06.931Z"
   },
   {
    "duration": 10,
    "start_time": "2022-03-14T14:19:07.556Z"
   },
   {
    "duration": 6,
    "start_time": "2022-03-14T14:19:07.568Z"
   },
   {
    "duration": 11,
    "start_time": "2022-03-14T14:19:07.576Z"
   },
   {
    "duration": 4,
    "start_time": "2022-03-14T14:19:07.589Z"
   },
   {
    "duration": 7,
    "start_time": "2022-03-14T14:19:07.595Z"
   },
   {
    "duration": 13,
    "start_time": "2022-03-14T14:19:07.604Z"
   },
   {
    "duration": 4,
    "start_time": "2022-03-14T14:19:07.620Z"
   },
   {
    "duration": 8,
    "start_time": "2022-03-14T14:19:07.626Z"
   },
   {
    "duration": 44,
    "start_time": "2022-03-14T14:19:07.636Z"
   },
   {
    "duration": 4,
    "start_time": "2022-03-14T14:19:07.682Z"
   },
   {
    "duration": 7,
    "start_time": "2022-03-14T14:19:07.687Z"
   },
   {
    "duration": 8,
    "start_time": "2022-03-14T14:19:07.696Z"
   },
   {
    "duration": 14,
    "start_time": "2022-03-14T14:19:07.705Z"
   },
   {
    "duration": 6,
    "start_time": "2022-03-14T14:19:07.720Z"
   },
   {
    "duration": 14,
    "start_time": "2022-03-14T14:19:07.727Z"
   },
   {
    "duration": 10,
    "start_time": "2022-03-14T14:19:07.742Z"
   },
   {
    "duration": 39,
    "start_time": "2022-03-14T14:19:07.753Z"
   },
   {
    "duration": 16,
    "start_time": "2022-03-14T14:19:07.794Z"
   },
   {
    "duration": 5,
    "start_time": "2022-03-14T14:19:07.812Z"
   },
   {
    "duration": 12,
    "start_time": "2022-03-14T14:19:07.818Z"
   },
   {
    "duration": 5,
    "start_time": "2022-03-14T14:19:07.832Z"
   },
   {
    "duration": 7,
    "start_time": "2022-03-14T14:19:07.840Z"
   },
   {
    "duration": 41,
    "start_time": "2022-03-14T14:19:07.849Z"
   },
   {
    "duration": 3,
    "start_time": "2022-03-14T14:19:07.891Z"
   },
   {
    "duration": 24,
    "start_time": "2022-03-14T14:19:07.896Z"
   },
   {
    "duration": 6,
    "start_time": "2022-03-14T14:19:07.921Z"
   },
   {
    "duration": 9,
    "start_time": "2022-03-14T14:19:07.929Z"
   },
   {
    "duration": 4,
    "start_time": "2022-03-14T14:19:07.939Z"
   },
   {
    "duration": 39,
    "start_time": "2022-03-14T14:19:07.945Z"
   },
   {
    "duration": 16,
    "start_time": "2022-03-14T14:19:07.986Z"
   },
   {
    "duration": 7,
    "start_time": "2022-03-14T14:19:29.384Z"
   },
   {
    "duration": 8,
    "start_time": "2022-03-14T14:22:21.304Z"
   },
   {
    "duration": 7,
    "start_time": "2022-03-14T14:22:38.382Z"
   },
   {
    "duration": 642,
    "start_time": "2022-03-14T14:23:15.071Z"
   },
   {
    "duration": 10,
    "start_time": "2022-03-14T14:23:15.715Z"
   },
   {
    "duration": 7,
    "start_time": "2022-03-14T14:23:15.727Z"
   },
   {
    "duration": 13,
    "start_time": "2022-03-14T14:23:15.735Z"
   },
   {
    "duration": 9,
    "start_time": "2022-03-14T14:23:15.750Z"
   },
   {
    "duration": 30,
    "start_time": "2022-03-14T14:23:15.761Z"
   },
   {
    "duration": 12,
    "start_time": "2022-03-14T14:23:15.793Z"
   },
   {
    "duration": 4,
    "start_time": "2022-03-14T14:23:15.807Z"
   },
   {
    "duration": 9,
    "start_time": "2022-03-14T14:23:15.813Z"
   },
   {
    "duration": 7,
    "start_time": "2022-03-14T14:23:15.823Z"
   },
   {
    "duration": 4,
    "start_time": "2022-03-14T14:23:15.832Z"
   },
   {
    "duration": 11,
    "start_time": "2022-03-14T14:23:15.837Z"
   },
   {
    "duration": 7,
    "start_time": "2022-03-14T14:23:15.849Z"
   },
   {
    "duration": 33,
    "start_time": "2022-03-14T14:23:15.857Z"
   },
   {
    "duration": 7,
    "start_time": "2022-03-14T14:23:15.891Z"
   },
   {
    "duration": 16,
    "start_time": "2022-03-14T14:23:15.899Z"
   },
   {
    "duration": 10,
    "start_time": "2022-03-14T14:23:15.916Z"
   },
   {
    "duration": 17,
    "start_time": "2022-03-14T14:23:15.928Z"
   },
   {
    "duration": 35,
    "start_time": "2022-03-14T14:23:15.946Z"
   },
   {
    "duration": 7,
    "start_time": "2022-03-14T14:23:15.982Z"
   },
   {
    "duration": 19,
    "start_time": "2022-03-14T14:23:15.990Z"
   },
   {
    "duration": 6,
    "start_time": "2022-03-14T14:23:16.011Z"
   },
   {
    "duration": 15,
    "start_time": "2022-03-14T14:23:16.019Z"
   },
   {
    "duration": 14,
    "start_time": "2022-03-14T14:23:16.035Z"
   },
   {
    "duration": 8,
    "start_time": "2022-03-14T14:23:16.051Z"
   },
   {
    "duration": 33,
    "start_time": "2022-03-14T14:23:16.061Z"
   },
   {
    "duration": 7,
    "start_time": "2022-03-14T14:23:16.096Z"
   },
   {
    "duration": 13,
    "start_time": "2022-03-14T14:23:16.105Z"
   },
   {
    "duration": 5,
    "start_time": "2022-03-14T14:23:16.119Z"
   },
   {
    "duration": 19,
    "start_time": "2022-03-14T14:23:16.125Z"
   },
   {
    "duration": 14,
    "start_time": "2022-03-14T14:23:16.146Z"
   },
   {
    "duration": 8,
    "start_time": "2022-03-14T14:23:49.190Z"
   },
   {
    "duration": 10,
    "start_time": "2022-03-14T14:25:55.748Z"
   },
   {
    "duration": 11,
    "start_time": "2022-03-14T14:26:04.470Z"
   },
   {
    "duration": 692,
    "start_time": "2022-03-14T14:26:13.060Z"
   },
   {
    "duration": 10,
    "start_time": "2022-03-14T14:26:13.754Z"
   },
   {
    "duration": 29,
    "start_time": "2022-03-14T14:26:13.765Z"
   },
   {
    "duration": 34,
    "start_time": "2022-03-14T14:26:13.795Z"
   },
   {
    "duration": 15,
    "start_time": "2022-03-14T14:26:13.830Z"
   },
   {
    "duration": 30,
    "start_time": "2022-03-14T14:26:13.846Z"
   },
   {
    "duration": 18,
    "start_time": "2022-03-14T14:26:13.877Z"
   },
   {
    "duration": 6,
    "start_time": "2022-03-14T14:26:13.896Z"
   },
   {
    "duration": 7,
    "start_time": "2022-03-14T14:26:13.905Z"
   },
   {
    "duration": 22,
    "start_time": "2022-03-14T14:26:13.914Z"
   },
   {
    "duration": 12,
    "start_time": "2022-03-14T14:26:13.937Z"
   },
   {
    "duration": 18,
    "start_time": "2022-03-14T14:26:13.950Z"
   },
   {
    "duration": 18,
    "start_time": "2022-03-14T14:26:13.969Z"
   },
   {
    "duration": 29,
    "start_time": "2022-03-14T14:26:13.988Z"
   },
   {
    "duration": 20,
    "start_time": "2022-03-14T14:26:14.019Z"
   },
   {
    "duration": 29,
    "start_time": "2022-03-14T14:26:14.041Z"
   },
   {
    "duration": 10,
    "start_time": "2022-03-14T14:26:14.072Z"
   },
   {
    "duration": 66,
    "start_time": "2022-03-14T14:26:14.083Z"
   },
   {
    "duration": 16,
    "start_time": "2022-03-14T14:26:14.150Z"
   },
   {
    "duration": 91,
    "start_time": "2022-03-14T14:26:14.168Z"
   },
   {
    "duration": 130,
    "start_time": "2022-03-14T14:26:14.260Z"
   },
   {
    "duration": 93,
    "start_time": "2022-03-14T14:26:14.392Z"
   },
   {
    "duration": 117,
    "start_time": "2022-03-14T14:26:14.487Z"
   },
   {
    "duration": 28,
    "start_time": "2022-03-14T14:26:14.606Z"
   },
   {
    "duration": 136,
    "start_time": "2022-03-14T14:26:14.636Z"
   },
   {
    "duration": 72,
    "start_time": "2022-03-14T14:26:14.773Z"
   },
   {
    "duration": 25,
    "start_time": "2022-03-14T14:26:14.847Z"
   },
   {
    "duration": 48,
    "start_time": "2022-03-14T14:26:14.873Z"
   },
   {
    "duration": 21,
    "start_time": "2022-03-14T14:26:14.922Z"
   },
   {
    "duration": 21,
    "start_time": "2022-03-14T14:26:14.945Z"
   },
   {
    "duration": 12,
    "start_time": "2022-03-14T14:26:14.968Z"
   },
   {
    "duration": 10,
    "start_time": "2022-03-14T14:26:44.789Z"
   },
   {
    "duration": 10,
    "start_time": "2022-03-14T14:27:08.393Z"
   },
   {
    "duration": 21,
    "start_time": "2022-03-14T14:29:05.965Z"
   },
   {
    "duration": 17,
    "start_time": "2022-03-14T14:29:17.052Z"
   },
   {
    "duration": 14,
    "start_time": "2022-03-14T14:29:53.340Z"
   },
   {
    "duration": 643,
    "start_time": "2022-03-14T14:30:08.078Z"
   },
   {
    "duration": 94,
    "start_time": "2022-03-14T14:30:08.723Z"
   },
   {
    "duration": 211,
    "start_time": "2022-03-14T14:30:08.819Z"
   },
   {
    "duration": 116,
    "start_time": "2022-03-14T14:30:09.032Z"
   },
   {
    "duration": 222,
    "start_time": "2022-03-14T14:30:09.150Z"
   },
   {
    "duration": 819,
    "start_time": "2022-03-14T14:30:09.373Z"
   },
   {
    "duration": 561,
    "start_time": "2022-03-14T14:30:10.194Z"
   },
   {
    "duration": 472,
    "start_time": "2022-03-14T14:30:10.757Z"
   },
   {
    "duration": 186,
    "start_time": "2022-03-14T14:30:11.231Z"
   },
   {
    "duration": 194,
    "start_time": "2022-03-14T14:30:11.418Z"
   },
   {
    "duration": 323,
    "start_time": "2022-03-14T14:30:11.613Z"
   },
   {
    "duration": 494,
    "start_time": "2022-03-14T14:30:11.938Z"
   },
   {
    "duration": 239,
    "start_time": "2022-03-14T14:30:12.434Z"
   },
   {
    "duration": 200,
    "start_time": "2022-03-14T14:30:12.675Z"
   },
   {
    "duration": 168,
    "start_time": "2022-03-14T14:30:12.877Z"
   },
   {
    "duration": 83,
    "start_time": "2022-03-14T14:30:13.047Z"
   },
   {
    "duration": 60,
    "start_time": "2022-03-14T14:30:13.132Z"
   },
   {
    "duration": 98,
    "start_time": "2022-03-14T14:30:13.193Z"
   },
   {
    "duration": 135,
    "start_time": "2022-03-14T14:30:13.292Z"
   },
   {
    "duration": 75,
    "start_time": "2022-03-14T14:30:13.428Z"
   },
   {
    "duration": 286,
    "start_time": "2022-03-14T14:30:13.504Z"
   },
   {
    "duration": 295,
    "start_time": "2022-03-14T14:30:13.791Z"
   },
   {
    "duration": 551,
    "start_time": "2022-03-14T14:30:14.089Z"
   },
   {
    "duration": 738,
    "start_time": "2022-03-14T14:30:14.642Z"
   },
   {
    "duration": 673,
    "start_time": "2022-03-14T14:30:15.382Z"
   },
   {
    "duration": 399,
    "start_time": "2022-03-14T14:30:16.057Z"
   },
   {
    "duration": 394,
    "start_time": "2022-03-14T14:30:16.458Z"
   },
   {
    "duration": 363,
    "start_time": "2022-03-14T14:30:16.853Z"
   },
   {
    "duration": 1096,
    "start_time": "2022-03-14T14:30:17.217Z"
   },
   {
    "duration": 845,
    "start_time": "2022-03-14T14:30:18.315Z"
   },
   {
    "duration": 988,
    "start_time": "2022-03-14T14:30:19.161Z"
   },
   {
    "duration": 22,
    "start_time": "2022-03-14T14:32:37.912Z"
   },
   {
    "duration": 12,
    "start_time": "2022-03-14T14:32:47.947Z"
   },
   {
    "duration": 657,
    "start_time": "2022-03-14T14:33:02.479Z"
   },
   {
    "duration": 9,
    "start_time": "2022-03-14T14:33:03.138Z"
   },
   {
    "duration": 733,
    "start_time": "2022-03-14T14:33:03.149Z"
   },
   {
    "duration": 510,
    "start_time": "2022-03-14T14:33:03.883Z"
   },
   {
    "duration": 824,
    "start_time": "2022-03-14T14:33:04.395Z"
   },
   {
    "duration": 639,
    "start_time": "2022-03-14T14:33:05.220Z"
   },
   {
    "duration": 382,
    "start_time": "2022-03-14T14:33:05.861Z"
   },
   {
    "duration": 581,
    "start_time": "2022-03-14T14:33:06.245Z"
   },
   {
    "duration": 477,
    "start_time": "2022-03-14T14:33:06.828Z"
   },
   {
    "duration": 163,
    "start_time": "2022-03-14T14:33:07.306Z"
   },
   {
    "duration": 573,
    "start_time": "2022-03-14T14:33:07.470Z"
   },
   {
    "duration": 271,
    "start_time": "2022-03-14T14:33:08.045Z"
   },
   {
    "duration": 126,
    "start_time": "2022-03-14T14:33:08.318Z"
   },
   {
    "duration": 109,
    "start_time": "2022-03-14T14:33:08.445Z"
   },
   {
    "duration": 286,
    "start_time": "2022-03-14T14:33:08.556Z"
   },
   {
    "duration": 210,
    "start_time": "2022-03-14T14:33:08.844Z"
   },
   {
    "duration": 340,
    "start_time": "2022-03-14T14:33:09.056Z"
   },
   {
    "duration": 178,
    "start_time": "2022-03-14T14:33:09.398Z"
   },
   {
    "duration": 276,
    "start_time": "2022-03-14T14:33:09.577Z"
   },
   {
    "duration": 92,
    "start_time": "2022-03-14T14:33:09.855Z"
   },
   {
    "duration": 362,
    "start_time": "2022-03-14T14:33:09.949Z"
   },
   {
    "duration": 179,
    "start_time": "2022-03-14T14:33:10.313Z"
   },
   {
    "duration": 244,
    "start_time": "2022-03-14T14:33:10.495Z"
   },
   {
    "duration": 341,
    "start_time": "2022-03-14T14:33:10.741Z"
   },
   {
    "duration": 145,
    "start_time": "2022-03-14T14:33:11.083Z"
   },
   {
    "duration": 41,
    "start_time": "2022-03-14T14:33:11.230Z"
   },
   {
    "duration": 308,
    "start_time": "2022-03-14T14:33:11.273Z"
   },
   {
    "duration": 242,
    "start_time": "2022-03-14T14:33:11.583Z"
   },
   {
    "duration": 354,
    "start_time": "2022-03-14T14:33:11.826Z"
   },
   {
    "duration": 505,
    "start_time": "2022-03-14T14:33:12.182Z"
   },
   {
    "duration": 360,
    "start_time": "2022-03-14T14:33:12.688Z"
   },
   {
    "duration": 23,
    "start_time": "2022-03-14T14:34:13.523Z"
   },
   {
    "duration": 15,
    "start_time": "2022-03-14T14:34:43.377Z"
   },
   {
    "duration": 81,
    "start_time": "2022-03-14T14:35:47.705Z"
   },
   {
    "duration": 1038,
    "start_time": "2022-03-14T14:35:47.788Z"
   },
   {
    "duration": 506,
    "start_time": "2022-03-14T14:35:48.829Z"
   },
   {
    "duration": 1354,
    "start_time": "2022-03-14T14:35:49.337Z"
   },
   {
    "duration": 1137,
    "start_time": "2022-03-14T14:35:50.692Z"
   },
   {
    "duration": 1553,
    "start_time": "2022-03-14T14:35:51.830Z"
   },
   {
    "duration": 1259,
    "start_time": "2022-03-14T14:35:53.385Z"
   },
   {
    "duration": 751,
    "start_time": "2022-03-14T14:35:54.646Z"
   },
   {
    "duration": 737,
    "start_time": "2022-03-14T14:35:55.400Z"
   },
   {
    "duration": 1016,
    "start_time": "2022-03-14T14:35:56.140Z"
   },
   {
    "duration": 172,
    "start_time": "2022-03-14T14:35:57.158Z"
   },
   {
    "duration": 371,
    "start_time": "2022-03-14T14:35:57.331Z"
   },
   {
    "duration": 243,
    "start_time": "2022-03-14T14:35:57.703Z"
   },
   {
    "duration": 337,
    "start_time": "2022-03-14T14:35:57.947Z"
   },
   {
    "duration": 334,
    "start_time": "2022-03-14T14:35:58.285Z"
   },
   {
    "duration": 341,
    "start_time": "2022-03-14T14:35:58.620Z"
   },
   {
    "duration": 318,
    "start_time": "2022-03-14T14:35:58.963Z"
   },
   {
    "duration": 806,
    "start_time": "2022-03-14T14:35:59.283Z"
   },
   {
    "duration": 1361,
    "start_time": "2022-03-14T14:36:00.090Z"
   },
   {
    "duration": 1436,
    "start_time": "2022-03-14T14:36:01.452Z"
   },
   {
    "duration": 1105,
    "start_time": "2022-03-14T14:36:02.889Z"
   },
   {
    "duration": 863,
    "start_time": "2022-03-14T14:36:03.995Z"
   },
   {
    "duration": 643,
    "start_time": "2022-03-14T14:36:04.860Z"
   },
   {
    "duration": 839,
    "start_time": "2022-03-14T14:36:05.505Z"
   },
   {
    "duration": 760,
    "start_time": "2022-03-14T14:36:06.346Z"
   },
   {
    "duration": 706,
    "start_time": "2022-03-14T14:36:07.108Z"
   },
   {
    "duration": 408,
    "start_time": "2022-03-14T14:36:07.817Z"
   },
   {
    "duration": 483,
    "start_time": "2022-03-14T14:36:08.227Z"
   },
   {
    "duration": 725,
    "start_time": "2022-03-14T14:36:08.711Z"
   },
   {
    "duration": 879,
    "start_time": "2022-03-14T14:36:09.438Z"
   },
   {
    "duration": 1097,
    "start_time": "2022-03-14T14:36:10.318Z"
   },
   {
    "duration": 32,
    "start_time": "2022-03-14T14:36:32.512Z"
   },
   {
    "duration": 447,
    "start_time": "2022-03-14T14:39:28.302Z"
   },
   {
    "duration": 294,
    "start_time": "2022-03-14T14:39:40.156Z"
   },
   {
    "duration": 91,
    "start_time": "2022-03-14T14:42:02.461Z"
   },
   {
    "duration": 98,
    "start_time": "2022-03-14T14:42:41.290Z"
   },
   {
    "duration": 12,
    "start_time": "2022-03-14T14:42:47.399Z"
   },
   {
    "duration": 8,
    "start_time": "2022-03-14T14:43:00.333Z"
   },
   {
    "duration": 635,
    "start_time": "2022-03-14T14:43:07.999Z"
   },
   {
    "duration": 504,
    "start_time": "2022-03-14T14:43:08.636Z"
   },
   {
    "duration": 322,
    "start_time": "2022-03-14T14:43:09.142Z"
   },
   {
    "duration": 485,
    "start_time": "2022-03-14T14:43:09.467Z"
   },
   {
    "duration": 1160,
    "start_time": "2022-03-14T14:43:09.954Z"
   },
   {
    "duration": 942,
    "start_time": "2022-03-14T14:43:11.115Z"
   },
   {
    "duration": 658,
    "start_time": "2022-03-14T14:43:12.059Z"
   },
   {
    "duration": 1092,
    "start_time": "2022-03-14T14:43:12.720Z"
   },
   {
    "duration": 749,
    "start_time": "2022-03-14T14:43:13.814Z"
   },
   {
    "duration": 700,
    "start_time": "2022-03-14T14:43:14.565Z"
   },
   {
    "duration": 626,
    "start_time": "2022-03-14T14:43:15.267Z"
   },
   {
    "duration": 534,
    "start_time": "2022-03-14T14:43:15.895Z"
   },
   {
    "duration": 781,
    "start_time": "2022-03-14T14:43:16.431Z"
   },
   {
    "duration": 822,
    "start_time": "2022-03-14T14:43:17.214Z"
   },
   {
    "duration": 707,
    "start_time": "2022-03-14T14:43:18.038Z"
   },
   {
    "duration": 847,
    "start_time": "2022-03-14T14:43:18.746Z"
   },
   {
    "duration": 738,
    "start_time": "2022-03-14T14:43:19.596Z"
   },
   {
    "duration": 478,
    "start_time": "2022-03-14T14:43:20.335Z"
   },
   {
    "duration": 720,
    "start_time": "2022-03-14T14:43:20.814Z"
   },
   {
    "duration": 602,
    "start_time": "2022-03-14T14:43:21.536Z"
   },
   {
    "duration": 899,
    "start_time": "2022-03-14T14:43:22.139Z"
   },
   {
    "duration": 1354,
    "start_time": "2022-03-14T14:43:23.039Z"
   },
   {
    "duration": 724,
    "start_time": "2022-03-14T14:43:24.396Z"
   },
   {
    "duration": 810,
    "start_time": "2022-03-14T14:43:25.122Z"
   },
   {
    "duration": 865,
    "start_time": "2022-03-14T14:43:25.933Z"
   },
   {
    "duration": 537,
    "start_time": "2022-03-14T14:43:26.800Z"
   },
   {
    "duration": 603,
    "start_time": "2022-03-14T14:43:27.339Z"
   },
   {
    "duration": 1005,
    "start_time": "2022-03-14T14:43:27.944Z"
   },
   {
    "duration": 731,
    "start_time": "2022-03-14T14:43:28.951Z"
   },
   {
    "duration": 1156,
    "start_time": "2022-03-14T14:43:29.684Z"
   },
   {
    "duration": 685,
    "start_time": "2022-03-14T14:43:30.841Z"
   },
   {
    "duration": 9,
    "start_time": "2022-03-14T14:43:46.133Z"
   },
   {
    "duration": 8,
    "start_time": "2022-03-14T14:44:06.913Z"
   },
   {
    "duration": 10,
    "start_time": "2022-03-14T14:44:15.930Z"
   },
   {
    "duration": 6,
    "start_time": "2022-03-14T14:44:33.757Z"
   },
   {
    "duration": 656,
    "start_time": "2022-03-14T14:44:43.522Z"
   },
   {
    "duration": 10,
    "start_time": "2022-03-14T14:44:44.179Z"
   },
   {
    "duration": 627,
    "start_time": "2022-03-14T14:44:44.191Z"
   },
   {
    "duration": 2385,
    "start_time": "2022-03-14T14:44:44.820Z"
   },
   {
    "duration": 1009,
    "start_time": "2022-03-14T14:44:47.207Z"
   },
   {
    "duration": 881,
    "start_time": "2022-03-14T14:44:48.218Z"
   },
   {
    "duration": 970,
    "start_time": "2022-03-14T14:44:49.101Z"
   },
   {
    "duration": 751,
    "start_time": "2022-03-14T14:44:50.072Z"
   },
   {
    "duration": 453,
    "start_time": "2022-03-14T14:44:50.826Z"
   },
   {
    "duration": 754,
    "start_time": "2022-03-14T14:44:51.282Z"
   },
   {
    "duration": 56,
    "start_time": "2022-03-14T14:44:52.038Z"
   },
   {
    "duration": 290,
    "start_time": "2022-03-14T14:44:52.096Z"
   },
   {
    "duration": 645,
    "start_time": "2022-03-14T14:44:52.388Z"
   },
   {
    "duration": 598,
    "start_time": "2022-03-14T14:44:53.035Z"
   },
   {
    "duration": 655,
    "start_time": "2022-03-14T14:44:53.634Z"
   },
   {
    "duration": 641,
    "start_time": "2022-03-14T14:44:54.291Z"
   },
   {
    "duration": 476,
    "start_time": "2022-03-14T14:44:54.935Z"
   },
   {
    "duration": 389,
    "start_time": "2022-03-14T14:44:55.413Z"
   },
   {
    "duration": 287,
    "start_time": "2022-03-14T14:44:55.803Z"
   },
   {
    "duration": 414,
    "start_time": "2022-03-14T14:44:56.093Z"
   },
   {
    "duration": 354,
    "start_time": "2022-03-14T14:44:56.509Z"
   },
   {
    "duration": 291,
    "start_time": "2022-03-14T14:44:56.865Z"
   },
   {
    "duration": 393,
    "start_time": "2022-03-14T14:44:57.158Z"
   },
   {
    "duration": 342,
    "start_time": "2022-03-14T14:44:57.552Z"
   },
   {
    "duration": 311,
    "start_time": "2022-03-14T14:44:57.895Z"
   },
   {
    "duration": 311,
    "start_time": "2022-03-14T14:44:58.208Z"
   },
   {
    "duration": 355,
    "start_time": "2022-03-14T14:44:58.522Z"
   },
   {
    "duration": 267,
    "start_time": "2022-03-14T14:44:58.879Z"
   },
   {
    "duration": 232,
    "start_time": "2022-03-14T14:44:59.148Z"
   },
   {
    "duration": 264,
    "start_time": "2022-03-14T14:44:59.382Z"
   },
   {
    "duration": 212,
    "start_time": "2022-03-14T14:44:59.649Z"
   },
   {
    "duration": 12,
    "start_time": "2022-03-14T14:47:05.904Z"
   },
   {
    "duration": 901,
    "start_time": "2022-03-14T14:47:14.661Z"
   },
   {
    "duration": 19,
    "start_time": "2022-03-14T14:47:15.564Z"
   },
   {
    "duration": 200,
    "start_time": "2022-03-14T14:47:15.585Z"
   },
   {
    "duration": 332,
    "start_time": "2022-03-14T14:47:15.787Z"
   },
   {
    "duration": 293,
    "start_time": "2022-03-14T14:47:16.121Z"
   },
   {
    "duration": 308,
    "start_time": "2022-03-14T14:47:16.415Z"
   },
   {
    "duration": 269,
    "start_time": "2022-03-14T14:47:16.724Z"
   },
   {
    "duration": 825,
    "start_time": "2022-03-14T14:47:16.997Z"
   },
   {
    "duration": 268,
    "start_time": "2022-03-14T14:47:17.824Z"
   },
   {
    "duration": 841,
    "start_time": "2022-03-14T14:47:18.093Z"
   },
   {
    "duration": 670,
    "start_time": "2022-03-14T14:47:18.935Z"
   },
   {
    "duration": 805,
    "start_time": "2022-03-14T14:47:19.607Z"
   },
   {
    "duration": 1158,
    "start_time": "2022-03-14T14:47:20.413Z"
   },
   {
    "duration": 619,
    "start_time": "2022-03-14T14:47:21.573Z"
   },
   {
    "duration": 458,
    "start_time": "2022-03-14T14:47:22.194Z"
   },
   {
    "duration": 503,
    "start_time": "2022-03-14T14:47:22.654Z"
   },
   {
    "duration": 317,
    "start_time": "2022-03-14T14:47:23.159Z"
   },
   {
    "duration": 251,
    "start_time": "2022-03-14T14:47:23.478Z"
   },
   {
    "duration": 654,
    "start_time": "2022-03-14T14:47:23.731Z"
   },
   {
    "duration": 773,
    "start_time": "2022-03-14T14:47:24.387Z"
   },
   {
    "duration": 553,
    "start_time": "2022-03-14T14:47:25.161Z"
   },
   {
    "duration": 663,
    "start_time": "2022-03-14T14:47:25.716Z"
   },
   {
    "duration": 233,
    "start_time": "2022-03-14T14:47:26.381Z"
   },
   {
    "duration": 337,
    "start_time": "2022-03-14T14:47:26.616Z"
   },
   {
    "duration": 307,
    "start_time": "2022-03-14T14:47:26.954Z"
   },
   {
    "duration": 245,
    "start_time": "2022-03-14T14:47:27.263Z"
   },
   {
    "duration": 215,
    "start_time": "2022-03-14T14:47:27.510Z"
   },
   {
    "duration": 246,
    "start_time": "2022-03-14T14:47:27.727Z"
   },
   {
    "duration": 356,
    "start_time": "2022-03-14T14:47:27.975Z"
   },
   {
    "duration": 507,
    "start_time": "2022-03-14T14:47:28.333Z"
   },
   {
    "duration": 252,
    "start_time": "2022-03-14T14:47:28.842Z"
   },
   {
    "duration": 15,
    "start_time": "2022-03-14T14:49:18.797Z"
   },
   {
    "duration": 15,
    "start_time": "2022-03-14T14:49:26.099Z"
   },
   {
    "duration": 8,
    "start_time": "2022-03-14T14:49:46.452Z"
   },
   {
    "duration": 6,
    "start_time": "2022-03-14T14:50:13.033Z"
   },
   {
    "duration": 9,
    "start_time": "2022-03-14T14:54:28.378Z"
   },
   {
    "duration": 9,
    "start_time": "2022-03-14T14:54:34.577Z"
   },
   {
    "duration": 8,
    "start_time": "2022-03-14T14:54:51.274Z"
   },
   {
    "duration": 361,
    "start_time": "2022-03-14T14:55:45.868Z"
   },
   {
    "duration": 333,
    "start_time": "2022-03-14T14:55:47.269Z"
   },
   {
    "duration": 21,
    "start_time": "2022-03-14T14:55:59.321Z"
   },
   {
    "duration": 6,
    "start_time": "2022-03-14T14:56:06.695Z"
   },
   {
    "duration": 668,
    "start_time": "2022-03-14T14:56:16.579Z"
   },
   {
    "duration": 84,
    "start_time": "2022-03-14T14:56:17.248Z"
   },
   {
    "duration": 996,
    "start_time": "2022-03-14T14:56:17.334Z"
   },
   {
    "duration": 696,
    "start_time": "2022-03-14T14:56:18.332Z"
   },
   {
    "duration": 304,
    "start_time": "2022-03-14T14:56:19.030Z"
   },
   {
    "duration": 381,
    "start_time": "2022-03-14T14:56:19.335Z"
   },
   {
    "duration": 338,
    "start_time": "2022-03-14T14:56:19.718Z"
   },
   {
    "duration": 301,
    "start_time": "2022-03-14T14:56:20.058Z"
   },
   {
    "duration": 354,
    "start_time": "2022-03-14T14:56:20.362Z"
   },
   {
    "duration": 383,
    "start_time": "2022-03-14T14:56:20.718Z"
   },
   {
    "duration": 462,
    "start_time": "2022-03-14T14:56:21.103Z"
   },
   {
    "duration": 420,
    "start_time": "2022-03-14T14:56:21.567Z"
   },
   {
    "duration": 351,
    "start_time": "2022-03-14T14:56:21.989Z"
   },
   {
    "duration": 274,
    "start_time": "2022-03-14T14:56:22.341Z"
   },
   {
    "duration": 401,
    "start_time": "2022-03-14T14:56:22.616Z"
   },
   {
    "duration": 369,
    "start_time": "2022-03-14T14:56:23.019Z"
   },
   {
    "duration": 585,
    "start_time": "2022-03-14T14:56:23.390Z"
   },
   {
    "duration": 292,
    "start_time": "2022-03-14T14:56:23.976Z"
   },
   {
    "duration": 80,
    "start_time": "2022-03-14T14:56:24.270Z"
   },
   {
    "duration": 200,
    "start_time": "2022-03-14T14:56:24.351Z"
   },
   {
    "duration": 583,
    "start_time": "2022-03-14T14:56:24.552Z"
   },
   {
    "duration": 401,
    "start_time": "2022-03-14T14:56:25.137Z"
   },
   {
    "duration": 288,
    "start_time": "2022-03-14T14:56:25.540Z"
   },
   {
    "duration": 257,
    "start_time": "2022-03-14T14:56:25.830Z"
   },
   {
    "duration": 336,
    "start_time": "2022-03-14T14:56:26.089Z"
   },
   {
    "duration": 303,
    "start_time": "2022-03-14T14:56:26.426Z"
   },
   {
    "duration": 125,
    "start_time": "2022-03-14T14:56:26.731Z"
   },
   {
    "duration": 23,
    "start_time": "2022-03-14T14:56:26.857Z"
   },
   {
    "duration": 12,
    "start_time": "2022-03-14T14:56:26.882Z"
   },
   {
    "duration": 50,
    "start_time": "2022-03-14T14:56:26.895Z"
   },
   {
    "duration": 348,
    "start_time": "2022-03-14T14:56:26.946Z"
   },
   {
    "duration": 15,
    "start_time": "2022-03-14T15:00:12.867Z"
   },
   {
    "duration": 12,
    "start_time": "2022-03-14T15:01:27.882Z"
   },
   {
    "duration": 11,
    "start_time": "2022-03-14T15:11:52.013Z"
   },
   {
    "duration": 15,
    "start_time": "2022-03-14T15:12:47.358Z"
   },
   {
    "duration": 15,
    "start_time": "2022-03-14T15:28:07.380Z"
   },
   {
    "duration": 12,
    "start_time": "2022-03-14T15:28:46.055Z"
   },
   {
    "duration": 3,
    "start_time": "2022-03-14T15:32:01.279Z"
   },
   {
    "duration": 15,
    "start_time": "2022-03-14T15:32:57.758Z"
   },
   {
    "duration": 12,
    "start_time": "2022-03-14T15:33:11.826Z"
   },
   {
    "duration": -345,
    "start_time": "2022-03-14T15:37:01.248Z"
   },
   {
    "duration": 7732,
    "start_time": "2022-03-14T15:37:04.378Z"
   },
   {
    "duration": -358,
    "start_time": "2022-03-14T15:37:12.471Z"
   },
   {
    "duration": 22,
    "start_time": "2022-03-14T15:37:25.230Z"
   },
   {
    "duration": 12,
    "start_time": "2022-03-14T15:37:28.524Z"
   },
   {
    "duration": 129,
    "start_time": "2022-03-14T15:40:34.497Z"
   },
   {
    "duration": 14,
    "start_time": "2022-03-14T15:41:44.597Z"
   },
   {
    "duration": 13,
    "start_time": "2022-03-14T15:42:03.084Z"
   },
   {
    "duration": 1320,
    "start_time": "2022-03-14T15:59:49.765Z"
   },
   {
    "duration": 294,
    "start_time": "2022-03-14T16:00:29.692Z"
   },
   {
    "duration": 19,
    "start_time": "2022-03-14T16:01:38.677Z"
   },
   {
    "duration": 328,
    "start_time": "2022-03-14T16:04:12.376Z"
   },
   {
    "duration": 24,
    "start_time": "2022-03-14T16:09:40.821Z"
   },
   {
    "duration": 28,
    "start_time": "2022-03-14T16:12:25.924Z"
   },
   {
    "duration": 239,
    "start_time": "2022-03-24T16:49:34.295Z"
   },
   {
    "duration": 50,
    "start_time": "2022-03-27T06:32:23.470Z"
   },
   {
    "duration": 517,
    "start_time": "2022-03-27T06:32:37.048Z"
   },
   {
    "duration": 17,
    "start_time": "2022-03-27T06:32:37.567Z"
   },
   {
    "duration": 8,
    "start_time": "2022-03-27T06:32:37.585Z"
   },
   {
    "duration": 16,
    "start_time": "2022-03-27T06:32:37.595Z"
   },
   {
    "duration": 8,
    "start_time": "2022-03-27T06:32:37.631Z"
   },
   {
    "duration": 10,
    "start_time": "2022-03-27T06:32:37.641Z"
   },
   {
    "duration": 17,
    "start_time": "2022-03-27T06:32:37.653Z"
   },
   {
    "duration": 6,
    "start_time": "2022-03-27T06:32:37.672Z"
   },
   {
    "duration": 9,
    "start_time": "2022-03-27T06:32:37.680Z"
   },
   {
    "duration": 41,
    "start_time": "2022-03-27T06:32:37.694Z"
   },
   {
    "duration": 6,
    "start_time": "2022-03-27T06:32:37.737Z"
   },
   {
    "duration": 8,
    "start_time": "2022-03-27T06:32:37.745Z"
   },
   {
    "duration": 24,
    "start_time": "2022-03-27T06:32:37.755Z"
   },
   {
    "duration": 31,
    "start_time": "2022-03-27T06:32:37.781Z"
   },
   {
    "duration": 76,
    "start_time": "2022-03-27T06:32:37.814Z"
   },
   {
    "duration": 0,
    "start_time": "2022-03-27T06:32:37.892Z"
   },
   {
    "duration": 0,
    "start_time": "2022-03-27T06:32:37.893Z"
   },
   {
    "duration": 0,
    "start_time": "2022-03-27T06:32:37.894Z"
   },
   {
    "duration": 0,
    "start_time": "2022-03-27T06:32:37.896Z"
   },
   {
    "duration": 0,
    "start_time": "2022-03-27T06:32:37.897Z"
   },
   {
    "duration": 0,
    "start_time": "2022-03-27T06:32:37.898Z"
   },
   {
    "duration": 0,
    "start_time": "2022-03-27T06:32:37.899Z"
   },
   {
    "duration": 0,
    "start_time": "2022-03-27T06:32:37.899Z"
   },
   {
    "duration": 0,
    "start_time": "2022-03-27T06:32:37.900Z"
   },
   {
    "duration": 0,
    "start_time": "2022-03-27T06:32:37.901Z"
   },
   {
    "duration": 0,
    "start_time": "2022-03-27T06:32:37.902Z"
   },
   {
    "duration": 0,
    "start_time": "2022-03-27T06:32:37.903Z"
   },
   {
    "duration": 0,
    "start_time": "2022-03-27T06:32:37.905Z"
   },
   {
    "duration": 0,
    "start_time": "2022-03-27T06:32:37.906Z"
   },
   {
    "duration": 0,
    "start_time": "2022-03-27T06:32:37.931Z"
   },
   {
    "duration": 0,
    "start_time": "2022-03-27T06:32:37.933Z"
   },
   {
    "duration": 0,
    "start_time": "2022-03-27T06:32:37.935Z"
   },
   {
    "duration": 7,
    "start_time": "2022-03-27T06:32:53.363Z"
   },
   {
    "duration": 8,
    "start_time": "2022-03-27T06:32:54.564Z"
   },
   {
    "duration": 11,
    "start_time": "2022-03-27T06:33:18.357Z"
   },
   {
    "duration": 10,
    "start_time": "2022-03-27T06:34:30.398Z"
   },
   {
    "duration": 7,
    "start_time": "2022-03-27T06:38:28.318Z"
   },
   {
    "duration": 5,
    "start_time": "2022-03-27T06:38:29.776Z"
   },
   {
    "duration": 11,
    "start_time": "2022-03-27T06:42:42.866Z"
   },
   {
    "duration": 6,
    "start_time": "2022-03-27T06:43:51.386Z"
   },
   {
    "duration": 2650,
    "start_time": "2022-03-27T06:46:21.984Z"
   },
   {
    "duration": 3,
    "start_time": "2022-03-27T06:46:30.354Z"
   },
   {
    "duration": 3,
    "start_time": "2022-03-27T06:46:33.850Z"
   },
   {
    "duration": 12,
    "start_time": "2022-03-27T06:47:27.669Z"
   },
   {
    "duration": 12,
    "start_time": "2022-03-27T06:50:03.514Z"
   },
   {
    "duration": 477,
    "start_time": "2022-03-27T06:54:15.061Z"
   },
   {
    "duration": 16,
    "start_time": "2022-03-27T06:54:15.540Z"
   },
   {
    "duration": 7,
    "start_time": "2022-03-27T06:54:15.558Z"
   },
   {
    "duration": 16,
    "start_time": "2022-03-27T06:54:15.566Z"
   },
   {
    "duration": 5,
    "start_time": "2022-03-27T06:54:15.585Z"
   },
   {
    "duration": 13,
    "start_time": "2022-03-27T06:54:15.592Z"
   },
   {
    "duration": 15,
    "start_time": "2022-03-27T06:54:15.631Z"
   },
   {
    "duration": 7,
    "start_time": "2022-03-27T06:54:15.648Z"
   },
   {
    "duration": 13,
    "start_time": "2022-03-27T06:54:15.657Z"
   },
   {
    "duration": 9,
    "start_time": "2022-03-27T06:54:15.671Z"
   },
   {
    "duration": 10,
    "start_time": "2022-03-27T06:54:15.681Z"
   },
   {
    "duration": 5,
    "start_time": "2022-03-27T06:54:15.693Z"
   },
   {
    "duration": 34,
    "start_time": "2022-03-27T06:54:15.700Z"
   },
   {
    "duration": 13,
    "start_time": "2022-03-27T06:54:15.737Z"
   },
   {
    "duration": 13,
    "start_time": "2022-03-27T06:54:15.752Z"
   },
   {
    "duration": 6,
    "start_time": "2022-03-27T06:54:15.767Z"
   },
   {
    "duration": 12,
    "start_time": "2022-03-27T06:54:15.776Z"
   },
   {
    "duration": 5,
    "start_time": "2022-03-27T06:54:15.790Z"
   },
   {
    "duration": 49,
    "start_time": "2022-03-27T06:54:15.797Z"
   },
   {
    "duration": 13,
    "start_time": "2022-03-27T06:54:15.848Z"
   },
   {
    "duration": 22,
    "start_time": "2022-03-27T06:54:15.863Z"
   },
   {
    "duration": 57,
    "start_time": "2022-03-27T06:54:15.887Z"
   },
   {
    "duration": 8,
    "start_time": "2022-03-27T06:54:15.946Z"
   },
   {
    "duration": 10,
    "start_time": "2022-03-27T06:54:15.956Z"
   },
   {
    "duration": 7,
    "start_time": "2022-03-27T06:54:15.968Z"
   },
   {
    "duration": 13,
    "start_time": "2022-03-27T06:54:15.977Z"
   },
   {
    "duration": 49,
    "start_time": "2022-03-27T06:54:15.992Z"
   },
   {
    "duration": 9,
    "start_time": "2022-03-27T06:54:16.043Z"
   },
   {
    "duration": 23,
    "start_time": "2022-03-27T06:54:16.054Z"
   },
   {
    "duration": 7,
    "start_time": "2022-03-27T06:54:16.079Z"
   },
   {
    "duration": 9,
    "start_time": "2022-03-27T06:54:16.088Z"
   },
   {
    "duration": 7,
    "start_time": "2022-03-27T06:54:16.099Z"
   },
   {
    "duration": 42,
    "start_time": "2022-03-27T06:54:16.108Z"
   },
   {
    "duration": 78,
    "start_time": "2022-03-27T07:28:52.812Z"
   },
   {
    "duration": 17,
    "start_time": "2022-03-27T07:31:05.725Z"
   },
   {
    "duration": 11,
    "start_time": "2022-03-27T07:32:03.223Z"
   },
   {
    "duration": 10,
    "start_time": "2022-03-27T07:32:06.745Z"
   },
   {
    "duration": 11,
    "start_time": "2022-03-27T07:32:26.866Z"
   },
   {
    "duration": 13,
    "start_time": "2022-03-27T07:32:58.445Z"
   },
   {
    "duration": 14,
    "start_time": "2022-03-27T07:33:27.211Z"
   },
   {
    "duration": 14,
    "start_time": "2022-03-27T07:33:32.659Z"
   },
   {
    "duration": 11,
    "start_time": "2022-03-27T07:33:39.811Z"
   },
   {
    "duration": 15,
    "start_time": "2022-03-27T07:39:23.456Z"
   },
   {
    "duration": 15,
    "start_time": "2022-03-27T07:40:19.324Z"
   },
   {
    "duration": 13,
    "start_time": "2022-03-27T07:40:34.917Z"
   },
   {
    "duration": 15,
    "start_time": "2022-03-27T07:46:16.461Z"
   },
   {
    "duration": 14,
    "start_time": "2022-03-27T07:48:39.632Z"
   },
   {
    "duration": 26,
    "start_time": "2022-03-27T07:51:25.724Z"
   },
   {
    "duration": 13,
    "start_time": "2022-03-27T07:51:59.168Z"
   },
   {
    "duration": 18,
    "start_time": "2022-03-27T07:52:25.924Z"
   },
   {
    "duration": 13,
    "start_time": "2022-03-27T07:52:44.761Z"
   },
   {
    "duration": 17,
    "start_time": "2022-03-27T07:52:48.176Z"
   },
   {
    "duration": 15,
    "start_time": "2022-03-27T07:57:05.883Z"
   },
   {
    "duration": 2589,
    "start_time": "2022-03-27T08:03:02.464Z"
   },
   {
    "duration": 17,
    "start_time": "2022-03-27T08:03:59.335Z"
   },
   {
    "duration": 20,
    "start_time": "2022-03-27T08:08:43.293Z"
   },
   {
    "duration": 21,
    "start_time": "2022-03-27T08:15:47.032Z"
   },
   {
    "duration": 22,
    "start_time": "2022-03-27T08:16:16.923Z"
   },
   {
    "duration": 2,
    "start_time": "2022-03-27T08:21:43.636Z"
   },
   {
    "duration": 47,
    "start_time": "2022-03-27T12:52:10.463Z"
   },
   {
    "duration": 492,
    "start_time": "2022-03-27T12:52:24.045Z"
   },
   {
    "duration": 16,
    "start_time": "2022-03-27T12:52:24.539Z"
   },
   {
    "duration": 8,
    "start_time": "2022-03-27T12:52:24.556Z"
   },
   {
    "duration": 14,
    "start_time": "2022-03-27T12:52:24.567Z"
   },
   {
    "duration": 6,
    "start_time": "2022-03-27T12:52:24.582Z"
   },
   {
    "duration": 12,
    "start_time": "2022-03-27T12:52:24.589Z"
   },
   {
    "duration": 47,
    "start_time": "2022-03-27T12:52:24.603Z"
   },
   {
    "duration": 5,
    "start_time": "2022-03-27T12:52:24.651Z"
   },
   {
    "duration": 15,
    "start_time": "2022-03-27T12:52:24.658Z"
   },
   {
    "duration": 9,
    "start_time": "2022-03-27T12:52:24.677Z"
   },
   {
    "duration": 9,
    "start_time": "2022-03-27T12:52:24.688Z"
   },
   {
    "duration": 8,
    "start_time": "2022-03-27T12:52:24.699Z"
   },
   {
    "duration": 31,
    "start_time": "2022-03-27T12:52:24.708Z"
   },
   {
    "duration": 17,
    "start_time": "2022-03-27T12:52:24.741Z"
   },
   {
    "duration": 21,
    "start_time": "2022-03-27T12:52:24.760Z"
   },
   {
    "duration": 11,
    "start_time": "2022-03-27T12:52:24.783Z"
   },
   {
    "duration": 16,
    "start_time": "2022-03-27T12:52:24.796Z"
   },
   {
    "duration": 25,
    "start_time": "2022-03-27T12:52:24.814Z"
   },
   {
    "duration": 17,
    "start_time": "2022-03-27T12:52:24.841Z"
   },
   {
    "duration": 13,
    "start_time": "2022-03-27T12:52:24.860Z"
   },
   {
    "duration": 31,
    "start_time": "2022-03-27T12:52:24.875Z"
   },
   {
    "duration": 46,
    "start_time": "2022-03-27T12:52:24.910Z"
   },
   {
    "duration": 7,
    "start_time": "2022-03-27T12:52:24.958Z"
   },
   {
    "duration": 20,
    "start_time": "2022-03-27T12:52:24.966Z"
   },
   {
    "duration": 12,
    "start_time": "2022-03-27T12:52:24.987Z"
   },
   {
    "duration": 13,
    "start_time": "2022-03-27T12:52:25.001Z"
   },
   {
    "duration": 33,
    "start_time": "2022-03-27T12:52:25.015Z"
   },
   {
    "duration": 4,
    "start_time": "2022-03-27T12:52:25.052Z"
   },
   {
    "duration": 40,
    "start_time": "2022-03-27T12:52:25.057Z"
   },
   {
    "duration": 18,
    "start_time": "2022-03-27T12:52:25.099Z"
   },
   {
    "duration": 15,
    "start_time": "2022-03-27T12:52:25.120Z"
   },
   {
    "duration": 12,
    "start_time": "2022-03-27T12:52:25.137Z"
   },
   {
    "duration": 26,
    "start_time": "2022-03-27T12:52:25.151Z"
   },
   {
    "duration": 30,
    "start_time": "2022-03-27T12:52:25.179Z"
   },
   {
    "duration": 16,
    "start_time": "2022-03-27T12:52:25.211Z"
   },
   {
    "duration": 27,
    "start_time": "2022-03-27T12:52:25.228Z"
   },
   {
    "duration": 20,
    "start_time": "2022-03-27T12:52:25.256Z"
   },
   {
    "duration": 23,
    "start_time": "2022-03-27T12:53:44.273Z"
   },
   {
    "duration": 19,
    "start_time": "2022-03-27T12:54:37.253Z"
   },
   {
    "duration": 25,
    "start_time": "2022-03-27T12:54:43.397Z"
   },
   {
    "duration": 26,
    "start_time": "2022-03-27T13:18:32.422Z"
   },
   {
    "duration": 26,
    "start_time": "2022-03-27T13:22:33.436Z"
   },
   {
    "duration": 28,
    "start_time": "2022-03-27T13:30:51.738Z"
   },
   {
    "duration": 124,
    "start_time": "2022-03-27T14:06:35.614Z"
   },
   {
    "duration": 69,
    "start_time": "2022-04-11T15:36:40.808Z"
   },
   {
    "duration": 751,
    "start_time": "2022-04-11T15:36:56.605Z"
   },
   {
    "duration": 21,
    "start_time": "2022-04-11T15:36:57.359Z"
   },
   {
    "duration": 24,
    "start_time": "2022-04-11T15:36:57.385Z"
   },
   {
    "duration": 14,
    "start_time": "2022-04-11T15:36:57.413Z"
   },
   {
    "duration": 27,
    "start_time": "2022-04-11T15:36:57.429Z"
   },
   {
    "duration": 47,
    "start_time": "2022-04-11T15:36:57.458Z"
   },
   {
    "duration": 7,
    "start_time": "2022-04-11T15:36:57.507Z"
   },
   {
    "duration": 9,
    "start_time": "2022-04-11T15:36:57.516Z"
   },
   {
    "duration": 5,
    "start_time": "2022-04-11T15:36:57.527Z"
   },
   {
    "duration": 13,
    "start_time": "2022-04-11T15:36:57.536Z"
   },
   {
    "duration": 17,
    "start_time": "2022-04-11T15:36:57.551Z"
   },
   {
    "duration": 55,
    "start_time": "2022-04-11T15:36:57.570Z"
   },
   {
    "duration": 16,
    "start_time": "2022-04-11T15:36:57.627Z"
   },
   {
    "duration": 19,
    "start_time": "2022-04-11T15:36:57.645Z"
   },
   {
    "duration": 21,
    "start_time": "2022-04-11T15:36:57.666Z"
   },
   {
    "duration": 22,
    "start_time": "2022-04-11T15:36:57.691Z"
   },
   {
    "duration": 22,
    "start_time": "2022-04-11T15:36:57.715Z"
   },
   {
    "duration": 985,
    "start_time": "2022-04-11T15:36:57.739Z"
   },
   {
    "duration": 35,
    "start_time": "2022-04-11T15:36:58.726Z"
   },
   {
    "duration": 1092,
    "start_time": "2022-04-11T15:36:58.763Z"
   },
   {
    "duration": 441,
    "start_time": "2022-04-11T15:36:59.858Z"
   },
   {
    "duration": 462,
    "start_time": "2022-04-11T15:37:00.302Z"
   },
   {
    "duration": 414,
    "start_time": "2022-04-11T15:37:00.767Z"
   },
   {
    "duration": 353,
    "start_time": "2022-04-11T15:37:01.185Z"
   },
   {
    "duration": 13,
    "start_time": "2022-04-11T15:37:01.540Z"
   },
   {
    "duration": 4,
    "start_time": "2022-04-11T15:37:01.555Z"
   },
   {
    "duration": 201,
    "start_time": "2022-04-11T15:37:01.592Z"
   },
   {
    "duration": 422,
    "start_time": "2022-04-11T15:37:01.802Z"
   },
   {
    "duration": 12,
    "start_time": "2022-04-11T15:37:02.227Z"
   },
   {
    "duration": 303,
    "start_time": "2022-04-11T15:37:02.241Z"
   },
   {
    "duration": 17,
    "start_time": "2022-04-11T15:37:02.547Z"
   },
   {
    "duration": 511,
    "start_time": "2022-04-11T15:37:02.586Z"
   },
   {
    "duration": 10,
    "start_time": "2022-04-11T15:37:03.100Z"
   },
   {
    "duration": 368,
    "start_time": "2022-04-11T15:37:03.112Z"
   },
   {
    "duration": 16,
    "start_time": "2022-04-11T15:37:03.482Z"
   },
   {
    "duration": 234,
    "start_time": "2022-04-11T15:37:03.502Z"
   },
   {
    "duration": 789,
    "start_time": "2022-04-11T15:37:03.738Z"
   },
   {
    "duration": 9,
    "start_time": "2022-04-11T15:37:04.530Z"
   },
   {
    "duration": 241,
    "start_time": "2022-04-11T15:37:04.546Z"
   },
   {
    "duration": 265,
    "start_time": "2022-04-11T15:37:04.790Z"
   },
   {
    "duration": 220,
    "start_time": "2022-04-11T15:37:05.058Z"
   },
   {
    "duration": 40,
    "start_time": "2022-04-11T15:37:05.281Z"
   },
   {
    "duration": 16,
    "start_time": "2022-04-11T15:37:05.323Z"
   },
   {
    "duration": 38,
    "start_time": "2022-04-11T15:37:05.341Z"
   },
   {
    "duration": 349,
    "start_time": "2022-04-11T15:37:05.382Z"
   },
   {
    "duration": 13,
    "start_time": "2022-04-11T15:37:05.735Z"
   },
   {
    "duration": 294,
    "start_time": "2022-04-11T15:37:05.750Z"
   },
   {
    "duration": 279,
    "start_time": "2022-04-11T15:37:06.046Z"
   },
   {
    "duration": 288,
    "start_time": "2022-04-11T15:37:06.328Z"
   },
   {
    "duration": 414,
    "start_time": "2022-04-11T15:37:06.618Z"
   },
   {
    "duration": 414,
    "start_time": "2022-04-11T15:37:07.034Z"
   },
   {
    "duration": 426,
    "start_time": "2022-04-11T15:37:07.451Z"
   },
   {
    "duration": 580,
    "start_time": "2022-04-11T15:37:07.879Z"
   },
   {
    "duration": 247,
    "start_time": "2022-04-11T15:37:08.461Z"
   },
   {
    "duration": 250,
    "start_time": "2022-04-11T15:37:08.711Z"
   },
   {
    "duration": 256,
    "start_time": "2022-04-11T15:37:08.964Z"
   },
   {
    "duration": 18,
    "start_time": "2022-04-11T15:37:53.465Z"
   },
   {
    "duration": 15,
    "start_time": "2022-04-11T15:38:40.833Z"
   },
   {
    "duration": 16,
    "start_time": "2022-04-11T15:39:02.253Z"
   },
   {
    "duration": 15,
    "start_time": "2022-04-11T15:39:40.832Z"
   },
   {
    "duration": 671,
    "start_time": "2022-04-11T15:39:57.628Z"
   },
   {
    "duration": 22,
    "start_time": "2022-04-11T15:39:58.302Z"
   },
   {
    "duration": 15,
    "start_time": "2022-04-11T15:39:58.326Z"
   },
   {
    "duration": 40,
    "start_time": "2022-04-11T15:39:58.345Z"
   },
   {
    "duration": 22,
    "start_time": "2022-04-11T15:39:58.388Z"
   },
   {
    "duration": 30,
    "start_time": "2022-04-11T15:39:58.413Z"
   },
   {
    "duration": 42,
    "start_time": "2022-04-11T15:39:58.446Z"
   },
   {
    "duration": 11,
    "start_time": "2022-04-11T15:39:58.491Z"
   },
   {
    "duration": 18,
    "start_time": "2022-04-11T15:39:58.504Z"
   },
   {
    "duration": 10,
    "start_time": "2022-04-11T15:39:58.528Z"
   },
   {
    "duration": 44,
    "start_time": "2022-04-11T15:39:58.540Z"
   },
   {
    "duration": 44,
    "start_time": "2022-04-11T15:39:58.586Z"
   },
   {
    "duration": 20,
    "start_time": "2022-04-11T15:39:58.632Z"
   },
   {
    "duration": 47,
    "start_time": "2022-04-11T15:39:58.656Z"
   },
   {
    "duration": 18,
    "start_time": "2022-04-11T15:39:58.707Z"
   },
   {
    "duration": 31,
    "start_time": "2022-04-11T15:39:58.727Z"
   },
   {
    "duration": 28,
    "start_time": "2022-04-11T15:39:58.784Z"
   },
   {
    "duration": 908,
    "start_time": "2022-04-11T15:39:58.815Z"
   },
   {
    "duration": 59,
    "start_time": "2022-04-11T15:39:59.726Z"
   },
   {
    "duration": 1045,
    "start_time": "2022-04-11T15:39:59.788Z"
   },
   {
    "duration": 696,
    "start_time": "2022-04-11T15:40:00.836Z"
   },
   {
    "duration": 631,
    "start_time": "2022-04-11T15:40:01.535Z"
   },
   {
    "duration": 615,
    "start_time": "2022-04-11T15:40:02.169Z"
   },
   {
    "duration": 310,
    "start_time": "2022-04-11T15:40:02.787Z"
   },
   {
    "duration": 14,
    "start_time": "2022-04-11T15:40:03.100Z"
   },
   {
    "duration": 92,
    "start_time": "2022-04-11T15:40:03.117Z"
   },
   {
    "duration": 255,
    "start_time": "2022-04-11T15:40:03.211Z"
   },
   {
    "duration": 391,
    "start_time": "2022-04-11T15:40:03.483Z"
   },
   {
    "duration": 14,
    "start_time": "2022-04-11T15:40:03.885Z"
   },
   {
    "duration": 196,
    "start_time": "2022-04-11T15:40:03.902Z"
   },
   {
    "duration": 20,
    "start_time": "2022-04-11T15:40:04.101Z"
   },
   {
    "duration": 778,
    "start_time": "2022-04-11T15:40:04.123Z"
   },
   {
    "duration": 9,
    "start_time": "2022-04-11T15:40:04.904Z"
   },
   {
    "duration": 290,
    "start_time": "2022-04-11T15:40:04.915Z"
   },
   {
    "duration": 9,
    "start_time": "2022-04-11T15:40:05.208Z"
   },
   {
    "duration": 196,
    "start_time": "2022-04-11T15:40:05.219Z"
   },
   {
    "duration": 740,
    "start_time": "2022-04-11T15:40:05.418Z"
   },
   {
    "duration": 25,
    "start_time": "2022-04-11T15:40:06.161Z"
   },
   {
    "duration": 319,
    "start_time": "2022-04-11T15:40:06.188Z"
   },
   {
    "duration": 391,
    "start_time": "2022-04-11T15:40:06.509Z"
   },
   {
    "duration": 236,
    "start_time": "2022-04-11T15:40:06.902Z"
   },
   {
    "duration": 43,
    "start_time": "2022-04-11T15:40:07.140Z"
   },
   {
    "duration": 5,
    "start_time": "2022-04-11T15:40:07.185Z"
   },
   {
    "duration": 9,
    "start_time": "2022-04-11T15:40:07.192Z"
   },
   {
    "duration": 316,
    "start_time": "2022-04-11T15:40:07.203Z"
   },
   {
    "duration": 14,
    "start_time": "2022-04-11T15:40:07.521Z"
   },
   {
    "duration": 396,
    "start_time": "2022-04-11T15:40:07.538Z"
   },
   {
    "duration": 388,
    "start_time": "2022-04-11T15:40:07.937Z"
   },
   {
    "duration": 396,
    "start_time": "2022-04-11T15:40:08.328Z"
   },
   {
    "duration": 376,
    "start_time": "2022-04-11T15:40:08.727Z"
   },
   {
    "duration": 345,
    "start_time": "2022-04-11T15:40:09.106Z"
   },
   {
    "duration": 354,
    "start_time": "2022-04-11T15:40:09.453Z"
   },
   {
    "duration": 559,
    "start_time": "2022-04-11T15:40:09.809Z"
   },
   {
    "duration": 235,
    "start_time": "2022-04-11T15:40:10.370Z"
   },
   {
    "duration": 204,
    "start_time": "2022-04-11T15:40:10.608Z"
   },
   {
    "duration": 233,
    "start_time": "2022-04-11T15:40:10.814Z"
   },
   {
    "duration": 97,
    "start_time": "2022-04-11T15:47:15.479Z"
   },
   {
    "duration": 112,
    "start_time": "2022-04-11T15:47:37.019Z"
   },
   {
    "duration": 113,
    "start_time": "2022-04-11T15:48:16.128Z"
   },
   {
    "duration": 110,
    "start_time": "2022-04-11T15:48:21.582Z"
   },
   {
    "duration": 120,
    "start_time": "2022-04-11T15:48:37.527Z"
   },
   {
    "duration": 21,
    "start_time": "2022-04-11T15:48:54.528Z"
   },
   {
    "duration": 163,
    "start_time": "2022-04-11T15:49:20.217Z"
   },
   {
    "duration": 24,
    "start_time": "2022-04-11T15:49:29.723Z"
   },
   {
    "duration": 21,
    "start_time": "2022-04-11T15:49:47.475Z"
   },
   {
    "duration": 1004,
    "start_time": "2022-04-11T15:50:02.285Z"
   },
   {
    "duration": 33,
    "start_time": "2022-04-11T15:50:03.293Z"
   },
   {
    "duration": 22,
    "start_time": "2022-04-11T15:50:03.329Z"
   },
   {
    "duration": 41,
    "start_time": "2022-04-11T15:50:03.354Z"
   },
   {
    "duration": 32,
    "start_time": "2022-04-11T15:50:03.400Z"
   },
   {
    "duration": 72,
    "start_time": "2022-04-11T15:50:03.434Z"
   },
   {
    "duration": 9,
    "start_time": "2022-04-11T15:50:03.509Z"
   },
   {
    "duration": 34,
    "start_time": "2022-04-11T15:50:03.520Z"
   },
   {
    "duration": 42,
    "start_time": "2022-04-11T15:50:03.556Z"
   },
   {
    "duration": 42,
    "start_time": "2022-04-11T15:50:03.600Z"
   },
   {
    "duration": 23,
    "start_time": "2022-04-11T15:50:03.645Z"
   },
   {
    "duration": 43,
    "start_time": "2022-04-11T15:50:03.671Z"
   },
   {
    "duration": 16,
    "start_time": "2022-04-11T15:50:03.717Z"
   },
   {
    "duration": 19,
    "start_time": "2022-04-11T15:50:03.738Z"
   },
   {
    "duration": 30,
    "start_time": "2022-04-11T15:50:03.760Z"
   },
   {
    "duration": 26,
    "start_time": "2022-04-11T15:50:03.793Z"
   },
   {
    "duration": 22,
    "start_time": "2022-04-11T15:50:03.821Z"
   },
   {
    "duration": 927,
    "start_time": "2022-04-11T15:50:03.846Z"
   },
   {
    "duration": 56,
    "start_time": "2022-04-11T15:50:04.776Z"
   },
   {
    "duration": 1170,
    "start_time": "2022-04-11T15:50:04.835Z"
   },
   {
    "duration": 664,
    "start_time": "2022-04-11T15:50:06.008Z"
   },
   {
    "duration": 414,
    "start_time": "2022-04-11T15:50:06.675Z"
   },
   {
    "duration": 395,
    "start_time": "2022-04-11T15:50:07.092Z"
   },
   {
    "duration": 304,
    "start_time": "2022-04-11T15:50:07.490Z"
   },
   {
    "duration": 13,
    "start_time": "2022-04-11T15:50:07.797Z"
   },
   {
    "duration": 5,
    "start_time": "2022-04-11T15:50:07.813Z"
   },
   {
    "duration": 222,
    "start_time": "2022-04-11T15:50:07.820Z"
   },
   {
    "duration": 394,
    "start_time": "2022-04-11T15:50:08.044Z"
   },
   {
    "duration": 13,
    "start_time": "2022-04-11T15:50:08.440Z"
   },
   {
    "duration": 203,
    "start_time": "2022-04-11T15:50:08.455Z"
   },
   {
    "duration": 32,
    "start_time": "2022-04-11T15:50:08.660Z"
   },
   {
    "duration": 559,
    "start_time": "2022-04-11T15:50:08.694Z"
   },
   {
    "duration": 7,
    "start_time": "2022-04-11T15:50:09.255Z"
   },
   {
    "duration": 279,
    "start_time": "2022-04-11T15:50:09.264Z"
   },
   {
    "duration": 8,
    "start_time": "2022-04-11T15:50:09.545Z"
   },
   {
    "duration": 196,
    "start_time": "2022-04-11T15:50:09.555Z"
   },
   {
    "duration": 844,
    "start_time": "2022-04-11T15:50:09.753Z"
   },
   {
    "duration": 7,
    "start_time": "2022-04-11T15:50:10.600Z"
   },
   {
    "duration": 234,
    "start_time": "2022-04-11T15:50:10.609Z"
   },
   {
    "duration": 258,
    "start_time": "2022-04-11T15:50:10.846Z"
   },
   {
    "duration": 340,
    "start_time": "2022-04-11T15:50:11.110Z"
   },
   {
    "duration": 62,
    "start_time": "2022-04-11T15:50:11.454Z"
   },
   {
    "duration": 7,
    "start_time": "2022-04-11T15:50:11.519Z"
   },
   {
    "duration": 13,
    "start_time": "2022-04-11T15:50:11.529Z"
   },
   {
    "duration": 325,
    "start_time": "2022-04-11T15:50:11.545Z"
   },
   {
    "duration": 18,
    "start_time": "2022-04-11T15:50:11.872Z"
   },
   {
    "duration": 275,
    "start_time": "2022-04-11T15:50:11.892Z"
   },
   {
    "duration": 268,
    "start_time": "2022-04-11T15:50:12.169Z"
   },
   {
    "duration": 284,
    "start_time": "2022-04-11T15:50:12.440Z"
   },
   {
    "duration": 403,
    "start_time": "2022-04-11T15:50:12.727Z"
   },
   {
    "duration": 531,
    "start_time": "2022-04-11T15:50:13.134Z"
   },
   {
    "duration": 374,
    "start_time": "2022-04-11T15:50:13.668Z"
   },
   {
    "duration": 859,
    "start_time": "2022-04-11T15:50:14.045Z"
   },
   {
    "duration": 366,
    "start_time": "2022-04-11T15:50:14.907Z"
   },
   {
    "duration": 333,
    "start_time": "2022-04-11T15:50:15.275Z"
   },
   {
    "duration": 233,
    "start_time": "2022-04-11T15:50:15.611Z"
   },
   {
    "duration": 146,
    "start_time": "2022-04-11T15:55:12.032Z"
   },
   {
    "duration": 8,
    "start_time": "2022-04-12T14:44:18.395Z"
   },
   {
    "duration": 45,
    "start_time": "2022-04-12T14:44:45.254Z"
   },
   {
    "duration": 544,
    "start_time": "2022-04-12T14:44:53.705Z"
   },
   {
    "duration": 14,
    "start_time": "2022-04-12T14:44:54.250Z"
   },
   {
    "duration": 10,
    "start_time": "2022-04-12T14:44:54.265Z"
   },
   {
    "duration": 8,
    "start_time": "2022-04-12T14:44:54.277Z"
   },
   {
    "duration": 31,
    "start_time": "2022-04-12T14:44:54.287Z"
   },
   {
    "duration": 16,
    "start_time": "2022-04-12T14:44:54.320Z"
   },
   {
    "duration": 4,
    "start_time": "2022-04-12T14:44:54.338Z"
   },
   {
    "duration": 7,
    "start_time": "2022-04-12T14:44:54.343Z"
   },
   {
    "duration": 55,
    "start_time": "2022-04-12T14:44:54.352Z"
   },
   {
    "duration": 4,
    "start_time": "2022-04-12T14:44:54.409Z"
   },
   {
    "duration": 9,
    "start_time": "2022-04-12T14:44:54.414Z"
   },
   {
    "duration": 13,
    "start_time": "2022-04-12T14:44:54.424Z"
   },
   {
    "duration": 29,
    "start_time": "2022-04-12T14:44:54.438Z"
   },
   {
    "duration": 37,
    "start_time": "2022-04-12T14:44:54.470Z"
   },
   {
    "duration": 14,
    "start_time": "2022-04-12T14:44:54.509Z"
   },
   {
    "duration": 8,
    "start_time": "2022-04-12T14:44:54.524Z"
   },
   {
    "duration": 14,
    "start_time": "2022-04-12T14:44:54.534Z"
   },
   {
    "duration": 16,
    "start_time": "2022-04-12T14:44:54.550Z"
   },
   {
    "duration": 341,
    "start_time": "2022-04-12T14:44:54.568Z"
   },
   {
    "duration": 23,
    "start_time": "2022-04-12T14:44:54.910Z"
   },
   {
    "duration": 603,
    "start_time": "2022-04-12T14:44:54.935Z"
   },
   {
    "duration": 238,
    "start_time": "2022-04-12T14:44:55.540Z"
   },
   {
    "duration": 241,
    "start_time": "2022-04-12T14:44:55.780Z"
   },
   {
    "duration": 230,
    "start_time": "2022-04-12T14:44:56.023Z"
   },
   {
    "duration": 185,
    "start_time": "2022-04-12T14:44:56.255Z"
   },
   {
    "duration": 9,
    "start_time": "2022-04-12T14:44:56.441Z"
   },
   {
    "duration": 2,
    "start_time": "2022-04-12T14:44:56.451Z"
   },
   {
    "duration": 128,
    "start_time": "2022-04-12T14:44:56.455Z"
   },
   {
    "duration": 233,
    "start_time": "2022-04-12T14:44:56.585Z"
   },
   {
    "duration": 9,
    "start_time": "2022-04-12T14:44:56.820Z"
   },
   {
    "duration": 185,
    "start_time": "2022-04-12T14:44:56.830Z"
   },
   {
    "duration": 10,
    "start_time": "2022-04-12T14:44:57.017Z"
   },
   {
    "duration": 287,
    "start_time": "2022-04-12T14:44:57.029Z"
   },
   {
    "duration": 5,
    "start_time": "2022-04-12T14:44:57.318Z"
   },
   {
    "duration": 152,
    "start_time": "2022-04-12T14:44:57.324Z"
   },
   {
    "duration": 5,
    "start_time": "2022-04-12T14:44:57.478Z"
   },
   {
    "duration": 123,
    "start_time": "2022-04-12T14:44:57.484Z"
   },
   {
    "duration": 415,
    "start_time": "2022-04-12T14:44:57.609Z"
   },
   {
    "duration": 5,
    "start_time": "2022-04-12T14:44:58.026Z"
   },
   {
    "duration": 136,
    "start_time": "2022-04-12T14:44:58.032Z"
   },
   {
    "duration": 163,
    "start_time": "2022-04-12T14:44:58.172Z"
   },
   {
    "duration": 125,
    "start_time": "2022-04-12T14:44:58.336Z"
   },
   {
    "duration": 20,
    "start_time": "2022-04-12T14:44:58.463Z"
   },
   {
    "duration": 3,
    "start_time": "2022-04-12T14:44:58.484Z"
   },
   {
    "duration": 19,
    "start_time": "2022-04-12T14:44:58.489Z"
   },
   {
    "duration": 179,
    "start_time": "2022-04-12T14:44:58.510Z"
   },
   {
    "duration": 17,
    "start_time": "2022-04-12T14:44:58.691Z"
   },
   {
    "duration": 155,
    "start_time": "2022-04-12T14:44:58.710Z"
   },
   {
    "duration": 157,
    "start_time": "2022-04-12T14:44:58.867Z"
   },
   {
    "duration": 160,
    "start_time": "2022-04-12T14:44:59.026Z"
   },
   {
    "duration": 236,
    "start_time": "2022-04-12T14:44:59.188Z"
   },
   {
    "duration": 204,
    "start_time": "2022-04-12T14:44:59.426Z"
   },
   {
    "duration": 213,
    "start_time": "2022-04-12T14:44:59.632Z"
   },
   {
    "duration": 349,
    "start_time": "2022-04-12T14:44:59.846Z"
   },
   {
    "duration": 149,
    "start_time": "2022-04-12T14:45:00.196Z"
   },
   {
    "duration": 125,
    "start_time": "2022-04-12T14:45:00.346Z"
   },
   {
    "duration": 138,
    "start_time": "2022-04-12T14:45:00.473Z"
   },
   {
    "duration": 5,
    "start_time": "2022-04-12T14:51:20.851Z"
   },
   {
    "duration": 33,
    "start_time": "2022-04-12T14:51:31.279Z"
   },
   {
    "duration": 4,
    "start_time": "2022-04-12T14:52:01.638Z"
   },
   {
    "duration": 31,
    "start_time": "2022-04-12T14:52:02.767Z"
   },
   {
    "duration": 4,
    "start_time": "2022-04-12T14:54:53.875Z"
   },
   {
    "duration": 33,
    "start_time": "2022-04-12T14:54:55.375Z"
   },
   {
    "duration": 598,
    "start_time": "2022-04-12T14:55:04.809Z"
   },
   {
    "duration": 15,
    "start_time": "2022-04-12T14:55:05.409Z"
   },
   {
    "duration": 11,
    "start_time": "2022-04-12T14:55:05.426Z"
   },
   {
    "duration": 10,
    "start_time": "2022-04-12T14:55:05.439Z"
   },
   {
    "duration": 17,
    "start_time": "2022-04-12T14:55:05.451Z"
   },
   {
    "duration": 51,
    "start_time": "2022-04-12T14:55:05.470Z"
   },
   {
    "duration": 5,
    "start_time": "2022-04-12T14:55:05.523Z"
   },
   {
    "duration": 7,
    "start_time": "2022-04-12T14:55:05.530Z"
   },
   {
    "duration": 9,
    "start_time": "2022-04-12T14:55:05.539Z"
   },
   {
    "duration": 70,
    "start_time": "2022-04-12T14:55:05.551Z"
   },
   {
    "duration": 4,
    "start_time": "2022-04-12T14:55:05.623Z"
   },
   {
    "duration": 12,
    "start_time": "2022-04-12T14:55:05.629Z"
   },
   {
    "duration": 16,
    "start_time": "2022-04-12T14:55:05.643Z"
   },
   {
    "duration": 50,
    "start_time": "2022-04-12T14:55:05.661Z"
   },
   {
    "duration": 12,
    "start_time": "2022-04-12T14:55:05.713Z"
   },
   {
    "duration": 13,
    "start_time": "2022-04-12T14:55:05.727Z"
   },
   {
    "duration": 9,
    "start_time": "2022-04-12T14:55:05.742Z"
   },
   {
    "duration": 16,
    "start_time": "2022-04-12T14:55:05.753Z"
   },
   {
    "duration": 47,
    "start_time": "2022-04-12T14:55:05.771Z"
   },
   {
    "duration": 353,
    "start_time": "2022-04-12T14:55:05.820Z"
   },
   {
    "duration": 34,
    "start_time": "2022-04-12T14:55:06.175Z"
   },
   {
    "duration": 1974,
    "start_time": "2022-04-12T14:55:06.211Z"
   },
   {
    "duration": 296,
    "start_time": "2022-04-12T14:55:08.187Z"
   },
   {
    "duration": 250,
    "start_time": "2022-04-12T14:55:08.485Z"
   },
   {
    "duration": 232,
    "start_time": "2022-04-12T14:55:08.736Z"
   },
   {
    "duration": 183,
    "start_time": "2022-04-12T14:55:08.969Z"
   },
   {
    "duration": 11,
    "start_time": "2022-04-12T14:55:09.153Z"
   },
   {
    "duration": 2,
    "start_time": "2022-04-12T14:55:09.167Z"
   },
   {
    "duration": 136,
    "start_time": "2022-04-12T14:55:09.171Z"
   },
   {
    "duration": 236,
    "start_time": "2022-04-12T14:55:09.309Z"
   },
   {
    "duration": 9,
    "start_time": "2022-04-12T14:55:09.547Z"
   },
   {
    "duration": 123,
    "start_time": "2022-04-12T14:55:09.558Z"
   },
   {
    "duration": 10,
    "start_time": "2022-04-12T14:55:09.683Z"
   },
   {
    "duration": 377,
    "start_time": "2022-04-12T14:55:09.695Z"
   },
   {
    "duration": 5,
    "start_time": "2022-04-12T14:55:10.073Z"
   },
   {
    "duration": 159,
    "start_time": "2022-04-12T14:55:10.079Z"
   },
   {
    "duration": 5,
    "start_time": "2022-04-12T14:55:10.240Z"
   },
   {
    "duration": 117,
    "start_time": "2022-04-12T14:55:10.247Z"
   },
   {
    "duration": 416,
    "start_time": "2022-04-12T14:55:10.366Z"
   },
   {
    "duration": 6,
    "start_time": "2022-04-12T14:55:10.784Z"
   },
   {
    "duration": 138,
    "start_time": "2022-04-12T14:55:10.792Z"
   },
   {
    "duration": 156,
    "start_time": "2022-04-12T14:55:10.932Z"
   },
   {
    "duration": 129,
    "start_time": "2022-04-12T14:55:11.090Z"
   },
   {
    "duration": 21,
    "start_time": "2022-04-12T14:55:11.221Z"
   },
   {
    "duration": 4,
    "start_time": "2022-04-12T14:55:11.243Z"
   },
   {
    "duration": 5,
    "start_time": "2022-04-12T14:55:11.249Z"
   },
   {
    "duration": 207,
    "start_time": "2022-04-12T14:55:11.256Z"
   },
   {
    "duration": 8,
    "start_time": "2022-04-12T14:55:11.465Z"
   },
   {
    "duration": 166,
    "start_time": "2022-04-12T14:55:11.475Z"
   },
   {
    "duration": 157,
    "start_time": "2022-04-12T14:55:11.643Z"
   },
   {
    "duration": 161,
    "start_time": "2022-04-12T14:55:11.801Z"
   },
   {
    "duration": 264,
    "start_time": "2022-04-12T14:55:11.964Z"
   },
   {
    "duration": 209,
    "start_time": "2022-04-12T14:55:12.229Z"
   },
   {
    "duration": 223,
    "start_time": "2022-04-12T14:55:12.440Z"
   },
   {
    "duration": 378,
    "start_time": "2022-04-12T14:55:12.666Z"
   },
   {
    "duration": 148,
    "start_time": "2022-04-12T14:55:13.045Z"
   },
   {
    "duration": 131,
    "start_time": "2022-04-12T14:55:13.194Z"
   },
   {
    "duration": 151,
    "start_time": "2022-04-12T14:55:13.327Z"
   },
   {
    "duration": 6,
    "start_time": "2022-04-12T14:57:35.250Z"
   },
   {
    "duration": 4,
    "start_time": "2022-04-12T14:57:36.028Z"
   },
   {
    "duration": 35,
    "start_time": "2022-04-12T14:57:39.362Z"
   },
   {
    "duration": 34,
    "start_time": "2022-04-12T14:57:56.023Z"
   },
   {
    "duration": 6,
    "start_time": "2022-04-12T14:57:59.353Z"
   },
   {
    "duration": 34,
    "start_time": "2022-04-12T14:58:00.834Z"
   },
   {
    "duration": 555,
    "start_time": "2022-04-12T14:58:13.935Z"
   },
   {
    "duration": 24,
    "start_time": "2022-04-12T14:58:14.493Z"
   },
   {
    "duration": 11,
    "start_time": "2022-04-12T14:58:14.519Z"
   },
   {
    "duration": 12,
    "start_time": "2022-04-12T14:58:14.532Z"
   },
   {
    "duration": 22,
    "start_time": "2022-04-12T14:58:14.545Z"
   },
   {
    "duration": 38,
    "start_time": "2022-04-12T14:58:14.569Z"
   },
   {
    "duration": 5,
    "start_time": "2022-04-12T14:58:14.609Z"
   },
   {
    "duration": 6,
    "start_time": "2022-04-12T14:58:14.616Z"
   },
   {
    "duration": 38,
    "start_time": "2022-04-12T14:58:14.624Z"
   },
   {
    "duration": 3,
    "start_time": "2022-04-12T14:58:14.665Z"
   },
   {
    "duration": 7,
    "start_time": "2022-04-12T14:58:14.670Z"
   },
   {
    "duration": 36,
    "start_time": "2022-04-12T14:58:14.679Z"
   },
   {
    "duration": 27,
    "start_time": "2022-04-12T14:58:14.717Z"
   },
   {
    "duration": 13,
    "start_time": "2022-04-12T14:58:14.746Z"
   },
   {
    "duration": 13,
    "start_time": "2022-04-12T14:58:14.760Z"
   },
   {
    "duration": 8,
    "start_time": "2022-04-12T14:58:14.775Z"
   },
   {
    "duration": 13,
    "start_time": "2022-04-12T14:58:14.808Z"
   },
   {
    "duration": 15,
    "start_time": "2022-04-12T14:58:14.823Z"
   },
   {
    "duration": 348,
    "start_time": "2022-04-12T14:58:14.839Z"
   },
   {
    "duration": 33,
    "start_time": "2022-04-12T14:58:15.189Z"
   },
   {
    "duration": 434,
    "start_time": "2022-04-12T14:58:15.224Z"
   },
   {
    "duration": 307,
    "start_time": "2022-04-12T14:58:15.659Z"
   },
   {
    "duration": 255,
    "start_time": "2022-04-12T14:58:15.967Z"
   },
   {
    "duration": 240,
    "start_time": "2022-04-12T14:58:16.224Z"
   },
   {
    "duration": 185,
    "start_time": "2022-04-12T14:58:16.466Z"
   },
   {
    "duration": 10,
    "start_time": "2022-04-12T14:58:16.653Z"
   },
   {
    "duration": 3,
    "start_time": "2022-04-12T14:58:16.664Z"
   },
   {
    "duration": 141,
    "start_time": "2022-04-12T14:58:16.671Z"
   },
   {
    "duration": 237,
    "start_time": "2022-04-12T14:58:16.814Z"
   },
   {
    "duration": 10,
    "start_time": "2022-04-12T14:58:17.053Z"
   },
   {
    "duration": 129,
    "start_time": "2022-04-12T14:58:17.065Z"
   },
   {
    "duration": 16,
    "start_time": "2022-04-12T14:58:17.196Z"
   },
   {
    "duration": 366,
    "start_time": "2022-04-12T14:58:17.214Z"
   },
   {
    "duration": 6,
    "start_time": "2022-04-12T14:58:17.581Z"
   },
   {
    "duration": 163,
    "start_time": "2022-04-12T14:58:17.588Z"
   },
   {
    "duration": 5,
    "start_time": "2022-04-12T14:58:17.753Z"
   },
   {
    "duration": 121,
    "start_time": "2022-04-12T14:58:17.760Z"
   },
   {
    "duration": 419,
    "start_time": "2022-04-12T14:58:17.883Z"
   },
   {
    "duration": 7,
    "start_time": "2022-04-12T14:58:18.303Z"
   },
   {
    "duration": 142,
    "start_time": "2022-04-12T14:58:18.312Z"
   },
   {
    "duration": 166,
    "start_time": "2022-04-12T14:58:18.456Z"
   },
   {
    "duration": 142,
    "start_time": "2022-04-12T14:58:18.624Z"
   },
   {
    "duration": 22,
    "start_time": "2022-04-12T14:58:18.768Z"
   },
   {
    "duration": 4,
    "start_time": "2022-04-12T14:58:18.791Z"
   },
   {
    "duration": 4,
    "start_time": "2022-04-12T14:58:18.808Z"
   },
   {
    "duration": 203,
    "start_time": "2022-04-12T14:58:18.813Z"
   },
   {
    "duration": 8,
    "start_time": "2022-04-12T14:58:19.017Z"
   },
   {
    "duration": 170,
    "start_time": "2022-04-12T14:58:19.027Z"
   },
   {
    "duration": 158,
    "start_time": "2022-04-12T14:58:19.198Z"
   },
   {
    "duration": 163,
    "start_time": "2022-04-12T14:58:19.358Z"
   },
   {
    "duration": 260,
    "start_time": "2022-04-12T14:58:19.522Z"
   },
   {
    "duration": 205,
    "start_time": "2022-04-12T14:58:19.784Z"
   },
   {
    "duration": 220,
    "start_time": "2022-04-12T14:58:19.990Z"
   },
   {
    "duration": 368,
    "start_time": "2022-04-12T14:58:20.211Z"
   },
   {
    "duration": 151,
    "start_time": "2022-04-12T14:58:20.580Z"
   },
   {
    "duration": 139,
    "start_time": "2022-04-12T14:58:20.732Z"
   },
   {
    "duration": 147,
    "start_time": "2022-04-12T14:58:20.873Z"
   },
   {
    "duration": 6,
    "start_time": "2022-04-12T15:10:20.211Z"
   },
   {
    "duration": 42,
    "start_time": "2022-04-12T15:10:45.453Z"
   },
   {
    "duration": 571,
    "start_time": "2022-04-12T15:11:08.602Z"
   },
   {
    "duration": 14,
    "start_time": "2022-04-12T15:11:09.175Z"
   },
   {
    "duration": 19,
    "start_time": "2022-04-12T15:11:09.190Z"
   },
   {
    "duration": 10,
    "start_time": "2022-04-12T15:11:09.210Z"
   },
   {
    "duration": 14,
    "start_time": "2022-04-12T15:11:09.222Z"
   },
   {
    "duration": 18,
    "start_time": "2022-04-12T15:11:09.237Z"
   },
   {
    "duration": 4,
    "start_time": "2022-04-12T15:11:09.257Z"
   },
   {
    "duration": 8,
    "start_time": "2022-04-12T15:11:09.262Z"
   },
   {
    "duration": 64,
    "start_time": "2022-04-12T15:11:09.272Z"
   },
   {
    "duration": 5,
    "start_time": "2022-04-12T15:11:09.338Z"
   },
   {
    "duration": 46,
    "start_time": "2022-04-12T15:11:09.345Z"
   },
   {
    "duration": 3,
    "start_time": "2022-04-12T15:11:09.408Z"
   },
   {
    "duration": 13,
    "start_time": "2022-04-12T15:11:09.413Z"
   },
   {
    "duration": 12,
    "start_time": "2022-04-12T15:11:09.429Z"
   },
   {
    "duration": 27,
    "start_time": "2022-04-12T15:11:09.443Z"
   },
   {
    "duration": 12,
    "start_time": "2022-04-12T15:11:09.471Z"
   },
   {
    "duration": 14,
    "start_time": "2022-04-12T15:11:09.508Z"
   },
   {
    "duration": 7,
    "start_time": "2022-04-12T15:11:09.524Z"
   },
   {
    "duration": 16,
    "start_time": "2022-04-12T15:11:09.533Z"
   },
   {
    "duration": 16,
    "start_time": "2022-04-12T15:11:09.550Z"
   },
   {
    "duration": 348,
    "start_time": "2022-04-12T15:11:09.567Z"
   },
   {
    "duration": 24,
    "start_time": "2022-04-12T15:11:09.916Z"
   },
   {
    "duration": 414,
    "start_time": "2022-04-12T15:11:09.941Z"
   },
   {
    "duration": 299,
    "start_time": "2022-04-12T15:11:10.356Z"
   },
   {
    "duration": 265,
    "start_time": "2022-04-12T15:11:10.657Z"
   },
   {
    "duration": 236,
    "start_time": "2022-04-12T15:11:10.923Z"
   },
   {
    "duration": 196,
    "start_time": "2022-04-12T15:11:11.161Z"
   },
   {
    "duration": 10,
    "start_time": "2022-04-12T15:11:11.358Z"
   },
   {
    "duration": 3,
    "start_time": "2022-04-12T15:11:11.369Z"
   },
   {
    "duration": 136,
    "start_time": "2022-04-12T15:11:11.374Z"
   },
   {
    "duration": 236,
    "start_time": "2022-04-12T15:11:11.512Z"
   },
   {
    "duration": 10,
    "start_time": "2022-04-12T15:11:11.749Z"
   },
   {
    "duration": 128,
    "start_time": "2022-04-12T15:11:11.760Z"
   },
   {
    "duration": 20,
    "start_time": "2022-04-12T15:11:11.890Z"
   },
   {
    "duration": 356,
    "start_time": "2022-04-12T15:11:11.912Z"
   },
   {
    "duration": 5,
    "start_time": "2022-04-12T15:11:12.270Z"
   },
   {
    "duration": 156,
    "start_time": "2022-04-12T15:11:12.277Z"
   },
   {
    "duration": 6,
    "start_time": "2022-04-12T15:11:12.434Z"
   },
   {
    "duration": 121,
    "start_time": "2022-04-12T15:11:12.442Z"
   },
   {
    "duration": 424,
    "start_time": "2022-04-12T15:11:12.564Z"
   },
   {
    "duration": 16,
    "start_time": "2022-04-12T15:11:12.992Z"
   },
   {
    "duration": 139,
    "start_time": "2022-04-12T15:11:13.010Z"
   },
   {
    "duration": 163,
    "start_time": "2022-04-12T15:11:13.151Z"
   },
   {
    "duration": 136,
    "start_time": "2022-04-12T15:11:13.316Z"
   },
   {
    "duration": 21,
    "start_time": "2022-04-12T15:11:13.454Z"
   },
   {
    "duration": 3,
    "start_time": "2022-04-12T15:11:13.477Z"
   },
   {
    "duration": 6,
    "start_time": "2022-04-12T15:11:13.482Z"
   },
   {
    "duration": 188,
    "start_time": "2022-04-12T15:11:13.506Z"
   },
   {
    "duration": 18,
    "start_time": "2022-04-12T15:11:13.696Z"
   },
   {
    "duration": 168,
    "start_time": "2022-04-12T15:11:13.716Z"
   },
   {
    "duration": 154,
    "start_time": "2022-04-12T15:11:13.886Z"
   },
   {
    "duration": 167,
    "start_time": "2022-04-12T15:11:14.042Z"
   },
   {
    "duration": 260,
    "start_time": "2022-04-12T15:11:14.211Z"
   },
   {
    "duration": 202,
    "start_time": "2022-04-12T15:11:14.472Z"
   },
   {
    "duration": 220,
    "start_time": "2022-04-12T15:11:14.675Z"
   },
   {
    "duration": 368,
    "start_time": "2022-04-12T15:11:14.897Z"
   },
   {
    "duration": 155,
    "start_time": "2022-04-12T15:11:15.267Z"
   },
   {
    "duration": 137,
    "start_time": "2022-04-12T15:11:15.424Z"
   },
   {
    "duration": 145,
    "start_time": "2022-04-12T15:11:15.563Z"
   },
   {
    "duration": 42,
    "start_time": "2022-04-12T15:15:11.861Z"
   },
   {
    "duration": 542,
    "start_time": "2022-04-12T15:16:29.043Z"
   },
   {
    "duration": 21,
    "start_time": "2022-04-12T15:16:29.587Z"
   },
   {
    "duration": 12,
    "start_time": "2022-04-12T15:16:29.610Z"
   },
   {
    "duration": 13,
    "start_time": "2022-04-12T15:16:29.625Z"
   },
   {
    "duration": 14,
    "start_time": "2022-04-12T15:16:29.640Z"
   },
   {
    "duration": 19,
    "start_time": "2022-04-12T15:16:29.656Z"
   },
   {
    "duration": 35,
    "start_time": "2022-04-12T15:16:29.677Z"
   },
   {
    "duration": 10,
    "start_time": "2022-04-12T15:16:29.714Z"
   },
   {
    "duration": 38,
    "start_time": "2022-04-12T15:16:29.725Z"
   },
   {
    "duration": 6,
    "start_time": "2022-04-12T15:16:29.766Z"
   },
   {
    "duration": 37,
    "start_time": "2022-04-12T15:16:29.773Z"
   },
   {
    "duration": 9,
    "start_time": "2022-04-12T15:16:29.812Z"
   },
   {
    "duration": 16,
    "start_time": "2022-04-12T15:16:29.823Z"
   },
   {
    "duration": 28,
    "start_time": "2022-04-12T15:16:29.841Z"
   },
   {
    "duration": 12,
    "start_time": "2022-04-12T15:16:29.871Z"
   },
   {
    "duration": 34,
    "start_time": "2022-04-12T15:16:29.884Z"
   },
   {
    "duration": 7,
    "start_time": "2022-04-12T15:16:29.920Z"
   },
   {
    "duration": 15,
    "start_time": "2022-04-12T15:16:29.928Z"
   },
   {
    "duration": 16,
    "start_time": "2022-04-12T15:16:29.945Z"
   },
   {
    "duration": 367,
    "start_time": "2022-04-12T15:16:29.962Z"
   },
   {
    "duration": 24,
    "start_time": "2022-04-12T15:16:30.331Z"
   },
   {
    "duration": 441,
    "start_time": "2022-04-12T15:16:30.357Z"
   },
   {
    "duration": 309,
    "start_time": "2022-04-12T15:16:30.800Z"
   },
   {
    "duration": 281,
    "start_time": "2022-04-12T15:16:31.111Z"
   },
   {
    "duration": 252,
    "start_time": "2022-04-12T15:16:31.393Z"
   },
   {
    "duration": 206,
    "start_time": "2022-04-12T15:16:31.647Z"
   },
   {
    "duration": 10,
    "start_time": "2022-04-12T15:16:31.855Z"
   },
   {
    "duration": 3,
    "start_time": "2022-04-12T15:16:31.868Z"
   },
   {
    "duration": 136,
    "start_time": "2022-04-12T15:16:31.873Z"
   },
   {
    "duration": 226,
    "start_time": "2022-04-12T15:16:32.011Z"
   },
   {
    "duration": 8,
    "start_time": "2022-04-12T15:16:32.239Z"
   },
   {
    "duration": 122,
    "start_time": "2022-04-12T15:16:32.249Z"
   },
   {
    "duration": 10,
    "start_time": "2022-04-12T15:16:32.372Z"
   },
   {
    "duration": 352,
    "start_time": "2022-04-12T15:16:32.383Z"
   },
   {
    "duration": 5,
    "start_time": "2022-04-12T15:16:32.737Z"
   },
   {
    "duration": 160,
    "start_time": "2022-04-12T15:16:32.744Z"
   },
   {
    "duration": 6,
    "start_time": "2022-04-12T15:16:32.905Z"
   },
   {
    "duration": 110,
    "start_time": "2022-04-12T15:16:32.912Z"
   },
   {
    "duration": 405,
    "start_time": "2022-04-12T15:16:33.024Z"
   },
   {
    "duration": 5,
    "start_time": "2022-04-12T15:16:33.430Z"
   },
   {
    "duration": 140,
    "start_time": "2022-04-12T15:16:33.437Z"
   },
   {
    "duration": 160,
    "start_time": "2022-04-12T15:16:33.579Z"
   },
   {
    "duration": 135,
    "start_time": "2022-04-12T15:16:33.741Z"
   },
   {
    "duration": 30,
    "start_time": "2022-04-12T15:16:33.879Z"
   },
   {
    "duration": 4,
    "start_time": "2022-04-12T15:16:33.911Z"
   },
   {
    "duration": 6,
    "start_time": "2022-04-12T15:16:33.916Z"
   },
   {
    "duration": 193,
    "start_time": "2022-04-12T15:16:33.923Z"
   },
   {
    "duration": 10,
    "start_time": "2022-04-12T15:16:34.117Z"
   },
   {
    "duration": 172,
    "start_time": "2022-04-12T15:16:34.128Z"
   },
   {
    "duration": 181,
    "start_time": "2022-04-12T15:16:34.307Z"
   },
   {
    "duration": 180,
    "start_time": "2022-04-12T15:16:34.490Z"
   },
   {
    "duration": 265,
    "start_time": "2022-04-12T15:16:34.672Z"
   },
   {
    "duration": 209,
    "start_time": "2022-04-12T15:16:34.939Z"
   },
   {
    "duration": 228,
    "start_time": "2022-04-12T15:16:35.149Z"
   },
   {
    "duration": 360,
    "start_time": "2022-04-12T15:16:35.379Z"
   },
   {
    "duration": 153,
    "start_time": "2022-04-12T15:16:35.740Z"
   },
   {
    "duration": 132,
    "start_time": "2022-04-12T15:16:35.895Z"
   },
   {
    "duration": 145,
    "start_time": "2022-04-12T15:16:36.029Z"
   },
   {
    "duration": 3,
    "start_time": "2022-04-12T15:44:27.947Z"
   },
   {
    "duration": 12,
    "start_time": "2022-04-12T15:44:31.239Z"
   },
   {
    "duration": 15,
    "start_time": "2022-04-12T15:44:32.259Z"
   },
   {
    "duration": 490,
    "start_time": "2022-04-12T15:44:56.951Z"
   },
   {
    "duration": 16,
    "start_time": "2022-04-12T15:44:57.443Z"
   },
   {
    "duration": 10,
    "start_time": "2022-04-12T15:44:57.460Z"
   },
   {
    "duration": 9,
    "start_time": "2022-04-12T15:44:57.472Z"
   },
   {
    "duration": 30,
    "start_time": "2022-04-12T15:44:57.482Z"
   },
   {
    "duration": 18,
    "start_time": "2022-04-12T15:44:57.514Z"
   },
   {
    "duration": 5,
    "start_time": "2022-04-12T15:44:57.533Z"
   },
   {
    "duration": 6,
    "start_time": "2022-04-12T15:44:57.539Z"
   },
   {
    "duration": 36,
    "start_time": "2022-04-12T15:44:57.547Z"
   },
   {
    "duration": 6,
    "start_time": "2022-04-12T15:44:57.607Z"
   },
   {
    "duration": 6,
    "start_time": "2022-04-12T15:44:57.614Z"
   },
   {
    "duration": 12,
    "start_time": "2022-04-12T15:44:57.622Z"
   },
   {
    "duration": 12,
    "start_time": "2022-04-12T15:44:57.635Z"
   },
   {
    "duration": 25,
    "start_time": "2022-04-12T15:44:57.649Z"
   },
   {
    "duration": 32,
    "start_time": "2022-04-12T15:44:57.676Z"
   },
   {
    "duration": 3,
    "start_time": "2022-04-12T15:44:57.710Z"
   },
   {
    "duration": 13,
    "start_time": "2022-04-12T15:44:57.714Z"
   },
   {
    "duration": 14,
    "start_time": "2022-04-12T15:44:57.729Z"
   },
   {
    "duration": 14,
    "start_time": "2022-04-12T15:44:57.745Z"
   },
   {
    "duration": 334,
    "start_time": "2022-04-12T15:44:57.761Z"
   },
   {
    "duration": 25,
    "start_time": "2022-04-12T15:44:58.096Z"
   },
   {
    "duration": 421,
    "start_time": "2022-04-12T15:44:58.123Z"
   },
   {
    "duration": 307,
    "start_time": "2022-04-12T15:44:58.546Z"
   },
   {
    "duration": 266,
    "start_time": "2022-04-12T15:44:58.854Z"
   },
   {
    "duration": 242,
    "start_time": "2022-04-12T15:44:59.121Z"
   },
   {
    "duration": 184,
    "start_time": "2022-04-12T15:44:59.365Z"
   },
   {
    "duration": 10,
    "start_time": "2022-04-12T15:44:59.550Z"
   },
   {
    "duration": 22,
    "start_time": "2022-04-12T15:44:59.564Z"
   },
   {
    "duration": 137,
    "start_time": "2022-04-12T15:44:59.588Z"
   },
   {
    "duration": 244,
    "start_time": "2022-04-12T15:44:59.726Z"
   },
   {
    "duration": 8,
    "start_time": "2022-04-12T15:44:59.972Z"
   },
   {
    "duration": 131,
    "start_time": "2022-04-12T15:44:59.981Z"
   },
   {
    "duration": 10,
    "start_time": "2022-04-12T15:45:00.114Z"
   },
   {
    "duration": 338,
    "start_time": "2022-04-12T15:45:00.125Z"
   },
   {
    "duration": 6,
    "start_time": "2022-04-12T15:45:00.465Z"
   },
   {
    "duration": 164,
    "start_time": "2022-04-12T15:45:00.472Z"
   },
   {
    "duration": 5,
    "start_time": "2022-04-12T15:45:00.638Z"
   },
   {
    "duration": 112,
    "start_time": "2022-04-12T15:45:00.645Z"
   },
   {
    "duration": 390,
    "start_time": "2022-04-12T15:45:00.759Z"
   },
   {
    "duration": 6,
    "start_time": "2022-04-12T15:45:01.151Z"
   },
   {
    "duration": 134,
    "start_time": "2022-04-12T15:45:01.159Z"
   },
   {
    "duration": 158,
    "start_time": "2022-04-12T15:45:01.294Z"
   },
   {
    "duration": 124,
    "start_time": "2022-04-12T15:45:01.454Z"
   },
   {
    "duration": 30,
    "start_time": "2022-04-12T15:45:01.580Z"
   },
   {
    "duration": 3,
    "start_time": "2022-04-12T15:45:01.611Z"
   },
   {
    "duration": 16,
    "start_time": "2022-04-12T15:45:01.616Z"
   },
   {
    "duration": 180,
    "start_time": "2022-04-12T15:45:01.634Z"
   },
   {
    "duration": 8,
    "start_time": "2022-04-12T15:45:01.816Z"
   },
   {
    "duration": 163,
    "start_time": "2022-04-12T15:45:01.826Z"
   },
   {
    "duration": 152,
    "start_time": "2022-04-12T15:45:01.991Z"
   },
   {
    "duration": 145,
    "start_time": "2022-04-12T15:45:02.145Z"
   },
   {
    "duration": 244,
    "start_time": "2022-04-12T15:45:02.292Z"
   },
   {
    "duration": 183,
    "start_time": "2022-04-12T15:45:02.538Z"
   },
   {
    "duration": 202,
    "start_time": "2022-04-12T15:45:02.722Z"
   },
   {
    "duration": 342,
    "start_time": "2022-04-12T15:45:02.926Z"
   },
   {
    "duration": 148,
    "start_time": "2022-04-12T15:45:03.270Z"
   },
   {
    "duration": 148,
    "start_time": "2022-04-12T15:45:03.420Z"
   },
   {
    "duration": 166,
    "start_time": "2022-04-12T15:45:03.569Z"
   },
   {
    "duration": 308,
    "start_time": "2022-04-12T15:53:55.512Z"
   },
   {
    "duration": 238,
    "start_time": "2022-04-12T15:55:28.332Z"
   },
   {
    "duration": 217,
    "start_time": "2022-04-12T16:03:10.325Z"
   },
   {
    "duration": 108,
    "start_time": "2022-04-12T16:03:40.877Z"
   },
   {
    "duration": 9,
    "start_time": "2022-04-12T16:04:18.016Z"
   },
   {
    "duration": 274,
    "start_time": "2022-04-12T16:04:38.973Z"
   },
   {
    "duration": 270,
    "start_time": "2022-04-12T16:08:57.313Z"
   },
   {
    "duration": 282,
    "start_time": "2022-04-12T16:09:03.185Z"
   },
   {
    "duration": 408,
    "start_time": "2022-04-12T16:09:11.058Z"
   },
   {
    "duration": 277,
    "start_time": "2022-04-12T16:09:25.166Z"
   },
   {
    "duration": 4,
    "start_time": "2022-04-12T16:12:32.737Z"
   },
   {
    "duration": 297,
    "start_time": "2022-04-12T16:13:04.785Z"
   },
   {
    "duration": 287,
    "start_time": "2022-04-12T16:14:46.797Z"
   },
   {
    "duration": 247,
    "start_time": "2022-04-12T16:15:15.533Z"
   },
   {
    "duration": 246,
    "start_time": "2022-04-12T16:15:43.677Z"
   },
   {
    "duration": 409,
    "start_time": "2022-04-12T16:16:21.100Z"
   },
   {
    "duration": 280,
    "start_time": "2022-04-12T16:16:40.344Z"
   },
   {
    "duration": 244,
    "start_time": "2022-04-12T16:17:30.693Z"
   },
   {
    "duration": 201,
    "start_time": "2022-04-12T16:19:07.178Z"
   },
   {
    "duration": 12,
    "start_time": "2022-04-12T16:19:20.954Z"
   },
   {
    "duration": 126,
    "start_time": "2022-04-12T16:24:22.895Z"
   },
   {
    "duration": 233,
    "start_time": "2022-04-12T16:43:35.787Z"
   },
   {
    "duration": 241,
    "start_time": "2022-04-12T16:44:23.947Z"
   },
   {
    "duration": 117,
    "start_time": "2022-04-12T16:49:56.109Z"
   },
   {
    "duration": 110,
    "start_time": "2022-04-12T16:50:07.212Z"
   },
   {
    "duration": 125,
    "start_time": "2022-04-12T16:50:20.996Z"
   },
   {
    "duration": 9,
    "start_time": "2022-04-12T16:50:40.308Z"
   },
   {
    "duration": 9,
    "start_time": "2022-04-12T16:50:53.315Z"
   },
   {
    "duration": 73,
    "start_time": "2022-04-12T16:52:24.120Z"
   },
   {
    "duration": 392,
    "start_time": "2022-04-12T16:54:18.804Z"
   },
   {
    "duration": 11,
    "start_time": "2022-04-12T16:54:55.723Z"
   },
   {
    "duration": 213,
    "start_time": "2022-04-12T16:55:31.748Z"
   },
   {
    "duration": 228,
    "start_time": "2022-04-12T16:55:45.424Z"
   },
   {
    "duration": 230,
    "start_time": "2022-04-12T16:55:53.739Z"
   },
   {
    "duration": 244,
    "start_time": "2022-04-12T16:55:58.068Z"
   },
   {
    "duration": 389,
    "start_time": "2022-04-12T16:57:08.109Z"
   },
   {
    "duration": 354,
    "start_time": "2022-04-12T16:57:25.616Z"
   },
   {
    "duration": 338,
    "start_time": "2022-04-12T16:57:38.365Z"
   },
   {
    "duration": 10,
    "start_time": "2022-04-12T16:58:02.076Z"
   },
   {
    "duration": 71,
    "start_time": "2022-04-14T15:07:34.023Z"
   },
   {
    "duration": 6,
    "start_time": "2022-04-14T15:08:48.299Z"
   },
   {
    "duration": 480,
    "start_time": "2022-04-14T15:13:56.449Z"
   },
   {
    "duration": 15,
    "start_time": "2022-04-14T15:13:56.932Z"
   },
   {
    "duration": 10,
    "start_time": "2022-04-14T15:13:56.949Z"
   },
   {
    "duration": 38,
    "start_time": "2022-04-14T15:13:56.962Z"
   },
   {
    "duration": 14,
    "start_time": "2022-04-14T15:13:57.001Z"
   },
   {
    "duration": 17,
    "start_time": "2022-04-14T15:13:57.016Z"
   },
   {
    "duration": 5,
    "start_time": "2022-04-14T15:13:57.035Z"
   },
   {
    "duration": 7,
    "start_time": "2022-04-14T15:13:57.041Z"
   },
   {
    "duration": 54,
    "start_time": "2022-04-14T15:13:57.050Z"
   },
   {
    "duration": 5,
    "start_time": "2022-04-14T15:13:57.107Z"
   },
   {
    "duration": 5,
    "start_time": "2022-04-14T15:13:57.114Z"
   },
   {
    "duration": 10,
    "start_time": "2022-04-14T15:13:57.121Z"
   },
   {
    "duration": 11,
    "start_time": "2022-04-14T15:13:57.132Z"
   },
   {
    "duration": 26,
    "start_time": "2022-04-14T15:13:57.144Z"
   },
   {
    "duration": 32,
    "start_time": "2022-04-14T15:13:57.171Z"
   },
   {
    "duration": 2,
    "start_time": "2022-04-14T15:13:57.204Z"
   },
   {
    "duration": 10,
    "start_time": "2022-04-14T15:13:57.208Z"
   },
   {
    "duration": 14,
    "start_time": "2022-04-14T15:13:57.219Z"
   },
   {
    "duration": 14,
    "start_time": "2022-04-14T15:13:57.234Z"
   },
   {
    "duration": 316,
    "start_time": "2022-04-14T15:13:57.249Z"
   },
   {
    "duration": 21,
    "start_time": "2022-04-14T15:13:57.567Z"
   },
   {
    "duration": 397,
    "start_time": "2022-04-14T15:13:57.589Z"
   },
   {
    "duration": 256,
    "start_time": "2022-04-14T15:13:57.988Z"
   },
   {
    "duration": 230,
    "start_time": "2022-04-14T15:13:58.246Z"
   },
   {
    "duration": 230,
    "start_time": "2022-04-14T15:13:58.478Z"
   },
   {
    "duration": 218,
    "start_time": "2022-04-14T15:13:58.710Z"
   },
   {
    "duration": 180,
    "start_time": "2022-04-14T15:13:58.930Z"
   },
   {
    "duration": 9,
    "start_time": "2022-04-14T15:13:59.114Z"
   },
   {
    "duration": 2,
    "start_time": "2022-04-14T15:13:59.125Z"
   },
   {
    "duration": 121,
    "start_time": "2022-04-14T15:13:59.129Z"
   },
   {
    "duration": 206,
    "start_time": "2022-04-14T15:13:59.252Z"
   },
   {
    "duration": 367,
    "start_time": "2022-04-14T15:13:59.459Z"
   },
   {
    "duration": 8,
    "start_time": "2022-04-14T15:13:59.827Z"
   },
   {
    "duration": 9,
    "start_time": "2022-04-14T15:13:59.836Z"
   },
   {
    "duration": 7,
    "start_time": "2022-04-14T15:13:59.846Z"
   },
   {
    "duration": 94,
    "start_time": "2022-04-14T15:13:59.854Z"
   },
   {
    "duration": 0,
    "start_time": "2022-04-14T15:13:59.950Z"
   },
   {
    "duration": 0,
    "start_time": "2022-04-14T15:13:59.951Z"
   },
   {
    "duration": 0,
    "start_time": "2022-04-14T15:13:59.952Z"
   },
   {
    "duration": 0,
    "start_time": "2022-04-14T15:13:59.953Z"
   },
   {
    "duration": 0,
    "start_time": "2022-04-14T15:13:59.954Z"
   },
   {
    "duration": 0,
    "start_time": "2022-04-14T15:13:59.955Z"
   },
   {
    "duration": 0,
    "start_time": "2022-04-14T15:13:59.955Z"
   },
   {
    "duration": 0,
    "start_time": "2022-04-14T15:13:59.956Z"
   },
   {
    "duration": 0,
    "start_time": "2022-04-14T15:13:59.957Z"
   },
   {
    "duration": 0,
    "start_time": "2022-04-14T15:13:59.958Z"
   },
   {
    "duration": 0,
    "start_time": "2022-04-14T15:13:59.958Z"
   },
   {
    "duration": 0,
    "start_time": "2022-04-14T15:13:59.959Z"
   },
   {
    "duration": 0,
    "start_time": "2022-04-14T15:13:59.960Z"
   },
   {
    "duration": 0,
    "start_time": "2022-04-14T15:13:59.961Z"
   },
   {
    "duration": 0,
    "start_time": "2022-04-14T15:13:59.962Z"
   },
   {
    "duration": 0,
    "start_time": "2022-04-14T15:13:59.962Z"
   },
   {
    "duration": 0,
    "start_time": "2022-04-14T15:13:59.963Z"
   },
   {
    "duration": 0,
    "start_time": "2022-04-14T15:13:59.964Z"
   },
   {
    "duration": 0,
    "start_time": "2022-04-14T15:13:59.965Z"
   },
   {
    "duration": 0,
    "start_time": "2022-04-14T15:13:59.965Z"
   },
   {
    "duration": 0,
    "start_time": "2022-04-14T15:13:59.966Z"
   },
   {
    "duration": 0,
    "start_time": "2022-04-14T15:13:59.967Z"
   },
   {
    "duration": 0,
    "start_time": "2022-04-14T15:13:59.968Z"
   },
   {
    "duration": 0,
    "start_time": "2022-04-14T15:13:59.969Z"
   },
   {
    "duration": 0,
    "start_time": "2022-04-14T15:13:59.970Z"
   },
   {
    "duration": 0,
    "start_time": "2022-04-14T15:13:59.971Z"
   },
   {
    "duration": 0,
    "start_time": "2022-04-14T15:13:59.972Z"
   },
   {
    "duration": 0,
    "start_time": "2022-04-14T15:13:59.972Z"
   },
   {
    "duration": 207,
    "start_time": "2022-04-14T15:18:30.435Z"
   },
   {
    "duration": 10,
    "start_time": "2022-04-14T15:24:09.845Z"
   },
   {
    "duration": 8,
    "start_time": "2022-04-14T15:24:13.969Z"
   },
   {
    "duration": 527,
    "start_time": "2022-04-14T15:24:59.314Z"
   },
   {
    "duration": 12,
    "start_time": "2022-04-14T15:24:59.843Z"
   },
   {
    "duration": 10,
    "start_time": "2022-04-14T15:24:59.857Z"
   },
   {
    "duration": 8,
    "start_time": "2022-04-14T15:24:59.869Z"
   },
   {
    "duration": 34,
    "start_time": "2022-04-14T15:24:59.879Z"
   },
   {
    "duration": 18,
    "start_time": "2022-04-14T15:24:59.914Z"
   },
   {
    "duration": 4,
    "start_time": "2022-04-14T15:24:59.934Z"
   },
   {
    "duration": 6,
    "start_time": "2022-04-14T15:24:59.940Z"
   },
   {
    "duration": 59,
    "start_time": "2022-04-14T15:24:59.947Z"
   },
   {
    "duration": 10,
    "start_time": "2022-04-14T15:25:00.009Z"
   },
   {
    "duration": 14,
    "start_time": "2022-04-14T15:25:00.021Z"
   },
   {
    "duration": 16,
    "start_time": "2022-04-14T15:25:00.036Z"
   },
   {
    "duration": 18,
    "start_time": "2022-04-14T15:25:00.053Z"
   },
   {
    "duration": 26,
    "start_time": "2022-04-14T15:25:00.072Z"
   },
   {
    "duration": 14,
    "start_time": "2022-04-14T15:25:00.099Z"
   },
   {
    "duration": 13,
    "start_time": "2022-04-14T15:25:00.114Z"
   },
   {
    "duration": 18,
    "start_time": "2022-04-14T15:25:00.128Z"
   },
   {
    "duration": 17,
    "start_time": "2022-04-14T15:25:00.147Z"
   },
   {
    "duration": 20,
    "start_time": "2022-04-14T15:25:00.165Z"
   },
   {
    "duration": 337,
    "start_time": "2022-04-14T15:25:00.186Z"
   },
   {
    "duration": 21,
    "start_time": "2022-04-14T15:25:00.525Z"
   },
   {
    "duration": 275,
    "start_time": "2022-04-14T15:25:00.548Z"
   },
   {
    "duration": 226,
    "start_time": "2022-04-14T15:25:00.824Z"
   },
   {
    "duration": 289,
    "start_time": "2022-04-14T15:25:01.052Z"
   },
   {
    "duration": 247,
    "start_time": "2022-04-14T15:25:01.343Z"
   },
   {
    "duration": 228,
    "start_time": "2022-04-14T15:25:01.592Z"
   },
   {
    "duration": 167,
    "start_time": "2022-04-14T15:25:01.822Z"
   },
   {
    "duration": 17,
    "start_time": "2022-04-14T15:25:01.993Z"
   },
   {
    "duration": 17,
    "start_time": "2022-04-14T15:25:02.011Z"
   },
   {
    "duration": 110,
    "start_time": "2022-04-14T15:25:02.029Z"
   },
   {
    "duration": 221,
    "start_time": "2022-04-14T15:25:02.141Z"
   },
   {
    "duration": 391,
    "start_time": "2022-04-14T15:25:02.364Z"
   },
   {
    "duration": 9,
    "start_time": "2022-04-14T15:25:02.756Z"
   },
   {
    "duration": 7,
    "start_time": "2022-04-14T15:25:02.767Z"
   },
   {
    "duration": 34,
    "start_time": "2022-04-14T15:25:02.775Z"
   },
   {
    "duration": 11,
    "start_time": "2022-04-14T15:25:02.810Z"
   },
   {
    "duration": 10,
    "start_time": "2022-04-14T15:25:02.823Z"
   },
   {
    "duration": 114,
    "start_time": "2022-04-14T15:25:02.834Z"
   },
   {
    "duration": 10,
    "start_time": "2022-04-14T15:25:02.950Z"
   },
   {
    "duration": 287,
    "start_time": "2022-04-14T15:25:02.962Z"
   },
   {
    "duration": 6,
    "start_time": "2022-04-14T15:25:03.250Z"
   },
   {
    "duration": 146,
    "start_time": "2022-04-14T15:25:03.257Z"
   },
   {
    "duration": 8,
    "start_time": "2022-04-14T15:25:03.405Z"
   },
   {
    "duration": 106,
    "start_time": "2022-04-14T15:25:03.414Z"
   },
   {
    "duration": 338,
    "start_time": "2022-04-14T15:25:03.522Z"
   },
   {
    "duration": 6,
    "start_time": "2022-04-14T15:25:03.861Z"
   },
   {
    "duration": 120,
    "start_time": "2022-04-14T15:25:03.868Z"
   },
   {
    "duration": 138,
    "start_time": "2022-04-14T15:25:03.990Z"
   },
   {
    "duration": 115,
    "start_time": "2022-04-14T15:25:04.130Z"
   },
   {
    "duration": 20,
    "start_time": "2022-04-14T15:25:04.246Z"
   },
   {
    "duration": 3,
    "start_time": "2022-04-14T15:25:04.268Z"
   },
   {
    "duration": 85,
    "start_time": "2022-04-14T15:25:04.272Z"
   },
   {
    "duration": 0,
    "start_time": "2022-04-14T15:25:04.358Z"
   },
   {
    "duration": 0,
    "start_time": "2022-04-14T15:25:04.359Z"
   },
   {
    "duration": 0,
    "start_time": "2022-04-14T15:25:04.360Z"
   },
   {
    "duration": 0,
    "start_time": "2022-04-14T15:25:04.361Z"
   },
   {
    "duration": 0,
    "start_time": "2022-04-14T15:25:04.362Z"
   },
   {
    "duration": 1,
    "start_time": "2022-04-14T15:25:04.362Z"
   },
   {
    "duration": 0,
    "start_time": "2022-04-14T15:25:04.363Z"
   },
   {
    "duration": 0,
    "start_time": "2022-04-14T15:25:04.364Z"
   },
   {
    "duration": 0,
    "start_time": "2022-04-14T15:25:04.365Z"
   },
   {
    "duration": 0,
    "start_time": "2022-04-14T15:25:04.366Z"
   },
   {
    "duration": 0,
    "start_time": "2022-04-14T15:25:04.367Z"
   },
   {
    "duration": 0,
    "start_time": "2022-04-14T15:25:04.368Z"
   },
   {
    "duration": 41,
    "start_time": "2022-04-14T15:25:30.922Z"
   },
   {
    "duration": 8,
    "start_time": "2022-04-14T15:26:48.282Z"
   },
   {
    "duration": 204,
    "start_time": "2022-04-14T15:28:01.279Z"
   },
   {
    "duration": 213,
    "start_time": "2022-04-14T15:29:22.823Z"
   },
   {
    "duration": 9,
    "start_time": "2022-04-14T15:29:37.123Z"
   },
   {
    "duration": 8,
    "start_time": "2022-04-14T15:29:56.767Z"
   },
   {
    "duration": 8,
    "start_time": "2022-04-14T15:30:09.747Z"
   },
   {
    "duration": 97,
    "start_time": "2022-04-14T15:30:39.164Z"
   },
   {
    "duration": 9,
    "start_time": "2022-04-14T15:31:17.888Z"
   },
   {
    "duration": 94,
    "start_time": "2022-04-14T15:31:22.064Z"
   },
   {
    "duration": 11,
    "start_time": "2022-04-14T15:36:35.673Z"
   },
   {
    "duration": 8,
    "start_time": "2022-04-14T15:41:41.392Z"
   },
   {
    "duration": 8,
    "start_time": "2022-04-14T15:41:46.136Z"
   },
   {
    "duration": 104,
    "start_time": "2022-04-14T15:41:52.052Z"
   },
   {
    "duration": 8,
    "start_time": "2022-04-14T15:42:09.640Z"
   },
   {
    "duration": 8,
    "start_time": "2022-04-14T15:42:25.485Z"
   },
   {
    "duration": 175,
    "start_time": "2022-04-14T15:42:27.756Z"
   },
   {
    "duration": 9,
    "start_time": "2022-04-14T15:42:47.181Z"
   },
   {
    "duration": 243,
    "start_time": "2022-04-14T15:42:47.932Z"
   },
   {
    "duration": 5,
    "start_time": "2022-04-14T15:42:56.280Z"
   },
   {
    "duration": 142,
    "start_time": "2022-04-14T15:43:12.152Z"
   },
   {
    "duration": 5,
    "start_time": "2022-04-14T15:43:17.313Z"
   },
   {
    "duration": 89,
    "start_time": "2022-04-14T15:44:28.365Z"
   },
   {
    "duration": 318,
    "start_time": "2022-04-14T15:44:49.537Z"
   },
   {
    "duration": 361,
    "start_time": "2022-04-14T15:46:01.362Z"
   },
   {
    "duration": 6,
    "start_time": "2022-04-14T15:46:05.862Z"
   },
   {
    "duration": 105,
    "start_time": "2022-04-14T15:46:48.026Z"
   },
   {
    "duration": 116,
    "start_time": "2022-04-14T15:47:06.570Z"
   },
   {
    "duration": 129,
    "start_time": "2022-04-14T15:47:31.242Z"
   },
   {
    "duration": 117,
    "start_time": "2022-04-14T15:47:53.201Z"
   },
   {
    "duration": 11,
    "start_time": "2022-04-14T15:53:06.416Z"
   },
   {
    "duration": 11,
    "start_time": "2022-04-14T15:57:10.257Z"
   },
   {
    "duration": 0,
    "start_time": "2022-04-14T15:57:51.740Z"
   },
   {
    "duration": 25257,
    "start_time": "2022-04-14T15:58:35.382Z"
   },
   {
    "duration": 26396,
    "start_time": "2022-04-14T15:59:43.366Z"
   },
   {
    "duration": 7,
    "start_time": "2022-04-14T16:02:17.259Z"
   },
   {
    "duration": 12,
    "start_time": "2022-04-14T16:02:23.830Z"
   },
   {
    "duration": 415,
    "start_time": "2022-04-14T16:02:40.413Z"
   },
   {
    "duration": 542,
    "start_time": "2022-04-14T16:16:19.623Z"
   },
   {
    "duration": 13,
    "start_time": "2022-04-14T16:16:20.167Z"
   },
   {
    "duration": 23,
    "start_time": "2022-04-14T16:16:20.181Z"
   },
   {
    "duration": 10,
    "start_time": "2022-04-14T16:16:20.207Z"
   },
   {
    "duration": 22,
    "start_time": "2022-04-14T16:16:20.218Z"
   },
   {
    "duration": 16,
    "start_time": "2022-04-14T16:16:20.242Z"
   },
   {
    "duration": 4,
    "start_time": "2022-04-14T16:16:20.260Z"
   },
   {
    "duration": 11,
    "start_time": "2022-04-14T16:16:20.265Z"
   },
   {
    "duration": 48,
    "start_time": "2022-04-14T16:16:20.277Z"
   },
   {
    "duration": 5,
    "start_time": "2022-04-14T16:16:20.327Z"
   },
   {
    "duration": 6,
    "start_time": "2022-04-14T16:16:20.333Z"
   },
   {
    "duration": 8,
    "start_time": "2022-04-14T16:16:20.341Z"
   },
   {
    "duration": 14,
    "start_time": "2022-04-14T16:16:20.350Z"
   },
   {
    "duration": 52,
    "start_time": "2022-04-14T16:16:20.365Z"
   },
   {
    "duration": 14,
    "start_time": "2022-04-14T16:16:20.419Z"
   },
   {
    "duration": 2,
    "start_time": "2022-04-14T16:16:20.434Z"
   },
   {
    "duration": 11,
    "start_time": "2022-04-14T16:16:20.438Z"
   },
   {
    "duration": 14,
    "start_time": "2022-04-14T16:16:20.450Z"
   },
   {
    "duration": 13,
    "start_time": "2022-04-14T16:16:20.466Z"
   },
   {
    "duration": 339,
    "start_time": "2022-04-14T16:16:20.481Z"
   },
   {
    "duration": 22,
    "start_time": "2022-04-14T16:16:20.822Z"
   },
   {
    "duration": 243,
    "start_time": "2022-04-14T16:16:20.845Z"
   },
   {
    "duration": 228,
    "start_time": "2022-04-14T16:16:21.090Z"
   },
   {
    "duration": 262,
    "start_time": "2022-04-14T16:16:21.320Z"
   },
   {
    "duration": 331,
    "start_time": "2022-04-14T16:16:21.584Z"
   },
   {
    "duration": 222,
    "start_time": "2022-04-14T16:16:21.917Z"
   },
   {
    "duration": 175,
    "start_time": "2022-04-14T16:16:22.141Z"
   },
   {
    "duration": 9,
    "start_time": "2022-04-14T16:16:22.321Z"
   },
   {
    "duration": 3,
    "start_time": "2022-04-14T16:16:22.331Z"
   },
   {
    "duration": 126,
    "start_time": "2022-04-14T16:16:22.336Z"
   },
   {
    "duration": 224,
    "start_time": "2022-04-14T16:16:22.464Z"
   },
   {
    "duration": 394,
    "start_time": "2022-04-14T16:16:22.689Z"
   },
   {
    "duration": 28,
    "start_time": "2022-04-14T16:16:23.084Z"
   },
   {
    "duration": 9,
    "start_time": "2022-04-14T16:16:23.114Z"
   },
   {
    "duration": 7,
    "start_time": "2022-04-14T16:16:23.124Z"
   },
   {
    "duration": 10,
    "start_time": "2022-04-14T16:16:23.132Z"
   },
   {
    "duration": 8,
    "start_time": "2022-04-14T16:16:23.143Z"
   },
   {
    "duration": 121,
    "start_time": "2022-04-14T16:16:23.152Z"
   },
   {
    "duration": 10,
    "start_time": "2022-04-14T16:16:23.274Z"
   },
   {
    "duration": 287,
    "start_time": "2022-04-14T16:16:23.286Z"
   },
   {
    "duration": 5,
    "start_time": "2022-04-14T16:16:23.575Z"
   },
   {
    "duration": 145,
    "start_time": "2022-04-14T16:16:23.582Z"
   },
   {
    "duration": 4,
    "start_time": "2022-04-14T16:16:23.729Z"
   },
   {
    "duration": 96,
    "start_time": "2022-04-14T16:16:23.734Z"
   },
   {
    "duration": 390,
    "start_time": "2022-04-14T16:16:23.832Z"
   },
   {
    "duration": 5,
    "start_time": "2022-04-14T16:16:24.223Z"
   },
   {
    "duration": 126,
    "start_time": "2022-04-14T16:16:24.230Z"
   },
   {
    "duration": 132,
    "start_time": "2022-04-14T16:16:24.358Z"
   },
   {
    "duration": 126,
    "start_time": "2022-04-14T16:16:24.492Z"
   },
   {
    "duration": 10,
    "start_time": "2022-04-14T16:16:24.620Z"
   },
   {
    "duration": 85,
    "start_time": "2022-04-14T16:16:24.632Z"
   },
   {
    "duration": 0,
    "start_time": "2022-04-14T16:16:24.719Z"
   },
   {
    "duration": 0,
    "start_time": "2022-04-14T16:16:24.720Z"
   },
   {
    "duration": 0,
    "start_time": "2022-04-14T16:16:24.721Z"
   },
   {
    "duration": 0,
    "start_time": "2022-04-14T16:16:24.722Z"
   },
   {
    "duration": 0,
    "start_time": "2022-04-14T16:16:24.723Z"
   },
   {
    "duration": 0,
    "start_time": "2022-04-14T16:16:24.724Z"
   },
   {
    "duration": 0,
    "start_time": "2022-04-14T16:16:24.725Z"
   },
   {
    "duration": 0,
    "start_time": "2022-04-14T16:16:24.726Z"
   },
   {
    "duration": 0,
    "start_time": "2022-04-14T16:16:24.727Z"
   },
   {
    "duration": 0,
    "start_time": "2022-04-14T16:16:24.728Z"
   },
   {
    "duration": 0,
    "start_time": "2022-04-14T16:16:24.729Z"
   },
   {
    "duration": 0,
    "start_time": "2022-04-14T16:16:24.730Z"
   },
   {
    "duration": 0,
    "start_time": "2022-04-14T16:16:24.731Z"
   },
   {
    "duration": 0,
    "start_time": "2022-04-14T16:16:24.732Z"
   },
   {
    "duration": 0,
    "start_time": "2022-04-14T16:16:24.733Z"
   },
   {
    "duration": 0,
    "start_time": "2022-04-14T16:16:24.734Z"
   },
   {
    "duration": 16,
    "start_time": "2022-04-14T16:16:54.888Z"
   },
   {
    "duration": 10,
    "start_time": "2022-04-14T16:17:31.572Z"
   },
   {
    "duration": 513,
    "start_time": "2022-04-14T16:17:40.307Z"
   },
   {
    "duration": 393,
    "start_time": "2022-04-14T16:18:56.324Z"
   },
   {
    "duration": 416,
    "start_time": "2022-04-14T16:19:05.021Z"
   },
   {
    "duration": 536,
    "start_time": "2022-04-14T16:19:16.360Z"
   },
   {
    "duration": 15,
    "start_time": "2022-04-14T16:20:21.845Z"
   },
   {
    "duration": 11,
    "start_time": "2022-04-14T16:22:27.865Z"
   },
   {
    "duration": 788,
    "start_time": "2022-04-14T16:22:28.858Z"
   },
   {
    "duration": 16,
    "start_time": "2022-04-14T16:24:45.302Z"
   },
   {
    "duration": 15,
    "start_time": "2022-04-14T16:25:33.479Z"
   },
   {
    "duration": 197,
    "start_time": "2022-04-14T16:28:13.304Z"
   },
   {
    "duration": 16,
    "start_time": "2022-04-14T16:28:23.084Z"
   },
   {
    "duration": 17,
    "start_time": "2022-04-14T16:32:38.801Z"
   },
   {
    "duration": 548,
    "start_time": "2022-04-14T16:32:39.608Z"
   },
   {
    "duration": 230,
    "start_time": "2022-04-14T16:36:38.122Z"
   },
   {
    "duration": 5,
    "start_time": "2022-04-14T16:36:43.763Z"
   },
   {
    "duration": 6,
    "start_time": "2022-04-14T16:37:01.239Z"
   },
   {
    "duration": 7,
    "start_time": "2022-04-14T16:45:26.106Z"
   },
   {
    "duration": 579,
    "start_time": "2022-04-14T16:45:42.174Z"
   },
   {
    "duration": 630,
    "start_time": "2022-04-14T16:45:42.850Z"
   },
   {
    "duration": 698,
    "start_time": "2022-04-14T16:46:46.454Z"
   },
   {
    "duration": 21,
    "start_time": "2022-04-14T16:47:36.786Z"
   },
   {
    "duration": 5,
    "start_time": "2022-04-14T16:52:02.209Z"
   },
   {
    "duration": 4,
    "start_time": "2022-04-14T16:52:11.206Z"
   },
   {
    "duration": 275,
    "start_time": "2022-04-14T16:52:14.265Z"
   },
   {
    "duration": 13,
    "start_time": "2022-04-14T16:54:06.230Z"
   },
   {
    "duration": 124,
    "start_time": "2022-04-14T16:55:35.034Z"
   },
   {
    "duration": 135,
    "start_time": "2022-04-14T16:56:31.122Z"
   },
   {
    "duration": 211,
    "start_time": "2022-04-14T16:56:53.967Z"
   },
   {
    "duration": 144,
    "start_time": "2022-04-14T16:57:01.900Z"
   },
   {
    "duration": 161,
    "start_time": "2022-04-14T16:57:27.118Z"
   },
   {
    "duration": 166,
    "start_time": "2022-04-14T16:58:20.966Z"
   },
   {
    "duration": 182,
    "start_time": "2022-04-14T16:58:42.786Z"
   },
   {
    "duration": 199,
    "start_time": "2022-04-14T17:00:31.280Z"
   },
   {
    "duration": 313,
    "start_time": "2022-04-14T17:00:40.823Z"
   },
   {
    "duration": 143,
    "start_time": "2022-04-14T17:01:47.776Z"
   },
   {
    "duration": 118,
    "start_time": "2022-04-14T17:02:05.952Z"
   },
   {
    "duration": 119,
    "start_time": "2022-04-14T17:02:25.212Z"
   },
   {
    "duration": 331,
    "start_time": "2022-04-14T17:36:19.221Z"
   },
   {
    "duration": 1385,
    "start_time": "2022-04-30T17:43:45.911Z"
   },
   {
    "duration": 516,
    "start_time": "2022-04-30T17:43:47.299Z"
   },
   {
    "duration": 21,
    "start_time": "2022-04-30T17:43:47.818Z"
   },
   {
    "duration": 33,
    "start_time": "2022-04-30T17:43:47.843Z"
   },
   {
    "duration": 11,
    "start_time": "2022-04-30T17:43:47.878Z"
   },
   {
    "duration": 47,
    "start_time": "2022-04-30T17:43:47.892Z"
   },
   {
    "duration": 12,
    "start_time": "2022-04-30T17:43:47.941Z"
   },
   {
    "duration": 26,
    "start_time": "2022-04-30T17:43:47.955Z"
   },
   {
    "duration": 14,
    "start_time": "2022-04-30T17:43:47.983Z"
   },
   {
    "duration": 31,
    "start_time": "2022-04-30T17:43:48.027Z"
   },
   {
    "duration": 18,
    "start_time": "2022-04-30T17:43:48.060Z"
   },
   {
    "duration": 49,
    "start_time": "2022-04-30T17:43:48.080Z"
   },
   {
    "duration": 120,
    "start_time": "2022-04-30T17:43:48.131Z"
   },
   {
    "duration": 141,
    "start_time": "2022-04-30T17:43:48.253Z"
   },
   {
    "duration": 79,
    "start_time": "2022-04-30T17:43:48.396Z"
   },
   {
    "duration": 118,
    "start_time": "2022-04-30T17:43:48.477Z"
   },
   {
    "duration": 9,
    "start_time": "2022-04-30T17:43:48.597Z"
   },
   {
    "duration": 21,
    "start_time": "2022-04-30T17:43:48.608Z"
   },
   {
    "duration": 35,
    "start_time": "2022-04-30T17:43:48.631Z"
   },
   {
    "duration": 15,
    "start_time": "2022-04-30T17:43:48.669Z"
   },
   {
    "duration": 55,
    "start_time": "2022-04-30T17:43:48.686Z"
   },
   {
    "duration": 23,
    "start_time": "2022-04-30T17:43:48.744Z"
   },
   {
    "duration": 72,
    "start_time": "2022-04-30T17:43:48.770Z"
   },
   {
    "duration": 49,
    "start_time": "2022-04-30T17:43:48.845Z"
   },
   {
    "duration": 44,
    "start_time": "2022-04-30T17:43:48.896Z"
   },
   {
    "duration": 37,
    "start_time": "2022-04-30T17:43:48.942Z"
   },
   {
    "duration": 69,
    "start_time": "2022-04-30T17:43:48.982Z"
   },
   {
    "duration": 33,
    "start_time": "2022-04-30T17:43:49.058Z"
   },
   {
    "duration": 73,
    "start_time": "2022-04-30T17:43:49.094Z"
   },
   {
    "duration": 29,
    "start_time": "2022-04-30T17:43:49.169Z"
   },
   {
    "duration": 17,
    "start_time": "2022-04-30T17:43:49.225Z"
   },
   {
    "duration": 33,
    "start_time": "2022-04-30T17:43:49.245Z"
   },
   {
    "duration": 11,
    "start_time": "2022-04-30T17:43:49.281Z"
   },
   {
    "duration": 20,
    "start_time": "2022-04-30T17:43:49.327Z"
   },
   {
    "duration": 4,
    "start_time": "2022-04-30T17:43:49.350Z"
   },
   {
    "duration": 8,
    "start_time": "2022-04-30T17:43:49.356Z"
   },
   {
    "duration": 10,
    "start_time": "2022-04-30T17:43:49.366Z"
   },
   {
    "duration": 5,
    "start_time": "2022-04-30T17:43:49.379Z"
   },
   {
    "duration": 254,
    "start_time": "2022-04-30T17:43:49.387Z"
   },
   {
    "duration": 39,
    "start_time": "2022-04-30T17:43:49.643Z"
   },
   {
    "duration": 1597,
    "start_time": "2022-04-30T17:43:49.684Z"
   },
   {
    "duration": 8,
    "start_time": "2022-04-30T17:43:51.284Z"
   },
   {
    "duration": 33,
    "start_time": "2022-04-30T17:43:51.294Z"
   },
   {
    "duration": 75,
    "start_time": "2022-04-30T17:43:51.330Z"
   },
   {
    "duration": 431,
    "start_time": "2022-04-30T17:43:51.407Z"
   },
   {
    "duration": 16,
    "start_time": "2022-04-30T17:43:51.841Z"
   },
   {
    "duration": 336,
    "start_time": "2022-04-30T17:43:51.860Z"
   },
   {
    "duration": 28,
    "start_time": "2022-04-30T17:43:52.199Z"
   },
   {
    "duration": 311,
    "start_time": "2022-04-30T17:43:52.230Z"
   },
   {
    "duration": 15,
    "start_time": "2022-04-30T17:43:52.544Z"
   },
   {
    "duration": 351,
    "start_time": "2022-04-30T17:43:52.562Z"
   },
   {
    "duration": 25,
    "start_time": "2022-04-30T17:43:52.915Z"
   },
   {
    "duration": 12,
    "start_time": "2022-04-30T17:43:52.943Z"
   },
   {
    "duration": 105,
    "start_time": "2022-04-30T17:45:50.725Z"
   },
   {
    "duration": 101,
    "start_time": "2022-04-30T17:48:27.997Z"
   },
   {
    "duration": 109,
    "start_time": "2022-04-30T17:57:56.750Z"
   },
   {
    "duration": 101,
    "start_time": "2022-04-30T17:59:02.101Z"
   },
   {
    "duration": 42,
    "start_time": "2022-04-30T18:16:31.691Z"
   },
   {
    "duration": 107,
    "start_time": "2022-04-30T18:18:46.033Z"
   },
   {
    "duration": 59,
    "start_time": "2022-04-30T18:23:38.556Z"
   },
   {
    "duration": 8,
    "start_time": "2022-04-30T18:23:53.825Z"
   },
   {
    "duration": 571,
    "start_time": "2022-04-30T18:26:43.567Z"
   },
   {
    "duration": 153,
    "start_time": "2022-04-30T18:29:25.582Z"
   },
   {
    "duration": 6,
    "start_time": "2022-04-30T18:30:42.997Z"
   },
   {
    "duration": 105,
    "start_time": "2022-04-30T18:35:27.898Z"
   },
   {
    "duration": 139,
    "start_time": "2022-04-30T18:41:21.750Z"
   },
   {
    "duration": 108,
    "start_time": "2022-04-30T18:43:43.718Z"
   },
   {
    "duration": 114,
    "start_time": "2022-04-30T18:46:04.801Z"
   },
   {
    "duration": 98,
    "start_time": "2022-04-30T18:49:14.095Z"
   },
   {
    "duration": 115,
    "start_time": "2022-04-30T18:50:20.921Z"
   },
   {
    "duration": 126,
    "start_time": "2022-04-30T18:53:37.751Z"
   },
   {
    "duration": 53,
    "start_time": "2022-05-04T14:36:33.817Z"
   },
   {
    "duration": 7,
    "start_time": "2022-05-04T14:37:11.765Z"
   },
   {
    "duration": 1366,
    "start_time": "2022-05-04T14:37:20.260Z"
   },
   {
    "duration": 437,
    "start_time": "2022-05-04T14:37:21.628Z"
   },
   {
    "duration": 19,
    "start_time": "2022-05-04T14:37:22.067Z"
   },
   {
    "duration": 34,
    "start_time": "2022-05-04T14:37:22.089Z"
   },
   {
    "duration": 9,
    "start_time": "2022-05-04T14:37:22.125Z"
   },
   {
    "duration": 12,
    "start_time": "2022-05-04T14:37:22.136Z"
   },
   {
    "duration": 16,
    "start_time": "2022-05-04T14:37:22.150Z"
   },
   {
    "duration": 48,
    "start_time": "2022-05-04T14:37:22.168Z"
   },
   {
    "duration": 11,
    "start_time": "2022-05-04T14:37:22.220Z"
   },
   {
    "duration": 24,
    "start_time": "2022-05-04T14:37:22.234Z"
   },
   {
    "duration": 12,
    "start_time": "2022-05-04T14:37:22.260Z"
   },
   {
    "duration": 12,
    "start_time": "2022-05-04T14:37:22.273Z"
   },
   {
    "duration": 85,
    "start_time": "2022-05-04T14:37:22.308Z"
   },
   {
    "duration": 133,
    "start_time": "2022-05-04T14:37:22.394Z"
   },
   {
    "duration": 50,
    "start_time": "2022-05-04T14:37:22.529Z"
   },
   {
    "duration": 94,
    "start_time": "2022-05-04T14:37:22.581Z"
   },
   {
    "duration": 8,
    "start_time": "2022-05-04T14:37:22.677Z"
   },
   {
    "duration": 4,
    "start_time": "2022-05-04T14:37:22.687Z"
   },
   {
    "duration": 27,
    "start_time": "2022-05-04T14:37:22.709Z"
   },
   {
    "duration": 11,
    "start_time": "2022-05-04T14:37:22.738Z"
   },
   {
    "duration": 21,
    "start_time": "2022-05-04T14:37:22.751Z"
   },
   {
    "duration": 49,
    "start_time": "2022-05-04T14:37:22.774Z"
   },
   {
    "duration": 36,
    "start_time": "2022-05-04T14:37:22.825Z"
   },
   {
    "duration": 60,
    "start_time": "2022-05-04T14:37:22.863Z"
   },
   {
    "duration": 16,
    "start_time": "2022-05-04T14:37:22.925Z"
   },
   {
    "duration": 27,
    "start_time": "2022-05-04T14:37:22.942Z"
   },
   {
    "duration": 51,
    "start_time": "2022-05-04T14:37:22.971Z"
   },
   {
    "duration": 26,
    "start_time": "2022-05-04T14:37:23.026Z"
   },
   {
    "duration": 35,
    "start_time": "2022-05-04T14:37:23.054Z"
   },
   {
    "duration": 1210,
    "start_time": "2022-05-04T14:37:23.110Z"
   },
   {
    "duration": 0,
    "start_time": "2022-05-04T14:37:24.322Z"
   },
   {
    "duration": 0,
    "start_time": "2022-05-04T14:37:24.323Z"
   },
   {
    "duration": 0,
    "start_time": "2022-05-04T14:37:24.325Z"
   },
   {
    "duration": 0,
    "start_time": "2022-05-04T14:37:24.326Z"
   },
   {
    "duration": 0,
    "start_time": "2022-05-04T14:37:24.327Z"
   },
   {
    "duration": 0,
    "start_time": "2022-05-04T14:37:24.328Z"
   },
   {
    "duration": 0,
    "start_time": "2022-05-04T14:37:24.329Z"
   },
   {
    "duration": 0,
    "start_time": "2022-05-04T14:37:24.330Z"
   },
   {
    "duration": 0,
    "start_time": "2022-05-04T14:37:24.331Z"
   },
   {
    "duration": 0,
    "start_time": "2022-05-04T14:37:24.332Z"
   },
   {
    "duration": 0,
    "start_time": "2022-05-04T14:37:24.334Z"
   },
   {
    "duration": 0,
    "start_time": "2022-05-04T14:37:24.335Z"
   },
   {
    "duration": 0,
    "start_time": "2022-05-04T14:37:24.336Z"
   },
   {
    "duration": 0,
    "start_time": "2022-05-04T14:37:24.337Z"
   },
   {
    "duration": 0,
    "start_time": "2022-05-04T14:37:24.339Z"
   },
   {
    "duration": 0,
    "start_time": "2022-05-04T14:37:24.339Z"
   },
   {
    "duration": 0,
    "start_time": "2022-05-04T14:37:24.341Z"
   },
   {
    "duration": 0,
    "start_time": "2022-05-04T14:37:24.342Z"
   },
   {
    "duration": 0,
    "start_time": "2022-05-04T14:37:24.343Z"
   },
   {
    "duration": 0,
    "start_time": "2022-05-04T14:37:24.344Z"
   },
   {
    "duration": 0,
    "start_time": "2022-05-04T14:37:24.345Z"
   },
   {
    "duration": 0,
    "start_time": "2022-05-04T14:37:24.346Z"
   },
   {
    "duration": 0,
    "start_time": "2022-05-04T14:37:24.347Z"
   },
   {
    "duration": 0,
    "start_time": "2022-05-04T14:37:24.348Z"
   },
   {
    "duration": 1347,
    "start_time": "2022-05-04T14:39:02.237Z"
   },
   {
    "duration": 11,
    "start_time": "2022-05-04T14:39:48.949Z"
   },
   {
    "duration": 1088,
    "start_time": "2022-05-04T14:40:05.813Z"
   },
   {
    "duration": 998,
    "start_time": "2022-05-04T14:40:20.466Z"
   },
   {
    "duration": 1191,
    "start_time": "2022-05-04T14:40:28.387Z"
   },
   {
    "duration": 466,
    "start_time": "2022-05-04T14:40:29.580Z"
   },
   {
    "duration": 15,
    "start_time": "2022-05-04T14:40:30.048Z"
   },
   {
    "duration": 29,
    "start_time": "2022-05-04T14:40:30.065Z"
   },
   {
    "duration": 8,
    "start_time": "2022-05-04T14:40:30.096Z"
   },
   {
    "duration": 18,
    "start_time": "2022-05-04T14:40:30.106Z"
   },
   {
    "duration": 22,
    "start_time": "2022-05-04T14:40:30.126Z"
   },
   {
    "duration": 37,
    "start_time": "2022-05-04T14:40:30.150Z"
   },
   {
    "duration": 20,
    "start_time": "2022-05-04T14:40:30.189Z"
   },
   {
    "duration": 42,
    "start_time": "2022-05-04T14:40:30.212Z"
   },
   {
    "duration": 11,
    "start_time": "2022-05-04T14:40:30.257Z"
   },
   {
    "duration": 17,
    "start_time": "2022-05-04T14:40:30.270Z"
   },
   {
    "duration": 95,
    "start_time": "2022-05-04T14:40:30.289Z"
   },
   {
    "duration": 121,
    "start_time": "2022-05-04T14:40:30.386Z"
   },
   {
    "duration": 56,
    "start_time": "2022-05-04T14:40:30.512Z"
   },
   {
    "duration": 86,
    "start_time": "2022-05-04T14:40:30.570Z"
   },
   {
    "duration": 8,
    "start_time": "2022-05-04T14:40:30.658Z"
   },
   {
    "duration": 33,
    "start_time": "2022-05-04T14:40:30.668Z"
   },
   {
    "duration": 45,
    "start_time": "2022-05-04T14:40:30.703Z"
   },
   {
    "duration": 10,
    "start_time": "2022-05-04T14:40:30.750Z"
   },
   {
    "duration": 26,
    "start_time": "2022-05-04T14:40:30.763Z"
   },
   {
    "duration": 15,
    "start_time": "2022-05-04T14:40:30.791Z"
   },
   {
    "duration": 80,
    "start_time": "2022-05-04T14:40:30.814Z"
   },
   {
    "duration": 40,
    "start_time": "2022-05-04T14:40:30.895Z"
   },
   {
    "duration": 16,
    "start_time": "2022-05-04T14:40:30.936Z"
   },
   {
    "duration": 28,
    "start_time": "2022-05-04T14:40:30.954Z"
   },
   {
    "duration": 47,
    "start_time": "2022-05-04T14:40:30.984Z"
   },
   {
    "duration": 25,
    "start_time": "2022-05-04T14:40:31.035Z"
   },
   {
    "duration": 56,
    "start_time": "2022-05-04T14:40:31.062Z"
   },
   {
    "duration": 1756,
    "start_time": "2022-05-04T14:40:31.120Z"
   },
   {
    "duration": 0,
    "start_time": "2022-05-04T14:40:32.878Z"
   },
   {
    "duration": 0,
    "start_time": "2022-05-04T14:40:32.880Z"
   },
   {
    "duration": 0,
    "start_time": "2022-05-04T14:40:32.881Z"
   },
   {
    "duration": 0,
    "start_time": "2022-05-04T14:40:32.882Z"
   },
   {
    "duration": 0,
    "start_time": "2022-05-04T14:40:32.883Z"
   },
   {
    "duration": 0,
    "start_time": "2022-05-04T14:40:32.884Z"
   },
   {
    "duration": 0,
    "start_time": "2022-05-04T14:40:32.885Z"
   },
   {
    "duration": 0,
    "start_time": "2022-05-04T14:40:32.886Z"
   },
   {
    "duration": 0,
    "start_time": "2022-05-04T14:40:32.887Z"
   },
   {
    "duration": 0,
    "start_time": "2022-05-04T14:40:32.888Z"
   },
   {
    "duration": 0,
    "start_time": "2022-05-04T14:40:32.889Z"
   },
   {
    "duration": 0,
    "start_time": "2022-05-04T14:40:32.890Z"
   },
   {
    "duration": 0,
    "start_time": "2022-05-04T14:40:32.891Z"
   },
   {
    "duration": 0,
    "start_time": "2022-05-04T14:40:32.892Z"
   },
   {
    "duration": 0,
    "start_time": "2022-05-04T14:40:32.893Z"
   },
   {
    "duration": 0,
    "start_time": "2022-05-04T14:40:32.894Z"
   },
   {
    "duration": 0,
    "start_time": "2022-05-04T14:40:32.895Z"
   },
   {
    "duration": 0,
    "start_time": "2022-05-04T14:40:32.896Z"
   },
   {
    "duration": 0,
    "start_time": "2022-05-04T14:40:32.897Z"
   },
   {
    "duration": 0,
    "start_time": "2022-05-04T14:40:32.899Z"
   },
   {
    "duration": 0,
    "start_time": "2022-05-04T14:40:32.900Z"
   },
   {
    "duration": 0,
    "start_time": "2022-05-04T14:40:32.902Z"
   },
   {
    "duration": 0,
    "start_time": "2022-05-04T14:40:32.903Z"
   },
   {
    "duration": 0,
    "start_time": "2022-05-04T14:40:32.904Z"
   },
   {
    "duration": 36,
    "start_time": "2022-05-04T14:44:10.343Z"
   },
   {
    "duration": 30,
    "start_time": "2022-05-04T14:44:23.668Z"
   },
   {
    "duration": 1123,
    "start_time": "2022-05-04T14:44:25.900Z"
   },
   {
    "duration": 10,
    "start_time": "2022-05-04T14:48:53.594Z"
   },
   {
    "duration": 2445,
    "start_time": "2022-05-04T14:49:59.294Z"
   },
   {
    "duration": 1212,
    "start_time": "2022-05-04T14:55:04.683Z"
   },
   {
    "duration": 1130,
    "start_time": "2022-05-04T14:55:12.040Z"
   },
   {
    "duration": 28,
    "start_time": "2022-05-04T14:58:50.857Z"
   },
   {
    "duration": 90,
    "start_time": "2022-05-04T14:59:00.730Z"
   },
   {
    "duration": 1214,
    "start_time": "2022-05-04T14:59:03.164Z"
   },
   {
    "duration": 32,
    "start_time": "2022-05-04T14:59:19.889Z"
   },
   {
    "duration": 1111,
    "start_time": "2022-05-04T15:05:35.970Z"
   },
   {
    "duration": 426,
    "start_time": "2022-05-04T15:05:37.083Z"
   },
   {
    "duration": 17,
    "start_time": "2022-05-04T15:05:37.511Z"
   },
   {
    "duration": 27,
    "start_time": "2022-05-04T15:05:37.531Z"
   },
   {
    "duration": 8,
    "start_time": "2022-05-04T15:05:37.560Z"
   },
   {
    "duration": 11,
    "start_time": "2022-05-04T15:05:37.570Z"
   },
   {
    "duration": 34,
    "start_time": "2022-05-04T15:05:37.583Z"
   },
   {
    "duration": 21,
    "start_time": "2022-05-04T15:05:37.623Z"
   },
   {
    "duration": 10,
    "start_time": "2022-05-04T15:05:37.646Z"
   },
   {
    "duration": 22,
    "start_time": "2022-05-04T15:05:37.659Z"
   },
   {
    "duration": 14,
    "start_time": "2022-05-04T15:05:37.711Z"
   },
   {
    "duration": 16,
    "start_time": "2022-05-04T15:05:37.727Z"
   },
   {
    "duration": 99,
    "start_time": "2022-05-04T15:05:37.745Z"
   },
   {
    "duration": 117,
    "start_time": "2022-05-04T15:05:37.846Z"
   },
   {
    "duration": 62,
    "start_time": "2022-05-04T15:05:37.965Z"
   },
   {
    "duration": 82,
    "start_time": "2022-05-04T15:05:38.029Z"
   },
   {
    "duration": 8,
    "start_time": "2022-05-04T15:05:38.113Z"
   },
   {
    "duration": 7,
    "start_time": "2022-05-04T15:05:38.123Z"
   },
   {
    "duration": 26,
    "start_time": "2022-05-04T15:05:38.132Z"
   },
   {
    "duration": 11,
    "start_time": "2022-05-04T15:05:38.161Z"
   },
   {
    "duration": 47,
    "start_time": "2022-05-04T15:05:38.174Z"
   },
   {
    "duration": 15,
    "start_time": "2022-05-04T15:05:38.224Z"
   },
   {
    "duration": 34,
    "start_time": "2022-05-04T15:05:38.241Z"
   },
   {
    "duration": 57,
    "start_time": "2022-05-04T15:05:38.277Z"
   },
   {
    "duration": 15,
    "start_time": "2022-05-04T15:05:38.336Z"
   },
   {
    "duration": 27,
    "start_time": "2022-05-04T15:05:38.353Z"
   },
   {
    "duration": 50,
    "start_time": "2022-05-04T15:05:38.382Z"
   },
   {
    "duration": 24,
    "start_time": "2022-05-04T15:05:38.436Z"
   },
   {
    "duration": 29,
    "start_time": "2022-05-04T15:05:38.462Z"
   },
   {
    "duration": 39,
    "start_time": "2022-05-04T15:05:38.492Z"
   },
   {
    "duration": 8,
    "start_time": "2022-05-04T15:05:38.532Z"
   },
   {
    "duration": 23,
    "start_time": "2022-05-04T15:05:38.542Z"
   },
   {
    "duration": 8,
    "start_time": "2022-05-04T15:05:38.566Z"
   },
   {
    "duration": 48,
    "start_time": "2022-05-04T15:05:38.575Z"
   },
   {
    "duration": 4,
    "start_time": "2022-05-04T15:05:38.624Z"
   },
   {
    "duration": 8,
    "start_time": "2022-05-04T15:05:38.629Z"
   },
   {
    "duration": 11,
    "start_time": "2022-05-04T15:05:38.638Z"
   },
   {
    "duration": 5,
    "start_time": "2022-05-04T15:05:38.650Z"
   },
   {
    "duration": 1207,
    "start_time": "2022-05-04T15:05:38.657Z"
   },
   {
    "duration": 0,
    "start_time": "2022-05-04T15:05:39.866Z"
   },
   {
    "duration": 0,
    "start_time": "2022-05-04T15:05:39.867Z"
   },
   {
    "duration": 0,
    "start_time": "2022-05-04T15:05:39.868Z"
   },
   {
    "duration": 0,
    "start_time": "2022-05-04T15:05:39.869Z"
   },
   {
    "duration": 0,
    "start_time": "2022-05-04T15:05:39.870Z"
   },
   {
    "duration": 0,
    "start_time": "2022-05-04T15:05:39.871Z"
   },
   {
    "duration": 0,
    "start_time": "2022-05-04T15:05:39.872Z"
   },
   {
    "duration": 0,
    "start_time": "2022-05-04T15:05:39.873Z"
   },
   {
    "duration": 0,
    "start_time": "2022-05-04T15:05:39.874Z"
   },
   {
    "duration": 0,
    "start_time": "2022-05-04T15:05:39.875Z"
   },
   {
    "duration": 0,
    "start_time": "2022-05-04T15:05:39.876Z"
   },
   {
    "duration": 0,
    "start_time": "2022-05-04T15:05:39.877Z"
   },
   {
    "duration": 0,
    "start_time": "2022-05-04T15:05:39.878Z"
   },
   {
    "duration": 0,
    "start_time": "2022-05-04T15:05:39.879Z"
   },
   {
    "duration": 16,
    "start_time": "2022-05-04T15:07:52.335Z"
   },
   {
    "duration": 1110,
    "start_time": "2022-05-04T15:08:03.868Z"
   },
   {
    "duration": 442,
    "start_time": "2022-05-04T15:08:04.980Z"
   },
   {
    "duration": 15,
    "start_time": "2022-05-04T15:08:05.424Z"
   },
   {
    "duration": 35,
    "start_time": "2022-05-04T15:08:05.441Z"
   },
   {
    "duration": 8,
    "start_time": "2022-05-04T15:08:05.478Z"
   },
   {
    "duration": 20,
    "start_time": "2022-05-04T15:08:05.488Z"
   },
   {
    "duration": 14,
    "start_time": "2022-05-04T15:08:05.510Z"
   },
   {
    "duration": 24,
    "start_time": "2022-05-04T15:08:05.526Z"
   },
   {
    "duration": 11,
    "start_time": "2022-05-04T15:08:05.552Z"
   },
   {
    "duration": 50,
    "start_time": "2022-05-04T15:08:05.566Z"
   },
   {
    "duration": 13,
    "start_time": "2022-05-04T15:08:05.618Z"
   },
   {
    "duration": 13,
    "start_time": "2022-05-04T15:08:05.632Z"
   },
   {
    "duration": 101,
    "start_time": "2022-05-04T15:08:05.647Z"
   },
   {
    "duration": 126,
    "start_time": "2022-05-04T15:08:05.750Z"
   },
   {
    "duration": 63,
    "start_time": "2022-05-04T15:08:05.877Z"
   },
   {
    "duration": 87,
    "start_time": "2022-05-04T15:08:05.942Z"
   },
   {
    "duration": 7,
    "start_time": "2022-05-04T15:08:06.031Z"
   },
   {
    "duration": 4,
    "start_time": "2022-05-04T15:08:06.040Z"
   },
   {
    "duration": 19,
    "start_time": "2022-05-04T15:08:06.046Z"
   },
   {
    "duration": 43,
    "start_time": "2022-05-04T15:08:06.067Z"
   },
   {
    "duration": 23,
    "start_time": "2022-05-04T15:08:06.115Z"
   },
   {
    "duration": 16,
    "start_time": "2022-05-04T15:08:06.139Z"
   },
   {
    "duration": 58,
    "start_time": "2022-05-04T15:08:06.156Z"
   },
   {
    "duration": 37,
    "start_time": "2022-05-04T15:08:06.216Z"
   },
   {
    "duration": 15,
    "start_time": "2022-05-04T15:08:06.255Z"
   },
   {
    "duration": 53,
    "start_time": "2022-05-04T15:08:06.272Z"
   },
   {
    "duration": 34,
    "start_time": "2022-05-04T15:08:06.327Z"
   },
   {
    "duration": 54,
    "start_time": "2022-05-04T15:08:06.365Z"
   },
   {
    "duration": 32,
    "start_time": "2022-05-04T15:08:06.420Z"
   },
   {
    "duration": 18,
    "start_time": "2022-05-04T15:08:06.454Z"
   },
   {
    "duration": 38,
    "start_time": "2022-05-04T15:08:06.474Z"
   },
   {
    "duration": 111,
    "start_time": "2022-05-04T15:08:06.515Z"
   },
   {
    "duration": 0,
    "start_time": "2022-05-04T15:08:06.628Z"
   },
   {
    "duration": 0,
    "start_time": "2022-05-04T15:08:06.629Z"
   },
   {
    "duration": 0,
    "start_time": "2022-05-04T15:08:06.630Z"
   },
   {
    "duration": 0,
    "start_time": "2022-05-04T15:08:06.631Z"
   },
   {
    "duration": 0,
    "start_time": "2022-05-04T15:08:06.632Z"
   },
   {
    "duration": 0,
    "start_time": "2022-05-04T15:08:06.634Z"
   },
   {
    "duration": 0,
    "start_time": "2022-05-04T15:08:06.635Z"
   },
   {
    "duration": 0,
    "start_time": "2022-05-04T15:08:06.636Z"
   },
   {
    "duration": 0,
    "start_time": "2022-05-04T15:08:06.637Z"
   },
   {
    "duration": 0,
    "start_time": "2022-05-04T15:08:06.638Z"
   },
   {
    "duration": 0,
    "start_time": "2022-05-04T15:08:06.639Z"
   },
   {
    "duration": 0,
    "start_time": "2022-05-04T15:08:06.640Z"
   },
   {
    "duration": 0,
    "start_time": "2022-05-04T15:08:06.641Z"
   },
   {
    "duration": 0,
    "start_time": "2022-05-04T15:08:06.643Z"
   },
   {
    "duration": 0,
    "start_time": "2022-05-04T15:08:06.645Z"
   },
   {
    "duration": 0,
    "start_time": "2022-05-04T15:08:06.646Z"
   },
   {
    "duration": 0,
    "start_time": "2022-05-04T15:08:06.647Z"
   },
   {
    "duration": 0,
    "start_time": "2022-05-04T15:08:06.648Z"
   },
   {
    "duration": 0,
    "start_time": "2022-05-04T15:08:06.649Z"
   },
   {
    "duration": 0,
    "start_time": "2022-05-04T15:08:06.650Z"
   },
   {
    "duration": 0,
    "start_time": "2022-05-04T15:08:06.651Z"
   },
   {
    "duration": 23,
    "start_time": "2022-05-04T15:08:26.099Z"
   },
   {
    "duration": 11,
    "start_time": "2022-05-04T15:08:35.215Z"
   },
   {
    "duration": 20,
    "start_time": "2022-05-04T15:11:43.668Z"
   },
   {
    "duration": 10,
    "start_time": "2022-05-04T15:11:49.060Z"
   },
   {
    "duration": 24,
    "start_time": "2022-05-04T15:11:56.509Z"
   },
   {
    "duration": 9,
    "start_time": "2022-05-04T15:11:59.544Z"
   },
   {
    "duration": 8,
    "start_time": "2022-05-04T15:12:23.861Z"
   },
   {
    "duration": 20,
    "start_time": "2022-05-04T15:17:02.622Z"
   },
   {
    "duration": 33,
    "start_time": "2022-05-04T15:17:20.666Z"
   },
   {
    "duration": 19,
    "start_time": "2022-05-04T15:17:22.955Z"
   },
   {
    "duration": 9,
    "start_time": "2022-05-04T15:17:24.370Z"
   },
   {
    "duration": 21,
    "start_time": "2022-05-04T15:17:25.542Z"
   },
   {
    "duration": 9,
    "start_time": "2022-05-04T15:17:28.558Z"
   },
   {
    "duration": 25,
    "start_time": "2022-05-04T15:17:32.210Z"
   },
   {
    "duration": 7,
    "start_time": "2022-05-04T15:17:33.146Z"
   },
   {
    "duration": 35,
    "start_time": "2022-05-04T15:19:51.799Z"
   },
   {
    "duration": 20,
    "start_time": "2022-05-04T15:20:05.519Z"
   },
   {
    "duration": 9,
    "start_time": "2022-05-04T15:20:06.660Z"
   },
   {
    "duration": 21,
    "start_time": "2022-05-04T15:20:10.041Z"
   },
   {
    "duration": 8,
    "start_time": "2022-05-04T15:20:13.879Z"
   },
   {
    "duration": 13,
    "start_time": "2022-05-04T15:20:23.487Z"
   },
   {
    "duration": 5,
    "start_time": "2022-05-04T15:20:24.519Z"
   },
   {
    "duration": 11,
    "start_time": "2022-05-04T15:20:26.015Z"
   },
   {
    "duration": 9,
    "start_time": "2022-05-04T15:20:26.823Z"
   },
   {
    "duration": 4,
    "start_time": "2022-05-04T15:20:30.535Z"
   },
   {
    "duration": 1159,
    "start_time": "2022-05-04T15:20:32.015Z"
   },
   {
    "duration": 1346,
    "start_time": "2022-05-04T15:20:40.583Z"
   },
   {
    "duration": 1223,
    "start_time": "2022-05-04T15:21:15.500Z"
   },
   {
    "duration": 463,
    "start_time": "2022-05-04T15:21:16.725Z"
   },
   {
    "duration": 14,
    "start_time": "2022-05-04T15:21:17.189Z"
   },
   {
    "duration": 36,
    "start_time": "2022-05-04T15:21:17.206Z"
   },
   {
    "duration": 8,
    "start_time": "2022-05-04T15:21:17.244Z"
   },
   {
    "duration": 12,
    "start_time": "2022-05-04T15:21:17.254Z"
   },
   {
    "duration": 9,
    "start_time": "2022-05-04T15:21:17.268Z"
   },
   {
    "duration": 48,
    "start_time": "2022-05-04T15:21:17.278Z"
   },
   {
    "duration": 10,
    "start_time": "2022-05-04T15:21:17.328Z"
   },
   {
    "duration": 23,
    "start_time": "2022-05-04T15:21:17.341Z"
   },
   {
    "duration": 11,
    "start_time": "2022-05-04T15:21:17.366Z"
   },
   {
    "duration": 13,
    "start_time": "2022-05-04T15:21:17.415Z"
   },
   {
    "duration": 95,
    "start_time": "2022-05-04T15:21:17.430Z"
   },
   {
    "duration": 128,
    "start_time": "2022-05-04T15:21:17.527Z"
   },
   {
    "duration": 65,
    "start_time": "2022-05-04T15:21:17.657Z"
   },
   {
    "duration": 73,
    "start_time": "2022-05-04T15:21:17.724Z"
   },
   {
    "duration": 15,
    "start_time": "2022-05-04T15:21:17.799Z"
   },
   {
    "duration": 5,
    "start_time": "2022-05-04T15:21:17.816Z"
   },
   {
    "duration": 20,
    "start_time": "2022-05-04T15:21:17.824Z"
   },
   {
    "duration": 11,
    "start_time": "2022-05-04T15:21:17.847Z"
   },
   {
    "duration": 63,
    "start_time": "2022-05-04T15:21:17.860Z"
   },
   {
    "duration": 16,
    "start_time": "2022-05-04T15:21:17.925Z"
   },
   {
    "duration": 34,
    "start_time": "2022-05-04T15:21:17.943Z"
   },
   {
    "duration": 71,
    "start_time": "2022-05-04T15:21:17.979Z"
   },
   {
    "duration": 42,
    "start_time": "2022-05-04T15:21:18.052Z"
   },
   {
    "duration": 58,
    "start_time": "2022-05-04T15:21:18.096Z"
   },
   {
    "duration": 34,
    "start_time": "2022-05-04T15:21:18.156Z"
   },
   {
    "duration": 31,
    "start_time": "2022-05-04T15:21:18.195Z"
   },
   {
    "duration": 38,
    "start_time": "2022-05-04T15:21:18.229Z"
   },
   {
    "duration": 21,
    "start_time": "2022-05-04T15:21:18.269Z"
   },
   {
    "duration": 14,
    "start_time": "2022-05-04T15:21:18.308Z"
   },
   {
    "duration": 26,
    "start_time": "2022-05-04T15:21:18.324Z"
   },
   {
    "duration": 8,
    "start_time": "2022-05-04T15:21:18.352Z"
   },
   {
    "duration": 15,
    "start_time": "2022-05-04T15:21:18.361Z"
   },
   {
    "duration": 37,
    "start_time": "2022-05-04T15:21:18.378Z"
   },
   {
    "duration": 6,
    "start_time": "2022-05-04T15:21:18.417Z"
   },
   {
    "duration": 12,
    "start_time": "2022-05-04T15:21:18.426Z"
   },
   {
    "duration": 6,
    "start_time": "2022-05-04T15:21:18.441Z"
   },
   {
    "duration": 1268,
    "start_time": "2022-05-04T15:21:18.449Z"
   },
   {
    "duration": 0,
    "start_time": "2022-05-04T15:21:19.719Z"
   },
   {
    "duration": 0,
    "start_time": "2022-05-04T15:21:19.721Z"
   },
   {
    "duration": 0,
    "start_time": "2022-05-04T15:21:19.723Z"
   },
   {
    "duration": 0,
    "start_time": "2022-05-04T15:21:19.724Z"
   },
   {
    "duration": 0,
    "start_time": "2022-05-04T15:21:19.726Z"
   },
   {
    "duration": 0,
    "start_time": "2022-05-04T15:21:19.727Z"
   },
   {
    "duration": 0,
    "start_time": "2022-05-04T15:21:19.727Z"
   },
   {
    "duration": 0,
    "start_time": "2022-05-04T15:21:19.728Z"
   },
   {
    "duration": 0,
    "start_time": "2022-05-04T15:21:19.730Z"
   },
   {
    "duration": 0,
    "start_time": "2022-05-04T15:21:19.731Z"
   },
   {
    "duration": 0,
    "start_time": "2022-05-04T15:21:19.732Z"
   },
   {
    "duration": 0,
    "start_time": "2022-05-04T15:21:19.733Z"
   },
   {
    "duration": 0,
    "start_time": "2022-05-04T15:21:19.733Z"
   },
   {
    "duration": 0,
    "start_time": "2022-05-04T15:21:19.734Z"
   },
   {
    "duration": 19,
    "start_time": "2022-05-04T15:22:24.769Z"
   },
   {
    "duration": 9,
    "start_time": "2022-05-04T15:22:25.628Z"
   },
   {
    "duration": 24,
    "start_time": "2022-05-04T15:22:26.504Z"
   },
   {
    "duration": 7,
    "start_time": "2022-05-04T15:22:30.365Z"
   },
   {
    "duration": 21,
    "start_time": "2022-05-04T15:23:57.557Z"
   },
   {
    "duration": 8,
    "start_time": "2022-05-04T15:23:59.249Z"
   },
   {
    "duration": 31,
    "start_time": "2022-05-04T15:24:28.813Z"
   },
   {
    "duration": 27,
    "start_time": "2022-05-04T15:24:32.278Z"
   },
   {
    "duration": 12,
    "start_time": "2022-05-04T15:24:36.417Z"
   },
   {
    "duration": 31,
    "start_time": "2022-05-04T15:24:37.785Z"
   },
   {
    "duration": 8,
    "start_time": "2022-05-04T15:24:41.418Z"
   },
   {
    "duration": 20,
    "start_time": "2022-05-04T15:25:26.946Z"
   },
   {
    "duration": 4,
    "start_time": "2022-05-04T15:25:40.882Z"
   },
   {
    "duration": 5,
    "start_time": "2022-05-04T15:25:50.358Z"
   },
   {
    "duration": 8,
    "start_time": "2022-05-04T15:25:52.434Z"
   },
   {
    "duration": 6,
    "start_time": "2022-05-04T15:25:57.022Z"
   },
   {
    "duration": 126,
    "start_time": "2022-05-04T15:25:59.586Z"
   },
   {
    "duration": 16,
    "start_time": "2022-05-04T15:36:05.755Z"
   },
   {
    "duration": 1083,
    "start_time": "2022-05-04T15:36:06.342Z"
   },
   {
    "duration": 0,
    "start_time": "2022-05-04T15:36:07.427Z"
   },
   {
    "duration": 0,
    "start_time": "2022-05-04T15:36:07.429Z"
   },
   {
    "duration": 5,
    "start_time": "2022-05-04T15:36:09.110Z"
   },
   {
    "duration": 1043,
    "start_time": "2022-05-04T15:36:18.283Z"
   },
   {
    "duration": 5,
    "start_time": "2022-05-04T15:36:19.479Z"
   },
   {
    "duration": 9,
    "start_time": "2022-05-04T15:36:20.654Z"
   },
   {
    "duration": 5,
    "start_time": "2022-05-04T15:36:21.410Z"
   },
   {
    "duration": 1401,
    "start_time": "2022-05-04T15:37:27.035Z"
   },
   {
    "duration": 1145,
    "start_time": "2022-05-04T15:37:37.040Z"
   },
   {
    "duration": 431,
    "start_time": "2022-05-04T15:37:38.188Z"
   },
   {
    "duration": 16,
    "start_time": "2022-05-04T15:37:38.621Z"
   },
   {
    "duration": 27,
    "start_time": "2022-05-04T15:37:38.639Z"
   },
   {
    "duration": 9,
    "start_time": "2022-05-04T15:37:38.668Z"
   },
   {
    "duration": 34,
    "start_time": "2022-05-04T15:37:38.679Z"
   },
   {
    "duration": 9,
    "start_time": "2022-05-04T15:37:38.715Z"
   },
   {
    "duration": 22,
    "start_time": "2022-05-04T15:37:38.726Z"
   },
   {
    "duration": 11,
    "start_time": "2022-05-04T15:37:38.750Z"
   },
   {
    "duration": 58,
    "start_time": "2022-05-04T15:37:38.763Z"
   },
   {
    "duration": 16,
    "start_time": "2022-05-04T15:37:38.824Z"
   },
   {
    "duration": 13,
    "start_time": "2022-05-04T15:37:38.842Z"
   },
   {
    "duration": 100,
    "start_time": "2022-05-04T15:37:38.857Z"
   },
   {
    "duration": 121,
    "start_time": "2022-05-04T15:37:38.962Z"
   },
   {
    "duration": 59,
    "start_time": "2022-05-04T15:37:39.085Z"
   },
   {
    "duration": 90,
    "start_time": "2022-05-04T15:37:39.146Z"
   },
   {
    "duration": 8,
    "start_time": "2022-05-04T15:37:39.238Z"
   },
   {
    "duration": 5,
    "start_time": "2022-05-04T15:37:39.248Z"
   },
   {
    "duration": 19,
    "start_time": "2022-05-04T15:37:39.254Z"
   },
   {
    "duration": 40,
    "start_time": "2022-05-04T15:37:39.275Z"
   },
   {
    "duration": 26,
    "start_time": "2022-05-04T15:37:39.317Z"
   },
   {
    "duration": 16,
    "start_time": "2022-05-04T15:37:39.345Z"
   },
   {
    "duration": 60,
    "start_time": "2022-05-04T15:37:39.363Z"
   },
   {
    "duration": 35,
    "start_time": "2022-05-04T15:37:39.425Z"
   },
   {
    "duration": 15,
    "start_time": "2022-05-04T15:37:39.462Z"
   },
   {
    "duration": 49,
    "start_time": "2022-05-04T15:37:39.479Z"
   },
   {
    "duration": 27,
    "start_time": "2022-05-04T15:37:39.530Z"
   },
   {
    "duration": 50,
    "start_time": "2022-05-04T15:37:39.559Z"
   },
   {
    "duration": 32,
    "start_time": "2022-05-04T15:37:39.610Z"
   },
   {
    "duration": 20,
    "start_time": "2022-05-04T15:37:39.645Z"
   },
   {
    "duration": 9,
    "start_time": "2022-05-04T15:37:39.667Z"
   },
   {
    "duration": 23,
    "start_time": "2022-05-04T15:37:39.708Z"
   },
   {
    "duration": 9,
    "start_time": "2022-05-04T15:37:39.732Z"
   },
   {
    "duration": 14,
    "start_time": "2022-05-04T15:37:39.743Z"
   },
   {
    "duration": 4,
    "start_time": "2022-05-04T15:37:39.758Z"
   },
   {
    "duration": 44,
    "start_time": "2022-05-04T15:37:39.764Z"
   },
   {
    "duration": 11,
    "start_time": "2022-05-04T15:37:39.809Z"
   },
   {
    "duration": 4,
    "start_time": "2022-05-04T15:37:39.822Z"
   },
   {
    "duration": 145,
    "start_time": "2022-05-04T15:37:39.828Z"
   },
   {
    "duration": 52,
    "start_time": "2022-05-04T15:37:39.975Z"
   },
   {
    "duration": 1005,
    "start_time": "2022-05-04T15:37:40.032Z"
   },
   {
    "duration": 7,
    "start_time": "2022-05-04T15:37:41.039Z"
   },
   {
    "duration": 8,
    "start_time": "2022-05-04T15:37:41.048Z"
   },
   {
    "duration": 71,
    "start_time": "2022-05-04T15:37:41.057Z"
   },
   {
    "duration": 296,
    "start_time": "2022-05-04T15:37:41.130Z"
   },
   {
    "duration": 11,
    "start_time": "2022-05-04T15:37:41.428Z"
   },
   {
    "duration": 216,
    "start_time": "2022-05-04T15:37:41.440Z"
   },
   {
    "duration": 11,
    "start_time": "2022-05-04T15:37:41.658Z"
   },
   {
    "duration": 211,
    "start_time": "2022-05-04T15:37:41.670Z"
   },
   {
    "duration": 25,
    "start_time": "2022-05-04T15:37:41.883Z"
   },
   {
    "duration": 213,
    "start_time": "2022-05-04T15:37:41.909Z"
   },
   {
    "duration": 9,
    "start_time": "2022-05-04T15:37:42.124Z"
   },
   {
    "duration": 10,
    "start_time": "2022-05-04T15:37:42.135Z"
   },
   {
    "duration": 1016,
    "start_time": "2022-05-04T15:52:07.707Z"
   },
   {
    "duration": 1053,
    "start_time": "2022-05-04T15:52:57.423Z"
   },
   {
    "duration": 978,
    "start_time": "2022-05-04T15:57:32.800Z"
   },
   {
    "duration": 988,
    "start_time": "2022-05-04T15:57:37.489Z"
   },
   {
    "duration": 1102,
    "start_time": "2022-05-04T15:58:16.652Z"
   },
   {
    "duration": 78,
    "start_time": "2022-05-04T16:07:19.528Z"
   },
   {
    "duration": 1330,
    "start_time": "2022-05-04T16:07:51.360Z"
   },
   {
    "duration": 980,
    "start_time": "2022-05-04T16:07:54.788Z"
   },
   {
    "duration": 1180,
    "start_time": "2022-05-04T16:08:22.108Z"
   },
   {
    "duration": 437,
    "start_time": "2022-05-04T16:08:23.290Z"
   },
   {
    "duration": 15,
    "start_time": "2022-05-04T16:08:23.728Z"
   },
   {
    "duration": 28,
    "start_time": "2022-05-04T16:08:23.745Z"
   },
   {
    "duration": 9,
    "start_time": "2022-05-04T16:08:23.776Z"
   },
   {
    "duration": 26,
    "start_time": "2022-05-04T16:08:23.787Z"
   },
   {
    "duration": 11,
    "start_time": "2022-05-04T16:08:23.815Z"
   },
   {
    "duration": 22,
    "start_time": "2022-05-04T16:08:23.827Z"
   },
   {
    "duration": 11,
    "start_time": "2022-05-04T16:08:23.851Z"
   },
   {
    "duration": 55,
    "start_time": "2022-05-04T16:08:23.863Z"
   },
   {
    "duration": 12,
    "start_time": "2022-05-04T16:08:23.920Z"
   },
   {
    "duration": 13,
    "start_time": "2022-05-04T16:08:23.934Z"
   },
   {
    "duration": 108,
    "start_time": "2022-05-04T16:08:23.949Z"
   },
   {
    "duration": 127,
    "start_time": "2022-05-04T16:08:24.061Z"
   },
   {
    "duration": 60,
    "start_time": "2022-05-04T16:08:24.190Z"
   },
   {
    "duration": 84,
    "start_time": "2022-05-04T16:08:24.253Z"
   },
   {
    "duration": 8,
    "start_time": "2022-05-04T16:08:24.339Z"
   },
   {
    "duration": 4,
    "start_time": "2022-05-04T16:08:24.349Z"
   },
   {
    "duration": 20,
    "start_time": "2022-05-04T16:08:24.354Z"
   },
   {
    "duration": 42,
    "start_time": "2022-05-04T16:08:24.375Z"
   },
   {
    "duration": 20,
    "start_time": "2022-05-04T16:08:24.419Z"
   },
   {
    "duration": 16,
    "start_time": "2022-05-04T16:08:24.441Z"
   },
   {
    "duration": 64,
    "start_time": "2022-05-04T16:08:24.459Z"
   },
   {
    "duration": 35,
    "start_time": "2022-05-04T16:08:24.525Z"
   },
   {
    "duration": 15,
    "start_time": "2022-05-04T16:08:24.562Z"
   },
   {
    "duration": 48,
    "start_time": "2022-05-04T16:08:24.579Z"
   },
   {
    "duration": 28,
    "start_time": "2022-05-04T16:08:24.629Z"
   },
   {
    "duration": 50,
    "start_time": "2022-05-04T16:08:24.659Z"
   },
   {
    "duration": 31,
    "start_time": "2022-05-04T16:08:24.711Z"
   },
   {
    "duration": 19,
    "start_time": "2022-05-04T16:08:24.744Z"
   },
   {
    "duration": 11,
    "start_time": "2022-05-04T16:08:24.765Z"
   },
   {
    "duration": 22,
    "start_time": "2022-05-04T16:08:24.808Z"
   },
   {
    "duration": 9,
    "start_time": "2022-05-04T16:08:24.832Z"
   },
   {
    "duration": 19,
    "start_time": "2022-05-04T16:08:24.843Z"
   },
   {
    "duration": 5,
    "start_time": "2022-05-04T16:08:24.864Z"
   },
   {
    "duration": 37,
    "start_time": "2022-05-04T16:08:24.871Z"
   },
   {
    "duration": 10,
    "start_time": "2022-05-04T16:08:24.911Z"
   },
   {
    "duration": 6,
    "start_time": "2022-05-04T16:08:24.924Z"
   },
   {
    "duration": 170,
    "start_time": "2022-05-04T16:08:24.932Z"
   },
   {
    "duration": 27,
    "start_time": "2022-05-04T16:08:25.104Z"
   },
   {
    "duration": 1319,
    "start_time": "2022-05-04T16:08:25.135Z"
   },
   {
    "duration": 0,
    "start_time": "2022-05-04T16:08:26.456Z"
   },
   {
    "duration": 0,
    "start_time": "2022-05-04T16:08:26.458Z"
   },
   {
    "duration": 0,
    "start_time": "2022-05-04T16:08:26.459Z"
   },
   {
    "duration": 0,
    "start_time": "2022-05-04T16:08:26.460Z"
   },
   {
    "duration": 0,
    "start_time": "2022-05-04T16:08:26.462Z"
   },
   {
    "duration": 0,
    "start_time": "2022-05-04T16:08:26.463Z"
   },
   {
    "duration": 0,
    "start_time": "2022-05-04T16:08:26.464Z"
   },
   {
    "duration": 0,
    "start_time": "2022-05-04T16:08:26.465Z"
   },
   {
    "duration": 0,
    "start_time": "2022-05-04T16:08:26.466Z"
   },
   {
    "duration": 0,
    "start_time": "2022-05-04T16:08:26.467Z"
   },
   {
    "duration": 0,
    "start_time": "2022-05-04T16:08:26.468Z"
   },
   {
    "duration": 0,
    "start_time": "2022-05-04T16:08:26.470Z"
   },
   {
    "duration": 0,
    "start_time": "2022-05-04T16:08:26.471Z"
   },
   {
    "duration": 1090,
    "start_time": "2022-05-04T16:08:35.463Z"
   },
   {
    "duration": 104,
    "start_time": "2022-05-04T16:09:42.740Z"
   },
   {
    "duration": 79,
    "start_time": "2022-05-04T16:09:52.832Z"
   },
   {
    "duration": 63,
    "start_time": "2022-05-04T16:13:51.245Z"
   },
   {
    "duration": 986,
    "start_time": "2022-05-04T16:13:55.857Z"
   },
   {
    "duration": 1056,
    "start_time": "2022-05-04T16:15:11.102Z"
   },
   {
    "duration": 1087,
    "start_time": "2022-05-04T16:15:35.689Z"
   },
   {
    "duration": 407,
    "start_time": "2022-05-04T16:15:36.778Z"
   },
   {
    "duration": 13,
    "start_time": "2022-05-04T16:15:37.187Z"
   },
   {
    "duration": 28,
    "start_time": "2022-05-04T16:15:37.202Z"
   },
   {
    "duration": 7,
    "start_time": "2022-05-04T16:15:37.233Z"
   },
   {
    "duration": 10,
    "start_time": "2022-05-04T16:15:37.243Z"
   },
   {
    "duration": 10,
    "start_time": "2022-05-04T16:15:37.254Z"
   },
   {
    "duration": 45,
    "start_time": "2022-05-04T16:15:37.265Z"
   },
   {
    "duration": 10,
    "start_time": "2022-05-04T16:15:37.311Z"
   },
   {
    "duration": 22,
    "start_time": "2022-05-04T16:15:37.325Z"
   },
   {
    "duration": 12,
    "start_time": "2022-05-04T16:15:37.349Z"
   },
   {
    "duration": 15,
    "start_time": "2022-05-04T16:15:37.363Z"
   },
   {
    "duration": 76,
    "start_time": "2022-05-04T16:15:37.408Z"
   },
   {
    "duration": 126,
    "start_time": "2022-05-04T16:15:37.486Z"
   },
   {
    "duration": 47,
    "start_time": "2022-05-04T16:15:37.613Z"
   },
   {
    "duration": 85,
    "start_time": "2022-05-04T16:15:37.662Z"
   },
   {
    "duration": 8,
    "start_time": "2022-05-04T16:15:37.748Z"
   },
   {
    "duration": 4,
    "start_time": "2022-05-04T16:15:37.757Z"
   },
   {
    "duration": 21,
    "start_time": "2022-05-04T16:15:37.762Z"
   },
   {
    "duration": 32,
    "start_time": "2022-05-04T16:15:37.784Z"
   },
   {
    "duration": 22,
    "start_time": "2022-05-04T16:15:37.818Z"
   },
   {
    "duration": 15,
    "start_time": "2022-05-04T16:15:37.842Z"
   },
   {
    "duration": 59,
    "start_time": "2022-05-04T16:15:37.859Z"
   },
   {
    "duration": 34,
    "start_time": "2022-05-04T16:15:37.920Z"
   },
   {
    "duration": 17,
    "start_time": "2022-05-04T16:15:37.956Z"
   },
   {
    "duration": 54,
    "start_time": "2022-05-04T16:15:37.975Z"
   },
   {
    "duration": 25,
    "start_time": "2022-05-04T16:15:38.031Z"
   },
   {
    "duration": 25,
    "start_time": "2022-05-04T16:15:38.060Z"
   },
   {
    "duration": 49,
    "start_time": "2022-05-04T16:15:38.087Z"
   },
   {
    "duration": 18,
    "start_time": "2022-05-04T16:15:38.138Z"
   },
   {
    "duration": 8,
    "start_time": "2022-05-04T16:15:38.157Z"
   },
   {
    "duration": 50,
    "start_time": "2022-05-04T16:15:38.167Z"
   },
   {
    "duration": 7,
    "start_time": "2022-05-04T16:15:38.219Z"
   },
   {
    "duration": 13,
    "start_time": "2022-05-04T16:15:38.228Z"
   },
   {
    "duration": 3,
    "start_time": "2022-05-04T16:15:38.244Z"
   },
   {
    "duration": 7,
    "start_time": "2022-05-04T16:15:38.248Z"
   },
   {
    "duration": 9,
    "start_time": "2022-05-04T16:15:38.256Z"
   },
   {
    "duration": 42,
    "start_time": "2022-05-04T16:15:38.266Z"
   },
   {
    "duration": 119,
    "start_time": "2022-05-04T16:15:38.309Z"
   },
   {
    "duration": 26,
    "start_time": "2022-05-04T16:15:38.429Z"
   },
   {
    "duration": 1663,
    "start_time": "2022-05-04T16:15:38.457Z"
   },
   {
    "duration": 0,
    "start_time": "2022-05-04T16:15:40.121Z"
   },
   {
    "duration": 0,
    "start_time": "2022-05-04T16:15:40.123Z"
   },
   {
    "duration": 0,
    "start_time": "2022-05-04T16:15:40.124Z"
   },
   {
    "duration": 0,
    "start_time": "2022-05-04T16:15:40.125Z"
   },
   {
    "duration": 0,
    "start_time": "2022-05-04T16:15:40.127Z"
   },
   {
    "duration": 0,
    "start_time": "2022-05-04T16:15:40.128Z"
   },
   {
    "duration": 0,
    "start_time": "2022-05-04T16:15:40.130Z"
   },
   {
    "duration": 0,
    "start_time": "2022-05-04T16:15:40.131Z"
   },
   {
    "duration": 0,
    "start_time": "2022-05-04T16:15:40.133Z"
   },
   {
    "duration": 0,
    "start_time": "2022-05-04T16:15:40.134Z"
   },
   {
    "duration": 0,
    "start_time": "2022-05-04T16:15:40.135Z"
   },
   {
    "duration": 0,
    "start_time": "2022-05-04T16:15:40.137Z"
   },
   {
    "duration": 0,
    "start_time": "2022-05-04T16:15:40.138Z"
   },
   {
    "duration": 1419,
    "start_time": "2022-05-04T16:16:02.502Z"
   },
   {
    "duration": 1107,
    "start_time": "2022-05-04T16:16:10.129Z"
   },
   {
    "duration": 17,
    "start_time": "2022-05-04T16:18:28.829Z"
   },
   {
    "duration": 990,
    "start_time": "2022-05-04T16:20:10.922Z"
   },
   {
    "duration": 1162,
    "start_time": "2022-05-04T16:24:48.812Z"
   },
   {
    "duration": 804,
    "start_time": "2022-05-04T16:26:01.634Z"
   },
   {
    "duration": 1182,
    "start_time": "2022-05-04T16:27:12.792Z"
   },
   {
    "duration": 1069,
    "start_time": "2022-05-04T16:28:21.652Z"
   },
   {
    "duration": 4,
    "start_time": "2022-05-04T16:29:10.905Z"
   },
   {
    "duration": 4,
    "start_time": "2022-05-04T16:29:18.593Z"
   },
   {
    "duration": 3,
    "start_time": "2022-05-04T16:29:35.030Z"
   },
   {
    "duration": 3,
    "start_time": "2022-05-04T16:29:39.162Z"
   },
   {
    "duration": 6,
    "start_time": "2022-05-04T16:29:48.150Z"
   },
   {
    "duration": 1693,
    "start_time": "2022-05-04T16:30:13.459Z"
   },
   {
    "duration": 29,
    "start_time": "2022-05-04T16:31:38.162Z"
   },
   {
    "duration": 998,
    "start_time": "2022-05-04T16:31:56.075Z"
   },
   {
    "duration": 1029,
    "start_time": "2022-05-04T16:32:17.527Z"
   },
   {
    "duration": 1764,
    "start_time": "2022-05-04T16:38:43.884Z"
   },
   {
    "duration": 4179,
    "start_time": "2022-05-04T16:38:59.441Z"
   },
   {
    "duration": 997,
    "start_time": "2022-05-04T16:39:26.653Z"
   },
   {
    "duration": 1825,
    "start_time": "2022-05-04T16:39:38.601Z"
   },
   {
    "duration": 1694,
    "start_time": "2022-05-04T16:44:50.045Z"
   },
   {
    "duration": 1931,
    "start_time": "2022-05-04T16:45:06.370Z"
   },
   {
    "duration": 1953,
    "start_time": "2022-05-04T16:45:43.307Z"
   },
   {
    "duration": 1154,
    "start_time": "2022-05-04T16:46:28.915Z"
   },
   {
    "duration": 975,
    "start_time": "2022-05-04T16:49:53.375Z"
   },
   {
    "duration": 1956,
    "start_time": "2022-05-04T16:52:10.665Z"
   },
   {
    "duration": 8,
    "start_time": "2022-05-04T16:53:12.492Z"
   },
   {
    "duration": 6,
    "start_time": "2022-05-04T16:53:13.297Z"
   },
   {
    "duration": 52,
    "start_time": "2022-05-04T16:53:14.508Z"
   },
   {
    "duration": 218,
    "start_time": "2022-05-04T16:53:19.305Z"
   },
   {
    "duration": 11,
    "start_time": "2022-05-04T16:53:21.273Z"
   },
   {
    "duration": 199,
    "start_time": "2022-05-04T16:53:21.493Z"
   },
   {
    "duration": 11,
    "start_time": "2022-05-04T16:53:22.953Z"
   },
   {
    "duration": 208,
    "start_time": "2022-05-04T16:53:23.389Z"
   },
   {
    "duration": 11,
    "start_time": "2022-05-04T16:53:25.101Z"
   },
   {
    "duration": 418,
    "start_time": "2022-05-04T16:53:25.905Z"
   },
   {
    "duration": 1362,
    "start_time": "2022-05-04T16:56:58.430Z"
   },
   {
    "duration": 1327,
    "start_time": "2022-05-04T16:57:57.675Z"
   },
   {
    "duration": 8,
    "start_time": "2022-05-04T16:58:21.590Z"
   },
   {
    "duration": 7,
    "start_time": "2022-05-04T16:58:21.883Z"
   },
   {
    "duration": 13,
    "start_time": "2022-05-04T16:58:23.215Z"
   },
   {
    "duration": 203,
    "start_time": "2022-05-04T16:58:26.867Z"
   },
   {
    "duration": 11,
    "start_time": "2022-05-04T16:58:28.966Z"
   },
   {
    "duration": 207,
    "start_time": "2022-05-04T16:58:29.454Z"
   },
   {
    "duration": 11,
    "start_time": "2022-05-04T16:58:33.570Z"
   },
   {
    "duration": 201,
    "start_time": "2022-05-04T16:58:33.826Z"
   },
   {
    "duration": 11,
    "start_time": "2022-05-04T16:58:35.338Z"
   },
   {
    "duration": 194,
    "start_time": "2022-05-04T16:58:36.230Z"
   },
   {
    "duration": 13,
    "start_time": "2022-05-04T17:16:58.711Z"
   },
   {
    "duration": 11,
    "start_time": "2022-05-04T17:18:26.631Z"
   },
   {
    "duration": 209,
    "start_time": "2022-05-04T17:37:26.245Z"
   },
   {
    "duration": 310,
    "start_time": "2022-05-04T17:39:51.910Z"
   },
   {
    "duration": 211,
    "start_time": "2022-05-04T17:40:12.062Z"
   },
   {
    "duration": 208,
    "start_time": "2022-05-04T17:40:46.170Z"
   },
   {
    "duration": 222,
    "start_time": "2022-05-04T17:41:47.666Z"
   },
   {
    "duration": 242,
    "start_time": "2022-05-04T17:41:59.638Z"
   },
   {
    "duration": 194,
    "start_time": "2022-05-05T13:50:31.922Z"
   },
   {
    "duration": 1100,
    "start_time": "2022-05-05T13:50:51.283Z"
   },
   {
    "duration": 393,
    "start_time": "2022-05-05T13:50:52.385Z"
   },
   {
    "duration": 18,
    "start_time": "2022-05-05T13:50:52.780Z"
   },
   {
    "duration": 41,
    "start_time": "2022-05-05T13:50:52.800Z"
   },
   {
    "duration": 7,
    "start_time": "2022-05-05T13:50:52.843Z"
   },
   {
    "duration": 16,
    "start_time": "2022-05-05T13:50:52.852Z"
   },
   {
    "duration": 11,
    "start_time": "2022-05-05T13:50:52.869Z"
   },
   {
    "duration": 43,
    "start_time": "2022-05-05T13:50:52.882Z"
   },
   {
    "duration": 8,
    "start_time": "2022-05-05T13:50:52.927Z"
   },
   {
    "duration": 20,
    "start_time": "2022-05-05T13:50:52.938Z"
   },
   {
    "duration": 10,
    "start_time": "2022-05-05T13:50:52.959Z"
   },
   {
    "duration": 38,
    "start_time": "2022-05-05T13:50:52.971Z"
   },
   {
    "duration": 132,
    "start_time": "2022-05-05T13:50:53.011Z"
   },
   {
    "duration": 135,
    "start_time": "2022-05-05T13:50:53.145Z"
   },
   {
    "duration": 67,
    "start_time": "2022-05-05T13:50:53.282Z"
   },
   {
    "duration": 93,
    "start_time": "2022-05-05T13:50:53.351Z"
   },
   {
    "duration": 8,
    "start_time": "2022-05-05T13:50:53.446Z"
   },
   {
    "duration": 3,
    "start_time": "2022-05-05T13:50:53.455Z"
   },
   {
    "duration": 21,
    "start_time": "2022-05-05T13:50:53.460Z"
   },
   {
    "duration": 31,
    "start_time": "2022-05-05T13:50:53.483Z"
   },
   {
    "duration": 26,
    "start_time": "2022-05-05T13:50:53.515Z"
   },
   {
    "duration": 17,
    "start_time": "2022-05-05T13:50:53.542Z"
   },
   {
    "duration": 30,
    "start_time": "2022-05-05T13:50:53.560Z"
   },
   {
    "duration": 35,
    "start_time": "2022-05-05T13:50:53.601Z"
   },
   {
    "duration": 15,
    "start_time": "2022-05-05T13:50:53.637Z"
   },
   {
    "duration": 51,
    "start_time": "2022-05-05T13:50:53.654Z"
   },
   {
    "duration": 29,
    "start_time": "2022-05-05T13:50:53.707Z"
   },
   {
    "duration": 23,
    "start_time": "2022-05-05T13:50:53.741Z"
   },
   {
    "duration": 57,
    "start_time": "2022-05-05T13:50:53.765Z"
   },
   {
    "duration": 17,
    "start_time": "2022-05-05T13:50:53.823Z"
   },
   {
    "duration": 8,
    "start_time": "2022-05-05T13:50:53.842Z"
   },
   {
    "duration": 23,
    "start_time": "2022-05-05T13:50:53.851Z"
   },
   {
    "duration": 8,
    "start_time": "2022-05-05T13:50:53.909Z"
   },
   {
    "duration": 13,
    "start_time": "2022-05-05T13:50:53.919Z"
   },
   {
    "duration": 3,
    "start_time": "2022-05-05T13:50:53.933Z"
   },
   {
    "duration": 9,
    "start_time": "2022-05-05T13:50:53.938Z"
   },
   {
    "duration": 8,
    "start_time": "2022-05-05T13:50:53.948Z"
   },
   {
    "duration": 5,
    "start_time": "2022-05-05T13:50:53.958Z"
   },
   {
    "duration": 137,
    "start_time": "2022-05-05T13:50:53.964Z"
   },
   {
    "duration": 25,
    "start_time": "2022-05-05T13:50:54.105Z"
   },
   {
    "duration": 1251,
    "start_time": "2022-05-05T13:50:54.132Z"
   },
   {
    "duration": 20,
    "start_time": "2022-05-05T13:50:55.385Z"
   },
   {
    "duration": 6,
    "start_time": "2022-05-05T13:50:55.406Z"
   },
   {
    "duration": 118,
    "start_time": "2022-05-05T13:50:55.413Z"
   },
   {
    "duration": 174,
    "start_time": "2022-05-05T13:50:55.533Z"
   },
   {
    "duration": 11,
    "start_time": "2022-05-05T13:50:55.708Z"
   },
   {
    "duration": 173,
    "start_time": "2022-05-05T13:50:55.720Z"
   },
   {
    "duration": 18,
    "start_time": "2022-05-05T13:50:55.894Z"
   },
   {
    "duration": 180,
    "start_time": "2022-05-05T13:50:55.914Z"
   },
   {
    "duration": 10,
    "start_time": "2022-05-05T13:50:56.101Z"
   },
   {
    "duration": 178,
    "start_time": "2022-05-05T13:50:56.113Z"
   },
   {
    "duration": 10,
    "start_time": "2022-05-05T13:50:56.292Z"
   },
   {
    "duration": 23,
    "start_time": "2022-05-05T13:50:56.304Z"
   },
   {
    "duration": 34,
    "start_time": "2022-05-05T13:51:25.493Z"
   },
   {
    "duration": 23,
    "start_time": "2022-05-05T13:52:35.349Z"
   },
   {
    "duration": 187,
    "start_time": "2022-05-05T14:07:42.192Z"
   },
   {
    "duration": 14,
    "start_time": "2022-05-05T14:09:49.528Z"
   },
   {
    "duration": 36,
    "start_time": "2022-05-05T14:10:29.171Z"
   },
   {
    "duration": 18,
    "start_time": "2022-05-05T14:11:01.002Z"
   },
   {
    "duration": 19,
    "start_time": "2022-05-05T14:12:34.989Z"
   }
  ],
  "kernelspec": {
   "display_name": "Python 3 (ipykernel)",
   "language": "python",
   "name": "python3"
  },
  "language_info": {
   "codemirror_mode": {
    "name": "ipython",
    "version": 3
   },
   "file_extension": ".py",
   "mimetype": "text/x-python",
   "name": "python",
   "nbconvert_exporter": "python",
   "pygments_lexer": "ipython3",
   "version": "3.9.7"
  },
  "toc": {
   "base_numbering": 1,
   "nav_menu": {},
   "number_sections": true,
   "sideBar": true,
   "skip_h1_title": true,
   "title_cell": "Table of Contents",
   "title_sidebar": "Contents",
   "toc_cell": false,
   "toc_position": {},
   "toc_section_display": true,
   "toc_window_display": true
  }
 },
 "nbformat": 4,
 "nbformat_minor": 5
}
