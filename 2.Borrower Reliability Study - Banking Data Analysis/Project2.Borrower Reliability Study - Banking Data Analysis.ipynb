{
 "cells": [
  {
   "cell_type": "markdown",
   "id": "ce587a75",
   "metadata": {},
   "source": [
    "# Исследование надежности заемщиков.\n",
    "\n",
    "Заказчик — кредитный отдел банка. Нужно разобраться, влияет ли семейное положение и количество детей клиента на факт погашения кредита в срок. Входные данные от банка — статистика о платёжеспособности клиентов.\n",
    "\n",
    "Результаты исследования будут учтены при построении модели кредитного скоринга — специальной системы, которая оценивает способность потенциального заёмщика вернуть кредит банку.\n",
    "\n",
    "**Цель исследования** — ответить на следующие вопросы:\n",
    "\n",
    "    *Есть ли зависимость между количеством детей и возвратом кредита в срок?\n",
    "    *Есть ли зависимость между семейным положением и возвратом кредита в срок?\n",
    "    *Есть ли зависимость между уровнем дохода и возвратом кредита в срок?\n",
    "    *Как разные цели кредита влияют на его возврат в срок?\n",
    "\n",
    "\n",
    "**Описание данных**:\n",
    "\n",
    "    *children — количество детей в семье\n",
    "    *days_employed — общий трудовой стаж в днях\n",
    "    *dob_years — возраст клиента в годах\n",
    "    *education — уровень образования клиента\n",
    "    *education_id — идентификатор уровня образования\n",
    "    *family_status — семейное положение\n",
    "    *family_status_id — идентификатор семейного положения\n",
    "    *gender — пол клиента\n",
    "    *income_type — тип занятости\n",
    "    *debt — имел ли задолженность по возврату кредитов\n",
    "    *total_income — ежемесячный доход\n",
    "    *purpose — цель получения кредита"
   ]
  },
  {
   "cell_type": "markdown",
   "id": "b8bedfe4",
   "metadata": {},
   "source": [
    "### Шаг 1. Обзор данных"
   ]
  },
  {
   "cell_type": "markdown",
   "id": "fedefb08",
   "metadata": {},
   "source": [
    "Импортируем библиотеку Pandas.Прочитаем файл с данными для анализа и сохраним его в переменной df. Выведем на экран первые 15 строк таблицы:"
   ]
  },
  {
   "cell_type": "code",
   "execution_count": 1,
   "id": "0b3f69f8",
   "metadata": {
    "scrolled": true
   },
   "outputs": [
    {
     "data": {
      "text/html": [
       "<div>\n",
       "<style scoped>\n",
       "    .dataframe tbody tr th:only-of-type {\n",
       "        vertical-align: middle;\n",
       "    }\n",
       "\n",
       "    .dataframe tbody tr th {\n",
       "        vertical-align: top;\n",
       "    }\n",
       "\n",
       "    .dataframe thead th {\n",
       "        text-align: right;\n",
       "    }\n",
       "</style>\n",
       "<table border=\"1\" class=\"dataframe\">\n",
       "  <thead>\n",
       "    <tr style=\"text-align: right;\">\n",
       "      <th></th>\n",
       "      <th>children</th>\n",
       "      <th>days_employed</th>\n",
       "      <th>dob_years</th>\n",
       "      <th>education</th>\n",
       "      <th>education_id</th>\n",
       "      <th>family_status</th>\n",
       "      <th>family_status_id</th>\n",
       "      <th>gender</th>\n",
       "      <th>income_type</th>\n",
       "      <th>debt</th>\n",
       "      <th>total_income</th>\n",
       "      <th>purpose</th>\n",
       "    </tr>\n",
       "  </thead>\n",
       "  <tbody>\n",
       "    <tr>\n",
       "      <th>0</th>\n",
       "      <td>1</td>\n",
       "      <td>-8437.673028</td>\n",
       "      <td>42</td>\n",
       "      <td>высшее</td>\n",
       "      <td>0</td>\n",
       "      <td>женат / замужем</td>\n",
       "      <td>0</td>\n",
       "      <td>F</td>\n",
       "      <td>сотрудник</td>\n",
       "      <td>0</td>\n",
       "      <td>253875.639453</td>\n",
       "      <td>покупка жилья</td>\n",
       "    </tr>\n",
       "    <tr>\n",
       "      <th>1</th>\n",
       "      <td>1</td>\n",
       "      <td>-4024.803754</td>\n",
       "      <td>36</td>\n",
       "      <td>среднее</td>\n",
       "      <td>1</td>\n",
       "      <td>женат / замужем</td>\n",
       "      <td>0</td>\n",
       "      <td>F</td>\n",
       "      <td>сотрудник</td>\n",
       "      <td>0</td>\n",
       "      <td>112080.014102</td>\n",
       "      <td>приобретение автомобиля</td>\n",
       "    </tr>\n",
       "    <tr>\n",
       "      <th>2</th>\n",
       "      <td>0</td>\n",
       "      <td>-5623.422610</td>\n",
       "      <td>33</td>\n",
       "      <td>Среднее</td>\n",
       "      <td>1</td>\n",
       "      <td>женат / замужем</td>\n",
       "      <td>0</td>\n",
       "      <td>M</td>\n",
       "      <td>сотрудник</td>\n",
       "      <td>0</td>\n",
       "      <td>145885.952297</td>\n",
       "      <td>покупка жилья</td>\n",
       "    </tr>\n",
       "    <tr>\n",
       "      <th>3</th>\n",
       "      <td>3</td>\n",
       "      <td>-4124.747207</td>\n",
       "      <td>32</td>\n",
       "      <td>среднее</td>\n",
       "      <td>1</td>\n",
       "      <td>женат / замужем</td>\n",
       "      <td>0</td>\n",
       "      <td>M</td>\n",
       "      <td>сотрудник</td>\n",
       "      <td>0</td>\n",
       "      <td>267628.550329</td>\n",
       "      <td>дополнительное образование</td>\n",
       "    </tr>\n",
       "    <tr>\n",
       "      <th>4</th>\n",
       "      <td>0</td>\n",
       "      <td>340266.072047</td>\n",
       "      <td>53</td>\n",
       "      <td>среднее</td>\n",
       "      <td>1</td>\n",
       "      <td>гражданский брак</td>\n",
       "      <td>1</td>\n",
       "      <td>F</td>\n",
       "      <td>пенсионер</td>\n",
       "      <td>0</td>\n",
       "      <td>158616.077870</td>\n",
       "      <td>сыграть свадьбу</td>\n",
       "    </tr>\n",
       "    <tr>\n",
       "      <th>5</th>\n",
       "      <td>0</td>\n",
       "      <td>-926.185831</td>\n",
       "      <td>27</td>\n",
       "      <td>высшее</td>\n",
       "      <td>0</td>\n",
       "      <td>гражданский брак</td>\n",
       "      <td>1</td>\n",
       "      <td>M</td>\n",
       "      <td>компаньон</td>\n",
       "      <td>0</td>\n",
       "      <td>255763.565419</td>\n",
       "      <td>покупка жилья</td>\n",
       "    </tr>\n",
       "    <tr>\n",
       "      <th>6</th>\n",
       "      <td>0</td>\n",
       "      <td>-2879.202052</td>\n",
       "      <td>43</td>\n",
       "      <td>высшее</td>\n",
       "      <td>0</td>\n",
       "      <td>женат / замужем</td>\n",
       "      <td>0</td>\n",
       "      <td>F</td>\n",
       "      <td>компаньон</td>\n",
       "      <td>0</td>\n",
       "      <td>240525.971920</td>\n",
       "      <td>операции с жильем</td>\n",
       "    </tr>\n",
       "    <tr>\n",
       "      <th>7</th>\n",
       "      <td>0</td>\n",
       "      <td>-152.779569</td>\n",
       "      <td>50</td>\n",
       "      <td>СРЕДНЕЕ</td>\n",
       "      <td>1</td>\n",
       "      <td>женат / замужем</td>\n",
       "      <td>0</td>\n",
       "      <td>M</td>\n",
       "      <td>сотрудник</td>\n",
       "      <td>0</td>\n",
       "      <td>135823.934197</td>\n",
       "      <td>образование</td>\n",
       "    </tr>\n",
       "    <tr>\n",
       "      <th>8</th>\n",
       "      <td>2</td>\n",
       "      <td>-6929.865299</td>\n",
       "      <td>35</td>\n",
       "      <td>ВЫСШЕЕ</td>\n",
       "      <td>0</td>\n",
       "      <td>гражданский брак</td>\n",
       "      <td>1</td>\n",
       "      <td>F</td>\n",
       "      <td>сотрудник</td>\n",
       "      <td>0</td>\n",
       "      <td>95856.832424</td>\n",
       "      <td>на проведение свадьбы</td>\n",
       "    </tr>\n",
       "    <tr>\n",
       "      <th>9</th>\n",
       "      <td>0</td>\n",
       "      <td>-2188.756445</td>\n",
       "      <td>41</td>\n",
       "      <td>среднее</td>\n",
       "      <td>1</td>\n",
       "      <td>женат / замужем</td>\n",
       "      <td>0</td>\n",
       "      <td>M</td>\n",
       "      <td>сотрудник</td>\n",
       "      <td>0</td>\n",
       "      <td>144425.938277</td>\n",
       "      <td>покупка жилья для семьи</td>\n",
       "    </tr>\n",
       "    <tr>\n",
       "      <th>10</th>\n",
       "      <td>2</td>\n",
       "      <td>-4171.483647</td>\n",
       "      <td>36</td>\n",
       "      <td>высшее</td>\n",
       "      <td>0</td>\n",
       "      <td>женат / замужем</td>\n",
       "      <td>0</td>\n",
       "      <td>M</td>\n",
       "      <td>компаньон</td>\n",
       "      <td>0</td>\n",
       "      <td>113943.491460</td>\n",
       "      <td>покупка недвижимости</td>\n",
       "    </tr>\n",
       "    <tr>\n",
       "      <th>11</th>\n",
       "      <td>0</td>\n",
       "      <td>-792.701887</td>\n",
       "      <td>40</td>\n",
       "      <td>среднее</td>\n",
       "      <td>1</td>\n",
       "      <td>женат / замужем</td>\n",
       "      <td>0</td>\n",
       "      <td>F</td>\n",
       "      <td>сотрудник</td>\n",
       "      <td>0</td>\n",
       "      <td>77069.234271</td>\n",
       "      <td>покупка коммерческой недвижимости</td>\n",
       "    </tr>\n",
       "    <tr>\n",
       "      <th>12</th>\n",
       "      <td>0</td>\n",
       "      <td>NaN</td>\n",
       "      <td>65</td>\n",
       "      <td>среднее</td>\n",
       "      <td>1</td>\n",
       "      <td>гражданский брак</td>\n",
       "      <td>1</td>\n",
       "      <td>M</td>\n",
       "      <td>пенсионер</td>\n",
       "      <td>0</td>\n",
       "      <td>NaN</td>\n",
       "      <td>сыграть свадьбу</td>\n",
       "    </tr>\n",
       "    <tr>\n",
       "      <th>13</th>\n",
       "      <td>0</td>\n",
       "      <td>-1846.641941</td>\n",
       "      <td>54</td>\n",
       "      <td>неоконченное высшее</td>\n",
       "      <td>2</td>\n",
       "      <td>женат / замужем</td>\n",
       "      <td>0</td>\n",
       "      <td>F</td>\n",
       "      <td>сотрудник</td>\n",
       "      <td>0</td>\n",
       "      <td>130458.228857</td>\n",
       "      <td>приобретение автомобиля</td>\n",
       "    </tr>\n",
       "    <tr>\n",
       "      <th>14</th>\n",
       "      <td>0</td>\n",
       "      <td>-1844.956182</td>\n",
       "      <td>56</td>\n",
       "      <td>высшее</td>\n",
       "      <td>0</td>\n",
       "      <td>гражданский брак</td>\n",
       "      <td>1</td>\n",
       "      <td>F</td>\n",
       "      <td>компаньон</td>\n",
       "      <td>1</td>\n",
       "      <td>165127.911772</td>\n",
       "      <td>покупка жилой недвижимости</td>\n",
       "    </tr>\n",
       "  </tbody>\n",
       "</table>\n",
       "</div>"
      ],
      "text/plain": [
       "    children  days_employed  dob_years            education  education_id  \\\n",
       "0          1   -8437.673028         42               высшее             0   \n",
       "1          1   -4024.803754         36              среднее             1   \n",
       "2          0   -5623.422610         33              Среднее             1   \n",
       "3          3   -4124.747207         32              среднее             1   \n",
       "4          0  340266.072047         53              среднее             1   \n",
       "5          0    -926.185831         27               высшее             0   \n",
       "6          0   -2879.202052         43               высшее             0   \n",
       "7          0    -152.779569         50              СРЕДНЕЕ             1   \n",
       "8          2   -6929.865299         35               ВЫСШЕЕ             0   \n",
       "9          0   -2188.756445         41              среднее             1   \n",
       "10         2   -4171.483647         36               высшее             0   \n",
       "11         0    -792.701887         40              среднее             1   \n",
       "12         0            NaN         65              среднее             1   \n",
       "13         0   -1846.641941         54  неоконченное высшее             2   \n",
       "14         0   -1844.956182         56               высшее             0   \n",
       "\n",
       "       family_status  family_status_id gender income_type  debt  \\\n",
       "0    женат / замужем                 0      F   сотрудник     0   \n",
       "1    женат / замужем                 0      F   сотрудник     0   \n",
       "2    женат / замужем                 0      M   сотрудник     0   \n",
       "3    женат / замужем                 0      M   сотрудник     0   \n",
       "4   гражданский брак                 1      F   пенсионер     0   \n",
       "5   гражданский брак                 1      M   компаньон     0   \n",
       "6    женат / замужем                 0      F   компаньон     0   \n",
       "7    женат / замужем                 0      M   сотрудник     0   \n",
       "8   гражданский брак                 1      F   сотрудник     0   \n",
       "9    женат / замужем                 0      M   сотрудник     0   \n",
       "10   женат / замужем                 0      M   компаньон     0   \n",
       "11   женат / замужем                 0      F   сотрудник     0   \n",
       "12  гражданский брак                 1      M   пенсионер     0   \n",
       "13   женат / замужем                 0      F   сотрудник     0   \n",
       "14  гражданский брак                 1      F   компаньон     1   \n",
       "\n",
       "     total_income                            purpose  \n",
       "0   253875.639453                      покупка жилья  \n",
       "1   112080.014102            приобретение автомобиля  \n",
       "2   145885.952297                      покупка жилья  \n",
       "3   267628.550329         дополнительное образование  \n",
       "4   158616.077870                    сыграть свадьбу  \n",
       "5   255763.565419                      покупка жилья  \n",
       "6   240525.971920                  операции с жильем  \n",
       "7   135823.934197                        образование  \n",
       "8    95856.832424              на проведение свадьбы  \n",
       "9   144425.938277            покупка жилья для семьи  \n",
       "10  113943.491460               покупка недвижимости  \n",
       "11   77069.234271  покупка коммерческой недвижимости  \n",
       "12            NaN                    сыграть свадьбу  \n",
       "13  130458.228857            приобретение автомобиля  \n",
       "14  165127.911772         покупка жилой недвижимости  "
      ]
     },
     "execution_count": 1,
     "metadata": {},
     "output_type": "execute_result"
    }
   ],
   "source": [
    "import pandas as pd\n",
    "df = pd.read_csv('/datasets/data.csv')\n",
    "df.head(15)"
   ]
  },
  {
   "cell_type": "markdown",
   "id": "0920a56b",
   "metadata": {},
   "source": [
    "Получим общую информацию о данных в таблице df:"
   ]
  },
  {
   "cell_type": "code",
   "execution_count": 2,
   "id": "7d7d881c",
   "metadata": {},
   "outputs": [
    {
     "name": "stdout",
     "output_type": "stream",
     "text": [
      "<class 'pandas.core.frame.DataFrame'>\n",
      "RangeIndex: 21525 entries, 0 to 21524\n",
      "Data columns (total 12 columns):\n",
      " #   Column            Non-Null Count  Dtype  \n",
      "---  ------            --------------  -----  \n",
      " 0   children          21525 non-null  int64  \n",
      " 1   days_employed     19351 non-null  float64\n",
      " 2   dob_years         21525 non-null  int64  \n",
      " 3   education         21525 non-null  object \n",
      " 4   education_id      21525 non-null  int64  \n",
      " 5   family_status     21525 non-null  object \n",
      " 6   family_status_id  21525 non-null  int64  \n",
      " 7   gender            21525 non-null  object \n",
      " 8   income_type       21525 non-null  object \n",
      " 9   debt              21525 non-null  int64  \n",
      " 10  total_income      19351 non-null  float64\n",
      " 11  purpose           21525 non-null  object \n",
      "dtypes: float64(2), int64(5), object(5)\n",
      "memory usage: 2.0+ MB\n"
     ]
    }
   ],
   "source": [
    "df.info()"
   ]
  },
  {
   "cell_type": "markdown",
   "id": "8551a633",
   "metadata": {},
   "source": [
    "### Шаг 2.1 Заполнение пропусков"
   ]
  },
  {
   "cell_type": "markdown",
   "id": "f5c92279",
   "metadata": {},
   "source": [
    "В двух столбцах (days_employed и total_income) есть пропущенные значения.Пропущенные значения могли появиться по разным причинам: клиенты могли не предоставить данные, данные могли быть не внесены сотрудником банка и т.д."
   ]
  },
  {
   "cell_type": "markdown",
   "id": "05cc49aa",
   "metadata": {},
   "source": [
    "Определим, сколько раз были пропущены значения в  столбцах days_employed,total_income.Определим процент пропущенных значений в столбце."
   ]
  },
  {
   "cell_type": "code",
   "execution_count": 3,
   "id": "efaef6af",
   "metadata": {},
   "outputs": [
    {
     "name": "stdout",
     "output_type": "stream",
     "text": [
      "Пропущенных значений в столбце Общий трудовой стаж: 2174, что составляет 10.10%.\n",
      "Пропущенных значений в столбце Ежемесячный доход: 2174, что составляет 10.10%.\n"
     ]
    }
   ],
   "source": [
    "missing_values_days_employed = len(df[df['days_employed'].isna()]) #Кол-во пропущенных значений в столбце days_employed\n",
    "missing_values_total_income = len(df[df['total_income'].isna()]) #Кол-во пропущенных значений в столбце total_income\n",
    "print(f'Пропущенных значений в столбце Общий трудовой стаж: {missing_values_days_employed}, что составляет {missing_values_days_employed/21525*100:.2f}%.')\n",
    "print(f'Пропущенных значений в столбце Ежемесячный доход: {missing_values_total_income}, что составляет {missing_values_total_income/21525*100:.2f}%.')"
   ]
  },
  {
   "cell_type": "markdown",
   "id": "6309bb76",
   "metadata": {},
   "source": [
    "В каждом столбце доля пропушенных значений превышает 10%. Строки с пропущенными значениями удалять нельзя, так как удаление такого большого количества строк может негативно отразиться на анализе данных.Заполним пропуски."
   ]
  },
  {
   "cell_type": "markdown",
   "id": "e07392d9",
   "metadata": {},
   "source": [
    "В данном случае, значения в столбцах общий трудовой стаж и ежемесячный доход - количественные переменные. Пропуски в таких переменных заполняют характерными значениями. Так как значения в столбцах сильно различаются, то среднее арифметическое  использовать некорректно. Поэтому, заполним пропуски медианными значениями.  "
   ]
  },
  {
   "cell_type": "markdown",
   "id": "fd02730b",
   "metadata": {},
   "source": [
    "<b>Замена пропушенных значений в столбце days_employed.</b>"
   ]
  },
  {
   "cell_type": "markdown",
   "id": "51342c26",
   "metadata": {},
   "source": [
    "Выведем первые пять значений с пропусками столбца days_employed."
   ]
  },
  {
   "cell_type": "code",
   "execution_count": 4,
   "id": "45e92f19",
   "metadata": {
    "scrolled": true
   },
   "outputs": [
    {
     "data": {
      "text/html": [
       "<div>\n",
       "<style scoped>\n",
       "    .dataframe tbody tr th:only-of-type {\n",
       "        vertical-align: middle;\n",
       "    }\n",
       "\n",
       "    .dataframe tbody tr th {\n",
       "        vertical-align: top;\n",
       "    }\n",
       "\n",
       "    .dataframe thead th {\n",
       "        text-align: right;\n",
       "    }\n",
       "</style>\n",
       "<table border=\"1\" class=\"dataframe\">\n",
       "  <thead>\n",
       "    <tr style=\"text-align: right;\">\n",
       "      <th></th>\n",
       "      <th>children</th>\n",
       "      <th>days_employed</th>\n",
       "      <th>dob_years</th>\n",
       "      <th>education</th>\n",
       "      <th>education_id</th>\n",
       "      <th>family_status</th>\n",
       "      <th>family_status_id</th>\n",
       "      <th>gender</th>\n",
       "      <th>income_type</th>\n",
       "      <th>debt</th>\n",
       "      <th>total_income</th>\n",
       "      <th>purpose</th>\n",
       "    </tr>\n",
       "  </thead>\n",
       "  <tbody>\n",
       "    <tr>\n",
       "      <th>12</th>\n",
       "      <td>0</td>\n",
       "      <td>NaN</td>\n",
       "      <td>65</td>\n",
       "      <td>среднее</td>\n",
       "      <td>1</td>\n",
       "      <td>гражданский брак</td>\n",
       "      <td>1</td>\n",
       "      <td>M</td>\n",
       "      <td>пенсионер</td>\n",
       "      <td>0</td>\n",
       "      <td>NaN</td>\n",
       "      <td>сыграть свадьбу</td>\n",
       "    </tr>\n",
       "    <tr>\n",
       "      <th>26</th>\n",
       "      <td>0</td>\n",
       "      <td>NaN</td>\n",
       "      <td>41</td>\n",
       "      <td>среднее</td>\n",
       "      <td>1</td>\n",
       "      <td>женат / замужем</td>\n",
       "      <td>0</td>\n",
       "      <td>M</td>\n",
       "      <td>госслужащий</td>\n",
       "      <td>0</td>\n",
       "      <td>NaN</td>\n",
       "      <td>образование</td>\n",
       "    </tr>\n",
       "    <tr>\n",
       "      <th>29</th>\n",
       "      <td>0</td>\n",
       "      <td>NaN</td>\n",
       "      <td>63</td>\n",
       "      <td>среднее</td>\n",
       "      <td>1</td>\n",
       "      <td>Не женат / не замужем</td>\n",
       "      <td>4</td>\n",
       "      <td>F</td>\n",
       "      <td>пенсионер</td>\n",
       "      <td>0</td>\n",
       "      <td>NaN</td>\n",
       "      <td>строительство жилой недвижимости</td>\n",
       "    </tr>\n",
       "    <tr>\n",
       "      <th>41</th>\n",
       "      <td>0</td>\n",
       "      <td>NaN</td>\n",
       "      <td>50</td>\n",
       "      <td>среднее</td>\n",
       "      <td>1</td>\n",
       "      <td>женат / замужем</td>\n",
       "      <td>0</td>\n",
       "      <td>F</td>\n",
       "      <td>госслужащий</td>\n",
       "      <td>0</td>\n",
       "      <td>NaN</td>\n",
       "      <td>сделка с подержанным автомобилем</td>\n",
       "    </tr>\n",
       "    <tr>\n",
       "      <th>55</th>\n",
       "      <td>0</td>\n",
       "      <td>NaN</td>\n",
       "      <td>54</td>\n",
       "      <td>среднее</td>\n",
       "      <td>1</td>\n",
       "      <td>гражданский брак</td>\n",
       "      <td>1</td>\n",
       "      <td>F</td>\n",
       "      <td>пенсионер</td>\n",
       "      <td>1</td>\n",
       "      <td>NaN</td>\n",
       "      <td>сыграть свадьбу</td>\n",
       "    </tr>\n",
       "  </tbody>\n",
       "</table>\n",
       "</div>"
      ],
      "text/plain": [
       "    children  days_employed  dob_years education  education_id  \\\n",
       "12         0            NaN         65   среднее             1   \n",
       "26         0            NaN         41   среднее             1   \n",
       "29         0            NaN         63   среднее             1   \n",
       "41         0            NaN         50   среднее             1   \n",
       "55         0            NaN         54   среднее             1   \n",
       "\n",
       "            family_status  family_status_id gender  income_type  debt  \\\n",
       "12       гражданский брак                 1      M    пенсионер     0   \n",
       "26        женат / замужем                 0      M  госслужащий     0   \n",
       "29  Не женат / не замужем                 4      F    пенсионер     0   \n",
       "41        женат / замужем                 0      F  госслужащий     0   \n",
       "55       гражданский брак                 1      F    пенсионер     1   \n",
       "\n",
       "    total_income                           purpose  \n",
       "12           NaN                   сыграть свадьбу  \n",
       "26           NaN                       образование  \n",
       "29           NaN  строительство жилой недвижимости  \n",
       "41           NaN  сделка с подержанным автомобилем  \n",
       "55           NaN                   сыграть свадьбу  "
      ]
     },
     "execution_count": 4,
     "metadata": {},
     "output_type": "execute_result"
    }
   ],
   "source": [
    "df[df['days_employed'].isna()].head()"
   ]
  },
  {
   "cell_type": "markdown",
   "id": "e4422013",
   "metadata": {},
   "source": [
    "Заполним пропуски, используя медианные значения, предварительно применив к значениям столбца days_employed функцию abs() для перевода всех значений в абсолютные."
   ]
  },
  {
   "cell_type": "code",
   "execution_count": 5,
   "id": "6ab60d64",
   "metadata": {},
   "outputs": [],
   "source": [
    "df['days_employed'] = abs(df['days_employed']) #Перевод всех значений в абсолютные \n",
    "days_employed_mean = df['days_employed'].median() #Находим медианное значение по столбцу\n",
    "df['days_employed'] = df['days_employed'].fillna(value = days_employed_mean) #Замена пропущенных значений на медианные"
   ]
  },
  {
   "cell_type": "markdown",
   "id": "d5a1a356",
   "metadata": {},
   "source": [
    "Выполним проверку:"
   ]
  },
  {
   "cell_type": "code",
   "execution_count": 6,
   "id": "85571223",
   "metadata": {},
   "outputs": [
    {
     "data": {
      "text/html": [
       "<div>\n",
       "<style scoped>\n",
       "    .dataframe tbody tr th:only-of-type {\n",
       "        vertical-align: middle;\n",
       "    }\n",
       "\n",
       "    .dataframe tbody tr th {\n",
       "        vertical-align: top;\n",
       "    }\n",
       "\n",
       "    .dataframe thead th {\n",
       "        text-align: right;\n",
       "    }\n",
       "</style>\n",
       "<table border=\"1\" class=\"dataframe\">\n",
       "  <thead>\n",
       "    <tr style=\"text-align: right;\">\n",
       "      <th></th>\n",
       "      <th>children</th>\n",
       "      <th>days_employed</th>\n",
       "      <th>dob_years</th>\n",
       "      <th>education</th>\n",
       "      <th>education_id</th>\n",
       "      <th>family_status</th>\n",
       "      <th>family_status_id</th>\n",
       "      <th>gender</th>\n",
       "      <th>income_type</th>\n",
       "      <th>debt</th>\n",
       "      <th>total_income</th>\n",
       "      <th>purpose</th>\n",
       "    </tr>\n",
       "  </thead>\n",
       "  <tbody>\n",
       "  </tbody>\n",
       "</table>\n",
       "</div>"
      ],
      "text/plain": [
       "Empty DataFrame\n",
       "Columns: [children, days_employed, dob_years, education, education_id, family_status, family_status_id, gender, income_type, debt, total_income, purpose]\n",
       "Index: []"
      ]
     },
     "execution_count": 6,
     "metadata": {},
     "output_type": "execute_result"
    }
   ],
   "source": [
    "df[df['days_employed'].isna()].head()"
   ]
  },
  {
   "cell_type": "markdown",
   "id": "468dec43",
   "metadata": {},
   "source": [
    "Пропущенные значения в столбце days_employed заменены."
   ]
  },
  {
   "cell_type": "markdown",
   "id": "eecdea0b",
   "metadata": {},
   "source": [
    "<b>Замена пропушенных значений в столбце total_income.</b>"
   ]
  },
  {
   "cell_type": "markdown",
   "id": "a023636a",
   "metadata": {},
   "source": [
    "Выведем первые пять значений с пропусками столбца total_income."
   ]
  },
  {
   "cell_type": "code",
   "execution_count": 7,
   "id": "cc698991",
   "metadata": {},
   "outputs": [
    {
     "data": {
      "text/html": [
       "<div>\n",
       "<style scoped>\n",
       "    .dataframe tbody tr th:only-of-type {\n",
       "        vertical-align: middle;\n",
       "    }\n",
       "\n",
       "    .dataframe tbody tr th {\n",
       "        vertical-align: top;\n",
       "    }\n",
       "\n",
       "    .dataframe thead th {\n",
       "        text-align: right;\n",
       "    }\n",
       "</style>\n",
       "<table border=\"1\" class=\"dataframe\">\n",
       "  <thead>\n",
       "    <tr style=\"text-align: right;\">\n",
       "      <th></th>\n",
       "      <th>children</th>\n",
       "      <th>days_employed</th>\n",
       "      <th>dob_years</th>\n",
       "      <th>education</th>\n",
       "      <th>education_id</th>\n",
       "      <th>family_status</th>\n",
       "      <th>family_status_id</th>\n",
       "      <th>gender</th>\n",
       "      <th>income_type</th>\n",
       "      <th>debt</th>\n",
       "      <th>total_income</th>\n",
       "      <th>purpose</th>\n",
       "    </tr>\n",
       "  </thead>\n",
       "  <tbody>\n",
       "    <tr>\n",
       "      <th>12</th>\n",
       "      <td>0</td>\n",
       "      <td>2194.220567</td>\n",
       "      <td>65</td>\n",
       "      <td>среднее</td>\n",
       "      <td>1</td>\n",
       "      <td>гражданский брак</td>\n",
       "      <td>1</td>\n",
       "      <td>M</td>\n",
       "      <td>пенсионер</td>\n",
       "      <td>0</td>\n",
       "      <td>NaN</td>\n",
       "      <td>сыграть свадьбу</td>\n",
       "    </tr>\n",
       "    <tr>\n",
       "      <th>26</th>\n",
       "      <td>0</td>\n",
       "      <td>2194.220567</td>\n",
       "      <td>41</td>\n",
       "      <td>среднее</td>\n",
       "      <td>1</td>\n",
       "      <td>женат / замужем</td>\n",
       "      <td>0</td>\n",
       "      <td>M</td>\n",
       "      <td>госслужащий</td>\n",
       "      <td>0</td>\n",
       "      <td>NaN</td>\n",
       "      <td>образование</td>\n",
       "    </tr>\n",
       "    <tr>\n",
       "      <th>29</th>\n",
       "      <td>0</td>\n",
       "      <td>2194.220567</td>\n",
       "      <td>63</td>\n",
       "      <td>среднее</td>\n",
       "      <td>1</td>\n",
       "      <td>Не женат / не замужем</td>\n",
       "      <td>4</td>\n",
       "      <td>F</td>\n",
       "      <td>пенсионер</td>\n",
       "      <td>0</td>\n",
       "      <td>NaN</td>\n",
       "      <td>строительство жилой недвижимости</td>\n",
       "    </tr>\n",
       "    <tr>\n",
       "      <th>41</th>\n",
       "      <td>0</td>\n",
       "      <td>2194.220567</td>\n",
       "      <td>50</td>\n",
       "      <td>среднее</td>\n",
       "      <td>1</td>\n",
       "      <td>женат / замужем</td>\n",
       "      <td>0</td>\n",
       "      <td>F</td>\n",
       "      <td>госслужащий</td>\n",
       "      <td>0</td>\n",
       "      <td>NaN</td>\n",
       "      <td>сделка с подержанным автомобилем</td>\n",
       "    </tr>\n",
       "    <tr>\n",
       "      <th>55</th>\n",
       "      <td>0</td>\n",
       "      <td>2194.220567</td>\n",
       "      <td>54</td>\n",
       "      <td>среднее</td>\n",
       "      <td>1</td>\n",
       "      <td>гражданский брак</td>\n",
       "      <td>1</td>\n",
       "      <td>F</td>\n",
       "      <td>пенсионер</td>\n",
       "      <td>1</td>\n",
       "      <td>NaN</td>\n",
       "      <td>сыграть свадьбу</td>\n",
       "    </tr>\n",
       "  </tbody>\n",
       "</table>\n",
       "</div>"
      ],
      "text/plain": [
       "    children  days_employed  dob_years education  education_id  \\\n",
       "12         0    2194.220567         65   среднее             1   \n",
       "26         0    2194.220567         41   среднее             1   \n",
       "29         0    2194.220567         63   среднее             1   \n",
       "41         0    2194.220567         50   среднее             1   \n",
       "55         0    2194.220567         54   среднее             1   \n",
       "\n",
       "            family_status  family_status_id gender  income_type  debt  \\\n",
       "12       гражданский брак                 1      M    пенсионер     0   \n",
       "26        женат / замужем                 0      M  госслужащий     0   \n",
       "29  Не женат / не замужем                 4      F    пенсионер     0   \n",
       "41        женат / замужем                 0      F  госслужащий     0   \n",
       "55       гражданский брак                 1      F    пенсионер     1   \n",
       "\n",
       "    total_income                           purpose  \n",
       "12           NaN                   сыграть свадьбу  \n",
       "26           NaN                       образование  \n",
       "29           NaN  строительство жилой недвижимости  \n",
       "41           NaN  сделка с подержанным автомобилем  \n",
       "55           NaN                   сыграть свадьбу  "
      ]
     },
     "execution_count": 7,
     "metadata": {},
     "output_type": "execute_result"
    }
   ],
   "source": [
    "df[df['total_income'].isna()].head()"
   ]
  },
  {
   "cell_type": "markdown",
   "id": "6123dc5c",
   "metadata": {},
   "source": [
    "Заполним пропуски, используя медианные значения."
   ]
  },
  {
   "cell_type": "code",
   "execution_count": 8,
   "id": "a500fe3b",
   "metadata": {},
   "outputs": [],
   "source": [
    "total_income_mean = df['total_income'].median() #Находим медианное значение по столбцу\n",
    "df['total_income'] = df['total_income'].fillna(value = total_income_mean) #Замена пропущенных значений на медианные"
   ]
  },
  {
   "cell_type": "markdown",
   "id": "0e7e1c52",
   "metadata": {},
   "source": [
    "Выполним проверку:"
   ]
  },
  {
   "cell_type": "code",
   "execution_count": 9,
   "id": "b4d020a0",
   "metadata": {},
   "outputs": [
    {
     "data": {
      "text/html": [
       "<div>\n",
       "<style scoped>\n",
       "    .dataframe tbody tr th:only-of-type {\n",
       "        vertical-align: middle;\n",
       "    }\n",
       "\n",
       "    .dataframe tbody tr th {\n",
       "        vertical-align: top;\n",
       "    }\n",
       "\n",
       "    .dataframe thead th {\n",
       "        text-align: right;\n",
       "    }\n",
       "</style>\n",
       "<table border=\"1\" class=\"dataframe\">\n",
       "  <thead>\n",
       "    <tr style=\"text-align: right;\">\n",
       "      <th></th>\n",
       "      <th>children</th>\n",
       "      <th>days_employed</th>\n",
       "      <th>dob_years</th>\n",
       "      <th>education</th>\n",
       "      <th>education_id</th>\n",
       "      <th>family_status</th>\n",
       "      <th>family_status_id</th>\n",
       "      <th>gender</th>\n",
       "      <th>income_type</th>\n",
       "      <th>debt</th>\n",
       "      <th>total_income</th>\n",
       "      <th>purpose</th>\n",
       "    </tr>\n",
       "  </thead>\n",
       "  <tbody>\n",
       "  </tbody>\n",
       "</table>\n",
       "</div>"
      ],
      "text/plain": [
       "Empty DataFrame\n",
       "Columns: [children, days_employed, dob_years, education, education_id, family_status, family_status_id, gender, income_type, debt, total_income, purpose]\n",
       "Index: []"
      ]
     },
     "execution_count": 9,
     "metadata": {},
     "output_type": "execute_result"
    }
   ],
   "source": [
    "df[df['total_income'].isna()].head()"
   ]
  },
  {
   "cell_type": "markdown",
   "id": "7946e38a",
   "metadata": {},
   "source": [
    "Пропущенные значения в столбце total_income заменены."
   ]
  },
  {
   "cell_type": "markdown",
   "id": "cbbdb3a8",
   "metadata": {},
   "source": [
    "### Шаг 2.2 Проверка данных на аномалии и исправления."
   ]
  },
  {
   "cell_type": "markdown",
   "id": "028b0c54",
   "metadata": {},
   "source": [
    "В данных  встречаются артефакты (аномалии). Данные значения появились по ошибке. \n",
    "Ранее, в шаге 2.1 отрицательное количество дней трудового стажа в столбце days_employed было исправлено с помощью функции abs(). Эта ошибка могла появиться в результате некорректной выгрузки данных, ошибок сотрудников банка при внесении информации и т.д.\n",
    "Также в шаге 2.1 были заполнены все пропущенные значения."
   ]
  },
  {
   "cell_type": "markdown",
   "id": "5333dcb1",
   "metadata": {},
   "source": [
    "Проверим значения в остальных столбцах таблицы на аномалии. Некорректные значения есть в столбцах children, gender и dob_years."
   ]
  },
  {
   "cell_type": "markdown",
   "id": "7b61006e",
   "metadata": {},
   "source": [
    "В столбце children есть отрицательные значения (-1), что является явной ошибкой: "
   ]
  },
  {
   "cell_type": "code",
   "execution_count": 10,
   "id": "c37d9525",
   "metadata": {},
   "outputs": [
    {
     "data": {
      "text/plain": [
       " 0     14149\n",
       " 1      4818\n",
       " 2      2055\n",
       " 3       330\n",
       " 20       76\n",
       "-1        47\n",
       " 4        41\n",
       " 5         9\n",
       "Name: children, dtype: int64"
      ]
     },
     "execution_count": 10,
     "metadata": {},
     "output_type": "execute_result"
    }
   ],
   "source": [
    "df['children'].value_counts()"
   ]
  },
  {
   "cell_type": "markdown",
   "id": "c0f4b912",
   "metadata": {},
   "source": [
    "Исправим все значения в столбце children на абсолютные. Также, предположим что значение 20 - ошибочно. Исправим данное значение на 2."
   ]
  },
  {
   "cell_type": "code",
   "execution_count": 11,
   "id": "1c6790a0",
   "metadata": {},
   "outputs": [],
   "source": [
    "#Исправление всех значений на абсолютные\n",
    "df['children'] = abs(df['children']) \n",
    "#Замена значений 20 в столбце children  на 2\n",
    "df.loc[(df['children'] == 20), ['children']] = 2"
   ]
  },
  {
   "cell_type": "code",
   "execution_count": 12,
   "id": "a4f7b94c",
   "metadata": {},
   "outputs": [
    {
     "data": {
      "text/plain": [
       "0    14149\n",
       "1     4865\n",
       "2     2131\n",
       "3      330\n",
       "4       41\n",
       "5        9\n",
       "Name: children, dtype: int64"
      ]
     },
     "execution_count": 12,
     "metadata": {},
     "output_type": "execute_result"
    }
   ],
   "source": [
    "df['children'].value_counts()"
   ]
  },
  {
   "cell_type": "markdown",
   "id": "f2f533ff",
   "metadata": {},
   "source": [
    "В столбце gender есть недопустимое значение XNA."
   ]
  },
  {
   "cell_type": "code",
   "execution_count": 13,
   "id": "e286e30e",
   "metadata": {},
   "outputs": [
    {
     "data": {
      "text/plain": [
       "F      14236\n",
       "M       7288\n",
       "XNA        1\n",
       "Name: gender, dtype: int64"
      ]
     },
     "execution_count": 13,
     "metadata": {},
     "output_type": "execute_result"
    }
   ],
   "source": [
    "df['gender'].value_counts()"
   ]
  },
  {
   "cell_type": "code",
   "execution_count": 14,
   "id": "8d0b9c5a",
   "metadata": {},
   "outputs": [
    {
     "data": {
      "text/html": [
       "<div>\n",
       "<style scoped>\n",
       "    .dataframe tbody tr th:only-of-type {\n",
       "        vertical-align: middle;\n",
       "    }\n",
       "\n",
       "    .dataframe tbody tr th {\n",
       "        vertical-align: top;\n",
       "    }\n",
       "\n",
       "    .dataframe thead th {\n",
       "        text-align: right;\n",
       "    }\n",
       "</style>\n",
       "<table border=\"1\" class=\"dataframe\">\n",
       "  <thead>\n",
       "    <tr style=\"text-align: right;\">\n",
       "      <th></th>\n",
       "      <th>children</th>\n",
       "      <th>days_employed</th>\n",
       "      <th>dob_years</th>\n",
       "      <th>education</th>\n",
       "      <th>education_id</th>\n",
       "      <th>family_status</th>\n",
       "      <th>family_status_id</th>\n",
       "      <th>gender</th>\n",
       "      <th>income_type</th>\n",
       "      <th>debt</th>\n",
       "      <th>total_income</th>\n",
       "      <th>purpose</th>\n",
       "    </tr>\n",
       "  </thead>\n",
       "  <tbody>\n",
       "    <tr>\n",
       "      <th>10701</th>\n",
       "      <td>0</td>\n",
       "      <td>2358.600502</td>\n",
       "      <td>24</td>\n",
       "      <td>неоконченное высшее</td>\n",
       "      <td>2</td>\n",
       "      <td>гражданский брак</td>\n",
       "      <td>1</td>\n",
       "      <td>XNA</td>\n",
       "      <td>компаньон</td>\n",
       "      <td>0</td>\n",
       "      <td>203905.157261</td>\n",
       "      <td>покупка недвижимости</td>\n",
       "    </tr>\n",
       "  </tbody>\n",
       "</table>\n",
       "</div>"
      ],
      "text/plain": [
       "       children  days_employed  dob_years            education  education_id  \\\n",
       "10701         0    2358.600502         24  неоконченное высшее             2   \n",
       "\n",
       "          family_status  family_status_id gender income_type  debt  \\\n",
       "10701  гражданский брак                 1    XNA   компаньон     0   \n",
       "\n",
       "        total_income               purpose  \n",
       "10701  203905.157261  покупка недвижимости  "
      ]
     },
     "execution_count": 14,
     "metadata": {},
     "output_type": "execute_result"
    }
   ],
   "source": [
    "rows = df['gender'] == 'XNA'\n",
    "df.loc[rows]"
   ]
  },
  {
   "cell_type": "markdown",
   "id": "661a5b54",
   "metadata": {},
   "source": [
    "Заменим значение XNA в таблице на наиболее популярный пол."
   ]
  },
  {
   "cell_type": "code",
   "execution_count": 15,
   "id": "956c5622",
   "metadata": {},
   "outputs": [
    {
     "data": {
      "text/plain": [
       "F    14237\n",
       "M     7288\n",
       "Name: gender, dtype: int64"
      ]
     },
     "execution_count": 15,
     "metadata": {},
     "output_type": "execute_result"
    }
   ],
   "source": [
    "df.loc[(df['gender'] == 'XNA'), ['gender']] = 'F'\n",
    "df['gender'].value_counts()"
   ]
  },
  {
   "cell_type": "markdown",
   "id": "ec7ecf47",
   "metadata": {},
   "source": [
    "В столбце dob_years есть нулевые значения, что является ошибкой. Заменим данное значение на медианное."
   ]
  },
  {
   "cell_type": "code",
   "execution_count": 16,
   "id": "6f0bce2d",
   "metadata": {},
   "outputs": [
    {
     "data": {
      "text/plain": [
       "35    617\n",
       "40    609\n",
       "41    607\n",
       "34    603\n",
       "38    598\n",
       "42    597\n",
       "33    581\n",
       "39    573\n",
       "31    560\n",
       "36    555\n",
       "44    547\n",
       "29    545\n",
       "30    540\n",
       "48    538\n",
       "37    537\n",
       "50    514\n",
       "43    513\n",
       "32    510\n",
       "49    508\n",
       "28    503\n",
       "45    497\n",
       "27    493\n",
       "56    487\n",
       "52    484\n",
       "47    480\n",
       "54    479\n",
       "46    475\n",
       "58    461\n",
       "57    460\n",
       "53    459\n",
       "51    448\n",
       "59    444\n",
       "55    443\n",
       "26    408\n",
       "60    377\n",
       "25    357\n",
       "61    355\n",
       "62    352\n",
       "63    269\n",
       "64    265\n",
       "24    264\n",
       "23    254\n",
       "65    194\n",
       "66    183\n",
       "22    183\n",
       "67    167\n",
       "21    111\n",
       "0     101\n",
       "68     99\n",
       "69     85\n",
       "70     65\n",
       "71     58\n",
       "20     51\n",
       "72     33\n",
       "19     14\n",
       "73      8\n",
       "74      6\n",
       "75      1\n",
       "Name: dob_years, dtype: int64"
      ]
     },
     "execution_count": 16,
     "metadata": {},
     "output_type": "execute_result"
    }
   ],
   "source": [
    "df['dob_years'].value_counts()"
   ]
  },
  {
   "cell_type": "code",
   "execution_count": 17,
   "id": "058c0b7b",
   "metadata": {},
   "outputs": [
    {
     "data": {
      "text/plain": [
       "42.0    698\n",
       "35.0    617\n",
       "40.0    609\n",
       "41.0    607\n",
       "34.0    603\n",
       "38.0    598\n",
       "33.0    581\n",
       "39.0    573\n",
       "31.0    560\n",
       "36.0    555\n",
       "44.0    547\n",
       "29.0    545\n",
       "30.0    540\n",
       "48.0    538\n",
       "37.0    537\n",
       "50.0    514\n",
       "43.0    513\n",
       "32.0    510\n",
       "49.0    508\n",
       "28.0    503\n",
       "45.0    497\n",
       "27.0    493\n",
       "56.0    487\n",
       "52.0    484\n",
       "47.0    480\n",
       "54.0    479\n",
       "46.0    475\n",
       "58.0    461\n",
       "57.0    460\n",
       "53.0    459\n",
       "51.0    448\n",
       "59.0    444\n",
       "55.0    443\n",
       "26.0    408\n",
       "60.0    377\n",
       "25.0    357\n",
       "61.0    355\n",
       "62.0    352\n",
       "63.0    269\n",
       "64.0    265\n",
       "24.0    264\n",
       "23.0    254\n",
       "65.0    194\n",
       "66.0    183\n",
       "22.0    183\n",
       "67.0    167\n",
       "21.0    111\n",
       "68.0     99\n",
       "69.0     85\n",
       "70.0     65\n",
       "71.0     58\n",
       "20.0     51\n",
       "72.0     33\n",
       "19.0     14\n",
       "73.0      8\n",
       "74.0      6\n",
       "75.0      1\n",
       "Name: dob_years, dtype: int64"
      ]
     },
     "execution_count": 17,
     "metadata": {},
     "output_type": "execute_result"
    }
   ],
   "source": [
    "#Находим медианное значение\n",
    "dob_years_mean = df['dob_years'].median()\n",
    "#Замена нулевых значений на медианные\n",
    "df.loc[(df['dob_years'] == 0), ['dob_years']] = dob_years_mean\n",
    "#Проверка\n",
    "df['dob_years'].value_counts()"
   ]
  },
  {
   "cell_type": "markdown",
   "id": "87270300",
   "metadata": {},
   "source": [
    "Также, в столбце days_employed есть некорректные значения, например общий трудовой стаж в днях равный 340266.072047 что равно более 900 лет. Данные значения скорректировать нет возможности, на анализ они не повлияют Оставим из без изменений."
   ]
  },
  {
   "cell_type": "markdown",
   "id": "81912046",
   "metadata": {},
   "source": [
    "### Шаг 2.3. Изменение типов данных."
   ]
  },
  {
   "cell_type": "markdown",
   "id": "93706a8e",
   "metadata": {},
   "source": [
    "Заменим вещественный тип данных в столбце total_income и days_employed на целочисленный с помощью метода astype()."
   ]
  },
  {
   "cell_type": "code",
   "execution_count": 18,
   "id": "3299bb3e",
   "metadata": {},
   "outputs": [],
   "source": [
    "df['total_income'] = df['total_income'].astype('int')\n",
    "df['days_employed'] = df['days_employed'].astype('int')"
   ]
  },
  {
   "cell_type": "markdown",
   "id": "7a46d081",
   "metadata": {},
   "source": [
    "Выполним проверку. "
   ]
  },
  {
   "cell_type": "code",
   "execution_count": 19,
   "id": "7ab1ce52",
   "metadata": {},
   "outputs": [
    {
     "name": "stdout",
     "output_type": "stream",
     "text": [
      "<class 'pandas.core.frame.DataFrame'>\n",
      "RangeIndex: 21525 entries, 0 to 21524\n",
      "Data columns (total 12 columns):\n",
      " #   Column            Non-Null Count  Dtype  \n",
      "---  ------            --------------  -----  \n",
      " 0   children          21525 non-null  int64  \n",
      " 1   days_employed     21525 non-null  int64  \n",
      " 2   dob_years         21525 non-null  float64\n",
      " 3   education         21525 non-null  object \n",
      " 4   education_id      21525 non-null  int64  \n",
      " 5   family_status     21525 non-null  object \n",
      " 6   family_status_id  21525 non-null  int64  \n",
      " 7   gender            21525 non-null  object \n",
      " 8   income_type       21525 non-null  object \n",
      " 9   debt              21525 non-null  int64  \n",
      " 10  total_income      21525 non-null  int64  \n",
      " 11  purpose           21525 non-null  object \n",
      "dtypes: float64(1), int64(6), object(5)\n",
      "memory usage: 2.0+ MB\n"
     ]
    }
   ],
   "source": [
    "df.info()"
   ]
  },
  {
   "cell_type": "markdown",
   "id": "59965356",
   "metadata": {},
   "source": [
    "### Шаг 2.4. Удаление дубликатов."
   ]
  },
  {
   "cell_type": "markdown",
   "id": "107c924b",
   "metadata": {},
   "source": [
    "Приведем значения в столбце education к одному регистру. "
   ]
  },
  {
   "cell_type": "code",
   "execution_count": 20,
   "id": "642e3fbe",
   "metadata": {},
   "outputs": [],
   "source": [
    "df['education'] = df['education'].str.lower()"
   ]
  },
  {
   "cell_type": "markdown",
   "id": "c772cdc0",
   "metadata": {},
   "source": [
    "Проверим данные на наличие явных дубликатов."
   ]
  },
  {
   "cell_type": "code",
   "execution_count": 21,
   "id": "5df2d94a",
   "metadata": {},
   "outputs": [
    {
     "data": {
      "text/plain": [
       "72"
      ]
     },
     "execution_count": 21,
     "metadata": {},
     "output_type": "execute_result"
    }
   ],
   "source": [
    "df.duplicated().sum()"
   ]
  },
  {
   "cell_type": "markdown",
   "id": "15897ba9",
   "metadata": {},
   "source": [
    "Удалим явные дубликаты."
   ]
  },
  {
   "cell_type": "code",
   "execution_count": 22,
   "id": "d0385aa1",
   "metadata": {},
   "outputs": [],
   "source": [
    "df = df.drop_duplicates().reset_index(drop=True) "
   ]
  },
  {
   "cell_type": "markdown",
   "id": "11d77568",
   "metadata": {},
   "source": [
    "### Шаг 2.5. Формирование дополнительных датафреймов словарей, декомпозиция исходного датафрейма."
   ]
  },
  {
   "cell_type": "markdown",
   "id": "adf69eaa",
   "metadata": {},
   "source": [
    "Создадим  два новых датафрейма."
   ]
  },
  {
   "cell_type": "markdown",
   "id": "bca23a19",
   "metadata": {},
   "source": [
    "1. Каждому уникальному значению из education соответствует уникальное значение education_id."
   ]
  },
  {
   "cell_type": "code",
   "execution_count": 23,
   "id": "94b98b3a",
   "metadata": {},
   "outputs": [
    {
     "name": "stdout",
     "output_type": "stream",
     "text": [
      "  education  education_id\n",
      "0    высшее             0\n",
      "1   среднее             1\n",
      "2   среднее             1\n",
      "3   среднее             1\n",
      "4   среднее             1\n",
      "5    высшее             0\n",
      "6    высшее             0\n",
      "7   среднее             1\n",
      "8    высшее             0\n",
      "9   среднее             1\n"
     ]
    }
   ],
   "source": [
    "education_df = df[['education','education_id']]\n",
    "print(education_df.head(10))"
   ]
  },
  {
   "cell_type": "markdown",
   "id": "8fc42934",
   "metadata": {},
   "source": [
    "Удалим дубликаты."
   ]
  },
  {
   "cell_type": "code",
   "execution_count": 24,
   "id": "38a746e6",
   "metadata": {},
   "outputs": [
    {
     "name": "stdout",
     "output_type": "stream",
     "text": [
      "             education  education_id\n",
      "0               высшее             0\n",
      "1              среднее             1\n",
      "2  неоконченное высшее             2\n",
      "3            начальное             3\n",
      "4       ученая степень             4\n"
     ]
    }
   ],
   "source": [
    "education_df = education_df.drop_duplicates().reset_index(drop=True)\n",
    "print(education_df.head(10)) "
   ]
  },
  {
   "cell_type": "markdown",
   "id": "1f663d7a",
   "metadata": {},
   "source": [
    "2. Каждому уникальному значению из family_status соответствует уникальное значение family_status_id.\n"
   ]
  },
  {
   "cell_type": "code",
   "execution_count": 25,
   "id": "2160ceec",
   "metadata": {},
   "outputs": [
    {
     "name": "stdout",
     "output_type": "stream",
     "text": [
      "      family_status  family_status_id\n",
      "0   женат / замужем                 0\n",
      "1   женат / замужем                 0\n",
      "2   женат / замужем                 0\n",
      "3   женат / замужем                 0\n",
      "4  гражданский брак                 1\n",
      "5  гражданский брак                 1\n",
      "6   женат / замужем                 0\n",
      "7   женат / замужем                 0\n",
      "8  гражданский брак                 1\n",
      "9   женат / замужем                 0\n"
     ]
    }
   ],
   "source": [
    "family_df = df[['family_status','family_status_id']]\n",
    "print(family_df.head(10))"
   ]
  },
  {
   "cell_type": "markdown",
   "id": "efff802b",
   "metadata": {},
   "source": [
    "Удалим дубликаты."
   ]
  },
  {
   "cell_type": "code",
   "execution_count": 26,
   "id": "4fe07417",
   "metadata": {},
   "outputs": [
    {
     "name": "stdout",
     "output_type": "stream",
     "text": [
      "           family_status  family_status_id\n",
      "0        женат / замужем                 0\n",
      "1       гражданский брак                 1\n",
      "2         вдовец / вдова                 2\n",
      "3              в разводе                 3\n",
      "4  Не женат / не замужем                 4\n"
     ]
    }
   ],
   "source": [
    "family_df = family_df.drop_duplicates().reset_index(drop=True)\n",
    "print(family_df.head(10)) "
   ]
  },
  {
   "cell_type": "markdown",
   "id": "8f507e1c",
   "metadata": {},
   "source": [
    "Удалим из исходного датафрейма столбцы education и family_status."
   ]
  },
  {
   "cell_type": "code",
   "execution_count": 27,
   "id": "e79ce0ac",
   "metadata": {},
   "outputs": [
    {
     "data": {
      "text/html": [
       "<div>\n",
       "<style scoped>\n",
       "    .dataframe tbody tr th:only-of-type {\n",
       "        vertical-align: middle;\n",
       "    }\n",
       "\n",
       "    .dataframe tbody tr th {\n",
       "        vertical-align: top;\n",
       "    }\n",
       "\n",
       "    .dataframe thead th {\n",
       "        text-align: right;\n",
       "    }\n",
       "</style>\n",
       "<table border=\"1\" class=\"dataframe\">\n",
       "  <thead>\n",
       "    <tr style=\"text-align: right;\">\n",
       "      <th></th>\n",
       "      <th>children</th>\n",
       "      <th>days_employed</th>\n",
       "      <th>dob_years</th>\n",
       "      <th>education_id</th>\n",
       "      <th>family_status_id</th>\n",
       "      <th>gender</th>\n",
       "      <th>income_type</th>\n",
       "      <th>debt</th>\n",
       "      <th>total_income</th>\n",
       "      <th>purpose</th>\n",
       "    </tr>\n",
       "  </thead>\n",
       "  <tbody>\n",
       "    <tr>\n",
       "      <th>0</th>\n",
       "      <td>1</td>\n",
       "      <td>8437</td>\n",
       "      <td>42.0</td>\n",
       "      <td>0</td>\n",
       "      <td>0</td>\n",
       "      <td>F</td>\n",
       "      <td>сотрудник</td>\n",
       "      <td>0</td>\n",
       "      <td>253875</td>\n",
       "      <td>покупка жилья</td>\n",
       "    </tr>\n",
       "    <tr>\n",
       "      <th>1</th>\n",
       "      <td>1</td>\n",
       "      <td>4024</td>\n",
       "      <td>36.0</td>\n",
       "      <td>1</td>\n",
       "      <td>0</td>\n",
       "      <td>F</td>\n",
       "      <td>сотрудник</td>\n",
       "      <td>0</td>\n",
       "      <td>112080</td>\n",
       "      <td>приобретение автомобиля</td>\n",
       "    </tr>\n",
       "    <tr>\n",
       "      <th>2</th>\n",
       "      <td>0</td>\n",
       "      <td>5623</td>\n",
       "      <td>33.0</td>\n",
       "      <td>1</td>\n",
       "      <td>0</td>\n",
       "      <td>M</td>\n",
       "      <td>сотрудник</td>\n",
       "      <td>0</td>\n",
       "      <td>145885</td>\n",
       "      <td>покупка жилья</td>\n",
       "    </tr>\n",
       "    <tr>\n",
       "      <th>3</th>\n",
       "      <td>3</td>\n",
       "      <td>4124</td>\n",
       "      <td>32.0</td>\n",
       "      <td>1</td>\n",
       "      <td>0</td>\n",
       "      <td>M</td>\n",
       "      <td>сотрудник</td>\n",
       "      <td>0</td>\n",
       "      <td>267628</td>\n",
       "      <td>дополнительное образование</td>\n",
       "    </tr>\n",
       "    <tr>\n",
       "      <th>4</th>\n",
       "      <td>0</td>\n",
       "      <td>340266</td>\n",
       "      <td>53.0</td>\n",
       "      <td>1</td>\n",
       "      <td>1</td>\n",
       "      <td>F</td>\n",
       "      <td>пенсионер</td>\n",
       "      <td>0</td>\n",
       "      <td>158616</td>\n",
       "      <td>сыграть свадьбу</td>\n",
       "    </tr>\n",
       "    <tr>\n",
       "      <th>5</th>\n",
       "      <td>0</td>\n",
       "      <td>926</td>\n",
       "      <td>27.0</td>\n",
       "      <td>0</td>\n",
       "      <td>1</td>\n",
       "      <td>M</td>\n",
       "      <td>компаньон</td>\n",
       "      <td>0</td>\n",
       "      <td>255763</td>\n",
       "      <td>покупка жилья</td>\n",
       "    </tr>\n",
       "    <tr>\n",
       "      <th>6</th>\n",
       "      <td>0</td>\n",
       "      <td>2879</td>\n",
       "      <td>43.0</td>\n",
       "      <td>0</td>\n",
       "      <td>0</td>\n",
       "      <td>F</td>\n",
       "      <td>компаньон</td>\n",
       "      <td>0</td>\n",
       "      <td>240525</td>\n",
       "      <td>операции с жильем</td>\n",
       "    </tr>\n",
       "    <tr>\n",
       "      <th>7</th>\n",
       "      <td>0</td>\n",
       "      <td>152</td>\n",
       "      <td>50.0</td>\n",
       "      <td>1</td>\n",
       "      <td>0</td>\n",
       "      <td>M</td>\n",
       "      <td>сотрудник</td>\n",
       "      <td>0</td>\n",
       "      <td>135823</td>\n",
       "      <td>образование</td>\n",
       "    </tr>\n",
       "    <tr>\n",
       "      <th>8</th>\n",
       "      <td>2</td>\n",
       "      <td>6929</td>\n",
       "      <td>35.0</td>\n",
       "      <td>0</td>\n",
       "      <td>1</td>\n",
       "      <td>F</td>\n",
       "      <td>сотрудник</td>\n",
       "      <td>0</td>\n",
       "      <td>95856</td>\n",
       "      <td>на проведение свадьбы</td>\n",
       "    </tr>\n",
       "    <tr>\n",
       "      <th>9</th>\n",
       "      <td>0</td>\n",
       "      <td>2188</td>\n",
       "      <td>41.0</td>\n",
       "      <td>1</td>\n",
       "      <td>0</td>\n",
       "      <td>M</td>\n",
       "      <td>сотрудник</td>\n",
       "      <td>0</td>\n",
       "      <td>144425</td>\n",
       "      <td>покупка жилья для семьи</td>\n",
       "    </tr>\n",
       "  </tbody>\n",
       "</table>\n",
       "</div>"
      ],
      "text/plain": [
       "   children  days_employed  dob_years  education_id  family_status_id gender  \\\n",
       "0         1           8437       42.0             0                 0      F   \n",
       "1         1           4024       36.0             1                 0      F   \n",
       "2         0           5623       33.0             1                 0      M   \n",
       "3         3           4124       32.0             1                 0      M   \n",
       "4         0         340266       53.0             1                 1      F   \n",
       "5         0            926       27.0             0                 1      M   \n",
       "6         0           2879       43.0             0                 0      F   \n",
       "7         0            152       50.0             1                 0      M   \n",
       "8         2           6929       35.0             0                 1      F   \n",
       "9         0           2188       41.0             1                 0      M   \n",
       "\n",
       "  income_type  debt  total_income                     purpose  \n",
       "0   сотрудник     0        253875               покупка жилья  \n",
       "1   сотрудник     0        112080     приобретение автомобиля  \n",
       "2   сотрудник     0        145885               покупка жилья  \n",
       "3   сотрудник     0        267628  дополнительное образование  \n",
       "4   пенсионер     0        158616             сыграть свадьбу  \n",
       "5   компаньон     0        255763               покупка жилья  \n",
       "6   компаньон     0        240525           операции с жильем  \n",
       "7   сотрудник     0        135823                 образование  \n",
       "8   сотрудник     0         95856       на проведение свадьбы  \n",
       "9   сотрудник     0        144425     покупка жилья для семьи  "
      ]
     },
     "execution_count": 27,
     "metadata": {},
     "output_type": "execute_result"
    }
   ],
   "source": [
    "df = df.drop(['education', 'family_status'], axis=1)\n",
    "df.head(10)"
   ]
  },
  {
   "cell_type": "markdown",
   "id": "4fd6fa38",
   "metadata": {},
   "source": [
    "### Шаг 2.6. Категоризация дохода."
   ]
  },
  {
   "cell_type": "markdown",
   "id": "c3ba784a",
   "metadata": {},
   "source": [
    "Cоздадим столбец total_income_category с категориями:0–30000 — 'E';30001–50000 — 'D';50001–200000 — 'C';200001–1000000 — 'B';1000001 и выше — 'A'."
   ]
  },
  {
   "cell_type": "markdown",
   "id": "6dd6e9aa",
   "metadata": {},
   "source": [
    "Создадим функцию income. На вход функции попадает ежемесячный доход, а возвращает функция категорию клиента. Опишем функцию:"
   ]
  },
  {
   "cell_type": "code",
   "execution_count": 28,
   "id": "46df9b28",
   "metadata": {},
   "outputs": [],
   "source": [
    "def income(total_income):\n",
    "    if 30000 >= total_income >= 0:\n",
    "        return 'E'\n",
    "    if 50000 >= total_income >= 30001:\n",
    "        return 'D'\n",
    "    if 200000 >= total_income >= 50001:\n",
    "        return 'C'\n",
    "    if 1000000 >= total_income >= 200001:\n",
    "        return 'B'\n",
    "    if  total_income > 1000000:\n",
    "        return 'A'   "
   ]
  },
  {
   "cell_type": "markdown",
   "id": "52ee3308",
   "metadata": {},
   "source": [
    "Создадим отдельный столбец с категориями дохода."
   ]
  },
  {
   "cell_type": "code",
   "execution_count": 29,
   "id": "b47f129b",
   "metadata": {},
   "outputs": [
    {
     "data": {
      "text/html": [
       "<div>\n",
       "<style scoped>\n",
       "    .dataframe tbody tr th:only-of-type {\n",
       "        vertical-align: middle;\n",
       "    }\n",
       "\n",
       "    .dataframe tbody tr th {\n",
       "        vertical-align: top;\n",
       "    }\n",
       "\n",
       "    .dataframe thead th {\n",
       "        text-align: right;\n",
       "    }\n",
       "</style>\n",
       "<table border=\"1\" class=\"dataframe\">\n",
       "  <thead>\n",
       "    <tr style=\"text-align: right;\">\n",
       "      <th></th>\n",
       "      <th>children</th>\n",
       "      <th>days_employed</th>\n",
       "      <th>dob_years</th>\n",
       "      <th>education_id</th>\n",
       "      <th>family_status_id</th>\n",
       "      <th>gender</th>\n",
       "      <th>income_type</th>\n",
       "      <th>debt</th>\n",
       "      <th>total_income</th>\n",
       "      <th>purpose</th>\n",
       "      <th>income_group</th>\n",
       "    </tr>\n",
       "  </thead>\n",
       "  <tbody>\n",
       "    <tr>\n",
       "      <th>0</th>\n",
       "      <td>1</td>\n",
       "      <td>8437</td>\n",
       "      <td>42.0</td>\n",
       "      <td>0</td>\n",
       "      <td>0</td>\n",
       "      <td>F</td>\n",
       "      <td>сотрудник</td>\n",
       "      <td>0</td>\n",
       "      <td>253875</td>\n",
       "      <td>покупка жилья</td>\n",
       "      <td>B</td>\n",
       "    </tr>\n",
       "    <tr>\n",
       "      <th>1</th>\n",
       "      <td>1</td>\n",
       "      <td>4024</td>\n",
       "      <td>36.0</td>\n",
       "      <td>1</td>\n",
       "      <td>0</td>\n",
       "      <td>F</td>\n",
       "      <td>сотрудник</td>\n",
       "      <td>0</td>\n",
       "      <td>112080</td>\n",
       "      <td>приобретение автомобиля</td>\n",
       "      <td>C</td>\n",
       "    </tr>\n",
       "    <tr>\n",
       "      <th>2</th>\n",
       "      <td>0</td>\n",
       "      <td>5623</td>\n",
       "      <td>33.0</td>\n",
       "      <td>1</td>\n",
       "      <td>0</td>\n",
       "      <td>M</td>\n",
       "      <td>сотрудник</td>\n",
       "      <td>0</td>\n",
       "      <td>145885</td>\n",
       "      <td>покупка жилья</td>\n",
       "      <td>C</td>\n",
       "    </tr>\n",
       "    <tr>\n",
       "      <th>3</th>\n",
       "      <td>3</td>\n",
       "      <td>4124</td>\n",
       "      <td>32.0</td>\n",
       "      <td>1</td>\n",
       "      <td>0</td>\n",
       "      <td>M</td>\n",
       "      <td>сотрудник</td>\n",
       "      <td>0</td>\n",
       "      <td>267628</td>\n",
       "      <td>дополнительное образование</td>\n",
       "      <td>B</td>\n",
       "    </tr>\n",
       "    <tr>\n",
       "      <th>4</th>\n",
       "      <td>0</td>\n",
       "      <td>340266</td>\n",
       "      <td>53.0</td>\n",
       "      <td>1</td>\n",
       "      <td>1</td>\n",
       "      <td>F</td>\n",
       "      <td>пенсионер</td>\n",
       "      <td>0</td>\n",
       "      <td>158616</td>\n",
       "      <td>сыграть свадьбу</td>\n",
       "      <td>C</td>\n",
       "    </tr>\n",
       "    <tr>\n",
       "      <th>5</th>\n",
       "      <td>0</td>\n",
       "      <td>926</td>\n",
       "      <td>27.0</td>\n",
       "      <td>0</td>\n",
       "      <td>1</td>\n",
       "      <td>M</td>\n",
       "      <td>компаньон</td>\n",
       "      <td>0</td>\n",
       "      <td>255763</td>\n",
       "      <td>покупка жилья</td>\n",
       "      <td>B</td>\n",
       "    </tr>\n",
       "    <tr>\n",
       "      <th>6</th>\n",
       "      <td>0</td>\n",
       "      <td>2879</td>\n",
       "      <td>43.0</td>\n",
       "      <td>0</td>\n",
       "      <td>0</td>\n",
       "      <td>F</td>\n",
       "      <td>компаньон</td>\n",
       "      <td>0</td>\n",
       "      <td>240525</td>\n",
       "      <td>операции с жильем</td>\n",
       "      <td>B</td>\n",
       "    </tr>\n",
       "    <tr>\n",
       "      <th>7</th>\n",
       "      <td>0</td>\n",
       "      <td>152</td>\n",
       "      <td>50.0</td>\n",
       "      <td>1</td>\n",
       "      <td>0</td>\n",
       "      <td>M</td>\n",
       "      <td>сотрудник</td>\n",
       "      <td>0</td>\n",
       "      <td>135823</td>\n",
       "      <td>образование</td>\n",
       "      <td>C</td>\n",
       "    </tr>\n",
       "    <tr>\n",
       "      <th>8</th>\n",
       "      <td>2</td>\n",
       "      <td>6929</td>\n",
       "      <td>35.0</td>\n",
       "      <td>0</td>\n",
       "      <td>1</td>\n",
       "      <td>F</td>\n",
       "      <td>сотрудник</td>\n",
       "      <td>0</td>\n",
       "      <td>95856</td>\n",
       "      <td>на проведение свадьбы</td>\n",
       "      <td>C</td>\n",
       "    </tr>\n",
       "    <tr>\n",
       "      <th>9</th>\n",
       "      <td>0</td>\n",
       "      <td>2188</td>\n",
       "      <td>41.0</td>\n",
       "      <td>1</td>\n",
       "      <td>0</td>\n",
       "      <td>M</td>\n",
       "      <td>сотрудник</td>\n",
       "      <td>0</td>\n",
       "      <td>144425</td>\n",
       "      <td>покупка жилья для семьи</td>\n",
       "      <td>C</td>\n",
       "    </tr>\n",
       "  </tbody>\n",
       "</table>\n",
       "</div>"
      ],
      "text/plain": [
       "   children  days_employed  dob_years  education_id  family_status_id gender  \\\n",
       "0         1           8437       42.0             0                 0      F   \n",
       "1         1           4024       36.0             1                 0      F   \n",
       "2         0           5623       33.0             1                 0      M   \n",
       "3         3           4124       32.0             1                 0      M   \n",
       "4         0         340266       53.0             1                 1      F   \n",
       "5         0            926       27.0             0                 1      M   \n",
       "6         0           2879       43.0             0                 0      F   \n",
       "7         0            152       50.0             1                 0      M   \n",
       "8         2           6929       35.0             0                 1      F   \n",
       "9         0           2188       41.0             1                 0      M   \n",
       "\n",
       "  income_type  debt  total_income                     purpose income_group  \n",
       "0   сотрудник     0        253875               покупка жилья            B  \n",
       "1   сотрудник     0        112080     приобретение автомобиля            C  \n",
       "2   сотрудник     0        145885               покупка жилья            C  \n",
       "3   сотрудник     0        267628  дополнительное образование            B  \n",
       "4   пенсионер     0        158616             сыграть свадьбу            C  \n",
       "5   компаньон     0        255763               покупка жилья            B  \n",
       "6   компаньон     0        240525           операции с жильем            B  \n",
       "7   сотрудник     0        135823                 образование            C  \n",
       "8   сотрудник     0         95856       на проведение свадьбы            C  \n",
       "9   сотрудник     0        144425     покупка жилья для семьи            C  "
      ]
     },
     "execution_count": 29,
     "metadata": {},
     "output_type": "execute_result"
    }
   ],
   "source": [
    "df['income_group'] = df['total_income'].apply(income)\n",
    "df.head(10)"
   ]
  },
  {
   "cell_type": "markdown",
   "id": "e0928c8b",
   "metadata": {},
   "source": [
    "Выведем статистику:"
   ]
  },
  {
   "cell_type": "code",
   "execution_count": 30,
   "id": "b11599f1",
   "metadata": {},
   "outputs": [
    {
     "data": {
      "text/plain": [
       "C    16015\n",
       "B     5041\n",
       "D      350\n",
       "A       25\n",
       "E       22\n",
       "Name: income_group, dtype: int64"
      ]
     },
     "execution_count": 30,
     "metadata": {},
     "output_type": "execute_result"
    }
   ],
   "source": [
    "df['income_group'].value_counts()"
   ]
  },
  {
   "cell_type": "markdown",
   "id": "39e5ec74",
   "metadata": {},
   "source": [
    "Таким образом, больше всего клиентов категории С с ежемесячным доходом 50001–200000 руб."
   ]
  },
  {
   "cell_type": "markdown",
   "id": "72815a39",
   "metadata": {},
   "source": [
    "### Шаг 2.7. Категоризация целей кредита."
   ]
  },
  {
   "cell_type": "markdown",
   "id": "70a6a193",
   "metadata": {},
   "source": [
    "Создадим функцию, которая на основании данных из столбца purpose сформирует новый столбец purpose_category, в который войдут следующие категории:'операции с автомобилем','операции с недвижимостью','проведение свадьбы','получение образования'."
   ]
  },
  {
   "cell_type": "markdown",
   "id": "24326e3e",
   "metadata": {},
   "source": [
    "Изучим данные в столбце purpose."
   ]
  },
  {
   "cell_type": "code",
   "execution_count": 31,
   "id": "57baf777",
   "metadata": {},
   "outputs": [
    {
     "data": {
      "text/plain": [
       "свадьба                                   791\n",
       "на проведение свадьбы                     767\n",
       "сыграть свадьбу                           765\n",
       "операции с недвижимостью                  675\n",
       "покупка коммерческой недвижимости         661\n",
       "операции с жильем                         652\n",
       "покупка жилья для сдачи                   651\n",
       "операции с коммерческой недвижимостью     650\n",
       "покупка жилья                             646\n",
       "жилье                                     646\n",
       "покупка жилья для семьи                   638\n",
       "строительство собственной недвижимости    635\n",
       "недвижимость                              633\n",
       "операции со своей недвижимостью           627\n",
       "строительство жилой недвижимости          624\n",
       "покупка недвижимости                      621\n",
       "покупка своего жилья                      620\n",
       "строительство недвижимости                619\n",
       "ремонт жилью                              607\n",
       "покупка жилой недвижимости                606\n",
       "на покупку своего автомобиля              505\n",
       "заняться высшим образованием              496\n",
       "автомобиль                                494\n",
       "сделка с подержанным автомобилем          486\n",
       "на покупку подержанного автомобиля        478\n",
       "автомобили                                478\n",
       "свой автомобиль                           478\n",
       "на покупку автомобиля                     471\n",
       "приобретение автомобиля                   461\n",
       "дополнительное образование                460\n",
       "сделка с автомобилем                      455\n",
       "высшее образование                        452\n",
       "образование                               447\n",
       "получение дополнительного образования     446\n",
       "получение образования                     442\n",
       "профильное образование                    436\n",
       "получение высшего образования             426\n",
       "заняться образованием                     408\n",
       "Name: purpose, dtype: int64"
      ]
     },
     "execution_count": 31,
     "metadata": {},
     "output_type": "execute_result"
    }
   ],
   "source": [
    "df['purpose'].value_counts()"
   ]
  },
  {
   "cell_type": "markdown",
   "id": "4d2df205",
   "metadata": {},
   "source": [
    "Пропишем функцию."
   ]
  },
  {
   "cell_type": "code",
   "execution_count": 32,
   "id": "4ecbb4f7",
   "metadata": {},
   "outputs": [],
   "source": [
    "def purpose_group(purpose):\n",
    "    if \"образов\" in purpose:\n",
    "        return 'получение образования'\n",
    "    if \"свадьб\" in purpose:\n",
    "        return 'проведение свадьбы'\n",
    "    if \"автомобил\" in purpose:\n",
    "        return 'операции с автомобилем'\n",
    "    return 'операции с недвижимостью'"
   ]
  },
  {
   "cell_type": "markdown",
   "id": "d3151da6",
   "metadata": {},
   "source": [
    "Добавим столбец с категорией цели кредита."
   ]
  },
  {
   "cell_type": "code",
   "execution_count": 33,
   "id": "17a5c712",
   "metadata": {},
   "outputs": [
    {
     "data": {
      "text/html": [
       "<div>\n",
       "<style scoped>\n",
       "    .dataframe tbody tr th:only-of-type {\n",
       "        vertical-align: middle;\n",
       "    }\n",
       "\n",
       "    .dataframe tbody tr th {\n",
       "        vertical-align: top;\n",
       "    }\n",
       "\n",
       "    .dataframe thead th {\n",
       "        text-align: right;\n",
       "    }\n",
       "</style>\n",
       "<table border=\"1\" class=\"dataframe\">\n",
       "  <thead>\n",
       "    <tr style=\"text-align: right;\">\n",
       "      <th></th>\n",
       "      <th>children</th>\n",
       "      <th>days_employed</th>\n",
       "      <th>dob_years</th>\n",
       "      <th>education_id</th>\n",
       "      <th>family_status_id</th>\n",
       "      <th>gender</th>\n",
       "      <th>income_type</th>\n",
       "      <th>debt</th>\n",
       "      <th>total_income</th>\n",
       "      <th>purpose</th>\n",
       "      <th>income_group</th>\n",
       "      <th>purpose_group</th>\n",
       "    </tr>\n",
       "  </thead>\n",
       "  <tbody>\n",
       "    <tr>\n",
       "      <th>0</th>\n",
       "      <td>1</td>\n",
       "      <td>8437</td>\n",
       "      <td>42.0</td>\n",
       "      <td>0</td>\n",
       "      <td>0</td>\n",
       "      <td>F</td>\n",
       "      <td>сотрудник</td>\n",
       "      <td>0</td>\n",
       "      <td>253875</td>\n",
       "      <td>покупка жилья</td>\n",
       "      <td>B</td>\n",
       "      <td>операции с недвижимостью</td>\n",
       "    </tr>\n",
       "    <tr>\n",
       "      <th>1</th>\n",
       "      <td>1</td>\n",
       "      <td>4024</td>\n",
       "      <td>36.0</td>\n",
       "      <td>1</td>\n",
       "      <td>0</td>\n",
       "      <td>F</td>\n",
       "      <td>сотрудник</td>\n",
       "      <td>0</td>\n",
       "      <td>112080</td>\n",
       "      <td>приобретение автомобиля</td>\n",
       "      <td>C</td>\n",
       "      <td>операции с автомобилем</td>\n",
       "    </tr>\n",
       "    <tr>\n",
       "      <th>2</th>\n",
       "      <td>0</td>\n",
       "      <td>5623</td>\n",
       "      <td>33.0</td>\n",
       "      <td>1</td>\n",
       "      <td>0</td>\n",
       "      <td>M</td>\n",
       "      <td>сотрудник</td>\n",
       "      <td>0</td>\n",
       "      <td>145885</td>\n",
       "      <td>покупка жилья</td>\n",
       "      <td>C</td>\n",
       "      <td>операции с недвижимостью</td>\n",
       "    </tr>\n",
       "    <tr>\n",
       "      <th>3</th>\n",
       "      <td>3</td>\n",
       "      <td>4124</td>\n",
       "      <td>32.0</td>\n",
       "      <td>1</td>\n",
       "      <td>0</td>\n",
       "      <td>M</td>\n",
       "      <td>сотрудник</td>\n",
       "      <td>0</td>\n",
       "      <td>267628</td>\n",
       "      <td>дополнительное образование</td>\n",
       "      <td>B</td>\n",
       "      <td>получение образования</td>\n",
       "    </tr>\n",
       "    <tr>\n",
       "      <th>4</th>\n",
       "      <td>0</td>\n",
       "      <td>340266</td>\n",
       "      <td>53.0</td>\n",
       "      <td>1</td>\n",
       "      <td>1</td>\n",
       "      <td>F</td>\n",
       "      <td>пенсионер</td>\n",
       "      <td>0</td>\n",
       "      <td>158616</td>\n",
       "      <td>сыграть свадьбу</td>\n",
       "      <td>C</td>\n",
       "      <td>проведение свадьбы</td>\n",
       "    </tr>\n",
       "    <tr>\n",
       "      <th>5</th>\n",
       "      <td>0</td>\n",
       "      <td>926</td>\n",
       "      <td>27.0</td>\n",
       "      <td>0</td>\n",
       "      <td>1</td>\n",
       "      <td>M</td>\n",
       "      <td>компаньон</td>\n",
       "      <td>0</td>\n",
       "      <td>255763</td>\n",
       "      <td>покупка жилья</td>\n",
       "      <td>B</td>\n",
       "      <td>операции с недвижимостью</td>\n",
       "    </tr>\n",
       "    <tr>\n",
       "      <th>6</th>\n",
       "      <td>0</td>\n",
       "      <td>2879</td>\n",
       "      <td>43.0</td>\n",
       "      <td>0</td>\n",
       "      <td>0</td>\n",
       "      <td>F</td>\n",
       "      <td>компаньон</td>\n",
       "      <td>0</td>\n",
       "      <td>240525</td>\n",
       "      <td>операции с жильем</td>\n",
       "      <td>B</td>\n",
       "      <td>операции с недвижимостью</td>\n",
       "    </tr>\n",
       "    <tr>\n",
       "      <th>7</th>\n",
       "      <td>0</td>\n",
       "      <td>152</td>\n",
       "      <td>50.0</td>\n",
       "      <td>1</td>\n",
       "      <td>0</td>\n",
       "      <td>M</td>\n",
       "      <td>сотрудник</td>\n",
       "      <td>0</td>\n",
       "      <td>135823</td>\n",
       "      <td>образование</td>\n",
       "      <td>C</td>\n",
       "      <td>получение образования</td>\n",
       "    </tr>\n",
       "    <tr>\n",
       "      <th>8</th>\n",
       "      <td>2</td>\n",
       "      <td>6929</td>\n",
       "      <td>35.0</td>\n",
       "      <td>0</td>\n",
       "      <td>1</td>\n",
       "      <td>F</td>\n",
       "      <td>сотрудник</td>\n",
       "      <td>0</td>\n",
       "      <td>95856</td>\n",
       "      <td>на проведение свадьбы</td>\n",
       "      <td>C</td>\n",
       "      <td>проведение свадьбы</td>\n",
       "    </tr>\n",
       "    <tr>\n",
       "      <th>9</th>\n",
       "      <td>0</td>\n",
       "      <td>2188</td>\n",
       "      <td>41.0</td>\n",
       "      <td>1</td>\n",
       "      <td>0</td>\n",
       "      <td>M</td>\n",
       "      <td>сотрудник</td>\n",
       "      <td>0</td>\n",
       "      <td>144425</td>\n",
       "      <td>покупка жилья для семьи</td>\n",
       "      <td>C</td>\n",
       "      <td>операции с недвижимостью</td>\n",
       "    </tr>\n",
       "  </tbody>\n",
       "</table>\n",
       "</div>"
      ],
      "text/plain": [
       "   children  days_employed  dob_years  education_id  family_status_id gender  \\\n",
       "0         1           8437       42.0             0                 0      F   \n",
       "1         1           4024       36.0             1                 0      F   \n",
       "2         0           5623       33.0             1                 0      M   \n",
       "3         3           4124       32.0             1                 0      M   \n",
       "4         0         340266       53.0             1                 1      F   \n",
       "5         0            926       27.0             0                 1      M   \n",
       "6         0           2879       43.0             0                 0      F   \n",
       "7         0            152       50.0             1                 0      M   \n",
       "8         2           6929       35.0             0                 1      F   \n",
       "9         0           2188       41.0             1                 0      M   \n",
       "\n",
       "  income_type  debt  total_income                     purpose income_group  \\\n",
       "0   сотрудник     0        253875               покупка жилья            B   \n",
       "1   сотрудник     0        112080     приобретение автомобиля            C   \n",
       "2   сотрудник     0        145885               покупка жилья            C   \n",
       "3   сотрудник     0        267628  дополнительное образование            B   \n",
       "4   пенсионер     0        158616             сыграть свадьбу            C   \n",
       "5   компаньон     0        255763               покупка жилья            B   \n",
       "6   компаньон     0        240525           операции с жильем            B   \n",
       "7   сотрудник     0        135823                 образование            C   \n",
       "8   сотрудник     0         95856       на проведение свадьбы            C   \n",
       "9   сотрудник     0        144425     покупка жилья для семьи            C   \n",
       "\n",
       "              purpose_group  \n",
       "0  операции с недвижимостью  \n",
       "1    операции с автомобилем  \n",
       "2  операции с недвижимостью  \n",
       "3     получение образования  \n",
       "4        проведение свадьбы  \n",
       "5  операции с недвижимостью  \n",
       "6  операции с недвижимостью  \n",
       "7     получение образования  \n",
       "8        проведение свадьбы  \n",
       "9  операции с недвижимостью  "
      ]
     },
     "execution_count": 33,
     "metadata": {},
     "output_type": "execute_result"
    }
   ],
   "source": [
    "df['purpose_group'] = df['purpose'].apply(purpose_group)\n",
    "df.head(10)"
   ]
  },
  {
   "cell_type": "markdown",
   "id": "99481a51",
   "metadata": {},
   "source": [
    "### Ответы на вопросы."
   ]
  },
  {
   "cell_type": "markdown",
   "id": "1ab989c2",
   "metadata": {},
   "source": [
    "##### Вопрос 1:"
   ]
  },
  {
   "cell_type": "markdown",
   "id": "a65c1232",
   "metadata": {},
   "source": [
    "Есть ли зависимость между количеством детей и возвратом кредита в срок?"
   ]
  },
  {
   "cell_type": "code",
   "execution_count": 40,
   "id": "62b0085f",
   "metadata": {},
   "outputs": [
    {
     "data": {
      "text/html": [
       "<div>\n",
       "<style scoped>\n",
       "    .dataframe tbody tr th:only-of-type {\n",
       "        vertical-align: middle;\n",
       "    }\n",
       "\n",
       "    .dataframe tbody tr th {\n",
       "        vertical-align: top;\n",
       "    }\n",
       "\n",
       "    .dataframe thead tr th {\n",
       "        text-align: left;\n",
       "    }\n",
       "\n",
       "    .dataframe thead tr:last-of-type th {\n",
       "        text-align: right;\n",
       "    }\n",
       "</style>\n",
       "<table border=\"1\" class=\"dataframe\">\n",
       "  <thead>\n",
       "    <tr>\n",
       "      <th></th>\n",
       "      <th>count</th>\n",
       "      <th>sum</th>\n",
       "      <th>mean</th>\n",
       "    </tr>\n",
       "    <tr>\n",
       "      <th></th>\n",
       "      <th>debt</th>\n",
       "      <th>debt</th>\n",
       "      <th>debt</th>\n",
       "    </tr>\n",
       "    <tr>\n",
       "      <th>children</th>\n",
       "      <th></th>\n",
       "      <th></th>\n",
       "      <th></th>\n",
       "    </tr>\n",
       "  </thead>\n",
       "  <tbody>\n",
       "    <tr>\n",
       "      <th>0</th>\n",
       "      <td>14090</td>\n",
       "      <td>1063</td>\n",
       "      <td>0.075444</td>\n",
       "    </tr>\n",
       "    <tr>\n",
       "      <th>1</th>\n",
       "      <td>4855</td>\n",
       "      <td>445</td>\n",
       "      <td>0.091658</td>\n",
       "    </tr>\n",
       "    <tr>\n",
       "      <th>2</th>\n",
       "      <td>2128</td>\n",
       "      <td>202</td>\n",
       "      <td>0.094925</td>\n",
       "    </tr>\n",
       "    <tr>\n",
       "      <th>3</th>\n",
       "      <td>330</td>\n",
       "      <td>27</td>\n",
       "      <td>0.081818</td>\n",
       "    </tr>\n",
       "    <tr>\n",
       "      <th>4</th>\n",
       "      <td>41</td>\n",
       "      <td>4</td>\n",
       "      <td>0.097561</td>\n",
       "    </tr>\n",
       "    <tr>\n",
       "      <th>5</th>\n",
       "      <td>9</td>\n",
       "      <td>0</td>\n",
       "      <td>0.000000</td>\n",
       "    </tr>\n",
       "  </tbody>\n",
       "</table>\n",
       "</div>"
      ],
      "text/plain": [
       "          count   sum      mean\n",
       "           debt  debt      debt\n",
       "children                       \n",
       "0         14090  1063  0.075444\n",
       "1          4855   445  0.091658\n",
       "2          2128   202  0.094925\n",
       "3           330    27  0.081818\n",
       "4            41     4  0.097561\n",
       "5             9     0  0.000000"
      ]
     },
     "execution_count": 40,
     "metadata": {},
     "output_type": "execute_result"
    }
   ],
   "source": [
    "#Построим сводную таблицу\n",
    "children_debt = df.pivot_table(index='children',  values='debt', aggfunc = ['count', 'sum', 'mean'])\n",
    "children_debt"
   ]
  },
  {
   "cell_type": "markdown",
   "id": "80ec3448",
   "metadata": {},
   "source": [
    "##### Вывод 1:"
   ]
  },
  {
   "cell_type": "markdown",
   "id": "0a27434a",
   "metadata": {},
   "source": [
    "Зависимость между количеством детей и возвратом кредита в срок есть:\n",
    "\n",
    "*Из 14090 клиента без детей, задолжность по кредиту была у 1063 (7,5%). \n",
    "\n",
    "*Из 4855 клиента с 1 ребенком, задолжность по кредиту была у 445 (9,2%).\n",
    "\n",
    "*Из 2128 клиента с 2 детьми, задолжность по кредиту была у 202 (9,5%) \n",
    "\n",
    "*Из 330 клиентов с 3 детьми, задолжность по кредиту была у 27 (8,2%) \n",
    "\n",
    "*Из 41 клиентов с 4 детьми, задолжность по кредиту была у 4 (9,7%) \n",
    "\n",
    "*У 9 клиентов с 5 детьми задолженности не было.\n",
    "\n",
    "Так, наиболее надежными клиентами, с наименьшим количеством случаев просрочки кредита, являются клиенты без детей. У многодетных семей процент невозврата кредита в срок выше на 0,7% в случае с семьями с 3 детьми, и на 0,5% выше в случае с семьями с 4-5 детьми (всего 50 клиентов с 4-5 детьми, 4/50 = 0,08). Наиболее рискованной группой  для банка являются клиенты с 1-2 детьми.\n",
    "\n",
    "Это, возможно, связано с тем, что клиенты без детей имеют намного меньше обязательных трат, связанных с содержанием детей. Многодетных семей в целом меньше, и к получению кредита они подходят  более осознанно, ответственно. "
   ]
  },
  {
   "cell_type": "markdown",
   "id": "9737e76e",
   "metadata": {},
   "source": [
    "##### Вопрос 2:"
   ]
  },
  {
   "cell_type": "markdown",
   "id": "a46cf37a",
   "metadata": {},
   "source": [
    "Есть ли зависимость между семейным положением и возвратом кредита в срок?"
   ]
  },
  {
   "cell_type": "code",
   "execution_count": 41,
   "id": "4a9e9799",
   "metadata": {},
   "outputs": [
    {
     "data": {
      "text/html": [
       "<div>\n",
       "<style scoped>\n",
       "    .dataframe tbody tr th:only-of-type {\n",
       "        vertical-align: middle;\n",
       "    }\n",
       "\n",
       "    .dataframe tbody tr th {\n",
       "        vertical-align: top;\n",
       "    }\n",
       "\n",
       "    .dataframe thead tr th {\n",
       "        text-align: left;\n",
       "    }\n",
       "\n",
       "    .dataframe thead tr:last-of-type th {\n",
       "        text-align: right;\n",
       "    }\n",
       "</style>\n",
       "<table border=\"1\" class=\"dataframe\">\n",
       "  <thead>\n",
       "    <tr>\n",
       "      <th></th>\n",
       "      <th>count</th>\n",
       "      <th>sum</th>\n",
       "      <th>mean</th>\n",
       "    </tr>\n",
       "    <tr>\n",
       "      <th></th>\n",
       "      <th>debt</th>\n",
       "      <th>debt</th>\n",
       "      <th>debt</th>\n",
       "    </tr>\n",
       "    <tr>\n",
       "      <th>family_status_id</th>\n",
       "      <th></th>\n",
       "      <th></th>\n",
       "      <th></th>\n",
       "    </tr>\n",
       "  </thead>\n",
       "  <tbody>\n",
       "    <tr>\n",
       "      <th>0</th>\n",
       "      <td>12339</td>\n",
       "      <td>931</td>\n",
       "      <td>0.075452</td>\n",
       "    </tr>\n",
       "    <tr>\n",
       "      <th>1</th>\n",
       "      <td>4150</td>\n",
       "      <td>388</td>\n",
       "      <td>0.093494</td>\n",
       "    </tr>\n",
       "    <tr>\n",
       "      <th>2</th>\n",
       "      <td>959</td>\n",
       "      <td>63</td>\n",
       "      <td>0.065693</td>\n",
       "    </tr>\n",
       "    <tr>\n",
       "      <th>3</th>\n",
       "      <td>1195</td>\n",
       "      <td>85</td>\n",
       "      <td>0.071130</td>\n",
       "    </tr>\n",
       "    <tr>\n",
       "      <th>4</th>\n",
       "      <td>2810</td>\n",
       "      <td>274</td>\n",
       "      <td>0.097509</td>\n",
       "    </tr>\n",
       "  </tbody>\n",
       "</table>\n",
       "</div>"
      ],
      "text/plain": [
       "                  count  sum      mean\n",
       "                   debt debt      debt\n",
       "family_status_id                      \n",
       "0                 12339  931  0.075452\n",
       "1                  4150  388  0.093494\n",
       "2                   959   63  0.065693\n",
       "3                  1195   85  0.071130\n",
       "4                  2810  274  0.097509"
      ]
     },
     "execution_count": 41,
     "metadata": {},
     "output_type": "execute_result"
    }
   ],
   "source": [
    "#Построим сводную таблицу\n",
    "family_status_debt = df.pivot_table(index='family_status_id',  values='debt', aggfunc = ['count', 'sum', 'mean'])\n",
    "family_status_debt"
   ]
  },
  {
   "cell_type": "markdown",
   "id": "d08963cb",
   "metadata": {},
   "source": [
    "##### Вывод 2:"
   ]
  },
  {
   "cell_type": "markdown",
   "id": "d0cb61a4",
   "metadata": {},
   "source": [
    "Зависимость между семейным положением и возвратом кредита в срок есть. Клиенты банка, состоящие в официальных отношениях как в настоящее время (семейный статус \"женат/замужем\"), так и в прошлом (семейный статус \"вдовец / вдова\", \"в разводе\") имеют более низкий процент невозврата кредита в срок (6,6% - 7,5%). Клиенты, не состоящие в отношениях(семейный статус \"не женат / не замужем\"), а также клиенты не оформившие брак официально (\"гражданский брак\") имеют более высокий процент невозврата кредита в срок (9,3% - 9,7%).\n",
    "\n",
    "Возможно, это связано с тем, что  клиенты когда-либо сосотоящие в официальных отношениях, более ответственно, взвещенно подходят к получению кредита. \n",
    "\n",
    "Из 12339 клиентов с семейным статусом \"женат/замужем\" у 931 была задолжность по кредиту(7,5%). \n",
    "\n",
    "Из 4150 клиентов со статусом \"гражданский брак\" у 388 была задолжность по кредиту(9,3%).\n",
    "\n",
    "Из 959 клиентов со статусом \"вдовец / вдова\" у 63 была задолжность по кредиту(6,6%).\n",
    "\n",
    "Из 1195 клиентов со статусом \"в разводе\" у 85 была задолжность по кредиту(7,1%).\n",
    "\n",
    "Из 2810 клиентов со статусом \"не женат / не замужем\" у 274 была задолжность по кредиту(9,7%)."
   ]
  },
  {
   "cell_type": "markdown",
   "id": "cf7376df",
   "metadata": {},
   "source": [
    "##### Вопрос 3:"
   ]
  },
  {
   "cell_type": "markdown",
   "id": "9d7ec61b",
   "metadata": {},
   "source": [
    "Есть ли зависимость между уровнем дохода и возвратом кредита в срок?"
   ]
  },
  {
   "cell_type": "code",
   "execution_count": 42,
   "id": "dff55ef1",
   "metadata": {},
   "outputs": [
    {
     "data": {
      "text/html": [
       "<div>\n",
       "<style scoped>\n",
       "    .dataframe tbody tr th:only-of-type {\n",
       "        vertical-align: middle;\n",
       "    }\n",
       "\n",
       "    .dataframe tbody tr th {\n",
       "        vertical-align: top;\n",
       "    }\n",
       "\n",
       "    .dataframe thead tr th {\n",
       "        text-align: left;\n",
       "    }\n",
       "\n",
       "    .dataframe thead tr:last-of-type th {\n",
       "        text-align: right;\n",
       "    }\n",
       "</style>\n",
       "<table border=\"1\" class=\"dataframe\">\n",
       "  <thead>\n",
       "    <tr>\n",
       "      <th></th>\n",
       "      <th>count</th>\n",
       "      <th>sum</th>\n",
       "      <th>mean</th>\n",
       "    </tr>\n",
       "    <tr>\n",
       "      <th></th>\n",
       "      <th>debt</th>\n",
       "      <th>debt</th>\n",
       "      <th>debt</th>\n",
       "    </tr>\n",
       "    <tr>\n",
       "      <th>income_group</th>\n",
       "      <th></th>\n",
       "      <th></th>\n",
       "      <th></th>\n",
       "    </tr>\n",
       "  </thead>\n",
       "  <tbody>\n",
       "    <tr>\n",
       "      <th>A</th>\n",
       "      <td>25</td>\n",
       "      <td>2</td>\n",
       "      <td>0.080000</td>\n",
       "    </tr>\n",
       "    <tr>\n",
       "      <th>B</th>\n",
       "      <td>5041</td>\n",
       "      <td>356</td>\n",
       "      <td>0.070621</td>\n",
       "    </tr>\n",
       "    <tr>\n",
       "      <th>C</th>\n",
       "      <td>16015</td>\n",
       "      <td>1360</td>\n",
       "      <td>0.084920</td>\n",
       "    </tr>\n",
       "    <tr>\n",
       "      <th>D</th>\n",
       "      <td>350</td>\n",
       "      <td>21</td>\n",
       "      <td>0.060000</td>\n",
       "    </tr>\n",
       "    <tr>\n",
       "      <th>E</th>\n",
       "      <td>22</td>\n",
       "      <td>2</td>\n",
       "      <td>0.090909</td>\n",
       "    </tr>\n",
       "  </tbody>\n",
       "</table>\n",
       "</div>"
      ],
      "text/plain": [
       "              count   sum      mean\n",
       "               debt  debt      debt\n",
       "income_group                       \n",
       "A                25     2  0.080000\n",
       "B              5041   356  0.070621\n",
       "C             16015  1360  0.084920\n",
       "D               350    21  0.060000\n",
       "E                22     2  0.090909"
      ]
     },
     "execution_count": 42,
     "metadata": {},
     "output_type": "execute_result"
    }
   ],
   "source": [
    "#Построим сводную таблицу\n",
    "income_group_debt = df.pivot_table(index='income_group',  values='debt', aggfunc = ['count', 'sum', 'mean'])\n",
    "income_group_debt"
   ]
  },
  {
   "cell_type": "markdown",
   "id": "09415e5e",
   "metadata": {},
   "source": [
    "##### Вывод 3:"
   ]
  },
  {
   "cell_type": "markdown",
   "id": "a76a800c",
   "metadata": {},
   "source": [
    "Зависимоть между уровнем дохода и возвратом кредита в срок также есть. \n",
    "Исходя их анализа наиболее многочисленных групп (группы В и С), можно сделать вывод, что самыми  надежными клиентами для банка являются люди  с высокими доходами (группа В, доход 201тыс-1млн руб.). Наиболее рискованной и в тоже время самой многочисленной группой заемщиков, являются клиенты категории С. Это люди среднего класса, с доходами 50тыс-200тыс руб. Возможно, это связано с тем, что данные клиенты не всегда рационально подходят к оформлению кредита (\"переоценили свои силы\"), либо с непредвиденными обстоятельствами, такими как потеря работы например."
   ]
  },
  {
   "cell_type": "markdown",
   "id": "ee413be1",
   "metadata": {},
   "source": [
    "##### Вопрос 4:"
   ]
  },
  {
   "cell_type": "markdown",
   "id": "8b6df66b",
   "metadata": {},
   "source": [
    "Как разные цели кредита влияют на его возврат в срок?"
   ]
  },
  {
   "cell_type": "code",
   "execution_count": 43,
   "id": "5c90a350",
   "metadata": {},
   "outputs": [
    {
     "data": {
      "text/html": [
       "<div>\n",
       "<style scoped>\n",
       "    .dataframe tbody tr th:only-of-type {\n",
       "        vertical-align: middle;\n",
       "    }\n",
       "\n",
       "    .dataframe tbody tr th {\n",
       "        vertical-align: top;\n",
       "    }\n",
       "\n",
       "    .dataframe thead tr th {\n",
       "        text-align: left;\n",
       "    }\n",
       "\n",
       "    .dataframe thead tr:last-of-type th {\n",
       "        text-align: right;\n",
       "    }\n",
       "</style>\n",
       "<table border=\"1\" class=\"dataframe\">\n",
       "  <thead>\n",
       "    <tr>\n",
       "      <th></th>\n",
       "      <th>count</th>\n",
       "      <th>sum</th>\n",
       "      <th>mean</th>\n",
       "    </tr>\n",
       "    <tr>\n",
       "      <th></th>\n",
       "      <th>debt</th>\n",
       "      <th>debt</th>\n",
       "      <th>debt</th>\n",
       "    </tr>\n",
       "    <tr>\n",
       "      <th>purpose_group</th>\n",
       "      <th></th>\n",
       "      <th></th>\n",
       "      <th></th>\n",
       "    </tr>\n",
       "  </thead>\n",
       "  <tbody>\n",
       "    <tr>\n",
       "      <th>операции с автомобилем</th>\n",
       "      <td>4306</td>\n",
       "      <td>403</td>\n",
       "      <td>0.093590</td>\n",
       "    </tr>\n",
       "    <tr>\n",
       "      <th>операции с недвижимостью</th>\n",
       "      <td>10811</td>\n",
       "      <td>782</td>\n",
       "      <td>0.072334</td>\n",
       "    </tr>\n",
       "    <tr>\n",
       "      <th>получение образования</th>\n",
       "      <td>4013</td>\n",
       "      <td>370</td>\n",
       "      <td>0.092200</td>\n",
       "    </tr>\n",
       "    <tr>\n",
       "      <th>проведение свадьбы</th>\n",
       "      <td>2323</td>\n",
       "      <td>186</td>\n",
       "      <td>0.080069</td>\n",
       "    </tr>\n",
       "  </tbody>\n",
       "</table>\n",
       "</div>"
      ],
      "text/plain": [
       "                          count  sum      mean\n",
       "                           debt debt      debt\n",
       "purpose_group                                 \n",
       "операции с автомобилем     4306  403  0.093590\n",
       "операции с недвижимостью  10811  782  0.072334\n",
       "получение образования      4013  370  0.092200\n",
       "проведение свадьбы         2323  186  0.080069"
      ]
     },
     "execution_count": 43,
     "metadata": {},
     "output_type": "execute_result"
    }
   ],
   "source": [
    "#Построим сводную таблицу\n",
    "purpose_group_debt = df.pivot_table(index='purpose_group',  values='debt', aggfunc = ['count', 'sum', 'mean'])\n",
    "purpose_group_debt"
   ]
  },
  {
   "cell_type": "markdown",
   "id": "56059502",
   "metadata": {},
   "source": [
    "##### Вывод 4:"
   ]
  },
  {
   "cell_type": "markdown",
   "id": "d16dd817",
   "metadata": {},
   "source": [
    "Наименьшие процент клиентов (от общего числа клиентов в данной категории) с задолжностью по кредиту в категории \"Операции с недвижимость\" и \"Проведение свадьбы\" (7,2% и 8% соответственно). Так как кредит на недвижимость чаще всего берется на длительный срок и составляет значительную сумму, клиенты более осознанно подходят к его получению, к тому же недвижимость чаще всего находится в залоге у банка до момента погащения кредита и в случае длительной просрочки может быть изьята банком. Погащение кредита на проведение свадьбы, возможно, происходит с помощью родственников, полученных в подарок денежных средств.\n",
    "\n",
    "Наибольший процент клиентов (от общего числа клиентов в данной категории) с задолжностью по кредиту в категории \"Операции с автомобилем\" и \"Получение образования\" (9,3% и 9,2% соответственно).\n",
    "Получение образования длительный процесс и окупается не быстро. Покупка автомобиля влечет за собой существенные дополнительные расходы на содержание, к чему многие клиенты не готовы."
   ]
  },
  {
   "cell_type": "markdown",
   "id": "c9cc119e",
   "metadata": {},
   "source": [
    "##### Общий  вывод:"
   ]
  },
  {
   "cell_type": "markdown",
   "id": "7d24b94d",
   "metadata": {},
   "source": [
    "В результате анализа удалось выявить зависимость возврата кредита в срок от цели кредита, уровня дохода и семейного положения клиента, а также от количества детей у клиента."
   ]
  }
 ],
 "metadata": {
  "ExecuteTimeLog": [
   {
    "duration": 781,
    "start_time": "2022-03-08T14:16:46.017Z"
   },
   {
    "duration": 16,
    "start_time": "2022-03-08T14:20:15.418Z"
   },
   {
    "duration": 367,
    "start_time": "2022-03-08T14:40:19.559Z"
   },
   {
    "duration": 101,
    "start_time": "2022-03-08T14:41:29.842Z"
   },
   {
    "duration": 70,
    "start_time": "2022-03-08T14:42:28.051Z"
   },
   {
    "duration": 10,
    "start_time": "2022-03-08T14:46:38.177Z"
   },
   {
    "duration": 10,
    "start_time": "2022-03-08T14:47:33.173Z"
   },
   {
    "duration": 70,
    "start_time": "2022-03-08T14:47:41.709Z"
   },
   {
    "duration": 10,
    "start_time": "2022-03-08T14:47:47.254Z"
   },
   {
    "duration": 20,
    "start_time": "2022-03-08T14:51:35.710Z"
   },
   {
    "duration": 19,
    "start_time": "2022-03-08T14:54:01.919Z"
   },
   {
    "duration": 7,
    "start_time": "2022-03-08T14:54:24.151Z"
   },
   {
    "duration": 7,
    "start_time": "2022-03-08T15:08:24.450Z"
   },
   {
    "duration": 7,
    "start_time": "2022-03-08T15:10:57.122Z"
   },
   {
    "duration": 7,
    "start_time": "2022-03-08T15:12:36.278Z"
   },
   {
    "duration": 21,
    "start_time": "2022-03-08T15:12:48.580Z"
   },
   {
    "duration": 4,
    "start_time": "2022-03-08T15:20:21.132Z"
   },
   {
    "duration": 4,
    "start_time": "2022-03-08T15:20:28.035Z"
   },
   {
    "duration": 5,
    "start_time": "2022-03-08T15:20:40.869Z"
   },
   {
    "duration": 76,
    "start_time": "2022-03-08T15:22:36.995Z"
   },
   {
    "duration": 7,
    "start_time": "2022-03-08T15:23:28.205Z"
   },
   {
    "duration": 20,
    "start_time": "2022-03-08T15:23:39.365Z"
   },
   {
    "duration": 24,
    "start_time": "2022-03-08T15:24:06.367Z"
   },
   {
    "duration": 6,
    "start_time": "2022-03-08T15:24:58.661Z"
   },
   {
    "duration": 14,
    "start_time": "2022-03-08T15:28:30.328Z"
   },
   {
    "duration": 6,
    "start_time": "2022-03-08T15:28:39.436Z"
   },
   {
    "duration": 69,
    "start_time": "2022-03-08T15:41:03.503Z"
   },
   {
    "duration": 207,
    "start_time": "2022-03-08T15:41:17.924Z"
   },
   {
    "duration": 217,
    "start_time": "2022-03-08T15:41:40.737Z"
   },
   {
    "duration": 222,
    "start_time": "2022-03-08T15:41:50.249Z"
   },
   {
    "duration": 223,
    "start_time": "2022-03-08T15:47:37.637Z"
   },
   {
    "duration": 209,
    "start_time": "2022-03-08T15:48:47.642Z"
   },
   {
    "duration": 25,
    "start_time": "2022-03-08T15:57:38.835Z"
   },
   {
    "duration": 25,
    "start_time": "2022-03-08T15:58:42.756Z"
   },
   {
    "duration": 21,
    "start_time": "2022-03-08T15:58:48.360Z"
   },
   {
    "duration": 22,
    "start_time": "2022-03-08T15:59:19.224Z"
   },
   {
    "duration": 6,
    "start_time": "2022-03-08T15:59:21.123Z"
   },
   {
    "duration": 6,
    "start_time": "2022-03-08T15:59:25.513Z"
   },
   {
    "duration": 5,
    "start_time": "2022-03-08T15:59:30.648Z"
   },
   {
    "duration": 853,
    "start_time": "2022-03-08T15:59:48.646Z"
   },
   {
    "duration": 13,
    "start_time": "2022-03-08T15:59:49.502Z"
   },
   {
    "duration": 7,
    "start_time": "2022-03-08T15:59:49.518Z"
   },
   {
    "duration": 22,
    "start_time": "2022-03-08T15:59:49.528Z"
   },
   {
    "duration": 55,
    "start_time": "2022-03-08T15:59:49.553Z"
   },
   {
    "duration": 6,
    "start_time": "2022-03-08T15:59:49.611Z"
   },
   {
    "duration": 312,
    "start_time": "2022-03-08T16:01:52.037Z"
   },
   {
    "duration": 6,
    "start_time": "2022-03-08T16:01:54.217Z"
   },
   {
    "duration": 6,
    "start_time": "2022-03-08T16:01:57.904Z"
   },
   {
    "duration": 230,
    "start_time": "2022-03-08T16:02:03.827Z"
   },
   {
    "duration": 23,
    "start_time": "2022-03-08T16:02:54.634Z"
   },
   {
    "duration": 824,
    "start_time": "2022-03-08T16:03:13.401Z"
   },
   {
    "duration": 15,
    "start_time": "2022-03-08T16:03:14.228Z"
   },
   {
    "duration": 9,
    "start_time": "2022-03-08T16:03:14.246Z"
   },
   {
    "duration": 40,
    "start_time": "2022-03-08T16:03:14.257Z"
   },
   {
    "duration": 24,
    "start_time": "2022-03-08T16:03:14.300Z"
   },
   {
    "duration": 7,
    "start_time": "2022-03-08T16:03:14.327Z"
   },
   {
    "duration": 23,
    "start_time": "2022-03-08T16:03:54.266Z"
   },
   {
    "duration": 26,
    "start_time": "2022-03-08T16:04:37.848Z"
   },
   {
    "duration": -1131,
    "start_time": "2022-03-08T16:06:04.111Z"
   },
   {
    "duration": 806,
    "start_time": "2022-03-08T16:06:22.124Z"
   },
   {
    "duration": 15,
    "start_time": "2022-03-08T16:06:22.933Z"
   },
   {
    "duration": 10,
    "start_time": "2022-03-08T16:06:22.951Z"
   },
   {
    "duration": 38,
    "start_time": "2022-03-08T16:06:22.964Z"
   },
   {
    "duration": 3084,
    "start_time": "2022-03-08T16:06:23.004Z"
   },
   {
    "duration": -1095,
    "start_time": "2022-03-08T16:06:27.186Z"
   },
   {
    "duration": 20,
    "start_time": "2022-03-08T16:08:41.432Z"
   },
   {
    "duration": 5,
    "start_time": "2022-03-08T16:12:38.157Z"
   },
   {
    "duration": 9,
    "start_time": "2022-03-08T16:29:07.913Z"
   },
   {
    "duration": 69,
    "start_time": "2022-03-08T16:31:46.274Z"
   },
   {
    "duration": 72,
    "start_time": "2022-03-08T16:31:57.596Z"
   },
   {
    "duration": 66,
    "start_time": "2022-03-08T16:32:57.158Z"
   },
   {
    "duration": 73,
    "start_time": "2022-03-08T16:33:10.237Z"
   },
   {
    "duration": 83,
    "start_time": "2022-03-08T16:34:03.372Z"
   },
   {
    "duration": 69,
    "start_time": "2022-03-08T16:34:54.853Z"
   },
   {
    "duration": 8,
    "start_time": "2022-03-08T16:39:33.110Z"
   },
   {
    "duration": 6,
    "start_time": "2022-03-08T16:41:23.076Z"
   },
   {
    "duration": 11,
    "start_time": "2022-03-08T16:46:39.407Z"
   },
   {
    "duration": 10,
    "start_time": "2022-03-08T16:46:59.908Z"
   },
   {
    "duration": 11,
    "start_time": "2022-03-08T16:48:18.978Z"
   },
   {
    "duration": 11,
    "start_time": "2022-03-08T16:49:12.931Z"
   },
   {
    "duration": 9,
    "start_time": "2022-03-08T16:51:07.031Z"
   },
   {
    "duration": 20,
    "start_time": "2022-03-08T16:57:21.011Z"
   },
   {
    "duration": 8,
    "start_time": "2022-03-08T16:57:46.231Z"
   },
   {
    "duration": 9,
    "start_time": "2022-03-08T16:59:05.582Z"
   },
   {
    "duration": 4,
    "start_time": "2022-03-08T17:00:14.240Z"
   },
   {
    "duration": 3,
    "start_time": "2022-03-08T17:00:17.491Z"
   },
   {
    "duration": 14,
    "start_time": "2022-03-08T17:02:22.727Z"
   },
   {
    "duration": 21,
    "start_time": "2022-03-08T17:03:51.379Z"
   },
   {
    "duration": 4,
    "start_time": "2022-03-08T17:04:25.972Z"
   },
   {
    "duration": 12,
    "start_time": "2022-03-08T17:05:42.822Z"
   },
   {
    "duration": 11,
    "start_time": "2022-03-08T17:06:10.740Z"
   },
   {
    "duration": 813,
    "start_time": "2022-03-08T17:06:25.960Z"
   },
   {
    "duration": 18,
    "start_time": "2022-03-08T17:06:26.776Z"
   },
   {
    "duration": 10,
    "start_time": "2022-03-08T17:06:26.797Z"
   },
   {
    "duration": 19,
    "start_time": "2022-03-08T17:06:26.810Z"
   },
   {
    "duration": 9,
    "start_time": "2022-03-08T17:06:26.831Z"
   },
   {
    "duration": 52,
    "start_time": "2022-03-08T17:06:26.843Z"
   },
   {
    "duration": 21,
    "start_time": "2022-03-08T17:07:11.530Z"
   },
   {
    "duration": 5668,
    "start_time": "2022-03-08T17:09:00.285Z"
   },
   {
    "duration": 5892,
    "start_time": "2022-03-08T17:09:57.846Z"
   },
   {
    "duration": -1098,
    "start_time": "2022-03-08T17:10:14.275Z"
   },
   {
    "duration": 21,
    "start_time": "2022-03-08T17:10:46.829Z"
   },
   {
    "duration": 21,
    "start_time": "2022-03-08T17:10:55.601Z"
   },
   {
    "duration": 819,
    "start_time": "2022-03-08T17:11:13.782Z"
   },
   {
    "duration": 14,
    "start_time": "2022-03-08T17:11:14.604Z"
   },
   {
    "duration": 11,
    "start_time": "2022-03-08T17:11:14.621Z"
   },
   {
    "duration": 19,
    "start_time": "2022-03-08T17:11:14.634Z"
   },
   {
    "duration": 35,
    "start_time": "2022-03-08T17:11:14.656Z"
   },
   {
    "duration": 12,
    "start_time": "2022-03-08T17:11:14.694Z"
   },
   {
    "duration": 21,
    "start_time": "2022-03-08T17:11:14.708Z"
   },
   {
    "duration": 5334,
    "start_time": "2022-03-08T17:11:14.732Z"
   },
   {
    "duration": 21,
    "start_time": "2022-03-08T17:11:20.354Z"
   },
   {
    "duration": 6,
    "start_time": "2022-03-08T17:12:00.284Z"
   },
   {
    "duration": 13,
    "start_time": "2022-03-08T17:12:04.898Z"
   },
   {
    "duration": 64,
    "start_time": "2022-03-08T17:12:27.576Z"
   },
   {
    "duration": 12,
    "start_time": "2022-03-08T17:12:28.164Z"
   },
   {
    "duration": 76,
    "start_time": "2022-03-08T17:12:55.133Z"
   },
   {
    "duration": 333,
    "start_time": "2022-03-10T14:47:34.035Z"
   },
   {
    "duration": 261,
    "start_time": "2022-03-10T14:47:47.273Z"
   },
   {
    "duration": 843,
    "start_time": "2022-03-10T14:47:55.411Z"
   },
   {
    "duration": 27,
    "start_time": "2022-03-10T14:47:56.258Z"
   },
   {
    "duration": 140,
    "start_time": "2022-03-10T14:47:56.288Z"
   },
   {
    "duration": 225,
    "start_time": "2022-03-10T14:47:56.430Z"
   },
   {
    "duration": 180,
    "start_time": "2022-03-10T14:47:56.657Z"
   },
   {
    "duration": 207,
    "start_time": "2022-03-10T14:47:56.840Z"
   },
   {
    "duration": 225,
    "start_time": "2022-03-10T14:47:57.050Z"
   },
   {
    "duration": 192,
    "start_time": "2022-03-10T14:47:57.278Z"
   },
   {
    "duration": 173,
    "start_time": "2022-03-10T14:47:57.472Z"
   },
   {
    "duration": 160,
    "start_time": "2022-03-10T14:47:57.647Z"
   },
   {
    "duration": 12,
    "start_time": "2022-03-10T14:48:28.160Z"
   },
   {
    "duration": 13,
    "start_time": "2022-03-10T14:48:38.580Z"
   },
   {
    "duration": 13,
    "start_time": "2022-03-10T14:48:44.070Z"
   },
   {
    "duration": 6,
    "start_time": "2022-03-10T14:48:52.949Z"
   },
   {
    "duration": 12,
    "start_time": "2022-03-10T14:48:53.628Z"
   },
   {
    "duration": 12,
    "start_time": "2022-03-10T14:48:56.619Z"
   },
   {
    "duration": 817,
    "start_time": "2022-03-10T14:49:08.106Z"
   },
   {
    "duration": 16,
    "start_time": "2022-03-10T14:49:08.927Z"
   },
   {
    "duration": 230,
    "start_time": "2022-03-10T14:49:08.946Z"
   },
   {
    "duration": 322,
    "start_time": "2022-03-10T14:49:09.179Z"
   },
   {
    "duration": 572,
    "start_time": "2022-03-10T14:49:09.504Z"
   },
   {
    "duration": 272,
    "start_time": "2022-03-10T14:49:10.079Z"
   },
   {
    "duration": 313,
    "start_time": "2022-03-10T14:49:10.353Z"
   },
   {
    "duration": 330,
    "start_time": "2022-03-10T14:49:10.671Z"
   },
   {
    "duration": 274,
    "start_time": "2022-03-10T14:49:11.004Z"
   },
   {
    "duration": 426,
    "start_time": "2022-03-10T14:49:11.281Z"
   },
   {
    "duration": 15,
    "start_time": "2022-03-10T14:52:18.700Z"
   },
   {
    "duration": 18,
    "start_time": "2022-03-10T15:00:26.660Z"
   },
   {
    "duration": 338,
    "start_time": "2022-03-10T15:05:45.661Z"
   },
   {
    "duration": 5,
    "start_time": "2022-03-10T15:05:53.557Z"
   },
   {
    "duration": 17,
    "start_time": "2022-03-10T15:06:02.077Z"
   },
   {
    "duration": 20,
    "start_time": "2022-03-10T15:06:57.194Z"
   },
   {
    "duration": 6,
    "start_time": "2022-03-10T15:08:52.859Z"
   },
   {
    "duration": 16,
    "start_time": "2022-03-10T15:08:55.255Z"
   },
   {
    "duration": 3337,
    "start_time": "2022-03-10T15:09:34.694Z"
   },
   {
    "duration": -1353,
    "start_time": "2022-03-10T15:09:39.387Z"
   },
   {
    "duration": 314,
    "start_time": "2022-03-10T15:10:15.412Z"
   },
   {
    "duration": 303,
    "start_time": "2022-03-10T15:10:39.727Z"
   },
   {
    "duration": 6,
    "start_time": "2022-03-10T15:10:56.917Z"
   },
   {
    "duration": 15,
    "start_time": "2022-03-10T15:10:58.768Z"
   },
   {
    "duration": 379,
    "start_time": "2022-03-10T15:18:55.998Z"
   },
   {
    "duration": 15,
    "start_time": "2022-03-10T15:19:16.855Z"
   },
   {
    "duration": 7,
    "start_time": "2022-03-10T15:23:03.304Z"
   },
   {
    "duration": 10,
    "start_time": "2022-03-10T15:26:35.493Z"
   },
   {
    "duration": 7,
    "start_time": "2022-03-10T15:26:55.577Z"
   },
   {
    "duration": 9,
    "start_time": "2022-03-10T15:27:05.042Z"
   },
   {
    "duration": 7,
    "start_time": "2022-03-10T15:27:45.069Z"
   },
   {
    "duration": 8,
    "start_time": "2022-03-10T15:27:58.554Z"
   },
   {
    "duration": 8,
    "start_time": "2022-03-10T15:28:17.390Z"
   },
   {
    "duration": 9,
    "start_time": "2022-03-10T15:28:50.142Z"
   },
   {
    "duration": 24,
    "start_time": "2022-03-10T15:36:05.177Z"
   },
   {
    "duration": 26,
    "start_time": "2022-03-10T15:36:33.761Z"
   },
   {
    "duration": 21,
    "start_time": "2022-03-10T15:37:03.561Z"
   },
   {
    "duration": 31,
    "start_time": "2022-03-10T15:37:54.265Z"
   },
   {
    "duration": 26,
    "start_time": "2022-03-10T15:39:36.364Z"
   },
   {
    "duration": 28,
    "start_time": "2022-03-10T15:39:41.766Z"
   },
   {
    "duration": 8,
    "start_time": "2022-03-10T15:40:17.338Z"
   },
   {
    "duration": 7,
    "start_time": "2022-03-10T15:41:05.063Z"
   },
   {
    "duration": 7,
    "start_time": "2022-03-10T15:41:06.331Z"
   },
   {
    "duration": 6,
    "start_time": "2022-03-10T15:46:15.014Z"
   },
   {
    "duration": 8,
    "start_time": "2022-03-10T15:46:45.911Z"
   },
   {
    "duration": 881,
    "start_time": "2022-03-10T15:47:00.035Z"
   },
   {
    "duration": 18,
    "start_time": "2022-03-10T15:47:00.919Z"
   },
   {
    "duration": 9,
    "start_time": "2022-03-10T15:47:00.941Z"
   },
   {
    "duration": 48,
    "start_time": "2022-03-10T15:47:00.953Z"
   },
   {
    "duration": 12,
    "start_time": "2022-03-10T15:47:01.003Z"
   },
   {
    "duration": 46,
    "start_time": "2022-03-10T15:47:01.017Z"
   },
   {
    "duration": 30,
    "start_time": "2022-03-10T15:47:01.066Z"
   },
   {
    "duration": 6,
    "start_time": "2022-03-10T15:47:01.099Z"
   },
   {
    "duration": 28,
    "start_time": "2022-03-10T15:47:01.108Z"
   },
   {
    "duration": 11,
    "start_time": "2022-03-10T15:47:01.138Z"
   },
   {
    "duration": 8,
    "start_time": "2022-03-10T15:47:01.152Z"
   },
   {
    "duration": 30,
    "start_time": "2022-03-10T15:47:01.162Z"
   },
   {
    "duration": 32,
    "start_time": "2022-03-10T15:47:01.195Z"
   },
   {
    "duration": 31,
    "start_time": "2022-03-10T15:47:01.230Z"
   },
   {
    "duration": 34,
    "start_time": "2022-03-10T15:47:01.263Z"
   },
   {
    "duration": 8,
    "start_time": "2022-03-10T15:49:06.839Z"
   },
   {
    "duration": 8,
    "start_time": "2022-03-10T15:50:31.884Z"
   },
   {
    "duration": 9,
    "start_time": "2022-03-10T15:50:48.298Z"
   },
   {
    "duration": 15,
    "start_time": "2022-03-10T15:51:15.404Z"
   },
   {
    "duration": 10,
    "start_time": "2022-03-10T15:51:30.976Z"
   },
   {
    "duration": 10,
    "start_time": "2022-03-10T15:51:40.951Z"
   },
   {
    "duration": 7,
    "start_time": "2022-03-10T15:51:57.229Z"
   },
   {
    "duration": 9,
    "start_time": "2022-03-10T15:52:06.784Z"
   },
   {
    "duration": 8,
    "start_time": "2022-03-10T15:52:36.399Z"
   },
   {
    "duration": 9,
    "start_time": "2022-03-10T15:52:47.456Z"
   },
   {
    "duration": 7,
    "start_time": "2022-03-10T15:52:59.560Z"
   },
   {
    "duration": 7314,
    "start_time": "2022-03-10T15:53:11.689Z"
   },
   {
    "duration": 6,
    "start_time": "2022-03-10T15:53:24.660Z"
   },
   {
    "duration": 9,
    "start_time": "2022-03-10T15:53:40.693Z"
   },
   {
    "duration": 9,
    "start_time": "2022-03-10T15:53:53.078Z"
   },
   {
    "duration": 7,
    "start_time": "2022-03-10T15:54:15.574Z"
   },
   {
    "duration": 5,
    "start_time": "2022-03-10T15:54:21.209Z"
   },
   {
    "duration": 9,
    "start_time": "2022-03-10T15:54:47.937Z"
   },
   {
    "duration": 9,
    "start_time": "2022-03-10T15:57:38.626Z"
   },
   {
    "duration": 268,
    "start_time": "2022-03-10T16:01:15.424Z"
   },
   {
    "duration": 13,
    "start_time": "2022-03-10T16:01:26.794Z"
   },
   {
    "duration": 13,
    "start_time": "2022-03-10T16:02:33.312Z"
   },
   {
    "duration": 12,
    "start_time": "2022-03-10T16:03:04.611Z"
   },
   {
    "duration": 7,
    "start_time": "2022-03-10T16:09:22.035Z"
   },
   {
    "duration": 759,
    "start_time": "2022-03-10T16:09:35.838Z"
   },
   {
    "duration": 15,
    "start_time": "2022-03-10T16:09:36.600Z"
   },
   {
    "duration": 9,
    "start_time": "2022-03-10T16:09:36.619Z"
   },
   {
    "duration": 55,
    "start_time": "2022-03-10T16:09:36.630Z"
   },
   {
    "duration": 6,
    "start_time": "2022-03-10T16:09:36.688Z"
   },
   {
    "duration": 17,
    "start_time": "2022-03-10T16:09:36.697Z"
   },
   {
    "duration": 19,
    "start_time": "2022-03-10T16:09:36.717Z"
   },
   {
    "duration": 6,
    "start_time": "2022-03-10T16:09:36.738Z"
   },
   {
    "duration": 44,
    "start_time": "2022-03-10T16:09:36.747Z"
   },
   {
    "duration": 8,
    "start_time": "2022-03-10T16:09:36.794Z"
   },
   {
    "duration": 10,
    "start_time": "2022-03-10T16:09:36.805Z"
   },
   {
    "duration": 11,
    "start_time": "2022-03-10T16:09:36.817Z"
   },
   {
    "duration": 15,
    "start_time": "2022-03-10T16:09:36.830Z"
   },
   {
    "duration": 35,
    "start_time": "2022-03-10T16:09:36.847Z"
   },
   {
    "duration": 21,
    "start_time": "2022-03-10T16:09:36.885Z"
   },
   {
    "duration": 14,
    "start_time": "2022-03-10T16:09:36.908Z"
   },
   {
    "duration": 27,
    "start_time": "2022-03-10T16:09:36.924Z"
   },
   {
    "duration": 47,
    "start_time": "2022-03-10T16:09:36.954Z"
   },
   {
    "duration": 18,
    "start_time": "2022-03-10T16:10:10.130Z"
   },
   {
    "duration": 9,
    "start_time": "2022-03-10T16:13:21.897Z"
   },
   {
    "duration": 786,
    "start_time": "2022-03-10T16:13:46.401Z"
   },
   {
    "duration": 15,
    "start_time": "2022-03-10T16:13:47.190Z"
   },
   {
    "duration": 10,
    "start_time": "2022-03-10T16:13:47.208Z"
   },
   {
    "duration": 20,
    "start_time": "2022-03-10T16:13:47.221Z"
   },
   {
    "duration": 7,
    "start_time": "2022-03-10T16:13:47.283Z"
   },
   {
    "duration": 20,
    "start_time": "2022-03-10T16:13:47.293Z"
   },
   {
    "duration": 31,
    "start_time": "2022-03-10T16:13:47.315Z"
   },
   {
    "duration": 5,
    "start_time": "2022-03-10T16:13:47.350Z"
   },
   {
    "duration": 34,
    "start_time": "2022-03-10T16:13:47.358Z"
   },
   {
    "duration": 13,
    "start_time": "2022-03-10T16:13:47.395Z"
   },
   {
    "duration": 5,
    "start_time": "2022-03-10T16:13:47.411Z"
   },
   {
    "duration": 12,
    "start_time": "2022-03-10T16:13:47.419Z"
   },
   {
    "duration": 50,
    "start_time": "2022-03-10T16:13:47.434Z"
   },
   {
    "duration": 9,
    "start_time": "2022-03-10T16:13:47.487Z"
   },
   {
    "duration": 19,
    "start_time": "2022-03-10T16:13:47.499Z"
   },
   {
    "duration": 15,
    "start_time": "2022-03-10T16:13:47.521Z"
   },
   {
    "duration": 49,
    "start_time": "2022-03-10T16:13:47.539Z"
   },
   {
    "duration": 27,
    "start_time": "2022-03-10T16:13:47.590Z"
   },
   {
    "duration": 2542,
    "start_time": "2022-03-14T12:35:11.567Z"
   },
   {
    "duration": 468,
    "start_time": "2022-03-14T12:36:04.003Z"
   },
   {
    "duration": 540,
    "start_time": "2022-03-14T12:36:17.027Z"
   },
   {
    "duration": 802,
    "start_time": "2022-03-14T12:36:24.492Z"
   },
   {
    "duration": 9,
    "start_time": "2022-03-14T12:36:25.296Z"
   },
   {
    "duration": 6,
    "start_time": "2022-03-14T12:36:25.307Z"
   },
   {
    "duration": 11,
    "start_time": "2022-03-14T12:36:25.315Z"
   },
   {
    "duration": 6,
    "start_time": "2022-03-14T12:36:25.328Z"
   },
   {
    "duration": 8,
    "start_time": "2022-03-14T12:36:25.335Z"
   },
   {
    "duration": 41,
    "start_time": "2022-03-14T12:36:25.345Z"
   },
   {
    "duration": 5,
    "start_time": "2022-03-14T12:36:25.388Z"
   },
   {
    "duration": 8,
    "start_time": "2022-03-14T12:36:25.395Z"
   },
   {
    "duration": 7,
    "start_time": "2022-03-14T12:36:25.405Z"
   },
   {
    "duration": 5,
    "start_time": "2022-03-14T12:36:25.413Z"
   },
   {
    "duration": 14,
    "start_time": "2022-03-14T12:36:25.420Z"
   },
   {
    "duration": 18,
    "start_time": "2022-03-14T12:36:25.435Z"
   },
   {
    "duration": 27,
    "start_time": "2022-03-14T12:36:25.454Z"
   },
   {
    "duration": 14,
    "start_time": "2022-03-14T12:36:25.483Z"
   },
   {
    "duration": 11,
    "start_time": "2022-03-14T12:36:25.498Z"
   },
   {
    "duration": 19,
    "start_time": "2022-03-14T12:36:25.511Z"
   },
   {
    "duration": 16,
    "start_time": "2022-03-14T12:36:25.531Z"
   },
   {
    "duration": 6,
    "start_time": "2022-03-14T12:36:25.548Z"
   },
   {
    "duration": 6,
    "start_time": "2022-03-14T12:37:33.285Z"
   },
   {
    "duration": 8,
    "start_time": "2022-03-14T12:39:55.280Z"
   },
   {
    "duration": 7,
    "start_time": "2022-03-14T12:40:38.342Z"
   },
   {
    "duration": 6,
    "start_time": "2022-03-14T12:40:48.466Z"
   },
   {
    "duration": 8,
    "start_time": "2022-03-14T12:53:46.644Z"
   },
   {
    "duration": 12,
    "start_time": "2022-03-14T12:53:54.774Z"
   },
   {
    "duration": 13,
    "start_time": "2022-03-14T12:54:23.719Z"
   },
   {
    "duration": 380,
    "start_time": "2022-03-14T12:54:37.351Z"
   },
   {
    "duration": 302,
    "start_time": "2022-03-14T12:54:43.757Z"
   },
   {
    "duration": 292,
    "start_time": "2022-03-14T12:54:47.031Z"
   },
   {
    "duration": 315,
    "start_time": "2022-03-14T12:54:54.819Z"
   },
   {
    "duration": 679,
    "start_time": "2022-03-14T12:55:02.861Z"
   },
   {
    "duration": 10,
    "start_time": "2022-03-14T12:55:03.542Z"
   },
   {
    "duration": 16,
    "start_time": "2022-03-14T12:55:03.554Z"
   },
   {
    "duration": 35,
    "start_time": "2022-03-14T12:55:03.571Z"
   },
   {
    "duration": 12,
    "start_time": "2022-03-14T12:55:03.608Z"
   },
   {
    "duration": 8,
    "start_time": "2022-03-14T12:55:03.622Z"
   },
   {
    "duration": 17,
    "start_time": "2022-03-14T12:55:03.632Z"
   },
   {
    "duration": 6,
    "start_time": "2022-03-14T12:55:03.651Z"
   },
   {
    "duration": 18,
    "start_time": "2022-03-14T12:55:03.658Z"
   },
   {
    "duration": 20,
    "start_time": "2022-03-14T12:55:03.677Z"
   },
   {
    "duration": 9,
    "start_time": "2022-03-14T12:55:03.698Z"
   },
   {
    "duration": 26,
    "start_time": "2022-03-14T12:55:03.708Z"
   },
   {
    "duration": 17,
    "start_time": "2022-03-14T12:55:03.736Z"
   },
   {
    "duration": 16,
    "start_time": "2022-03-14T12:55:03.754Z"
   },
   {
    "duration": 20,
    "start_time": "2022-03-14T12:55:03.772Z"
   },
   {
    "duration": 15,
    "start_time": "2022-03-14T12:55:03.793Z"
   },
   {
    "duration": 30,
    "start_time": "2022-03-14T12:55:03.809Z"
   },
   {
    "duration": 15,
    "start_time": "2022-03-14T12:55:03.840Z"
   },
   {
    "duration": 7,
    "start_time": "2022-03-14T12:55:03.856Z"
   },
   {
    "duration": 36,
    "start_time": "2022-03-14T12:55:03.864Z"
   },
   {
    "duration": 5,
    "start_time": "2022-03-14T12:55:03.901Z"
   },
   {
    "duration": 10,
    "start_time": "2022-03-14T12:55:03.907Z"
   },
   {
    "duration": 11,
    "start_time": "2022-03-14T12:55:03.919Z"
   },
   {
    "duration": 344,
    "start_time": "2022-03-14T13:08:19.626Z"
   },
   {
    "duration": 3,
    "start_time": "2022-03-14T13:08:29.974Z"
   },
   {
    "duration": 3,
    "start_time": "2022-03-14T13:08:31.249Z"
   },
   {
    "duration": 16,
    "start_time": "2022-03-14T13:16:37.434Z"
   },
   {
    "duration": 3,
    "start_time": "2022-03-14T13:20:58.821Z"
   },
   {
    "duration": 15,
    "start_time": "2022-03-14T13:21:00.641Z"
   },
   {
    "duration": 107,
    "start_time": "2022-03-14T13:23:41.909Z"
   },
   {
    "duration": 6,
    "start_time": "2022-03-14T13:23:48.064Z"
   },
   {
    "duration": 99,
    "start_time": "2022-03-14T13:25:03.796Z"
   },
   {
    "duration": 6,
    "start_time": "2022-03-14T13:35:20.416Z"
   },
   {
    "duration": 7,
    "start_time": "2022-03-14T13:35:31.413Z"
   },
   {
    "duration": 7,
    "start_time": "2022-03-14T13:36:30.376Z"
   },
   {
    "duration": 3,
    "start_time": "2022-03-14T13:45:15.929Z"
   },
   {
    "duration": 1519,
    "start_time": "2022-03-14T13:48:00.948Z"
   },
   {
    "duration": 3,
    "start_time": "2022-03-14T13:48:09.305Z"
   },
   {
    "duration": 1478,
    "start_time": "2022-03-14T13:48:10.768Z"
   },
   {
    "duration": 3,
    "start_time": "2022-03-14T13:49:02.009Z"
   },
   {
    "duration": 17,
    "start_time": "2022-03-14T13:49:03.540Z"
   },
   {
    "duration": 445,
    "start_time": "2022-03-14T14:04:15.076Z"
   },
   {
    "duration": 6,
    "start_time": "2022-03-14T14:04:50.197Z"
   },
   {
    "duration": 4,
    "start_time": "2022-03-14T14:04:53.306Z"
   },
   {
    "duration": 4,
    "start_time": "2022-03-14T14:05:17.326Z"
   },
   {
    "duration": 4,
    "start_time": "2022-03-14T14:05:22.304Z"
   },
   {
    "duration": 593,
    "start_time": "2022-03-14T14:05:33.619Z"
   },
   {
    "duration": 10,
    "start_time": "2022-03-14T14:05:34.214Z"
   },
   {
    "duration": 6,
    "start_time": "2022-03-14T14:05:34.226Z"
   },
   {
    "duration": 11,
    "start_time": "2022-03-14T14:05:34.233Z"
   },
   {
    "duration": 5,
    "start_time": "2022-03-14T14:05:34.245Z"
   },
   {
    "duration": 30,
    "start_time": "2022-03-14T14:05:34.251Z"
   },
   {
    "duration": 10,
    "start_time": "2022-03-14T14:05:34.283Z"
   },
   {
    "duration": 3,
    "start_time": "2022-03-14T14:05:34.295Z"
   },
   {
    "duration": 8,
    "start_time": "2022-03-14T14:05:34.300Z"
   },
   {
    "duration": 5,
    "start_time": "2022-03-14T14:05:34.310Z"
   },
   {
    "duration": 4,
    "start_time": "2022-03-14T14:05:34.317Z"
   },
   {
    "duration": 7,
    "start_time": "2022-03-14T14:05:34.323Z"
   },
   {
    "duration": 12,
    "start_time": "2022-03-14T14:05:34.332Z"
   },
   {
    "duration": 37,
    "start_time": "2022-03-14T14:05:34.345Z"
   },
   {
    "duration": 12,
    "start_time": "2022-03-14T14:05:34.383Z"
   },
   {
    "duration": 10,
    "start_time": "2022-03-14T14:05:34.396Z"
   },
   {
    "duration": 17,
    "start_time": "2022-03-14T14:05:34.408Z"
   },
   {
    "duration": 16,
    "start_time": "2022-03-14T14:05:34.426Z"
   },
   {
    "duration": 6,
    "start_time": "2022-03-14T14:05:34.443Z"
   },
   {
    "duration": 37,
    "start_time": "2022-03-14T14:05:34.451Z"
   },
   {
    "duration": 6,
    "start_time": "2022-03-14T14:05:34.489Z"
   },
   {
    "duration": 9,
    "start_time": "2022-03-14T14:05:34.497Z"
   },
   {
    "duration": 11,
    "start_time": "2022-03-14T14:05:34.508Z"
   },
   {
    "duration": 6,
    "start_time": "2022-03-14T14:05:34.521Z"
   },
   {
    "duration": 16,
    "start_time": "2022-03-14T14:05:34.528Z"
   },
   {
    "duration": 38,
    "start_time": "2022-03-14T14:05:34.546Z"
   },
   {
    "duration": 7,
    "start_time": "2022-03-14T14:05:34.586Z"
   },
   {
    "duration": 5,
    "start_time": "2022-03-14T14:05:34.594Z"
   },
   {
    "duration": 17,
    "start_time": "2022-03-14T14:05:34.600Z"
   },
   {
    "duration": 5,
    "start_time": "2022-03-14T14:05:34.619Z"
   },
   {
    "duration": 4,
    "start_time": "2022-03-14T14:06:06.842Z"
   },
   {
    "duration": 7,
    "start_time": "2022-03-14T14:06:36.030Z"
   },
   {
    "duration": 377,
    "start_time": "2022-03-14T14:07:16.260Z"
   },
   {
    "duration": 528,
    "start_time": "2022-03-14T14:07:27.134Z"
   },
   {
    "duration": 14,
    "start_time": "2022-03-14T14:10:50.362Z"
   },
   {
    "duration": 5,
    "start_time": "2022-03-14T14:18:08.419Z"
   },
   {
    "duration": 7,
    "start_time": "2022-03-14T14:18:24.274Z"
   },
   {
    "duration": 4,
    "start_time": "2022-03-14T14:18:42.721Z"
   },
   {
    "duration": 6,
    "start_time": "2022-03-14T14:18:52.410Z"
   },
   {
    "duration": 4,
    "start_time": "2022-03-14T14:18:56.648Z"
   },
   {
    "duration": 6,
    "start_time": "2022-03-14T14:18:58.738Z"
   },
   {
    "duration": 623,
    "start_time": "2022-03-14T14:19:06.931Z"
   },
   {
    "duration": 10,
    "start_time": "2022-03-14T14:19:07.556Z"
   },
   {
    "duration": 6,
    "start_time": "2022-03-14T14:19:07.568Z"
   },
   {
    "duration": 11,
    "start_time": "2022-03-14T14:19:07.576Z"
   },
   {
    "duration": 4,
    "start_time": "2022-03-14T14:19:07.589Z"
   },
   {
    "duration": 7,
    "start_time": "2022-03-14T14:19:07.595Z"
   },
   {
    "duration": 13,
    "start_time": "2022-03-14T14:19:07.604Z"
   },
   {
    "duration": 4,
    "start_time": "2022-03-14T14:19:07.620Z"
   },
   {
    "duration": 8,
    "start_time": "2022-03-14T14:19:07.626Z"
   },
   {
    "duration": 44,
    "start_time": "2022-03-14T14:19:07.636Z"
   },
   {
    "duration": 4,
    "start_time": "2022-03-14T14:19:07.682Z"
   },
   {
    "duration": 7,
    "start_time": "2022-03-14T14:19:07.687Z"
   },
   {
    "duration": 8,
    "start_time": "2022-03-14T14:19:07.696Z"
   },
   {
    "duration": 14,
    "start_time": "2022-03-14T14:19:07.705Z"
   },
   {
    "duration": 6,
    "start_time": "2022-03-14T14:19:07.720Z"
   },
   {
    "duration": 14,
    "start_time": "2022-03-14T14:19:07.727Z"
   },
   {
    "duration": 10,
    "start_time": "2022-03-14T14:19:07.742Z"
   },
   {
    "duration": 39,
    "start_time": "2022-03-14T14:19:07.753Z"
   },
   {
    "duration": 16,
    "start_time": "2022-03-14T14:19:07.794Z"
   },
   {
    "duration": 5,
    "start_time": "2022-03-14T14:19:07.812Z"
   },
   {
    "duration": 12,
    "start_time": "2022-03-14T14:19:07.818Z"
   },
   {
    "duration": 5,
    "start_time": "2022-03-14T14:19:07.832Z"
   },
   {
    "duration": 7,
    "start_time": "2022-03-14T14:19:07.840Z"
   },
   {
    "duration": 41,
    "start_time": "2022-03-14T14:19:07.849Z"
   },
   {
    "duration": 3,
    "start_time": "2022-03-14T14:19:07.891Z"
   },
   {
    "duration": 24,
    "start_time": "2022-03-14T14:19:07.896Z"
   },
   {
    "duration": 6,
    "start_time": "2022-03-14T14:19:07.921Z"
   },
   {
    "duration": 9,
    "start_time": "2022-03-14T14:19:07.929Z"
   },
   {
    "duration": 4,
    "start_time": "2022-03-14T14:19:07.939Z"
   },
   {
    "duration": 39,
    "start_time": "2022-03-14T14:19:07.945Z"
   },
   {
    "duration": 16,
    "start_time": "2022-03-14T14:19:07.986Z"
   },
   {
    "duration": 7,
    "start_time": "2022-03-14T14:19:29.384Z"
   },
   {
    "duration": 8,
    "start_time": "2022-03-14T14:22:21.304Z"
   },
   {
    "duration": 7,
    "start_time": "2022-03-14T14:22:38.382Z"
   },
   {
    "duration": 642,
    "start_time": "2022-03-14T14:23:15.071Z"
   },
   {
    "duration": 10,
    "start_time": "2022-03-14T14:23:15.715Z"
   },
   {
    "duration": 7,
    "start_time": "2022-03-14T14:23:15.727Z"
   },
   {
    "duration": 13,
    "start_time": "2022-03-14T14:23:15.735Z"
   },
   {
    "duration": 9,
    "start_time": "2022-03-14T14:23:15.750Z"
   },
   {
    "duration": 30,
    "start_time": "2022-03-14T14:23:15.761Z"
   },
   {
    "duration": 12,
    "start_time": "2022-03-14T14:23:15.793Z"
   },
   {
    "duration": 4,
    "start_time": "2022-03-14T14:23:15.807Z"
   },
   {
    "duration": 9,
    "start_time": "2022-03-14T14:23:15.813Z"
   },
   {
    "duration": 7,
    "start_time": "2022-03-14T14:23:15.823Z"
   },
   {
    "duration": 4,
    "start_time": "2022-03-14T14:23:15.832Z"
   },
   {
    "duration": 11,
    "start_time": "2022-03-14T14:23:15.837Z"
   },
   {
    "duration": 7,
    "start_time": "2022-03-14T14:23:15.849Z"
   },
   {
    "duration": 33,
    "start_time": "2022-03-14T14:23:15.857Z"
   },
   {
    "duration": 7,
    "start_time": "2022-03-14T14:23:15.891Z"
   },
   {
    "duration": 16,
    "start_time": "2022-03-14T14:23:15.899Z"
   },
   {
    "duration": 10,
    "start_time": "2022-03-14T14:23:15.916Z"
   },
   {
    "duration": 17,
    "start_time": "2022-03-14T14:23:15.928Z"
   },
   {
    "duration": 35,
    "start_time": "2022-03-14T14:23:15.946Z"
   },
   {
    "duration": 7,
    "start_time": "2022-03-14T14:23:15.982Z"
   },
   {
    "duration": 19,
    "start_time": "2022-03-14T14:23:15.990Z"
   },
   {
    "duration": 6,
    "start_time": "2022-03-14T14:23:16.011Z"
   },
   {
    "duration": 15,
    "start_time": "2022-03-14T14:23:16.019Z"
   },
   {
    "duration": 14,
    "start_time": "2022-03-14T14:23:16.035Z"
   },
   {
    "duration": 8,
    "start_time": "2022-03-14T14:23:16.051Z"
   },
   {
    "duration": 33,
    "start_time": "2022-03-14T14:23:16.061Z"
   },
   {
    "duration": 7,
    "start_time": "2022-03-14T14:23:16.096Z"
   },
   {
    "duration": 13,
    "start_time": "2022-03-14T14:23:16.105Z"
   },
   {
    "duration": 5,
    "start_time": "2022-03-14T14:23:16.119Z"
   },
   {
    "duration": 19,
    "start_time": "2022-03-14T14:23:16.125Z"
   },
   {
    "duration": 14,
    "start_time": "2022-03-14T14:23:16.146Z"
   },
   {
    "duration": 8,
    "start_time": "2022-03-14T14:23:49.190Z"
   },
   {
    "duration": 10,
    "start_time": "2022-03-14T14:25:55.748Z"
   },
   {
    "duration": 11,
    "start_time": "2022-03-14T14:26:04.470Z"
   },
   {
    "duration": 692,
    "start_time": "2022-03-14T14:26:13.060Z"
   },
   {
    "duration": 10,
    "start_time": "2022-03-14T14:26:13.754Z"
   },
   {
    "duration": 29,
    "start_time": "2022-03-14T14:26:13.765Z"
   },
   {
    "duration": 34,
    "start_time": "2022-03-14T14:26:13.795Z"
   },
   {
    "duration": 15,
    "start_time": "2022-03-14T14:26:13.830Z"
   },
   {
    "duration": 30,
    "start_time": "2022-03-14T14:26:13.846Z"
   },
   {
    "duration": 18,
    "start_time": "2022-03-14T14:26:13.877Z"
   },
   {
    "duration": 6,
    "start_time": "2022-03-14T14:26:13.896Z"
   },
   {
    "duration": 7,
    "start_time": "2022-03-14T14:26:13.905Z"
   },
   {
    "duration": 22,
    "start_time": "2022-03-14T14:26:13.914Z"
   },
   {
    "duration": 12,
    "start_time": "2022-03-14T14:26:13.937Z"
   },
   {
    "duration": 18,
    "start_time": "2022-03-14T14:26:13.950Z"
   },
   {
    "duration": 18,
    "start_time": "2022-03-14T14:26:13.969Z"
   },
   {
    "duration": 29,
    "start_time": "2022-03-14T14:26:13.988Z"
   },
   {
    "duration": 20,
    "start_time": "2022-03-14T14:26:14.019Z"
   },
   {
    "duration": 29,
    "start_time": "2022-03-14T14:26:14.041Z"
   },
   {
    "duration": 10,
    "start_time": "2022-03-14T14:26:14.072Z"
   },
   {
    "duration": 66,
    "start_time": "2022-03-14T14:26:14.083Z"
   },
   {
    "duration": 16,
    "start_time": "2022-03-14T14:26:14.150Z"
   },
   {
    "duration": 91,
    "start_time": "2022-03-14T14:26:14.168Z"
   },
   {
    "duration": 130,
    "start_time": "2022-03-14T14:26:14.260Z"
   },
   {
    "duration": 93,
    "start_time": "2022-03-14T14:26:14.392Z"
   },
   {
    "duration": 117,
    "start_time": "2022-03-14T14:26:14.487Z"
   },
   {
    "duration": 28,
    "start_time": "2022-03-14T14:26:14.606Z"
   },
   {
    "duration": 136,
    "start_time": "2022-03-14T14:26:14.636Z"
   },
   {
    "duration": 72,
    "start_time": "2022-03-14T14:26:14.773Z"
   },
   {
    "duration": 25,
    "start_time": "2022-03-14T14:26:14.847Z"
   },
   {
    "duration": 48,
    "start_time": "2022-03-14T14:26:14.873Z"
   },
   {
    "duration": 21,
    "start_time": "2022-03-14T14:26:14.922Z"
   },
   {
    "duration": 21,
    "start_time": "2022-03-14T14:26:14.945Z"
   },
   {
    "duration": 12,
    "start_time": "2022-03-14T14:26:14.968Z"
   },
   {
    "duration": 10,
    "start_time": "2022-03-14T14:26:44.789Z"
   },
   {
    "duration": 10,
    "start_time": "2022-03-14T14:27:08.393Z"
   },
   {
    "duration": 21,
    "start_time": "2022-03-14T14:29:05.965Z"
   },
   {
    "duration": 17,
    "start_time": "2022-03-14T14:29:17.052Z"
   },
   {
    "duration": 14,
    "start_time": "2022-03-14T14:29:53.340Z"
   },
   {
    "duration": 643,
    "start_time": "2022-03-14T14:30:08.078Z"
   },
   {
    "duration": 94,
    "start_time": "2022-03-14T14:30:08.723Z"
   },
   {
    "duration": 211,
    "start_time": "2022-03-14T14:30:08.819Z"
   },
   {
    "duration": 116,
    "start_time": "2022-03-14T14:30:09.032Z"
   },
   {
    "duration": 222,
    "start_time": "2022-03-14T14:30:09.150Z"
   },
   {
    "duration": 819,
    "start_time": "2022-03-14T14:30:09.373Z"
   },
   {
    "duration": 561,
    "start_time": "2022-03-14T14:30:10.194Z"
   },
   {
    "duration": 472,
    "start_time": "2022-03-14T14:30:10.757Z"
   },
   {
    "duration": 186,
    "start_time": "2022-03-14T14:30:11.231Z"
   },
   {
    "duration": 194,
    "start_time": "2022-03-14T14:30:11.418Z"
   },
   {
    "duration": 323,
    "start_time": "2022-03-14T14:30:11.613Z"
   },
   {
    "duration": 494,
    "start_time": "2022-03-14T14:30:11.938Z"
   },
   {
    "duration": 239,
    "start_time": "2022-03-14T14:30:12.434Z"
   },
   {
    "duration": 200,
    "start_time": "2022-03-14T14:30:12.675Z"
   },
   {
    "duration": 168,
    "start_time": "2022-03-14T14:30:12.877Z"
   },
   {
    "duration": 83,
    "start_time": "2022-03-14T14:30:13.047Z"
   },
   {
    "duration": 60,
    "start_time": "2022-03-14T14:30:13.132Z"
   },
   {
    "duration": 98,
    "start_time": "2022-03-14T14:30:13.193Z"
   },
   {
    "duration": 135,
    "start_time": "2022-03-14T14:30:13.292Z"
   },
   {
    "duration": 75,
    "start_time": "2022-03-14T14:30:13.428Z"
   },
   {
    "duration": 286,
    "start_time": "2022-03-14T14:30:13.504Z"
   },
   {
    "duration": 295,
    "start_time": "2022-03-14T14:30:13.791Z"
   },
   {
    "duration": 551,
    "start_time": "2022-03-14T14:30:14.089Z"
   },
   {
    "duration": 738,
    "start_time": "2022-03-14T14:30:14.642Z"
   },
   {
    "duration": 673,
    "start_time": "2022-03-14T14:30:15.382Z"
   },
   {
    "duration": 399,
    "start_time": "2022-03-14T14:30:16.057Z"
   },
   {
    "duration": 394,
    "start_time": "2022-03-14T14:30:16.458Z"
   },
   {
    "duration": 363,
    "start_time": "2022-03-14T14:30:16.853Z"
   },
   {
    "duration": 1096,
    "start_time": "2022-03-14T14:30:17.217Z"
   },
   {
    "duration": 845,
    "start_time": "2022-03-14T14:30:18.315Z"
   },
   {
    "duration": 988,
    "start_time": "2022-03-14T14:30:19.161Z"
   },
   {
    "duration": 22,
    "start_time": "2022-03-14T14:32:37.912Z"
   },
   {
    "duration": 12,
    "start_time": "2022-03-14T14:32:47.947Z"
   },
   {
    "duration": 657,
    "start_time": "2022-03-14T14:33:02.479Z"
   },
   {
    "duration": 9,
    "start_time": "2022-03-14T14:33:03.138Z"
   },
   {
    "duration": 733,
    "start_time": "2022-03-14T14:33:03.149Z"
   },
   {
    "duration": 510,
    "start_time": "2022-03-14T14:33:03.883Z"
   },
   {
    "duration": 824,
    "start_time": "2022-03-14T14:33:04.395Z"
   },
   {
    "duration": 639,
    "start_time": "2022-03-14T14:33:05.220Z"
   },
   {
    "duration": 382,
    "start_time": "2022-03-14T14:33:05.861Z"
   },
   {
    "duration": 581,
    "start_time": "2022-03-14T14:33:06.245Z"
   },
   {
    "duration": 477,
    "start_time": "2022-03-14T14:33:06.828Z"
   },
   {
    "duration": 163,
    "start_time": "2022-03-14T14:33:07.306Z"
   },
   {
    "duration": 573,
    "start_time": "2022-03-14T14:33:07.470Z"
   },
   {
    "duration": 271,
    "start_time": "2022-03-14T14:33:08.045Z"
   },
   {
    "duration": 126,
    "start_time": "2022-03-14T14:33:08.318Z"
   },
   {
    "duration": 109,
    "start_time": "2022-03-14T14:33:08.445Z"
   },
   {
    "duration": 286,
    "start_time": "2022-03-14T14:33:08.556Z"
   },
   {
    "duration": 210,
    "start_time": "2022-03-14T14:33:08.844Z"
   },
   {
    "duration": 340,
    "start_time": "2022-03-14T14:33:09.056Z"
   },
   {
    "duration": 178,
    "start_time": "2022-03-14T14:33:09.398Z"
   },
   {
    "duration": 276,
    "start_time": "2022-03-14T14:33:09.577Z"
   },
   {
    "duration": 92,
    "start_time": "2022-03-14T14:33:09.855Z"
   },
   {
    "duration": 362,
    "start_time": "2022-03-14T14:33:09.949Z"
   },
   {
    "duration": 179,
    "start_time": "2022-03-14T14:33:10.313Z"
   },
   {
    "duration": 244,
    "start_time": "2022-03-14T14:33:10.495Z"
   },
   {
    "duration": 341,
    "start_time": "2022-03-14T14:33:10.741Z"
   },
   {
    "duration": 145,
    "start_time": "2022-03-14T14:33:11.083Z"
   },
   {
    "duration": 41,
    "start_time": "2022-03-14T14:33:11.230Z"
   },
   {
    "duration": 308,
    "start_time": "2022-03-14T14:33:11.273Z"
   },
   {
    "duration": 242,
    "start_time": "2022-03-14T14:33:11.583Z"
   },
   {
    "duration": 354,
    "start_time": "2022-03-14T14:33:11.826Z"
   },
   {
    "duration": 505,
    "start_time": "2022-03-14T14:33:12.182Z"
   },
   {
    "duration": 360,
    "start_time": "2022-03-14T14:33:12.688Z"
   },
   {
    "duration": 23,
    "start_time": "2022-03-14T14:34:13.523Z"
   },
   {
    "duration": 15,
    "start_time": "2022-03-14T14:34:43.377Z"
   },
   {
    "duration": 81,
    "start_time": "2022-03-14T14:35:47.705Z"
   },
   {
    "duration": 1038,
    "start_time": "2022-03-14T14:35:47.788Z"
   },
   {
    "duration": 506,
    "start_time": "2022-03-14T14:35:48.829Z"
   },
   {
    "duration": 1354,
    "start_time": "2022-03-14T14:35:49.337Z"
   },
   {
    "duration": 1137,
    "start_time": "2022-03-14T14:35:50.692Z"
   },
   {
    "duration": 1553,
    "start_time": "2022-03-14T14:35:51.830Z"
   },
   {
    "duration": 1259,
    "start_time": "2022-03-14T14:35:53.385Z"
   },
   {
    "duration": 751,
    "start_time": "2022-03-14T14:35:54.646Z"
   },
   {
    "duration": 737,
    "start_time": "2022-03-14T14:35:55.400Z"
   },
   {
    "duration": 1016,
    "start_time": "2022-03-14T14:35:56.140Z"
   },
   {
    "duration": 172,
    "start_time": "2022-03-14T14:35:57.158Z"
   },
   {
    "duration": 371,
    "start_time": "2022-03-14T14:35:57.331Z"
   },
   {
    "duration": 243,
    "start_time": "2022-03-14T14:35:57.703Z"
   },
   {
    "duration": 337,
    "start_time": "2022-03-14T14:35:57.947Z"
   },
   {
    "duration": 334,
    "start_time": "2022-03-14T14:35:58.285Z"
   },
   {
    "duration": 341,
    "start_time": "2022-03-14T14:35:58.620Z"
   },
   {
    "duration": 318,
    "start_time": "2022-03-14T14:35:58.963Z"
   },
   {
    "duration": 806,
    "start_time": "2022-03-14T14:35:59.283Z"
   },
   {
    "duration": 1361,
    "start_time": "2022-03-14T14:36:00.090Z"
   },
   {
    "duration": 1436,
    "start_time": "2022-03-14T14:36:01.452Z"
   },
   {
    "duration": 1105,
    "start_time": "2022-03-14T14:36:02.889Z"
   },
   {
    "duration": 863,
    "start_time": "2022-03-14T14:36:03.995Z"
   },
   {
    "duration": 643,
    "start_time": "2022-03-14T14:36:04.860Z"
   },
   {
    "duration": 839,
    "start_time": "2022-03-14T14:36:05.505Z"
   },
   {
    "duration": 760,
    "start_time": "2022-03-14T14:36:06.346Z"
   },
   {
    "duration": 706,
    "start_time": "2022-03-14T14:36:07.108Z"
   },
   {
    "duration": 408,
    "start_time": "2022-03-14T14:36:07.817Z"
   },
   {
    "duration": 483,
    "start_time": "2022-03-14T14:36:08.227Z"
   },
   {
    "duration": 725,
    "start_time": "2022-03-14T14:36:08.711Z"
   },
   {
    "duration": 879,
    "start_time": "2022-03-14T14:36:09.438Z"
   },
   {
    "duration": 1097,
    "start_time": "2022-03-14T14:36:10.318Z"
   },
   {
    "duration": 32,
    "start_time": "2022-03-14T14:36:32.512Z"
   },
   {
    "duration": 447,
    "start_time": "2022-03-14T14:39:28.302Z"
   },
   {
    "duration": 294,
    "start_time": "2022-03-14T14:39:40.156Z"
   },
   {
    "duration": 91,
    "start_time": "2022-03-14T14:42:02.461Z"
   },
   {
    "duration": 98,
    "start_time": "2022-03-14T14:42:41.290Z"
   },
   {
    "duration": 12,
    "start_time": "2022-03-14T14:42:47.399Z"
   },
   {
    "duration": 8,
    "start_time": "2022-03-14T14:43:00.333Z"
   },
   {
    "duration": 635,
    "start_time": "2022-03-14T14:43:07.999Z"
   },
   {
    "duration": 504,
    "start_time": "2022-03-14T14:43:08.636Z"
   },
   {
    "duration": 322,
    "start_time": "2022-03-14T14:43:09.142Z"
   },
   {
    "duration": 485,
    "start_time": "2022-03-14T14:43:09.467Z"
   },
   {
    "duration": 1160,
    "start_time": "2022-03-14T14:43:09.954Z"
   },
   {
    "duration": 942,
    "start_time": "2022-03-14T14:43:11.115Z"
   },
   {
    "duration": 658,
    "start_time": "2022-03-14T14:43:12.059Z"
   },
   {
    "duration": 1092,
    "start_time": "2022-03-14T14:43:12.720Z"
   },
   {
    "duration": 749,
    "start_time": "2022-03-14T14:43:13.814Z"
   },
   {
    "duration": 700,
    "start_time": "2022-03-14T14:43:14.565Z"
   },
   {
    "duration": 626,
    "start_time": "2022-03-14T14:43:15.267Z"
   },
   {
    "duration": 534,
    "start_time": "2022-03-14T14:43:15.895Z"
   },
   {
    "duration": 781,
    "start_time": "2022-03-14T14:43:16.431Z"
   },
   {
    "duration": 822,
    "start_time": "2022-03-14T14:43:17.214Z"
   },
   {
    "duration": 707,
    "start_time": "2022-03-14T14:43:18.038Z"
   },
   {
    "duration": 847,
    "start_time": "2022-03-14T14:43:18.746Z"
   },
   {
    "duration": 738,
    "start_time": "2022-03-14T14:43:19.596Z"
   },
   {
    "duration": 478,
    "start_time": "2022-03-14T14:43:20.335Z"
   },
   {
    "duration": 720,
    "start_time": "2022-03-14T14:43:20.814Z"
   },
   {
    "duration": 602,
    "start_time": "2022-03-14T14:43:21.536Z"
   },
   {
    "duration": 899,
    "start_time": "2022-03-14T14:43:22.139Z"
   },
   {
    "duration": 1354,
    "start_time": "2022-03-14T14:43:23.039Z"
   },
   {
    "duration": 724,
    "start_time": "2022-03-14T14:43:24.396Z"
   },
   {
    "duration": 810,
    "start_time": "2022-03-14T14:43:25.122Z"
   },
   {
    "duration": 865,
    "start_time": "2022-03-14T14:43:25.933Z"
   },
   {
    "duration": 537,
    "start_time": "2022-03-14T14:43:26.800Z"
   },
   {
    "duration": 603,
    "start_time": "2022-03-14T14:43:27.339Z"
   },
   {
    "duration": 1005,
    "start_time": "2022-03-14T14:43:27.944Z"
   },
   {
    "duration": 731,
    "start_time": "2022-03-14T14:43:28.951Z"
   },
   {
    "duration": 1156,
    "start_time": "2022-03-14T14:43:29.684Z"
   },
   {
    "duration": 685,
    "start_time": "2022-03-14T14:43:30.841Z"
   },
   {
    "duration": 9,
    "start_time": "2022-03-14T14:43:46.133Z"
   },
   {
    "duration": 8,
    "start_time": "2022-03-14T14:44:06.913Z"
   },
   {
    "duration": 10,
    "start_time": "2022-03-14T14:44:15.930Z"
   },
   {
    "duration": 6,
    "start_time": "2022-03-14T14:44:33.757Z"
   },
   {
    "duration": 656,
    "start_time": "2022-03-14T14:44:43.522Z"
   },
   {
    "duration": 10,
    "start_time": "2022-03-14T14:44:44.179Z"
   },
   {
    "duration": 627,
    "start_time": "2022-03-14T14:44:44.191Z"
   },
   {
    "duration": 2385,
    "start_time": "2022-03-14T14:44:44.820Z"
   },
   {
    "duration": 1009,
    "start_time": "2022-03-14T14:44:47.207Z"
   },
   {
    "duration": 881,
    "start_time": "2022-03-14T14:44:48.218Z"
   },
   {
    "duration": 970,
    "start_time": "2022-03-14T14:44:49.101Z"
   },
   {
    "duration": 751,
    "start_time": "2022-03-14T14:44:50.072Z"
   },
   {
    "duration": 453,
    "start_time": "2022-03-14T14:44:50.826Z"
   },
   {
    "duration": 754,
    "start_time": "2022-03-14T14:44:51.282Z"
   },
   {
    "duration": 56,
    "start_time": "2022-03-14T14:44:52.038Z"
   },
   {
    "duration": 290,
    "start_time": "2022-03-14T14:44:52.096Z"
   },
   {
    "duration": 645,
    "start_time": "2022-03-14T14:44:52.388Z"
   },
   {
    "duration": 598,
    "start_time": "2022-03-14T14:44:53.035Z"
   },
   {
    "duration": 655,
    "start_time": "2022-03-14T14:44:53.634Z"
   },
   {
    "duration": 641,
    "start_time": "2022-03-14T14:44:54.291Z"
   },
   {
    "duration": 476,
    "start_time": "2022-03-14T14:44:54.935Z"
   },
   {
    "duration": 389,
    "start_time": "2022-03-14T14:44:55.413Z"
   },
   {
    "duration": 287,
    "start_time": "2022-03-14T14:44:55.803Z"
   },
   {
    "duration": 414,
    "start_time": "2022-03-14T14:44:56.093Z"
   },
   {
    "duration": 354,
    "start_time": "2022-03-14T14:44:56.509Z"
   },
   {
    "duration": 291,
    "start_time": "2022-03-14T14:44:56.865Z"
   },
   {
    "duration": 393,
    "start_time": "2022-03-14T14:44:57.158Z"
   },
   {
    "duration": 342,
    "start_time": "2022-03-14T14:44:57.552Z"
   },
   {
    "duration": 311,
    "start_time": "2022-03-14T14:44:57.895Z"
   },
   {
    "duration": 311,
    "start_time": "2022-03-14T14:44:58.208Z"
   },
   {
    "duration": 355,
    "start_time": "2022-03-14T14:44:58.522Z"
   },
   {
    "duration": 267,
    "start_time": "2022-03-14T14:44:58.879Z"
   },
   {
    "duration": 232,
    "start_time": "2022-03-14T14:44:59.148Z"
   },
   {
    "duration": 264,
    "start_time": "2022-03-14T14:44:59.382Z"
   },
   {
    "duration": 212,
    "start_time": "2022-03-14T14:44:59.649Z"
   },
   {
    "duration": 12,
    "start_time": "2022-03-14T14:47:05.904Z"
   },
   {
    "duration": 901,
    "start_time": "2022-03-14T14:47:14.661Z"
   },
   {
    "duration": 19,
    "start_time": "2022-03-14T14:47:15.564Z"
   },
   {
    "duration": 200,
    "start_time": "2022-03-14T14:47:15.585Z"
   },
   {
    "duration": 332,
    "start_time": "2022-03-14T14:47:15.787Z"
   },
   {
    "duration": 293,
    "start_time": "2022-03-14T14:47:16.121Z"
   },
   {
    "duration": 308,
    "start_time": "2022-03-14T14:47:16.415Z"
   },
   {
    "duration": 269,
    "start_time": "2022-03-14T14:47:16.724Z"
   },
   {
    "duration": 825,
    "start_time": "2022-03-14T14:47:16.997Z"
   },
   {
    "duration": 268,
    "start_time": "2022-03-14T14:47:17.824Z"
   },
   {
    "duration": 841,
    "start_time": "2022-03-14T14:47:18.093Z"
   },
   {
    "duration": 670,
    "start_time": "2022-03-14T14:47:18.935Z"
   },
   {
    "duration": 805,
    "start_time": "2022-03-14T14:47:19.607Z"
   },
   {
    "duration": 1158,
    "start_time": "2022-03-14T14:47:20.413Z"
   },
   {
    "duration": 619,
    "start_time": "2022-03-14T14:47:21.573Z"
   },
   {
    "duration": 458,
    "start_time": "2022-03-14T14:47:22.194Z"
   },
   {
    "duration": 503,
    "start_time": "2022-03-14T14:47:22.654Z"
   },
   {
    "duration": 317,
    "start_time": "2022-03-14T14:47:23.159Z"
   },
   {
    "duration": 251,
    "start_time": "2022-03-14T14:47:23.478Z"
   },
   {
    "duration": 654,
    "start_time": "2022-03-14T14:47:23.731Z"
   },
   {
    "duration": 773,
    "start_time": "2022-03-14T14:47:24.387Z"
   },
   {
    "duration": 553,
    "start_time": "2022-03-14T14:47:25.161Z"
   },
   {
    "duration": 663,
    "start_time": "2022-03-14T14:47:25.716Z"
   },
   {
    "duration": 233,
    "start_time": "2022-03-14T14:47:26.381Z"
   },
   {
    "duration": 337,
    "start_time": "2022-03-14T14:47:26.616Z"
   },
   {
    "duration": 307,
    "start_time": "2022-03-14T14:47:26.954Z"
   },
   {
    "duration": 245,
    "start_time": "2022-03-14T14:47:27.263Z"
   },
   {
    "duration": 215,
    "start_time": "2022-03-14T14:47:27.510Z"
   },
   {
    "duration": 246,
    "start_time": "2022-03-14T14:47:27.727Z"
   },
   {
    "duration": 356,
    "start_time": "2022-03-14T14:47:27.975Z"
   },
   {
    "duration": 507,
    "start_time": "2022-03-14T14:47:28.333Z"
   },
   {
    "duration": 252,
    "start_time": "2022-03-14T14:47:28.842Z"
   },
   {
    "duration": 15,
    "start_time": "2022-03-14T14:49:18.797Z"
   },
   {
    "duration": 15,
    "start_time": "2022-03-14T14:49:26.099Z"
   },
   {
    "duration": 8,
    "start_time": "2022-03-14T14:49:46.452Z"
   },
   {
    "duration": 6,
    "start_time": "2022-03-14T14:50:13.033Z"
   },
   {
    "duration": 9,
    "start_time": "2022-03-14T14:54:28.378Z"
   },
   {
    "duration": 9,
    "start_time": "2022-03-14T14:54:34.577Z"
   },
   {
    "duration": 8,
    "start_time": "2022-03-14T14:54:51.274Z"
   },
   {
    "duration": 361,
    "start_time": "2022-03-14T14:55:45.868Z"
   },
   {
    "duration": 333,
    "start_time": "2022-03-14T14:55:47.269Z"
   },
   {
    "duration": 21,
    "start_time": "2022-03-14T14:55:59.321Z"
   },
   {
    "duration": 6,
    "start_time": "2022-03-14T14:56:06.695Z"
   },
   {
    "duration": 668,
    "start_time": "2022-03-14T14:56:16.579Z"
   },
   {
    "duration": 84,
    "start_time": "2022-03-14T14:56:17.248Z"
   },
   {
    "duration": 996,
    "start_time": "2022-03-14T14:56:17.334Z"
   },
   {
    "duration": 696,
    "start_time": "2022-03-14T14:56:18.332Z"
   },
   {
    "duration": 304,
    "start_time": "2022-03-14T14:56:19.030Z"
   },
   {
    "duration": 381,
    "start_time": "2022-03-14T14:56:19.335Z"
   },
   {
    "duration": 338,
    "start_time": "2022-03-14T14:56:19.718Z"
   },
   {
    "duration": 301,
    "start_time": "2022-03-14T14:56:20.058Z"
   },
   {
    "duration": 354,
    "start_time": "2022-03-14T14:56:20.362Z"
   },
   {
    "duration": 383,
    "start_time": "2022-03-14T14:56:20.718Z"
   },
   {
    "duration": 462,
    "start_time": "2022-03-14T14:56:21.103Z"
   },
   {
    "duration": 420,
    "start_time": "2022-03-14T14:56:21.567Z"
   },
   {
    "duration": 351,
    "start_time": "2022-03-14T14:56:21.989Z"
   },
   {
    "duration": 274,
    "start_time": "2022-03-14T14:56:22.341Z"
   },
   {
    "duration": 401,
    "start_time": "2022-03-14T14:56:22.616Z"
   },
   {
    "duration": 369,
    "start_time": "2022-03-14T14:56:23.019Z"
   },
   {
    "duration": 585,
    "start_time": "2022-03-14T14:56:23.390Z"
   },
   {
    "duration": 292,
    "start_time": "2022-03-14T14:56:23.976Z"
   },
   {
    "duration": 80,
    "start_time": "2022-03-14T14:56:24.270Z"
   },
   {
    "duration": 200,
    "start_time": "2022-03-14T14:56:24.351Z"
   },
   {
    "duration": 583,
    "start_time": "2022-03-14T14:56:24.552Z"
   },
   {
    "duration": 401,
    "start_time": "2022-03-14T14:56:25.137Z"
   },
   {
    "duration": 288,
    "start_time": "2022-03-14T14:56:25.540Z"
   },
   {
    "duration": 257,
    "start_time": "2022-03-14T14:56:25.830Z"
   },
   {
    "duration": 336,
    "start_time": "2022-03-14T14:56:26.089Z"
   },
   {
    "duration": 303,
    "start_time": "2022-03-14T14:56:26.426Z"
   },
   {
    "duration": 125,
    "start_time": "2022-03-14T14:56:26.731Z"
   },
   {
    "duration": 23,
    "start_time": "2022-03-14T14:56:26.857Z"
   },
   {
    "duration": 12,
    "start_time": "2022-03-14T14:56:26.882Z"
   },
   {
    "duration": 50,
    "start_time": "2022-03-14T14:56:26.895Z"
   },
   {
    "duration": 348,
    "start_time": "2022-03-14T14:56:26.946Z"
   },
   {
    "duration": 15,
    "start_time": "2022-03-14T15:00:12.867Z"
   },
   {
    "duration": 12,
    "start_time": "2022-03-14T15:01:27.882Z"
   },
   {
    "duration": 11,
    "start_time": "2022-03-14T15:11:52.013Z"
   },
   {
    "duration": 15,
    "start_time": "2022-03-14T15:12:47.358Z"
   },
   {
    "duration": 15,
    "start_time": "2022-03-14T15:28:07.380Z"
   },
   {
    "duration": 12,
    "start_time": "2022-03-14T15:28:46.055Z"
   },
   {
    "duration": 3,
    "start_time": "2022-03-14T15:32:01.279Z"
   },
   {
    "duration": 15,
    "start_time": "2022-03-14T15:32:57.758Z"
   },
   {
    "duration": 12,
    "start_time": "2022-03-14T15:33:11.826Z"
   },
   {
    "duration": -345,
    "start_time": "2022-03-14T15:37:01.248Z"
   },
   {
    "duration": 7732,
    "start_time": "2022-03-14T15:37:04.378Z"
   },
   {
    "duration": -358,
    "start_time": "2022-03-14T15:37:12.471Z"
   },
   {
    "duration": 22,
    "start_time": "2022-03-14T15:37:25.230Z"
   },
   {
    "duration": 12,
    "start_time": "2022-03-14T15:37:28.524Z"
   },
   {
    "duration": 129,
    "start_time": "2022-03-14T15:40:34.497Z"
   },
   {
    "duration": 14,
    "start_time": "2022-03-14T15:41:44.597Z"
   },
   {
    "duration": 13,
    "start_time": "2022-03-14T15:42:03.084Z"
   },
   {
    "duration": 1320,
    "start_time": "2022-03-14T15:59:49.765Z"
   },
   {
    "duration": 294,
    "start_time": "2022-03-14T16:00:29.692Z"
   },
   {
    "duration": 19,
    "start_time": "2022-03-14T16:01:38.677Z"
   },
   {
    "duration": 328,
    "start_time": "2022-03-14T16:04:12.376Z"
   },
   {
    "duration": 24,
    "start_time": "2022-03-14T16:09:40.821Z"
   },
   {
    "duration": 28,
    "start_time": "2022-03-14T16:12:25.924Z"
   },
   {
    "duration": 239,
    "start_time": "2022-03-24T16:49:34.295Z"
   },
   {
    "duration": 50,
    "start_time": "2022-03-27T06:32:23.470Z"
   },
   {
    "duration": 517,
    "start_time": "2022-03-27T06:32:37.048Z"
   },
   {
    "duration": 17,
    "start_time": "2022-03-27T06:32:37.567Z"
   },
   {
    "duration": 8,
    "start_time": "2022-03-27T06:32:37.585Z"
   },
   {
    "duration": 16,
    "start_time": "2022-03-27T06:32:37.595Z"
   },
   {
    "duration": 8,
    "start_time": "2022-03-27T06:32:37.631Z"
   },
   {
    "duration": 10,
    "start_time": "2022-03-27T06:32:37.641Z"
   },
   {
    "duration": 17,
    "start_time": "2022-03-27T06:32:37.653Z"
   },
   {
    "duration": 6,
    "start_time": "2022-03-27T06:32:37.672Z"
   },
   {
    "duration": 9,
    "start_time": "2022-03-27T06:32:37.680Z"
   },
   {
    "duration": 41,
    "start_time": "2022-03-27T06:32:37.694Z"
   },
   {
    "duration": 6,
    "start_time": "2022-03-27T06:32:37.737Z"
   },
   {
    "duration": 8,
    "start_time": "2022-03-27T06:32:37.745Z"
   },
   {
    "duration": 24,
    "start_time": "2022-03-27T06:32:37.755Z"
   },
   {
    "duration": 31,
    "start_time": "2022-03-27T06:32:37.781Z"
   },
   {
    "duration": 76,
    "start_time": "2022-03-27T06:32:37.814Z"
   },
   {
    "duration": 0,
    "start_time": "2022-03-27T06:32:37.892Z"
   },
   {
    "duration": 0,
    "start_time": "2022-03-27T06:32:37.893Z"
   },
   {
    "duration": 0,
    "start_time": "2022-03-27T06:32:37.894Z"
   },
   {
    "duration": 0,
    "start_time": "2022-03-27T06:32:37.896Z"
   },
   {
    "duration": 0,
    "start_time": "2022-03-27T06:32:37.897Z"
   },
   {
    "duration": 0,
    "start_time": "2022-03-27T06:32:37.898Z"
   },
   {
    "duration": 0,
    "start_time": "2022-03-27T06:32:37.899Z"
   },
   {
    "duration": 0,
    "start_time": "2022-03-27T06:32:37.899Z"
   },
   {
    "duration": 0,
    "start_time": "2022-03-27T06:32:37.900Z"
   },
   {
    "duration": 0,
    "start_time": "2022-03-27T06:32:37.901Z"
   },
   {
    "duration": 0,
    "start_time": "2022-03-27T06:32:37.902Z"
   },
   {
    "duration": 0,
    "start_time": "2022-03-27T06:32:37.903Z"
   },
   {
    "duration": 0,
    "start_time": "2022-03-27T06:32:37.905Z"
   },
   {
    "duration": 0,
    "start_time": "2022-03-27T06:32:37.906Z"
   },
   {
    "duration": 0,
    "start_time": "2022-03-27T06:32:37.931Z"
   },
   {
    "duration": 0,
    "start_time": "2022-03-27T06:32:37.933Z"
   },
   {
    "duration": 0,
    "start_time": "2022-03-27T06:32:37.935Z"
   },
   {
    "duration": 7,
    "start_time": "2022-03-27T06:32:53.363Z"
   },
   {
    "duration": 8,
    "start_time": "2022-03-27T06:32:54.564Z"
   },
   {
    "duration": 11,
    "start_time": "2022-03-27T06:33:18.357Z"
   },
   {
    "duration": 10,
    "start_time": "2022-03-27T06:34:30.398Z"
   },
   {
    "duration": 7,
    "start_time": "2022-03-27T06:38:28.318Z"
   },
   {
    "duration": 5,
    "start_time": "2022-03-27T06:38:29.776Z"
   },
   {
    "duration": 11,
    "start_time": "2022-03-27T06:42:42.866Z"
   },
   {
    "duration": 6,
    "start_time": "2022-03-27T06:43:51.386Z"
   },
   {
    "duration": 2650,
    "start_time": "2022-03-27T06:46:21.984Z"
   },
   {
    "duration": 3,
    "start_time": "2022-03-27T06:46:30.354Z"
   },
   {
    "duration": 3,
    "start_time": "2022-03-27T06:46:33.850Z"
   },
   {
    "duration": 12,
    "start_time": "2022-03-27T06:47:27.669Z"
   },
   {
    "duration": 12,
    "start_time": "2022-03-27T06:50:03.514Z"
   },
   {
    "duration": 477,
    "start_time": "2022-03-27T06:54:15.061Z"
   },
   {
    "duration": 16,
    "start_time": "2022-03-27T06:54:15.540Z"
   },
   {
    "duration": 7,
    "start_time": "2022-03-27T06:54:15.558Z"
   },
   {
    "duration": 16,
    "start_time": "2022-03-27T06:54:15.566Z"
   },
   {
    "duration": 5,
    "start_time": "2022-03-27T06:54:15.585Z"
   },
   {
    "duration": 13,
    "start_time": "2022-03-27T06:54:15.592Z"
   },
   {
    "duration": 15,
    "start_time": "2022-03-27T06:54:15.631Z"
   },
   {
    "duration": 7,
    "start_time": "2022-03-27T06:54:15.648Z"
   },
   {
    "duration": 13,
    "start_time": "2022-03-27T06:54:15.657Z"
   },
   {
    "duration": 9,
    "start_time": "2022-03-27T06:54:15.671Z"
   },
   {
    "duration": 10,
    "start_time": "2022-03-27T06:54:15.681Z"
   },
   {
    "duration": 5,
    "start_time": "2022-03-27T06:54:15.693Z"
   },
   {
    "duration": 34,
    "start_time": "2022-03-27T06:54:15.700Z"
   },
   {
    "duration": 13,
    "start_time": "2022-03-27T06:54:15.737Z"
   },
   {
    "duration": 13,
    "start_time": "2022-03-27T06:54:15.752Z"
   },
   {
    "duration": 6,
    "start_time": "2022-03-27T06:54:15.767Z"
   },
   {
    "duration": 12,
    "start_time": "2022-03-27T06:54:15.776Z"
   },
   {
    "duration": 5,
    "start_time": "2022-03-27T06:54:15.790Z"
   },
   {
    "duration": 49,
    "start_time": "2022-03-27T06:54:15.797Z"
   },
   {
    "duration": 13,
    "start_time": "2022-03-27T06:54:15.848Z"
   },
   {
    "duration": 22,
    "start_time": "2022-03-27T06:54:15.863Z"
   },
   {
    "duration": 57,
    "start_time": "2022-03-27T06:54:15.887Z"
   },
   {
    "duration": 8,
    "start_time": "2022-03-27T06:54:15.946Z"
   },
   {
    "duration": 10,
    "start_time": "2022-03-27T06:54:15.956Z"
   },
   {
    "duration": 7,
    "start_time": "2022-03-27T06:54:15.968Z"
   },
   {
    "duration": 13,
    "start_time": "2022-03-27T06:54:15.977Z"
   },
   {
    "duration": 49,
    "start_time": "2022-03-27T06:54:15.992Z"
   },
   {
    "duration": 9,
    "start_time": "2022-03-27T06:54:16.043Z"
   },
   {
    "duration": 23,
    "start_time": "2022-03-27T06:54:16.054Z"
   },
   {
    "duration": 7,
    "start_time": "2022-03-27T06:54:16.079Z"
   },
   {
    "duration": 9,
    "start_time": "2022-03-27T06:54:16.088Z"
   },
   {
    "duration": 7,
    "start_time": "2022-03-27T06:54:16.099Z"
   },
   {
    "duration": 42,
    "start_time": "2022-03-27T06:54:16.108Z"
   },
   {
    "duration": 78,
    "start_time": "2022-03-27T07:28:52.812Z"
   },
   {
    "duration": 17,
    "start_time": "2022-03-27T07:31:05.725Z"
   },
   {
    "duration": 11,
    "start_time": "2022-03-27T07:32:03.223Z"
   },
   {
    "duration": 10,
    "start_time": "2022-03-27T07:32:06.745Z"
   },
   {
    "duration": 11,
    "start_time": "2022-03-27T07:32:26.866Z"
   },
   {
    "duration": 13,
    "start_time": "2022-03-27T07:32:58.445Z"
   },
   {
    "duration": 14,
    "start_time": "2022-03-27T07:33:27.211Z"
   },
   {
    "duration": 14,
    "start_time": "2022-03-27T07:33:32.659Z"
   },
   {
    "duration": 11,
    "start_time": "2022-03-27T07:33:39.811Z"
   },
   {
    "duration": 15,
    "start_time": "2022-03-27T07:39:23.456Z"
   },
   {
    "duration": 15,
    "start_time": "2022-03-27T07:40:19.324Z"
   },
   {
    "duration": 13,
    "start_time": "2022-03-27T07:40:34.917Z"
   },
   {
    "duration": 15,
    "start_time": "2022-03-27T07:46:16.461Z"
   },
   {
    "duration": 14,
    "start_time": "2022-03-27T07:48:39.632Z"
   },
   {
    "duration": 26,
    "start_time": "2022-03-27T07:51:25.724Z"
   },
   {
    "duration": 13,
    "start_time": "2022-03-27T07:51:59.168Z"
   },
   {
    "duration": 18,
    "start_time": "2022-03-27T07:52:25.924Z"
   },
   {
    "duration": 13,
    "start_time": "2022-03-27T07:52:44.761Z"
   },
   {
    "duration": 17,
    "start_time": "2022-03-27T07:52:48.176Z"
   },
   {
    "duration": 15,
    "start_time": "2022-03-27T07:57:05.883Z"
   },
   {
    "duration": 2589,
    "start_time": "2022-03-27T08:03:02.464Z"
   },
   {
    "duration": 17,
    "start_time": "2022-03-27T08:03:59.335Z"
   },
   {
    "duration": 20,
    "start_time": "2022-03-27T08:08:43.293Z"
   },
   {
    "duration": 21,
    "start_time": "2022-03-27T08:15:47.032Z"
   },
   {
    "duration": 22,
    "start_time": "2022-03-27T08:16:16.923Z"
   },
   {
    "duration": 2,
    "start_time": "2022-03-27T08:21:43.636Z"
   },
   {
    "duration": 47,
    "start_time": "2022-03-27T12:52:10.463Z"
   },
   {
    "duration": 492,
    "start_time": "2022-03-27T12:52:24.045Z"
   },
   {
    "duration": 16,
    "start_time": "2022-03-27T12:52:24.539Z"
   },
   {
    "duration": 8,
    "start_time": "2022-03-27T12:52:24.556Z"
   },
   {
    "duration": 14,
    "start_time": "2022-03-27T12:52:24.567Z"
   },
   {
    "duration": 6,
    "start_time": "2022-03-27T12:52:24.582Z"
   },
   {
    "duration": 12,
    "start_time": "2022-03-27T12:52:24.589Z"
   },
   {
    "duration": 47,
    "start_time": "2022-03-27T12:52:24.603Z"
   },
   {
    "duration": 5,
    "start_time": "2022-03-27T12:52:24.651Z"
   },
   {
    "duration": 15,
    "start_time": "2022-03-27T12:52:24.658Z"
   },
   {
    "duration": 9,
    "start_time": "2022-03-27T12:52:24.677Z"
   },
   {
    "duration": 9,
    "start_time": "2022-03-27T12:52:24.688Z"
   },
   {
    "duration": 8,
    "start_time": "2022-03-27T12:52:24.699Z"
   },
   {
    "duration": 31,
    "start_time": "2022-03-27T12:52:24.708Z"
   },
   {
    "duration": 17,
    "start_time": "2022-03-27T12:52:24.741Z"
   },
   {
    "duration": 21,
    "start_time": "2022-03-27T12:52:24.760Z"
   },
   {
    "duration": 11,
    "start_time": "2022-03-27T12:52:24.783Z"
   },
   {
    "duration": 16,
    "start_time": "2022-03-27T12:52:24.796Z"
   },
   {
    "duration": 25,
    "start_time": "2022-03-27T12:52:24.814Z"
   },
   {
    "duration": 17,
    "start_time": "2022-03-27T12:52:24.841Z"
   },
   {
    "duration": 13,
    "start_time": "2022-03-27T12:52:24.860Z"
   },
   {
    "duration": 31,
    "start_time": "2022-03-27T12:52:24.875Z"
   },
   {
    "duration": 46,
    "start_time": "2022-03-27T12:52:24.910Z"
   },
   {
    "duration": 7,
    "start_time": "2022-03-27T12:52:24.958Z"
   },
   {
    "duration": 20,
    "start_time": "2022-03-27T12:52:24.966Z"
   },
   {
    "duration": 12,
    "start_time": "2022-03-27T12:52:24.987Z"
   },
   {
    "duration": 13,
    "start_time": "2022-03-27T12:52:25.001Z"
   },
   {
    "duration": 33,
    "start_time": "2022-03-27T12:52:25.015Z"
   },
   {
    "duration": 4,
    "start_time": "2022-03-27T12:52:25.052Z"
   },
   {
    "duration": 40,
    "start_time": "2022-03-27T12:52:25.057Z"
   },
   {
    "duration": 18,
    "start_time": "2022-03-27T12:52:25.099Z"
   },
   {
    "duration": 15,
    "start_time": "2022-03-27T12:52:25.120Z"
   },
   {
    "duration": 12,
    "start_time": "2022-03-27T12:52:25.137Z"
   },
   {
    "duration": 26,
    "start_time": "2022-03-27T12:52:25.151Z"
   },
   {
    "duration": 30,
    "start_time": "2022-03-27T12:52:25.179Z"
   },
   {
    "duration": 16,
    "start_time": "2022-03-27T12:52:25.211Z"
   },
   {
    "duration": 27,
    "start_time": "2022-03-27T12:52:25.228Z"
   },
   {
    "duration": 20,
    "start_time": "2022-03-27T12:52:25.256Z"
   },
   {
    "duration": 23,
    "start_time": "2022-03-27T12:53:44.273Z"
   },
   {
    "duration": 19,
    "start_time": "2022-03-27T12:54:37.253Z"
   },
   {
    "duration": 25,
    "start_time": "2022-03-27T12:54:43.397Z"
   },
   {
    "duration": 26,
    "start_time": "2022-03-27T13:18:32.422Z"
   },
   {
    "duration": 26,
    "start_time": "2022-03-27T13:22:33.436Z"
   },
   {
    "duration": 28,
    "start_time": "2022-03-27T13:30:51.738Z"
   },
   {
    "duration": 124,
    "start_time": "2022-03-27T14:06:35.614Z"
   }
  ],
  "kernelspec": {
   "display_name": "Python 3 (ipykernel)",
   "language": "python",
   "name": "python3"
  },
  "language_info": {
   "codemirror_mode": {
    "name": "ipython",
    "version": 3
   },
   "file_extension": ".py",
   "mimetype": "text/x-python",
   "name": "python",
   "nbconvert_exporter": "python",
   "pygments_lexer": "ipython3",
   "version": "3.9.7"
  },
  "toc": {
   "base_numbering": 1,
   "nav_menu": {},
   "number_sections": true,
   "sideBar": true,
   "skip_h1_title": true,
   "title_cell": "Table of Contents",
   "title_sidebar": "Contents",
   "toc_cell": false,
   "toc_position": {},
   "toc_section_display": true,
   "toc_window_display": false
  }
 },
 "nbformat": 4,
 "nbformat_minor": 5
}
