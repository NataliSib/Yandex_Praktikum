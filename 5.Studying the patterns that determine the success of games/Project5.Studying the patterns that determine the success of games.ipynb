{
 "cells": [
  {
   "cell_type": "markdown",
   "id": "ce587a75",
   "metadata": {},
   "source": [
    "# Определение закономерностей успешности компьютерных игр\n",
    "\n",
    "**Цель исследования** — Нужно выявить определяющие успешность игры закономерности. Это позволит сделать ставку на потенциально популярный продукт и спланировать рекламные кампании."
   ]
  },
  {
   "cell_type": "markdown",
   "id": "b8bedfe4",
   "metadata": {},
   "source": [
    "### Шаг 1. Обзор данных"
   ]
  },
  {
   "cell_type": "markdown",
   "id": "fedefb08",
   "metadata": {},
   "source": [
    "Импортируем  библиотеку. Прочитаем файл с данными для анализа. Выведем на экран первые 15 строк и общую информацию о  таблице:"
   ]
  },
  {
   "cell_type": "code",
   "execution_count": 1,
   "id": "ccefa157",
   "metadata": {},
   "outputs": [],
   "source": [
    "import pandas as pd"
   ]
  },
  {
   "cell_type": "code",
   "execution_count": 2,
   "id": "0b3f69f8",
   "metadata": {
    "scrolled": true
   },
   "outputs": [],
   "source": [
    "df = pd.read_csv('/datasets/games.csv') "
   ]
  },
  {
   "cell_type": "code",
   "execution_count": 3,
   "id": "423d92ec",
   "metadata": {},
   "outputs": [
    {
     "data": {
      "text/html": [
       "<div>\n",
       "<style scoped>\n",
       "    .dataframe tbody tr th:only-of-type {\n",
       "        vertical-align: middle;\n",
       "    }\n",
       "\n",
       "    .dataframe tbody tr th {\n",
       "        vertical-align: top;\n",
       "    }\n",
       "\n",
       "    .dataframe thead th {\n",
       "        text-align: right;\n",
       "    }\n",
       "</style>\n",
       "<table border=\"1\" class=\"dataframe\">\n",
       "  <thead>\n",
       "    <tr style=\"text-align: right;\">\n",
       "      <th></th>\n",
       "      <th>Name</th>\n",
       "      <th>Platform</th>\n",
       "      <th>Year_of_Release</th>\n",
       "      <th>Genre</th>\n",
       "      <th>NA_sales</th>\n",
       "      <th>EU_sales</th>\n",
       "      <th>JP_sales</th>\n",
       "      <th>Other_sales</th>\n",
       "      <th>Critic_Score</th>\n",
       "      <th>User_Score</th>\n",
       "      <th>Rating</th>\n",
       "    </tr>\n",
       "  </thead>\n",
       "  <tbody>\n",
       "    <tr>\n",
       "      <th>0</th>\n",
       "      <td>Wii Sports</td>\n",
       "      <td>Wii</td>\n",
       "      <td>2006.0</td>\n",
       "      <td>Sports</td>\n",
       "      <td>41.36</td>\n",
       "      <td>28.96</td>\n",
       "      <td>3.77</td>\n",
       "      <td>8.45</td>\n",
       "      <td>76.0</td>\n",
       "      <td>8</td>\n",
       "      <td>E</td>\n",
       "    </tr>\n",
       "    <tr>\n",
       "      <th>1</th>\n",
       "      <td>Super Mario Bros.</td>\n",
       "      <td>NES</td>\n",
       "      <td>1985.0</td>\n",
       "      <td>Platform</td>\n",
       "      <td>29.08</td>\n",
       "      <td>3.58</td>\n",
       "      <td>6.81</td>\n",
       "      <td>0.77</td>\n",
       "      <td>NaN</td>\n",
       "      <td>NaN</td>\n",
       "      <td>NaN</td>\n",
       "    </tr>\n",
       "    <tr>\n",
       "      <th>2</th>\n",
       "      <td>Mario Kart Wii</td>\n",
       "      <td>Wii</td>\n",
       "      <td>2008.0</td>\n",
       "      <td>Racing</td>\n",
       "      <td>15.68</td>\n",
       "      <td>12.76</td>\n",
       "      <td>3.79</td>\n",
       "      <td>3.29</td>\n",
       "      <td>82.0</td>\n",
       "      <td>8.3</td>\n",
       "      <td>E</td>\n",
       "    </tr>\n",
       "    <tr>\n",
       "      <th>3</th>\n",
       "      <td>Wii Sports Resort</td>\n",
       "      <td>Wii</td>\n",
       "      <td>2009.0</td>\n",
       "      <td>Sports</td>\n",
       "      <td>15.61</td>\n",
       "      <td>10.93</td>\n",
       "      <td>3.28</td>\n",
       "      <td>2.95</td>\n",
       "      <td>80.0</td>\n",
       "      <td>8</td>\n",
       "      <td>E</td>\n",
       "    </tr>\n",
       "    <tr>\n",
       "      <th>4</th>\n",
       "      <td>Pokemon Red/Pokemon Blue</td>\n",
       "      <td>GB</td>\n",
       "      <td>1996.0</td>\n",
       "      <td>Role-Playing</td>\n",
       "      <td>11.27</td>\n",
       "      <td>8.89</td>\n",
       "      <td>10.22</td>\n",
       "      <td>1.00</td>\n",
       "      <td>NaN</td>\n",
       "      <td>NaN</td>\n",
       "      <td>NaN</td>\n",
       "    </tr>\n",
       "    <tr>\n",
       "      <th>5</th>\n",
       "      <td>Tetris</td>\n",
       "      <td>GB</td>\n",
       "      <td>1989.0</td>\n",
       "      <td>Puzzle</td>\n",
       "      <td>23.20</td>\n",
       "      <td>2.26</td>\n",
       "      <td>4.22</td>\n",
       "      <td>0.58</td>\n",
       "      <td>NaN</td>\n",
       "      <td>NaN</td>\n",
       "      <td>NaN</td>\n",
       "    </tr>\n",
       "    <tr>\n",
       "      <th>6</th>\n",
       "      <td>New Super Mario Bros.</td>\n",
       "      <td>DS</td>\n",
       "      <td>2006.0</td>\n",
       "      <td>Platform</td>\n",
       "      <td>11.28</td>\n",
       "      <td>9.14</td>\n",
       "      <td>6.50</td>\n",
       "      <td>2.88</td>\n",
       "      <td>89.0</td>\n",
       "      <td>8.5</td>\n",
       "      <td>E</td>\n",
       "    </tr>\n",
       "    <tr>\n",
       "      <th>7</th>\n",
       "      <td>Wii Play</td>\n",
       "      <td>Wii</td>\n",
       "      <td>2006.0</td>\n",
       "      <td>Misc</td>\n",
       "      <td>13.96</td>\n",
       "      <td>9.18</td>\n",
       "      <td>2.93</td>\n",
       "      <td>2.84</td>\n",
       "      <td>58.0</td>\n",
       "      <td>6.6</td>\n",
       "      <td>E</td>\n",
       "    </tr>\n",
       "    <tr>\n",
       "      <th>8</th>\n",
       "      <td>New Super Mario Bros. Wii</td>\n",
       "      <td>Wii</td>\n",
       "      <td>2009.0</td>\n",
       "      <td>Platform</td>\n",
       "      <td>14.44</td>\n",
       "      <td>6.94</td>\n",
       "      <td>4.70</td>\n",
       "      <td>2.24</td>\n",
       "      <td>87.0</td>\n",
       "      <td>8.4</td>\n",
       "      <td>E</td>\n",
       "    </tr>\n",
       "    <tr>\n",
       "      <th>9</th>\n",
       "      <td>Duck Hunt</td>\n",
       "      <td>NES</td>\n",
       "      <td>1984.0</td>\n",
       "      <td>Shooter</td>\n",
       "      <td>26.93</td>\n",
       "      <td>0.63</td>\n",
       "      <td>0.28</td>\n",
       "      <td>0.47</td>\n",
       "      <td>NaN</td>\n",
       "      <td>NaN</td>\n",
       "      <td>NaN</td>\n",
       "    </tr>\n",
       "    <tr>\n",
       "      <th>10</th>\n",
       "      <td>Nintendogs</td>\n",
       "      <td>DS</td>\n",
       "      <td>2005.0</td>\n",
       "      <td>Simulation</td>\n",
       "      <td>9.05</td>\n",
       "      <td>10.95</td>\n",
       "      <td>1.93</td>\n",
       "      <td>2.74</td>\n",
       "      <td>NaN</td>\n",
       "      <td>NaN</td>\n",
       "      <td>NaN</td>\n",
       "    </tr>\n",
       "    <tr>\n",
       "      <th>11</th>\n",
       "      <td>Mario Kart DS</td>\n",
       "      <td>DS</td>\n",
       "      <td>2005.0</td>\n",
       "      <td>Racing</td>\n",
       "      <td>9.71</td>\n",
       "      <td>7.47</td>\n",
       "      <td>4.13</td>\n",
       "      <td>1.90</td>\n",
       "      <td>91.0</td>\n",
       "      <td>8.6</td>\n",
       "      <td>E</td>\n",
       "    </tr>\n",
       "    <tr>\n",
       "      <th>12</th>\n",
       "      <td>Pokemon Gold/Pokemon Silver</td>\n",
       "      <td>GB</td>\n",
       "      <td>1999.0</td>\n",
       "      <td>Role-Playing</td>\n",
       "      <td>9.00</td>\n",
       "      <td>6.18</td>\n",
       "      <td>7.20</td>\n",
       "      <td>0.71</td>\n",
       "      <td>NaN</td>\n",
       "      <td>NaN</td>\n",
       "      <td>NaN</td>\n",
       "    </tr>\n",
       "    <tr>\n",
       "      <th>13</th>\n",
       "      <td>Wii Fit</td>\n",
       "      <td>Wii</td>\n",
       "      <td>2007.0</td>\n",
       "      <td>Sports</td>\n",
       "      <td>8.92</td>\n",
       "      <td>8.03</td>\n",
       "      <td>3.60</td>\n",
       "      <td>2.15</td>\n",
       "      <td>80.0</td>\n",
       "      <td>7.7</td>\n",
       "      <td>E</td>\n",
       "    </tr>\n",
       "    <tr>\n",
       "      <th>14</th>\n",
       "      <td>Kinect Adventures!</td>\n",
       "      <td>X360</td>\n",
       "      <td>2010.0</td>\n",
       "      <td>Misc</td>\n",
       "      <td>15.00</td>\n",
       "      <td>4.89</td>\n",
       "      <td>0.24</td>\n",
       "      <td>1.69</td>\n",
       "      <td>61.0</td>\n",
       "      <td>6.3</td>\n",
       "      <td>E</td>\n",
       "    </tr>\n",
       "  </tbody>\n",
       "</table>\n",
       "</div>"
      ],
      "text/plain": [
       "                           Name Platform  Year_of_Release         Genre  \\\n",
       "0                    Wii Sports      Wii           2006.0        Sports   \n",
       "1             Super Mario Bros.      NES           1985.0      Platform   \n",
       "2                Mario Kart Wii      Wii           2008.0        Racing   \n",
       "3             Wii Sports Resort      Wii           2009.0        Sports   \n",
       "4      Pokemon Red/Pokemon Blue       GB           1996.0  Role-Playing   \n",
       "5                        Tetris       GB           1989.0        Puzzle   \n",
       "6         New Super Mario Bros.       DS           2006.0      Platform   \n",
       "7                      Wii Play      Wii           2006.0          Misc   \n",
       "8     New Super Mario Bros. Wii      Wii           2009.0      Platform   \n",
       "9                     Duck Hunt      NES           1984.0       Shooter   \n",
       "10                   Nintendogs       DS           2005.0    Simulation   \n",
       "11                Mario Kart DS       DS           2005.0        Racing   \n",
       "12  Pokemon Gold/Pokemon Silver       GB           1999.0  Role-Playing   \n",
       "13                      Wii Fit      Wii           2007.0        Sports   \n",
       "14           Kinect Adventures!     X360           2010.0          Misc   \n",
       "\n",
       "    NA_sales  EU_sales  JP_sales  Other_sales  Critic_Score User_Score Rating  \n",
       "0      41.36     28.96      3.77         8.45          76.0          8      E  \n",
       "1      29.08      3.58      6.81         0.77           NaN        NaN    NaN  \n",
       "2      15.68     12.76      3.79         3.29          82.0        8.3      E  \n",
       "3      15.61     10.93      3.28         2.95          80.0          8      E  \n",
       "4      11.27      8.89     10.22         1.00           NaN        NaN    NaN  \n",
       "5      23.20      2.26      4.22         0.58           NaN        NaN    NaN  \n",
       "6      11.28      9.14      6.50         2.88          89.0        8.5      E  \n",
       "7      13.96      9.18      2.93         2.84          58.0        6.6      E  \n",
       "8      14.44      6.94      4.70         2.24          87.0        8.4      E  \n",
       "9      26.93      0.63      0.28         0.47           NaN        NaN    NaN  \n",
       "10      9.05     10.95      1.93         2.74           NaN        NaN    NaN  \n",
       "11      9.71      7.47      4.13         1.90          91.0        8.6      E  \n",
       "12      9.00      6.18      7.20         0.71           NaN        NaN    NaN  \n",
       "13      8.92      8.03      3.60         2.15          80.0        7.7      E  \n",
       "14     15.00      4.89      0.24         1.69          61.0        6.3      E  "
      ]
     },
     "execution_count": 3,
     "metadata": {},
     "output_type": "execute_result"
    }
   ],
   "source": [
    "df.head(15)"
   ]
  },
  {
   "cell_type": "code",
   "execution_count": 4,
   "id": "7d7d881c",
   "metadata": {
    "scrolled": true
   },
   "outputs": [
    {
     "name": "stdout",
     "output_type": "stream",
     "text": [
      "<class 'pandas.core.frame.DataFrame'>\n",
      "RangeIndex: 16715 entries, 0 to 16714\n",
      "Data columns (total 11 columns):\n",
      " #   Column           Non-Null Count  Dtype  \n",
      "---  ------           --------------  -----  \n",
      " 0   Name             16713 non-null  object \n",
      " 1   Platform         16715 non-null  object \n",
      " 2   Year_of_Release  16446 non-null  float64\n",
      " 3   Genre            16713 non-null  object \n",
      " 4   NA_sales         16715 non-null  float64\n",
      " 5   EU_sales         16715 non-null  float64\n",
      " 6   JP_sales         16715 non-null  float64\n",
      " 7   Other_sales      16715 non-null  float64\n",
      " 8   Critic_Score     8137 non-null   float64\n",
      " 9   User_Score       10014 non-null  object \n",
      " 10  Rating           9949 non-null   object \n",
      "dtypes: float64(6), object(5)\n",
      "memory usage: 1.4+ MB\n"
     ]
    }
   ],
   "source": [
    "df.info()"
   ]
  },
  {
   "cell_type": "markdown",
   "id": "78caafb0",
   "metadata": {},
   "source": [
    "Как мы видим, данные неоднородны по размеру. В некоторых таблицах есть пропуски, а так же типы данных в некоторых колонках не верны. Выполним предобработку данных."
   ]
  },
  {
   "cell_type": "markdown",
   "id": "8551a633",
   "metadata": {},
   "source": [
    "### Шаг 2. Подготовка данных"
   ]
  },
  {
   "cell_type": "markdown",
   "id": "c887f2c0",
   "metadata": {},
   "source": [
    "<b>2.1 Замена названий столбцов (приведение к нижнему регистру).</b>"
   ]
  },
  {
   "cell_type": "code",
   "execution_count": 5,
   "id": "e33777ee",
   "metadata": {},
   "outputs": [
    {
     "data": {
      "text/plain": [
       "Index(['Name', 'Platform', 'Year_of_Release', 'Genre', 'NA_sales', 'EU_sales',\n",
       "       'JP_sales', 'Other_sales', 'Critic_Score', 'User_Score', 'Rating'],\n",
       "      dtype='object')"
      ]
     },
     "execution_count": 5,
     "metadata": {},
     "output_type": "execute_result"
    }
   ],
   "source": [
    "# перечень названий столбцов таблицы df\n",
    "df.columns"
   ]
  },
  {
   "cell_type": "code",
   "execution_count": 6,
   "id": "eccf2249",
   "metadata": {},
   "outputs": [],
   "source": [
    "# переименование столбцов\n",
    "df = df.rename(columns={'Name': 'name', 'Platform': 'platform', 'Year_of_Release' : 'year_of_release', 'Genre' : 'genre', 'NA_sales':'na_sales',\n",
    "                       'EU_sales':'eu_sales', 'JP_sales':'jp_sales', 'Other_sales':'other_sales', 'Critic_Score':'critic_score',\n",
    "                       'User_Score':'user_score', 'Rating':'rating' })"
   ]
  },
  {
   "cell_type": "code",
   "execution_count": 7,
   "id": "703a74f1",
   "metadata": {},
   "outputs": [
    {
     "data": {
      "text/plain": [
       "Index(['name', 'platform', 'year_of_release', 'genre', 'na_sales', 'eu_sales',\n",
       "       'jp_sales', 'other_sales', 'critic_score', 'user_score', 'rating'],\n",
       "      dtype='object')"
      ]
     },
     "execution_count": 7,
     "metadata": {},
     "output_type": "execute_result"
    }
   ],
   "source": [
    "# проверка результатов - перечень названий столбцов\n",
    "df.columns"
   ]
  },
  {
   "cell_type": "markdown",
   "id": "622db611",
   "metadata": {},
   "source": [
    "<b>2.2 Обработка пропусков и изменение типов данных</b>"
   ]
  },
  {
   "cell_type": "code",
   "execution_count": 8,
   "id": "37ff7ec5",
   "metadata": {},
   "outputs": [
    {
     "data": {
      "text/plain": [
       "name                  2\n",
       "platform              0\n",
       "year_of_release     269\n",
       "genre                 2\n",
       "na_sales              0\n",
       "eu_sales              0\n",
       "jp_sales              0\n",
       "other_sales           0\n",
       "critic_score       8578\n",
       "user_score         6701\n",
       "rating             6766\n",
       "dtype: int64"
      ]
     },
     "execution_count": 8,
     "metadata": {},
     "output_type": "execute_result"
    }
   ],
   "source": [
    "#Посчитаем количество пустых значений\n",
    "df.isna().sum()"
   ]
  },
  {
   "cell_type": "code",
   "execution_count": 9,
   "id": "d7f4da1d",
   "metadata": {},
   "outputs": [
    {
     "data": {
      "text/html": [
       "<div>\n",
       "<style scoped>\n",
       "    .dataframe tbody tr th:only-of-type {\n",
       "        vertical-align: middle;\n",
       "    }\n",
       "\n",
       "    .dataframe tbody tr th {\n",
       "        vertical-align: top;\n",
       "    }\n",
       "\n",
       "    .dataframe thead th {\n",
       "        text-align: right;\n",
       "    }\n",
       "</style>\n",
       "<table border=\"1\" class=\"dataframe\">\n",
       "  <thead>\n",
       "    <tr style=\"text-align: right;\">\n",
       "      <th></th>\n",
       "      <th>name</th>\n",
       "      <th>platform</th>\n",
       "      <th>year_of_release</th>\n",
       "      <th>genre</th>\n",
       "      <th>na_sales</th>\n",
       "      <th>eu_sales</th>\n",
       "      <th>jp_sales</th>\n",
       "      <th>other_sales</th>\n",
       "      <th>critic_score</th>\n",
       "      <th>user_score</th>\n",
       "      <th>rating</th>\n",
       "    </tr>\n",
       "  </thead>\n",
       "  <tbody>\n",
       "    <tr>\n",
       "      <th>659</th>\n",
       "      <td>NaN</td>\n",
       "      <td>GEN</td>\n",
       "      <td>1993.0</td>\n",
       "      <td>NaN</td>\n",
       "      <td>1.78</td>\n",
       "      <td>0.53</td>\n",
       "      <td>0.00</td>\n",
       "      <td>0.08</td>\n",
       "      <td>NaN</td>\n",
       "      <td>NaN</td>\n",
       "      <td>NaN</td>\n",
       "    </tr>\n",
       "    <tr>\n",
       "      <th>14244</th>\n",
       "      <td>NaN</td>\n",
       "      <td>GEN</td>\n",
       "      <td>1993.0</td>\n",
       "      <td>NaN</td>\n",
       "      <td>0.00</td>\n",
       "      <td>0.00</td>\n",
       "      <td>0.03</td>\n",
       "      <td>0.00</td>\n",
       "      <td>NaN</td>\n",
       "      <td>NaN</td>\n",
       "      <td>NaN</td>\n",
       "    </tr>\n",
       "  </tbody>\n",
       "</table>\n",
       "</div>"
      ],
      "text/plain": [
       "      name platform  year_of_release genre  na_sales  eu_sales  jp_sales  \\\n",
       "659    NaN      GEN           1993.0   NaN      1.78      0.53      0.00   \n",
       "14244  NaN      GEN           1993.0   NaN      0.00      0.00      0.03   \n",
       "\n",
       "       other_sales  critic_score user_score rating  \n",
       "659           0.08           NaN        NaN    NaN  \n",
       "14244         0.00           NaN        NaN    NaN  "
      ]
     },
     "execution_count": 9,
     "metadata": {},
     "output_type": "execute_result"
    }
   ],
   "source": [
    "#Посмотрим на таблицу, где имеются пустые значения в столбце name\n",
    "df[df['name'].isnull()]"
   ]
  },
  {
   "cell_type": "markdown",
   "id": "987d2d20",
   "metadata": {},
   "source": [
    "Удалим пропуски в столбцах name и genre (пропуски совпадают) по причине их малого количества(всего 2 строки из таблицы)."
   ]
  },
  {
   "cell_type": "code",
   "execution_count": 10,
   "id": "06b4aaf7",
   "metadata": {},
   "outputs": [],
   "source": [
    "df.dropna(subset=['name'], inplace=True)"
   ]
  },
  {
   "cell_type": "markdown",
   "id": "77c61086",
   "metadata": {},
   "source": [
    "Пропусков в year_of_release не много - 1,6% всех данных. Заполнить их не представляется возможным, поэтому тоже их удалим.Также, заменим тип данных с float64 на целочисленный."
   ]
  },
  {
   "cell_type": "code",
   "execution_count": 11,
   "id": "dcdf08d9",
   "metadata": {},
   "outputs": [],
   "source": [
    "df = df.dropna(subset=['year_of_release'])\n",
    "df['year_of_release'] = df['year_of_release'].astype('int')"
   ]
  },
  {
   "cell_type": "markdown",
   "id": "29f62fd1",
   "metadata": {},
   "source": [
    "Пропусков в столбцах critic_score,user_score и rating  много, удалить их нельзя. "
   ]
  },
  {
   "cell_type": "markdown",
   "id": "cd215514",
   "metadata": {},
   "source": [
    "В столбце rating заменим все пропуски на 'unknown', т.е. рейтинг неизвестный. Так сможем учесть эти данные при дальнейшем анализе."
   ]
  },
  {
   "cell_type": "code",
   "execution_count": 12,
   "id": "0ce55097",
   "metadata": {},
   "outputs": [],
   "source": [
    "df['rating'] = df['rating'].fillna('unknown')"
   ]
  },
  {
   "cell_type": "markdown",
   "id": "e5f058fb",
   "metadata": {},
   "source": [
    "Пропуски в столбцах critic_score и user_score заменим на -1. Значение tbd в user_score  означает to be discussed, т.е. неизвестное. Поэтому с помощью метода to_numeric приведем тип данных данного столбца к числовому и параллельно строки 'tbd' заменятся на NaN. Также, заменим тип данных в колонке critic_score на целочисленный."
   ]
  },
  {
   "cell_type": "code",
   "execution_count": 13,
   "id": "0d226ef8",
   "metadata": {},
   "outputs": [],
   "source": [
    "df['user_score'] = pd.to_numeric(df['user_score'], errors='coerce')"
   ]
  },
  {
   "cell_type": "code",
   "execution_count": 14,
   "id": "2905bbe8",
   "metadata": {},
   "outputs": [],
   "source": [
    "df['critic_score'] = df['critic_score'].fillna(-1)\n",
    "df['user_score'] = df['user_score'].fillna(-1)\n",
    "df['critic_score'] = df['critic_score'].astype('int')"
   ]
  },
  {
   "cell_type": "code",
   "execution_count": 15,
   "id": "03604d4a",
   "metadata": {},
   "outputs": [
    {
     "data": {
      "text/plain": [
       "name               0\n",
       "platform           0\n",
       "year_of_release    0\n",
       "genre              0\n",
       "na_sales           0\n",
       "eu_sales           0\n",
       "jp_sales           0\n",
       "other_sales        0\n",
       "critic_score       0\n",
       "user_score         0\n",
       "rating             0\n",
       "dtype: int64"
      ]
     },
     "execution_count": 15,
     "metadata": {},
     "output_type": "execute_result"
    }
   ],
   "source": [
    "df.isna().sum()"
   ]
  },
  {
   "cell_type": "markdown",
   "id": "abe5cede",
   "metadata": {},
   "source": [
    "Выполним проверку."
   ]
  },
  {
   "cell_type": "code",
   "execution_count": 16,
   "id": "6fe51588",
   "metadata": {},
   "outputs": [
    {
     "name": "stdout",
     "output_type": "stream",
     "text": [
      "<class 'pandas.core.frame.DataFrame'>\n",
      "Int64Index: 16444 entries, 0 to 16714\n",
      "Data columns (total 11 columns):\n",
      " #   Column           Non-Null Count  Dtype  \n",
      "---  ------           --------------  -----  \n",
      " 0   name             16444 non-null  object \n",
      " 1   platform         16444 non-null  object \n",
      " 2   year_of_release  16444 non-null  int64  \n",
      " 3   genre            16444 non-null  object \n",
      " 4   na_sales         16444 non-null  float64\n",
      " 5   eu_sales         16444 non-null  float64\n",
      " 6   jp_sales         16444 non-null  float64\n",
      " 7   other_sales      16444 non-null  float64\n",
      " 8   critic_score     16444 non-null  int64  \n",
      " 9   user_score       16444 non-null  float64\n",
      " 10  rating           16444 non-null  object \n",
      "dtypes: float64(5), int64(2), object(4)\n",
      "memory usage: 1.5+ MB\n"
     ]
    }
   ],
   "source": [
    "df.info()"
   ]
  },
  {
   "cell_type": "markdown",
   "id": "948fbe12",
   "metadata": {},
   "source": [
    "<b>2.3 Проверка на дубликаты</b>"
   ]
  },
  {
   "cell_type": "code",
   "execution_count": 17,
   "id": "2a48f6b1",
   "metadata": {},
   "outputs": [
    {
     "data": {
      "text/plain": [
       "0"
      ]
     },
     "execution_count": 17,
     "metadata": {},
     "output_type": "execute_result"
    }
   ],
   "source": [
    "df.duplicated().sum()"
   ]
  },
  {
   "cell_type": "code",
   "execution_count": 18,
   "id": "669da4a7",
   "metadata": {},
   "outputs": [
    {
     "data": {
      "text/plain": [
       "3"
      ]
     },
     "execution_count": 18,
     "metadata": {},
     "output_type": "execute_result"
    }
   ],
   "source": [
    "df.duplicated(subset=['name','platform']).sum()"
   ]
  },
  {
   "cell_type": "code",
   "execution_count": 19,
   "id": "edaddd9e",
   "metadata": {},
   "outputs": [
    {
     "data": {
      "text/html": [
       "<div>\n",
       "<style scoped>\n",
       "    .dataframe tbody tr th:only-of-type {\n",
       "        vertical-align: middle;\n",
       "    }\n",
       "\n",
       "    .dataframe tbody tr th {\n",
       "        vertical-align: top;\n",
       "    }\n",
       "\n",
       "    .dataframe thead th {\n",
       "        text-align: right;\n",
       "    }\n",
       "</style>\n",
       "<table border=\"1\" class=\"dataframe\">\n",
       "  <thead>\n",
       "    <tr style=\"text-align: right;\">\n",
       "      <th></th>\n",
       "      <th>name</th>\n",
       "      <th>platform</th>\n",
       "      <th>year_of_release</th>\n",
       "      <th>genre</th>\n",
       "      <th>na_sales</th>\n",
       "      <th>eu_sales</th>\n",
       "      <th>jp_sales</th>\n",
       "      <th>other_sales</th>\n",
       "      <th>critic_score</th>\n",
       "      <th>user_score</th>\n",
       "      <th>rating</th>\n",
       "    </tr>\n",
       "  </thead>\n",
       "  <tbody>\n",
       "    <tr>\n",
       "      <th>1591</th>\n",
       "      <td>Need for Speed: Most Wanted</td>\n",
       "      <td>X360</td>\n",
       "      <td>2005</td>\n",
       "      <td>Racing</td>\n",
       "      <td>1.0</td>\n",
       "      <td>0.13</td>\n",
       "      <td>0.02</td>\n",
       "      <td>0.10</td>\n",
       "      <td>83</td>\n",
       "      <td>8.5</td>\n",
       "      <td>T</td>\n",
       "    </tr>\n",
       "    <tr>\n",
       "      <th>11715</th>\n",
       "      <td>Need for Speed: Most Wanted</td>\n",
       "      <td>PC</td>\n",
       "      <td>2012</td>\n",
       "      <td>Racing</td>\n",
       "      <td>0.0</td>\n",
       "      <td>0.06</td>\n",
       "      <td>0.00</td>\n",
       "      <td>0.02</td>\n",
       "      <td>82</td>\n",
       "      <td>8.5</td>\n",
       "      <td>T</td>\n",
       "    </tr>\n",
       "    <tr>\n",
       "      <th>16230</th>\n",
       "      <td>Madden NFL 13</td>\n",
       "      <td>PS3</td>\n",
       "      <td>2012</td>\n",
       "      <td>Sports</td>\n",
       "      <td>0.0</td>\n",
       "      <td>0.01</td>\n",
       "      <td>0.00</td>\n",
       "      <td>0.00</td>\n",
       "      <td>83</td>\n",
       "      <td>5.5</td>\n",
       "      <td>E</td>\n",
       "    </tr>\n",
       "  </tbody>\n",
       "</table>\n",
       "</div>"
      ],
      "text/plain": [
       "                              name platform  year_of_release   genre  \\\n",
       "1591   Need for Speed: Most Wanted     X360             2005  Racing   \n",
       "11715  Need for Speed: Most Wanted       PC             2012  Racing   \n",
       "16230                Madden NFL 13      PS3             2012  Sports   \n",
       "\n",
       "       na_sales  eu_sales  jp_sales  other_sales  critic_score  user_score  \\\n",
       "1591        1.0      0.13      0.02         0.10            83         8.5   \n",
       "11715       0.0      0.06      0.00         0.02            82         8.5   \n",
       "16230       0.0      0.01      0.00         0.00            83         5.5   \n",
       "\n",
       "      rating  \n",
       "1591       T  \n",
       "11715      T  \n",
       "16230      E  "
      ]
     },
     "execution_count": 19,
     "metadata": {},
     "output_type": "execute_result"
    }
   ],
   "source": [
    "df.loc[df.duplicated(subset=['name','platform']), :]"
   ]
  },
  {
   "cell_type": "code",
   "execution_count": 20,
   "id": "3ff277d0",
   "metadata": {},
   "outputs": [
    {
     "data": {
      "text/html": [
       "<div>\n",
       "<style scoped>\n",
       "    .dataframe tbody tr th:only-of-type {\n",
       "        vertical-align: middle;\n",
       "    }\n",
       "\n",
       "    .dataframe tbody tr th {\n",
       "        vertical-align: top;\n",
       "    }\n",
       "\n",
       "    .dataframe thead th {\n",
       "        text-align: right;\n",
       "    }\n",
       "</style>\n",
       "<table border=\"1\" class=\"dataframe\">\n",
       "  <thead>\n",
       "    <tr style=\"text-align: right;\">\n",
       "      <th></th>\n",
       "      <th>name</th>\n",
       "      <th>platform</th>\n",
       "      <th>year_of_release</th>\n",
       "      <th>genre</th>\n",
       "      <th>na_sales</th>\n",
       "      <th>eu_sales</th>\n",
       "      <th>jp_sales</th>\n",
       "      <th>other_sales</th>\n",
       "      <th>critic_score</th>\n",
       "      <th>user_score</th>\n",
       "      <th>rating</th>\n",
       "    </tr>\n",
       "  </thead>\n",
       "  <tbody>\n",
       "  </tbody>\n",
       "</table>\n",
       "</div>"
      ],
      "text/plain": [
       "Empty DataFrame\n",
       "Columns: [name, platform, year_of_release, genre, na_sales, eu_sales, jp_sales, other_sales, critic_score, user_score, rating]\n",
       "Index: []"
      ]
     },
     "execution_count": 20,
     "metadata": {},
     "output_type": "execute_result"
    }
   ],
   "source": [
    "df.loc[df['name']==df['platform']]"
   ]
  },
  {
   "cell_type": "code",
   "execution_count": 21,
   "id": "517597b6",
   "metadata": {},
   "outputs": [
    {
     "data": {
      "text/html": [
       "<div>\n",
       "<style scoped>\n",
       "    .dataframe tbody tr th:only-of-type {\n",
       "        vertical-align: middle;\n",
       "    }\n",
       "\n",
       "    .dataframe tbody tr th {\n",
       "        vertical-align: top;\n",
       "    }\n",
       "\n",
       "    .dataframe thead th {\n",
       "        text-align: right;\n",
       "    }\n",
       "</style>\n",
       "<table border=\"1\" class=\"dataframe\">\n",
       "  <thead>\n",
       "    <tr style=\"text-align: right;\">\n",
       "      <th></th>\n",
       "      <th>name</th>\n",
       "      <th>platform</th>\n",
       "      <th>year_of_release</th>\n",
       "      <th>genre</th>\n",
       "      <th>na_sales</th>\n",
       "      <th>eu_sales</th>\n",
       "      <th>jp_sales</th>\n",
       "      <th>other_sales</th>\n",
       "      <th>critic_score</th>\n",
       "      <th>user_score</th>\n",
       "      <th>rating</th>\n",
       "      <th>compare</th>\n",
       "    </tr>\n",
       "  </thead>\n",
       "  <tbody>\n",
       "    <tr>\n",
       "      <th>0</th>\n",
       "      <td>Wii Sports</td>\n",
       "      <td>Wii</td>\n",
       "      <td>2006</td>\n",
       "      <td>Sports</td>\n",
       "      <td>41.36</td>\n",
       "      <td>28.96</td>\n",
       "      <td>3.77</td>\n",
       "      <td>8.45</td>\n",
       "      <td>76</td>\n",
       "      <td>8.0</td>\n",
       "      <td>E</td>\n",
       "      <td>False</td>\n",
       "    </tr>\n",
       "    <tr>\n",
       "      <th>1</th>\n",
       "      <td>Super Mario Bros.</td>\n",
       "      <td>NES</td>\n",
       "      <td>1985</td>\n",
       "      <td>Platform</td>\n",
       "      <td>29.08</td>\n",
       "      <td>3.58</td>\n",
       "      <td>6.81</td>\n",
       "      <td>0.77</td>\n",
       "      <td>-1</td>\n",
       "      <td>-1.0</td>\n",
       "      <td>unknown</td>\n",
       "      <td>False</td>\n",
       "    </tr>\n",
       "    <tr>\n",
       "      <th>2</th>\n",
       "      <td>Mario Kart Wii</td>\n",
       "      <td>Wii</td>\n",
       "      <td>2008</td>\n",
       "      <td>Racing</td>\n",
       "      <td>15.68</td>\n",
       "      <td>12.76</td>\n",
       "      <td>3.79</td>\n",
       "      <td>3.29</td>\n",
       "      <td>82</td>\n",
       "      <td>8.3</td>\n",
       "      <td>E</td>\n",
       "      <td>False</td>\n",
       "    </tr>\n",
       "    <tr>\n",
       "      <th>3</th>\n",
       "      <td>Wii Sports Resort</td>\n",
       "      <td>Wii</td>\n",
       "      <td>2009</td>\n",
       "      <td>Sports</td>\n",
       "      <td>15.61</td>\n",
       "      <td>10.93</td>\n",
       "      <td>3.28</td>\n",
       "      <td>2.95</td>\n",
       "      <td>80</td>\n",
       "      <td>8.0</td>\n",
       "      <td>E</td>\n",
       "      <td>False</td>\n",
       "    </tr>\n",
       "    <tr>\n",
       "      <th>4</th>\n",
       "      <td>Pokemon Red/Pokemon Blue</td>\n",
       "      <td>GB</td>\n",
       "      <td>1996</td>\n",
       "      <td>Role-Playing</td>\n",
       "      <td>11.27</td>\n",
       "      <td>8.89</td>\n",
       "      <td>10.22</td>\n",
       "      <td>1.00</td>\n",
       "      <td>-1</td>\n",
       "      <td>-1.0</td>\n",
       "      <td>unknown</td>\n",
       "      <td>False</td>\n",
       "    </tr>\n",
       "  </tbody>\n",
       "</table>\n",
       "</div>"
      ],
      "text/plain": [
       "                       name platform  year_of_release         genre  na_sales  \\\n",
       "0                Wii Sports      Wii             2006        Sports     41.36   \n",
       "1         Super Mario Bros.      NES             1985      Platform     29.08   \n",
       "2            Mario Kart Wii      Wii             2008        Racing     15.68   \n",
       "3         Wii Sports Resort      Wii             2009        Sports     15.61   \n",
       "4  Pokemon Red/Pokemon Blue       GB             1996  Role-Playing     11.27   \n",
       "\n",
       "   eu_sales  jp_sales  other_sales  critic_score  user_score   rating  compare  \n",
       "0     28.96      3.77         8.45            76         8.0        E    False  \n",
       "1      3.58      6.81         0.77            -1        -1.0  unknown    False  \n",
       "2     12.76      3.79         3.29            82         8.3        E    False  \n",
       "3     10.93      3.28         2.95            80         8.0        E    False  \n",
       "4      8.89     10.22         1.00            -1        -1.0  unknown    False  "
      ]
     },
     "execution_count": 21,
     "metadata": {},
     "output_type": "execute_result"
    }
   ],
   "source": [
    "df['compare'] = df['name'] == df['platform']\n",
    "df.head(5)"
   ]
  },
  {
   "cell_type": "code",
   "execution_count": 22,
   "id": "d1a5ebea",
   "metadata": {},
   "outputs": [
    {
     "data": {
      "text/plain": [
       "False    16444\n",
       "Name: compare, dtype: int64"
      ]
     },
     "execution_count": 22,
     "metadata": {},
     "output_type": "execute_result"
    }
   ],
   "source": [
    "df['compare'].value_counts()"
   ]
  },
  {
   "cell_type": "markdown",
   "id": "b76f55c7",
   "metadata": {},
   "source": [
    "<b>2.4 Подсчет суммарных продаж во всех регионах.</b>"
   ]
  },
  {
   "cell_type": "code",
   "execution_count": 23,
   "id": "7bf8c0b1",
   "metadata": {},
   "outputs": [],
   "source": [
    "#Создадим новый столбец total_sales и прибавим продажи всех столбцов\n",
    "df['total_sales'] = df['na_sales'] + df['eu_sales'] + df['jp_sales'] + df['other_sales']"
   ]
  },
  {
   "cell_type": "code",
   "execution_count": 24,
   "id": "558cdb49",
   "metadata": {},
   "outputs": [
    {
     "data": {
      "text/html": [
       "<div>\n",
       "<style scoped>\n",
       "    .dataframe tbody tr th:only-of-type {\n",
       "        vertical-align: middle;\n",
       "    }\n",
       "\n",
       "    .dataframe tbody tr th {\n",
       "        vertical-align: top;\n",
       "    }\n",
       "\n",
       "    .dataframe thead th {\n",
       "        text-align: right;\n",
       "    }\n",
       "</style>\n",
       "<table border=\"1\" class=\"dataframe\">\n",
       "  <thead>\n",
       "    <tr style=\"text-align: right;\">\n",
       "      <th></th>\n",
       "      <th>name</th>\n",
       "      <th>platform</th>\n",
       "      <th>year_of_release</th>\n",
       "      <th>genre</th>\n",
       "      <th>na_sales</th>\n",
       "      <th>eu_sales</th>\n",
       "      <th>jp_sales</th>\n",
       "      <th>other_sales</th>\n",
       "      <th>critic_score</th>\n",
       "      <th>user_score</th>\n",
       "      <th>rating</th>\n",
       "      <th>compare</th>\n",
       "      <th>total_sales</th>\n",
       "    </tr>\n",
       "  </thead>\n",
       "  <tbody>\n",
       "    <tr>\n",
       "      <th>0</th>\n",
       "      <td>Wii Sports</td>\n",
       "      <td>Wii</td>\n",
       "      <td>2006</td>\n",
       "      <td>Sports</td>\n",
       "      <td>41.36</td>\n",
       "      <td>28.96</td>\n",
       "      <td>3.77</td>\n",
       "      <td>8.45</td>\n",
       "      <td>76</td>\n",
       "      <td>8.0</td>\n",
       "      <td>E</td>\n",
       "      <td>False</td>\n",
       "      <td>82.54</td>\n",
       "    </tr>\n",
       "    <tr>\n",
       "      <th>1</th>\n",
       "      <td>Super Mario Bros.</td>\n",
       "      <td>NES</td>\n",
       "      <td>1985</td>\n",
       "      <td>Platform</td>\n",
       "      <td>29.08</td>\n",
       "      <td>3.58</td>\n",
       "      <td>6.81</td>\n",
       "      <td>0.77</td>\n",
       "      <td>-1</td>\n",
       "      <td>-1.0</td>\n",
       "      <td>unknown</td>\n",
       "      <td>False</td>\n",
       "      <td>40.24</td>\n",
       "    </tr>\n",
       "    <tr>\n",
       "      <th>2</th>\n",
       "      <td>Mario Kart Wii</td>\n",
       "      <td>Wii</td>\n",
       "      <td>2008</td>\n",
       "      <td>Racing</td>\n",
       "      <td>15.68</td>\n",
       "      <td>12.76</td>\n",
       "      <td>3.79</td>\n",
       "      <td>3.29</td>\n",
       "      <td>82</td>\n",
       "      <td>8.3</td>\n",
       "      <td>E</td>\n",
       "      <td>False</td>\n",
       "      <td>35.52</td>\n",
       "    </tr>\n",
       "    <tr>\n",
       "      <th>3</th>\n",
       "      <td>Wii Sports Resort</td>\n",
       "      <td>Wii</td>\n",
       "      <td>2009</td>\n",
       "      <td>Sports</td>\n",
       "      <td>15.61</td>\n",
       "      <td>10.93</td>\n",
       "      <td>3.28</td>\n",
       "      <td>2.95</td>\n",
       "      <td>80</td>\n",
       "      <td>8.0</td>\n",
       "      <td>E</td>\n",
       "      <td>False</td>\n",
       "      <td>32.77</td>\n",
       "    </tr>\n",
       "    <tr>\n",
       "      <th>4</th>\n",
       "      <td>Pokemon Red/Pokemon Blue</td>\n",
       "      <td>GB</td>\n",
       "      <td>1996</td>\n",
       "      <td>Role-Playing</td>\n",
       "      <td>11.27</td>\n",
       "      <td>8.89</td>\n",
       "      <td>10.22</td>\n",
       "      <td>1.00</td>\n",
       "      <td>-1</td>\n",
       "      <td>-1.0</td>\n",
       "      <td>unknown</td>\n",
       "      <td>False</td>\n",
       "      <td>31.38</td>\n",
       "    </tr>\n",
       "  </tbody>\n",
       "</table>\n",
       "</div>"
      ],
      "text/plain": [
       "                       name platform  year_of_release         genre  na_sales  \\\n",
       "0                Wii Sports      Wii             2006        Sports     41.36   \n",
       "1         Super Mario Bros.      NES             1985      Platform     29.08   \n",
       "2            Mario Kart Wii      Wii             2008        Racing     15.68   \n",
       "3         Wii Sports Resort      Wii             2009        Sports     15.61   \n",
       "4  Pokemon Red/Pokemon Blue       GB             1996  Role-Playing     11.27   \n",
       "\n",
       "   eu_sales  jp_sales  other_sales  critic_score  user_score   rating  \\\n",
       "0     28.96      3.77         8.45            76         8.0        E   \n",
       "1      3.58      6.81         0.77            -1        -1.0  unknown   \n",
       "2     12.76      3.79         3.29            82         8.3        E   \n",
       "3     10.93      3.28         2.95            80         8.0        E   \n",
       "4      8.89     10.22         1.00            -1        -1.0  unknown   \n",
       "\n",
       "   compare  total_sales  \n",
       "0    False        82.54  \n",
       "1    False        40.24  \n",
       "2    False        35.52  \n",
       "3    False        32.77  \n",
       "4    False        31.38  "
      ]
     },
     "execution_count": 24,
     "metadata": {},
     "output_type": "execute_result"
    }
   ],
   "source": [
    "df.head(5)"
   ]
  },
  {
   "cell_type": "markdown",
   "id": "02080ca8",
   "metadata": {},
   "source": [
    "### Шаг 3. Исследовательский анализ данных"
   ]
  },
  {
   "cell_type": "markdown",
   "id": "a4c349cf",
   "metadata": {},
   "source": [
    "<b>3.1 Выпуск игр в разные годы.</b>"
   ]
  },
  {
   "cell_type": "code",
   "execution_count": 25,
   "id": "dff933a1",
   "metadata": {
    "scrolled": true
   },
   "outputs": [
    {
     "data": {
      "text/html": [
       "<div>\n",
       "<style scoped>\n",
       "    .dataframe tbody tr th:only-of-type {\n",
       "        vertical-align: middle;\n",
       "    }\n",
       "\n",
       "    .dataframe tbody tr th {\n",
       "        vertical-align: top;\n",
       "    }\n",
       "\n",
       "    .dataframe thead tr th {\n",
       "        text-align: left;\n",
       "    }\n",
       "\n",
       "    .dataframe thead tr:last-of-type th {\n",
       "        text-align: right;\n",
       "    }\n",
       "</style>\n",
       "<table border=\"1\" class=\"dataframe\">\n",
       "  <thead>\n",
       "    <tr>\n",
       "      <th></th>\n",
       "      <th>count</th>\n",
       "    </tr>\n",
       "    <tr>\n",
       "      <th></th>\n",
       "      <th>name</th>\n",
       "    </tr>\n",
       "    <tr>\n",
       "      <th>year_of_release</th>\n",
       "      <th></th>\n",
       "    </tr>\n",
       "  </thead>\n",
       "  <tbody>\n",
       "    <tr>\n",
       "      <th>1980</th>\n",
       "      <td>9</td>\n",
       "    </tr>\n",
       "    <tr>\n",
       "      <th>1981</th>\n",
       "      <td>46</td>\n",
       "    </tr>\n",
       "    <tr>\n",
       "      <th>1982</th>\n",
       "      <td>36</td>\n",
       "    </tr>\n",
       "    <tr>\n",
       "      <th>1983</th>\n",
       "      <td>17</td>\n",
       "    </tr>\n",
       "    <tr>\n",
       "      <th>1984</th>\n",
       "      <td>14</td>\n",
       "    </tr>\n",
       "    <tr>\n",
       "      <th>1985</th>\n",
       "      <td>14</td>\n",
       "    </tr>\n",
       "    <tr>\n",
       "      <th>1986</th>\n",
       "      <td>21</td>\n",
       "    </tr>\n",
       "    <tr>\n",
       "      <th>1987</th>\n",
       "      <td>16</td>\n",
       "    </tr>\n",
       "    <tr>\n",
       "      <th>1988</th>\n",
       "      <td>15</td>\n",
       "    </tr>\n",
       "    <tr>\n",
       "      <th>1989</th>\n",
       "      <td>17</td>\n",
       "    </tr>\n",
       "    <tr>\n",
       "      <th>1990</th>\n",
       "      <td>16</td>\n",
       "    </tr>\n",
       "    <tr>\n",
       "      <th>1991</th>\n",
       "      <td>41</td>\n",
       "    </tr>\n",
       "    <tr>\n",
       "      <th>1992</th>\n",
       "      <td>43</td>\n",
       "    </tr>\n",
       "    <tr>\n",
       "      <th>1993</th>\n",
       "      <td>60</td>\n",
       "    </tr>\n",
       "    <tr>\n",
       "      <th>1994</th>\n",
       "      <td>121</td>\n",
       "    </tr>\n",
       "    <tr>\n",
       "      <th>1995</th>\n",
       "      <td>219</td>\n",
       "    </tr>\n",
       "    <tr>\n",
       "      <th>1996</th>\n",
       "      <td>263</td>\n",
       "    </tr>\n",
       "    <tr>\n",
       "      <th>1997</th>\n",
       "      <td>289</td>\n",
       "    </tr>\n",
       "    <tr>\n",
       "      <th>1998</th>\n",
       "      <td>379</td>\n",
       "    </tr>\n",
       "    <tr>\n",
       "      <th>1999</th>\n",
       "      <td>338</td>\n",
       "    </tr>\n",
       "    <tr>\n",
       "      <th>2000</th>\n",
       "      <td>350</td>\n",
       "    </tr>\n",
       "    <tr>\n",
       "      <th>2001</th>\n",
       "      <td>482</td>\n",
       "    </tr>\n",
       "    <tr>\n",
       "      <th>2002</th>\n",
       "      <td>829</td>\n",
       "    </tr>\n",
       "    <tr>\n",
       "      <th>2003</th>\n",
       "      <td>775</td>\n",
       "    </tr>\n",
       "    <tr>\n",
       "      <th>2004</th>\n",
       "      <td>762</td>\n",
       "    </tr>\n",
       "    <tr>\n",
       "      <th>2005</th>\n",
       "      <td>939</td>\n",
       "    </tr>\n",
       "    <tr>\n",
       "      <th>2006</th>\n",
       "      <td>1006</td>\n",
       "    </tr>\n",
       "    <tr>\n",
       "      <th>2007</th>\n",
       "      <td>1197</td>\n",
       "    </tr>\n",
       "    <tr>\n",
       "      <th>2008</th>\n",
       "      <td>1427</td>\n",
       "    </tr>\n",
       "    <tr>\n",
       "      <th>2009</th>\n",
       "      <td>1426</td>\n",
       "    </tr>\n",
       "    <tr>\n",
       "      <th>2010</th>\n",
       "      <td>1255</td>\n",
       "    </tr>\n",
       "    <tr>\n",
       "      <th>2011</th>\n",
       "      <td>1136</td>\n",
       "    </tr>\n",
       "    <tr>\n",
       "      <th>2012</th>\n",
       "      <td>653</td>\n",
       "    </tr>\n",
       "    <tr>\n",
       "      <th>2013</th>\n",
       "      <td>544</td>\n",
       "    </tr>\n",
       "    <tr>\n",
       "      <th>2014</th>\n",
       "      <td>581</td>\n",
       "    </tr>\n",
       "    <tr>\n",
       "      <th>2015</th>\n",
       "      <td>606</td>\n",
       "    </tr>\n",
       "    <tr>\n",
       "      <th>2016</th>\n",
       "      <td>502</td>\n",
       "    </tr>\n",
       "  </tbody>\n",
       "</table>\n",
       "</div>"
      ],
      "text/plain": [
       "                count\n",
       "                 name\n",
       "year_of_release      \n",
       "1980                9\n",
       "1981               46\n",
       "1982               36\n",
       "1983               17\n",
       "1984               14\n",
       "1985               14\n",
       "1986               21\n",
       "1987               16\n",
       "1988               15\n",
       "1989               17\n",
       "1990               16\n",
       "1991               41\n",
       "1992               43\n",
       "1993               60\n",
       "1994              121\n",
       "1995              219\n",
       "1996              263\n",
       "1997              289\n",
       "1998              379\n",
       "1999              338\n",
       "2000              350\n",
       "2001              482\n",
       "2002              829\n",
       "2003              775\n",
       "2004              762\n",
       "2005              939\n",
       "2006             1006\n",
       "2007             1197\n",
       "2008             1427\n",
       "2009             1426\n",
       "2010             1255\n",
       "2011             1136\n",
       "2012              653\n",
       "2013              544\n",
       "2014              581\n",
       "2015              606\n",
       "2016              502"
      ]
     },
     "execution_count": 25,
     "metadata": {},
     "output_type": "execute_result"
    }
   ],
   "source": [
    "#Построим сводную таблицу \n",
    "df.pivot_table(index='year_of_release', values='name', aggfunc = ['count'])"
   ]
  },
  {
   "cell_type": "code",
   "execution_count": 26,
   "id": "a512cded",
   "metadata": {},
   "outputs": [
    {
     "data": {
      "text/plain": [
       "Text(0, 0.5, 'Количество игр')"
      ]
     },
     "execution_count": 26,
     "metadata": {},
     "output_type": "execute_result"
    },
    {
     "data": {
      "image/png": "[encoded data removed]",
      "text/plain": [
       "<Figure size 1080x360 with 1 Axes>"
      ]
     },
     "metadata": {
      "needs_background": "light"
     },
     "output_type": "display_data"
    }
   ],
   "source": [
    "#Для наглядности построим диаграмму\n",
    "import pylab as pl\n",
    "df.groupby('year_of_release')['name'].count().plot(x='year_of_release',y='name',kind='bar', figsize=(15,5))\n",
    "pl.title(\"Количество игр,выпускаемых в разные годы\")\n",
    "pl.xlabel(\"Год выхода игр\")\n",
    "pl.ylabel(\"Количество игр\")"
   ]
  },
  {
   "cell_type": "markdown",
   "id": "78693301",
   "metadata": {},
   "source": [
    "Из графика видно,  что произошел скачок в разработке игр после 1994 года, так продолжалось до 2009 года, после чего пошел спад и резкое падение по количкству  разработанных игр в 2012 году.\n",
    "Для анализа данные за весь предоставленный период не нужны. Будут нужны только те, которые отражают тенденции последних лет. В данном случае это данные после 2011 года."
   ]
  },
  {
   "cell_type": "markdown",
   "id": "a0163331",
   "metadata": {},
   "source": [
    "<b>3.2 Изменение продаж по платформам за весь период.</b>"
   ]
  },
  {
   "cell_type": "code",
   "execution_count": 27,
   "id": "2cd9a6e7",
   "metadata": {
    "scrolled": true
   },
   "outputs": [
    {
     "data": {
      "text/html": [
       "<div>\n",
       "<style scoped>\n",
       "    .dataframe tbody tr th:only-of-type {\n",
       "        vertical-align: middle;\n",
       "    }\n",
       "\n",
       "    .dataframe tbody tr th {\n",
       "        vertical-align: top;\n",
       "    }\n",
       "\n",
       "    .dataframe thead th {\n",
       "        text-align: right;\n",
       "    }\n",
       "</style>\n",
       "<table border=\"1\" class=\"dataframe\">\n",
       "  <thead>\n",
       "    <tr style=\"text-align: right;\">\n",
       "      <th></th>\n",
       "      <th>total_sales</th>\n",
       "    </tr>\n",
       "    <tr>\n",
       "      <th>platform</th>\n",
       "      <th></th>\n",
       "    </tr>\n",
       "  </thead>\n",
       "  <tbody>\n",
       "    <tr>\n",
       "      <th>PS2</th>\n",
       "      <td>1233.56</td>\n",
       "    </tr>\n",
       "    <tr>\n",
       "      <th>X360</th>\n",
       "      <td>961.24</td>\n",
       "    </tr>\n",
       "    <tr>\n",
       "      <th>PS3</th>\n",
       "      <td>931.34</td>\n",
       "    </tr>\n",
       "    <tr>\n",
       "      <th>Wii</th>\n",
       "      <td>891.18</td>\n",
       "    </tr>\n",
       "    <tr>\n",
       "      <th>DS</th>\n",
       "      <td>802.78</td>\n",
       "    </tr>\n",
       "    <tr>\n",
       "      <th>PS</th>\n",
       "      <td>727.58</td>\n",
       "    </tr>\n",
       "    <tr>\n",
       "      <th>PS4</th>\n",
       "      <td>314.14</td>\n",
       "    </tr>\n",
       "    <tr>\n",
       "      <th>GBA</th>\n",
       "      <td>312.88</td>\n",
       "    </tr>\n",
       "    <tr>\n",
       "      <th>PSP</th>\n",
       "      <td>289.53</td>\n",
       "    </tr>\n",
       "    <tr>\n",
       "      <th>3DS</th>\n",
       "      <td>257.81</td>\n",
       "    </tr>\n",
       "  </tbody>\n",
       "</table>\n",
       "</div>"
      ],
      "text/plain": [
       "          total_sales\n",
       "platform             \n",
       "PS2           1233.56\n",
       "X360           961.24\n",
       "PS3            931.34\n",
       "Wii            891.18\n",
       "DS             802.78\n",
       "PS             727.58\n",
       "PS4            314.14\n",
       "GBA            312.88\n",
       "PSP            289.53\n",
       "3DS            257.81"
      ]
     },
     "execution_count": 27,
     "metadata": {},
     "output_type": "execute_result"
    }
   ],
   "source": [
    "#Построим сводную таблицу \n",
    "platform_sales = df.pivot_table(index='platform', values='total_sales', aggfunc='sum').sort_values(by='total_sales', ascending=False)\n",
    "platform_sales.head(10)"
   ]
  },
  {
   "cell_type": "code",
   "execution_count": 28,
   "id": "f644b1f9",
   "metadata": {},
   "outputs": [
    {
     "data": {
      "text/plain": [
       "Text(0, 0.5, 'Сумма продаж')"
      ]
     },
     "execution_count": 28,
     "metadata": {},
     "output_type": "execute_result"
    },
    {
     "data": {
      "image/png": "[encoded data removed]",
      "text/plain": [
       "<Figure size 1080x360 with 1 Axes>"
      ]
     },
     "metadata": {
      "needs_background": "light"
     },
     "output_type": "display_data"
    }
   ],
   "source": [
    "#Для наглядности построим диаграмму\n",
    "df.groupby('platform')['total_sales'].count().plot(x='platform',y='total_sales', kind='bar', figsize=(15,5))\n",
    "pl.title(\"Продажи по платформам за весь период\")\n",
    "pl.xlabel(\"Платформа\")\n",
    "pl.ylabel(\"Сумма продаж\")"
   ]
  },
  {
   "cell_type": "markdown",
   "id": "a36aed8a",
   "metadata": {},
   "source": [
    "Из графика и сводной таблицы видно, что наибольшие суммарные продажи имеют платформы (топ5) это PS2, X360, PS3, WII, DS. Построим для этих платформ графики распределения суммарных продаж по годам."
   ]
  },
  {
   "cell_type": "code",
   "execution_count": 29,
   "id": "c28d8d36",
   "metadata": {},
   "outputs": [],
   "source": [
    "import matplotlib.pyplot as plt"
   ]
  },
  {
   "cell_type": "code",
   "execution_count": 30,
   "id": "037cb037",
   "metadata": {},
   "outputs": [
    {
     "data": {
      "text/plain": [
       "(2005.0, 2016.0)"
      ]
     },
     "execution_count": 30,
     "metadata": {},
     "output_type": "execute_result"
    },
    {
     "data": {
      "image/png": "[encoded data removed]",
      "text/plain": [
       "<Figure size 432x288 with 1 Axes>"
      ]
     },
     "metadata": {
      "needs_background": "light"
     },
     "output_type": "display_data"
    }
   ],
   "source": [
    "#Построим сводную таблицу \n",
    "platform_sales_year = df.pivot_table(index = 'year_of_release', columns = 'platform',values='total_sales',aggfunc=sum)\n",
    "#Построим графики \n",
    "plt.plot(platform_sales_year['PS2'], label = 'продажи PS2')\n",
    "plt.plot(platform_sales_year['X360'], label = 'продажи X360')\n",
    "plt.plot(platform_sales_year['PS3'], label = 'продажи PS3')\n",
    "plt.plot(platform_sales_year['Wii'], label = 'продажи Wii')\n",
    "plt.plot(platform_sales_year['DS'], label = 'продажи DS')\n",
    "plt.title(\"Графики распределения суммарных продаж по годам платформ ТОП5\")\n",
    "plt.xlabel(\"Год\")\n",
    "plt.ylabel(\"Сумма продаж\")\n",
    "plt.legend()\n",
    "plt.xlim([2005, 2016])"
   ]
  },
  {
   "cell_type": "markdown",
   "id": "125a956e",
   "metadata": {},
   "source": [
    "Мы видим, что практически все игровые платформы в среднем существуют по 10 лет. Пик продаж наступает примерно через 5 лет после выхода платформы."
   ]
  },
  {
   "cell_type": "markdown",
   "id": "f3092829",
   "metadata": {},
   "source": [
    "<b>3.3 Выбор  потенциально прибыльных платформ в актуальном периоде.</b>"
   ]
  },
  {
   "cell_type": "markdown",
   "id": "befbff1b",
   "metadata": {},
   "source": [
    "Определим какие платформы лидируют по продажам, растут и падают в актуальном периоде. Актуальным периодом будем считать 2011 - 2016 года. Так как, это данные за последние несколько лет,  они отражают последние тенденции и на их основании можно делать  предположения о будущем."
   ]
  },
  {
   "cell_type": "code",
   "execution_count": 31,
   "id": "8597cabb",
   "metadata": {},
   "outputs": [
    {
     "data": {
      "text/html": [
       "<div>\n",
       "<style scoped>\n",
       "    .dataframe tbody tr th:only-of-type {\n",
       "        vertical-align: middle;\n",
       "    }\n",
       "\n",
       "    .dataframe tbody tr th {\n",
       "        vertical-align: top;\n",
       "    }\n",
       "\n",
       "    .dataframe thead th {\n",
       "        text-align: right;\n",
       "    }\n",
       "</style>\n",
       "<table border=\"1\" class=\"dataframe\">\n",
       "  <thead>\n",
       "    <tr style=\"text-align: right;\">\n",
       "      <th></th>\n",
       "      <th>name</th>\n",
       "      <th>platform</th>\n",
       "      <th>year_of_release</th>\n",
       "      <th>genre</th>\n",
       "      <th>na_sales</th>\n",
       "      <th>eu_sales</th>\n",
       "      <th>jp_sales</th>\n",
       "      <th>other_sales</th>\n",
       "      <th>critic_score</th>\n",
       "      <th>user_score</th>\n",
       "      <th>rating</th>\n",
       "      <th>compare</th>\n",
       "      <th>total_sales</th>\n",
       "    </tr>\n",
       "  </thead>\n",
       "  <tbody>\n",
       "    <tr>\n",
       "      <th>16</th>\n",
       "      <td>Grand Theft Auto V</td>\n",
       "      <td>PS3</td>\n",
       "      <td>2013</td>\n",
       "      <td>Action</td>\n",
       "      <td>7.02</td>\n",
       "      <td>9.09</td>\n",
       "      <td>0.98</td>\n",
       "      <td>3.96</td>\n",
       "      <td>97</td>\n",
       "      <td>8.2</td>\n",
       "      <td>M</td>\n",
       "      <td>False</td>\n",
       "      <td>21.05</td>\n",
       "    </tr>\n",
       "    <tr>\n",
       "      <th>23</th>\n",
       "      <td>Grand Theft Auto V</td>\n",
       "      <td>X360</td>\n",
       "      <td>2013</td>\n",
       "      <td>Action</td>\n",
       "      <td>9.66</td>\n",
       "      <td>5.14</td>\n",
       "      <td>0.06</td>\n",
       "      <td>1.41</td>\n",
       "      <td>97</td>\n",
       "      <td>8.1</td>\n",
       "      <td>M</td>\n",
       "      <td>False</td>\n",
       "      <td>16.27</td>\n",
       "    </tr>\n",
       "    <tr>\n",
       "      <th>29</th>\n",
       "      <td>Call of Duty: Modern Warfare 3</td>\n",
       "      <td>X360</td>\n",
       "      <td>2011</td>\n",
       "      <td>Shooter</td>\n",
       "      <td>9.04</td>\n",
       "      <td>4.24</td>\n",
       "      <td>0.13</td>\n",
       "      <td>1.32</td>\n",
       "      <td>88</td>\n",
       "      <td>3.4</td>\n",
       "      <td>M</td>\n",
       "      <td>False</td>\n",
       "      <td>14.73</td>\n",
       "    </tr>\n",
       "    <tr>\n",
       "      <th>31</th>\n",
       "      <td>Call of Duty: Black Ops 3</td>\n",
       "      <td>PS4</td>\n",
       "      <td>2015</td>\n",
       "      <td>Shooter</td>\n",
       "      <td>6.03</td>\n",
       "      <td>5.86</td>\n",
       "      <td>0.36</td>\n",
       "      <td>2.38</td>\n",
       "      <td>-1</td>\n",
       "      <td>-1.0</td>\n",
       "      <td>unknown</td>\n",
       "      <td>False</td>\n",
       "      <td>14.63</td>\n",
       "    </tr>\n",
       "    <tr>\n",
       "      <th>33</th>\n",
       "      <td>Pokemon X/Pokemon Y</td>\n",
       "      <td>3DS</td>\n",
       "      <td>2013</td>\n",
       "      <td>Role-Playing</td>\n",
       "      <td>5.28</td>\n",
       "      <td>4.19</td>\n",
       "      <td>4.35</td>\n",
       "      <td>0.78</td>\n",
       "      <td>-1</td>\n",
       "      <td>-1.0</td>\n",
       "      <td>unknown</td>\n",
       "      <td>False</td>\n",
       "      <td>14.60</td>\n",
       "    </tr>\n",
       "    <tr>\n",
       "      <th>34</th>\n",
       "      <td>Call of Duty: Black Ops II</td>\n",
       "      <td>PS3</td>\n",
       "      <td>2012</td>\n",
       "      <td>Shooter</td>\n",
       "      <td>4.99</td>\n",
       "      <td>5.73</td>\n",
       "      <td>0.65</td>\n",
       "      <td>2.42</td>\n",
       "      <td>83</td>\n",
       "      <td>5.3</td>\n",
       "      <td>M</td>\n",
       "      <td>False</td>\n",
       "      <td>13.79</td>\n",
       "    </tr>\n",
       "    <tr>\n",
       "      <th>35</th>\n",
       "      <td>Call of Duty: Black Ops II</td>\n",
       "      <td>X360</td>\n",
       "      <td>2012</td>\n",
       "      <td>Shooter</td>\n",
       "      <td>8.25</td>\n",
       "      <td>4.24</td>\n",
       "      <td>0.07</td>\n",
       "      <td>1.12</td>\n",
       "      <td>83</td>\n",
       "      <td>4.8</td>\n",
       "      <td>M</td>\n",
       "      <td>False</td>\n",
       "      <td>13.68</td>\n",
       "    </tr>\n",
       "    <tr>\n",
       "      <th>37</th>\n",
       "      <td>Call of Duty: Modern Warfare 3</td>\n",
       "      <td>PS3</td>\n",
       "      <td>2011</td>\n",
       "      <td>Shooter</td>\n",
       "      <td>5.54</td>\n",
       "      <td>5.73</td>\n",
       "      <td>0.49</td>\n",
       "      <td>1.57</td>\n",
       "      <td>88</td>\n",
       "      <td>3.2</td>\n",
       "      <td>M</td>\n",
       "      <td>False</td>\n",
       "      <td>13.33</td>\n",
       "    </tr>\n",
       "    <tr>\n",
       "      <th>40</th>\n",
       "      <td>Mario Kart 7</td>\n",
       "      <td>3DS</td>\n",
       "      <td>2011</td>\n",
       "      <td>Racing</td>\n",
       "      <td>5.03</td>\n",
       "      <td>4.02</td>\n",
       "      <td>2.69</td>\n",
       "      <td>0.91</td>\n",
       "      <td>85</td>\n",
       "      <td>8.2</td>\n",
       "      <td>E</td>\n",
       "      <td>False</td>\n",
       "      <td>12.65</td>\n",
       "    </tr>\n",
       "    <tr>\n",
       "      <th>42</th>\n",
       "      <td>Grand Theft Auto V</td>\n",
       "      <td>PS4</td>\n",
       "      <td>2014</td>\n",
       "      <td>Action</td>\n",
       "      <td>3.96</td>\n",
       "      <td>6.31</td>\n",
       "      <td>0.38</td>\n",
       "      <td>1.97</td>\n",
       "      <td>97</td>\n",
       "      <td>8.3</td>\n",
       "      <td>M</td>\n",
       "      <td>False</td>\n",
       "      <td>12.62</td>\n",
       "    </tr>\n",
       "  </tbody>\n",
       "</table>\n",
       "</div>"
      ],
      "text/plain": [
       "                              name platform  year_of_release         genre  \\\n",
       "16              Grand Theft Auto V      PS3             2013        Action   \n",
       "23              Grand Theft Auto V     X360             2013        Action   \n",
       "29  Call of Duty: Modern Warfare 3     X360             2011       Shooter   \n",
       "31       Call of Duty: Black Ops 3      PS4             2015       Shooter   \n",
       "33             Pokemon X/Pokemon Y      3DS             2013  Role-Playing   \n",
       "34      Call of Duty: Black Ops II      PS3             2012       Shooter   \n",
       "35      Call of Duty: Black Ops II     X360             2012       Shooter   \n",
       "37  Call of Duty: Modern Warfare 3      PS3             2011       Shooter   \n",
       "40                    Mario Kart 7      3DS             2011        Racing   \n",
       "42              Grand Theft Auto V      PS4             2014        Action   \n",
       "\n",
       "    na_sales  eu_sales  jp_sales  other_sales  critic_score  user_score  \\\n",
       "16      7.02      9.09      0.98         3.96            97         8.2   \n",
       "23      9.66      5.14      0.06         1.41            97         8.1   \n",
       "29      9.04      4.24      0.13         1.32            88         3.4   \n",
       "31      6.03      5.86      0.36         2.38            -1        -1.0   \n",
       "33      5.28      4.19      4.35         0.78            -1        -1.0   \n",
       "34      4.99      5.73      0.65         2.42            83         5.3   \n",
       "35      8.25      4.24      0.07         1.12            83         4.8   \n",
       "37      5.54      5.73      0.49         1.57            88         3.2   \n",
       "40      5.03      4.02      2.69         0.91            85         8.2   \n",
       "42      3.96      6.31      0.38         1.97            97         8.3   \n",
       "\n",
       "     rating  compare  total_sales  \n",
       "16        M    False        21.05  \n",
       "23        M    False        16.27  \n",
       "29        M    False        14.73  \n",
       "31  unknown    False        14.63  \n",
       "33  unknown    False        14.60  \n",
       "34        M    False        13.79  \n",
       "35        M    False        13.68  \n",
       "37        M    False        13.33  \n",
       "40        E    False        12.65  \n",
       "42        M    False        12.62  "
      ]
     },
     "execution_count": 31,
     "metadata": {},
     "output_type": "execute_result"
    }
   ],
   "source": [
    "#Сделаем срез по актуальному периоду\n",
    "df_relevant = df.query('year_of_release >= 2011')\n",
    "df_relevant.head(10)"
   ]
  },
  {
   "cell_type": "markdown",
   "id": "bed8d0d0",
   "metadata": {},
   "source": [
    "Определим какие платформы лидируют по суммарным продажам в актуальном периоде."
   ]
  },
  {
   "cell_type": "code",
   "execution_count": 32,
   "id": "d4ecd750",
   "metadata": {},
   "outputs": [
    {
     "data": {
      "text/html": [
       "<div>\n",
       "<style scoped>\n",
       "    .dataframe tbody tr th:only-of-type {\n",
       "        vertical-align: middle;\n",
       "    }\n",
       "\n",
       "    .dataframe tbody tr th {\n",
       "        vertical-align: top;\n",
       "    }\n",
       "\n",
       "    .dataframe thead th {\n",
       "        text-align: right;\n",
       "    }\n",
       "</style>\n",
       "<table border=\"1\" class=\"dataframe\">\n",
       "  <thead>\n",
       "    <tr style=\"text-align: right;\">\n",
       "      <th></th>\n",
       "      <th>total_sales</th>\n",
       "    </tr>\n",
       "    <tr>\n",
       "      <th>platform</th>\n",
       "      <th></th>\n",
       "    </tr>\n",
       "  </thead>\n",
       "  <tbody>\n",
       "    <tr>\n",
       "      <th>PS3</th>\n",
       "      <td>445.57</td>\n",
       "    </tr>\n",
       "    <tr>\n",
       "      <th>X360</th>\n",
       "      <td>380.38</td>\n",
       "    </tr>\n",
       "    <tr>\n",
       "      <th>PS4</th>\n",
       "      <td>314.14</td>\n",
       "    </tr>\n",
       "    <tr>\n",
       "      <th>3DS</th>\n",
       "      <td>257.81</td>\n",
       "    </tr>\n",
       "    <tr>\n",
       "      <th>XOne</th>\n",
       "      <td>159.32</td>\n",
       "    </tr>\n",
       "    <tr>\n",
       "      <th>PC</th>\n",
       "      <td>97.68</td>\n",
       "    </tr>\n",
       "    <tr>\n",
       "      <th>Wii</th>\n",
       "      <td>95.02</td>\n",
       "    </tr>\n",
       "    <tr>\n",
       "      <th>WiiU</th>\n",
       "      <td>82.19</td>\n",
       "    </tr>\n",
       "    <tr>\n",
       "      <th>PSV</th>\n",
       "      <td>53.81</td>\n",
       "    </tr>\n",
       "    <tr>\n",
       "      <th>DS</th>\n",
       "      <td>38.73</td>\n",
       "    </tr>\n",
       "    <tr>\n",
       "      <th>PSP</th>\n",
       "      <td>29.01</td>\n",
       "    </tr>\n",
       "    <tr>\n",
       "      <th>PS2</th>\n",
       "      <td>0.45</td>\n",
       "    </tr>\n",
       "  </tbody>\n",
       "</table>\n",
       "</div>"
      ],
      "text/plain": [
       "          total_sales\n",
       "platform             \n",
       "PS3            445.57\n",
       "X360           380.38\n",
       "PS4            314.14\n",
       "3DS            257.81\n",
       "XOne           159.32\n",
       "PC              97.68\n",
       "Wii             95.02\n",
       "WiiU            82.19\n",
       "PSV             53.81\n",
       "DS              38.73\n",
       "PSP             29.01\n",
       "PS2              0.45"
      ]
     },
     "execution_count": 32,
     "metadata": {},
     "output_type": "execute_result"
    }
   ],
   "source": [
    "#Построим сводную таблицу \n",
    "df_relevant_sales = df_relevant.pivot_table(index='platform', values='total_sales', aggfunc='sum').sort_values(by='total_sales', ascending=False)\n",
    "df_relevant_sales.head(15)"
   ]
  },
  {
   "cell_type": "markdown",
   "id": "9759d852",
   "metadata": {},
   "source": [
    "Из сводной таблицы видно, что наибольшие суммарные продажи в актуальном периоде имеют платформы (топ5) это PS3, X360, PS4,3DS, XOne. Мы видим, что произошли изменения в топ5 платформ. Сменился лидер, такие платформы как PS2,WII,DS не попали в топ в актуальном периоде. Вероятно, данные платформы устарели, на их место пришли новые версии платформ.\n",
    "\n",
    "Построим для этих платформ графики распределения суммарных продаж по годам."
   ]
  },
  {
   "cell_type": "code",
   "execution_count": 33,
   "id": "be329982",
   "metadata": {},
   "outputs": [
    {
     "data": {
      "text/plain": [
       "(2011.0, 2016.0)"
      ]
     },
     "execution_count": 33,
     "metadata": {},
     "output_type": "execute_result"
    },
    {
     "data": {
      "image/png": "[encoded data removed]",
      "text/plain": [
       "<Figure size 432x288 with 1 Axes>"
      ]
     },
     "metadata": {
      "needs_background": "light"
     },
     "output_type": "display_data"
    }
   ],
   "source": [
    "#Построим сводную таблицу \n",
    "relevant_sales_year = df_relevant.pivot_table(index = 'year_of_release', columns = 'platform',values='total_sales',aggfunc=sum)\n",
    "#Построим графики \n",
    "plt.plot(relevant_sales_year['PS3'], label = 'продажи PS3')\n",
    "plt.plot(relevant_sales_year['X360'], label = 'продажи X360')\n",
    "plt.plot(relevant_sales_year['PS4'], label = 'продажи PS4')\n",
    "plt.plot(relevant_sales_year['3DS'], label = 'продажи 3DS')\n",
    "plt.plot(relevant_sales_year['XOne'], label = 'продажи XOne')\n",
    "plt.title(\"Графики распределения суммарных продаж по годам платформ ТОП5 в актуальном периоде\")\n",
    "plt.xlabel(\"Год\")\n",
    "plt.ylabel(\"Сумма продаж\")\n",
    "plt.legend()\n",
    "plt.xlim([2011, 2016])"
   ]
  },
  {
   "cell_type": "code",
   "execution_count": 34,
   "id": "896099a7",
   "metadata": {},
   "outputs": [
    {
     "data": {
      "text/plain": [
       "31"
      ]
     },
     "execution_count": 34,
     "metadata": {},
     "output_type": "execute_result"
    }
   ],
   "source": [
    "#Количество платформ в исходной таблице\n",
    "len(df['platform'].unique())"
   ]
  },
  {
   "cell_type": "code",
   "execution_count": 35,
   "id": "388575b9",
   "metadata": {},
   "outputs": [
    {
     "data": {
      "text/plain": [
       "12"
      ]
     },
     "execution_count": 35,
     "metadata": {},
     "output_type": "execute_result"
    }
   ],
   "source": [
    "#Количество платформ в таблице с актуальном периодом\n",
    "len(df_relevant['platform'].unique())"
   ]
  },
  {
   "cell_type": "markdown",
   "id": "897879a9",
   "metadata": {},
   "source": [
    "В актуальном периоде, который мы выбрали, из 31 платформы остались  12. Из этих 12 платформ DS и PSP можно исключить из потенциально прибыльных платформ, т.к. DS прекратила свое существование, а у PS2 продажи практически равно нулю."
   ]
  },
  {
   "cell_type": "markdown",
   "id": "fabf2435",
   "metadata": {},
   "source": [
    "<b>3.4 Построим график «ящик с усами» по глобальным продажам игр в разбивке по платформам.</b>"
   ]
  },
  {
   "cell_type": "code",
   "execution_count": 36,
   "id": "40a58729",
   "metadata": {},
   "outputs": [
    {
     "data": {
      "text/plain": [
       "(0.0, 2.5)"
      ]
     },
     "execution_count": 36,
     "metadata": {},
     "output_type": "execute_result"
    },
    {
     "data": {
      "image/png": "[encoded data removed]",
      "text/plain": [
       "<Figure size 1080x1080 with 1 Axes>"
      ]
     },
     "metadata": {
      "needs_background": "light"
     },
     "output_type": "display_data"
    }
   ],
   "source": [
    "# Построим все \"ящики с усами\" на одном графике \n",
    "import seaborn as sns\n",
    "\n",
    "plt.figure(figsize=(15,15))\n",
    "sns.boxplot(data=df_relevant, x='total_sales', y='platform')\n",
    "plt.title(label='Диаграмма размаха по глобальным продажам игр в разбивке по платформам\\n', fontsize=15, fontweight=\"bold\")\n",
    "plt.xlabel(\"\\nСуммарные продажи\", fontsize=14, fontweight=\"bold\")\n",
    "plt.ylabel(\"Платформы\", fontsize=14, fontweight=\"bold\")\n",
    "plt.xlim(0, 2.5)"
   ]
  },
  {
   "cell_type": "markdown",
   "id": "8aa9764b",
   "metadata": {},
   "source": [
    "По данным диаграммам легко определить была ли популярна платформа в актуальный период времени. Определить можно по объему продаж, входящему в межквартильный размах и медианному значению, чем они выше тем популярнее платформа. Например, PS4, X360, XOne-популярны."
   ]
  },
  {
   "cell_type": "markdown",
   "id": "5b3ca6bb",
   "metadata": {},
   "source": [
    "<b>3.5 Зависимость продаж от оценок критиков и пользователей.</b>"
   ]
  },
  {
   "cell_type": "markdown",
   "id": "ea0a4d5c",
   "metadata": {},
   "source": [
    "Посмотрим, как влияют на продажи внутри одной популярной платформы(X360) отзывы пользователей и критиков. Построим диаграмму рассеяния и посчитаем корреляцию между отзывами и продажами."
   ]
  },
  {
   "cell_type": "code",
   "execution_count": 37,
   "id": "708bb88c",
   "metadata": {},
   "outputs": [
    {
     "data": {
      "text/plain": [
       "0.18029334885340623"
      ]
     },
     "execution_count": 37,
     "metadata": {},
     "output_type": "execute_result"
    }
   ],
   "source": [
    "#Корреляция между оценками пользователей и продажами \n",
    "X360 = df_relevant[df_relevant['platform']=='X360']\n",
    "X360['user_score'].corr(X360['total_sales'])"
   ]
  },
  {
   "cell_type": "markdown",
   "id": "7840c581",
   "metadata": {},
   "source": [
    "Коэффициент корреляции положительный, линейная связь есть, но слабая."
   ]
  },
  {
   "cell_type": "code",
   "execution_count": 38,
   "id": "c944f634",
   "metadata": {},
   "outputs": [
    {
     "data": {
      "text/plain": [
       "0.3144894832154614"
      ]
     },
     "execution_count": 38,
     "metadata": {},
     "output_type": "execute_result"
    }
   ],
   "source": [
    "#Корреляция между оценками критиков и продажами \n",
    "X360['critic_score'].corr(X360['total_sales'])"
   ]
  },
  {
   "cell_type": "markdown",
   "id": "331f7caa",
   "metadata": {},
   "source": [
    "Коэффициент корреляции положительный, линейная связь есть, но слабая.Однака, в данном случае коэффициент корреляции выше, следовательно продажи больше зависят от оценок критиков."
   ]
  },
  {
   "cell_type": "code",
   "execution_count": 39,
   "id": "057a9e66",
   "metadata": {},
   "outputs": [
    {
     "data": {
      "text/plain": [
       "<AxesSubplot:xlabel='user_score', ylabel='total_sales'>"
      ]
     },
     "execution_count": 39,
     "metadata": {},
     "output_type": "execute_result"
    },
    {
     "data": {
      "image/png": "[encoded data removed]",
      "text/plain": [
       "<Figure size 864x432 with 1 Axes>"
      ]
     },
     "metadata": {
      "needs_background": "light"
     },
     "output_type": "display_data"
    }
   ],
   "source": [
    "#Построим диаграмму рассеяния - оценка пользователей/продажи\n",
    "plt.figure(figsize=(12,6))\n",
    "sns.scatterplot(x='user_score', y='total_sales', data=X360)"
   ]
  },
  {
   "cell_type": "code",
   "execution_count": 40,
   "id": "7c972be1",
   "metadata": {},
   "outputs": [
    {
     "data": {
      "text/plain": [
       "<AxesSubplot:xlabel='critic_score', ylabel='total_sales'>"
      ]
     },
     "execution_count": 40,
     "metadata": {},
     "output_type": "execute_result"
    },
    {
     "data": {
      "image/png": "[encoded data removed]",
      "text/plain": [
       "<Figure size 864x432 with 1 Axes>"
      ]
     },
     "metadata": {
      "needs_background": "light"
     },
     "output_type": "display_data"
    }
   ],
   "source": [
    "#Построим диаграмму рассеяния - оценка пользователей/продажи\n",
    "plt.figure(figsize=(12,6))\n",
    "sns.scatterplot(x='critic_score', y='total_sales', data=X360)"
   ]
  },
  {
   "cell_type": "markdown",
   "id": "56dfec8f",
   "metadata": {},
   "source": [
    "Итак,на продажи больше влияет оценка критиков, чем  оценкам других пользователей."
   ]
  },
  {
   "cell_type": "markdown",
   "id": "c317859c",
   "metadata": {},
   "source": [
    "Соотнесем вывод по Х360 с продажами игр на других платформах, входящих в топ5 в актуальном периоде."
   ]
  },
  {
   "cell_type": "code",
   "execution_count": 41,
   "id": "6d64b209",
   "metadata": {},
   "outputs": [
    {
     "data": {
      "image/png": "[encoded data removed]",
      "text/plain": [
       "<Figure size 432x288 with 1 Axes>"
      ]
     },
     "metadata": {
      "needs_background": "light"
     },
     "output_type": "display_data"
    },
    {
     "data": {
      "image/png": "[encoded data removed]",
      "text/plain": [
       "<Figure size 432x288 with 1 Axes>"
      ]
     },
     "metadata": {
      "needs_background": "light"
     },
     "output_type": "display_data"
    },
    {
     "data": {
      "image/png": "[encoded data removed]",
      "text/plain": [
       "<Figure size 432x288 with 1 Axes>"
      ]
     },
     "metadata": {
      "needs_background": "light"
     },
     "output_type": "display_data"
    },
    {
     "data": {
      "image/png": "[encoded data removed]",
      "text/plain": [
       "<Figure size 432x288 with 1 Axes>"
      ]
     },
     "metadata": {
      "needs_background": "light"
     },
     "output_type": "display_data"
    }
   ],
   "source": [
    "#Построим диаграммы рассеяния по оценке пользователей и продажам по другим платформам, входящих в топ5 в актуальном периоде \n",
    "#Определим корреляцию между оценками пользователей и продажами \n",
    "PS3 = df_relevant[df_relevant['platform']=='PS3']\n",
    "PS4 = df_relevant[df_relevant['platform']=='PS4']\n",
    "DS3 = df_relevant[df_relevant['platform']=='3DS']\n",
    "XOne = df_relevant[df_relevant['platform']=='XOne']\n",
    "sns.scatterplot(x='user_score', y='total_sales', data=PS3)\n",
    "plt.suptitle('Зависимость продаж от оценок пользователей на платформе PS3')\n",
    "plt.show()\n",
    "sns.scatterplot(x='user_score', y='total_sales', data=PS4)\n",
    "plt.suptitle('Зависимость продаж от оценок пользователей на платформе PS4')\n",
    "plt.show()\n",
    "sns.scatterplot(x='user_score', y='total_sales', data=DS3)\n",
    "plt.suptitle('Зависимость продаж от оценок пользователей на платформе DS3')\n",
    "plt.show()\n",
    "sns.scatterplot(x='user_score', y='total_sales', data=XOne)\n",
    "plt.suptitle('Зависимость продаж от оценок пользователей на платформе XOne')\n",
    "plt.show()"
   ]
  },
  {
   "cell_type": "code",
   "execution_count": 42,
   "id": "4416f5df",
   "metadata": {},
   "outputs": [
    {
     "data": {
      "text/plain": [
       "0.23271960193485092"
      ]
     },
     "execution_count": 42,
     "metadata": {},
     "output_type": "execute_result"
    }
   ],
   "source": [
    "PS3['user_score'].corr(PS3['total_sales'])"
   ]
  },
  {
   "cell_type": "code",
   "execution_count": 43,
   "id": "6b6b6dcd",
   "metadata": {},
   "outputs": [
    {
     "data": {
      "text/plain": [
       "0.1159614931286009"
      ]
     },
     "execution_count": 43,
     "metadata": {},
     "output_type": "execute_result"
    }
   ],
   "source": [
    "PS4['user_score'].corr(PS4['total_sales'])"
   ]
  },
  {
   "cell_type": "code",
   "execution_count": 44,
   "id": "8b3a4a37",
   "metadata": {},
   "outputs": [
    {
     "data": {
      "text/plain": [
       "0.14642620870246353"
      ]
     },
     "execution_count": 44,
     "metadata": {},
     "output_type": "execute_result"
    }
   ],
   "source": [
    "DS3['user_score'].corr(DS3['total_sales'])"
   ]
  },
  {
   "cell_type": "code",
   "execution_count": 45,
   "id": "90cc9d9c",
   "metadata": {},
   "outputs": [
    {
     "data": {
      "text/plain": [
       "0.12171152458232884"
      ]
     },
     "execution_count": 45,
     "metadata": {},
     "output_type": "execute_result"
    }
   ],
   "source": [
    "XOne['user_score'].corr(XOne['total_sales'])"
   ]
  },
  {
   "cell_type": "code",
   "execution_count": 46,
   "id": "78375618",
   "metadata": {},
   "outputs": [
    {
     "data": {
      "image/png": "[encoded data removed]",
      "text/plain": [
       "<Figure size 432x288 with 1 Axes>"
      ]
     },
     "metadata": {
      "needs_background": "light"
     },
     "output_type": "display_data"
    },
    {
     "data": {
      "image/png": "[encoded data removed]",
      "text/plain": [
       "<Figure size 432x288 with 1 Axes>"
      ]
     },
     "metadata": {
      "needs_background": "light"
     },
     "output_type": "display_data"
    },
    {
     "data": {
      "image/png": "[encoded data removed]",
      "text/plain": [
       "<Figure size 432x288 with 1 Axes>"
      ]
     },
     "metadata": {
      "needs_background": "light"
     },
     "output_type": "display_data"
    },
    {
     "data": {
      "image/png": "[encoded data removed]",
      "text/plain": [
       "<Figure size 432x288 with 1 Axes>"
      ]
     },
     "metadata": {
      "needs_background": "light"
     },
     "output_type": "display_data"
    }
   ],
   "source": [
    "#Построим диаграммы рассеяния по оценке критиков и продажам по другим платформам, входящих в топ5 в актуальном периоде \n",
    "#Определим корреляцию между оценками пользователей и продажами \n",
    "sns.scatterplot(x='critic_score', y='total_sales', data=PS3)\n",
    "plt.suptitle('Зависимость продаж от оценок критиков на платформе PS3')\n",
    "plt.show()\n",
    "sns.scatterplot(x='critic_score', y='total_sales', data=PS4)\n",
    "plt.suptitle('Зависимость продаж от оценок критиков на платформе PS4')\n",
    "plt.show()\n",
    "sns.scatterplot(x='critic_score', y='total_sales', data=DS3)\n",
    "plt.suptitle('Зависимость продаж от оценок критиков на платформе DS3')\n",
    "plt.show()\n",
    "sns.scatterplot(x='critic_score', y='total_sales', data=XOne)\n",
    "plt.suptitle('Зависимость продаж от оценок критиков на платформе XOne')\n",
    "plt.show()"
   ]
  },
  {
   "cell_type": "code",
   "execution_count": 47,
   "id": "0cdf0dd5",
   "metadata": {},
   "outputs": [
    {
     "data": {
      "text/plain": [
       "0.3233822283130729"
      ]
     },
     "execution_count": 47,
     "metadata": {},
     "output_type": "execute_result"
    }
   ],
   "source": [
    "PS3['critic_score'].corr(PS3['total_sales'])"
   ]
  },
  {
   "cell_type": "code",
   "execution_count": 48,
   "id": "11e2c8af",
   "metadata": {},
   "outputs": [
    {
     "data": {
      "text/plain": [
       "0.22652606614612347"
      ]
     },
     "execution_count": 48,
     "metadata": {},
     "output_type": "execute_result"
    }
   ],
   "source": [
    "PS4['critic_score'].corr(PS4['total_sales'])"
   ]
  },
  {
   "cell_type": "code",
   "execution_count": 49,
   "id": "751a72ac",
   "metadata": {},
   "outputs": [
    {
     "data": {
      "text/plain": [
       "0.16638104774453372"
      ]
     },
     "execution_count": 49,
     "metadata": {},
     "output_type": "execute_result"
    }
   ],
   "source": [
    "DS3['critic_score'].corr(DS3['total_sales'])"
   ]
  },
  {
   "cell_type": "code",
   "execution_count": 50,
   "id": "1ecaed95",
   "metadata": {},
   "outputs": [
    {
     "data": {
      "text/plain": [
       "0.27378217261702115"
      ]
     },
     "execution_count": 50,
     "metadata": {},
     "output_type": "execute_result"
    }
   ],
   "source": [
    "XOne['critic_score'].corr(XOne['total_sales'])"
   ]
  },
  {
   "cell_type": "markdown",
   "id": "154313e8",
   "metadata": {},
   "source": [
    "У всех платформ присутствуем корреляция(хоть и слабая), между оценками пользователей и критиков к продажам.\n",
    "Оценка пользователей слабо влияет на продажи. Покупатели прислушиваются больше к критикам чем к оценкам других пользователей."
   ]
  },
  {
   "cell_type": "markdown",
   "id": "2a479acc",
   "metadata": {},
   "source": [
    "<b>3.6 Общее распределение игр по жанрам.</b>"
   ]
  },
  {
   "cell_type": "markdown",
   "id": "b1c852d8",
   "metadata": {},
   "source": [
    "Оценим количественное распределение по жанрам в актуальном периоде."
   ]
  },
  {
   "cell_type": "code",
   "execution_count": 51,
   "id": "a094c27a",
   "metadata": {},
   "outputs": [
    {
     "data": {
      "text/plain": [
       "<AxesSubplot:ylabel='genre'>"
      ]
     },
     "execution_count": 51,
     "metadata": {},
     "output_type": "execute_result"
    },
    {
     "data": {
      "image/png": "[encoded data removed]",
      "text/plain": [
       "<Figure size 720x720 with 1 Axes>"
      ]
     },
     "metadata": {},
     "output_type": "display_data"
    }
   ],
   "source": [
    "df_relevant['genre'].value_counts().plot(kind='pie', figsize=(10, 10), legend=False)"
   ]
  },
  {
   "cell_type": "markdown",
   "id": "b9aef0f8",
   "metadata": {},
   "source": [
    "Жанр Action самый многочисленный, далее идут игры ролевые, приключения и спортивные. Наименьшее количество игр в жанре Puzzle."
   ]
  },
  {
   "cell_type": "markdown",
   "id": "a1d29a71",
   "metadata": {},
   "source": [
    "Определим как распределяются суммарные продажи в зависимости от жанра игры."
   ]
  },
  {
   "cell_type": "code",
   "execution_count": 52,
   "id": "8bd017e4",
   "metadata": {},
   "outputs": [
    {
     "data": {
      "text/plain": [
       "<AxesSubplot:xlabel='genre'>"
      ]
     },
     "execution_count": 52,
     "metadata": {},
     "output_type": "execute_result"
    },
    {
     "data": {
      "image/png": "[encoded data removed]",
      "text/plain": [
       "<Figure size 720x360 with 1 Axes>"
      ]
     },
     "metadata": {
      "needs_background": "light"
     },
     "output_type": "display_data"
    }
   ],
   "source": [
    "df_relevant.pivot_table(index='genre', aggfunc={'total_sales':sum}).sort_values(by='total_sales', ascending=False).plot(y='total_sales', kind='bar', figsize=(10, 5))\n"
   ]
  },
  {
   "cell_type": "markdown",
   "id": "e3008953",
   "metadata": {},
   "source": [
    "Определим как распределяются медианные продажи в зависимости от жанра игры."
   ]
  },
  {
   "cell_type": "code",
   "execution_count": 53,
   "id": "92d25ada",
   "metadata": {},
   "outputs": [
    {
     "data": {
      "text/plain": [
       "<AxesSubplot:xlabel='genre'>"
      ]
     },
     "execution_count": 53,
     "metadata": {},
     "output_type": "execute_result"
    },
    {
     "data": {
      "image/png": "[encoded data removed]",
      "text/plain": [
       "<Figure size 720x360 with 1 Axes>"
      ]
     },
     "metadata": {
      "needs_background": "light"
     },
     "output_type": "display_data"
    }
   ],
   "source": [
    "df_relevant.pivot_table(index='genre', aggfunc={'total_sales':'median'}).sort_values(by='total_sales', ascending=False).plot(y='total_sales', kind='bar', figsize=(10, 5))"
   ]
  },
  {
   "cell_type": "markdown",
   "id": "2a3a8265",
   "metadata": {},
   "source": [
    "ПО СУММАРНЫМ ПРОДАЖАМ: Жанр Action лидирует, далее идут игры жанра Shooter и Role-playing. Игры жанра Adventure в конце списка. Несмотря на то, что производят их довольно много продаются они крайне плохо по сравнению с остальными жанрами. Жанр Puzzle замыкает список."
   ]
  },
  {
   "cell_type": "markdown",
   "id": "ce3d49ea",
   "metadata": {},
   "source": [
    "ПО МЕДИАННЫМ ПРОДАЖАМ: Жанр Shooter лидирует, далее идут игры жанра Platform и Sports. Жанры Puzzle и Adventure также замыкают список."
   ]
  },
  {
   "cell_type": "markdown",
   "id": "b1dc3a18",
   "metadata": {},
   "source": [
    "### Шаг 4. Портрет пользователя каждого региона (NA, EA, JP)"
   ]
  },
  {
   "cell_type": "markdown",
   "id": "10da606e",
   "metadata": {},
   "source": [
    "<b>4.1 Самые популярные платформы (топ-5).</b>"
   ]
  },
  {
   "cell_type": "code",
   "execution_count": 54,
   "id": "3f74d1e8",
   "metadata": {},
   "outputs": [
    {
     "data": {
      "text/html": [
       "<div>\n",
       "<style scoped>\n",
       "    .dataframe tbody tr th:only-of-type {\n",
       "        vertical-align: middle;\n",
       "    }\n",
       "\n",
       "    .dataframe tbody tr th {\n",
       "        vertical-align: top;\n",
       "    }\n",
       "\n",
       "    .dataframe thead th {\n",
       "        text-align: right;\n",
       "    }\n",
       "</style>\n",
       "<table border=\"1\" class=\"dataframe\">\n",
       "  <thead>\n",
       "    <tr style=\"text-align: right;\">\n",
       "      <th></th>\n",
       "      <th>eu_sales</th>\n",
       "      <th>jp_sales</th>\n",
       "      <th>na_sales</th>\n",
       "    </tr>\n",
       "    <tr>\n",
       "      <th>platform</th>\n",
       "      <th></th>\n",
       "      <th></th>\n",
       "      <th></th>\n",
       "    </tr>\n",
       "  </thead>\n",
       "  <tbody>\n",
       "    <tr>\n",
       "      <th>3DS</th>\n",
       "      <td>61.27</td>\n",
       "      <td>100.62</td>\n",
       "      <td>82.65</td>\n",
       "    </tr>\n",
       "    <tr>\n",
       "      <th>DS</th>\n",
       "      <td>9.24</td>\n",
       "      <td>8.04</td>\n",
       "      <td>18.86</td>\n",
       "    </tr>\n",
       "    <tr>\n",
       "      <th>PC</th>\n",
       "      <td>56.70</td>\n",
       "      <td>0.00</td>\n",
       "      <td>29.88</td>\n",
       "    </tr>\n",
       "    <tr>\n",
       "      <th>PS2</th>\n",
       "      <td>0.13</td>\n",
       "      <td>0.09</td>\n",
       "      <td>0.13</td>\n",
       "    </tr>\n",
       "    <tr>\n",
       "      <th>PS3</th>\n",
       "      <td>163.10</td>\n",
       "      <td>49.39</td>\n",
       "      <td>168.26</td>\n",
       "    </tr>\n",
       "    <tr>\n",
       "      <th>PS4</th>\n",
       "      <td>141.09</td>\n",
       "      <td>15.96</td>\n",
       "      <td>108.74</td>\n",
       "    </tr>\n",
       "    <tr>\n",
       "      <th>PSP</th>\n",
       "      <td>1.77</td>\n",
       "      <td>24.04</td>\n",
       "      <td>2.19</td>\n",
       "    </tr>\n",
       "    <tr>\n",
       "      <th>PSV</th>\n",
       "      <td>13.07</td>\n",
       "      <td>21.84</td>\n",
       "      <td>12.47</td>\n",
       "    </tr>\n",
       "    <tr>\n",
       "      <th>Wii</th>\n",
       "      <td>29.60</td>\n",
       "      <td>8.97</td>\n",
       "      <td>48.56</td>\n",
       "    </tr>\n",
       "    <tr>\n",
       "      <th>WiiU</th>\n",
       "      <td>25.13</td>\n",
       "      <td>13.01</td>\n",
       "      <td>38.10</td>\n",
       "    </tr>\n",
       "    <tr>\n",
       "      <th>X360</th>\n",
       "      <td>117.10</td>\n",
       "      <td>3.35</td>\n",
       "      <td>226.80</td>\n",
       "    </tr>\n",
       "    <tr>\n",
       "      <th>XOne</th>\n",
       "      <td>51.59</td>\n",
       "      <td>0.34</td>\n",
       "      <td>93.12</td>\n",
       "    </tr>\n",
       "  </tbody>\n",
       "</table>\n",
       "</div>"
      ],
      "text/plain": [
       "          eu_sales  jp_sales  na_sales\n",
       "platform                              \n",
       "3DS          61.27    100.62     82.65\n",
       "DS            9.24      8.04     18.86\n",
       "PC           56.70      0.00     29.88\n",
       "PS2           0.13      0.09      0.13\n",
       "PS3         163.10     49.39    168.26\n",
       "PS4         141.09     15.96    108.74\n",
       "PSP           1.77     24.04      2.19\n",
       "PSV          13.07     21.84     12.47\n",
       "Wii          29.60      8.97     48.56\n",
       "WiiU         25.13     13.01     38.10\n",
       "X360        117.10      3.35    226.80\n",
       "XOne         51.59      0.34     93.12"
      ]
     },
     "execution_count": 54,
     "metadata": {},
     "output_type": "execute_result"
    }
   ],
   "source": [
    "#Посчитаем суммарные продажи по платформам \n",
    "top5_platforms_per_region = (df_relevant.pivot_table(index='platform', aggfunc={'na_sales':sum, 'eu_sales':sum, 'jp_sales':sum}))   \n",
    "top5_platforms_per_region"
   ]
  },
  {
   "cell_type": "code",
   "execution_count": 55,
   "id": "b73f346a",
   "metadata": {},
   "outputs": [
    {
     "data": {
      "image/png": "[encoded data removed]",
      "text/plain": [
       "<Figure size 720x360 with 1 Axes>"
      ]
     },
     "metadata": {
      "needs_background": "light"
     },
     "output_type": "display_data"
    },
    {
     "data": {
      "image/png": "[encoded data removed]",
      "text/plain": [
       "<Figure size 720x360 with 1 Axes>"
      ]
     },
     "metadata": {
      "needs_background": "light"
     },
     "output_type": "display_data"
    },
    {
     "data": {
      "image/png": "[encoded data removed]",
      "text/plain": [
       "<Figure size 720x360 with 1 Axes>"
      ]
     },
     "metadata": {
      "needs_background": "light"
     },
     "output_type": "display_data"
    }
   ],
   "source": [
    "#Построим графики распределения продаж по платформам оставив топ5:\n",
    "# список регионов для цикла\n",
    "region = ['eu_sales', 'na_sales', 'jp_sales']\n",
    "\n",
    "for i in range(0, 3):\n",
    "    (top5_platforms_per_region\n",
    "     .nlargest(5, columns=region[i])\n",
    "     .plot(y=region[i], kind='bar', figsize=(10, 5), title=region[i]+'_top_5_platforms'))"
   ]
  },
  {
   "cell_type": "markdown",
   "id": "20a10761",
   "metadata": {},
   "source": [
    "В Европе самая популярная платформа PS3, в Северной Америке X360, в Японии - Nintendo 3DS. "
   ]
  },
  {
   "cell_type": "markdown",
   "id": "e19cfab2",
   "metadata": {},
   "source": [
    "<b>4.2 Самые популярные жанры (топ-5).</b>"
   ]
  },
  {
   "cell_type": "code",
   "execution_count": 56,
   "id": "222c742c",
   "metadata": {},
   "outputs": [
    {
     "data": {
      "text/html": [
       "<div>\n",
       "<style scoped>\n",
       "    .dataframe tbody tr th:only-of-type {\n",
       "        vertical-align: middle;\n",
       "    }\n",
       "\n",
       "    .dataframe tbody tr th {\n",
       "        vertical-align: top;\n",
       "    }\n",
       "\n",
       "    .dataframe thead th {\n",
       "        text-align: right;\n",
       "    }\n",
       "</style>\n",
       "<table border=\"1\" class=\"dataframe\">\n",
       "  <thead>\n",
       "    <tr style=\"text-align: right;\">\n",
       "      <th></th>\n",
       "      <th>eu_sales</th>\n",
       "      <th>jp_sales</th>\n",
       "      <th>na_sales</th>\n",
       "    </tr>\n",
       "    <tr>\n",
       "      <th>genre</th>\n",
       "      <th></th>\n",
       "      <th></th>\n",
       "      <th></th>\n",
       "    </tr>\n",
       "  </thead>\n",
       "  <tbody>\n",
       "    <tr>\n",
       "      <th>Action</th>\n",
       "      <td>199.12</td>\n",
       "      <td>63.62</td>\n",
       "      <td>230.92</td>\n",
       "    </tr>\n",
       "    <tr>\n",
       "      <th>Adventure</th>\n",
       "      <td>13.96</td>\n",
       "      <td>12.07</td>\n",
       "      <td>14.76</td>\n",
       "    </tr>\n",
       "    <tr>\n",
       "      <th>Fighting</th>\n",
       "      <td>16.24</td>\n",
       "      <td>12.38</td>\n",
       "      <td>31.63</td>\n",
       "    </tr>\n",
       "    <tr>\n",
       "      <th>Misc</th>\n",
       "      <td>39.72</td>\n",
       "      <td>17.60</td>\n",
       "      <td>69.69</td>\n",
       "    </tr>\n",
       "    <tr>\n",
       "      <th>Platform</th>\n",
       "      <td>30.07</td>\n",
       "      <td>12.13</td>\n",
       "      <td>38.28</td>\n",
       "    </tr>\n",
       "    <tr>\n",
       "      <th>Puzzle</th>\n",
       "      <td>3.56</td>\n",
       "      <td>2.91</td>\n",
       "      <td>2.74</td>\n",
       "    </tr>\n",
       "    <tr>\n",
       "      <th>Racing</th>\n",
       "      <td>40.58</td>\n",
       "      <td>5.64</td>\n",
       "      <td>31.98</td>\n",
       "    </tr>\n",
       "    <tr>\n",
       "      <th>Role-Playing</th>\n",
       "      <td>62.30</td>\n",
       "      <td>79.87</td>\n",
       "      <td>83.78</td>\n",
       "    </tr>\n",
       "    <tr>\n",
       "      <th>Shooter</th>\n",
       "      <td>148.02</td>\n",
       "      <td>11.92</td>\n",
       "      <td>194.43</td>\n",
       "    </tr>\n",
       "    <tr>\n",
       "      <th>Simulation</th>\n",
       "      <td>19.72</td>\n",
       "      <td>11.64</td>\n",
       "      <td>15.37</td>\n",
       "    </tr>\n",
       "    <tr>\n",
       "      <th>Sports</th>\n",
       "      <td>88.48</td>\n",
       "      <td>11.09</td>\n",
       "      <td>108.70</td>\n",
       "    </tr>\n",
       "    <tr>\n",
       "      <th>Strategy</th>\n",
       "      <td>8.02</td>\n",
       "      <td>4.78</td>\n",
       "      <td>7.48</td>\n",
       "    </tr>\n",
       "  </tbody>\n",
       "</table>\n",
       "</div>"
      ],
      "text/plain": [
       "              eu_sales  jp_sales  na_sales\n",
       "genre                                     \n",
       "Action          199.12     63.62    230.92\n",
       "Adventure        13.96     12.07     14.76\n",
       "Fighting         16.24     12.38     31.63\n",
       "Misc             39.72     17.60     69.69\n",
       "Platform         30.07     12.13     38.28\n",
       "Puzzle            3.56      2.91      2.74\n",
       "Racing           40.58      5.64     31.98\n",
       "Role-Playing     62.30     79.87     83.78\n",
       "Shooter         148.02     11.92    194.43\n",
       "Simulation       19.72     11.64     15.37\n",
       "Sports           88.48     11.09    108.70\n",
       "Strategy          8.02      4.78      7.48"
      ]
     },
     "execution_count": 56,
     "metadata": {},
     "output_type": "execute_result"
    }
   ],
   "source": [
    "#Посчитаем суммарные продажи по жанрам\n",
    "top5_genre_per_region = (df_relevant.pivot_table(index='genre', aggfunc={'na_sales':sum, 'eu_sales':sum, 'jp_sales':sum}))   \n",
    "top5_genre_per_region"
   ]
  },
  {
   "cell_type": "code",
   "execution_count": 57,
   "id": "f0fd91b6",
   "metadata": {},
   "outputs": [
    {
     "data": {
      "image/png": "[encoded data removed]",
      "text/plain": [
       "<Figure size 720x360 with 1 Axes>"
      ]
     },
     "metadata": {
      "needs_background": "light"
     },
     "output_type": "display_data"
    },
    {
     "data": {
      "image/png": "[encoded data removed]",
      "text/plain": [
       "<Figure size 720x360 with 1 Axes>"
      ]
     },
     "metadata": {
      "needs_background": "light"
     },
     "output_type": "display_data"
    },
    {
     "data": {
      "image/png": "[encoded data removed]",
      "text/plain": [
       "<Figure size 720x360 with 1 Axes>"
      ]
     },
     "metadata": {
      "needs_background": "light"
     },
     "output_type": "display_data"
    }
   ],
   "source": [
    "#Построим графики распределения продаж по жанрам оставив топ5:\n",
    "for i in range(0, 3):\n",
    "    (top5_genre_per_region\n",
    "     .nlargest(5, columns=region[i])\n",
    "     .plot(y=region[i], kind='bar', figsize=(10, 5), title=region[i]+'_top_5_genre'))"
   ]
  },
  {
   "cell_type": "markdown",
   "id": "1d577ab0",
   "metadata": {},
   "source": [
    "Пользователи Европы и Северной Америки почти не различаются, за исключением последнего жанра: в Европе это гонки, а в Северной Америке - другое. Пользователи Японии  предпочитают ролевые игры. В Японии жанры Role и Action лидеры в продажах с резким отрывом от остальных жанров."
   ]
  },
  {
   "cell_type": "markdown",
   "id": "fdf1d70a",
   "metadata": {},
   "source": [
    "<b>4.3 Влияние  рейтинга ESRB на продажи в отдельном регионе</b>"
   ]
  },
  {
   "cell_type": "code",
   "execution_count": 58,
   "id": "7a66d189",
   "metadata": {},
   "outputs": [
    {
     "data": {
      "text/html": [
       "<div>\n",
       "<style scoped>\n",
       "    .dataframe tbody tr th:only-of-type {\n",
       "        vertical-align: middle;\n",
       "    }\n",
       "\n",
       "    .dataframe tbody tr th {\n",
       "        vertical-align: top;\n",
       "    }\n",
       "\n",
       "    .dataframe thead th {\n",
       "        text-align: right;\n",
       "    }\n",
       "</style>\n",
       "<table border=\"1\" class=\"dataframe\">\n",
       "  <thead>\n",
       "    <tr style=\"text-align: right;\">\n",
       "      <th></th>\n",
       "      <th>eu_sales</th>\n",
       "      <th>jp_sales</th>\n",
       "      <th>na_sales</th>\n",
       "    </tr>\n",
       "    <tr>\n",
       "      <th>rating</th>\n",
       "      <th></th>\n",
       "      <th></th>\n",
       "      <th></th>\n",
       "    </tr>\n",
       "  </thead>\n",
       "  <tbody>\n",
       "    <tr>\n",
       "      <th>E</th>\n",
       "      <td>141.73</td>\n",
       "      <td>36.68</td>\n",
       "      <td>170.17</td>\n",
       "    </tr>\n",
       "    <tr>\n",
       "      <th>E10+</th>\n",
       "      <td>78.00</td>\n",
       "      <td>11.23</td>\n",
       "      <td>117.72</td>\n",
       "    </tr>\n",
       "    <tr>\n",
       "      <th>EC</th>\n",
       "      <td>0.00</td>\n",
       "      <td>0.00</td>\n",
       "      <td>0.42</td>\n",
       "    </tr>\n",
       "    <tr>\n",
       "      <th>M</th>\n",
       "      <td>250.26</td>\n",
       "      <td>26.14</td>\n",
       "      <td>308.45</td>\n",
       "    </tr>\n",
       "    <tr>\n",
       "      <th>RP</th>\n",
       "      <td>0.03</td>\n",
       "      <td>0.00</td>\n",
       "      <td>0.00</td>\n",
       "    </tr>\n",
       "    <tr>\n",
       "      <th>T</th>\n",
       "      <td>83.16</td>\n",
       "      <td>33.39</td>\n",
       "      <td>109.31</td>\n",
       "    </tr>\n",
       "    <tr>\n",
       "      <th>unknown</th>\n",
       "      <td>116.61</td>\n",
       "      <td>138.21</td>\n",
       "      <td>123.69</td>\n",
       "    </tr>\n",
       "  </tbody>\n",
       "</table>\n",
       "</div>"
      ],
      "text/plain": [
       "         eu_sales  jp_sales  na_sales\n",
       "rating                               \n",
       "E          141.73     36.68    170.17\n",
       "E10+        78.00     11.23    117.72\n",
       "EC           0.00      0.00      0.42\n",
       "M          250.26     26.14    308.45\n",
       "RP           0.03      0.00      0.00\n",
       "T           83.16     33.39    109.31\n",
       "unknown    116.61    138.21    123.69"
      ]
     },
     "execution_count": 58,
     "metadata": {},
     "output_type": "execute_result"
    }
   ],
   "source": [
    "#Построим сводную таблицу\n",
    "rating_sum = df_relevant.pivot_table(index='rating', aggfunc={'na_sales':sum, 'eu_sales':sum, 'jp_sales':sum})\n",
    "rating_sum"
   ]
  },
  {
   "cell_type": "code",
   "execution_count": 59,
   "id": "a00d4f3e",
   "metadata": {},
   "outputs": [
    {
     "data": {
      "image/png": "[encoded data removed]",
      "text/plain": [
       "<Figure size 720x360 with 1 Axes>"
      ]
     },
     "metadata": {
      "needs_background": "light"
     },
     "output_type": "display_data"
    },
    {
     "data": {
      "image/png": "[encoded data removed]",
      "text/plain": [
       "<Figure size 720x360 with 1 Axes>"
      ]
     },
     "metadata": {
      "needs_background": "light"
     },
     "output_type": "display_data"
    },
    {
     "data": {
      "image/png": "[encoded data removed]",
      "text/plain": [
       "<Figure size 720x360 with 1 Axes>"
      ]
     },
     "metadata": {
      "needs_background": "light"
     },
     "output_type": "display_data"
    }
   ],
   "source": [
    "#Построим графики распределения продаж в зависимости от рейтинга:\n",
    "for i in range(0, 3):\n",
    "    (rating_sum\n",
    "     .nlargest(5, columns=region[i])\n",
    "     .sort_values(by=region[i], ascending=False)\n",
    "     .plot(y=region[i], kind='bar', figsize=(10, 5), title=region[i]+'_rating'))"
   ]
  },
  {
   "cell_type": "markdown",
   "id": "8fcb976c",
   "metadata": {},
   "source": [
    "В Америке и Европе практически идентичное распределение продаж в зависимости от рейтингов: преобладают, с большим отрывом, игры с рейтингом М, далее идут игры с рейтингом Е, на третьем месте игры с неизвестным рейтингом.\n",
    "В Японии лидируют игры с неизвестным рейтингом с большим отрывом, меньше всего популярны игры 10+.\n",
    "\n",
    "В целом можно сказать, что американцы и европейцы схожи в выборе платформ, жанров и возрастного рейтинга игр. Т.е. портреты пользователей идентичны. Японцы сильно отличаются в предпочтениях от западных пользователей."
   ]
  },
  {
   "cell_type": "markdown",
   "id": "ff983c52",
   "metadata": {},
   "source": [
    "### Шаг 5. Проверка гипотез"
   ]
  },
  {
   "cell_type": "markdown",
   "id": "8d61b40b",
   "metadata": {},
   "source": [
    "1. Средние пользовательские рейтинги платформ Xbox One и PC одинаковые;"
   ]
  },
  {
   "cell_type": "markdown",
   "id": "6ba33407",
   "metadata": {},
   "source": [
    "Сформулируем нулевые гипотезы:\n",
    "\n",
    "Нулевая гипотеза H₀: Средние пользовательские рейтинги платформ Xbox One и PC одинаковые;\n",
    "\n",
    "Альтернативная гипотеза H₁: Средние пользовательские рейтинги платформ Xbox One и PC различаются.\n",
    "\n",
    "Альтернативная гипотеза двусторонняя, т.к. средний рейтинг может отличаться как в большую, так и в меньшую сторону.\n",
    "\n",
    "Чтобы проверить двустороннюю гипотезу о равенстве средних двух выборок применим метод scipy.stats.ttest_ind (array1, array2, equal_var), где equal_var - параметр, задающий считать ли равными дисперсии выборок. Поэтому, сначала определим дисперсии выборок. "
   ]
  },
  {
   "cell_type": "code",
   "execution_count": 64,
   "id": "6c89505d",
   "metadata": {},
   "outputs": [
    {
     "name": "stdout",
     "output_type": "stream",
     "text": [
      "Дисперсия платформы Xbox One: 1.91\n",
      "Дисперсия платформы PC: 2.6\n"
     ]
    }
   ],
   "source": [
    "# удалим из выборки отрицательные значения, которыми ранее заменили пропуски чтобы они не влияли на распределения\n",
    "import numpy as np\n",
    "from scipy import stats as st\n",
    "xbox_one_ttest = df_relevant[(df_relevant['platform']=='XOne')&(df_relevant['user_score'] >= 0)]['user_score']\n",
    "pc_ttest = df_relevant[(df_relevant['platform']=='PC')&(df_relevant['user_score'] >= 0)]['user_score']\n",
    "\n",
    "# проверим дисперсии рассматриваемых выборок\n",
    "xbox_one_ttest_var = np.var(xbox_one_ttest, ddof=1)\n",
    "pc_ttest_var = np.var(pc_ttest, ddof=1)\n",
    "\n",
    "print('Дисперсия платформы Xbox One:', round(xbox_one_ttest_var, 2))\n",
    "print('Дисперсия платформы PC:', round(pc_ttest_var, 2))"
   ]
  },
  {
   "cell_type": "markdown",
   "id": "65d61f46",
   "metadata": {},
   "source": [
    "Разница между дисперсиями выборок составляет 0,69, поэтому считать дисперсии выборок равными нельзя, поэтому зададим аргумент equal_var=False."
   ]
  },
  {
   "cell_type": "code",
   "execution_count": 65,
   "id": "9c50e35b",
   "metadata": {},
   "outputs": [
    {
     "name": "stdout",
     "output_type": "stream",
     "text": [
      "p-значение:  0.6130712247638477\n",
      "Не получилось отвергнуть нулевую гипотезу\n"
     ]
    }
   ],
   "source": [
    "# уровень значимости 5%\n",
    "alpha = 0.05\n",
    "\n",
    "results = st.ttest_ind(xbox_one_ttest, pc_ttest, equal_var=False)\n",
    "\n",
    "print('p-значение: ', results.pvalue)\n",
    "\n",
    "if results.pvalue < alpha:\n",
    "    print(\"Отвергаем нулевую гипотезу\")\n",
    "else:\n",
    "    print(\"Не получилось отвергнуть нулевую гипотезу\")"
   ]
  },
  {
   "cell_type": "markdown",
   "id": "8fd61a89",
   "metadata": {},
   "source": [
    "р-уровень значимости составил 61,3%, что значительно выше 5%, следовательно у нас нет оснований утверждать, что средние пользовательские рейтинги платформ Xbox One и PC значимо различаются."
   ]
  },
  {
   "cell_type": "markdown",
   "id": "a839fa95",
   "metadata": {},
   "source": [
    "2. Средние пользовательские рейтинги жанров Action (англ. «действие», экшен-игры) и Sports (англ. «спортивные соревнования») разные."
   ]
  },
  {
   "cell_type": "markdown",
   "id": "18a02ff1",
   "metadata": {},
   "source": [
    "Сформулируем нулевые гипотезы:\n",
    "\n",
    "Нулевая гипотеза H₀: Средние пользовательские рейтинги жанров Action и Sports одинаковые.\n",
    "Альтернативная гипотеза H₁: Средние пользовательские рейтинги жанров Action и Sports различаются.\n",
    "\n",
    "В данной двусторонней гипотезе нам также нужно сравнить средние двух выборок, поэтому применим тот же тест ttest_ind."
   ]
  },
  {
   "cell_type": "code",
   "execution_count": 66,
   "id": "e1bb86c8",
   "metadata": {},
   "outputs": [
    {
     "name": "stdout",
     "output_type": "stream",
     "text": [
      "Дисперсия жанра Action: 1.81\n",
      "Дисперсия жанра Sports: 2.88\n"
     ]
    }
   ],
   "source": [
    "# удалим из выборки отрицательные значения, которыми ранее заменили пропуски  чтобы они не влияли на распределения\n",
    "action_ttest = df_relevant[(df_relevant['genre']=='Action')&(df_relevant['user_score'] >= 0)]['user_score']\n",
    "sports_ttest = df_relevant[(df_relevant['genre']=='Sports')&(df_relevant['user_score'] >= 0)]['user_score']\n",
    "\n",
    "# проверим дисперсии рассматриваемых выборок\n",
    "action_ttest_var = np.var(action_ttest, ddof=1)\n",
    "sports_ttest_var = np.var(sports_ttest, ddof=1)\n",
    "\n",
    "print('Дисперсия жанра Action:', round(action_ttest_var, 2))\n",
    "print('Дисперсия жанра Sports:', round(sports_ttest_var, 2))"
   ]
  },
  {
   "cell_type": "markdown",
   "id": "c049d135",
   "metadata": {},
   "source": [
    "Разница между дисперсиями выборок составляет 0,93, поэтому считать дисперсии выборок равными нельзя, поэтому зададим аргумент equal_var=False."
   ]
  },
  {
   "cell_type": "code",
   "execution_count": 63,
   "id": "07c23fc0",
   "metadata": {},
   "outputs": [
    {
     "name": "stdout",
     "output_type": "stream",
     "text": [
      "p-значение: 8.285648549432565e-19\n",
      "Отвергаем нулевую гипотезу\n"
     ]
    }
   ],
   "source": [
    "# уровень значимости зададим равным 5%\n",
    "alpha = 0.05\n",
    "\n",
    "results = st.ttest_ind(action_ttest, sports_ttest, equal_var=False)\n",
    "\n",
    "print('p-значение:', results.pvalue)\n",
    "\n",
    "if (results.pvalue < alpha):\n",
    "    print(\"Отвергаем нулевую гипотезу\")\n",
    "else:\n",
    "    print(\"Не получилось отвергнуть нулевую гипотезу\")"
   ]
  },
  {
   "cell_type": "markdown",
   "id": "88df1655",
   "metadata": {},
   "source": [
    "p-уровень значимости намного меньше определенного  порогового значения в 5%, следовательно средние пользовательские рейтинги жанров Action и Sports статистически значимо различаются."
   ]
  },
  {
   "cell_type": "markdown",
   "id": "939fe185",
   "metadata": {},
   "source": [
    "### Шаг 6. Общий вывод"
   ]
  },
  {
   "cell_type": "markdown",
   "id": "816c9b03",
   "metadata": {},
   "source": [
    "Проведя анализ  можно сказать следующее:\n",
    "\n",
    "Наибольшие суммарные продажи в актуальном периоде (2011-2016гг) имеют платформы (топ5) это PS3, X360, PS4,3DS, XOne. \n",
    " \n",
    "В разных регионах популярные платформы могут отличаться, например платформа 3DS очень популярна в Японии, но менее популярна в Европе и Америке. \n",
    "Среди жанров видеоигр также можно выделить наиболее популярные и перспективные, например жанр Action перспективный во всех регионах, а также жанры Shooter, Sports и Role-Playing являются потенциально прибыльными.\n",
    "\n",
    "Жанр  Adventure. Несмотря на то, что игры с таким жанром занимают серьезную долю рынка в количественном отношении, их продажи низкие.\n",
    "\n",
    "Среди игроков Европы и Северной Америки наибеолее популярны игры рейтинга М и Е. В то время как в Японии с большим отрывом лидируют игры, для которых рейтинг неустановлен.\n",
    "\n",
    "Большое влияние на продажи игр оказывают их оценки. Оценки критиков сильнее влияют на  продажами, чем оценки пользователей. Поэтому стоит учитывать только оценки критиков. \n",
    "\n",
    "В целом пользователи из регионов Европа и Северная Америка очень схожи в своих предпочтених и можно объеденить усилия рекламной компании для этих направлений и вместе с тем  более тщательно подготовить рекламную компанию для Японии."
   ]
  }
 ],
 "metadata": {
  "ExecuteTimeLog": [
   {
    "duration": 781,
    "start_time": "2022-03-08T14:16:46.017Z"
   },
   {
    "duration": 16,
    "start_time": "2022-03-08T14:20:15.418Z"
   },
   {
    "duration": 367,
    "start_time": "2022-03-08T14:40:19.559Z"
   },
   {
    "duration": 101,
    "start_time": "2022-03-08T14:41:29.842Z"
   },
   {
    "duration": 70,
    "start_time": "2022-03-08T14:42:28.051Z"
   },
   {
    "duration": 10,
    "start_time": "2022-03-08T14:46:38.177Z"
   },
   {
    "duration": 10,
    "start_time": "2022-03-08T14:47:33.173Z"
   },
   {
    "duration": 70,
    "start_time": "2022-03-08T14:47:41.709Z"
   },
   {
    "duration": 10,
    "start_time": "2022-03-08T14:47:47.254Z"
   },
   {
    "duration": 20,
    "start_time": "2022-03-08T14:51:35.710Z"
   },
   {
    "duration": 19,
    "start_time": "2022-03-08T14:54:01.919Z"
   },
   {
    "duration": 7,
    "start_time": "2022-03-08T14:54:24.151Z"
   },
   {
    "duration": 7,
    "start_time": "2022-03-08T15:08:24.450Z"
   },
   {
    "duration": 7,
    "start_time": "2022-03-08T15:10:57.122Z"
   },
   {
    "duration": 7,
    "start_time": "2022-03-08T15:12:36.278Z"
   },
   {
    "duration": 21,
    "start_time": "2022-03-08T15:12:48.580Z"
   },
   {
    "duration": 4,
    "start_time": "2022-03-08T15:20:21.132Z"
   },
   {
    "duration": 4,
    "start_time": "2022-03-08T15:20:28.035Z"
   },
   {
    "duration": 5,
    "start_time": "2022-03-08T15:20:40.869Z"
   },
   {
    "duration": 76,
    "start_time": "2022-03-08T15:22:36.995Z"
   },
   {
    "duration": 7,
    "start_time": "2022-03-08T15:23:28.205Z"
   },
   {
    "duration": 20,
    "start_time": "2022-03-08T15:23:39.365Z"
   },
   {
    "duration": 24,
    "start_time": "2022-03-08T15:24:06.367Z"
   },
   {
    "duration": 6,
    "start_time": "2022-03-08T15:24:58.661Z"
   },
   {
    "duration": 14,
    "start_time": "2022-03-08T15:28:30.328Z"
   },
   {
    "duration": 6,
    "start_time": "2022-03-08T15:28:39.436Z"
   },
   {
    "duration": 69,
    "start_time": "2022-03-08T15:41:03.503Z"
   },
   {
    "duration": 207,
    "start_time": "2022-03-08T15:41:17.924Z"
   },
   {
    "duration": 217,
    "start_time": "2022-03-08T15:41:40.737Z"
   },
   {
    "duration": 222,
    "start_time": "2022-03-08T15:41:50.249Z"
   },
   {
    "duration": 223,
    "start_time": "2022-03-08T15:47:37.637Z"
   },
   {
    "duration": 209,
    "start_time": "2022-03-08T15:48:47.642Z"
   },
   {
    "duration": 25,
    "start_time": "2022-03-08T15:57:38.835Z"
   },
   {
    "duration": 25,
    "start_time": "2022-03-08T15:58:42.756Z"
   },
   {
    "duration": 21,
    "start_time": "2022-03-08T15:58:48.360Z"
   },
   {
    "duration": 22,
    "start_time": "2022-03-08T15:59:19.224Z"
   },
   {
    "duration": 6,
    "start_time": "2022-03-08T15:59:21.123Z"
   },
   {
    "duration": 6,
    "start_time": "2022-03-08T15:59:25.513Z"
   },
   {
    "duration": 5,
    "start_time": "2022-03-08T15:59:30.648Z"
   },
   {
    "duration": 853,
    "start_time": "2022-03-08T15:59:48.646Z"
   },
   {
    "duration": 13,
    "start_time": "2022-03-08T15:59:49.502Z"
   },
   {
    "duration": 7,
    "start_time": "2022-03-08T15:59:49.518Z"
   },
   {
    "duration": 22,
    "start_time": "2022-03-08T15:59:49.528Z"
   },
   {
    "duration": 55,
    "start_time": "2022-03-08T15:59:49.553Z"
   },
   {
    "duration": 6,
    "start_time": "2022-03-08T15:59:49.611Z"
   },
   {
    "duration": 312,
    "start_time": "2022-03-08T16:01:52.037Z"
   },
   {
    "duration": 6,
    "start_time": "2022-03-08T16:01:54.217Z"
   },
   {
    "duration": 6,
    "start_time": "2022-03-08T16:01:57.904Z"
   },
   {
    "duration": 230,
    "start_time": "2022-03-08T16:02:03.827Z"
   },
   {
    "duration": 23,
    "start_time": "2022-03-08T16:02:54.634Z"
   },
   {
    "duration": 824,
    "start_time": "2022-03-08T16:03:13.401Z"
   },
   {
    "duration": 15,
    "start_time": "2022-03-08T16:03:14.228Z"
   },
   {
    "duration": 9,
    "start_time": "2022-03-08T16:03:14.246Z"
   },
   {
    "duration": 40,
    "start_time": "2022-03-08T16:03:14.257Z"
   },
   {
    "duration": 24,
    "start_time": "2022-03-08T16:03:14.300Z"
   },
   {
    "duration": 7,
    "start_time": "2022-03-08T16:03:14.327Z"
   },
   {
    "duration": 23,
    "start_time": "2022-03-08T16:03:54.266Z"
   },
   {
    "duration": 26,
    "start_time": "2022-03-08T16:04:37.848Z"
   },
   {
    "duration": -1131,
    "start_time": "2022-03-08T16:06:04.111Z"
   },
   {
    "duration": 806,
    "start_time": "2022-03-08T16:06:22.124Z"
   },
   {
    "duration": 15,
    "start_time": "2022-03-08T16:06:22.933Z"
   },
   {
    "duration": 10,
    "start_time": "2022-03-08T16:06:22.951Z"
   },
   {
    "duration": 38,
    "start_time": "2022-03-08T16:06:22.964Z"
   },
   {
    "duration": 3084,
    "start_time": "2022-03-08T16:06:23.004Z"
   },
   {
    "duration": -1095,
    "start_time": "2022-03-08T16:06:27.186Z"
   },
   {
    "duration": 20,
    "start_time": "2022-03-08T16:08:41.432Z"
   },
   {
    "duration": 5,
    "start_time": "2022-03-08T16:12:38.157Z"
   },
   {
    "duration": 9,
    "start_time": "2022-03-08T16:29:07.913Z"
   },
   {
    "duration": 69,
    "start_time": "2022-03-08T16:31:46.274Z"
   },
   {
    "duration": 72,
    "start_time": "2022-03-08T16:31:57.596Z"
   },
   {
    "duration": 66,
    "start_time": "2022-03-08T16:32:57.158Z"
   },
   {
    "duration": 73,
    "start_time": "2022-03-08T16:33:10.237Z"
   },
   {
    "duration": 83,
    "start_time": "2022-03-08T16:34:03.372Z"
   },
   {
    "duration": 69,
    "start_time": "2022-03-08T16:34:54.853Z"
   },
   {
    "duration": 8,
    "start_time": "2022-03-08T16:39:33.110Z"
   },
   {
    "duration": 6,
    "start_time": "2022-03-08T16:41:23.076Z"
   },
   {
    "duration": 11,
    "start_time": "2022-03-08T16:46:39.407Z"
   },
   {
    "duration": 10,
    "start_time": "2022-03-08T16:46:59.908Z"
   },
   {
    "duration": 11,
    "start_time": "2022-03-08T16:48:18.978Z"
   },
   {
    "duration": 11,
    "start_time": "2022-03-08T16:49:12.931Z"
   },
   {
    "duration": 9,
    "start_time": "2022-03-08T16:51:07.031Z"
   },
   {
    "duration": 20,
    "start_time": "2022-03-08T16:57:21.011Z"
   },
   {
    "duration": 8,
    "start_time": "2022-03-08T16:57:46.231Z"
   },
   {
    "duration": 9,
    "start_time": "2022-03-08T16:59:05.582Z"
   },
   {
    "duration": 4,
    "start_time": "2022-03-08T17:00:14.240Z"
   },
   {
    "duration": 3,
    "start_time": "2022-03-08T17:00:17.491Z"
   },
   {
    "duration": 14,
    "start_time": "2022-03-08T17:02:22.727Z"
   },
   {
    "duration": 21,
    "start_time": "2022-03-08T17:03:51.379Z"
   },
   {
    "duration": 4,
    "start_time": "2022-03-08T17:04:25.972Z"
   },
   {
    "duration": 12,
    "start_time": "2022-03-08T17:05:42.822Z"
   },
   {
    "duration": 11,
    "start_time": "2022-03-08T17:06:10.740Z"
   },
   {
    "duration": 813,
    "start_time": "2022-03-08T17:06:25.960Z"
   },
   {
    "duration": 18,
    "start_time": "2022-03-08T17:06:26.776Z"
   },
   {
    "duration": 10,
    "start_time": "2022-03-08T17:06:26.797Z"
   },
   {
    "duration": 19,
    "start_time": "2022-03-08T17:06:26.810Z"
   },
   {
    "duration": 9,
    "start_time": "2022-03-08T17:06:26.831Z"
   },
   {
    "duration": 52,
    "start_time": "2022-03-08T17:06:26.843Z"
   },
   {
    "duration": 21,
    "start_time": "2022-03-08T17:07:11.530Z"
   },
   {
    "duration": 5668,
    "start_time": "2022-03-08T17:09:00.285Z"
   },
   {
    "duration": 5892,
    "start_time": "2022-03-08T17:09:57.846Z"
   },
   {
    "duration": -1098,
    "start_time": "2022-03-08T17:10:14.275Z"
   },
   {
    "duration": 21,
    "start_time": "2022-03-08T17:10:46.829Z"
   },
   {
    "duration": 21,
    "start_time": "2022-03-08T17:10:55.601Z"
   },
   {
    "duration": 819,
    "start_time": "2022-03-08T17:11:13.782Z"
   },
   {
    "duration": 14,
    "start_time": "2022-03-08T17:11:14.604Z"
   },
   {
    "duration": 11,
    "start_time": "2022-03-08T17:11:14.621Z"
   },
   {
    "duration": 19,
    "start_time": "2022-03-08T17:11:14.634Z"
   },
   {
    "duration": 35,
    "start_time": "2022-03-08T17:11:14.656Z"
   },
   {
    "duration": 12,
    "start_time": "2022-03-08T17:11:14.694Z"
   },
   {
    "duration": 21,
    "start_time": "2022-03-08T17:11:14.708Z"
   },
   {
    "duration": 5334,
    "start_time": "2022-03-08T17:11:14.732Z"
   },
   {
    "duration": 21,
    "start_time": "2022-03-08T17:11:20.354Z"
   },
   {
    "duration": 6,
    "start_time": "2022-03-08T17:12:00.284Z"
   },
   {
    "duration": 13,
    "start_time": "2022-03-08T17:12:04.898Z"
   },
   {
    "duration": 64,
    "start_time": "2022-03-08T17:12:27.576Z"
   },
   {
    "duration": 12,
    "start_time": "2022-03-08T17:12:28.164Z"
   },
   {
    "duration": 76,
    "start_time": "2022-03-08T17:12:55.133Z"
   },
   {
    "duration": 333,
    "start_time": "2022-03-10T14:47:34.035Z"
   },
   {
    "duration": 261,
    "start_time": "2022-03-10T14:47:47.273Z"
   },
   {
    "duration": 843,
    "start_time": "2022-03-10T14:47:55.411Z"
   },
   {
    "duration": 27,
    "start_time": "2022-03-10T14:47:56.258Z"
   },
   {
    "duration": 140,
    "start_time": "2022-03-10T14:47:56.288Z"
   },
   {
    "duration": 225,
    "start_time": "2022-03-10T14:47:56.430Z"
   },
   {
    "duration": 180,
    "start_time": "2022-03-10T14:47:56.657Z"
   },
   {
    "duration": 207,
    "start_time": "2022-03-10T14:47:56.840Z"
   },
   {
    "duration": 225,
    "start_time": "2022-03-10T14:47:57.050Z"
   },
   {
    "duration": 192,
    "start_time": "2022-03-10T14:47:57.278Z"
   },
   {
    "duration": 173,
    "start_time": "2022-03-10T14:47:57.472Z"
   },
   {
    "duration": 160,
    "start_time": "2022-03-10T14:47:57.647Z"
   },
   {
    "duration": 12,
    "start_time": "2022-03-10T14:48:28.160Z"
   },
   {
    "duration": 13,
    "start_time": "2022-03-10T14:48:38.580Z"
   },
   {
    "duration": 13,
    "start_time": "2022-03-10T14:48:44.070Z"
   },
   {
    "duration": 6,
    "start_time": "2022-03-10T14:48:52.949Z"
   },
   {
    "duration": 12,
    "start_time": "2022-03-10T14:48:53.628Z"
   },
   {
    "duration": 12,
    "start_time": "2022-03-10T14:48:56.619Z"
   },
   {
    "duration": 817,
    "start_time": "2022-03-10T14:49:08.106Z"
   },
   {
    "duration": 16,
    "start_time": "2022-03-10T14:49:08.927Z"
   },
   {
    "duration": 230,
    "start_time": "2022-03-10T14:49:08.946Z"
   },
   {
    "duration": 322,
    "start_time": "2022-03-10T14:49:09.179Z"
   },
   {
    "duration": 572,
    "start_time": "2022-03-10T14:49:09.504Z"
   },
   {
    "duration": 272,
    "start_time": "2022-03-10T14:49:10.079Z"
   },
   {
    "duration": 313,
    "start_time": "2022-03-10T14:49:10.353Z"
   },
   {
    "duration": 330,
    "start_time": "2022-03-10T14:49:10.671Z"
   },
   {
    "duration": 274,
    "start_time": "2022-03-10T14:49:11.004Z"
   },
   {
    "duration": 426,
    "start_time": "2022-03-10T14:49:11.281Z"
   },
   {
    "duration": 15,
    "start_time": "2022-03-10T14:52:18.700Z"
   },
   {
    "duration": 18,
    "start_time": "2022-03-10T15:00:26.660Z"
   },
   {
    "duration": 338,
    "start_time": "2022-03-10T15:05:45.661Z"
   },
   {
    "duration": 5,
    "start_time": "2022-03-10T15:05:53.557Z"
   },
   {
    "duration": 17,
    "start_time": "2022-03-10T15:06:02.077Z"
   },
   {
    "duration": 20,
    "start_time": "2022-03-10T15:06:57.194Z"
   },
   {
    "duration": 6,
    "start_time": "2022-03-10T15:08:52.859Z"
   },
   {
    "duration": 16,
    "start_time": "2022-03-10T15:08:55.255Z"
   },
   {
    "duration": 3337,
    "start_time": "2022-03-10T15:09:34.694Z"
   },
   {
    "duration": -1353,
    "start_time": "2022-03-10T15:09:39.387Z"
   },
   {
    "duration": 314,
    "start_time": "2022-03-10T15:10:15.412Z"
   },
   {
    "duration": 303,
    "start_time": "2022-03-10T15:10:39.727Z"
   },
   {
    "duration": 6,
    "start_time": "2022-03-10T15:10:56.917Z"
   },
   {
    "duration": 15,
    "start_time": "2022-03-10T15:10:58.768Z"
   },
   {
    "duration": 379,
    "start_time": "2022-03-10T15:18:55.998Z"
   },
   {
    "duration": 15,
    "start_time": "2022-03-10T15:19:16.855Z"
   },
   {
    "duration": 7,
    "start_time": "2022-03-10T15:23:03.304Z"
   },
   {
    "duration": 10,
    "start_time": "2022-03-10T15:26:35.493Z"
   },
   {
    "duration": 7,
    "start_time": "2022-03-10T15:26:55.577Z"
   },
   {
    "duration": 9,
    "start_time": "2022-03-10T15:27:05.042Z"
   },
   {
    "duration": 7,
    "start_time": "2022-03-10T15:27:45.069Z"
   },
   {
    "duration": 8,
    "start_time": "2022-03-10T15:27:58.554Z"
   },
   {
    "duration": 8,
    "start_time": "2022-03-10T15:28:17.390Z"
   },
   {
    "duration": 9,
    "start_time": "2022-03-10T15:28:50.142Z"
   },
   {
    "duration": 24,
    "start_time": "2022-03-10T15:36:05.177Z"
   },
   {
    "duration": 26,
    "start_time": "2022-03-10T15:36:33.761Z"
   },
   {
    "duration": 21,
    "start_time": "2022-03-10T15:37:03.561Z"
   },
   {
    "duration": 31,
    "start_time": "2022-03-10T15:37:54.265Z"
   },
   {
    "duration": 26,
    "start_time": "2022-03-10T15:39:36.364Z"
   },
   {
    "duration": 28,
    "start_time": "2022-03-10T15:39:41.766Z"
   },
   {
    "duration": 8,
    "start_time": "2022-03-10T15:40:17.338Z"
   },
   {
    "duration": 7,
    "start_time": "2022-03-10T15:41:05.063Z"
   },
   {
    "duration": 7,
    "start_time": "2022-03-10T15:41:06.331Z"
   },
   {
    "duration": 6,
    "start_time": "2022-03-10T15:46:15.014Z"
   },
   {
    "duration": 8,
    "start_time": "2022-03-10T15:46:45.911Z"
   },
   {
    "duration": 881,
    "start_time": "2022-03-10T15:47:00.035Z"
   },
   {
    "duration": 18,
    "start_time": "2022-03-10T15:47:00.919Z"
   },
   {
    "duration": 9,
    "start_time": "2022-03-10T15:47:00.941Z"
   },
   {
    "duration": 48,
    "start_time": "2022-03-10T15:47:00.953Z"
   },
   {
    "duration": 12,
    "start_time": "2022-03-10T15:47:01.003Z"
   },
   {
    "duration": 46,
    "start_time": "2022-03-10T15:47:01.017Z"
   },
   {
    "duration": 30,
    "start_time": "2022-03-10T15:47:01.066Z"
   },
   {
    "duration": 6,
    "start_time": "2022-03-10T15:47:01.099Z"
   },
   {
    "duration": 28,
    "start_time": "2022-03-10T15:47:01.108Z"
   },
   {
    "duration": 11,
    "start_time": "2022-03-10T15:47:01.138Z"
   },
   {
    "duration": 8,
    "start_time": "2022-03-10T15:47:01.152Z"
   },
   {
    "duration": 30,
    "start_time": "2022-03-10T15:47:01.162Z"
   },
   {
    "duration": 32,
    "start_time": "2022-03-10T15:47:01.195Z"
   },
   {
    "duration": 31,
    "start_time": "2022-03-10T15:47:01.230Z"
   },
   {
    "duration": 34,
    "start_time": "2022-03-10T15:47:01.263Z"
   },
   {
    "duration": 8,
    "start_time": "2022-03-10T15:49:06.839Z"
   },
   {
    "duration": 8,
    "start_time": "2022-03-10T15:50:31.884Z"
   },
   {
    "duration": 9,
    "start_time": "2022-03-10T15:50:48.298Z"
   },
   {
    "duration": 15,
    "start_time": "2022-03-10T15:51:15.404Z"
   },
   {
    "duration": 10,
    "start_time": "2022-03-10T15:51:30.976Z"
   },
   {
    "duration": 10,
    "start_time": "2022-03-10T15:51:40.951Z"
   },
   {
    "duration": 7,
    "start_time": "2022-03-10T15:51:57.229Z"
   },
   {
    "duration": 9,
    "start_time": "2022-03-10T15:52:06.784Z"
   },
   {
    "duration": 8,
    "start_time": "2022-03-10T15:52:36.399Z"
   },
   {
    "duration": 9,
    "start_time": "2022-03-10T15:52:47.456Z"
   },
   {
    "duration": 7,
    "start_time": "2022-03-10T15:52:59.560Z"
   },
   {
    "duration": 7314,
    "start_time": "2022-03-10T15:53:11.689Z"
   },
   {
    "duration": 6,
    "start_time": "2022-03-10T15:53:24.660Z"
   },
   {
    "duration": 9,
    "start_time": "2022-03-10T15:53:40.693Z"
   },
   {
    "duration": 9,
    "start_time": "2022-03-10T15:53:53.078Z"
   },
   {
    "duration": 7,
    "start_time": "2022-03-10T15:54:15.574Z"
   },
   {
    "duration": 5,
    "start_time": "2022-03-10T15:54:21.209Z"
   },
   {
    "duration": 9,
    "start_time": "2022-03-10T15:54:47.937Z"
   },
   {
    "duration": 9,
    "start_time": "2022-03-10T15:57:38.626Z"
   },
   {
    "duration": 268,
    "start_time": "2022-03-10T16:01:15.424Z"
   },
   {
    "duration": 13,
    "start_time": "2022-03-10T16:01:26.794Z"
   },
   {
    "duration": 13,
    "start_time": "2022-03-10T16:02:33.312Z"
   },
   {
    "duration": 12,
    "start_time": "2022-03-10T16:03:04.611Z"
   },
   {
    "duration": 7,
    "start_time": "2022-03-10T16:09:22.035Z"
   },
   {
    "duration": 759,
    "start_time": "2022-03-10T16:09:35.838Z"
   },
   {
    "duration": 15,
    "start_time": "2022-03-10T16:09:36.600Z"
   },
   {
    "duration": 9,
    "start_time": "2022-03-10T16:09:36.619Z"
   },
   {
    "duration": 55,
    "start_time": "2022-03-10T16:09:36.630Z"
   },
   {
    "duration": 6,
    "start_time": "2022-03-10T16:09:36.688Z"
   },
   {
    "duration": 17,
    "start_time": "2022-03-10T16:09:36.697Z"
   },
   {
    "duration": 19,
    "start_time": "2022-03-10T16:09:36.717Z"
   },
   {
    "duration": 6,
    "start_time": "2022-03-10T16:09:36.738Z"
   },
   {
    "duration": 44,
    "start_time": "2022-03-10T16:09:36.747Z"
   },
   {
    "duration": 8,
    "start_time": "2022-03-10T16:09:36.794Z"
   },
   {
    "duration": 10,
    "start_time": "2022-03-10T16:09:36.805Z"
   },
   {
    "duration": 11,
    "start_time": "2022-03-10T16:09:36.817Z"
   },
   {
    "duration": 15,
    "start_time": "2022-03-10T16:09:36.830Z"
   },
   {
    "duration": 35,
    "start_time": "2022-03-10T16:09:36.847Z"
   },
   {
    "duration": 21,
    "start_time": "2022-03-10T16:09:36.885Z"
   },
   {
    "duration": 14,
    "start_time": "2022-03-10T16:09:36.908Z"
   },
   {
    "duration": 27,
    "start_time": "2022-03-10T16:09:36.924Z"
   },
   {
    "duration": 47,
    "start_time": "2022-03-10T16:09:36.954Z"
   },
   {
    "duration": 18,
    "start_time": "2022-03-10T16:10:10.130Z"
   },
   {
    "duration": 9,
    "start_time": "2022-03-10T16:13:21.897Z"
   },
   {
    "duration": 786,
    "start_time": "2022-03-10T16:13:46.401Z"
   },
   {
    "duration": 15,
    "start_time": "2022-03-10T16:13:47.190Z"
   },
   {
    "duration": 10,
    "start_time": "2022-03-10T16:13:47.208Z"
   },
   {
    "duration": 20,
    "start_time": "2022-03-10T16:13:47.221Z"
   },
   {
    "duration": 7,
    "start_time": "2022-03-10T16:13:47.283Z"
   },
   {
    "duration": 20,
    "start_time": "2022-03-10T16:13:47.293Z"
   },
   {
    "duration": 31,
    "start_time": "2022-03-10T16:13:47.315Z"
   },
   {
    "duration": 5,
    "start_time": "2022-03-10T16:13:47.350Z"
   },
   {
    "duration": 34,
    "start_time": "2022-03-10T16:13:47.358Z"
   },
   {
    "duration": 13,
    "start_time": "2022-03-10T16:13:47.395Z"
   },
   {
    "duration": 5,
    "start_time": "2022-03-10T16:13:47.411Z"
   },
   {
    "duration": 12,
    "start_time": "2022-03-10T16:13:47.419Z"
   },
   {
    "duration": 50,
    "start_time": "2022-03-10T16:13:47.434Z"
   },
   {
    "duration": 9,
    "start_time": "2022-03-10T16:13:47.487Z"
   },
   {
    "duration": 19,
    "start_time": "2022-03-10T16:13:47.499Z"
   },
   {
    "duration": 15,
    "start_time": "2022-03-10T16:13:47.521Z"
   },
   {
    "duration": 49,
    "start_time": "2022-03-10T16:13:47.539Z"
   },
   {
    "duration": 27,
    "start_time": "2022-03-10T16:13:47.590Z"
   },
   {
    "duration": 2542,
    "start_time": "2022-03-14T12:35:11.567Z"
   },
   {
    "duration": 468,
    "start_time": "2022-03-14T12:36:04.003Z"
   },
   {
    "duration": 540,
    "start_time": "2022-03-14T12:36:17.027Z"
   },
   {
    "duration": 802,
    "start_time": "2022-03-14T12:36:24.492Z"
   },
   {
    "duration": 9,
    "start_time": "2022-03-14T12:36:25.296Z"
   },
   {
    "duration": 6,
    "start_time": "2022-03-14T12:36:25.307Z"
   },
   {
    "duration": 11,
    "start_time": "2022-03-14T12:36:25.315Z"
   },
   {
    "duration": 6,
    "start_time": "2022-03-14T12:36:25.328Z"
   },
   {
    "duration": 8,
    "start_time": "2022-03-14T12:36:25.335Z"
   },
   {
    "duration": 41,
    "start_time": "2022-03-14T12:36:25.345Z"
   },
   {
    "duration": 5,
    "start_time": "2022-03-14T12:36:25.388Z"
   },
   {
    "duration": 8,
    "start_time": "2022-03-14T12:36:25.395Z"
   },
   {
    "duration": 7,
    "start_time": "2022-03-14T12:36:25.405Z"
   },
   {
    "duration": 5,
    "start_time": "2022-03-14T12:36:25.413Z"
   },
   {
    "duration": 14,
    "start_time": "2022-03-14T12:36:25.420Z"
   },
   {
    "duration": 18,
    "start_time": "2022-03-14T12:36:25.435Z"
   },
   {
    "duration": 27,
    "start_time": "2022-03-14T12:36:25.454Z"
   },
   {
    "duration": 14,
    "start_time": "2022-03-14T12:36:25.483Z"
   },
   {
    "duration": 11,
    "start_time": "2022-03-14T12:36:25.498Z"
   },
   {
    "duration": 19,
    "start_time": "2022-03-14T12:36:25.511Z"
   },
   {
    "duration": 16,
    "start_time": "2022-03-14T12:36:25.531Z"
   },
   {
    "duration": 6,
    "start_time": "2022-03-14T12:36:25.548Z"
   },
   {
    "duration": 6,
    "start_time": "2022-03-14T12:37:33.285Z"
   },
   {
    "duration": 8,
    "start_time": "2022-03-14T12:39:55.280Z"
   },
   {
    "duration": 7,
    "start_time": "2022-03-14T12:40:38.342Z"
   },
   {
    "duration": 6,
    "start_time": "2022-03-14T12:40:48.466Z"
   },
   {
    "duration": 8,
    "start_time": "2022-03-14T12:53:46.644Z"
   },
   {
    "duration": 12,
    "start_time": "2022-03-14T12:53:54.774Z"
   },
   {
    "duration": 13,
    "start_time": "2022-03-14T12:54:23.719Z"
   },
   {
    "duration": 380,
    "start_time": "2022-03-14T12:54:37.351Z"
   },
   {
    "duration": 302,
    "start_time": "2022-03-14T12:54:43.757Z"
   },
   {
    "duration": 292,
    "start_time": "2022-03-14T12:54:47.031Z"
   },
   {
    "duration": 315,
    "start_time": "2022-03-14T12:54:54.819Z"
   },
   {
    "duration": 679,
    "start_time": "2022-03-14T12:55:02.861Z"
   },
   {
    "duration": 10,
    "start_time": "2022-03-14T12:55:03.542Z"
   },
   {
    "duration": 16,
    "start_time": "2022-03-14T12:55:03.554Z"
   },
   {
    "duration": 35,
    "start_time": "2022-03-14T12:55:03.571Z"
   },
   {
    "duration": 12,
    "start_time": "2022-03-14T12:55:03.608Z"
   },
   {
    "duration": 8,
    "start_time": "2022-03-14T12:55:03.622Z"
   },
   {
    "duration": 17,
    "start_time": "2022-03-14T12:55:03.632Z"
   },
   {
    "duration": 6,
    "start_time": "2022-03-14T12:55:03.651Z"
   },
   {
    "duration": 18,
    "start_time": "2022-03-14T12:55:03.658Z"
   },
   {
    "duration": 20,
    "start_time": "2022-03-14T12:55:03.677Z"
   },
   {
    "duration": 9,
    "start_time": "2022-03-14T12:55:03.698Z"
   },
   {
    "duration": 26,
    "start_time": "2022-03-14T12:55:03.708Z"
   },
   {
    "duration": 17,
    "start_time": "2022-03-14T12:55:03.736Z"
   },
   {
    "duration": 16,
    "start_time": "2022-03-14T12:55:03.754Z"
   },
   {
    "duration": 20,
    "start_time": "2022-03-14T12:55:03.772Z"
   },
   {
    "duration": 15,
    "start_time": "2022-03-14T12:55:03.793Z"
   },
   {
    "duration": 30,
    "start_time": "2022-03-14T12:55:03.809Z"
   },
   {
    "duration": 15,
    "start_time": "2022-03-14T12:55:03.840Z"
   },
   {
    "duration": 7,
    "start_time": "2022-03-14T12:55:03.856Z"
   },
   {
    "duration": 36,
    "start_time": "2022-03-14T12:55:03.864Z"
   },
   {
    "duration": 5,
    "start_time": "2022-03-14T12:55:03.901Z"
   },
   {
    "duration": 10,
    "start_time": "2022-03-14T12:55:03.907Z"
   },
   {
    "duration": 11,
    "start_time": "2022-03-14T12:55:03.919Z"
   },
   {
    "duration": 344,
    "start_time": "2022-03-14T13:08:19.626Z"
   },
   {
    "duration": 3,
    "start_time": "2022-03-14T13:08:29.974Z"
   },
   {
    "duration": 3,
    "start_time": "2022-03-14T13:08:31.249Z"
   },
   {
    "duration": 16,
    "start_time": "2022-03-14T13:16:37.434Z"
   },
   {
    "duration": 3,
    "start_time": "2022-03-14T13:20:58.821Z"
   },
   {
    "duration": 15,
    "start_time": "2022-03-14T13:21:00.641Z"
   },
   {
    "duration": 107,
    "start_time": "2022-03-14T13:23:41.909Z"
   },
   {
    "duration": 6,
    "start_time": "2022-03-14T13:23:48.064Z"
   },
   {
    "duration": 99,
    "start_time": "2022-03-14T13:25:03.796Z"
   },
   {
    "duration": 6,
    "start_time": "2022-03-14T13:35:20.416Z"
   },
   {
    "duration": 7,
    "start_time": "2022-03-14T13:35:31.413Z"
   },
   {
    "duration": 7,
    "start_time": "2022-03-14T13:36:30.376Z"
   },
   {
    "duration": 3,
    "start_time": "2022-03-14T13:45:15.929Z"
   },
   {
    "duration": 1519,
    "start_time": "2022-03-14T13:48:00.948Z"
   },
   {
    "duration": 3,
    "start_time": "2022-03-14T13:48:09.305Z"
   },
   {
    "duration": 1478,
    "start_time": "2022-03-14T13:48:10.768Z"
   },
   {
    "duration": 3,
    "start_time": "2022-03-14T13:49:02.009Z"
   },
   {
    "duration": 17,
    "start_time": "2022-03-14T13:49:03.540Z"
   },
   {
    "duration": 445,
    "start_time": "2022-03-14T14:04:15.076Z"
   },
   {
    "duration": 6,
    "start_time": "2022-03-14T14:04:50.197Z"
   },
   {
    "duration": 4,
    "start_time": "2022-03-14T14:04:53.306Z"
   },
   {
    "duration": 4,
    "start_time": "2022-03-14T14:05:17.326Z"
   },
   {
    "duration": 4,
    "start_time": "2022-03-14T14:05:22.304Z"
   },
   {
    "duration": 593,
    "start_time": "2022-03-14T14:05:33.619Z"
   },
   {
    "duration": 10,
    "start_time": "2022-03-14T14:05:34.214Z"
   },
   {
    "duration": 6,
    "start_time": "2022-03-14T14:05:34.226Z"
   },
   {
    "duration": 11,
    "start_time": "2022-03-14T14:05:34.233Z"
   },
   {
    "duration": 5,
    "start_time": "2022-03-14T14:05:34.245Z"
   },
   {
    "duration": 30,
    "start_time": "2022-03-14T14:05:34.251Z"
   },
   {
    "duration": 10,
    "start_time": "2022-03-14T14:05:34.283Z"
   },
   {
    "duration": 3,
    "start_time": "2022-03-14T14:05:34.295Z"
   },
   {
    "duration": 8,
    "start_time": "2022-03-14T14:05:34.300Z"
   },
   {
    "duration": 5,
    "start_time": "2022-03-14T14:05:34.310Z"
   },
   {
    "duration": 4,
    "start_time": "2022-03-14T14:05:34.317Z"
   },
   {
    "duration": 7,
    "start_time": "2022-03-14T14:05:34.323Z"
   },
   {
    "duration": 12,
    "start_time": "2022-03-14T14:05:34.332Z"
   },
   {
    "duration": 37,
    "start_time": "2022-03-14T14:05:34.345Z"
   },
   {
    "duration": 12,
    "start_time": "2022-03-14T14:05:34.383Z"
   },
   {
    "duration": 10,
    "start_time": "2022-03-14T14:05:34.396Z"
   },
   {
    "duration": 17,
    "start_time": "2022-03-14T14:05:34.408Z"
   },
   {
    "duration": 16,
    "start_time": "2022-03-14T14:05:34.426Z"
   },
   {
    "duration": 6,
    "start_time": "2022-03-14T14:05:34.443Z"
   },
   {
    "duration": 37,
    "start_time": "2022-03-14T14:05:34.451Z"
   },
   {
    "duration": 6,
    "start_time": "2022-03-14T14:05:34.489Z"
   },
   {
    "duration": 9,
    "start_time": "2022-03-14T14:05:34.497Z"
   },
   {
    "duration": 11,
    "start_time": "2022-03-14T14:05:34.508Z"
   },
   {
    "duration": 6,
    "start_time": "2022-03-14T14:05:34.521Z"
   },
   {
    "duration": 16,
    "start_time": "2022-03-14T14:05:34.528Z"
   },
   {
    "duration": 38,
    "start_time": "2022-03-14T14:05:34.546Z"
   },
   {
    "duration": 7,
    "start_time": "2022-03-14T14:05:34.586Z"
   },
   {
    "duration": 5,
    "start_time": "2022-03-14T14:05:34.594Z"
   },
   {
    "duration": 17,
    "start_time": "2022-03-14T14:05:34.600Z"
   },
   {
    "duration": 5,
    "start_time": "2022-03-14T14:05:34.619Z"
   },
   {
    "duration": 4,
    "start_time": "2022-03-14T14:06:06.842Z"
   },
   {
    "duration": 7,
    "start_time": "2022-03-14T14:06:36.030Z"
   },
   {
    "duration": 377,
    "start_time": "2022-03-14T14:07:16.260Z"
   },
   {
    "duration": 528,
    "start_time": "2022-03-14T14:07:27.134Z"
   },
   {
    "duration": 14,
    "start_time": "2022-03-14T14:10:50.362Z"
   },
   {
    "duration": 5,
    "start_time": "2022-03-14T14:18:08.419Z"
   },
   {
    "duration": 7,
    "start_time": "2022-03-14T14:18:24.274Z"
   },
   {
    "duration": 4,
    "start_time": "2022-03-14T14:18:42.721Z"
   },
   {
    "duration": 6,
    "start_time": "2022-03-14T14:18:52.410Z"
   },
   {
    "duration": 4,
    "start_time": "2022-03-14T14:18:56.648Z"
   },
   {
    "duration": 6,
    "start_time": "2022-03-14T14:18:58.738Z"
   },
   {
    "duration": 623,
    "start_time": "2022-03-14T14:19:06.931Z"
   },
   {
    "duration": 10,
    "start_time": "2022-03-14T14:19:07.556Z"
   },
   {
    "duration": 6,
    "start_time": "2022-03-14T14:19:07.568Z"
   },
   {
    "duration": 11,
    "start_time": "2022-03-14T14:19:07.576Z"
   },
   {
    "duration": 4,
    "start_time": "2022-03-14T14:19:07.589Z"
   },
   {
    "duration": 7,
    "start_time": "2022-03-14T14:19:07.595Z"
   },
   {
    "duration": 13,
    "start_time": "2022-03-14T14:19:07.604Z"
   },
   {
    "duration": 4,
    "start_time": "2022-03-14T14:19:07.620Z"
   },
   {
    "duration": 8,
    "start_time": "2022-03-14T14:19:07.626Z"
   },
   {
    "duration": 44,
    "start_time": "2022-03-14T14:19:07.636Z"
   },
   {
    "duration": 4,
    "start_time": "2022-03-14T14:19:07.682Z"
   },
   {
    "duration": 7,
    "start_time": "2022-03-14T14:19:07.687Z"
   },
   {
    "duration": 8,
    "start_time": "2022-03-14T14:19:07.696Z"
   },
   {
    "duration": 14,
    "start_time": "2022-03-14T14:19:07.705Z"
   },
   {
    "duration": 6,
    "start_time": "2022-03-14T14:19:07.720Z"
   },
   {
    "duration": 14,
    "start_time": "2022-03-14T14:19:07.727Z"
   },
   {
    "duration": 10,
    "start_time": "2022-03-14T14:19:07.742Z"
   },
   {
    "duration": 39,
    "start_time": "2022-03-14T14:19:07.753Z"
   },
   {
    "duration": 16,
    "start_time": "2022-03-14T14:19:07.794Z"
   },
   {
    "duration": 5,
    "start_time": "2022-03-14T14:19:07.812Z"
   },
   {
    "duration": 12,
    "start_time": "2022-03-14T14:19:07.818Z"
   },
   {
    "duration": 5,
    "start_time": "2022-03-14T14:19:07.832Z"
   },
   {
    "duration": 7,
    "start_time": "2022-03-14T14:19:07.840Z"
   },
   {
    "duration": 41,
    "start_time": "2022-03-14T14:19:07.849Z"
   },
   {
    "duration": 3,
    "start_time": "2022-03-14T14:19:07.891Z"
   },
   {
    "duration": 24,
    "start_time": "2022-03-14T14:19:07.896Z"
   },
   {
    "duration": 6,
    "start_time": "2022-03-14T14:19:07.921Z"
   },
   {
    "duration": 9,
    "start_time": "2022-03-14T14:19:07.929Z"
   },
   {
    "duration": 4,
    "start_time": "2022-03-14T14:19:07.939Z"
   },
   {
    "duration": 39,
    "start_time": "2022-03-14T14:19:07.945Z"
   },
   {
    "duration": 16,
    "start_time": "2022-03-14T14:19:07.986Z"
   },
   {
    "duration": 7,
    "start_time": "2022-03-14T14:19:29.384Z"
   },
   {
    "duration": 8,
    "start_time": "2022-03-14T14:22:21.304Z"
   },
   {
    "duration": 7,
    "start_time": "2022-03-14T14:22:38.382Z"
   },
   {
    "duration": 642,
    "start_time": "2022-03-14T14:23:15.071Z"
   },
   {
    "duration": 10,
    "start_time": "2022-03-14T14:23:15.715Z"
   },
   {
    "duration": 7,
    "start_time": "2022-03-14T14:23:15.727Z"
   },
   {
    "duration": 13,
    "start_time": "2022-03-14T14:23:15.735Z"
   },
   {
    "duration": 9,
    "start_time": "2022-03-14T14:23:15.750Z"
   },
   {
    "duration": 30,
    "start_time": "2022-03-14T14:23:15.761Z"
   },
   {
    "duration": 12,
    "start_time": "2022-03-14T14:23:15.793Z"
   },
   {
    "duration": 4,
    "start_time": "2022-03-14T14:23:15.807Z"
   },
   {
    "duration": 9,
    "start_time": "2022-03-14T14:23:15.813Z"
   },
   {
    "duration": 7,
    "start_time": "2022-03-14T14:23:15.823Z"
   },
   {
    "duration": 4,
    "start_time": "2022-03-14T14:23:15.832Z"
   },
   {
    "duration": 11,
    "start_time": "2022-03-14T14:23:15.837Z"
   },
   {
    "duration": 7,
    "start_time": "2022-03-14T14:23:15.849Z"
   },
   {
    "duration": 33,
    "start_time": "2022-03-14T14:23:15.857Z"
   },
   {
    "duration": 7,
    "start_time": "2022-03-14T14:23:15.891Z"
   },
   {
    "duration": 16,
    "start_time": "2022-03-14T14:23:15.899Z"
   },
   {
    "duration": 10,
    "start_time": "2022-03-14T14:23:15.916Z"
   },
   {
    "duration": 17,
    "start_time": "2022-03-14T14:23:15.928Z"
   },
   {
    "duration": 35,
    "start_time": "2022-03-14T14:23:15.946Z"
   },
   {
    "duration": 7,
    "start_time": "2022-03-14T14:23:15.982Z"
   },
   {
    "duration": 19,
    "start_time": "2022-03-14T14:23:15.990Z"
   },
   {
    "duration": 6,
    "start_time": "2022-03-14T14:23:16.011Z"
   },
   {
    "duration": 15,
    "start_time": "2022-03-14T14:23:16.019Z"
   },
   {
    "duration": 14,
    "start_time": "2022-03-14T14:23:16.035Z"
   },
   {
    "duration": 8,
    "start_time": "2022-03-14T14:23:16.051Z"
   },
   {
    "duration": 33,
    "start_time": "2022-03-14T14:23:16.061Z"
   },
   {
    "duration": 7,
    "start_time": "2022-03-14T14:23:16.096Z"
   },
   {
    "duration": 13,
    "start_time": "2022-03-14T14:23:16.105Z"
   },
   {
    "duration": 5,
    "start_time": "2022-03-14T14:23:16.119Z"
   },
   {
    "duration": 19,
    "start_time": "2022-03-14T14:23:16.125Z"
   },
   {
    "duration": 14,
    "start_time": "2022-03-14T14:23:16.146Z"
   },
   {
    "duration": 8,
    "start_time": "2022-03-14T14:23:49.190Z"
   },
   {
    "duration": 10,
    "start_time": "2022-03-14T14:25:55.748Z"
   },
   {
    "duration": 11,
    "start_time": "2022-03-14T14:26:04.470Z"
   },
   {
    "duration": 692,
    "start_time": "2022-03-14T14:26:13.060Z"
   },
   {
    "duration": 10,
    "start_time": "2022-03-14T14:26:13.754Z"
   },
   {
    "duration": 29,
    "start_time": "2022-03-14T14:26:13.765Z"
   },
   {
    "duration": 34,
    "start_time": "2022-03-14T14:26:13.795Z"
   },
   {
    "duration": 15,
    "start_time": "2022-03-14T14:26:13.830Z"
   },
   {
    "duration": 30,
    "start_time": "2022-03-14T14:26:13.846Z"
   },
   {
    "duration": 18,
    "start_time": "2022-03-14T14:26:13.877Z"
   },
   {
    "duration": 6,
    "start_time": "2022-03-14T14:26:13.896Z"
   },
   {
    "duration": 7,
    "start_time": "2022-03-14T14:26:13.905Z"
   },
   {
    "duration": 22,
    "start_time": "2022-03-14T14:26:13.914Z"
   },
   {
    "duration": 12,
    "start_time": "2022-03-14T14:26:13.937Z"
   },
   {
    "duration": 18,
    "start_time": "2022-03-14T14:26:13.950Z"
   },
   {
    "duration": 18,
    "start_time": "2022-03-14T14:26:13.969Z"
   },
   {
    "duration": 29,
    "start_time": "2022-03-14T14:26:13.988Z"
   },
   {
    "duration": 20,
    "start_time": "2022-03-14T14:26:14.019Z"
   },
   {
    "duration": 29,
    "start_time": "2022-03-14T14:26:14.041Z"
   },
   {
    "duration": 10,
    "start_time": "2022-03-14T14:26:14.072Z"
   },
   {
    "duration": 66,
    "start_time": "2022-03-14T14:26:14.083Z"
   },
   {
    "duration": 16,
    "start_time": "2022-03-14T14:26:14.150Z"
   },
   {
    "duration": 91,
    "start_time": "2022-03-14T14:26:14.168Z"
   },
   {
    "duration": 130,
    "start_time": "2022-03-14T14:26:14.260Z"
   },
   {
    "duration": 93,
    "start_time": "2022-03-14T14:26:14.392Z"
   },
   {
    "duration": 117,
    "start_time": "2022-03-14T14:26:14.487Z"
   },
   {
    "duration": 28,
    "start_time": "2022-03-14T14:26:14.606Z"
   },
   {
    "duration": 136,
    "start_time": "2022-03-14T14:26:14.636Z"
   },
   {
    "duration": 72,
    "start_time": "2022-03-14T14:26:14.773Z"
   },
   {
    "duration": 25,
    "start_time": "2022-03-14T14:26:14.847Z"
   },
   {
    "duration": 48,
    "start_time": "2022-03-14T14:26:14.873Z"
   },
   {
    "duration": 21,
    "start_time": "2022-03-14T14:26:14.922Z"
   },
   {
    "duration": 21,
    "start_time": "2022-03-14T14:26:14.945Z"
   },
   {
    "duration": 12,
    "start_time": "2022-03-14T14:26:14.968Z"
   },
   {
    "duration": 10,
    "start_time": "2022-03-14T14:26:44.789Z"
   },
   {
    "duration": 10,
    "start_time": "2022-03-14T14:27:08.393Z"
   },
   {
    "duration": 21,
    "start_time": "2022-03-14T14:29:05.965Z"
   },
   {
    "duration": 17,
    "start_time": "2022-03-14T14:29:17.052Z"
   },
   {
    "duration": 14,
    "start_time": "2022-03-14T14:29:53.340Z"
   },
   {
    "duration": 643,
    "start_time": "2022-03-14T14:30:08.078Z"
   },
   {
    "duration": 94,
    "start_time": "2022-03-14T14:30:08.723Z"
   },
   {
    "duration": 211,
    "start_time": "2022-03-14T14:30:08.819Z"
   },
   {
    "duration": 116,
    "start_time": "2022-03-14T14:30:09.032Z"
   },
   {
    "duration": 222,
    "start_time": "2022-03-14T14:30:09.150Z"
   },
   {
    "duration": 819,
    "start_time": "2022-03-14T14:30:09.373Z"
   },
   {
    "duration": 561,
    "start_time": "2022-03-14T14:30:10.194Z"
   },
   {
    "duration": 472,
    "start_time": "2022-03-14T14:30:10.757Z"
   },
   {
    "duration": 186,
    "start_time": "2022-03-14T14:30:11.231Z"
   },
   {
    "duration": 194,
    "start_time": "2022-03-14T14:30:11.418Z"
   },
   {
    "duration": 323,
    "start_time": "2022-03-14T14:30:11.613Z"
   },
   {
    "duration": 494,
    "start_time": "2022-03-14T14:30:11.938Z"
   },
   {
    "duration": 239,
    "start_time": "2022-03-14T14:30:12.434Z"
   },
   {
    "duration": 200,
    "start_time": "2022-03-14T14:30:12.675Z"
   },
   {
    "duration": 168,
    "start_time": "2022-03-14T14:30:12.877Z"
   },
   {
    "duration": 83,
    "start_time": "2022-03-14T14:30:13.047Z"
   },
   {
    "duration": 60,
    "start_time": "2022-03-14T14:30:13.132Z"
   },
   {
    "duration": 98,
    "start_time": "2022-03-14T14:30:13.193Z"
   },
   {
    "duration": 135,
    "start_time": "2022-03-14T14:30:13.292Z"
   },
   {
    "duration": 75,
    "start_time": "2022-03-14T14:30:13.428Z"
   },
   {
    "duration": 286,
    "start_time": "2022-03-14T14:30:13.504Z"
   },
   {
    "duration": 295,
    "start_time": "2022-03-14T14:30:13.791Z"
   },
   {
    "duration": 551,
    "start_time": "2022-03-14T14:30:14.089Z"
   },
   {
    "duration": 738,
    "start_time": "2022-03-14T14:30:14.642Z"
   },
   {
    "duration": 673,
    "start_time": "2022-03-14T14:30:15.382Z"
   },
   {
    "duration": 399,
    "start_time": "2022-03-14T14:30:16.057Z"
   },
   {
    "duration": 394,
    "start_time": "2022-03-14T14:30:16.458Z"
   },
   {
    "duration": 363,
    "start_time": "2022-03-14T14:30:16.853Z"
   },
   {
    "duration": 1096,
    "start_time": "2022-03-14T14:30:17.217Z"
   },
   {
    "duration": 845,
    "start_time": "2022-03-14T14:30:18.315Z"
   },
   {
    "duration": 988,
    "start_time": "2022-03-14T14:30:19.161Z"
   },
   {
    "duration": 22,
    "start_time": "2022-03-14T14:32:37.912Z"
   },
   {
    "duration": 12,
    "start_time": "2022-03-14T14:32:47.947Z"
   },
   {
    "duration": 657,
    "start_time": "2022-03-14T14:33:02.479Z"
   },
   {
    "duration": 9,
    "start_time": "2022-03-14T14:33:03.138Z"
   },
   {
    "duration": 733,
    "start_time": "2022-03-14T14:33:03.149Z"
   },
   {
    "duration": 510,
    "start_time": "2022-03-14T14:33:03.883Z"
   },
   {
    "duration": 824,
    "start_time": "2022-03-14T14:33:04.395Z"
   },
   {
    "duration": 639,
    "start_time": "2022-03-14T14:33:05.220Z"
   },
   {
    "duration": 382,
    "start_time": "2022-03-14T14:33:05.861Z"
   },
   {
    "duration": 581,
    "start_time": "2022-03-14T14:33:06.245Z"
   },
   {
    "duration": 477,
    "start_time": "2022-03-14T14:33:06.828Z"
   },
   {
    "duration": 163,
    "start_time": "2022-03-14T14:33:07.306Z"
   },
   {
    "duration": 573,
    "start_time": "2022-03-14T14:33:07.470Z"
   },
   {
    "duration": 271,
    "start_time": "2022-03-14T14:33:08.045Z"
   },
   {
    "duration": 126,
    "start_time": "2022-03-14T14:33:08.318Z"
   },
   {
    "duration": 109,
    "start_time": "2022-03-14T14:33:08.445Z"
   },
   {
    "duration": 286,
    "start_time": "2022-03-14T14:33:08.556Z"
   },
   {
    "duration": 210,
    "start_time": "2022-03-14T14:33:08.844Z"
   },
   {
    "duration": 340,
    "start_time": "2022-03-14T14:33:09.056Z"
   },
   {
    "duration": 178,
    "start_time": "2022-03-14T14:33:09.398Z"
   },
   {
    "duration": 276,
    "start_time": "2022-03-14T14:33:09.577Z"
   },
   {
    "duration": 92,
    "start_time": "2022-03-14T14:33:09.855Z"
   },
   {
    "duration": 362,
    "start_time": "2022-03-14T14:33:09.949Z"
   },
   {
    "duration": 179,
    "start_time": "2022-03-14T14:33:10.313Z"
   },
   {
    "duration": 244,
    "start_time": "2022-03-14T14:33:10.495Z"
   },
   {
    "duration": 341,
    "start_time": "2022-03-14T14:33:10.741Z"
   },
   {
    "duration": 145,
    "start_time": "2022-03-14T14:33:11.083Z"
   },
   {
    "duration": 41,
    "start_time": "2022-03-14T14:33:11.230Z"
   },
   {
    "duration": 308,
    "start_time": "2022-03-14T14:33:11.273Z"
   },
   {
    "duration": 242,
    "start_time": "2022-03-14T14:33:11.583Z"
   },
   {
    "duration": 354,
    "start_time": "2022-03-14T14:33:11.826Z"
   },
   {
    "duration": 505,
    "start_time": "2022-03-14T14:33:12.182Z"
   },
   {
    "duration": 360,
    "start_time": "2022-03-14T14:33:12.688Z"
   },
   {
    "duration": 23,
    "start_time": "2022-03-14T14:34:13.523Z"
   },
   {
    "duration": 15,
    "start_time": "2022-03-14T14:34:43.377Z"
   },
   {
    "duration": 81,
    "start_time": "2022-03-14T14:35:47.705Z"
   },
   {
    "duration": 1038,
    "start_time": "2022-03-14T14:35:47.788Z"
   },
   {
    "duration": 506,
    "start_time": "2022-03-14T14:35:48.829Z"
   },
   {
    "duration": 1354,
    "start_time": "2022-03-14T14:35:49.337Z"
   },
   {
    "duration": 1137,
    "start_time": "2022-03-14T14:35:50.692Z"
   },
   {
    "duration": 1553,
    "start_time": "2022-03-14T14:35:51.830Z"
   },
   {
    "duration": 1259,
    "start_time": "2022-03-14T14:35:53.385Z"
   },
   {
    "duration": 751,
    "start_time": "2022-03-14T14:35:54.646Z"
   },
   {
    "duration": 737,
    "start_time": "2022-03-14T14:35:55.400Z"
   },
   {
    "duration": 1016,
    "start_time": "2022-03-14T14:35:56.140Z"
   },
   {
    "duration": 172,
    "start_time": "2022-03-14T14:35:57.158Z"
   },
   {
    "duration": 371,
    "start_time": "2022-03-14T14:35:57.331Z"
   },
   {
    "duration": 243,
    "start_time": "2022-03-14T14:35:57.703Z"
   },
   {
    "duration": 337,
    "start_time": "2022-03-14T14:35:57.947Z"
   },
   {
    "duration": 334,
    "start_time": "2022-03-14T14:35:58.285Z"
   },
   {
    "duration": 341,
    "start_time": "2022-03-14T14:35:58.620Z"
   },
   {
    "duration": 318,
    "start_time": "2022-03-14T14:35:58.963Z"
   },
   {
    "duration": 806,
    "start_time": "2022-03-14T14:35:59.283Z"
   },
   {
    "duration": 1361,
    "start_time": "2022-03-14T14:36:00.090Z"
   },
   {
    "duration": 1436,
    "start_time": "2022-03-14T14:36:01.452Z"
   },
   {
    "duration": 1105,
    "start_time": "2022-03-14T14:36:02.889Z"
   },
   {
    "duration": 863,
    "start_time": "2022-03-14T14:36:03.995Z"
   },
   {
    "duration": 643,
    "start_time": "2022-03-14T14:36:04.860Z"
   },
   {
    "duration": 839,
    "start_time": "2022-03-14T14:36:05.505Z"
   },
   {
    "duration": 760,
    "start_time": "2022-03-14T14:36:06.346Z"
   },
   {
    "duration": 706,
    "start_time": "2022-03-14T14:36:07.108Z"
   },
   {
    "duration": 408,
    "start_time": "2022-03-14T14:36:07.817Z"
   },
   {
    "duration": 483,
    "start_time": "2022-03-14T14:36:08.227Z"
   },
   {
    "duration": 725,
    "start_time": "2022-03-14T14:36:08.711Z"
   },
   {
    "duration": 879,
    "start_time": "2022-03-14T14:36:09.438Z"
   },
   {
    "duration": 1097,
    "start_time": "2022-03-14T14:36:10.318Z"
   },
   {
    "duration": 32,
    "start_time": "2022-03-14T14:36:32.512Z"
   },
   {
    "duration": 447,
    "start_time": "2022-03-14T14:39:28.302Z"
   },
   {
    "duration": 294,
    "start_time": "2022-03-14T14:39:40.156Z"
   },
   {
    "duration": 91,
    "start_time": "2022-03-14T14:42:02.461Z"
   },
   {
    "duration": 98,
    "start_time": "2022-03-14T14:42:41.290Z"
   },
   {
    "duration": 12,
    "start_time": "2022-03-14T14:42:47.399Z"
   },
   {
    "duration": 8,
    "start_time": "2022-03-14T14:43:00.333Z"
   },
   {
    "duration": 635,
    "start_time": "2022-03-14T14:43:07.999Z"
   },
   {
    "duration": 504,
    "start_time": "2022-03-14T14:43:08.636Z"
   },
   {
    "duration": 322,
    "start_time": "2022-03-14T14:43:09.142Z"
   },
   {
    "duration": 485,
    "start_time": "2022-03-14T14:43:09.467Z"
   },
   {
    "duration": 1160,
    "start_time": "2022-03-14T14:43:09.954Z"
   },
   {
    "duration": 942,
    "start_time": "2022-03-14T14:43:11.115Z"
   },
   {
    "duration": 658,
    "start_time": "2022-03-14T14:43:12.059Z"
   },
   {
    "duration": 1092,
    "start_time": "2022-03-14T14:43:12.720Z"
   },
   {
    "duration": 749,
    "start_time": "2022-03-14T14:43:13.814Z"
   },
   {
    "duration": 700,
    "start_time": "2022-03-14T14:43:14.565Z"
   },
   {
    "duration": 626,
    "start_time": "2022-03-14T14:43:15.267Z"
   },
   {
    "duration": 534,
    "start_time": "2022-03-14T14:43:15.895Z"
   },
   {
    "duration": 781,
    "start_time": "2022-03-14T14:43:16.431Z"
   },
   {
    "duration": 822,
    "start_time": "2022-03-14T14:43:17.214Z"
   },
   {
    "duration": 707,
    "start_time": "2022-03-14T14:43:18.038Z"
   },
   {
    "duration": 847,
    "start_time": "2022-03-14T14:43:18.746Z"
   },
   {
    "duration": 738,
    "start_time": "2022-03-14T14:43:19.596Z"
   },
   {
    "duration": 478,
    "start_time": "2022-03-14T14:43:20.335Z"
   },
   {
    "duration": 720,
    "start_time": "2022-03-14T14:43:20.814Z"
   },
   {
    "duration": 602,
    "start_time": "2022-03-14T14:43:21.536Z"
   },
   {
    "duration": 899,
    "start_time": "2022-03-14T14:43:22.139Z"
   },
   {
    "duration": 1354,
    "start_time": "2022-03-14T14:43:23.039Z"
   },
   {
    "duration": 724,
    "start_time": "2022-03-14T14:43:24.396Z"
   },
   {
    "duration": 810,
    "start_time": "2022-03-14T14:43:25.122Z"
   },
   {
    "duration": 865,
    "start_time": "2022-03-14T14:43:25.933Z"
   },
   {
    "duration": 537,
    "start_time": "2022-03-14T14:43:26.800Z"
   },
   {
    "duration": 603,
    "start_time": "2022-03-14T14:43:27.339Z"
   },
   {
    "duration": 1005,
    "start_time": "2022-03-14T14:43:27.944Z"
   },
   {
    "duration": 731,
    "start_time": "2022-03-14T14:43:28.951Z"
   },
   {
    "duration": 1156,
    "start_time": "2022-03-14T14:43:29.684Z"
   },
   {
    "duration": 685,
    "start_time": "2022-03-14T14:43:30.841Z"
   },
   {
    "duration": 9,
    "start_time": "2022-03-14T14:43:46.133Z"
   },
   {
    "duration": 8,
    "start_time": "2022-03-14T14:44:06.913Z"
   },
   {
    "duration": 10,
    "start_time": "2022-03-14T14:44:15.930Z"
   },
   {
    "duration": 6,
    "start_time": "2022-03-14T14:44:33.757Z"
   },
   {
    "duration": 656,
    "start_time": "2022-03-14T14:44:43.522Z"
   },
   {
    "duration": 10,
    "start_time": "2022-03-14T14:44:44.179Z"
   },
   {
    "duration": 627,
    "start_time": "2022-03-14T14:44:44.191Z"
   },
   {
    "duration": 2385,
    "start_time": "2022-03-14T14:44:44.820Z"
   },
   {
    "duration": 1009,
    "start_time": "2022-03-14T14:44:47.207Z"
   },
   {
    "duration": 881,
    "start_time": "2022-03-14T14:44:48.218Z"
   },
   {
    "duration": 970,
    "start_time": "2022-03-14T14:44:49.101Z"
   },
   {
    "duration": 751,
    "start_time": "2022-03-14T14:44:50.072Z"
   },
   {
    "duration": 453,
    "start_time": "2022-03-14T14:44:50.826Z"
   },
   {
    "duration": 754,
    "start_time": "2022-03-14T14:44:51.282Z"
   },
   {
    "duration": 56,
    "start_time": "2022-03-14T14:44:52.038Z"
   },
   {
    "duration": 290,
    "start_time": "2022-03-14T14:44:52.096Z"
   },
   {
    "duration": 645,
    "start_time": "2022-03-14T14:44:52.388Z"
   },
   {
    "duration": 598,
    "start_time": "2022-03-14T14:44:53.035Z"
   },
   {
    "duration": 655,
    "start_time": "2022-03-14T14:44:53.634Z"
   },
   {
    "duration": 641,
    "start_time": "2022-03-14T14:44:54.291Z"
   },
   {
    "duration": 476,
    "start_time": "2022-03-14T14:44:54.935Z"
   },
   {
    "duration": 389,
    "start_time": "2022-03-14T14:44:55.413Z"
   },
   {
    "duration": 287,
    "start_time": "2022-03-14T14:44:55.803Z"
   },
   {
    "duration": 414,
    "start_time": "2022-03-14T14:44:56.093Z"
   },
   {
    "duration": 354,
    "start_time": "2022-03-14T14:44:56.509Z"
   },
   {
    "duration": 291,
    "start_time": "2022-03-14T14:44:56.865Z"
   },
   {
    "duration": 393,
    "start_time": "2022-03-14T14:44:57.158Z"
   },
   {
    "duration": 342,
    "start_time": "2022-03-14T14:44:57.552Z"
   },
   {
    "duration": 311,
    "start_time": "2022-03-14T14:44:57.895Z"
   },
   {
    "duration": 311,
    "start_time": "2022-03-14T14:44:58.208Z"
   },
   {
    "duration": 355,
    "start_time": "2022-03-14T14:44:58.522Z"
   },
   {
    "duration": 267,
    "start_time": "2022-03-14T14:44:58.879Z"
   },
   {
    "duration": 232,
    "start_time": "2022-03-14T14:44:59.148Z"
   },
   {
    "duration": 264,
    "start_time": "2022-03-14T14:44:59.382Z"
   },
   {
    "duration": 212,
    "start_time": "2022-03-14T14:44:59.649Z"
   },
   {
    "duration": 12,
    "start_time": "2022-03-14T14:47:05.904Z"
   },
   {
    "duration": 901,
    "start_time": "2022-03-14T14:47:14.661Z"
   },
   {
    "duration": 19,
    "start_time": "2022-03-14T14:47:15.564Z"
   },
   {
    "duration": 200,
    "start_time": "2022-03-14T14:47:15.585Z"
   },
   {
    "duration": 332,
    "start_time": "2022-03-14T14:47:15.787Z"
   },
   {
    "duration": 293,
    "start_time": "2022-03-14T14:47:16.121Z"
   },
   {
    "duration": 308,
    "start_time": "2022-03-14T14:47:16.415Z"
   },
   {
    "duration": 269,
    "start_time": "2022-03-14T14:47:16.724Z"
   },
   {
    "duration": 825,
    "start_time": "2022-03-14T14:47:16.997Z"
   },
   {
    "duration": 268,
    "start_time": "2022-03-14T14:47:17.824Z"
   },
   {
    "duration": 841,
    "start_time": "2022-03-14T14:47:18.093Z"
   },
   {
    "duration": 670,
    "start_time": "2022-03-14T14:47:18.935Z"
   },
   {
    "duration": 805,
    "start_time": "2022-03-14T14:47:19.607Z"
   },
   {
    "duration": 1158,
    "start_time": "2022-03-14T14:47:20.413Z"
   },
   {
    "duration": 619,
    "start_time": "2022-03-14T14:47:21.573Z"
   },
   {
    "duration": 458,
    "start_time": "2022-03-14T14:47:22.194Z"
   },
   {
    "duration": 503,
    "start_time": "2022-03-14T14:47:22.654Z"
   },
   {
    "duration": 317,
    "start_time": "2022-03-14T14:47:23.159Z"
   },
   {
    "duration": 251,
    "start_time": "2022-03-14T14:47:23.478Z"
   },
   {
    "duration": 654,
    "start_time": "2022-03-14T14:47:23.731Z"
   },
   {
    "duration": 773,
    "start_time": "2022-03-14T14:47:24.387Z"
   },
   {
    "duration": 553,
    "start_time": "2022-03-14T14:47:25.161Z"
   },
   {
    "duration": 663,
    "start_time": "2022-03-14T14:47:25.716Z"
   },
   {
    "duration": 233,
    "start_time": "2022-03-14T14:47:26.381Z"
   },
   {
    "duration": 337,
    "start_time": "2022-03-14T14:47:26.616Z"
   },
   {
    "duration": 307,
    "start_time": "2022-03-14T14:47:26.954Z"
   },
   {
    "duration": 245,
    "start_time": "2022-03-14T14:47:27.263Z"
   },
   {
    "duration": 215,
    "start_time": "2022-03-14T14:47:27.510Z"
   },
   {
    "duration": 246,
    "start_time": "2022-03-14T14:47:27.727Z"
   },
   {
    "duration": 356,
    "start_time": "2022-03-14T14:47:27.975Z"
   },
   {
    "duration": 507,
    "start_time": "2022-03-14T14:47:28.333Z"
   },
   {
    "duration": 252,
    "start_time": "2022-03-14T14:47:28.842Z"
   },
   {
    "duration": 15,
    "start_time": "2022-03-14T14:49:18.797Z"
   },
   {
    "duration": 15,
    "start_time": "2022-03-14T14:49:26.099Z"
   },
   {
    "duration": 8,
    "start_time": "2022-03-14T14:49:46.452Z"
   },
   {
    "duration": 6,
    "start_time": "2022-03-14T14:50:13.033Z"
   },
   {
    "duration": 9,
    "start_time": "2022-03-14T14:54:28.378Z"
   },
   {
    "duration": 9,
    "start_time": "2022-03-14T14:54:34.577Z"
   },
   {
    "duration": 8,
    "start_time": "2022-03-14T14:54:51.274Z"
   },
   {
    "duration": 361,
    "start_time": "2022-03-14T14:55:45.868Z"
   },
   {
    "duration": 333,
    "start_time": "2022-03-14T14:55:47.269Z"
   },
   {
    "duration": 21,
    "start_time": "2022-03-14T14:55:59.321Z"
   },
   {
    "duration": 6,
    "start_time": "2022-03-14T14:56:06.695Z"
   },
   {
    "duration": 668,
    "start_time": "2022-03-14T14:56:16.579Z"
   },
   {
    "duration": 84,
    "start_time": "2022-03-14T14:56:17.248Z"
   },
   {
    "duration": 996,
    "start_time": "2022-03-14T14:56:17.334Z"
   },
   {
    "duration": 696,
    "start_time": "2022-03-14T14:56:18.332Z"
   },
   {
    "duration": 304,
    "start_time": "2022-03-14T14:56:19.030Z"
   },
   {
    "duration": 381,
    "start_time": "2022-03-14T14:56:19.335Z"
   },
   {
    "duration": 338,
    "start_time": "2022-03-14T14:56:19.718Z"
   },
   {
    "duration": 301,
    "start_time": "2022-03-14T14:56:20.058Z"
   },
   {
    "duration": 354,
    "start_time": "2022-03-14T14:56:20.362Z"
   },
   {
    "duration": 383,
    "start_time": "2022-03-14T14:56:20.718Z"
   },
   {
    "duration": 462,
    "start_time": "2022-03-14T14:56:21.103Z"
   },
   {
    "duration": 420,
    "start_time": "2022-03-14T14:56:21.567Z"
   },
   {
    "duration": 351,
    "start_time": "2022-03-14T14:56:21.989Z"
   },
   {
    "duration": 274,
    "start_time": "2022-03-14T14:56:22.341Z"
   },
   {
    "duration": 401,
    "start_time": "2022-03-14T14:56:22.616Z"
   },
   {
    "duration": 369,
    "start_time": "2022-03-14T14:56:23.019Z"
   },
   {
    "duration": 585,
    "start_time": "2022-03-14T14:56:23.390Z"
   },
   {
    "duration": 292,
    "start_time": "2022-03-14T14:56:23.976Z"
   },
   {
    "duration": 80,
    "start_time": "2022-03-14T14:56:24.270Z"
   },
   {
    "duration": 200,
    "start_time": "2022-03-14T14:56:24.351Z"
   },
   {
    "duration": 583,
    "start_time": "2022-03-14T14:56:24.552Z"
   },
   {
    "duration": 401,
    "start_time": "2022-03-14T14:56:25.137Z"
   },
   {
    "duration": 288,
    "start_time": "2022-03-14T14:56:25.540Z"
   },
   {
    "duration": 257,
    "start_time": "2022-03-14T14:56:25.830Z"
   },
   {
    "duration": 336,
    "start_time": "2022-03-14T14:56:26.089Z"
   },
   {
    "duration": 303,
    "start_time": "2022-03-14T14:56:26.426Z"
   },
   {
    "duration": 125,
    "start_time": "2022-03-14T14:56:26.731Z"
   },
   {
    "duration": 23,
    "start_time": "2022-03-14T14:56:26.857Z"
   },
   {
    "duration": 12,
    "start_time": "2022-03-14T14:56:26.882Z"
   },
   {
    "duration": 50,
    "start_time": "2022-03-14T14:56:26.895Z"
   },
   {
    "duration": 348,
    "start_time": "2022-03-14T14:56:26.946Z"
   },
   {
    "duration": 15,
    "start_time": "2022-03-14T15:00:12.867Z"
   },
   {
    "duration": 12,
    "start_time": "2022-03-14T15:01:27.882Z"
   },
   {
    "duration": 11,
    "start_time": "2022-03-14T15:11:52.013Z"
   },
   {
    "duration": 15,
    "start_time": "2022-03-14T15:12:47.358Z"
   },
   {
    "duration": 15,
    "start_time": "2022-03-14T15:28:07.380Z"
   },
   {
    "duration": 12,
    "start_time": "2022-03-14T15:28:46.055Z"
   },
   {
    "duration": 3,
    "start_time": "2022-03-14T15:32:01.279Z"
   },
   {
    "duration": 15,
    "start_time": "2022-03-14T15:32:57.758Z"
   },
   {
    "duration": 12,
    "start_time": "2022-03-14T15:33:11.826Z"
   },
   {
    "duration": -345,
    "start_time": "2022-03-14T15:37:01.248Z"
   },
   {
    "duration": 7732,
    "start_time": "2022-03-14T15:37:04.378Z"
   },
   {
    "duration": -358,
    "start_time": "2022-03-14T15:37:12.471Z"
   },
   {
    "duration": 22,
    "start_time": "2022-03-14T15:37:25.230Z"
   },
   {
    "duration": 12,
    "start_time": "2022-03-14T15:37:28.524Z"
   },
   {
    "duration": 129,
    "start_time": "2022-03-14T15:40:34.497Z"
   },
   {
    "duration": 14,
    "start_time": "2022-03-14T15:41:44.597Z"
   },
   {
    "duration": 13,
    "start_time": "2022-03-14T15:42:03.084Z"
   },
   {
    "duration": 1320,
    "start_time": "2022-03-14T15:59:49.765Z"
   },
   {
    "duration": 294,
    "start_time": "2022-03-14T16:00:29.692Z"
   },
   {
    "duration": 19,
    "start_time": "2022-03-14T16:01:38.677Z"
   },
   {
    "duration": 328,
    "start_time": "2022-03-14T16:04:12.376Z"
   },
   {
    "duration": 24,
    "start_time": "2022-03-14T16:09:40.821Z"
   },
   {
    "duration": 28,
    "start_time": "2022-03-14T16:12:25.924Z"
   },
   {
    "duration": 239,
    "start_time": "2022-03-24T16:49:34.295Z"
   },
   {
    "duration": 50,
    "start_time": "2022-03-27T06:32:23.470Z"
   },
   {
    "duration": 517,
    "start_time": "2022-03-27T06:32:37.048Z"
   },
   {
    "duration": 17,
    "start_time": "2022-03-27T06:32:37.567Z"
   },
   {
    "duration": 8,
    "start_time": "2022-03-27T06:32:37.585Z"
   },
   {
    "duration": 16,
    "start_time": "2022-03-27T06:32:37.595Z"
   },
   {
    "duration": 8,
    "start_time": "2022-03-27T06:32:37.631Z"
   },
   {
    "duration": 10,
    "start_time": "2022-03-27T06:32:37.641Z"
   },
   {
    "duration": 17,
    "start_time": "2022-03-27T06:32:37.653Z"
   },
   {
    "duration": 6,
    "start_time": "2022-03-27T06:32:37.672Z"
   },
   {
    "duration": 9,
    "start_time": "2022-03-27T06:32:37.680Z"
   },
   {
    "duration": 41,
    "start_time": "2022-03-27T06:32:37.694Z"
   },
   {
    "duration": 6,
    "start_time": "2022-03-27T06:32:37.737Z"
   },
   {
    "duration": 8,
    "start_time": "2022-03-27T06:32:37.745Z"
   },
   {
    "duration": 24,
    "start_time": "2022-03-27T06:32:37.755Z"
   },
   {
    "duration": 31,
    "start_time": "2022-03-27T06:32:37.781Z"
   },
   {
    "duration": 76,
    "start_time": "2022-03-27T06:32:37.814Z"
   },
   {
    "duration": 0,
    "start_time": "2022-03-27T06:32:37.892Z"
   },
   {
    "duration": 0,
    "start_time": "2022-03-27T06:32:37.893Z"
   },
   {
    "duration": 0,
    "start_time": "2022-03-27T06:32:37.894Z"
   },
   {
    "duration": 0,
    "start_time": "2022-03-27T06:32:37.896Z"
   },
   {
    "duration": 0,
    "start_time": "2022-03-27T06:32:37.897Z"
   },
   {
    "duration": 0,
    "start_time": "2022-03-27T06:32:37.898Z"
   },
   {
    "duration": 0,
    "start_time": "2022-03-27T06:32:37.899Z"
   },
   {
    "duration": 0,
    "start_time": "2022-03-27T06:32:37.899Z"
   },
   {
    "duration": 0,
    "start_time": "2022-03-27T06:32:37.900Z"
   },
   {
    "duration": 0,
    "start_time": "2022-03-27T06:32:37.901Z"
   },
   {
    "duration": 0,
    "start_time": "2022-03-27T06:32:37.902Z"
   },
   {
    "duration": 0,
    "start_time": "2022-03-27T06:32:37.903Z"
   },
   {
    "duration": 0,
    "start_time": "2022-03-27T06:32:37.905Z"
   },
   {
    "duration": 0,
    "start_time": "2022-03-27T06:32:37.906Z"
   },
   {
    "duration": 0,
    "start_time": "2022-03-27T06:32:37.931Z"
   },
   {
    "duration": 0,
    "start_time": "2022-03-27T06:32:37.933Z"
   },
   {
    "duration": 0,
    "start_time": "2022-03-27T06:32:37.935Z"
   },
   {
    "duration": 7,
    "start_time": "2022-03-27T06:32:53.363Z"
   },
   {
    "duration": 8,
    "start_time": "2022-03-27T06:32:54.564Z"
   },
   {
    "duration": 11,
    "start_time": "2022-03-27T06:33:18.357Z"
   },
   {
    "duration": 10,
    "start_time": "2022-03-27T06:34:30.398Z"
   },
   {
    "duration": 7,
    "start_time": "2022-03-27T06:38:28.318Z"
   },
   {
    "duration": 5,
    "start_time": "2022-03-27T06:38:29.776Z"
   },
   {
    "duration": 11,
    "start_time": "2022-03-27T06:42:42.866Z"
   },
   {
    "duration": 6,
    "start_time": "2022-03-27T06:43:51.386Z"
   },
   {
    "duration": 2650,
    "start_time": "2022-03-27T06:46:21.984Z"
   },
   {
    "duration": 3,
    "start_time": "2022-03-27T06:46:30.354Z"
   },
   {
    "duration": 3,
    "start_time": "2022-03-27T06:46:33.850Z"
   },
   {
    "duration": 12,
    "start_time": "2022-03-27T06:47:27.669Z"
   },
   {
    "duration": 12,
    "start_time": "2022-03-27T06:50:03.514Z"
   },
   {
    "duration": 477,
    "start_time": "2022-03-27T06:54:15.061Z"
   },
   {
    "duration": 16,
    "start_time": "2022-03-27T06:54:15.540Z"
   },
   {
    "duration": 7,
    "start_time": "2022-03-27T06:54:15.558Z"
   },
   {
    "duration": 16,
    "start_time": "2022-03-27T06:54:15.566Z"
   },
   {
    "duration": 5,
    "start_time": "2022-03-27T06:54:15.585Z"
   },
   {
    "duration": 13,
    "start_time": "2022-03-27T06:54:15.592Z"
   },
   {
    "duration": 15,
    "start_time": "2022-03-27T06:54:15.631Z"
   },
   {
    "duration": 7,
    "start_time": "2022-03-27T06:54:15.648Z"
   },
   {
    "duration": 13,
    "start_time": "2022-03-27T06:54:15.657Z"
   },
   {
    "duration": 9,
    "start_time": "2022-03-27T06:54:15.671Z"
   },
   {
    "duration": 10,
    "start_time": "2022-03-27T06:54:15.681Z"
   },
   {
    "duration": 5,
    "start_time": "2022-03-27T06:54:15.693Z"
   },
   {
    "duration": 34,
    "start_time": "2022-03-27T06:54:15.700Z"
   },
   {
    "duration": 13,
    "start_time": "2022-03-27T06:54:15.737Z"
   },
   {
    "duration": 13,
    "start_time": "2022-03-27T06:54:15.752Z"
   },
   {
    "duration": 6,
    "start_time": "2022-03-27T06:54:15.767Z"
   },
   {
    "duration": 12,
    "start_time": "2022-03-27T06:54:15.776Z"
   },
   {
    "duration": 5,
    "start_time": "2022-03-27T06:54:15.790Z"
   },
   {
    "duration": 49,
    "start_time": "2022-03-27T06:54:15.797Z"
   },
   {
    "duration": 13,
    "start_time": "2022-03-27T06:54:15.848Z"
   },
   {
    "duration": 22,
    "start_time": "2022-03-27T06:54:15.863Z"
   },
   {
    "duration": 57,
    "start_time": "2022-03-27T06:54:15.887Z"
   },
   {
    "duration": 8,
    "start_time": "2022-03-27T06:54:15.946Z"
   },
   {
    "duration": 10,
    "start_time": "2022-03-27T06:54:15.956Z"
   },
   {
    "duration": 7,
    "start_time": "2022-03-27T06:54:15.968Z"
   },
   {
    "duration": 13,
    "start_time": "2022-03-27T06:54:15.977Z"
   },
   {
    "duration": 49,
    "start_time": "2022-03-27T06:54:15.992Z"
   },
   {
    "duration": 9,
    "start_time": "2022-03-27T06:54:16.043Z"
   },
   {
    "duration": 23,
    "start_time": "2022-03-27T06:54:16.054Z"
   },
   {
    "duration": 7,
    "start_time": "2022-03-27T06:54:16.079Z"
   },
   {
    "duration": 9,
    "start_time": "2022-03-27T06:54:16.088Z"
   },
   {
    "duration": 7,
    "start_time": "2022-03-27T06:54:16.099Z"
   },
   {
    "duration": 42,
    "start_time": "2022-03-27T06:54:16.108Z"
   },
   {
    "duration": 78,
    "start_time": "2022-03-27T07:28:52.812Z"
   },
   {
    "duration": 17,
    "start_time": "2022-03-27T07:31:05.725Z"
   },
   {
    "duration": 11,
    "start_time": "2022-03-27T07:32:03.223Z"
   },
   {
    "duration": 10,
    "start_time": "2022-03-27T07:32:06.745Z"
   },
   {
    "duration": 11,
    "start_time": "2022-03-27T07:32:26.866Z"
   },
   {
    "duration": 13,
    "start_time": "2022-03-27T07:32:58.445Z"
   },
   {
    "duration": 14,
    "start_time": "2022-03-27T07:33:27.211Z"
   },
   {
    "duration": 14,
    "start_time": "2022-03-27T07:33:32.659Z"
   },
   {
    "duration": 11,
    "start_time": "2022-03-27T07:33:39.811Z"
   },
   {
    "duration": 15,
    "start_time": "2022-03-27T07:39:23.456Z"
   },
   {
    "duration": 15,
    "start_time": "2022-03-27T07:40:19.324Z"
   },
   {
    "duration": 13,
    "start_time": "2022-03-27T07:40:34.917Z"
   },
   {
    "duration": 15,
    "start_time": "2022-03-27T07:46:16.461Z"
   },
   {
    "duration": 14,
    "start_time": "2022-03-27T07:48:39.632Z"
   },
   {
    "duration": 26,
    "start_time": "2022-03-27T07:51:25.724Z"
   },
   {
    "duration": 13,
    "start_time": "2022-03-27T07:51:59.168Z"
   },
   {
    "duration": 18,
    "start_time": "2022-03-27T07:52:25.924Z"
   },
   {
    "duration": 13,
    "start_time": "2022-03-27T07:52:44.761Z"
   },
   {
    "duration": 17,
    "start_time": "2022-03-27T07:52:48.176Z"
   },
   {
    "duration": 15,
    "start_time": "2022-03-27T07:57:05.883Z"
   },
   {
    "duration": 2589,
    "start_time": "2022-03-27T08:03:02.464Z"
   },
   {
    "duration": 17,
    "start_time": "2022-03-27T08:03:59.335Z"
   },
   {
    "duration": 20,
    "start_time": "2022-03-27T08:08:43.293Z"
   },
   {
    "duration": 21,
    "start_time": "2022-03-27T08:15:47.032Z"
   },
   {
    "duration": 22,
    "start_time": "2022-03-27T08:16:16.923Z"
   },
   {
    "duration": 2,
    "start_time": "2022-03-27T08:21:43.636Z"
   },
   {
    "duration": 47,
    "start_time": "2022-03-27T12:52:10.463Z"
   },
   {
    "duration": 492,
    "start_time": "2022-03-27T12:52:24.045Z"
   },
   {
    "duration": 16,
    "start_time": "2022-03-27T12:52:24.539Z"
   },
   {
    "duration": 8,
    "start_time": "2022-03-27T12:52:24.556Z"
   },
   {
    "duration": 14,
    "start_time": "2022-03-27T12:52:24.567Z"
   },
   {
    "duration": 6,
    "start_time": "2022-03-27T12:52:24.582Z"
   },
   {
    "duration": 12,
    "start_time": "2022-03-27T12:52:24.589Z"
   },
   {
    "duration": 47,
    "start_time": "2022-03-27T12:52:24.603Z"
   },
   {
    "duration": 5,
    "start_time": "2022-03-27T12:52:24.651Z"
   },
   {
    "duration": 15,
    "start_time": "2022-03-27T12:52:24.658Z"
   },
   {
    "duration": 9,
    "start_time": "2022-03-27T12:52:24.677Z"
   },
   {
    "duration": 9,
    "start_time": "2022-03-27T12:52:24.688Z"
   },
   {
    "duration": 8,
    "start_time": "2022-03-27T12:52:24.699Z"
   },
   {
    "duration": 31,
    "start_time": "2022-03-27T12:52:24.708Z"
   },
   {
    "duration": 17,
    "start_time": "2022-03-27T12:52:24.741Z"
   },
   {
    "duration": 21,
    "start_time": "2022-03-27T12:52:24.760Z"
   },
   {
    "duration": 11,
    "start_time": "2022-03-27T12:52:24.783Z"
   },
   {
    "duration": 16,
    "start_time": "2022-03-27T12:52:24.796Z"
   },
   {
    "duration": 25,
    "start_time": "2022-03-27T12:52:24.814Z"
   },
   {
    "duration": 17,
    "start_time": "2022-03-27T12:52:24.841Z"
   },
   {
    "duration": 13,
    "start_time": "2022-03-27T12:52:24.860Z"
   },
   {
    "duration": 31,
    "start_time": "2022-03-27T12:52:24.875Z"
   },
   {
    "duration": 46,
    "start_time": "2022-03-27T12:52:24.910Z"
   },
   {
    "duration": 7,
    "start_time": "2022-03-27T12:52:24.958Z"
   },
   {
    "duration": 20,
    "start_time": "2022-03-27T12:52:24.966Z"
   },
   {
    "duration": 12,
    "start_time": "2022-03-27T12:52:24.987Z"
   },
   {
    "duration": 13,
    "start_time": "2022-03-27T12:52:25.001Z"
   },
   {
    "duration": 33,
    "start_time": "2022-03-27T12:52:25.015Z"
   },
   {
    "duration": 4,
    "start_time": "2022-03-27T12:52:25.052Z"
   },
   {
    "duration": 40,
    "start_time": "2022-03-27T12:52:25.057Z"
   },
   {
    "duration": 18,
    "start_time": "2022-03-27T12:52:25.099Z"
   },
   {
    "duration": 15,
    "start_time": "2022-03-27T12:52:25.120Z"
   },
   {
    "duration": 12,
    "start_time": "2022-03-27T12:52:25.137Z"
   },
   {
    "duration": 26,
    "start_time": "2022-03-27T12:52:25.151Z"
   },
   {
    "duration": 30,
    "start_time": "2022-03-27T12:52:25.179Z"
   },
   {
    "duration": 16,
    "start_time": "2022-03-27T12:52:25.211Z"
   },
   {
    "duration": 27,
    "start_time": "2022-03-27T12:52:25.228Z"
   },
   {
    "duration": 20,
    "start_time": "2022-03-27T12:52:25.256Z"
   },
   {
    "duration": 23,
    "start_time": "2022-03-27T12:53:44.273Z"
   },
   {
    "duration": 19,
    "start_time": "2022-03-27T12:54:37.253Z"
   },
   {
    "duration": 25,
    "start_time": "2022-03-27T12:54:43.397Z"
   },
   {
    "duration": 26,
    "start_time": "2022-03-27T13:18:32.422Z"
   },
   {
    "duration": 26,
    "start_time": "2022-03-27T13:22:33.436Z"
   },
   {
    "duration": 28,
    "start_time": "2022-03-27T13:30:51.738Z"
   },
   {
    "duration": 124,
    "start_time": "2022-03-27T14:06:35.614Z"
   },
   {
    "duration": 69,
    "start_time": "2022-04-11T15:36:40.808Z"
   },
   {
    "duration": 751,
    "start_time": "2022-04-11T15:36:56.605Z"
   },
   {
    "duration": 21,
    "start_time": "2022-04-11T15:36:57.359Z"
   },
   {
    "duration": 24,
    "start_time": "2022-04-11T15:36:57.385Z"
   },
   {
    "duration": 14,
    "start_time": "2022-04-11T15:36:57.413Z"
   },
   {
    "duration": 27,
    "start_time": "2022-04-11T15:36:57.429Z"
   },
   {
    "duration": 47,
    "start_time": "2022-04-11T15:36:57.458Z"
   },
   {
    "duration": 7,
    "start_time": "2022-04-11T15:36:57.507Z"
   },
   {
    "duration": 9,
    "start_time": "2022-04-11T15:36:57.516Z"
   },
   {
    "duration": 5,
    "start_time": "2022-04-11T15:36:57.527Z"
   },
   {
    "duration": 13,
    "start_time": "2022-04-11T15:36:57.536Z"
   },
   {
    "duration": 17,
    "start_time": "2022-04-11T15:36:57.551Z"
   },
   {
    "duration": 55,
    "start_time": "2022-04-11T15:36:57.570Z"
   },
   {
    "duration": 16,
    "start_time": "2022-04-11T15:36:57.627Z"
   },
   {
    "duration": 19,
    "start_time": "2022-04-11T15:36:57.645Z"
   },
   {
    "duration": 21,
    "start_time": "2022-04-11T15:36:57.666Z"
   },
   {
    "duration": 22,
    "start_time": "2022-04-11T15:36:57.691Z"
   },
   {
    "duration": 22,
    "start_time": "2022-04-11T15:36:57.715Z"
   },
   {
    "duration": 985,
    "start_time": "2022-04-11T15:36:57.739Z"
   },
   {
    "duration": 35,
    "start_time": "2022-04-11T15:36:58.726Z"
   },
   {
    "duration": 1092,
    "start_time": "2022-04-11T15:36:58.763Z"
   },
   {
    "duration": 441,
    "start_time": "2022-04-11T15:36:59.858Z"
   },
   {
    "duration": 462,
    "start_time": "2022-04-11T15:37:00.302Z"
   },
   {
    "duration": 414,
    "start_time": "2022-04-11T15:37:00.767Z"
   },
   {
    "duration": 353,
    "start_time": "2022-04-11T15:37:01.185Z"
   },
   {
    "duration": 13,
    "start_time": "2022-04-11T15:37:01.540Z"
   },
   {
    "duration": 4,
    "start_time": "2022-04-11T15:37:01.555Z"
   },
   {
    "duration": 201,
    "start_time": "2022-04-11T15:37:01.592Z"
   },
   {
    "duration": 422,
    "start_time": "2022-04-11T15:37:01.802Z"
   },
   {
    "duration": 12,
    "start_time": "2022-04-11T15:37:02.227Z"
   },
   {
    "duration": 303,
    "start_time": "2022-04-11T15:37:02.241Z"
   },
   {
    "duration": 17,
    "start_time": "2022-04-11T15:37:02.547Z"
   },
   {
    "duration": 511,
    "start_time": "2022-04-11T15:37:02.586Z"
   },
   {
    "duration": 10,
    "start_time": "2022-04-11T15:37:03.100Z"
   },
   {
    "duration": 368,
    "start_time": "2022-04-11T15:37:03.112Z"
   },
   {
    "duration": 16,
    "start_time": "2022-04-11T15:37:03.482Z"
   },
   {
    "duration": 234,
    "start_time": "2022-04-11T15:37:03.502Z"
   },
   {
    "duration": 789,
    "start_time": "2022-04-11T15:37:03.738Z"
   },
   {
    "duration": 9,
    "start_time": "2022-04-11T15:37:04.530Z"
   },
   {
    "duration": 241,
    "start_time": "2022-04-11T15:37:04.546Z"
   },
   {
    "duration": 265,
    "start_time": "2022-04-11T15:37:04.790Z"
   },
   {
    "duration": 220,
    "start_time": "2022-04-11T15:37:05.058Z"
   },
   {
    "duration": 40,
    "start_time": "2022-04-11T15:37:05.281Z"
   },
   {
    "duration": 16,
    "start_time": "2022-04-11T15:37:05.323Z"
   },
   {
    "duration": 38,
    "start_time": "2022-04-11T15:37:05.341Z"
   },
   {
    "duration": 349,
    "start_time": "2022-04-11T15:37:05.382Z"
   },
   {
    "duration": 13,
    "start_time": "2022-04-11T15:37:05.735Z"
   },
   {
    "duration": 294,
    "start_time": "2022-04-11T15:37:05.750Z"
   },
   {
    "duration": 279,
    "start_time": "2022-04-11T15:37:06.046Z"
   },
   {
    "duration": 288,
    "start_time": "2022-04-11T15:37:06.328Z"
   },
   {
    "duration": 414,
    "start_time": "2022-04-11T15:37:06.618Z"
   },
   {
    "duration": 414,
    "start_time": "2022-04-11T15:37:07.034Z"
   },
   {
    "duration": 426,
    "start_time": "2022-04-11T15:37:07.451Z"
   },
   {
    "duration": 580,
    "start_time": "2022-04-11T15:37:07.879Z"
   },
   {
    "duration": 247,
    "start_time": "2022-04-11T15:37:08.461Z"
   },
   {
    "duration": 250,
    "start_time": "2022-04-11T15:37:08.711Z"
   },
   {
    "duration": 256,
    "start_time": "2022-04-11T15:37:08.964Z"
   },
   {
    "duration": 18,
    "start_time": "2022-04-11T15:37:53.465Z"
   },
   {
    "duration": 15,
    "start_time": "2022-04-11T15:38:40.833Z"
   },
   {
    "duration": 16,
    "start_time": "2022-04-11T15:39:02.253Z"
   },
   {
    "duration": 15,
    "start_time": "2022-04-11T15:39:40.832Z"
   },
   {
    "duration": 671,
    "start_time": "2022-04-11T15:39:57.628Z"
   },
   {
    "duration": 22,
    "start_time": "2022-04-11T15:39:58.302Z"
   },
   {
    "duration": 15,
    "start_time": "2022-04-11T15:39:58.326Z"
   },
   {
    "duration": 40,
    "start_time": "2022-04-11T15:39:58.345Z"
   },
   {
    "duration": 22,
    "start_time": "2022-04-11T15:39:58.388Z"
   },
   {
    "duration": 30,
    "start_time": "2022-04-11T15:39:58.413Z"
   },
   {
    "duration": 42,
    "start_time": "2022-04-11T15:39:58.446Z"
   },
   {
    "duration": 11,
    "start_time": "2022-04-11T15:39:58.491Z"
   },
   {
    "duration": 18,
    "start_time": "2022-04-11T15:39:58.504Z"
   },
   {
    "duration": 10,
    "start_time": "2022-04-11T15:39:58.528Z"
   },
   {
    "duration": 44,
    "start_time": "2022-04-11T15:39:58.540Z"
   },
   {
    "duration": 44,
    "start_time": "2022-04-11T15:39:58.586Z"
   },
   {
    "duration": 20,
    "start_time": "2022-04-11T15:39:58.632Z"
   },
   {
    "duration": 47,
    "start_time": "2022-04-11T15:39:58.656Z"
   },
   {
    "duration": 18,
    "start_time": "2022-04-11T15:39:58.707Z"
   },
   {
    "duration": 31,
    "start_time": "2022-04-11T15:39:58.727Z"
   },
   {
    "duration": 28,
    "start_time": "2022-04-11T15:39:58.784Z"
   },
   {
    "duration": 908,
    "start_time": "2022-04-11T15:39:58.815Z"
   },
   {
    "duration": 59,
    "start_time": "2022-04-11T15:39:59.726Z"
   },
   {
    "duration": 1045,
    "start_time": "2022-04-11T15:39:59.788Z"
   },
   {
    "duration": 696,
    "start_time": "2022-04-11T15:40:00.836Z"
   },
   {
    "duration": 631,
    "start_time": "2022-04-11T15:40:01.535Z"
   },
   {
    "duration": 615,
    "start_time": "2022-04-11T15:40:02.169Z"
   },
   {
    "duration": 310,
    "start_time": "2022-04-11T15:40:02.787Z"
   },
   {
    "duration": 14,
    "start_time": "2022-04-11T15:40:03.100Z"
   },
   {
    "duration": 92,
    "start_time": "2022-04-11T15:40:03.117Z"
   },
   {
    "duration": 255,
    "start_time": "2022-04-11T15:40:03.211Z"
   },
   {
    "duration": 391,
    "start_time": "2022-04-11T15:40:03.483Z"
   },
   {
    "duration": 14,
    "start_time": "2022-04-11T15:40:03.885Z"
   },
   {
    "duration": 196,
    "start_time": "2022-04-11T15:40:03.902Z"
   },
   {
    "duration": 20,
    "start_time": "2022-04-11T15:40:04.101Z"
   },
   {
    "duration": 778,
    "start_time": "2022-04-11T15:40:04.123Z"
   },
   {
    "duration": 9,
    "start_time": "2022-04-11T15:40:04.904Z"
   },
   {
    "duration": 290,
    "start_time": "2022-04-11T15:40:04.915Z"
   },
   {
    "duration": 9,
    "start_time": "2022-04-11T15:40:05.208Z"
   },
   {
    "duration": 196,
    "start_time": "2022-04-11T15:40:05.219Z"
   },
   {
    "duration": 740,
    "start_time": "2022-04-11T15:40:05.418Z"
   },
   {
    "duration": 25,
    "start_time": "2022-04-11T15:40:06.161Z"
   },
   {
    "duration": 319,
    "start_time": "2022-04-11T15:40:06.188Z"
   },
   {
    "duration": 391,
    "start_time": "2022-04-11T15:40:06.509Z"
   },
   {
    "duration": 236,
    "start_time": "2022-04-11T15:40:06.902Z"
   },
   {
    "duration": 43,
    "start_time": "2022-04-11T15:40:07.140Z"
   },
   {
    "duration": 5,
    "start_time": "2022-04-11T15:40:07.185Z"
   },
   {
    "duration": 9,
    "start_time": "2022-04-11T15:40:07.192Z"
   },
   {
    "duration": 316,
    "start_time": "2022-04-11T15:40:07.203Z"
   },
   {
    "duration": 14,
    "start_time": "2022-04-11T15:40:07.521Z"
   },
   {
    "duration": 396,
    "start_time": "2022-04-11T15:40:07.538Z"
   },
   {
    "duration": 388,
    "start_time": "2022-04-11T15:40:07.937Z"
   },
   {
    "duration": 396,
    "start_time": "2022-04-11T15:40:08.328Z"
   },
   {
    "duration": 376,
    "start_time": "2022-04-11T15:40:08.727Z"
   },
   {
    "duration": 345,
    "start_time": "2022-04-11T15:40:09.106Z"
   },
   {
    "duration": 354,
    "start_time": "2022-04-11T15:40:09.453Z"
   },
   {
    "duration": 559,
    "start_time": "2022-04-11T15:40:09.809Z"
   },
   {
    "duration": 235,
    "start_time": "2022-04-11T15:40:10.370Z"
   },
   {
    "duration": 204,
    "start_time": "2022-04-11T15:40:10.608Z"
   },
   {
    "duration": 233,
    "start_time": "2022-04-11T15:40:10.814Z"
   },
   {
    "duration": 97,
    "start_time": "2022-04-11T15:47:15.479Z"
   },
   {
    "duration": 112,
    "start_time": "2022-04-11T15:47:37.019Z"
   },
   {
    "duration": 113,
    "start_time": "2022-04-11T15:48:16.128Z"
   },
   {
    "duration": 110,
    "start_time": "2022-04-11T15:48:21.582Z"
   },
   {
    "duration": 120,
    "start_time": "2022-04-11T15:48:37.527Z"
   },
   {
    "duration": 21,
    "start_time": "2022-04-11T15:48:54.528Z"
   },
   {
    "duration": 163,
    "start_time": "2022-04-11T15:49:20.217Z"
   },
   {
    "duration": 24,
    "start_time": "2022-04-11T15:49:29.723Z"
   },
   {
    "duration": 21,
    "start_time": "2022-04-11T15:49:47.475Z"
   },
   {
    "duration": 1004,
    "start_time": "2022-04-11T15:50:02.285Z"
   },
   {
    "duration": 33,
    "start_time": "2022-04-11T15:50:03.293Z"
   },
   {
    "duration": 22,
    "start_time": "2022-04-11T15:50:03.329Z"
   },
   {
    "duration": 41,
    "start_time": "2022-04-11T15:50:03.354Z"
   },
   {
    "duration": 32,
    "start_time": "2022-04-11T15:50:03.400Z"
   },
   {
    "duration": 72,
    "start_time": "2022-04-11T15:50:03.434Z"
   },
   {
    "duration": 9,
    "start_time": "2022-04-11T15:50:03.509Z"
   },
   {
    "duration": 34,
    "start_time": "2022-04-11T15:50:03.520Z"
   },
   {
    "duration": 42,
    "start_time": "2022-04-11T15:50:03.556Z"
   },
   {
    "duration": 42,
    "start_time": "2022-04-11T15:50:03.600Z"
   },
   {
    "duration": 23,
    "start_time": "2022-04-11T15:50:03.645Z"
   },
   {
    "duration": 43,
    "start_time": "2022-04-11T15:50:03.671Z"
   },
   {
    "duration": 16,
    "start_time": "2022-04-11T15:50:03.717Z"
   },
   {
    "duration": 19,
    "start_time": "2022-04-11T15:50:03.738Z"
   },
   {
    "duration": 30,
    "start_time": "2022-04-11T15:50:03.760Z"
   },
   {
    "duration": 26,
    "start_time": "2022-04-11T15:50:03.793Z"
   },
   {
    "duration": 22,
    "start_time": "2022-04-11T15:50:03.821Z"
   },
   {
    "duration": 927,
    "start_time": "2022-04-11T15:50:03.846Z"
   },
   {
    "duration": 56,
    "start_time": "2022-04-11T15:50:04.776Z"
   },
   {
    "duration": 1170,
    "start_time": "2022-04-11T15:50:04.835Z"
   },
   {
    "duration": 664,
    "start_time": "2022-04-11T15:50:06.008Z"
   },
   {
    "duration": 414,
    "start_time": "2022-04-11T15:50:06.675Z"
   },
   {
    "duration": 395,
    "start_time": "2022-04-11T15:50:07.092Z"
   },
   {
    "duration": 304,
    "start_time": "2022-04-11T15:50:07.490Z"
   },
   {
    "duration": 13,
    "start_time": "2022-04-11T15:50:07.797Z"
   },
   {
    "duration": 5,
    "start_time": "2022-04-11T15:50:07.813Z"
   },
   {
    "duration": 222,
    "start_time": "2022-04-11T15:50:07.820Z"
   },
   {
    "duration": 394,
    "start_time": "2022-04-11T15:50:08.044Z"
   },
   {
    "duration": 13,
    "start_time": "2022-04-11T15:50:08.440Z"
   },
   {
    "duration": 203,
    "start_time": "2022-04-11T15:50:08.455Z"
   },
   {
    "duration": 32,
    "start_time": "2022-04-11T15:50:08.660Z"
   },
   {
    "duration": 559,
    "start_time": "2022-04-11T15:50:08.694Z"
   },
   {
    "duration": 7,
    "start_time": "2022-04-11T15:50:09.255Z"
   },
   {
    "duration": 279,
    "start_time": "2022-04-11T15:50:09.264Z"
   },
   {
    "duration": 8,
    "start_time": "2022-04-11T15:50:09.545Z"
   },
   {
    "duration": 196,
    "start_time": "2022-04-11T15:50:09.555Z"
   },
   {
    "duration": 844,
    "start_time": "2022-04-11T15:50:09.753Z"
   },
   {
    "duration": 7,
    "start_time": "2022-04-11T15:50:10.600Z"
   },
   {
    "duration": 234,
    "start_time": "2022-04-11T15:50:10.609Z"
   },
   {
    "duration": 258,
    "start_time": "2022-04-11T15:50:10.846Z"
   },
   {
    "duration": 340,
    "start_time": "2022-04-11T15:50:11.110Z"
   },
   {
    "duration": 62,
    "start_time": "2022-04-11T15:50:11.454Z"
   },
   {
    "duration": 7,
    "start_time": "2022-04-11T15:50:11.519Z"
   },
   {
    "duration": 13,
    "start_time": "2022-04-11T15:50:11.529Z"
   },
   {
    "duration": 325,
    "start_time": "2022-04-11T15:50:11.545Z"
   },
   {
    "duration": 18,
    "start_time": "2022-04-11T15:50:11.872Z"
   },
   {
    "duration": 275,
    "start_time": "2022-04-11T15:50:11.892Z"
   },
   {
    "duration": 268,
    "start_time": "2022-04-11T15:50:12.169Z"
   },
   {
    "duration": 284,
    "start_time": "2022-04-11T15:50:12.440Z"
   },
   {
    "duration": 403,
    "start_time": "2022-04-11T15:50:12.727Z"
   },
   {
    "duration": 531,
    "start_time": "2022-04-11T15:50:13.134Z"
   },
   {
    "duration": 374,
    "start_time": "2022-04-11T15:50:13.668Z"
   },
   {
    "duration": 859,
    "start_time": "2022-04-11T15:50:14.045Z"
   },
   {
    "duration": 366,
    "start_time": "2022-04-11T15:50:14.907Z"
   },
   {
    "duration": 333,
    "start_time": "2022-04-11T15:50:15.275Z"
   },
   {
    "duration": 233,
    "start_time": "2022-04-11T15:50:15.611Z"
   },
   {
    "duration": 146,
    "start_time": "2022-04-11T15:55:12.032Z"
   },
   {
    "duration": 8,
    "start_time": "2022-04-12T14:44:18.395Z"
   },
   {
    "duration": 45,
    "start_time": "2022-04-12T14:44:45.254Z"
   },
   {
    "duration": 544,
    "start_time": "2022-04-12T14:44:53.705Z"
   },
   {
    "duration": 14,
    "start_time": "2022-04-12T14:44:54.250Z"
   },
   {
    "duration": 10,
    "start_time": "2022-04-12T14:44:54.265Z"
   },
   {
    "duration": 8,
    "start_time": "2022-04-12T14:44:54.277Z"
   },
   {
    "duration": 31,
    "start_time": "2022-04-12T14:44:54.287Z"
   },
   {
    "duration": 16,
    "start_time": "2022-04-12T14:44:54.320Z"
   },
   {
    "duration": 4,
    "start_time": "2022-04-12T14:44:54.338Z"
   },
   {
    "duration": 7,
    "start_time": "2022-04-12T14:44:54.343Z"
   },
   {
    "duration": 55,
    "start_time": "2022-04-12T14:44:54.352Z"
   },
   {
    "duration": 4,
    "start_time": "2022-04-12T14:44:54.409Z"
   },
   {
    "duration": 9,
    "start_time": "2022-04-12T14:44:54.414Z"
   },
   {
    "duration": 13,
    "start_time": "2022-04-12T14:44:54.424Z"
   },
   {
    "duration": 29,
    "start_time": "2022-04-12T14:44:54.438Z"
   },
   {
    "duration": 37,
    "start_time": "2022-04-12T14:44:54.470Z"
   },
   {
    "duration": 14,
    "start_time": "2022-04-12T14:44:54.509Z"
   },
   {
    "duration": 8,
    "start_time": "2022-04-12T14:44:54.524Z"
   },
   {
    "duration": 14,
    "start_time": "2022-04-12T14:44:54.534Z"
   },
   {
    "duration": 16,
    "start_time": "2022-04-12T14:44:54.550Z"
   },
   {
    "duration": 341,
    "start_time": "2022-04-12T14:44:54.568Z"
   },
   {
    "duration": 23,
    "start_time": "2022-04-12T14:44:54.910Z"
   },
   {
    "duration": 603,
    "start_time": "2022-04-12T14:44:54.935Z"
   },
   {
    "duration": 238,
    "start_time": "2022-04-12T14:44:55.540Z"
   },
   {
    "duration": 241,
    "start_time": "2022-04-12T14:44:55.780Z"
   },
   {
    "duration": 230,
    "start_time": "2022-04-12T14:44:56.023Z"
   },
   {
    "duration": 185,
    "start_time": "2022-04-12T14:44:56.255Z"
   },
   {
    "duration": 9,
    "start_time": "2022-04-12T14:44:56.441Z"
   },
   {
    "duration": 2,
    "start_time": "2022-04-12T14:44:56.451Z"
   },
   {
    "duration": 128,
    "start_time": "2022-04-12T14:44:56.455Z"
   },
   {
    "duration": 233,
    "start_time": "2022-04-12T14:44:56.585Z"
   },
   {
    "duration": 9,
    "start_time": "2022-04-12T14:44:56.820Z"
   },
   {
    "duration": 185,
    "start_time": "2022-04-12T14:44:56.830Z"
   },
   {
    "duration": 10,
    "start_time": "2022-04-12T14:44:57.017Z"
   },
   {
    "duration": 287,
    "start_time": "2022-04-12T14:44:57.029Z"
   },
   {
    "duration": 5,
    "start_time": "2022-04-12T14:44:57.318Z"
   },
   {
    "duration": 152,
    "start_time": "2022-04-12T14:44:57.324Z"
   },
   {
    "duration": 5,
    "start_time": "2022-04-12T14:44:57.478Z"
   },
   {
    "duration": 123,
    "start_time": "2022-04-12T14:44:57.484Z"
   },
   {
    "duration": 415,
    "start_time": "2022-04-12T14:44:57.609Z"
   },
   {
    "duration": 5,
    "start_time": "2022-04-12T14:44:58.026Z"
   },
   {
    "duration": 136,
    "start_time": "2022-04-12T14:44:58.032Z"
   },
   {
    "duration": 163,
    "start_time": "2022-04-12T14:44:58.172Z"
   },
   {
    "duration": 125,
    "start_time": "2022-04-12T14:44:58.336Z"
   },
   {
    "duration": 20,
    "start_time": "2022-04-12T14:44:58.463Z"
   },
   {
    "duration": 3,
    "start_time": "2022-04-12T14:44:58.484Z"
   },
   {
    "duration": 19,
    "start_time": "2022-04-12T14:44:58.489Z"
   },
   {
    "duration": 179,
    "start_time": "2022-04-12T14:44:58.510Z"
   },
   {
    "duration": 17,
    "start_time": "2022-04-12T14:44:58.691Z"
   },
   {
    "duration": 155,
    "start_time": "2022-04-12T14:44:58.710Z"
   },
   {
    "duration": 157,
    "start_time": "2022-04-12T14:44:58.867Z"
   },
   {
    "duration": 160,
    "start_time": "2022-04-12T14:44:59.026Z"
   },
   {
    "duration": 236,
    "start_time": "2022-04-12T14:44:59.188Z"
   },
   {
    "duration": 204,
    "start_time": "2022-04-12T14:44:59.426Z"
   },
   {
    "duration": 213,
    "start_time": "2022-04-12T14:44:59.632Z"
   },
   {
    "duration": 349,
    "start_time": "2022-04-12T14:44:59.846Z"
   },
   {
    "duration": 149,
    "start_time": "2022-04-12T14:45:00.196Z"
   },
   {
    "duration": 125,
    "start_time": "2022-04-12T14:45:00.346Z"
   },
   {
    "duration": 138,
    "start_time": "2022-04-12T14:45:00.473Z"
   },
   {
    "duration": 5,
    "start_time": "2022-04-12T14:51:20.851Z"
   },
   {
    "duration": 33,
    "start_time": "2022-04-12T14:51:31.279Z"
   },
   {
    "duration": 4,
    "start_time": "2022-04-12T14:52:01.638Z"
   },
   {
    "duration": 31,
    "start_time": "2022-04-12T14:52:02.767Z"
   },
   {
    "duration": 4,
    "start_time": "2022-04-12T14:54:53.875Z"
   },
   {
    "duration": 33,
    "start_time": "2022-04-12T14:54:55.375Z"
   },
   {
    "duration": 598,
    "start_time": "2022-04-12T14:55:04.809Z"
   },
   {
    "duration": 15,
    "start_time": "2022-04-12T14:55:05.409Z"
   },
   {
    "duration": 11,
    "start_time": "2022-04-12T14:55:05.426Z"
   },
   {
    "duration": 10,
    "start_time": "2022-04-12T14:55:05.439Z"
   },
   {
    "duration": 17,
    "start_time": "2022-04-12T14:55:05.451Z"
   },
   {
    "duration": 51,
    "start_time": "2022-04-12T14:55:05.470Z"
   },
   {
    "duration": 5,
    "start_time": "2022-04-12T14:55:05.523Z"
   },
   {
    "duration": 7,
    "start_time": "2022-04-12T14:55:05.530Z"
   },
   {
    "duration": 9,
    "start_time": "2022-04-12T14:55:05.539Z"
   },
   {
    "duration": 70,
    "start_time": "2022-04-12T14:55:05.551Z"
   },
   {
    "duration": 4,
    "start_time": "2022-04-12T14:55:05.623Z"
   },
   {
    "duration": 12,
    "start_time": "2022-04-12T14:55:05.629Z"
   },
   {
    "duration": 16,
    "start_time": "2022-04-12T14:55:05.643Z"
   },
   {
    "duration": 50,
    "start_time": "2022-04-12T14:55:05.661Z"
   },
   {
    "duration": 12,
    "start_time": "2022-04-12T14:55:05.713Z"
   },
   {
    "duration": 13,
    "start_time": "2022-04-12T14:55:05.727Z"
   },
   {
    "duration": 9,
    "start_time": "2022-04-12T14:55:05.742Z"
   },
   {
    "duration": 16,
    "start_time": "2022-04-12T14:55:05.753Z"
   },
   {
    "duration": 47,
    "start_time": "2022-04-12T14:55:05.771Z"
   },
   {
    "duration": 353,
    "start_time": "2022-04-12T14:55:05.820Z"
   },
   {
    "duration": 34,
    "start_time": "2022-04-12T14:55:06.175Z"
   },
   {
    "duration": 1974,
    "start_time": "2022-04-12T14:55:06.211Z"
   },
   {
    "duration": 296,
    "start_time": "2022-04-12T14:55:08.187Z"
   },
   {
    "duration": 250,
    "start_time": "2022-04-12T14:55:08.485Z"
   },
   {
    "duration": 232,
    "start_time": "2022-04-12T14:55:08.736Z"
   },
   {
    "duration": 183,
    "start_time": "2022-04-12T14:55:08.969Z"
   },
   {
    "duration": 11,
    "start_time": "2022-04-12T14:55:09.153Z"
   },
   {
    "duration": 2,
    "start_time": "2022-04-12T14:55:09.167Z"
   },
   {
    "duration": 136,
    "start_time": "2022-04-12T14:55:09.171Z"
   },
   {
    "duration": 236,
    "start_time": "2022-04-12T14:55:09.309Z"
   },
   {
    "duration": 9,
    "start_time": "2022-04-12T14:55:09.547Z"
   },
   {
    "duration": 123,
    "start_time": "2022-04-12T14:55:09.558Z"
   },
   {
    "duration": 10,
    "start_time": "2022-04-12T14:55:09.683Z"
   },
   {
    "duration": 377,
    "start_time": "2022-04-12T14:55:09.695Z"
   },
   {
    "duration": 5,
    "start_time": "2022-04-12T14:55:10.073Z"
   },
   {
    "duration": 159,
    "start_time": "2022-04-12T14:55:10.079Z"
   },
   {
    "duration": 5,
    "start_time": "2022-04-12T14:55:10.240Z"
   },
   {
    "duration": 117,
    "start_time": "2022-04-12T14:55:10.247Z"
   },
   {
    "duration": 416,
    "start_time": "2022-04-12T14:55:10.366Z"
   },
   {
    "duration": 6,
    "start_time": "2022-04-12T14:55:10.784Z"
   },
   {
    "duration": 138,
    "start_time": "2022-04-12T14:55:10.792Z"
   },
   {
    "duration": 156,
    "start_time": "2022-04-12T14:55:10.932Z"
   },
   {
    "duration": 129,
    "start_time": "2022-04-12T14:55:11.090Z"
   },
   {
    "duration": 21,
    "start_time": "2022-04-12T14:55:11.221Z"
   },
   {
    "duration": 4,
    "start_time": "2022-04-12T14:55:11.243Z"
   },
   {
    "duration": 5,
    "start_time": "2022-04-12T14:55:11.249Z"
   },
   {
    "duration": 207,
    "start_time": "2022-04-12T14:55:11.256Z"
   },
   {
    "duration": 8,
    "start_time": "2022-04-12T14:55:11.465Z"
   },
   {
    "duration": 166,
    "start_time": "2022-04-12T14:55:11.475Z"
   },
   {
    "duration": 157,
    "start_time": "2022-04-12T14:55:11.643Z"
   },
   {
    "duration": 161,
    "start_time": "2022-04-12T14:55:11.801Z"
   },
   {
    "duration": 264,
    "start_time": "2022-04-12T14:55:11.964Z"
   },
   {
    "duration": 209,
    "start_time": "2022-04-12T14:55:12.229Z"
   },
   {
    "duration": 223,
    "start_time": "2022-04-12T14:55:12.440Z"
   },
   {
    "duration": 378,
    "start_time": "2022-04-12T14:55:12.666Z"
   },
   {
    "duration": 148,
    "start_time": "2022-04-12T14:55:13.045Z"
   },
   {
    "duration": 131,
    "start_time": "2022-04-12T14:55:13.194Z"
   },
   {
    "duration": 151,
    "start_time": "2022-04-12T14:55:13.327Z"
   },
   {
    "duration": 6,
    "start_time": "2022-04-12T14:57:35.250Z"
   },
   {
    "duration": 4,
    "start_time": "2022-04-12T14:57:36.028Z"
   },
   {
    "duration": 35,
    "start_time": "2022-04-12T14:57:39.362Z"
   },
   {
    "duration": 34,
    "start_time": "2022-04-12T14:57:56.023Z"
   },
   {
    "duration": 6,
    "start_time": "2022-04-12T14:57:59.353Z"
   },
   {
    "duration": 34,
    "start_time": "2022-04-12T14:58:00.834Z"
   },
   {
    "duration": 555,
    "start_time": "2022-04-12T14:58:13.935Z"
   },
   {
    "duration": 24,
    "start_time": "2022-04-12T14:58:14.493Z"
   },
   {
    "duration": 11,
    "start_time": "2022-04-12T14:58:14.519Z"
   },
   {
    "duration": 12,
    "start_time": "2022-04-12T14:58:14.532Z"
   },
   {
    "duration": 22,
    "start_time": "2022-04-12T14:58:14.545Z"
   },
   {
    "duration": 38,
    "start_time": "2022-04-12T14:58:14.569Z"
   },
   {
    "duration": 5,
    "start_time": "2022-04-12T14:58:14.609Z"
   },
   {
    "duration": 6,
    "start_time": "2022-04-12T14:58:14.616Z"
   },
   {
    "duration": 38,
    "start_time": "2022-04-12T14:58:14.624Z"
   },
   {
    "duration": 3,
    "start_time": "2022-04-12T14:58:14.665Z"
   },
   {
    "duration": 7,
    "start_time": "2022-04-12T14:58:14.670Z"
   },
   {
    "duration": 36,
    "start_time": "2022-04-12T14:58:14.679Z"
   },
   {
    "duration": 27,
    "start_time": "2022-04-12T14:58:14.717Z"
   },
   {
    "duration": 13,
    "start_time": "2022-04-12T14:58:14.746Z"
   },
   {
    "duration": 13,
    "start_time": "2022-04-12T14:58:14.760Z"
   },
   {
    "duration": 8,
    "start_time": "2022-04-12T14:58:14.775Z"
   },
   {
    "duration": 13,
    "start_time": "2022-04-12T14:58:14.808Z"
   },
   {
    "duration": 15,
    "start_time": "2022-04-12T14:58:14.823Z"
   },
   {
    "duration": 348,
    "start_time": "2022-04-12T14:58:14.839Z"
   },
   {
    "duration": 33,
    "start_time": "2022-04-12T14:58:15.189Z"
   },
   {
    "duration": 434,
    "start_time": "2022-04-12T14:58:15.224Z"
   },
   {
    "duration": 307,
    "start_time": "2022-04-12T14:58:15.659Z"
   },
   {
    "duration": 255,
    "start_time": "2022-04-12T14:58:15.967Z"
   },
   {
    "duration": 240,
    "start_time": "2022-04-12T14:58:16.224Z"
   },
   {
    "duration": 185,
    "start_time": "2022-04-12T14:58:16.466Z"
   },
   {
    "duration": 10,
    "start_time": "2022-04-12T14:58:16.653Z"
   },
   {
    "duration": 3,
    "start_time": "2022-04-12T14:58:16.664Z"
   },
   {
    "duration": 141,
    "start_time": "2022-04-12T14:58:16.671Z"
   },
   {
    "duration": 237,
    "start_time": "2022-04-12T14:58:16.814Z"
   },
   {
    "duration": 10,
    "start_time": "2022-04-12T14:58:17.053Z"
   },
   {
    "duration": 129,
    "start_time": "2022-04-12T14:58:17.065Z"
   },
   {
    "duration": 16,
    "start_time": "2022-04-12T14:58:17.196Z"
   },
   {
    "duration": 366,
    "start_time": "2022-04-12T14:58:17.214Z"
   },
   {
    "duration": 6,
    "start_time": "2022-04-12T14:58:17.581Z"
   },
   {
    "duration": 163,
    "start_time": "2022-04-12T14:58:17.588Z"
   },
   {
    "duration": 5,
    "start_time": "2022-04-12T14:58:17.753Z"
   },
   {
    "duration": 121,
    "start_time": "2022-04-12T14:58:17.760Z"
   },
   {
    "duration": 419,
    "start_time": "2022-04-12T14:58:17.883Z"
   },
   {
    "duration": 7,
    "start_time": "2022-04-12T14:58:18.303Z"
   },
   {
    "duration": 142,
    "start_time": "2022-04-12T14:58:18.312Z"
   },
   {
    "duration": 166,
    "start_time": "2022-04-12T14:58:18.456Z"
   },
   {
    "duration": 142,
    "start_time": "2022-04-12T14:58:18.624Z"
   },
   {
    "duration": 22,
    "start_time": "2022-04-12T14:58:18.768Z"
   },
   {
    "duration": 4,
    "start_time": "2022-04-12T14:58:18.791Z"
   },
   {
    "duration": 4,
    "start_time": "2022-04-12T14:58:18.808Z"
   },
   {
    "duration": 203,
    "start_time": "2022-04-12T14:58:18.813Z"
   },
   {
    "duration": 8,
    "start_time": "2022-04-12T14:58:19.017Z"
   },
   {
    "duration": 170,
    "start_time": "2022-04-12T14:58:19.027Z"
   },
   {
    "duration": 158,
    "start_time": "2022-04-12T14:58:19.198Z"
   },
   {
    "duration": 163,
    "start_time": "2022-04-12T14:58:19.358Z"
   },
   {
    "duration": 260,
    "start_time": "2022-04-12T14:58:19.522Z"
   },
   {
    "duration": 205,
    "start_time": "2022-04-12T14:58:19.784Z"
   },
   {
    "duration": 220,
    "start_time": "2022-04-12T14:58:19.990Z"
   },
   {
    "duration": 368,
    "start_time": "2022-04-12T14:58:20.211Z"
   },
   {
    "duration": 151,
    "start_time": "2022-04-12T14:58:20.580Z"
   },
   {
    "duration": 139,
    "start_time": "2022-04-12T14:58:20.732Z"
   },
   {
    "duration": 147,
    "start_time": "2022-04-12T14:58:20.873Z"
   },
   {
    "duration": 6,
    "start_time": "2022-04-12T15:10:20.211Z"
   },
   {
    "duration": 42,
    "start_time": "2022-04-12T15:10:45.453Z"
   },
   {
    "duration": 571,
    "start_time": "2022-04-12T15:11:08.602Z"
   },
   {
    "duration": 14,
    "start_time": "2022-04-12T15:11:09.175Z"
   },
   {
    "duration": 19,
    "start_time": "2022-04-12T15:11:09.190Z"
   },
   {
    "duration": 10,
    "start_time": "2022-04-12T15:11:09.210Z"
   },
   {
    "duration": 14,
    "start_time": "2022-04-12T15:11:09.222Z"
   },
   {
    "duration": 18,
    "start_time": "2022-04-12T15:11:09.237Z"
   },
   {
    "duration": 4,
    "start_time": "2022-04-12T15:11:09.257Z"
   },
   {
    "duration": 8,
    "start_time": "2022-04-12T15:11:09.262Z"
   },
   {
    "duration": 64,
    "start_time": "2022-04-12T15:11:09.272Z"
   },
   {
    "duration": 5,
    "start_time": "2022-04-12T15:11:09.338Z"
   },
   {
    "duration": 46,
    "start_time": "2022-04-12T15:11:09.345Z"
   },
   {
    "duration": 3,
    "start_time": "2022-04-12T15:11:09.408Z"
   },
   {
    "duration": 13,
    "start_time": "2022-04-12T15:11:09.413Z"
   },
   {
    "duration": 12,
    "start_time": "2022-04-12T15:11:09.429Z"
   },
   {
    "duration": 27,
    "start_time": "2022-04-12T15:11:09.443Z"
   },
   {
    "duration": 12,
    "start_time": "2022-04-12T15:11:09.471Z"
   },
   {
    "duration": 14,
    "start_time": "2022-04-12T15:11:09.508Z"
   },
   {
    "duration": 7,
    "start_time": "2022-04-12T15:11:09.524Z"
   },
   {
    "duration": 16,
    "start_time": "2022-04-12T15:11:09.533Z"
   },
   {
    "duration": 16,
    "start_time": "2022-04-12T15:11:09.550Z"
   },
   {
    "duration": 348,
    "start_time": "2022-04-12T15:11:09.567Z"
   },
   {
    "duration": 24,
    "start_time": "2022-04-12T15:11:09.916Z"
   },
   {
    "duration": 414,
    "start_time": "2022-04-12T15:11:09.941Z"
   },
   {
    "duration": 299,
    "start_time": "2022-04-12T15:11:10.356Z"
   },
   {
    "duration": 265,
    "start_time": "2022-04-12T15:11:10.657Z"
   },
   {
    "duration": 236,
    "start_time": "2022-04-12T15:11:10.923Z"
   },
   {
    "duration": 196,
    "start_time": "2022-04-12T15:11:11.161Z"
   },
   {
    "duration": 10,
    "start_time": "2022-04-12T15:11:11.358Z"
   },
   {
    "duration": 3,
    "start_time": "2022-04-12T15:11:11.369Z"
   },
   {
    "duration": 136,
    "start_time": "2022-04-12T15:11:11.374Z"
   },
   {
    "duration": 236,
    "start_time": "2022-04-12T15:11:11.512Z"
   },
   {
    "duration": 10,
    "start_time": "2022-04-12T15:11:11.749Z"
   },
   {
    "duration": 128,
    "start_time": "2022-04-12T15:11:11.760Z"
   },
   {
    "duration": 20,
    "start_time": "2022-04-12T15:11:11.890Z"
   },
   {
    "duration": 356,
    "start_time": "2022-04-12T15:11:11.912Z"
   },
   {
    "duration": 5,
    "start_time": "2022-04-12T15:11:12.270Z"
   },
   {
    "duration": 156,
    "start_time": "2022-04-12T15:11:12.277Z"
   },
   {
    "duration": 6,
    "start_time": "2022-04-12T15:11:12.434Z"
   },
   {
    "duration": 121,
    "start_time": "2022-04-12T15:11:12.442Z"
   },
   {
    "duration": 424,
    "start_time": "2022-04-12T15:11:12.564Z"
   },
   {
    "duration": 16,
    "start_time": "2022-04-12T15:11:12.992Z"
   },
   {
    "duration": 139,
    "start_time": "2022-04-12T15:11:13.010Z"
   },
   {
    "duration": 163,
    "start_time": "2022-04-12T15:11:13.151Z"
   },
   {
    "duration": 136,
    "start_time": "2022-04-12T15:11:13.316Z"
   },
   {
    "duration": 21,
    "start_time": "2022-04-12T15:11:13.454Z"
   },
   {
    "duration": 3,
    "start_time": "2022-04-12T15:11:13.477Z"
   },
   {
    "duration": 6,
    "start_time": "2022-04-12T15:11:13.482Z"
   },
   {
    "duration": 188,
    "start_time": "2022-04-12T15:11:13.506Z"
   },
   {
    "duration": 18,
    "start_time": "2022-04-12T15:11:13.696Z"
   },
   {
    "duration": 168,
    "start_time": "2022-04-12T15:11:13.716Z"
   },
   {
    "duration": 154,
    "start_time": "2022-04-12T15:11:13.886Z"
   },
   {
    "duration": 167,
    "start_time": "2022-04-12T15:11:14.042Z"
   },
   {
    "duration": 260,
    "start_time": "2022-04-12T15:11:14.211Z"
   },
   {
    "duration": 202,
    "start_time": "2022-04-12T15:11:14.472Z"
   },
   {
    "duration": 220,
    "start_time": "2022-04-12T15:11:14.675Z"
   },
   {
    "duration": 368,
    "start_time": "2022-04-12T15:11:14.897Z"
   },
   {
    "duration": 155,
    "start_time": "2022-04-12T15:11:15.267Z"
   },
   {
    "duration": 137,
    "start_time": "2022-04-12T15:11:15.424Z"
   },
   {
    "duration": 145,
    "start_time": "2022-04-12T15:11:15.563Z"
   },
   {
    "duration": 42,
    "start_time": "2022-04-12T15:15:11.861Z"
   },
   {
    "duration": 542,
    "start_time": "2022-04-12T15:16:29.043Z"
   },
   {
    "duration": 21,
    "start_time": "2022-04-12T15:16:29.587Z"
   },
   {
    "duration": 12,
    "start_time": "2022-04-12T15:16:29.610Z"
   },
   {
    "duration": 13,
    "start_time": "2022-04-12T15:16:29.625Z"
   },
   {
    "duration": 14,
    "start_time": "2022-04-12T15:16:29.640Z"
   },
   {
    "duration": 19,
    "start_time": "2022-04-12T15:16:29.656Z"
   },
   {
    "duration": 35,
    "start_time": "2022-04-12T15:16:29.677Z"
   },
   {
    "duration": 10,
    "start_time": "2022-04-12T15:16:29.714Z"
   },
   {
    "duration": 38,
    "start_time": "2022-04-12T15:16:29.725Z"
   },
   {
    "duration": 6,
    "start_time": "2022-04-12T15:16:29.766Z"
   },
   {
    "duration": 37,
    "start_time": "2022-04-12T15:16:29.773Z"
   },
   {
    "duration": 9,
    "start_time": "2022-04-12T15:16:29.812Z"
   },
   {
    "duration": 16,
    "start_time": "2022-04-12T15:16:29.823Z"
   },
   {
    "duration": 28,
    "start_time": "2022-04-12T15:16:29.841Z"
   },
   {
    "duration": 12,
    "start_time": "2022-04-12T15:16:29.871Z"
   },
   {
    "duration": 34,
    "start_time": "2022-04-12T15:16:29.884Z"
   },
   {
    "duration": 7,
    "start_time": "2022-04-12T15:16:29.920Z"
   },
   {
    "duration": 15,
    "start_time": "2022-04-12T15:16:29.928Z"
   },
   {
    "duration": 16,
    "start_time": "2022-04-12T15:16:29.945Z"
   },
   {
    "duration": 367,
    "start_time": "2022-04-12T15:16:29.962Z"
   },
   {
    "duration": 24,
    "start_time": "2022-04-12T15:16:30.331Z"
   },
   {
    "duration": 441,
    "start_time": "2022-04-12T15:16:30.357Z"
   },
   {
    "duration": 309,
    "start_time": "2022-04-12T15:16:30.800Z"
   },
   {
    "duration": 281,
    "start_time": "2022-04-12T15:16:31.111Z"
   },
   {
    "duration": 252,
    "start_time": "2022-04-12T15:16:31.393Z"
   },
   {
    "duration": 206,
    "start_time": "2022-04-12T15:16:31.647Z"
   },
   {
    "duration": 10,
    "start_time": "2022-04-12T15:16:31.855Z"
   },
   {
    "duration": 3,
    "start_time": "2022-04-12T15:16:31.868Z"
   },
   {
    "duration": 136,
    "start_time": "2022-04-12T15:16:31.873Z"
   },
   {
    "duration": 226,
    "start_time": "2022-04-12T15:16:32.011Z"
   },
   {
    "duration": 8,
    "start_time": "2022-04-12T15:16:32.239Z"
   },
   {
    "duration": 122,
    "start_time": "2022-04-12T15:16:32.249Z"
   },
   {
    "duration": 10,
    "start_time": "2022-04-12T15:16:32.372Z"
   },
   {
    "duration": 352,
    "start_time": "2022-04-12T15:16:32.383Z"
   },
   {
    "duration": 5,
    "start_time": "2022-04-12T15:16:32.737Z"
   },
   {
    "duration": 160,
    "start_time": "2022-04-12T15:16:32.744Z"
   },
   {
    "duration": 6,
    "start_time": "2022-04-12T15:16:32.905Z"
   },
   {
    "duration": 110,
    "start_time": "2022-04-12T15:16:32.912Z"
   },
   {
    "duration": 405,
    "start_time": "2022-04-12T15:16:33.024Z"
   },
   {
    "duration": 5,
    "start_time": "2022-04-12T15:16:33.430Z"
   },
   {
    "duration": 140,
    "start_time": "2022-04-12T15:16:33.437Z"
   },
   {
    "duration": 160,
    "start_time": "2022-04-12T15:16:33.579Z"
   },
   {
    "duration": 135,
    "start_time": "2022-04-12T15:16:33.741Z"
   },
   {
    "duration": 30,
    "start_time": "2022-04-12T15:16:33.879Z"
   },
   {
    "duration": 4,
    "start_time": "2022-04-12T15:16:33.911Z"
   },
   {
    "duration": 6,
    "start_time": "2022-04-12T15:16:33.916Z"
   },
   {
    "duration": 193,
    "start_time": "2022-04-12T15:16:33.923Z"
   },
   {
    "duration": 10,
    "start_time": "2022-04-12T15:16:34.117Z"
   },
   {
    "duration": 172,
    "start_time": "2022-04-12T15:16:34.128Z"
   },
   {
    "duration": 181,
    "start_time": "2022-04-12T15:16:34.307Z"
   },
   {
    "duration": 180,
    "start_time": "2022-04-12T15:16:34.490Z"
   },
   {
    "duration": 265,
    "start_time": "2022-04-12T15:16:34.672Z"
   },
   {
    "duration": 209,
    "start_time": "2022-04-12T15:16:34.939Z"
   },
   {
    "duration": 228,
    "start_time": "2022-04-12T15:16:35.149Z"
   },
   {
    "duration": 360,
    "start_time": "2022-04-12T15:16:35.379Z"
   },
   {
    "duration": 153,
    "start_time": "2022-04-12T15:16:35.740Z"
   },
   {
    "duration": 132,
    "start_time": "2022-04-12T15:16:35.895Z"
   },
   {
    "duration": 145,
    "start_time": "2022-04-12T15:16:36.029Z"
   },
   {
    "duration": 3,
    "start_time": "2022-04-12T15:44:27.947Z"
   },
   {
    "duration": 12,
    "start_time": "2022-04-12T15:44:31.239Z"
   },
   {
    "duration": 15,
    "start_time": "2022-04-12T15:44:32.259Z"
   },
   {
    "duration": 490,
    "start_time": "2022-04-12T15:44:56.951Z"
   },
   {
    "duration": 16,
    "start_time": "2022-04-12T15:44:57.443Z"
   },
   {
    "duration": 10,
    "start_time": "2022-04-12T15:44:57.460Z"
   },
   {
    "duration": 9,
    "start_time": "2022-04-12T15:44:57.472Z"
   },
   {
    "duration": 30,
    "start_time": "2022-04-12T15:44:57.482Z"
   },
   {
    "duration": 18,
    "start_time": "2022-04-12T15:44:57.514Z"
   },
   {
    "duration": 5,
    "start_time": "2022-04-12T15:44:57.533Z"
   },
   {
    "duration": 6,
    "start_time": "2022-04-12T15:44:57.539Z"
   },
   {
    "duration": 36,
    "start_time": "2022-04-12T15:44:57.547Z"
   },
   {
    "duration": 6,
    "start_time": "2022-04-12T15:44:57.607Z"
   },
   {
    "duration": 6,
    "start_time": "2022-04-12T15:44:57.614Z"
   },
   {
    "duration": 12,
    "start_time": "2022-04-12T15:44:57.622Z"
   },
   {
    "duration": 12,
    "start_time": "2022-04-12T15:44:57.635Z"
   },
   {
    "duration": 25,
    "start_time": "2022-04-12T15:44:57.649Z"
   },
   {
    "duration": 32,
    "start_time": "2022-04-12T15:44:57.676Z"
   },
   {
    "duration": 3,
    "start_time": "2022-04-12T15:44:57.710Z"
   },
   {
    "duration": 13,
    "start_time": "2022-04-12T15:44:57.714Z"
   },
   {
    "duration": 14,
    "start_time": "2022-04-12T15:44:57.729Z"
   },
   {
    "duration": 14,
    "start_time": "2022-04-12T15:44:57.745Z"
   },
   {
    "duration": 334,
    "start_time": "2022-04-12T15:44:57.761Z"
   },
   {
    "duration": 25,
    "start_time": "2022-04-12T15:44:58.096Z"
   },
   {
    "duration": 421,
    "start_time": "2022-04-12T15:44:58.123Z"
   },
   {
    "duration": 307,
    "start_time": "2022-04-12T15:44:58.546Z"
   },
   {
    "duration": 266,
    "start_time": "2022-04-12T15:44:58.854Z"
   },
   {
    "duration": 242,
    "start_time": "2022-04-12T15:44:59.121Z"
   },
   {
    "duration": 184,
    "start_time": "2022-04-12T15:44:59.365Z"
   },
   {
    "duration": 10,
    "start_time": "2022-04-12T15:44:59.550Z"
   },
   {
    "duration": 22,
    "start_time": "2022-04-12T15:44:59.564Z"
   },
   {
    "duration": 137,
    "start_time": "2022-04-12T15:44:59.588Z"
   },
   {
    "duration": 244,
    "start_time": "2022-04-12T15:44:59.726Z"
   },
   {
    "duration": 8,
    "start_time": "2022-04-12T15:44:59.972Z"
   },
   {
    "duration": 131,
    "start_time": "2022-04-12T15:44:59.981Z"
   },
   {
    "duration": 10,
    "start_time": "2022-04-12T15:45:00.114Z"
   },
   {
    "duration": 338,
    "start_time": "2022-04-12T15:45:00.125Z"
   },
   {
    "duration": 6,
    "start_time": "2022-04-12T15:45:00.465Z"
   },
   {
    "duration": 164,
    "start_time": "2022-04-12T15:45:00.472Z"
   },
   {
    "duration": 5,
    "start_time": "2022-04-12T15:45:00.638Z"
   },
   {
    "duration": 112,
    "start_time": "2022-04-12T15:45:00.645Z"
   },
   {
    "duration": 390,
    "start_time": "2022-04-12T15:45:00.759Z"
   },
   {
    "duration": 6,
    "start_time": "2022-04-12T15:45:01.151Z"
   },
   {
    "duration": 134,
    "start_time": "2022-04-12T15:45:01.159Z"
   },
   {
    "duration": 158,
    "start_time": "2022-04-12T15:45:01.294Z"
   },
   {
    "duration": 124,
    "start_time": "2022-04-12T15:45:01.454Z"
   },
   {
    "duration": 30,
    "start_time": "2022-04-12T15:45:01.580Z"
   },
   {
    "duration": 3,
    "start_time": "2022-04-12T15:45:01.611Z"
   },
   {
    "duration": 16,
    "start_time": "2022-04-12T15:45:01.616Z"
   },
   {
    "duration": 180,
    "start_time": "2022-04-12T15:45:01.634Z"
   },
   {
    "duration": 8,
    "start_time": "2022-04-12T15:45:01.816Z"
   },
   {
    "duration": 163,
    "start_time": "2022-04-12T15:45:01.826Z"
   },
   {
    "duration": 152,
    "start_time": "2022-04-12T15:45:01.991Z"
   },
   {
    "duration": 145,
    "start_time": "2022-04-12T15:45:02.145Z"
   },
   {
    "duration": 244,
    "start_time": "2022-04-12T15:45:02.292Z"
   },
   {
    "duration": 183,
    "start_time": "2022-04-12T15:45:02.538Z"
   },
   {
    "duration": 202,
    "start_time": "2022-04-12T15:45:02.722Z"
   },
   {
    "duration": 342,
    "start_time": "2022-04-12T15:45:02.926Z"
   },
   {
    "duration": 148,
    "start_time": "2022-04-12T15:45:03.270Z"
   },
   {
    "duration": 148,
    "start_time": "2022-04-12T15:45:03.420Z"
   },
   {
    "duration": 166,
    "start_time": "2022-04-12T15:45:03.569Z"
   },
   {
    "duration": 308,
    "start_time": "2022-04-12T15:53:55.512Z"
   },
   {
    "duration": 238,
    "start_time": "2022-04-12T15:55:28.332Z"
   },
   {
    "duration": 217,
    "start_time": "2022-04-12T16:03:10.325Z"
   },
   {
    "duration": 108,
    "start_time": "2022-04-12T16:03:40.877Z"
   },
   {
    "duration": 9,
    "start_time": "2022-04-12T16:04:18.016Z"
   },
   {
    "duration": 274,
    "start_time": "2022-04-12T16:04:38.973Z"
   },
   {
    "duration": 270,
    "start_time": "2022-04-12T16:08:57.313Z"
   },
   {
    "duration": 282,
    "start_time": "2022-04-12T16:09:03.185Z"
   },
   {
    "duration": 408,
    "start_time": "2022-04-12T16:09:11.058Z"
   },
   {
    "duration": 277,
    "start_time": "2022-04-12T16:09:25.166Z"
   },
   {
    "duration": 4,
    "start_time": "2022-04-12T16:12:32.737Z"
   },
   {
    "duration": 297,
    "start_time": "2022-04-12T16:13:04.785Z"
   },
   {
    "duration": 287,
    "start_time": "2022-04-12T16:14:46.797Z"
   },
   {
    "duration": 247,
    "start_time": "2022-04-12T16:15:15.533Z"
   },
   {
    "duration": 246,
    "start_time": "2022-04-12T16:15:43.677Z"
   },
   {
    "duration": 409,
    "start_time": "2022-04-12T16:16:21.100Z"
   },
   {
    "duration": 280,
    "start_time": "2022-04-12T16:16:40.344Z"
   },
   {
    "duration": 244,
    "start_time": "2022-04-12T16:17:30.693Z"
   },
   {
    "duration": 201,
    "start_time": "2022-04-12T16:19:07.178Z"
   },
   {
    "duration": 12,
    "start_time": "2022-04-12T16:19:20.954Z"
   },
   {
    "duration": 126,
    "start_time": "2022-04-12T16:24:22.895Z"
   },
   {
    "duration": 233,
    "start_time": "2022-04-12T16:43:35.787Z"
   },
   {
    "duration": 241,
    "start_time": "2022-04-12T16:44:23.947Z"
   },
   {
    "duration": 117,
    "start_time": "2022-04-12T16:49:56.109Z"
   },
   {
    "duration": 110,
    "start_time": "2022-04-12T16:50:07.212Z"
   },
   {
    "duration": 125,
    "start_time": "2022-04-12T16:50:20.996Z"
   },
   {
    "duration": 9,
    "start_time": "2022-04-12T16:50:40.308Z"
   },
   {
    "duration": 9,
    "start_time": "2022-04-12T16:50:53.315Z"
   },
   {
    "duration": 73,
    "start_time": "2022-04-12T16:52:24.120Z"
   },
   {
    "duration": 392,
    "start_time": "2022-04-12T16:54:18.804Z"
   },
   {
    "duration": 11,
    "start_time": "2022-04-12T16:54:55.723Z"
   },
   {
    "duration": 213,
    "start_time": "2022-04-12T16:55:31.748Z"
   },
   {
    "duration": 228,
    "start_time": "2022-04-12T16:55:45.424Z"
   },
   {
    "duration": 230,
    "start_time": "2022-04-12T16:55:53.739Z"
   },
   {
    "duration": 244,
    "start_time": "2022-04-12T16:55:58.068Z"
   },
   {
    "duration": 389,
    "start_time": "2022-04-12T16:57:08.109Z"
   },
   {
    "duration": 354,
    "start_time": "2022-04-12T16:57:25.616Z"
   },
   {
    "duration": 338,
    "start_time": "2022-04-12T16:57:38.365Z"
   },
   {
    "duration": 10,
    "start_time": "2022-04-12T16:58:02.076Z"
   },
   {
    "duration": 71,
    "start_time": "2022-04-14T15:07:34.023Z"
   },
   {
    "duration": 6,
    "start_time": "2022-04-14T15:08:48.299Z"
   },
   {
    "duration": 480,
    "start_time": "2022-04-14T15:13:56.449Z"
   },
   {
    "duration": 15,
    "start_time": "2022-04-14T15:13:56.932Z"
   },
   {
    "duration": 10,
    "start_time": "2022-04-14T15:13:56.949Z"
   },
   {
    "duration": 38,
    "start_time": "2022-04-14T15:13:56.962Z"
   },
   {
    "duration": 14,
    "start_time": "2022-04-14T15:13:57.001Z"
   },
   {
    "duration": 17,
    "start_time": "2022-04-14T15:13:57.016Z"
   },
   {
    "duration": 5,
    "start_time": "2022-04-14T15:13:57.035Z"
   },
   {
    "duration": 7,
    "start_time": "2022-04-14T15:13:57.041Z"
   },
   {
    "duration": 54,
    "start_time": "2022-04-14T15:13:57.050Z"
   },
   {
    "duration": 5,
    "start_time": "2022-04-14T15:13:57.107Z"
   },
   {
    "duration": 5,
    "start_time": "2022-04-14T15:13:57.114Z"
   },
   {
    "duration": 10,
    "start_time": "2022-04-14T15:13:57.121Z"
   },
   {
    "duration": 11,
    "start_time": "2022-04-14T15:13:57.132Z"
   },
   {
    "duration": 26,
    "start_time": "2022-04-14T15:13:57.144Z"
   },
   {
    "duration": 32,
    "start_time": "2022-04-14T15:13:57.171Z"
   },
   {
    "duration": 2,
    "start_time": "2022-04-14T15:13:57.204Z"
   },
   {
    "duration": 10,
    "start_time": "2022-04-14T15:13:57.208Z"
   },
   {
    "duration": 14,
    "start_time": "2022-04-14T15:13:57.219Z"
   },
   {
    "duration": 14,
    "start_time": "2022-04-14T15:13:57.234Z"
   },
   {
    "duration": 316,
    "start_time": "2022-04-14T15:13:57.249Z"
   },
   {
    "duration": 21,
    "start_time": "2022-04-14T15:13:57.567Z"
   },
   {
    "duration": 397,
    "start_time": "2022-04-14T15:13:57.589Z"
   },
   {
    "duration": 256,
    "start_time": "2022-04-14T15:13:57.988Z"
   },
   {
    "duration": 230,
    "start_time": "2022-04-14T15:13:58.246Z"
   },
   {
    "duration": 230,
    "start_time": "2022-04-14T15:13:58.478Z"
   },
   {
    "duration": 218,
    "start_time": "2022-04-14T15:13:58.710Z"
   },
   {
    "duration": 180,
    "start_time": "2022-04-14T15:13:58.930Z"
   },
   {
    "duration": 9,
    "start_time": "2022-04-14T15:13:59.114Z"
   },
   {
    "duration": 2,
    "start_time": "2022-04-14T15:13:59.125Z"
   },
   {
    "duration": 121,
    "start_time": "2022-04-14T15:13:59.129Z"
   },
   {
    "duration": 206,
    "start_time": "2022-04-14T15:13:59.252Z"
   },
   {
    "duration": 367,
    "start_time": "2022-04-14T15:13:59.459Z"
   },
   {
    "duration": 8,
    "start_time": "2022-04-14T15:13:59.827Z"
   },
   {
    "duration": 9,
    "start_time": "2022-04-14T15:13:59.836Z"
   },
   {
    "duration": 7,
    "start_time": "2022-04-14T15:13:59.846Z"
   },
   {
    "duration": 94,
    "start_time": "2022-04-14T15:13:59.854Z"
   },
   {
    "duration": 0,
    "start_time": "2022-04-14T15:13:59.950Z"
   },
   {
    "duration": 0,
    "start_time": "2022-04-14T15:13:59.951Z"
   },
   {
    "duration": 0,
    "start_time": "2022-04-14T15:13:59.952Z"
   },
   {
    "duration": 0,
    "start_time": "2022-04-14T15:13:59.953Z"
   },
   {
    "duration": 0,
    "start_time": "2022-04-14T15:13:59.954Z"
   },
   {
    "duration": 0,
    "start_time": "2022-04-14T15:13:59.955Z"
   },
   {
    "duration": 0,
    "start_time": "2022-04-14T15:13:59.955Z"
   },
   {
    "duration": 0,
    "start_time": "2022-04-14T15:13:59.956Z"
   },
   {
    "duration": 0,
    "start_time": "2022-04-14T15:13:59.957Z"
   },
   {
    "duration": 0,
    "start_time": "2022-04-14T15:13:59.958Z"
   },
   {
    "duration": 0,
    "start_time": "2022-04-14T15:13:59.958Z"
   },
   {
    "duration": 0,
    "start_time": "2022-04-14T15:13:59.959Z"
   },
   {
    "duration": 0,
    "start_time": "2022-04-14T15:13:59.960Z"
   },
   {
    "duration": 0,
    "start_time": "2022-04-14T15:13:59.961Z"
   },
   {
    "duration": 0,
    "start_time": "2022-04-14T15:13:59.962Z"
   },
   {
    "duration": 0,
    "start_time": "2022-04-14T15:13:59.962Z"
   },
   {
    "duration": 0,
    "start_time": "2022-04-14T15:13:59.963Z"
   },
   {
    "duration": 0,
    "start_time": "2022-04-14T15:13:59.964Z"
   },
   {
    "duration": 0,
    "start_time": "2022-04-14T15:13:59.965Z"
   },
   {
    "duration": 0,
    "start_time": "2022-04-14T15:13:59.965Z"
   },
   {
    "duration": 0,
    "start_time": "2022-04-14T15:13:59.966Z"
   },
   {
    "duration": 0,
    "start_time": "2022-04-14T15:13:59.967Z"
   },
   {
    "duration": 0,
    "start_time": "2022-04-14T15:13:59.968Z"
   },
   {
    "duration": 0,
    "start_time": "2022-04-14T15:13:59.969Z"
   },
   {
    "duration": 0,
    "start_time": "2022-04-14T15:13:59.970Z"
   },
   {
    "duration": 0,
    "start_time": "2022-04-14T15:13:59.971Z"
   },
   {
    "duration": 0,
    "start_time": "2022-04-14T15:13:59.972Z"
   },
   {
    "duration": 0,
    "start_time": "2022-04-14T15:13:59.972Z"
   },
   {
    "duration": 207,
    "start_time": "2022-04-14T15:18:30.435Z"
   },
   {
    "duration": 10,
    "start_time": "2022-04-14T15:24:09.845Z"
   },
   {
    "duration": 8,
    "start_time": "2022-04-14T15:24:13.969Z"
   },
   {
    "duration": 527,
    "start_time": "2022-04-14T15:24:59.314Z"
   },
   {
    "duration": 12,
    "start_time": "2022-04-14T15:24:59.843Z"
   },
   {
    "duration": 10,
    "start_time": "2022-04-14T15:24:59.857Z"
   },
   {
    "duration": 8,
    "start_time": "2022-04-14T15:24:59.869Z"
   },
   {
    "duration": 34,
    "start_time": "2022-04-14T15:24:59.879Z"
   },
   {
    "duration": 18,
    "start_time": "2022-04-14T15:24:59.914Z"
   },
   {
    "duration": 4,
    "start_time": "2022-04-14T15:24:59.934Z"
   },
   {
    "duration": 6,
    "start_time": "2022-04-14T15:24:59.940Z"
   },
   {
    "duration": 59,
    "start_time": "2022-04-14T15:24:59.947Z"
   },
   {
    "duration": 10,
    "start_time": "2022-04-14T15:25:00.009Z"
   },
   {
    "duration": 14,
    "start_time": "2022-04-14T15:25:00.021Z"
   },
   {
    "duration": 16,
    "start_time": "2022-04-14T15:25:00.036Z"
   },
   {
    "duration": 18,
    "start_time": "2022-04-14T15:25:00.053Z"
   },
   {
    "duration": 26,
    "start_time": "2022-04-14T15:25:00.072Z"
   },
   {
    "duration": 14,
    "start_time": "2022-04-14T15:25:00.099Z"
   },
   {
    "duration": 13,
    "start_time": "2022-04-14T15:25:00.114Z"
   },
   {
    "duration": 18,
    "start_time": "2022-04-14T15:25:00.128Z"
   },
   {
    "duration": 17,
    "start_time": "2022-04-14T15:25:00.147Z"
   },
   {
    "duration": 20,
    "start_time": "2022-04-14T15:25:00.165Z"
   },
   {
    "duration": 337,
    "start_time": "2022-04-14T15:25:00.186Z"
   },
   {
    "duration": 21,
    "start_time": "2022-04-14T15:25:00.525Z"
   },
   {
    "duration": 275,
    "start_time": "2022-04-14T15:25:00.548Z"
   },
   {
    "duration": 226,
    "start_time": "2022-04-14T15:25:00.824Z"
   },
   {
    "duration": 289,
    "start_time": "2022-04-14T15:25:01.052Z"
   },
   {
    "duration": 247,
    "start_time": "2022-04-14T15:25:01.343Z"
   },
   {
    "duration": 228,
    "start_time": "2022-04-14T15:25:01.592Z"
   },
   {
    "duration": 167,
    "start_time": "2022-04-14T15:25:01.822Z"
   },
   {
    "duration": 17,
    "start_time": "2022-04-14T15:25:01.993Z"
   },
   {
    "duration": 17,
    "start_time": "2022-04-14T15:25:02.011Z"
   },
   {
    "duration": 110,
    "start_time": "2022-04-14T15:25:02.029Z"
   },
   {
    "duration": 221,
    "start_time": "2022-04-14T15:25:02.141Z"
   },
   {
    "duration": 391,
    "start_time": "2022-04-14T15:25:02.364Z"
   },
   {
    "duration": 9,
    "start_time": "2022-04-14T15:25:02.756Z"
   },
   {
    "duration": 7,
    "start_time": "2022-04-14T15:25:02.767Z"
   },
   {
    "duration": 34,
    "start_time": "2022-04-14T15:25:02.775Z"
   },
   {
    "duration": 11,
    "start_time": "2022-04-14T15:25:02.810Z"
   },
   {
    "duration": 10,
    "start_time": "2022-04-14T15:25:02.823Z"
   },
   {
    "duration": 114,
    "start_time": "2022-04-14T15:25:02.834Z"
   },
   {
    "duration": 10,
    "start_time": "2022-04-14T15:25:02.950Z"
   },
   {
    "duration": 287,
    "start_time": "2022-04-14T15:25:02.962Z"
   },
   {
    "duration": 6,
    "start_time": "2022-04-14T15:25:03.250Z"
   },
   {
    "duration": 146,
    "start_time": "2022-04-14T15:25:03.257Z"
   },
   {
    "duration": 8,
    "start_time": "2022-04-14T15:25:03.405Z"
   },
   {
    "duration": 106,
    "start_time": "2022-04-14T15:25:03.414Z"
   },
   {
    "duration": 338,
    "start_time": "2022-04-14T15:25:03.522Z"
   },
   {
    "duration": 6,
    "start_time": "2022-04-14T15:25:03.861Z"
   },
   {
    "duration": 120,
    "start_time": "2022-04-14T15:25:03.868Z"
   },
   {
    "duration": 138,
    "start_time": "2022-04-14T15:25:03.990Z"
   },
   {
    "duration": 115,
    "start_time": "2022-04-14T15:25:04.130Z"
   },
   {
    "duration": 20,
    "start_time": "2022-04-14T15:25:04.246Z"
   },
   {
    "duration": 3,
    "start_time": "2022-04-14T15:25:04.268Z"
   },
   {
    "duration": 85,
    "start_time": "2022-04-14T15:25:04.272Z"
   },
   {
    "duration": 0,
    "start_time": "2022-04-14T15:25:04.358Z"
   },
   {
    "duration": 0,
    "start_time": "2022-04-14T15:25:04.359Z"
   },
   {
    "duration": 0,
    "start_time": "2022-04-14T15:25:04.360Z"
   },
   {
    "duration": 0,
    "start_time": "2022-04-14T15:25:04.361Z"
   },
   {
    "duration": 0,
    "start_time": "2022-04-14T15:25:04.362Z"
   },
   {
    "duration": 1,
    "start_time": "2022-04-14T15:25:04.362Z"
   },
   {
    "duration": 0,
    "start_time": "2022-04-14T15:25:04.363Z"
   },
   {
    "duration": 0,
    "start_time": "2022-04-14T15:25:04.364Z"
   },
   {
    "duration": 0,
    "start_time": "2022-04-14T15:25:04.365Z"
   },
   {
    "duration": 0,
    "start_time": "2022-04-14T15:25:04.366Z"
   },
   {
    "duration": 0,
    "start_time": "2022-04-14T15:25:04.367Z"
   },
   {
    "duration": 0,
    "start_time": "2022-04-14T15:25:04.368Z"
   },
   {
    "duration": 41,
    "start_time": "2022-04-14T15:25:30.922Z"
   },
   {
    "duration": 8,
    "start_time": "2022-04-14T15:26:48.282Z"
   },
   {
    "duration": 204,
    "start_time": "2022-04-14T15:28:01.279Z"
   },
   {
    "duration": 213,
    "start_time": "2022-04-14T15:29:22.823Z"
   },
   {
    "duration": 9,
    "start_time": "2022-04-14T15:29:37.123Z"
   },
   {
    "duration": 8,
    "start_time": "2022-04-14T15:29:56.767Z"
   },
   {
    "duration": 8,
    "start_time": "2022-04-14T15:30:09.747Z"
   },
   {
    "duration": 97,
    "start_time": "2022-04-14T15:30:39.164Z"
   },
   {
    "duration": 9,
    "start_time": "2022-04-14T15:31:17.888Z"
   },
   {
    "duration": 94,
    "start_time": "2022-04-14T15:31:22.064Z"
   },
   {
    "duration": 11,
    "start_time": "2022-04-14T15:36:35.673Z"
   },
   {
    "duration": 8,
    "start_time": "2022-04-14T15:41:41.392Z"
   },
   {
    "duration": 8,
    "start_time": "2022-04-14T15:41:46.136Z"
   },
   {
    "duration": 104,
    "start_time": "2022-04-14T15:41:52.052Z"
   },
   {
    "duration": 8,
    "start_time": "2022-04-14T15:42:09.640Z"
   },
   {
    "duration": 8,
    "start_time": "2022-04-14T15:42:25.485Z"
   },
   {
    "duration": 175,
    "start_time": "2022-04-14T15:42:27.756Z"
   },
   {
    "duration": 9,
    "start_time": "2022-04-14T15:42:47.181Z"
   },
   {
    "duration": 243,
    "start_time": "2022-04-14T15:42:47.932Z"
   },
   {
    "duration": 5,
    "start_time": "2022-04-14T15:42:56.280Z"
   },
   {
    "duration": 142,
    "start_time": "2022-04-14T15:43:12.152Z"
   },
   {
    "duration": 5,
    "start_time": "2022-04-14T15:43:17.313Z"
   },
   {
    "duration": 89,
    "start_time": "2022-04-14T15:44:28.365Z"
   },
   {
    "duration": 318,
    "start_time": "2022-04-14T15:44:49.537Z"
   },
   {
    "duration": 361,
    "start_time": "2022-04-14T15:46:01.362Z"
   },
   {
    "duration": 6,
    "start_time": "2022-04-14T15:46:05.862Z"
   },
   {
    "duration": 105,
    "start_time": "2022-04-14T15:46:48.026Z"
   },
   {
    "duration": 116,
    "start_time": "2022-04-14T15:47:06.570Z"
   },
   {
    "duration": 129,
    "start_time": "2022-04-14T15:47:31.242Z"
   },
   {
    "duration": 117,
    "start_time": "2022-04-14T15:47:53.201Z"
   },
   {
    "duration": 11,
    "start_time": "2022-04-14T15:53:06.416Z"
   },
   {
    "duration": 11,
    "start_time": "2022-04-14T15:57:10.257Z"
   },
   {
    "duration": 0,
    "start_time": "2022-04-14T15:57:51.740Z"
   },
   {
    "duration": 25257,
    "start_time": "2022-04-14T15:58:35.382Z"
   },
   {
    "duration": 26396,
    "start_time": "2022-04-14T15:59:43.366Z"
   },
   {
    "duration": 7,
    "start_time": "2022-04-14T16:02:17.259Z"
   },
   {
    "duration": 12,
    "start_time": "2022-04-14T16:02:23.830Z"
   },
   {
    "duration": 415,
    "start_time": "2022-04-14T16:02:40.413Z"
   },
   {
    "duration": 542,
    "start_time": "2022-04-14T16:16:19.623Z"
   },
   {
    "duration": 13,
    "start_time": "2022-04-14T16:16:20.167Z"
   },
   {
    "duration": 23,
    "start_time": "2022-04-14T16:16:20.181Z"
   },
   {
    "duration": 10,
    "start_time": "2022-04-14T16:16:20.207Z"
   },
   {
    "duration": 22,
    "start_time": "2022-04-14T16:16:20.218Z"
   },
   {
    "duration": 16,
    "start_time": "2022-04-14T16:16:20.242Z"
   },
   {
    "duration": 4,
    "start_time": "2022-04-14T16:16:20.260Z"
   },
   {
    "duration": 11,
    "start_time": "2022-04-14T16:16:20.265Z"
   },
   {
    "duration": 48,
    "start_time": "2022-04-14T16:16:20.277Z"
   },
   {
    "duration": 5,
    "start_time": "2022-04-14T16:16:20.327Z"
   },
   {
    "duration": 6,
    "start_time": "2022-04-14T16:16:20.333Z"
   },
   {
    "duration": 8,
    "start_time": "2022-04-14T16:16:20.341Z"
   },
   {
    "duration": 14,
    "start_time": "2022-04-14T16:16:20.350Z"
   },
   {
    "duration": 52,
    "start_time": "2022-04-14T16:16:20.365Z"
   },
   {
    "duration": 14,
    "start_time": "2022-04-14T16:16:20.419Z"
   },
   {
    "duration": 2,
    "start_time": "2022-04-14T16:16:20.434Z"
   },
   {
    "duration": 11,
    "start_time": "2022-04-14T16:16:20.438Z"
   },
   {
    "duration": 14,
    "start_time": "2022-04-14T16:16:20.450Z"
   },
   {
    "duration": 13,
    "start_time": "2022-04-14T16:16:20.466Z"
   },
   {
    "duration": 339,
    "start_time": "2022-04-14T16:16:20.481Z"
   },
   {
    "duration": 22,
    "start_time": "2022-04-14T16:16:20.822Z"
   },
   {
    "duration": 243,
    "start_time": "2022-04-14T16:16:20.845Z"
   },
   {
    "duration": 228,
    "start_time": "2022-04-14T16:16:21.090Z"
   },
   {
    "duration": 262,
    "start_time": "2022-04-14T16:16:21.320Z"
   },
   {
    "duration": 331,
    "start_time": "2022-04-14T16:16:21.584Z"
   },
   {
    "duration": 222,
    "start_time": "2022-04-14T16:16:21.917Z"
   },
   {
    "duration": 175,
    "start_time": "2022-04-14T16:16:22.141Z"
   },
   {
    "duration": 9,
    "start_time": "2022-04-14T16:16:22.321Z"
   },
   {
    "duration": 3,
    "start_time": "2022-04-14T16:16:22.331Z"
   },
   {
    "duration": 126,
    "start_time": "2022-04-14T16:16:22.336Z"
   },
   {
    "duration": 224,
    "start_time": "2022-04-14T16:16:22.464Z"
   },
   {
    "duration": 394,
    "start_time": "2022-04-14T16:16:22.689Z"
   },
   {
    "duration": 28,
    "start_time": "2022-04-14T16:16:23.084Z"
   },
   {
    "duration": 9,
    "start_time": "2022-04-14T16:16:23.114Z"
   },
   {
    "duration": 7,
    "start_time": "2022-04-14T16:16:23.124Z"
   },
   {
    "duration": 10,
    "start_time": "2022-04-14T16:16:23.132Z"
   },
   {
    "duration": 8,
    "start_time": "2022-04-14T16:16:23.143Z"
   },
   {
    "duration": 121,
    "start_time": "2022-04-14T16:16:23.152Z"
   },
   {
    "duration": 10,
    "start_time": "2022-04-14T16:16:23.274Z"
   },
   {
    "duration": 287,
    "start_time": "2022-04-14T16:16:23.286Z"
   },
   {
    "duration": 5,
    "start_time": "2022-04-14T16:16:23.575Z"
   },
   {
    "duration": 145,
    "start_time": "2022-04-14T16:16:23.582Z"
   },
   {
    "duration": 4,
    "start_time": "2022-04-14T16:16:23.729Z"
   },
   {
    "duration": 96,
    "start_time": "2022-04-14T16:16:23.734Z"
   },
   {
    "duration": 390,
    "start_time": "2022-04-14T16:16:23.832Z"
   },
   {
    "duration": 5,
    "start_time": "2022-04-14T16:16:24.223Z"
   },
   {
    "duration": 126,
    "start_time": "2022-04-14T16:16:24.230Z"
   },
   {
    "duration": 132,
    "start_time": "2022-04-14T16:16:24.358Z"
   },
   {
    "duration": 126,
    "start_time": "2022-04-14T16:16:24.492Z"
   },
   {
    "duration": 10,
    "start_time": "2022-04-14T16:16:24.620Z"
   },
   {
    "duration": 85,
    "start_time": "2022-04-14T16:16:24.632Z"
   },
   {
    "duration": 0,
    "start_time": "2022-04-14T16:16:24.719Z"
   },
   {
    "duration": 0,
    "start_time": "2022-04-14T16:16:24.720Z"
   },
   {
    "duration": 0,
    "start_time": "2022-04-14T16:16:24.721Z"
   },
   {
    "duration": 0,
    "start_time": "2022-04-14T16:16:24.722Z"
   },
   {
    "duration": 0,
    "start_time": "2022-04-14T16:16:24.723Z"
   },
   {
    "duration": 0,
    "start_time": "2022-04-14T16:16:24.724Z"
   },
   {
    "duration": 0,
    "start_time": "2022-04-14T16:16:24.725Z"
   },
   {
    "duration": 0,
    "start_time": "2022-04-14T16:16:24.726Z"
   },
   {
    "duration": 0,
    "start_time": "2022-04-14T16:16:24.727Z"
   },
   {
    "duration": 0,
    "start_time": "2022-04-14T16:16:24.728Z"
   },
   {
    "duration": 0,
    "start_time": "2022-04-14T16:16:24.729Z"
   },
   {
    "duration": 0,
    "start_time": "2022-04-14T16:16:24.730Z"
   },
   {
    "duration": 0,
    "start_time": "2022-04-14T16:16:24.731Z"
   },
   {
    "duration": 0,
    "start_time": "2022-04-14T16:16:24.732Z"
   },
   {
    "duration": 0,
    "start_time": "2022-04-14T16:16:24.733Z"
   },
   {
    "duration": 0,
    "start_time": "2022-04-14T16:16:24.734Z"
   },
   {
    "duration": 16,
    "start_time": "2022-04-14T16:16:54.888Z"
   },
   {
    "duration": 10,
    "start_time": "2022-04-14T16:17:31.572Z"
   },
   {
    "duration": 513,
    "start_time": "2022-04-14T16:17:40.307Z"
   },
   {
    "duration": 393,
    "start_time": "2022-04-14T16:18:56.324Z"
   },
   {
    "duration": 416,
    "start_time": "2022-04-14T16:19:05.021Z"
   },
   {
    "duration": 536,
    "start_time": "2022-04-14T16:19:16.360Z"
   },
   {
    "duration": 15,
    "start_time": "2022-04-14T16:20:21.845Z"
   },
   {
    "duration": 11,
    "start_time": "2022-04-14T16:22:27.865Z"
   },
   {
    "duration": 788,
    "start_time": "2022-04-14T16:22:28.858Z"
   },
   {
    "duration": 16,
    "start_time": "2022-04-14T16:24:45.302Z"
   },
   {
    "duration": 15,
    "start_time": "2022-04-14T16:25:33.479Z"
   },
   {
    "duration": 197,
    "start_time": "2022-04-14T16:28:13.304Z"
   },
   {
    "duration": 16,
    "start_time": "2022-04-14T16:28:23.084Z"
   },
   {
    "duration": 17,
    "start_time": "2022-04-14T16:32:38.801Z"
   },
   {
    "duration": 548,
    "start_time": "2022-04-14T16:32:39.608Z"
   },
   {
    "duration": 230,
    "start_time": "2022-04-14T16:36:38.122Z"
   },
   {
    "duration": 5,
    "start_time": "2022-04-14T16:36:43.763Z"
   },
   {
    "duration": 6,
    "start_time": "2022-04-14T16:37:01.239Z"
   },
   {
    "duration": 7,
    "start_time": "2022-04-14T16:45:26.106Z"
   },
   {
    "duration": 579,
    "start_time": "2022-04-14T16:45:42.174Z"
   },
   {
    "duration": 630,
    "start_time": "2022-04-14T16:45:42.850Z"
   },
   {
    "duration": 698,
    "start_time": "2022-04-14T16:46:46.454Z"
   },
   {
    "duration": 21,
    "start_time": "2022-04-14T16:47:36.786Z"
   },
   {
    "duration": 5,
    "start_time": "2022-04-14T16:52:02.209Z"
   },
   {
    "duration": 4,
    "start_time": "2022-04-14T16:52:11.206Z"
   },
   {
    "duration": 275,
    "start_time": "2022-04-14T16:52:14.265Z"
   },
   {
    "duration": 13,
    "start_time": "2022-04-14T16:54:06.230Z"
   },
   {
    "duration": 124,
    "start_time": "2022-04-14T16:55:35.034Z"
   },
   {
    "duration": 135,
    "start_time": "2022-04-14T16:56:31.122Z"
   },
   {
    "duration": 211,
    "start_time": "2022-04-14T16:56:53.967Z"
   },
   {
    "duration": 144,
    "start_time": "2022-04-14T16:57:01.900Z"
   },
   {
    "duration": 161,
    "start_time": "2022-04-14T16:57:27.118Z"
   },
   {
    "duration": 166,
    "start_time": "2022-04-14T16:58:20.966Z"
   },
   {
    "duration": 182,
    "start_time": "2022-04-14T16:58:42.786Z"
   },
   {
    "duration": 199,
    "start_time": "2022-04-14T17:00:31.280Z"
   },
   {
    "duration": 313,
    "start_time": "2022-04-14T17:00:40.823Z"
   },
   {
    "duration": 143,
    "start_time": "2022-04-14T17:01:47.776Z"
   },
   {
    "duration": 118,
    "start_time": "2022-04-14T17:02:05.952Z"
   },
   {
    "duration": 119,
    "start_time": "2022-04-14T17:02:25.212Z"
   },
   {
    "duration": 331,
    "start_time": "2022-04-14T17:36:19.221Z"
   },
   {
    "duration": 377,
    "start_time": "2022-05-12T18:43:59.012Z"
   },
   {
    "duration": 39,
    "start_time": "2022-05-12T18:43:59.472Z"
   },
   {
    "duration": 227,
    "start_time": "2022-05-12T18:44:12.706Z"
   },
   {
    "duration": 3,
    "start_time": "2022-05-12T18:44:16.385Z"
   },
   {
    "duration": 38,
    "start_time": "2022-05-12T18:44:16.564Z"
   },
   {
    "duration": 23,
    "start_time": "2022-05-12T18:44:16.729Z"
   },
   {
    "duration": 14,
    "start_time": "2022-05-12T18:44:16.891Z"
   },
   {
    "duration": 4,
    "start_time": "2022-05-12T18:44:23.890Z"
   },
   {
    "duration": 5,
    "start_time": "2022-05-12T18:44:30.353Z"
   },
   {
    "duration": 4,
    "start_time": "2022-05-12T18:44:55.606Z"
   },
   {
    "duration": 8,
    "start_time": "2022-05-12T18:44:57.687Z"
   },
   {
    "duration": 14,
    "start_time": "2022-05-12T18:44:57.697Z"
   },
   {
    "duration": 10,
    "start_time": "2022-05-12T18:45:01.185Z"
   },
   {
    "duration": 8,
    "start_time": "2022-05-12T18:45:03.440Z"
   },
   {
    "duration": 5,
    "start_time": "2022-05-12T18:45:21.198Z"
   },
   {
    "duration": 8,
    "start_time": "2022-05-12T18:45:26.686Z"
   },
   {
    "duration": 5,
    "start_time": "2022-05-12T18:45:48.989Z"
   },
   {
    "duration": 9,
    "start_time": "2022-05-12T18:46:05.159Z"
   },
   {
    "duration": 12,
    "start_time": "2022-05-12T18:46:05.841Z"
   },
   {
    "duration": 13,
    "start_time": "2022-05-12T18:46:08.151Z"
   },
   {
    "duration": 5,
    "start_time": "2022-05-12T18:46:22.196Z"
   },
   {
    "duration": 14,
    "start_time": "2022-05-12T18:46:22.568Z"
   },
   {
    "duration": 14,
    "start_time": "2022-05-12T18:47:10.785Z"
   },
   {
    "duration": 521,
    "start_time": "2022-05-12T18:47:13.210Z"
   },
   {
    "duration": 13,
    "start_time": "2022-05-12T18:48:15.979Z"
   },
   {
    "duration": 242,
    "start_time": "2022-05-12T18:48:16.422Z"
   },
   {
    "duration": 73,
    "start_time": "2022-05-12T18:48:44.130Z"
   },
   {
    "duration": 2,
    "start_time": "2022-05-12T18:48:46.836Z"
   },
   {
    "duration": 154,
    "start_time": "2022-05-12T18:48:47.024Z"
   },
   {
    "duration": 16,
    "start_time": "2022-05-12T18:48:55.519Z"
   },
   {
    "duration": 11,
    "start_time": "2022-05-12T18:49:43.644Z"
   },
   {
    "duration": 223,
    "start_time": "2022-05-12T18:49:44.727Z"
   },
   {
    "duration": 5,
    "start_time": "2022-05-12T18:49:51.467Z"
   },
   {
    "duration": 5,
    "start_time": "2022-05-12T18:49:58.998Z"
   },
   {
    "duration": 749,
    "start_time": "2022-05-12T18:50:05.239Z"
   },
   {
    "duration": 213,
    "start_time": "2022-05-12T18:50:26.444Z"
   },
   {
    "duration": 6,
    "start_time": "2022-05-12T18:50:30.915Z"
   },
   {
    "duration": 5,
    "start_time": "2022-05-12T18:50:33.041Z"
   },
   {
    "duration": 199,
    "start_time": "2022-05-12T18:50:33.528Z"
   },
   {
    "duration": 276,
    "start_time": "2022-05-12T18:50:34.945Z"
   },
   {
    "duration": 658,
    "start_time": "2022-05-12T18:50:37.406Z"
   },
   {
    "duration": 5,
    "start_time": "2022-05-12T18:50:49.234Z"
   },
   {
    "duration": 5,
    "start_time": "2022-05-12T18:50:49.700Z"
   },
   {
    "duration": 6,
    "start_time": "2022-05-12T18:50:49.937Z"
   },
   {
    "duration": 5,
    "start_time": "2022-05-12T18:50:50.176Z"
   },
   {
    "duration": 462,
    "start_time": "2022-05-12T18:50:50.849Z"
   },
   {
    "duration": 6,
    "start_time": "2022-05-12T18:50:51.604Z"
   },
   {
    "duration": 6,
    "start_time": "2022-05-12T18:50:51.832Z"
   },
   {
    "duration": 4,
    "start_time": "2022-05-12T18:50:52.027Z"
   },
   {
    "duration": 5,
    "start_time": "2022-05-12T18:50:52.292Z"
   },
   {
    "duration": 142,
    "start_time": "2022-05-12T18:51:07.431Z"
   },
   {
    "duration": 16,
    "start_time": "2022-05-12T18:53:25.268Z"
   },
   {
    "duration": 380,
    "start_time": "2022-05-12T18:53:25.695Z"
   },
   {
    "duration": 15,
    "start_time": "2022-05-12T18:53:27.542Z"
   },
   {
    "duration": 455,
    "start_time": "2022-05-12T18:53:27.771Z"
   },
   {
    "duration": 15,
    "start_time": "2022-05-12T18:53:28.918Z"
   },
   {
    "duration": 9,
    "start_time": "2022-05-12T18:54:32.618Z"
   },
   {
    "duration": 240,
    "start_time": "2022-05-12T18:54:50.169Z"
   },
   {
    "duration": 5,
    "start_time": "2022-05-12T18:54:53.708Z"
   },
   {
    "duration": 196,
    "start_time": "2022-05-12T18:56:15.351Z"
   },
   {
    "duration": 8,
    "start_time": "2022-05-12T18:56:36.150Z"
   },
   {
    "duration": 6,
    "start_time": "2022-05-12T18:56:37.785Z"
   },
   {
    "duration": 138,
    "start_time": "2022-05-15T06:54:10.667Z"
   },
   {
    "duration": 556,
    "start_time": "2022-05-15T06:54:44.751Z"
   },
   {
    "duration": 53,
    "start_time": "2022-05-15T06:54:45.310Z"
   },
   {
    "duration": 41,
    "start_time": "2022-05-15T06:54:45.365Z"
   },
   {
    "duration": 20,
    "start_time": "2022-05-15T06:54:45.408Z"
   },
   {
    "duration": 5,
    "start_time": "2022-05-15T06:54:45.430Z"
   },
   {
    "duration": 6,
    "start_time": "2022-05-15T06:54:45.437Z"
   },
   {
    "duration": 38,
    "start_time": "2022-05-15T06:54:45.445Z"
   },
   {
    "duration": 15,
    "start_time": "2022-05-15T06:54:45.485Z"
   },
   {
    "duration": 18,
    "start_time": "2022-05-15T06:54:45.503Z"
   },
   {
    "duration": 14,
    "start_time": "2022-05-15T06:54:45.525Z"
   },
   {
    "duration": 10,
    "start_time": "2022-05-15T06:54:45.541Z"
   },
   {
    "duration": 6,
    "start_time": "2022-05-15T06:54:45.582Z"
   },
   {
    "duration": 15,
    "start_time": "2022-05-15T06:54:45.590Z"
   },
   {
    "duration": 8,
    "start_time": "2022-05-15T06:54:45.607Z"
   },
   {
    "duration": 12,
    "start_time": "2022-05-15T06:54:45.617Z"
   },
   {
    "duration": 55,
    "start_time": "2022-05-15T06:54:45.631Z"
   },
   {
    "duration": 20,
    "start_time": "2022-05-15T06:54:45.688Z"
   },
   {
    "duration": 5,
    "start_time": "2022-05-15T06:54:45.710Z"
   },
   {
    "duration": 22,
    "start_time": "2022-05-15T06:54:45.717Z"
   },
   {
    "duration": 58,
    "start_time": "2022-05-15T06:54:45.741Z"
   },
   {
    "duration": 1183,
    "start_time": "2022-05-15T06:54:45.801Z"
   },
   {
    "duration": 22,
    "start_time": "2022-05-15T06:54:46.986Z"
   },
   {
    "duration": 487,
    "start_time": "2022-05-15T06:54:47.010Z"
   },
   {
    "duration": 4,
    "start_time": "2022-05-15T06:54:47.499Z"
   },
   {
    "duration": 371,
    "start_time": "2022-05-15T06:54:47.505Z"
   },
   {
    "duration": 29,
    "start_time": "2022-05-15T06:54:47.881Z"
   },
   {
    "duration": 21,
    "start_time": "2022-05-15T06:54:47.912Z"
   },
   {
    "duration": 369,
    "start_time": "2022-05-15T06:54:47.938Z"
   },
   {
    "duration": 6,
    "start_time": "2022-05-15T06:54:48.309Z"
   },
   {
    "duration": 11,
    "start_time": "2022-05-15T06:54:48.317Z"
   },
   {
    "duration": 1221,
    "start_time": "2022-05-15T06:54:48.330Z"
   },
   {
    "duration": 8,
    "start_time": "2022-05-15T06:54:49.553Z"
   },
   {
    "duration": 21,
    "start_time": "2022-05-15T06:54:49.563Z"
   },
   {
    "duration": 354,
    "start_time": "2022-05-15T06:54:49.586Z"
   },
   {
    "duration": 290,
    "start_time": "2022-05-15T06:54:49.942Z"
   },
   {
    "duration": 902,
    "start_time": "2022-05-15T06:54:50.234Z"
   },
   {
    "duration": 7,
    "start_time": "2022-05-15T06:54:51.138Z"
   },
   {
    "duration": 20,
    "start_time": "2022-05-15T06:54:51.147Z"
   },
   {
    "duration": 16,
    "start_time": "2022-05-15T06:54:51.169Z"
   },
   {
    "duration": 7,
    "start_time": "2022-05-15T06:54:51.187Z"
   },
   {
    "duration": 910,
    "start_time": "2022-05-15T06:54:51.196Z"
   },
   {
    "duration": 7,
    "start_time": "2022-05-15T06:54:52.108Z"
   },
   {
    "duration": 14,
    "start_time": "2022-05-15T06:54:52.118Z"
   },
   {
    "duration": 14,
    "start_time": "2022-05-15T06:54:52.134Z"
   },
   {
    "duration": 33,
    "start_time": "2022-05-15T06:54:52.150Z"
   },
   {
    "duration": 290,
    "start_time": "2022-05-15T06:54:52.185Z"
   },
   {
    "duration": 316,
    "start_time": "2022-05-15T06:54:52.481Z"
   },
   {
    "duration": 26,
    "start_time": "2022-05-15T06:54:52.799Z"
   },
   {
    "duration": 788,
    "start_time": "2022-05-15T06:54:52.828Z"
   },
   {
    "duration": 24,
    "start_time": "2022-05-15T06:54:53.619Z"
   },
   {
    "duration": 744,
    "start_time": "2022-05-15T06:54:53.646Z"
   },
   {
    "duration": 25,
    "start_time": "2022-05-15T06:54:54.392Z"
   },
   {
    "duration": 717,
    "start_time": "2022-05-15T06:54:54.419Z"
   },
   {
    "duration": 14,
    "start_time": "2022-05-15T06:54:55.139Z"
   },
   {
    "duration": 28,
    "start_time": "2022-05-15T06:54:55.156Z"
   },
   {
    "duration": 13,
    "start_time": "2022-05-15T06:54:55.186Z"
   },
   {
    "duration": 9,
    "start_time": "2022-05-15T06:54:55.202Z"
   },
   {
    "duration": 135,
    "start_time": "2022-05-15T07:02:41.531Z"
   },
   {
    "duration": 109,
    "start_time": "2022-05-15T07:03:38.813Z"
   },
   {
    "duration": 17,
    "start_time": "2022-05-15T07:09:55.846Z"
   },
   {
    "duration": 9,
    "start_time": "2022-05-15T07:10:31.698Z"
   },
   {
    "duration": 47,
    "start_time": "2022-05-15T07:14:43.093Z"
   },
   {
    "duration": 24,
    "start_time": "2022-05-15T07:15:04.850Z"
   },
   {
    "duration": 8,
    "start_time": "2022-05-15T07:15:43.462Z"
   },
   {
    "duration": 21,
    "start_time": "2022-05-15T07:44:13.443Z"
   },
   {
    "duration": 177,
    "start_time": "2022-05-15T07:46:07.670Z"
   },
   {
    "duration": 563,
    "start_time": "2022-05-15T07:46:29.356Z"
   },
   {
    "duration": 53,
    "start_time": "2022-05-15T07:46:29.922Z"
   },
   {
    "duration": 44,
    "start_time": "2022-05-15T07:46:29.977Z"
   },
   {
    "duration": 20,
    "start_time": "2022-05-15T07:46:30.025Z"
   },
   {
    "duration": 6,
    "start_time": "2022-05-15T07:46:30.047Z"
   },
   {
    "duration": 6,
    "start_time": "2022-05-15T07:46:30.083Z"
   },
   {
    "duration": 9,
    "start_time": "2022-05-15T07:46:30.091Z"
   },
   {
    "duration": 18,
    "start_time": "2022-05-15T07:46:30.103Z"
   },
   {
    "duration": 20,
    "start_time": "2022-05-15T07:46:30.123Z"
   },
   {
    "duration": 41,
    "start_time": "2022-05-15T07:46:30.147Z"
   },
   {
    "duration": 20,
    "start_time": "2022-05-15T07:46:30.190Z"
   },
   {
    "duration": 14,
    "start_time": "2022-05-15T07:46:30.212Z"
   },
   {
    "duration": 19,
    "start_time": "2022-05-15T07:46:30.228Z"
   },
   {
    "duration": 11,
    "start_time": "2022-05-15T07:46:30.249Z"
   },
   {
    "duration": 26,
    "start_time": "2022-05-15T07:46:30.262Z"
   },
   {
    "duration": 29,
    "start_time": "2022-05-15T07:46:30.290Z"
   },
   {
    "duration": 28,
    "start_time": "2022-05-15T07:46:30.321Z"
   },
   {
    "duration": 32,
    "start_time": "2022-05-15T07:46:30.351Z"
   },
   {
    "duration": 16,
    "start_time": "2022-05-15T07:46:30.385Z"
   },
   {
    "duration": 17,
    "start_time": "2022-05-15T07:46:30.404Z"
   },
   {
    "duration": 25,
    "start_time": "2022-05-15T07:46:30.424Z"
   },
   {
    "duration": 33,
    "start_time": "2022-05-15T07:46:30.451Z"
   },
   {
    "duration": 890,
    "start_time": "2022-05-15T07:46:30.486Z"
   },
   {
    "duration": 24,
    "start_time": "2022-05-15T07:46:31.383Z"
   },
   {
    "duration": 496,
    "start_time": "2022-05-15T07:46:31.409Z"
   },
   {
    "duration": 5,
    "start_time": "2022-05-15T07:46:31.907Z"
   },
   {
    "duration": 324,
    "start_time": "2022-05-15T07:46:31.914Z"
   },
   {
    "duration": 95,
    "start_time": "2022-05-15T07:46:32.246Z"
   },
   {
    "duration": 43,
    "start_time": "2022-05-15T07:46:32.344Z"
   },
   {
    "duration": 368,
    "start_time": "2022-05-15T07:46:32.390Z"
   },
   {
    "duration": 6,
    "start_time": "2022-05-15T07:46:32.760Z"
   },
   {
    "duration": 6,
    "start_time": "2022-05-15T07:46:32.781Z"
   },
   {
    "duration": 1171,
    "start_time": "2022-05-15T07:46:32.789Z"
   },
   {
    "duration": 10,
    "start_time": "2022-05-15T07:46:33.962Z"
   },
   {
    "duration": 12,
    "start_time": "2022-05-15T07:46:33.982Z"
   },
   {
    "duration": 290,
    "start_time": "2022-05-15T07:46:33.996Z"
   },
   {
    "duration": 387,
    "start_time": "2022-05-15T07:46:34.288Z"
   },
   {
    "duration": 925,
    "start_time": "2022-05-15T07:46:34.677Z"
   },
   {
    "duration": 7,
    "start_time": "2022-05-15T07:46:35.605Z"
   },
   {
    "duration": 13,
    "start_time": "2022-05-15T07:46:35.614Z"
   },
   {
    "duration": 10,
    "start_time": "2022-05-15T07:46:35.629Z"
   },
   {
    "duration": 42,
    "start_time": "2022-05-15T07:46:35.641Z"
   },
   {
    "duration": 956,
    "start_time": "2022-05-15T07:46:35.686Z"
   },
   {
    "duration": 7,
    "start_time": "2022-05-15T07:46:36.645Z"
   },
   {
    "duration": 27,
    "start_time": "2022-05-15T07:46:36.655Z"
   },
   {
    "duration": 9,
    "start_time": "2022-05-15T07:46:36.685Z"
   },
   {
    "duration": 14,
    "start_time": "2022-05-15T07:46:36.696Z"
   },
   {
    "duration": 316,
    "start_time": "2022-05-15T07:46:36.713Z"
   },
   {
    "duration": 322,
    "start_time": "2022-05-15T07:46:37.031Z"
   },
   {
    "duration": 180,
    "start_time": "2022-05-15T07:46:37.355Z"
   },
   {
    "duration": 0,
    "start_time": "2022-05-15T07:46:37.537Z"
   },
   {
    "duration": 0,
    "start_time": "2022-05-15T07:46:37.539Z"
   },
   {
    "duration": 0,
    "start_time": "2022-05-15T07:46:37.540Z"
   },
   {
    "duration": 0,
    "start_time": "2022-05-15T07:46:37.542Z"
   },
   {
    "duration": 0,
    "start_time": "2022-05-15T07:46:37.543Z"
   },
   {
    "duration": 0,
    "start_time": "2022-05-15T07:46:37.544Z"
   },
   {
    "duration": 0,
    "start_time": "2022-05-15T07:46:37.545Z"
   },
   {
    "duration": 1,
    "start_time": "2022-05-15T07:46:37.546Z"
   },
   {
    "duration": 0,
    "start_time": "2022-05-15T07:46:37.548Z"
   },
   {
    "duration": 0,
    "start_time": "2022-05-15T07:46:37.549Z"
   },
   {
    "duration": 24,
    "start_time": "2022-05-15T07:47:38.576Z"
   },
   {
    "duration": 12,
    "start_time": "2022-05-15T07:48:14.880Z"
   },
   {
    "duration": 307,
    "start_time": "2022-05-15T07:48:22.016Z"
   },
   {
    "duration": 97,
    "start_time": "2022-05-15T07:49:43.512Z"
   },
   {
    "duration": 25,
    "start_time": "2022-05-15T07:57:22.447Z"
   },
   {
    "duration": 788,
    "start_time": "2022-05-15T07:57:23.031Z"
   },
   {
    "duration": 28,
    "start_time": "2022-05-15T07:57:26.382Z"
   },
   {
    "duration": 917,
    "start_time": "2022-05-15T07:57:27.335Z"
   },
   {
    "duration": 24,
    "start_time": "2022-05-15T07:57:29.507Z"
   },
   {
    "duration": 706,
    "start_time": "2022-05-15T07:57:29.967Z"
   },
   {
    "duration": 13,
    "start_time": "2022-05-15T07:57:35.657Z"
   },
   {
    "duration": 7,
    "start_time": "2022-05-15T07:57:45.572Z"
   },
   {
    "duration": 12,
    "start_time": "2022-05-15T07:57:51.843Z"
   },
   {
    "duration": 6,
    "start_time": "2022-05-15T07:57:53.019Z"
   },
   {
    "duration": 334,
    "start_time": "2022-05-15T08:02:04.065Z"
   },
   {
    "duration": 681,
    "start_time": "2022-05-15T13:31:39.368Z"
   },
   {
    "duration": 67,
    "start_time": "2022-05-15T13:31:40.052Z"
   },
   {
    "duration": 55,
    "start_time": "2022-05-15T13:31:40.121Z"
   },
   {
    "duration": 29,
    "start_time": "2022-05-15T13:31:40.180Z"
   },
   {
    "duration": 6,
    "start_time": "2022-05-15T13:31:41.139Z"
   },
   {
    "duration": 6,
    "start_time": "2022-05-15T13:31:41.319Z"
   },
   {
    "duration": 7,
    "start_time": "2022-05-15T13:31:42.177Z"
   },
   {
    "duration": 22,
    "start_time": "2022-05-15T13:31:42.477Z"
   },
   {
    "duration": 21,
    "start_time": "2022-05-15T13:31:42.690Z"
   },
   {
    "duration": 16,
    "start_time": "2022-05-15T13:31:43.261Z"
   },
   {
    "duration": 12,
    "start_time": "2022-05-15T13:31:43.604Z"
   },
   {
    "duration": 7,
    "start_time": "2022-05-15T13:31:44.134Z"
   },
   {
    "duration": 13,
    "start_time": "2022-05-15T13:31:44.729Z"
   },
   {
    "duration": 7,
    "start_time": "2022-05-15T13:31:45.142Z"
   },
   {
    "duration": 14,
    "start_time": "2022-05-15T13:31:45.330Z"
   },
   {
    "duration": 21,
    "start_time": "2022-05-15T13:31:45.713Z"
   },
   {
    "duration": 25,
    "start_time": "2022-05-15T13:31:46.236Z"
   },
   {
    "duration": 21,
    "start_time": "2022-05-15T13:32:06.151Z"
   },
   {
    "duration": 69,
    "start_time": "2022-05-15T14:00:17.573Z"
   },
   {
    "duration": 527,
    "start_time": "2022-05-15T14:00:30.278Z"
   },
   {
    "duration": 59,
    "start_time": "2022-05-15T14:00:30.808Z"
   },
   {
    "duration": 36,
    "start_time": "2022-05-15T14:00:30.870Z"
   },
   {
    "duration": 19,
    "start_time": "2022-05-15T14:00:30.909Z"
   },
   {
    "duration": 33,
    "start_time": "2022-05-15T14:00:30.930Z"
   },
   {
    "duration": 12,
    "start_time": "2022-05-15T14:00:30.966Z"
   },
   {
    "duration": 21,
    "start_time": "2022-05-15T14:00:30.981Z"
   },
   {
    "duration": 42,
    "start_time": "2022-05-15T14:00:31.004Z"
   },
   {
    "duration": 40,
    "start_time": "2022-05-15T14:00:31.049Z"
   },
   {
    "duration": 17,
    "start_time": "2022-05-15T14:00:31.092Z"
   },
   {
    "duration": 11,
    "start_time": "2022-05-15T14:00:31.112Z"
   },
   {
    "duration": 45,
    "start_time": "2022-05-15T14:00:31.125Z"
   },
   {
    "duration": 24,
    "start_time": "2022-05-15T14:00:31.172Z"
   },
   {
    "duration": 14,
    "start_time": "2022-05-15T14:00:31.198Z"
   },
   {
    "duration": 25,
    "start_time": "2022-05-15T14:00:31.214Z"
   },
   {
    "duration": 31,
    "start_time": "2022-05-15T14:00:31.241Z"
   },
   {
    "duration": 25,
    "start_time": "2022-05-15T14:00:31.274Z"
   },
   {
    "duration": 12,
    "start_time": "2022-05-15T14:00:31.301Z"
   },
   {
    "duration": 12,
    "start_time": "2022-05-15T14:00:31.316Z"
   },
   {
    "duration": 57,
    "start_time": "2022-05-15T14:00:31.331Z"
   },
   {
    "duration": 17,
    "start_time": "2022-05-15T14:00:31.391Z"
   },
   {
    "duration": 18,
    "start_time": "2022-05-15T14:00:31.410Z"
   },
   {
    "duration": 35,
    "start_time": "2022-05-15T14:00:31.431Z"
   },
   {
    "duration": 35,
    "start_time": "2022-05-15T14:00:31.469Z"
   },
   {
    "duration": 1161,
    "start_time": "2022-05-15T14:00:31.506Z"
   },
   {
    "duration": 32,
    "start_time": "2022-05-15T14:00:32.673Z"
   },
   {
    "duration": 583,
    "start_time": "2022-05-15T14:00:32.708Z"
   },
   {
    "duration": 4,
    "start_time": "2022-05-15T14:00:33.296Z"
   },
   {
    "duration": 366,
    "start_time": "2022-05-15T14:00:33.302Z"
   },
   {
    "duration": 31,
    "start_time": "2022-05-15T14:00:33.670Z"
   },
   {
    "duration": 20,
    "start_time": "2022-05-15T14:00:33.703Z"
   },
   {
    "duration": 374,
    "start_time": "2022-05-15T14:00:33.725Z"
   },
   {
    "duration": 7,
    "start_time": "2022-05-15T14:00:34.101Z"
   },
   {
    "duration": 6,
    "start_time": "2022-05-15T14:00:34.110Z"
   },
   {
    "duration": 1181,
    "start_time": "2022-05-15T14:00:34.118Z"
   },
   {
    "duration": 9,
    "start_time": "2022-05-15T14:00:35.301Z"
   },
   {
    "duration": 13,
    "start_time": "2022-05-15T14:00:35.313Z"
   },
   {
    "duration": 362,
    "start_time": "2022-05-15T14:00:35.328Z"
   },
   {
    "duration": 279,
    "start_time": "2022-05-15T14:00:35.692Z"
   },
   {
    "duration": 898,
    "start_time": "2022-05-15T14:00:35.973Z"
   },
   {
    "duration": 7,
    "start_time": "2022-05-15T14:00:36.873Z"
   },
   {
    "duration": 34,
    "start_time": "2022-05-15T14:00:36.883Z"
   },
   {
    "duration": 20,
    "start_time": "2022-05-15T14:00:36.920Z"
   },
   {
    "duration": 13,
    "start_time": "2022-05-15T14:00:36.942Z"
   },
   {
    "duration": 908,
    "start_time": "2022-05-15T14:00:36.959Z"
   },
   {
    "duration": 7,
    "start_time": "2022-05-15T14:00:37.870Z"
   },
   {
    "duration": 25,
    "start_time": "2022-05-15T14:00:37.879Z"
   },
   {
    "duration": 21,
    "start_time": "2022-05-15T14:00:37.906Z"
   },
   {
    "duration": 36,
    "start_time": "2022-05-15T14:00:37.929Z"
   },
   {
    "duration": 295,
    "start_time": "2022-05-15T14:00:37.967Z"
   },
   {
    "duration": 318,
    "start_time": "2022-05-15T14:00:38.265Z"
   },
   {
    "duration": 330,
    "start_time": "2022-05-15T14:00:38.585Z"
   },
   {
    "duration": 24,
    "start_time": "2022-05-15T14:00:38.918Z"
   },
   {
    "duration": 766,
    "start_time": "2022-05-15T14:00:38.944Z"
   },
   {
    "duration": 25,
    "start_time": "2022-05-15T14:00:39.712Z"
   },
   {
    "duration": 745,
    "start_time": "2022-05-15T14:00:39.740Z"
   },
   {
    "duration": 31,
    "start_time": "2022-05-15T14:00:40.487Z"
   },
   {
    "duration": 813,
    "start_time": "2022-05-15T14:00:40.520Z"
   },
   {
    "duration": 12,
    "start_time": "2022-05-15T14:00:41.335Z"
   },
   {
    "duration": 8,
    "start_time": "2022-05-15T14:00:41.360Z"
   },
   {
    "duration": 20,
    "start_time": "2022-05-15T14:00:41.371Z"
   },
   {
    "duration": 10,
    "start_time": "2022-05-15T14:00:41.394Z"
   },
   {
    "duration": 16,
    "start_time": "2022-05-15T14:01:37.746Z"
   },
   {
    "duration": 19,
    "start_time": "2022-05-15T14:02:00.810Z"
   },
   {
    "duration": 178,
    "start_time": "2022-05-15T14:02:19.922Z"
   },
   {
    "duration": 16,
    "start_time": "2022-05-15T14:02:28.117Z"
   },
   {
    "duration": 14,
    "start_time": "2022-05-15T14:02:47.578Z"
   },
   {
    "duration": 22,
    "start_time": "2022-05-15T14:04:24.954Z"
   },
   {
    "duration": 7,
    "start_time": "2022-05-15T14:05:02.017Z"
   },
   {
    "duration": 6,
    "start_time": "2022-05-15T14:05:08.170Z"
   },
   {
    "duration": 16,
    "start_time": "2022-05-15T14:05:14.125Z"
   },
   {
    "duration": 17,
    "start_time": "2022-05-15T14:10:46.875Z"
   },
   {
    "duration": 19,
    "start_time": "2022-05-15T14:11:04.484Z"
   },
   {
    "duration": 16,
    "start_time": "2022-05-15T14:17:23.611Z"
   },
   {
    "duration": 15,
    "start_time": "2022-05-15T14:17:33.435Z"
   },
   {
    "duration": 15,
    "start_time": "2022-05-15T14:21:32.518Z"
   },
   {
    "duration": 14,
    "start_time": "2022-05-15T14:23:10.683Z"
   },
   {
    "duration": 15,
    "start_time": "2022-05-15T14:23:31.394Z"
   },
   {
    "duration": 11,
    "start_time": "2022-05-15T14:24:05.074Z"
   },
   {
    "duration": 16,
    "start_time": "2022-05-15T14:24:11.793Z"
   },
   {
    "duration": 24,
    "start_time": "2022-05-15T14:26:06.375Z"
   },
   {
    "duration": 13,
    "start_time": "2022-05-15T14:26:21.958Z"
   },
   {
    "duration": 14,
    "start_time": "2022-05-15T14:28:40.946Z"
   },
   {
    "duration": 21,
    "start_time": "2022-05-15T14:31:51.917Z"
   },
   {
    "duration": 20,
    "start_time": "2022-05-15T14:31:56.846Z"
   },
   {
    "duration": 17,
    "start_time": "2022-05-15T14:33:16.774Z"
   },
   {
    "duration": 13,
    "start_time": "2022-05-15T14:33:28.021Z"
   },
   {
    "duration": 14,
    "start_time": "2022-05-15T14:33:28.385Z"
   },
   {
    "duration": 20,
    "start_time": "2022-05-15T14:36:37.064Z"
   },
   {
    "duration": 35,
    "start_time": "2022-05-15T14:39:29.986Z"
   },
   {
    "duration": 10,
    "start_time": "2022-05-15T14:40:43.630Z"
   },
   {
    "duration": 14,
    "start_time": "2022-05-15T14:40:52.499Z"
   },
   {
    "duration": 13,
    "start_time": "2022-05-15T14:40:59.336Z"
   },
   {
    "duration": 41,
    "start_time": "2022-05-15T14:41:01.013Z"
   },
   {
    "duration": 19,
    "start_time": "2022-05-15T14:41:45.493Z"
   },
   {
    "duration": 23,
    "start_time": "2022-05-15T14:41:46.428Z"
   },
   {
    "duration": 514,
    "start_time": "2022-05-15T14:41:57.892Z"
   },
   {
    "duration": 45,
    "start_time": "2022-05-15T14:41:58.408Z"
   },
   {
    "duration": 43,
    "start_time": "2022-05-15T14:41:58.457Z"
   },
   {
    "duration": 19,
    "start_time": "2022-05-15T14:41:58.503Z"
   },
   {
    "duration": 33,
    "start_time": "2022-05-15T14:41:58.524Z"
   },
   {
    "duration": 8,
    "start_time": "2022-05-15T14:41:58.560Z"
   },
   {
    "duration": 20,
    "start_time": "2022-05-15T14:41:58.571Z"
   },
   {
    "duration": 14,
    "start_time": "2022-05-15T14:41:58.594Z"
   },
   {
    "duration": 47,
    "start_time": "2022-05-15T14:41:58.610Z"
   },
   {
    "duration": 22,
    "start_time": "2022-05-15T14:41:58.670Z"
   },
   {
    "duration": 13,
    "start_time": "2022-05-15T14:41:58.694Z"
   },
   {
    "duration": 6,
    "start_time": "2022-05-15T14:41:58.709Z"
   },
   {
    "duration": 14,
    "start_time": "2022-05-15T14:41:58.717Z"
   },
   {
    "duration": 27,
    "start_time": "2022-05-15T14:41:58.734Z"
   },
   {
    "duration": 28,
    "start_time": "2022-05-15T14:41:58.764Z"
   },
   {
    "duration": 18,
    "start_time": "2022-05-15T14:41:58.795Z"
   },
   {
    "duration": 43,
    "start_time": "2022-05-15T14:41:58.815Z"
   },
   {
    "duration": 18,
    "start_time": "2022-05-15T14:41:58.861Z"
   },
   {
    "duration": 27,
    "start_time": "2022-05-15T14:41:58.881Z"
   },
   {
    "duration": 13,
    "start_time": "2022-05-15T14:41:58.910Z"
   },
   {
    "duration": 31,
    "start_time": "2022-05-15T14:41:58.957Z"
   },
   {
    "duration": 8,
    "start_time": "2022-05-15T14:41:58.991Z"
   },
   {
    "duration": 6,
    "start_time": "2022-05-15T14:41:59.001Z"
   },
   {
    "duration": 73,
    "start_time": "2022-05-15T14:41:59.009Z"
   },
   {
    "duration": 21,
    "start_time": "2022-05-15T14:41:59.084Z"
   },
   {
    "duration": 953,
    "start_time": "2022-05-15T14:41:59.108Z"
   },
   {
    "duration": 28,
    "start_time": "2022-05-15T14:42:00.064Z"
   },
   {
    "duration": 540,
    "start_time": "2022-05-15T14:42:00.100Z"
   },
   {
    "duration": 4,
    "start_time": "2022-05-15T14:42:00.642Z"
   },
   {
    "duration": 352,
    "start_time": "2022-05-15T14:42:00.648Z"
   },
   {
    "duration": 29,
    "start_time": "2022-05-15T14:42:01.002Z"
   },
   {
    "duration": 97,
    "start_time": "2022-05-15T14:42:01.034Z"
   },
   {
    "duration": 388,
    "start_time": "2022-05-15T14:42:01.133Z"
   },
   {
    "duration": 7,
    "start_time": "2022-05-15T14:42:01.524Z"
   },
   {
    "duration": 27,
    "start_time": "2022-05-15T14:42:01.532Z"
   },
   {
    "duration": 1241,
    "start_time": "2022-05-15T14:42:01.562Z"
   },
   {
    "duration": 9,
    "start_time": "2022-05-15T14:42:02.806Z"
   },
   {
    "duration": 11,
    "start_time": "2022-05-15T14:42:02.817Z"
   },
   {
    "duration": 309,
    "start_time": "2022-05-15T14:42:02.830Z"
   },
   {
    "duration": 384,
    "start_time": "2022-05-15T14:42:03.142Z"
   },
   {
    "duration": 1201,
    "start_time": "2022-05-15T14:42:03.529Z"
   },
   {
    "duration": 7,
    "start_time": "2022-05-15T14:42:04.732Z"
   },
   {
    "duration": 8,
    "start_time": "2022-05-15T14:42:04.757Z"
   },
   {
    "duration": 26,
    "start_time": "2022-05-15T14:42:04.768Z"
   },
   {
    "duration": 7,
    "start_time": "2022-05-15T14:42:04.796Z"
   },
   {
    "duration": 978,
    "start_time": "2022-05-15T14:42:04.805Z"
   },
   {
    "duration": 7,
    "start_time": "2022-05-15T14:42:05.785Z"
   },
   {
    "duration": 11,
    "start_time": "2022-05-15T14:42:05.795Z"
   },
   {
    "duration": 11,
    "start_time": "2022-05-15T14:42:05.808Z"
   },
   {
    "duration": 47,
    "start_time": "2022-05-15T14:42:05.822Z"
   },
   {
    "duration": 300,
    "start_time": "2022-05-15T14:42:05.871Z"
   },
   {
    "duration": 343,
    "start_time": "2022-05-15T14:42:06.173Z"
   },
   {
    "duration": 472,
    "start_time": "2022-05-15T14:42:06.519Z"
   },
   {
    "duration": 35,
    "start_time": "2022-05-15T14:42:06.993Z"
   },
   {
    "duration": 907,
    "start_time": "2022-05-15T14:42:07.030Z"
   },
   {
    "duration": 45,
    "start_time": "2022-05-15T14:42:07.940Z"
   },
   {
    "duration": 914,
    "start_time": "2022-05-15T14:42:07.989Z"
   },
   {
    "duration": 25,
    "start_time": "2022-05-15T14:42:08.906Z"
   },
   {
    "duration": 872,
    "start_time": "2022-05-15T14:42:08.934Z"
   },
   {
    "duration": 38,
    "start_time": "2022-05-15T14:42:09.829Z"
   },
   {
    "duration": 37,
    "start_time": "2022-05-15T14:42:09.870Z"
   },
   {
    "duration": 9,
    "start_time": "2022-05-15T14:42:09.911Z"
   },
   {
    "duration": 13,
    "start_time": "2022-05-15T14:42:09.926Z"
   },
   {
    "duration": 6,
    "start_time": "2022-05-15T14:42:15.312Z"
   },
   {
    "duration": 13,
    "start_time": "2022-05-15T14:42:20.132Z"
   }
  ],
  "kernelspec": {
   "display_name": "Python 3 (ipykernel)",
   "language": "python",
   "name": "python3"
  },
  "language_info": {
   "codemirror_mode": {
    "name": "ipython",
    "version": 3
   },
   "file_extension": ".py",
   "mimetype": "text/x-python",
   "name": "python",
   "nbconvert_exporter": "python",
   "pygments_lexer": "ipython3",
   "version": "3.9.7"
  },
  "toc": {
   "base_numbering": 1,
   "nav_menu": {},
   "number_sections": true,
   "sideBar": true,
   "skip_h1_title": true,
   "title_cell": "Table of Contents",
   "title_sidebar": "Contents",
   "toc_cell": false,
   "toc_position": {
    "height": "calc(100% - 180px)",
    "left": "10px",
    "top": "150px",
    "width": "165px"
   },
   "toc_section_display": true,
   "toc_window_display": true
  }
 },
 "nbformat": 4,
 "nbformat_minor": 5
}
