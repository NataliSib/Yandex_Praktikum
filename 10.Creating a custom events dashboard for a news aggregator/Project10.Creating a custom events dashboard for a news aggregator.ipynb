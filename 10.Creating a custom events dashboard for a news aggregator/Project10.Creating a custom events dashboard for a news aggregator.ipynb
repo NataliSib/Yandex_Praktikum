{
 "cells": [
  {
   "cell_type": "markdown",
   "id": "b778190a",
   "metadata": {},
   "source": [
    "Ссылка на дашборд:\n",
    "https://public.tableau.com/app/profile/natali8088/viz/Project_Automatization_Demyanova/Project"
   ]
  }
 ],
 "metadata": {
  "kernelspec": {
   "display_name": "Python 3 (ipykernel)",
   "language": "python",
   "name": "python3"
  },
  "language_info": {
   "codemirror_mode": {
    "name": "ipython",
    "version": 3
   },
   "file_extension": ".py",
   "mimetype": "text/x-python",
   "name": "python",
   "nbconvert_exporter": "python",
   "pygments_lexer": "ipython3",
   "version": "3.9.7"
  }
 },
 "nbformat": 4,
 "nbformat_minor": 5
}
