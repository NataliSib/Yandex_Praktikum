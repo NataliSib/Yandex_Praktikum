{
 "cells": [
  {
   "cell_type": "markdown",
   "id": "085f3a1f",
   "metadata": {},
   "source": [
    "# Банки — Анализ оттока клиентов\n",
    "\n",
    "**Цель исследования**: \n",
    "\n",
    "Выделить портрет клиентов, которые склонны уходить из банка. СФормулировать рекмендации по удержанию клиетов банка (снизить отток клиетов)."
   ]
  },
  {
   "cell_type": "markdown",
   "id": "b8bedfe4",
   "metadata": {},
   "source": [
    "### Шаг 1. Загрузка и чтение файла с данными"
   ]
  },
  {
   "cell_type": "markdown",
   "id": "6a20e1bb",
   "metadata": {},
   "source": [
    "Импортируем библиотеки, прочитаем файл."
   ]
  },
  {
   "cell_type": "code",
   "execution_count": 1,
   "id": "d263a806",
   "metadata": {},
   "outputs": [],
   "source": [
    "import pandas as pd\n",
    "import math\n",
    "import numpy as np\n",
    "import matplotlib.pyplot as plt\n",
    "import seaborn as sns\n",
    "import plotly.express as px \n",
    "import datetime as dt\n",
    "import scipy.stats as stats\n",
    "import warnings\n",
    "warnings.filterwarnings(\"ignore\")\n",
    "import re\n",
    "from io import BytesIO\n",
    "import requests\n",
    "from plotly import graph_objects as go\n",
    "from sklearn.linear_model import LogisticRegression\n",
    "from sklearn.ensemble import RandomForestClassifier\n",
    "from sklearn.model_selection import train_test_split\n",
    "from sklearn.metrics import accuracy_score, precision_score, recall_score\n",
    "from sklearn.preprocessing import StandardScaler\n",
    "from sklearn.cluster import KMeans\n",
    "from scipy.cluster.hierarchy import dendrogram, linkage\n",
    "import statistics "
   ]
  },
  {
   "cell_type": "code",
   "execution_count": 2,
   "id": "1defb085",
   "metadata": {},
   "outputs": [
    {
     "data": {
      "text/html": [
       "<div>\n",
       "<style scoped>\n",
       "    .dataframe tbody tr th:only-of-type {\n",
       "        vertical-align: middle;\n",
       "    }\n",
       "\n",
       "    .dataframe tbody tr th {\n",
       "        vertical-align: top;\n",
       "    }\n",
       "\n",
       "    .dataframe thead th {\n",
       "        text-align: right;\n",
       "    }\n",
       "</style>\n",
       "<table border=\"1\" class=\"dataframe\">\n",
       "  <thead>\n",
       "    <tr style=\"text-align: right;\">\n",
       "      <th></th>\n",
       "      <th>userid</th>\n",
       "      <th>score</th>\n",
       "      <th>city</th>\n",
       "      <th>gender</th>\n",
       "      <th>age</th>\n",
       "      <th>equity</th>\n",
       "      <th>balance</th>\n",
       "      <th>products</th>\n",
       "      <th>credit_card</th>\n",
       "      <th>last_activity</th>\n",
       "      <th>salary</th>\n",
       "      <th>churn</th>\n",
       "    </tr>\n",
       "  </thead>\n",
       "  <tbody>\n",
       "    <tr>\n",
       "      <th>0</th>\n",
       "      <td>258835</td>\n",
       "      <td>838.0</td>\n",
       "      <td>Ростов</td>\n",
       "      <td>Ж</td>\n",
       "      <td>32</td>\n",
       "      <td>1</td>\n",
       "      <td>377652.29</td>\n",
       "      <td>2</td>\n",
       "      <td>0</td>\n",
       "      <td>1</td>\n",
       "      <td>105665.06</td>\n",
       "      <td>1</td>\n",
       "    </tr>\n",
       "    <tr>\n",
       "      <th>1</th>\n",
       "      <td>96660</td>\n",
       "      <td>845.0</td>\n",
       "      <td>Ростов</td>\n",
       "      <td>Ж</td>\n",
       "      <td>31</td>\n",
       "      <td>3</td>\n",
       "      <td>214980.98</td>\n",
       "      <td>5</td>\n",
       "      <td>0</td>\n",
       "      <td>1</td>\n",
       "      <td>62058.62</td>\n",
       "      <td>0</td>\n",
       "    </tr>\n",
       "    <tr>\n",
       "      <th>2</th>\n",
       "      <td>99838</td>\n",
       "      <td>869.0</td>\n",
       "      <td>Ростов</td>\n",
       "      <td>Ж</td>\n",
       "      <td>30</td>\n",
       "      <td>4</td>\n",
       "      <td>467040.46</td>\n",
       "      <td>2</td>\n",
       "      <td>1</td>\n",
       "      <td>1</td>\n",
       "      <td>156945.23</td>\n",
       "      <td>1</td>\n",
       "    </tr>\n",
       "    <tr>\n",
       "      <th>3</th>\n",
       "      <td>216099</td>\n",
       "      <td>856.0</td>\n",
       "      <td>Рыбинск</td>\n",
       "      <td>Ж</td>\n",
       "      <td>25</td>\n",
       "      <td>4</td>\n",
       "      <td>475727.88</td>\n",
       "      <td>4</td>\n",
       "      <td>0</td>\n",
       "      <td>1</td>\n",
       "      <td>19502.68</td>\n",
       "      <td>0</td>\n",
       "    </tr>\n",
       "    <tr>\n",
       "      <th>4</th>\n",
       "      <td>120240</td>\n",
       "      <td>873.0</td>\n",
       "      <td>Рыбинск</td>\n",
       "      <td>Ж</td>\n",
       "      <td>37</td>\n",
       "      <td>3</td>\n",
       "      <td>1350858.40</td>\n",
       "      <td>4</td>\n",
       "      <td>0</td>\n",
       "      <td>1</td>\n",
       "      <td>119804.41</td>\n",
       "      <td>0</td>\n",
       "    </tr>\n",
       "  </tbody>\n",
       "</table>\n",
       "</div>"
      ],
      "text/plain": [
       "   userid  score     city gender  age  equity     balance  products  \\\n",
       "0  258835  838.0   Ростов      Ж   32       1   377652.29         2   \n",
       "1   96660  845.0   Ростов      Ж   31       3   214980.98         5   \n",
       "2   99838  869.0   Ростов      Ж   30       4   467040.46         2   \n",
       "3  216099  856.0  Рыбинск      Ж   25       4   475727.88         4   \n",
       "4  120240  873.0  Рыбинск      Ж   37       3  1350858.40         4   \n",
       "\n",
       "   credit_card  last_activity     salary  churn  \n",
       "0            0              1  105665.06      1  \n",
       "1            0              1   62058.62      0  \n",
       "2            1              1  156945.23      1  \n",
       "3            0              1   19502.68      0  \n",
       "4            0              1  119804.41      0  "
      ]
     },
     "execution_count": 2,
     "metadata": {},
     "output_type": "execute_result"
    }
   ],
   "source": [
    "#Чтение файла с данными и сохранение его в переменную\n",
    "path = \"https://drive.google.com/uc?export=download&id=1zBY_MIHwC9SKr7QO1ObJpp6pnCfpXuJv\"\n",
    "df = pd.read_csv(path)\n",
    "df.head(5)"
   ]
  },
  {
   "cell_type": "code",
   "execution_count": 3,
   "id": "cc32314a",
   "metadata": {},
   "outputs": [
    {
     "name": "stdout",
     "output_type": "stream",
     "text": [
      "<class 'pandas.core.frame.DataFrame'>\n",
      "RangeIndex: 10000 entries, 0 to 9999\n",
      "Data columns (total 12 columns):\n",
      " #   Column         Non-Null Count  Dtype  \n",
      "---  ------         --------------  -----  \n",
      " 0   userid         10000 non-null  int64  \n",
      " 1   score          10000 non-null  float64\n",
      " 2   city           10000 non-null  object \n",
      " 3   gender         10000 non-null  object \n",
      " 4   age            10000 non-null  int64  \n",
      " 5   equity         10000 non-null  int64  \n",
      " 6   balance        7705 non-null   float64\n",
      " 7   products       10000 non-null  int64  \n",
      " 8   credit_card    10000 non-null  int64  \n",
      " 9   last_activity  10000 non-null  int64  \n",
      " 10  salary         10000 non-null  float64\n",
      " 11  churn          10000 non-null  int64  \n",
      "dtypes: float64(3), int64(7), object(2)\n",
      "memory usage: 937.6+ KB\n"
     ]
    }
   ],
   "source": [
    "#Общая информация\n",
    "df.info()"
   ]
  },
  {
   "cell_type": "markdown",
   "id": "b58514de",
   "metadata": {},
   "source": [
    "Необходимо провести предобработку, подготовить данные к анализу: изучить пропущенные значения (столбец balance), проверить типы данных, проверить данные на наличие дубликатов, аномалий, применить кодирование для категориальных данных."
   ]
  },
  {
   "cell_type": "markdown",
   "id": "18ebd447",
   "metadata": {},
   "source": [
    "### Шаг 2. Предобработка данных"
   ]
  },
  {
   "cell_type": "markdown",
   "id": "042b30c4",
   "metadata": {},
   "source": [
    "#### 2.1 Проверка на дубликаты"
   ]
  },
  {
   "cell_type": "code",
   "execution_count": 4,
   "id": "5fe6d5c5",
   "metadata": {},
   "outputs": [
    {
     "data": {
      "text/plain": [
       "0"
      ]
     },
     "execution_count": 4,
     "metadata": {},
     "output_type": "execute_result"
    }
   ],
   "source": [
    "#Проверка на дубликаты\n",
    "df.duplicated().sum()"
   ]
  },
  {
   "cell_type": "markdown",
   "id": "95380da3",
   "metadata": {},
   "source": [
    "В датасете нет дубликатов."
   ]
  },
  {
   "cell_type": "markdown",
   "id": "4bfdf058",
   "metadata": {},
   "source": [
    "#### 2.2 Кодирование"
   ]
  },
  {
   "cell_type": "markdown",
   "id": "dac915ec",
   "metadata": {},
   "source": [
    "Для проведения анализа необходимо заменить значения в столбцах gender и city. В этих столбцах представлены  категориальные неупорядочные данные. Поэтому, применим  one-hot кодирование в этих столбцах  при помощи pandas.get_dummies."
   ]
  },
  {
   "cell_type": "code",
   "execution_count": 5,
   "id": "9c8e5eff",
   "metadata": {},
   "outputs": [
    {
     "data": {
      "text/plain": [
       "array(['Ростов', 'Рыбинск', 'Ярославль'], dtype=object)"
      ]
     },
     "metadata": {},
     "output_type": "display_data"
    },
    {
     "data": {
      "text/plain": [
       "array(['Ж', 'М'], dtype=object)"
      ]
     },
     "metadata": {},
     "output_type": "display_data"
    }
   ],
   "source": [
    "#Проверка значений в столбцах на уникальность\n",
    "display(df['city'].unique())\n",
    "display(df['gender'].unique())"
   ]
  },
  {
   "cell_type": "code",
   "execution_count": 6,
   "id": "3763f35d",
   "metadata": {},
   "outputs": [
    {
     "data": {
      "text/html": [
       "<div>\n",
       "<style scoped>\n",
       "    .dataframe tbody tr th:only-of-type {\n",
       "        vertical-align: middle;\n",
       "    }\n",
       "\n",
       "    .dataframe tbody tr th {\n",
       "        vertical-align: top;\n",
       "    }\n",
       "\n",
       "    .dataframe thead th {\n",
       "        text-align: right;\n",
       "    }\n",
       "</style>\n",
       "<table border=\"1\" class=\"dataframe\">\n",
       "  <thead>\n",
       "    <tr style=\"text-align: right;\">\n",
       "      <th></th>\n",
       "      <th>userid</th>\n",
       "      <th>score</th>\n",
       "      <th>age</th>\n",
       "      <th>equity</th>\n",
       "      <th>balance</th>\n",
       "      <th>products</th>\n",
       "      <th>credit_card</th>\n",
       "      <th>last_activity</th>\n",
       "      <th>salary</th>\n",
       "      <th>churn</th>\n",
       "      <th>city_Ростов</th>\n",
       "      <th>city_Рыбинск</th>\n",
       "      <th>city_Ярославль</th>\n",
       "      <th>gender_Ж</th>\n",
       "      <th>gender_М</th>\n",
       "    </tr>\n",
       "  </thead>\n",
       "  <tbody>\n",
       "    <tr>\n",
       "      <th>0</th>\n",
       "      <td>258835</td>\n",
       "      <td>838.0</td>\n",
       "      <td>32</td>\n",
       "      <td>1</td>\n",
       "      <td>377652.29</td>\n",
       "      <td>2</td>\n",
       "      <td>0</td>\n",
       "      <td>1</td>\n",
       "      <td>105665.06</td>\n",
       "      <td>1</td>\n",
       "      <td>1</td>\n",
       "      <td>0</td>\n",
       "      <td>0</td>\n",
       "      <td>1</td>\n",
       "      <td>0</td>\n",
       "    </tr>\n",
       "    <tr>\n",
       "      <th>1</th>\n",
       "      <td>96660</td>\n",
       "      <td>845.0</td>\n",
       "      <td>31</td>\n",
       "      <td>3</td>\n",
       "      <td>214980.98</td>\n",
       "      <td>5</td>\n",
       "      <td>0</td>\n",
       "      <td>1</td>\n",
       "      <td>62058.62</td>\n",
       "      <td>0</td>\n",
       "      <td>1</td>\n",
       "      <td>0</td>\n",
       "      <td>0</td>\n",
       "      <td>1</td>\n",
       "      <td>0</td>\n",
       "    </tr>\n",
       "    <tr>\n",
       "      <th>2</th>\n",
       "      <td>99838</td>\n",
       "      <td>869.0</td>\n",
       "      <td>30</td>\n",
       "      <td>4</td>\n",
       "      <td>467040.46</td>\n",
       "      <td>2</td>\n",
       "      <td>1</td>\n",
       "      <td>1</td>\n",
       "      <td>156945.23</td>\n",
       "      <td>1</td>\n",
       "      <td>1</td>\n",
       "      <td>0</td>\n",
       "      <td>0</td>\n",
       "      <td>1</td>\n",
       "      <td>0</td>\n",
       "    </tr>\n",
       "    <tr>\n",
       "      <th>3</th>\n",
       "      <td>216099</td>\n",
       "      <td>856.0</td>\n",
       "      <td>25</td>\n",
       "      <td>4</td>\n",
       "      <td>475727.88</td>\n",
       "      <td>4</td>\n",
       "      <td>0</td>\n",
       "      <td>1</td>\n",
       "      <td>19502.68</td>\n",
       "      <td>0</td>\n",
       "      <td>0</td>\n",
       "      <td>1</td>\n",
       "      <td>0</td>\n",
       "      <td>1</td>\n",
       "      <td>0</td>\n",
       "    </tr>\n",
       "    <tr>\n",
       "      <th>4</th>\n",
       "      <td>120240</td>\n",
       "      <td>873.0</td>\n",
       "      <td>37</td>\n",
       "      <td>3</td>\n",
       "      <td>1350858.40</td>\n",
       "      <td>4</td>\n",
       "      <td>0</td>\n",
       "      <td>1</td>\n",
       "      <td>119804.41</td>\n",
       "      <td>0</td>\n",
       "      <td>0</td>\n",
       "      <td>1</td>\n",
       "      <td>0</td>\n",
       "      <td>1</td>\n",
       "      <td>0</td>\n",
       "    </tr>\n",
       "    <tr>\n",
       "      <th>...</th>\n",
       "      <td>...</td>\n",
       "      <td>...</td>\n",
       "      <td>...</td>\n",
       "      <td>...</td>\n",
       "      <td>...</td>\n",
       "      <td>...</td>\n",
       "      <td>...</td>\n",
       "      <td>...</td>\n",
       "      <td>...</td>\n",
       "      <td>...</td>\n",
       "      <td>...</td>\n",
       "      <td>...</td>\n",
       "      <td>...</td>\n",
       "      <td>...</td>\n",
       "      <td>...</td>\n",
       "    </tr>\n",
       "    <tr>\n",
       "      <th>9995</th>\n",
       "      <td>186605</td>\n",
       "      <td>693.0</td>\n",
       "      <td>42</td>\n",
       "      <td>0</td>\n",
       "      <td>NaN</td>\n",
       "      <td>2</td>\n",
       "      <td>1</td>\n",
       "      <td>1</td>\n",
       "      <td>221661.10</td>\n",
       "      <td>0</td>\n",
       "      <td>0</td>\n",
       "      <td>1</td>\n",
       "      <td>0</td>\n",
       "      <td>0</td>\n",
       "      <td>1</td>\n",
       "    </tr>\n",
       "    <tr>\n",
       "      <th>9996</th>\n",
       "      <td>204842</td>\n",
       "      <td>655.0</td>\n",
       "      <td>27</td>\n",
       "      <td>0</td>\n",
       "      <td>NaN</td>\n",
       "      <td>1</td>\n",
       "      <td>1</td>\n",
       "      <td>0</td>\n",
       "      <td>144948.73</td>\n",
       "      <td>0</td>\n",
       "      <td>0</td>\n",
       "      <td>0</td>\n",
       "      <td>1</td>\n",
       "      <td>0</td>\n",
       "      <td>1</td>\n",
       "    </tr>\n",
       "    <tr>\n",
       "      <th>9997</th>\n",
       "      <td>216640</td>\n",
       "      <td>828.0</td>\n",
       "      <td>44</td>\n",
       "      <td>2</td>\n",
       "      <td>168323.87</td>\n",
       "      <td>2</td>\n",
       "      <td>1</td>\n",
       "      <td>1</td>\n",
       "      <td>163995.10</td>\n",
       "      <td>0</td>\n",
       "      <td>0</td>\n",
       "      <td>0</td>\n",
       "      <td>1</td>\n",
       "      <td>1</td>\n",
       "      <td>0</td>\n",
       "    </tr>\n",
       "    <tr>\n",
       "      <th>9998</th>\n",
       "      <td>168786</td>\n",
       "      <td>883.0</td>\n",
       "      <td>38</td>\n",
       "      <td>3</td>\n",
       "      <td>342099.90</td>\n",
       "      <td>2</td>\n",
       "      <td>1</td>\n",
       "      <td>0</td>\n",
       "      <td>80587.26</td>\n",
       "      <td>0</td>\n",
       "      <td>0</td>\n",
       "      <td>1</td>\n",
       "      <td>0</td>\n",
       "      <td>1</td>\n",
       "      <td>0</td>\n",
       "    </tr>\n",
       "    <tr>\n",
       "      <th>9999</th>\n",
       "      <td>128656</td>\n",
       "      <td>698.0</td>\n",
       "      <td>37</td>\n",
       "      <td>0</td>\n",
       "      <td>NaN</td>\n",
       "      <td>1</td>\n",
       "      <td>1</td>\n",
       "      <td>1</td>\n",
       "      <td>255439.00</td>\n",
       "      <td>0</td>\n",
       "      <td>0</td>\n",
       "      <td>0</td>\n",
       "      <td>1</td>\n",
       "      <td>1</td>\n",
       "      <td>0</td>\n",
       "    </tr>\n",
       "  </tbody>\n",
       "</table>\n",
       "<p>10000 rows × 15 columns</p>\n",
       "</div>"
      ],
      "text/plain": [
       "      userid  score  age  equity     balance  products  credit_card  \\\n",
       "0     258835  838.0   32       1   377652.29         2            0   \n",
       "1      96660  845.0   31       3   214980.98         5            0   \n",
       "2      99838  869.0   30       4   467040.46         2            1   \n",
       "3     216099  856.0   25       4   475727.88         4            0   \n",
       "4     120240  873.0   37       3  1350858.40         4            0   \n",
       "...      ...    ...  ...     ...         ...       ...          ...   \n",
       "9995  186605  693.0   42       0         NaN         2            1   \n",
       "9996  204842  655.0   27       0         NaN         1            1   \n",
       "9997  216640  828.0   44       2   168323.87         2            1   \n",
       "9998  168786  883.0   38       3   342099.90         2            1   \n",
       "9999  128656  698.0   37       0         NaN         1            1   \n",
       "\n",
       "      last_activity     salary  churn  city_Ростов  city_Рыбинск  \\\n",
       "0                 1  105665.06      1            1             0   \n",
       "1                 1   62058.62      0            1             0   \n",
       "2                 1  156945.23      1            1             0   \n",
       "3                 1   19502.68      0            0             1   \n",
       "4                 1  119804.41      0            0             1   \n",
       "...             ...        ...    ...          ...           ...   \n",
       "9995              1  221661.10      0            0             1   \n",
       "9996              0  144948.73      0            0             0   \n",
       "9997              1  163995.10      0            0             0   \n",
       "9998              0   80587.26      0            0             1   \n",
       "9999              1  255439.00      0            0             0   \n",
       "\n",
       "      city_Ярославль  gender_Ж  gender_М  \n",
       "0                  0         1         0  \n",
       "1                  0         1         0  \n",
       "2                  0         1         0  \n",
       "3                  0         1         0  \n",
       "4                  0         1         0  \n",
       "...              ...       ...       ...  \n",
       "9995               0         0         1  \n",
       "9996               1         0         1  \n",
       "9997               1         1         0  \n",
       "9998               0         1         0  \n",
       "9999               1         1         0  \n",
       "\n",
       "[10000 rows x 15 columns]"
      ]
     },
     "execution_count": 6,
     "metadata": {},
     "output_type": "execute_result"
    }
   ],
   "source": [
    "#Кодирование\n",
    "df = pd.get_dummies(df, columns=['city', 'gender'])\n",
    "df"
   ]
  },
  {
   "cell_type": "code",
   "execution_count": 7,
   "id": "34cc4831",
   "metadata": {},
   "outputs": [
    {
     "data": {
      "text/html": [
       "<div>\n",
       "<style scoped>\n",
       "    .dataframe tbody tr th:only-of-type {\n",
       "        vertical-align: middle;\n",
       "    }\n",
       "\n",
       "    .dataframe tbody tr th {\n",
       "        vertical-align: top;\n",
       "    }\n",
       "\n",
       "    .dataframe thead th {\n",
       "        text-align: right;\n",
       "    }\n",
       "</style>\n",
       "<table border=\"1\" class=\"dataframe\">\n",
       "  <thead>\n",
       "    <tr style=\"text-align: right;\">\n",
       "      <th></th>\n",
       "      <th>userid</th>\n",
       "      <th>score</th>\n",
       "      <th>age</th>\n",
       "      <th>equity</th>\n",
       "      <th>balance</th>\n",
       "      <th>products</th>\n",
       "      <th>credit_card</th>\n",
       "      <th>last_activity</th>\n",
       "      <th>salary</th>\n",
       "      <th>churn</th>\n",
       "      <th>city_rostov</th>\n",
       "      <th>city_rybinsk</th>\n",
       "      <th>city_yaroslavl</th>\n",
       "      <th>female</th>\n",
       "      <th>male</th>\n",
       "    </tr>\n",
       "  </thead>\n",
       "  <tbody>\n",
       "    <tr>\n",
       "      <th>0</th>\n",
       "      <td>258835</td>\n",
       "      <td>838.0</td>\n",
       "      <td>32</td>\n",
       "      <td>1</td>\n",
       "      <td>377652.29</td>\n",
       "      <td>2</td>\n",
       "      <td>0</td>\n",
       "      <td>1</td>\n",
       "      <td>105665.06</td>\n",
       "      <td>1</td>\n",
       "      <td>1</td>\n",
       "      <td>0</td>\n",
       "      <td>0</td>\n",
       "      <td>1</td>\n",
       "      <td>0</td>\n",
       "    </tr>\n",
       "    <tr>\n",
       "      <th>1</th>\n",
       "      <td>96660</td>\n",
       "      <td>845.0</td>\n",
       "      <td>31</td>\n",
       "      <td>3</td>\n",
       "      <td>214980.98</td>\n",
       "      <td>5</td>\n",
       "      <td>0</td>\n",
       "      <td>1</td>\n",
       "      <td>62058.62</td>\n",
       "      <td>0</td>\n",
       "      <td>1</td>\n",
       "      <td>0</td>\n",
       "      <td>0</td>\n",
       "      <td>1</td>\n",
       "      <td>0</td>\n",
       "    </tr>\n",
       "    <tr>\n",
       "      <th>2</th>\n",
       "      <td>99838</td>\n",
       "      <td>869.0</td>\n",
       "      <td>30</td>\n",
       "      <td>4</td>\n",
       "      <td>467040.46</td>\n",
       "      <td>2</td>\n",
       "      <td>1</td>\n",
       "      <td>1</td>\n",
       "      <td>156945.23</td>\n",
       "      <td>1</td>\n",
       "      <td>1</td>\n",
       "      <td>0</td>\n",
       "      <td>0</td>\n",
       "      <td>1</td>\n",
       "      <td>0</td>\n",
       "    </tr>\n",
       "    <tr>\n",
       "      <th>3</th>\n",
       "      <td>216099</td>\n",
       "      <td>856.0</td>\n",
       "      <td>25</td>\n",
       "      <td>4</td>\n",
       "      <td>475727.88</td>\n",
       "      <td>4</td>\n",
       "      <td>0</td>\n",
       "      <td>1</td>\n",
       "      <td>19502.68</td>\n",
       "      <td>0</td>\n",
       "      <td>0</td>\n",
       "      <td>1</td>\n",
       "      <td>0</td>\n",
       "      <td>1</td>\n",
       "      <td>0</td>\n",
       "    </tr>\n",
       "    <tr>\n",
       "      <th>4</th>\n",
       "      <td>120240</td>\n",
       "      <td>873.0</td>\n",
       "      <td>37</td>\n",
       "      <td>3</td>\n",
       "      <td>1350858.40</td>\n",
       "      <td>4</td>\n",
       "      <td>0</td>\n",
       "      <td>1</td>\n",
       "      <td>119804.41</td>\n",
       "      <td>0</td>\n",
       "      <td>0</td>\n",
       "      <td>1</td>\n",
       "      <td>0</td>\n",
       "      <td>1</td>\n",
       "      <td>0</td>\n",
       "    </tr>\n",
       "    <tr>\n",
       "      <th>...</th>\n",
       "      <td>...</td>\n",
       "      <td>...</td>\n",
       "      <td>...</td>\n",
       "      <td>...</td>\n",
       "      <td>...</td>\n",
       "      <td>...</td>\n",
       "      <td>...</td>\n",
       "      <td>...</td>\n",
       "      <td>...</td>\n",
       "      <td>...</td>\n",
       "      <td>...</td>\n",
       "      <td>...</td>\n",
       "      <td>...</td>\n",
       "      <td>...</td>\n",
       "      <td>...</td>\n",
       "    </tr>\n",
       "    <tr>\n",
       "      <th>9995</th>\n",
       "      <td>186605</td>\n",
       "      <td>693.0</td>\n",
       "      <td>42</td>\n",
       "      <td>0</td>\n",
       "      <td>NaN</td>\n",
       "      <td>2</td>\n",
       "      <td>1</td>\n",
       "      <td>1</td>\n",
       "      <td>221661.10</td>\n",
       "      <td>0</td>\n",
       "      <td>0</td>\n",
       "      <td>1</td>\n",
       "      <td>0</td>\n",
       "      <td>0</td>\n",
       "      <td>1</td>\n",
       "    </tr>\n",
       "    <tr>\n",
       "      <th>9996</th>\n",
       "      <td>204842</td>\n",
       "      <td>655.0</td>\n",
       "      <td>27</td>\n",
       "      <td>0</td>\n",
       "      <td>NaN</td>\n",
       "      <td>1</td>\n",
       "      <td>1</td>\n",
       "      <td>0</td>\n",
       "      <td>144948.73</td>\n",
       "      <td>0</td>\n",
       "      <td>0</td>\n",
       "      <td>0</td>\n",
       "      <td>1</td>\n",
       "      <td>0</td>\n",
       "      <td>1</td>\n",
       "    </tr>\n",
       "    <tr>\n",
       "      <th>9997</th>\n",
       "      <td>216640</td>\n",
       "      <td>828.0</td>\n",
       "      <td>44</td>\n",
       "      <td>2</td>\n",
       "      <td>168323.87</td>\n",
       "      <td>2</td>\n",
       "      <td>1</td>\n",
       "      <td>1</td>\n",
       "      <td>163995.10</td>\n",
       "      <td>0</td>\n",
       "      <td>0</td>\n",
       "      <td>0</td>\n",
       "      <td>1</td>\n",
       "      <td>1</td>\n",
       "      <td>0</td>\n",
       "    </tr>\n",
       "    <tr>\n",
       "      <th>9998</th>\n",
       "      <td>168786</td>\n",
       "      <td>883.0</td>\n",
       "      <td>38</td>\n",
       "      <td>3</td>\n",
       "      <td>342099.90</td>\n",
       "      <td>2</td>\n",
       "      <td>1</td>\n",
       "      <td>0</td>\n",
       "      <td>80587.26</td>\n",
       "      <td>0</td>\n",
       "      <td>0</td>\n",
       "      <td>1</td>\n",
       "      <td>0</td>\n",
       "      <td>1</td>\n",
       "      <td>0</td>\n",
       "    </tr>\n",
       "    <tr>\n",
       "      <th>9999</th>\n",
       "      <td>128656</td>\n",
       "      <td>698.0</td>\n",
       "      <td>37</td>\n",
       "      <td>0</td>\n",
       "      <td>NaN</td>\n",
       "      <td>1</td>\n",
       "      <td>1</td>\n",
       "      <td>1</td>\n",
       "      <td>255439.00</td>\n",
       "      <td>0</td>\n",
       "      <td>0</td>\n",
       "      <td>0</td>\n",
       "      <td>1</td>\n",
       "      <td>1</td>\n",
       "      <td>0</td>\n",
       "    </tr>\n",
       "  </tbody>\n",
       "</table>\n",
       "<p>10000 rows × 15 columns</p>\n",
       "</div>"
      ],
      "text/plain": [
       "      userid  score  age  equity     balance  products  credit_card  \\\n",
       "0     258835  838.0   32       1   377652.29         2            0   \n",
       "1      96660  845.0   31       3   214980.98         5            0   \n",
       "2      99838  869.0   30       4   467040.46         2            1   \n",
       "3     216099  856.0   25       4   475727.88         4            0   \n",
       "4     120240  873.0   37       3  1350858.40         4            0   \n",
       "...      ...    ...  ...     ...         ...       ...          ...   \n",
       "9995  186605  693.0   42       0         NaN         2            1   \n",
       "9996  204842  655.0   27       0         NaN         1            1   \n",
       "9997  216640  828.0   44       2   168323.87         2            1   \n",
       "9998  168786  883.0   38       3   342099.90         2            1   \n",
       "9999  128656  698.0   37       0         NaN         1            1   \n",
       "\n",
       "      last_activity     salary  churn  city_rostov  city_rybinsk  \\\n",
       "0                 1  105665.06      1            1             0   \n",
       "1                 1   62058.62      0            1             0   \n",
       "2                 1  156945.23      1            1             0   \n",
       "3                 1   19502.68      0            0             1   \n",
       "4                 1  119804.41      0            0             1   \n",
       "...             ...        ...    ...          ...           ...   \n",
       "9995              1  221661.10      0            0             1   \n",
       "9996              0  144948.73      0            0             0   \n",
       "9997              1  163995.10      0            0             0   \n",
       "9998              0   80587.26      0            0             1   \n",
       "9999              1  255439.00      0            0             0   \n",
       "\n",
       "      city_yaroslavl  female  male  \n",
       "0                  0       1     0  \n",
       "1                  0       1     0  \n",
       "2                  0       1     0  \n",
       "3                  0       1     0  \n",
       "4                  0       1     0  \n",
       "...              ...     ...   ...  \n",
       "9995               0       0     1  \n",
       "9996               1       0     1  \n",
       "9997               1       1     0  \n",
       "9998               0       1     0  \n",
       "9999               1       1     0  \n",
       "\n",
       "[10000 rows x 15 columns]"
      ]
     },
     "execution_count": 7,
     "metadata": {},
     "output_type": "execute_result"
    }
   ],
   "source": [
    "#Переименование столбцов\n",
    "df = df.rename(columns={'city_Ростов': 'city_rostov', 'city_Рыбинск': 'city_rybinsk','city_Ярославль': 'city_yaroslavl', 'gender_Ж': 'female', 'gender_М': 'male'})\n",
    "df"
   ]
  },
  {
   "cell_type": "markdown",
   "id": "a5877311",
   "metadata": {},
   "source": [
    "#### 2.3 Пропущенные значения "
   ]
  },
  {
   "cell_type": "code",
   "execution_count": 8,
   "id": "a9e5f6d0",
   "metadata": {},
   "outputs": [
    {
     "data": {
      "text/plain": [
       "userid               0\n",
       "score                0\n",
       "age                  0\n",
       "equity               0\n",
       "balance           2295\n",
       "products             0\n",
       "credit_card          0\n",
       "last_activity        0\n",
       "salary               0\n",
       "churn                0\n",
       "city_rostov          0\n",
       "city_rybinsk         0\n",
       "city_yaroslavl       0\n",
       "female               0\n",
       "male                 0\n",
       "dtype: int64"
      ]
     },
     "execution_count": 8,
     "metadata": {},
     "output_type": "execute_result"
    }
   ],
   "source": [
    "#Выведем пропуски по датасету\n",
    "df.isna().sum()"
   ]
  },
  {
   "cell_type": "markdown",
   "id": "21b710cd",
   "metadata": {},
   "source": [
    "Видно, что пропуски есть только в столбце balance (23%). Для того чтобы корректно определить, как заполнить эти пропуски, изучим как пропуски связаны с остальными данными в датасете."
   ]
  },
  {
   "cell_type": "code",
   "execution_count": 9,
   "id": "49159cc0",
   "metadata": {},
   "outputs": [
    {
     "data": {
      "text/html": [
       "<div>\n",
       "<style scoped>\n",
       "    .dataframe tbody tr th:only-of-type {\n",
       "        vertical-align: middle;\n",
       "    }\n",
       "\n",
       "    .dataframe tbody tr th {\n",
       "        vertical-align: top;\n",
       "    }\n",
       "\n",
       "    .dataframe thead th {\n",
       "        text-align: right;\n",
       "    }\n",
       "</style>\n",
       "<table border=\"1\" class=\"dataframe\">\n",
       "  <thead>\n",
       "    <tr style=\"text-align: right;\">\n",
       "      <th></th>\n",
       "      <th>userid</th>\n",
       "      <th>score</th>\n",
       "      <th>age</th>\n",
       "      <th>equity</th>\n",
       "      <th>balance</th>\n",
       "      <th>products</th>\n",
       "      <th>credit_card</th>\n",
       "      <th>last_activity</th>\n",
       "      <th>salary</th>\n",
       "      <th>churn</th>\n",
       "      <th>city_rostov</th>\n",
       "      <th>city_rybinsk</th>\n",
       "      <th>city_yaroslavl</th>\n",
       "      <th>female</th>\n",
       "      <th>male</th>\n",
       "    </tr>\n",
       "  </thead>\n",
       "  <tbody>\n",
       "    <tr>\n",
       "      <th>408</th>\n",
       "      <td>261907</td>\n",
       "      <td>734.0</td>\n",
       "      <td>79</td>\n",
       "      <td>3</td>\n",
       "      <td>NaN</td>\n",
       "      <td>0</td>\n",
       "      <td>0</td>\n",
       "      <td>0</td>\n",
       "      <td>25063.96</td>\n",
       "      <td>1</td>\n",
       "      <td>0</td>\n",
       "      <td>1</td>\n",
       "      <td>0</td>\n",
       "      <td>1</td>\n",
       "      <td>0</td>\n",
       "    </tr>\n",
       "    <tr>\n",
       "      <th>1439</th>\n",
       "      <td>154581</td>\n",
       "      <td>662.0</td>\n",
       "      <td>32</td>\n",
       "      <td>0</td>\n",
       "      <td>NaN</td>\n",
       "      <td>1</td>\n",
       "      <td>1</td>\n",
       "      <td>0</td>\n",
       "      <td>82847.95</td>\n",
       "      <td>0</td>\n",
       "      <td>0</td>\n",
       "      <td>1</td>\n",
       "      <td>0</td>\n",
       "      <td>0</td>\n",
       "      <td>1</td>\n",
       "    </tr>\n",
       "    <tr>\n",
       "      <th>1442</th>\n",
       "      <td>92746</td>\n",
       "      <td>687.0</td>\n",
       "      <td>31</td>\n",
       "      <td>0</td>\n",
       "      <td>NaN</td>\n",
       "      <td>1</td>\n",
       "      <td>1</td>\n",
       "      <td>1</td>\n",
       "      <td>133324.89</td>\n",
       "      <td>0</td>\n",
       "      <td>0</td>\n",
       "      <td>1</td>\n",
       "      <td>0</td>\n",
       "      <td>0</td>\n",
       "      <td>1</td>\n",
       "    </tr>\n",
       "    <tr>\n",
       "      <th>1443</th>\n",
       "      <td>161908</td>\n",
       "      <td>664.0</td>\n",
       "      <td>29</td>\n",
       "      <td>0</td>\n",
       "      <td>NaN</td>\n",
       "      <td>1</td>\n",
       "      <td>1</td>\n",
       "      <td>0</td>\n",
       "      <td>120174.24</td>\n",
       "      <td>0</td>\n",
       "      <td>0</td>\n",
       "      <td>0</td>\n",
       "      <td>1</td>\n",
       "      <td>1</td>\n",
       "      <td>0</td>\n",
       "    </tr>\n",
       "    <tr>\n",
       "      <th>1453</th>\n",
       "      <td>155767</td>\n",
       "      <td>703.0</td>\n",
       "      <td>33</td>\n",
       "      <td>0</td>\n",
       "      <td>NaN</td>\n",
       "      <td>1</td>\n",
       "      <td>1</td>\n",
       "      <td>0</td>\n",
       "      <td>171038.71</td>\n",
       "      <td>0</td>\n",
       "      <td>0</td>\n",
       "      <td>0</td>\n",
       "      <td>1</td>\n",
       "      <td>1</td>\n",
       "      <td>0</td>\n",
       "    </tr>\n",
       "  </tbody>\n",
       "</table>\n",
       "</div>"
      ],
      "text/plain": [
       "      userid  score  age  equity  balance  products  credit_card  \\\n",
       "408   261907  734.0   79       3      NaN         0            0   \n",
       "1439  154581  662.0   32       0      NaN         1            1   \n",
       "1442   92746  687.0   31       0      NaN         1            1   \n",
       "1443  161908  664.0   29       0      NaN         1            1   \n",
       "1453  155767  703.0   33       0      NaN         1            1   \n",
       "\n",
       "      last_activity     salary  churn  city_rostov  city_rybinsk  \\\n",
       "408               0   25063.96      1            0             1   \n",
       "1439              0   82847.95      0            0             1   \n",
       "1442              1  133324.89      0            0             1   \n",
       "1443              0  120174.24      0            0             0   \n",
       "1453              0  171038.71      0            0             0   \n",
       "\n",
       "      city_yaroslavl  female  male  \n",
       "408                0       1     0  \n",
       "1439               0       0     1  \n",
       "1442               0       0     1  \n",
       "1443               1       1     0  \n",
       "1453               1       1     0  "
      ]
     },
     "execution_count": 9,
     "metadata": {},
     "output_type": "execute_result"
    }
   ],
   "source": [
    "#Выделим данные клиентов с пропущенными значениями в столбце balance в отдельный датасет\n",
    "empty_balance = df[df['balance'].isna()]\n",
    "empty_balance.head(5)"
   ]
  },
  {
   "cell_type": "code",
   "execution_count": 10,
   "id": "9d04d9d5",
   "metadata": {},
   "outputs": [],
   "source": [
    "#Список, датасет для бинарных переменных\n",
    "list1=['city_rostov','city_rybinsk', 'city_yaroslavl', 'female','male', 'credit_card', 'last_activity', 'churn']\n",
    "empty_balance1 = empty_balance[['city_rostov','city_rybinsk', 'city_yaroslavl', 'female','male', 'credit_card', 'last_activity', 'churn']]\n",
    "#Список, датасет для количественных пременных\n",
    "list2=['userid','score', 'age', 'equity','balance', 'products', 'salary']\n",
    "empty_balance2 = empty_balance[['userid', 'score', 'age', 'equity','balance', 'products', 'salary']]"
   ]
  },
  {
   "cell_type": "code",
   "execution_count": 11,
   "id": "93d29a43",
   "metadata": {},
   "outputs": [
    {
     "data": {
      "image/png": "[encoded data removed]",
      "text/plain": [
       "<Figure size 1800x720 with 8 Axes>"
      ]
     },
     "metadata": {
      "needs_background": "light"
     },
     "output_type": "display_data"
    }
   ],
   "source": [
    "#Посмотрим на категоральные(бинарные) признаки в датасете с пропусками \n",
    "fig, axis = plt.subplots(2, 4,figsize=[25,10], sharey=True)\n",
    "axis = axis.flatten()\n",
    "                                                                                          \n",
    "for num, col in enumerate(empty_balance1):  \n",
    "    sns.countplot(data = empty_balance1, x = col, ax = axis[num])    \n",
    "    axis[num].set_title(f'{col}')   "
   ]
  },
  {
   "cell_type": "markdown",
   "id": "aa6707e6",
   "metadata": {},
   "source": [
    "Больше всего клиентов банка с неуказанным балансом из Ярославля, меньше всего из Ростова. Также видно, что больше половины пользователей с неуказанным балансом были активны в последнее время. Почти у всех пользователей есть кредитная карта и почти никто не планируеть уходить."
   ]
  },
  {
   "cell_type": "code",
   "execution_count": 12,
   "id": "0b342385",
   "metadata": {},
   "outputs": [
    {
     "data": {
      "image/png": "[encoded data removed]",
      "text/plain": [
       "<Figure size 1080x360 with 2 Axes>"
      ]
     },
     "metadata": {
      "needs_background": "light"
     },
     "output_type": "display_data"
    }
   ],
   "source": [
    "#Посмотрим на количественные признаки в датасете с пропусками (столбцы 'equity', 'products')\n",
    "empty_balance3 = empty_balance2[['equity', 'products']]\n",
    "\n",
    "fig, axis = plt.subplots(1, 2,figsize=[15,5])\n",
    "axis = axis.flatten()\n",
    "                                                                                          \n",
    "for num, col in enumerate(empty_balance3):  \n",
    "    sns.countplot(data = empty_balance3, x = col, ax = axis[num])    \n",
    "    axis[num].set_title(f'{col}')  "
   ]
  },
  {
   "cell_type": "markdown",
   "id": "cc2c6649",
   "metadata": {},
   "source": [
    "Из графиков видно, что у большинства клиентов с пропущенным балансом приблизительная оценка собственности равна 0. Также, большинство клиентов с пропущенным балансом пользуются 1 банковским продуктом."
   ]
  },
  {
   "cell_type": "code",
   "execution_count": 13,
   "id": "f44d0aaa",
   "metadata": {},
   "outputs": [
    {
     "data": {
      "image/png": "[encoded data removed]",
      "text/plain": [
       "<Figure size 1080x360 with 3 Axes>"
      ]
     },
     "metadata": {
      "needs_background": "light"
     },
     "output_type": "display_data"
    }
   ],
   "source": [
    "#Посмотрим на распределение количественных признаки в датасете с пропусками (столбцы 'score', 'age','salary')\n",
    "empty_balance4 = empty_balance2[['score', 'age','salary']]\n",
    "\n",
    "fig, axis = plt.subplots(1, 3,figsize=[15,5])\n",
    "axis = axis.flatten()\n",
    "                                                                                          \n",
    "for num, col in enumerate(empty_balance4):  \n",
    "    sns.kdeplot(data = empty_balance4, x = col, ax = axis[num])    \n",
    "    axis[num].set_title(f'{col}') "
   ]
  },
  {
   "cell_type": "markdown",
   "id": "1b8e5f8e",
   "metadata": {},
   "source": [
    "Исходя из анализа категориальных и количественных признаков в датасете с пропущенными значениями, можно предположить, что пропуски связаны с наличием кредитных продуктов(является отличительным признаком - у всех клиентов с неуказанным балансом есть кредитная карта). Т.е. клиенты только брали кредит в банке, но не имели расчетного счета для хранения денежных средств (дебитовой карты). Таким образом, предлагается оставить пропуски без изменений (на ноль значения менять нельзя, так как в датасете есть клиенты с нулевым балансом - есть расчетный счет, но не пополнен)."
   ]
  },
  {
   "cell_type": "markdown",
   "id": "6d2d28fa",
   "metadata": {},
   "source": [
    "#### 2.4 Проверка на аномалии/выбросы."
   ]
  },
  {
   "cell_type": "code",
   "execution_count": 14,
   "id": "fae58acd",
   "metadata": {
    "scrolled": false
   },
   "outputs": [
    {
     "data": {
      "image/png": "[encoded data removed]",
      "text/plain": [
       "<Figure size 1440x720 with 5 Axes>"
      ]
     },
     "metadata": {
      "needs_background": "light"
     },
     "output_type": "display_data"
    }
   ],
   "source": [
    "#Проверим наличие выбросов в числовых признаках\n",
    "df2 = df[['score', 'age', 'equity', 'salary', 'balance']]\n",
    "\n",
    "fig, axis = plt.subplots(5, 1,figsize=[20,10])\n",
    "axis = axis.flatten()\n",
    "                                                                                          \n",
    "for num, col in enumerate(df2):  \n",
    "    sns.boxplot(data = df2, x = col, ax = axis[num])    \n",
    "    axis[num].set_title(f'{col}')"
   ]
  },
  {
   "cell_type": "markdown",
   "id": "cc69abc8",
   "metadata": {},
   "source": [
    "Видно, что выбросы есть в столбцах age, salary и balance по верхней границе. Изучим более подробно эти признаки."
   ]
  },
  {
   "cell_type": "code",
   "execution_count": 15,
   "id": "e60c3094",
   "metadata": {},
   "outputs": [
    {
     "name": "stdout",
     "output_type": "stream",
     "text": [
      "Минимальное значение в столбце age - 18 лет\n",
      "Максимальное значение в столбце age - 86 лет\n",
      "Минимальное значение в столбце salary - 2546.3 руб\n",
      "Максимальное значение в столбце salary - 1395064.45 руб\n",
      "Минимальное значение в столбце balance - 0.0 руб\n",
      "Максимальное значение в столбце balance - 119113552.01 руб\n"
     ]
    }
   ],
   "source": [
    "#Минимальное и макимальное значение в столбцах\n",
    "min_age = df['age'].min()\n",
    "print(f\"Минимальное значение в столбце age - {min_age} лет\")\n",
    "max_age = df['age'].max()\n",
    "print(f\"Максимальное значение в столбце age - {max_age} лет\")\n",
    "min_salary = df['salary'].min()\n",
    "print(f\"Минимальное значение в столбце salary - {min_salary} руб\")\n",
    "max_salary = df['salary'].max()\n",
    "print(f\"Максимальное значение в столбце salary - {max_salary} руб\")\n",
    "min_balance = df['balance'].min()\n",
    "print(f\"Минимальное значение в столбце balance - {min_balance} руб\")\n",
    "max_balance = df['balance'].max()\n",
    "print(f\"Максимальное значение в столбце balance - {max_balance} руб\")"
   ]
  },
  {
   "cell_type": "code",
   "execution_count": 16,
   "id": "2a97bd45",
   "metadata": {},
   "outputs": [
    {
     "name": "stdout",
     "output_type": "stream",
     "text": [
      "76.5\n"
     ]
    }
   ],
   "source": [
    "#Используем межквартильный метод для определения верхней границы выбросов для столбца age\n",
    "for x in ['age']:\n",
    "    q75,q25 = np.percentile(df.loc[:,x],[75,25])\n",
    "    intr_qr = q75-q25\n",
    "    max = q75+(1.5*intr_qr)\n",
    "    print(max)    "
   ]
  },
  {
   "cell_type": "code",
   "execution_count": 17,
   "id": "63312d28",
   "metadata": {},
   "outputs": [
    {
     "name": "stdout",
     "output_type": "stream",
     "text": [
      "323373.50625\n"
     ]
    }
   ],
   "source": [
    "#Используем межквартильный метод для определения верхней границы выбросов для столбца salary\n",
    "for x in ['salary']:\n",
    "    q75,q25 = np.percentile(df.loc[:,x],[75,25])\n",
    "    intr_qr = q75-q25\n",
    "    max = q75+(1.5*intr_qr)\n",
    "    print(max)    "
   ]
  },
  {
   "cell_type": "code",
   "execution_count": 18,
   "id": "101d4923",
   "metadata": {},
   "outputs": [
    {
     "name": "stdout",
     "output_type": "stream",
     "text": [
      "2007906.865\n"
     ]
    }
   ],
   "source": [
    "#Используем межквартильный метод для определения верхней границы выбросов для столбца balance\n",
    "df3 = df2[df2['balance'].notna()]\n",
    "for x in ['balance']:\n",
    "    q75,q25 = np.percentile(df3.loc[:,x],[75,25])\n",
    "    intr_qr = q75-q25\n",
    "    max = q75+(1.5*intr_qr)\n",
    "    print(max) "
   ]
  },
  {
   "cell_type": "code",
   "execution_count": 19,
   "id": "c288a574",
   "metadata": {},
   "outputs": [
    {
     "data": {
      "text/html": [
       "<div>\n",
       "<style scoped>\n",
       "    .dataframe tbody tr th:only-of-type {\n",
       "        vertical-align: middle;\n",
       "    }\n",
       "\n",
       "    .dataframe tbody tr th {\n",
       "        vertical-align: top;\n",
       "    }\n",
       "\n",
       "    .dataframe thead th {\n",
       "        text-align: right;\n",
       "    }\n",
       "</style>\n",
       "<table border=\"1\" class=\"dataframe\">\n",
       "  <thead>\n",
       "    <tr style=\"text-align: right;\">\n",
       "      <th></th>\n",
       "      <th>userid</th>\n",
       "      <th>score</th>\n",
       "      <th>age</th>\n",
       "      <th>equity</th>\n",
       "      <th>balance</th>\n",
       "      <th>products</th>\n",
       "      <th>credit_card</th>\n",
       "      <th>last_activity</th>\n",
       "      <th>salary</th>\n",
       "      <th>churn</th>\n",
       "      <th>city_rostov</th>\n",
       "      <th>city_rybinsk</th>\n",
       "      <th>city_yaroslavl</th>\n",
       "      <th>female</th>\n",
       "      <th>male</th>\n",
       "    </tr>\n",
       "  </thead>\n",
       "  <tbody>\n",
       "    <tr>\n",
       "      <th>0</th>\n",
       "      <td>258835</td>\n",
       "      <td>838.0</td>\n",
       "      <td>32</td>\n",
       "      <td>1</td>\n",
       "      <td>377652.29</td>\n",
       "      <td>2</td>\n",
       "      <td>0</td>\n",
       "      <td>1</td>\n",
       "      <td>105665.06</td>\n",
       "      <td>1</td>\n",
       "      <td>1</td>\n",
       "      <td>0</td>\n",
       "      <td>0</td>\n",
       "      <td>1</td>\n",
       "      <td>0</td>\n",
       "    </tr>\n",
       "    <tr>\n",
       "      <th>1</th>\n",
       "      <td>96660</td>\n",
       "      <td>845.0</td>\n",
       "      <td>31</td>\n",
       "      <td>3</td>\n",
       "      <td>214980.98</td>\n",
       "      <td>5</td>\n",
       "      <td>0</td>\n",
       "      <td>1</td>\n",
       "      <td>62058.62</td>\n",
       "      <td>0</td>\n",
       "      <td>1</td>\n",
       "      <td>0</td>\n",
       "      <td>0</td>\n",
       "      <td>1</td>\n",
       "      <td>0</td>\n",
       "    </tr>\n",
       "    <tr>\n",
       "      <th>2</th>\n",
       "      <td>99838</td>\n",
       "      <td>869.0</td>\n",
       "      <td>30</td>\n",
       "      <td>4</td>\n",
       "      <td>467040.46</td>\n",
       "      <td>2</td>\n",
       "      <td>1</td>\n",
       "      <td>1</td>\n",
       "      <td>156945.23</td>\n",
       "      <td>1</td>\n",
       "      <td>1</td>\n",
       "      <td>0</td>\n",
       "      <td>0</td>\n",
       "      <td>1</td>\n",
       "      <td>0</td>\n",
       "    </tr>\n",
       "    <tr>\n",
       "      <th>3</th>\n",
       "      <td>216099</td>\n",
       "      <td>856.0</td>\n",
       "      <td>25</td>\n",
       "      <td>4</td>\n",
       "      <td>475727.88</td>\n",
       "      <td>4</td>\n",
       "      <td>0</td>\n",
       "      <td>1</td>\n",
       "      <td>19502.68</td>\n",
       "      <td>0</td>\n",
       "      <td>0</td>\n",
       "      <td>1</td>\n",
       "      <td>0</td>\n",
       "      <td>1</td>\n",
       "      <td>0</td>\n",
       "    </tr>\n",
       "    <tr>\n",
       "      <th>4</th>\n",
       "      <td>120240</td>\n",
       "      <td>873.0</td>\n",
       "      <td>37</td>\n",
       "      <td>3</td>\n",
       "      <td>1350858.40</td>\n",
       "      <td>4</td>\n",
       "      <td>0</td>\n",
       "      <td>1</td>\n",
       "      <td>119804.41</td>\n",
       "      <td>0</td>\n",
       "      <td>0</td>\n",
       "      <td>1</td>\n",
       "      <td>0</td>\n",
       "      <td>1</td>\n",
       "      <td>0</td>\n",
       "    </tr>\n",
       "    <tr>\n",
       "      <th>...</th>\n",
       "      <td>...</td>\n",
       "      <td>...</td>\n",
       "      <td>...</td>\n",
       "      <td>...</td>\n",
       "      <td>...</td>\n",
       "      <td>...</td>\n",
       "      <td>...</td>\n",
       "      <td>...</td>\n",
       "      <td>...</td>\n",
       "      <td>...</td>\n",
       "      <td>...</td>\n",
       "      <td>...</td>\n",
       "      <td>...</td>\n",
       "      <td>...</td>\n",
       "      <td>...</td>\n",
       "    </tr>\n",
       "    <tr>\n",
       "      <th>9989</th>\n",
       "      <td>66600</td>\n",
       "      <td>823.0</td>\n",
       "      <td>26</td>\n",
       "      <td>5</td>\n",
       "      <td>278208.83</td>\n",
       "      <td>3</td>\n",
       "      <td>1</td>\n",
       "      <td>1</td>\n",
       "      <td>25945.14</td>\n",
       "      <td>0</td>\n",
       "      <td>1</td>\n",
       "      <td>0</td>\n",
       "      <td>0</td>\n",
       "      <td>0</td>\n",
       "      <td>1</td>\n",
       "    </tr>\n",
       "    <tr>\n",
       "      <th>9990</th>\n",
       "      <td>134595</td>\n",
       "      <td>790.0</td>\n",
       "      <td>27</td>\n",
       "      <td>3</td>\n",
       "      <td>98552.97</td>\n",
       "      <td>2</td>\n",
       "      <td>1</td>\n",
       "      <td>0</td>\n",
       "      <td>26608.58</td>\n",
       "      <td>0</td>\n",
       "      <td>0</td>\n",
       "      <td>1</td>\n",
       "      <td>0</td>\n",
       "      <td>0</td>\n",
       "      <td>1</td>\n",
       "    </tr>\n",
       "    <tr>\n",
       "      <th>9992</th>\n",
       "      <td>101426</td>\n",
       "      <td>843.0</td>\n",
       "      <td>41</td>\n",
       "      <td>2</td>\n",
       "      <td>334070.63</td>\n",
       "      <td>2</td>\n",
       "      <td>0</td>\n",
       "      <td>0</td>\n",
       "      <td>152322.57</td>\n",
       "      <td>0</td>\n",
       "      <td>1</td>\n",
       "      <td>0</td>\n",
       "      <td>0</td>\n",
       "      <td>1</td>\n",
       "      <td>0</td>\n",
       "    </tr>\n",
       "    <tr>\n",
       "      <th>9997</th>\n",
       "      <td>216640</td>\n",
       "      <td>828.0</td>\n",
       "      <td>44</td>\n",
       "      <td>2</td>\n",
       "      <td>168323.87</td>\n",
       "      <td>2</td>\n",
       "      <td>1</td>\n",
       "      <td>1</td>\n",
       "      <td>163995.10</td>\n",
       "      <td>0</td>\n",
       "      <td>0</td>\n",
       "      <td>0</td>\n",
       "      <td>1</td>\n",
       "      <td>1</td>\n",
       "      <td>0</td>\n",
       "    </tr>\n",
       "    <tr>\n",
       "      <th>9998</th>\n",
       "      <td>168786</td>\n",
       "      <td>883.0</td>\n",
       "      <td>38</td>\n",
       "      <td>3</td>\n",
       "      <td>342099.90</td>\n",
       "      <td>2</td>\n",
       "      <td>1</td>\n",
       "      <td>0</td>\n",
       "      <td>80587.26</td>\n",
       "      <td>0</td>\n",
       "      <td>0</td>\n",
       "      <td>1</td>\n",
       "      <td>0</td>\n",
       "      <td>1</td>\n",
       "      <td>0</td>\n",
       "    </tr>\n",
       "  </tbody>\n",
       "</table>\n",
       "<p>7184 rows × 15 columns</p>\n",
       "</div>"
      ],
      "text/plain": [
       "      userid  score  age  equity     balance  products  credit_card  \\\n",
       "0     258835  838.0   32       1   377652.29         2            0   \n",
       "1      96660  845.0   31       3   214980.98         5            0   \n",
       "2      99838  869.0   30       4   467040.46         2            1   \n",
       "3     216099  856.0   25       4   475727.88         4            0   \n",
       "4     120240  873.0   37       3  1350858.40         4            0   \n",
       "...      ...    ...  ...     ...         ...       ...          ...   \n",
       "9989   66600  823.0   26       5   278208.83         3            1   \n",
       "9990  134595  790.0   27       3    98552.97         2            1   \n",
       "9992  101426  843.0   41       2   334070.63         2            0   \n",
       "9997  216640  828.0   44       2   168323.87         2            1   \n",
       "9998  168786  883.0   38       3   342099.90         2            1   \n",
       "\n",
       "      last_activity     salary  churn  city_rostov  city_rybinsk  \\\n",
       "0                 1  105665.06      1            1             0   \n",
       "1                 1   62058.62      0            1             0   \n",
       "2                 1  156945.23      1            1             0   \n",
       "3                 1   19502.68      0            0             1   \n",
       "4                 1  119804.41      0            0             1   \n",
       "...             ...        ...    ...          ...           ...   \n",
       "9989              1   25945.14      0            1             0   \n",
       "9990              0   26608.58      0            0             1   \n",
       "9992              0  152322.57      0            1             0   \n",
       "9997              1  163995.10      0            0             0   \n",
       "9998              0   80587.26      0            0             1   \n",
       "\n",
       "      city_yaroslavl  female  male  \n",
       "0                  0       1     0  \n",
       "1                  0       1     0  \n",
       "2                  0       1     0  \n",
       "3                  0       1     0  \n",
       "4                  0       1     0  \n",
       "...              ...     ...   ...  \n",
       "9989               0       0     1  \n",
       "9990               0       0     1  \n",
       "9992               0       1     0  \n",
       "9997               1       1     0  \n",
       "9998               0       1     0  \n",
       "\n",
       "[7184 rows x 15 columns]"
      ]
     },
     "execution_count": 19,
     "metadata": {},
     "output_type": "execute_result"
    }
   ],
   "source": [
    "#Получим таблицу для дальнейшего исследования\n",
    "final_df = df.loc[(df['age'] < 76.5) & (df['salary'] < 323373.50625) & (df['balance'] < 2007906.865)]\n",
    "final_df"
   ]
  },
  {
   "cell_type": "markdown",
   "id": "03f999e1",
   "metadata": {},
   "source": [
    "Осталось 7184 строк (было 10000, удалено 2816 строк или 28,2%)."
   ]
  },
  {
   "cell_type": "markdown",
   "id": "d7eb8dcf",
   "metadata": {},
   "source": [
    "Типы данных в датасете изменять не требуется. Данные подготовлены для анализа."
   ]
  },
  {
   "cell_type": "markdown",
   "id": "3c38396c",
   "metadata": {},
   "source": [
    "### Шаг 3. Исследовательский анализ данных"
   ]
  },
  {
   "cell_type": "markdown",
   "id": "31eb7fb2",
   "metadata": {},
   "source": [
    "#### 3.1 Изучим значения признаков в двух группах — тех, кто ушел в отток и тех, кто остался."
   ]
  },
  {
   "cell_type": "markdown",
   "id": "9321d96b",
   "metadata": {},
   "source": [
    "Для количественных признаков посмотрим средние значения."
   ]
  },
  {
   "cell_type": "code",
   "execution_count": 20,
   "id": "7fac37fa",
   "metadata": {},
   "outputs": [
    {
     "data": {
      "text/html": [
       "<div>\n",
       "<style scoped>\n",
       "    .dataframe tbody tr th:only-of-type {\n",
       "        vertical-align: middle;\n",
       "    }\n",
       "\n",
       "    .dataframe tbody tr th {\n",
       "        vertical-align: top;\n",
       "    }\n",
       "\n",
       "    .dataframe thead th {\n",
       "        text-align: right;\n",
       "    }\n",
       "</style>\n",
       "<table border=\"1\" class=\"dataframe\">\n",
       "  <thead>\n",
       "    <tr style=\"text-align: right;\">\n",
       "      <th></th>\n",
       "      <th>stay</th>\n",
       "      <th>leave</th>\n",
       "    </tr>\n",
       "  </thead>\n",
       "  <tbody>\n",
       "    <tr>\n",
       "      <th>age</th>\n",
       "      <td>43.54</td>\n",
       "      <td>39.01</td>\n",
       "    </tr>\n",
       "    <tr>\n",
       "      <th>balance</th>\n",
       "      <td>568775.37</td>\n",
       "      <td>857260.52</td>\n",
       "    </tr>\n",
       "    <tr>\n",
       "      <th>equity</th>\n",
       "      <td>3.23</td>\n",
       "      <td>3.94</td>\n",
       "    </tr>\n",
       "    <tr>\n",
       "      <th>products</th>\n",
       "      <td>2.13</td>\n",
       "      <td>2.48</td>\n",
       "    </tr>\n",
       "    <tr>\n",
       "      <th>salary</th>\n",
       "      <td>106065.12</td>\n",
       "      <td>129176.61</td>\n",
       "    </tr>\n",
       "    <tr>\n",
       "      <th>score</th>\n",
       "      <td>825.94</td>\n",
       "      <td>868.36</td>\n",
       "    </tr>\n",
       "  </tbody>\n",
       "</table>\n",
       "</div>"
      ],
      "text/plain": [
       "               stay      leave\n",
       "age           43.54      39.01\n",
       "balance   568775.37  857260.52\n",
       "equity         3.23       3.94\n",
       "products       2.13       2.48\n",
       "salary    106065.12  129176.61\n",
       "score        825.94     868.36"
      ]
     },
     "execution_count": 20,
     "metadata": {},
     "output_type": "execute_result"
    }
   ],
   "source": [
    "#Средние значения для количественных признаков\n",
    "\n",
    "#Датасет для определения средних значений количественных признаков\n",
    "final_df1 = final_df[['score', 'age', 'equity','balance', 'products', 'salary', 'churn']]\n",
    "\n",
    "final_df1_pivot = final_df1.pivot_table(index='churn', aggfunc='mean').T.apply(lambda s: s.apply('{0:.2f}'.format))\n",
    "final_df1_pivot.columns = ['stay', 'leave']\n",
    "final_df1_pivot"
   ]
  },
  {
   "cell_type": "markdown",
   "id": "177d799f",
   "metadata": {},
   "source": [
    "Средний возраст клиентов, которые собираются уходить, немного ниже чем у тех кто остается (39 и 43 года соответственно). У уходящих выше баланс,ЗП, баллы кредитного скоринга, оценка собственности."
   ]
  },
  {
   "cell_type": "markdown",
   "id": "4f35bd34",
   "metadata": {},
   "source": [
    "Изучим бинарные признаки."
   ]
  },
  {
   "cell_type": "code",
   "execution_count": 21,
   "id": "b631c9a4",
   "metadata": {},
   "outputs": [],
   "source": [
    "#Формирование датасета\n",
    "final_df2 = final_df[['city_rostov','city_rybinsk', 'city_yaroslavl', 'female','male', 'credit_card', 'last_activity', 'churn']]"
   ]
  },
  {
   "cell_type": "code",
   "execution_count": 22,
   "id": "4157b3da",
   "metadata": {},
   "outputs": [
    {
     "data": {
      "text/html": [
       "<div>\n",
       "<style scoped>\n",
       "    .dataframe tbody tr th:only-of-type {\n",
       "        vertical-align: middle;\n",
       "    }\n",
       "\n",
       "    .dataframe tbody tr th {\n",
       "        vertical-align: top;\n",
       "    }\n",
       "\n",
       "    .dataframe thead th {\n",
       "        text-align: right;\n",
       "    }\n",
       "</style>\n",
       "<table border=\"1\" class=\"dataframe\">\n",
       "  <thead>\n",
       "    <tr style=\"text-align: right;\">\n",
       "      <th></th>\n",
       "      <th>stay</th>\n",
       "      <th>leave</th>\n",
       "      <th>sum</th>\n",
       "      <th>leave_ratio, %</th>\n",
       "      <th>stay_ratio, %</th>\n",
       "    </tr>\n",
       "  </thead>\n",
       "  <tbody>\n",
       "    <tr>\n",
       "      <th>city_rostov</th>\n",
       "      <td>985.0</td>\n",
       "      <td>164.0</td>\n",
       "      <td>1149.0</td>\n",
       "      <td>14.27</td>\n",
       "      <td>85.73</td>\n",
       "    </tr>\n",
       "    <tr>\n",
       "      <th>city_rybinsk</th>\n",
       "      <td>1739.0</td>\n",
       "      <td>241.0</td>\n",
       "      <td>1980.0</td>\n",
       "      <td>12.17</td>\n",
       "      <td>87.83</td>\n",
       "    </tr>\n",
       "    <tr>\n",
       "      <th>city_yaroslavl</th>\n",
       "      <td>3377.0</td>\n",
       "      <td>678.0</td>\n",
       "      <td>4055.0</td>\n",
       "      <td>16.72</td>\n",
       "      <td>83.28</td>\n",
       "    </tr>\n",
       "    <tr>\n",
       "      <th>female</th>\n",
       "      <td>3301.0</td>\n",
       "      <td>468.0</td>\n",
       "      <td>3769.0</td>\n",
       "      <td>12.42</td>\n",
       "      <td>87.58</td>\n",
       "    </tr>\n",
       "    <tr>\n",
       "      <th>male</th>\n",
       "      <td>2800.0</td>\n",
       "      <td>615.0</td>\n",
       "      <td>3415.0</td>\n",
       "      <td>18.01</td>\n",
       "      <td>81.99</td>\n",
       "    </tr>\n",
       "    <tr>\n",
       "      <th>credit_card</th>\n",
       "      <td>5180.0</td>\n",
       "      <td>650.0</td>\n",
       "      <td>5830.0</td>\n",
       "      <td>11.15</td>\n",
       "      <td>88.85</td>\n",
       "    </tr>\n",
       "    <tr>\n",
       "      <th>last_activity</th>\n",
       "      <td>2608.0</td>\n",
       "      <td>879.0</td>\n",
       "      <td>3487.0</td>\n",
       "      <td>25.21</td>\n",
       "      <td>74.79</td>\n",
       "    </tr>\n",
       "  </tbody>\n",
       "</table>\n",
       "</div>"
      ],
      "text/plain": [
       "                  stay  leave     sum  leave_ratio, %  stay_ratio, %\n",
       "city_rostov      985.0  164.0  1149.0           14.27          85.73\n",
       "city_rybinsk    1739.0  241.0  1980.0           12.17          87.83\n",
       "city_yaroslavl  3377.0  678.0  4055.0           16.72          83.28\n",
       "female          3301.0  468.0  3769.0           12.42          87.58\n",
       "male            2800.0  615.0  3415.0           18.01          81.99\n",
       "credit_card     5180.0  650.0  5830.0           11.15          88.85\n",
       "last_activity   2608.0  879.0  3487.0           25.21          74.79"
      ]
     },
     "execution_count": 22,
     "metadata": {},
     "output_type": "execute_result"
    }
   ],
   "source": [
    "final_df2_churn = final_df2.groupby('churn').agg('sum').T\n",
    "final_df2_churn.columns = ['stay', 'leave']\n",
    "final_df2_churn['sum'] = final_df2_churn['stay'] + final_df2_churn['leave']\n",
    "final_df2_churn['leave_ratio, %'] = round(final_df2_churn['leave'] / final_df2_churn['sum'] *100, 2)\n",
    "final_df2_churn['stay_ratio, %'] = round(final_df2_churn['stay'] / final_df2_churn['sum'] *100, 2)\n",
    "final_df2_churn"
   ]
  },
  {
   "cell_type": "code",
   "execution_count": 23,
   "id": "12b28965",
   "metadata": {},
   "outputs": [
    {
     "name": "stdout",
     "output_type": "stream",
     "text": [
      "Количество уходящих - 1083, остающихся в банке - 6101\n"
     ]
    }
   ],
   "source": [
    "#Количество остающихся и уходящих\n",
    "print('Количество уходящих - {}, остающихся в банке - {}'.format(\n",
    "        len(final_df[final_df['churn'] == 1]),\n",
    "        len(final_df[final_df['churn'] == 0])))"
   ]
  },
  {
   "cell_type": "code",
   "execution_count": 24,
   "id": "fc242145",
   "metadata": {},
   "outputs": [
    {
     "data": {
      "image/png": "[encoded data removed]",
      "text/plain": [
       "<Figure size 432x288 with 1 Axes>"
      ]
     },
     "metadata": {},
     "output_type": "display_data"
    }
   ],
   "source": [
    "#Диаграмма для презентации\n",
    "labels = 'Уходят из банка', 'Остаются в банке'\n",
    "result = [1083, 6101]\n",
    "explode = (0, 0.1)\n",
    "fig1, ax1 = plt.subplots()\n",
    "ax1.pie(result, explode=explode, labels=labels, shadow=True, startangle=90, autopct='%1.1f%%')\n",
    "plt.show()"
   ]
  },
  {
   "cell_type": "markdown",
   "id": "3bce995d",
   "metadata": {},
   "source": [
    "Итак, из 1083 уходящих из банка, основную часть составляют клиенты из Ярославля (678 человек или 62%). Относительный показатель оттока также самый высокий в Ярославле (почти 17% от общего числа клиентов в этом городе).Самый низкий показатель оттока в Рыбинске (12%).\n",
    "\n",
    "Основную часть уходящих сотавляют мужчины (615 человек или  57%). Относительный показатель оттока у мужчин 18%, против 12,4% у женщин.\n",
    "\n",
    "Кредитные карты  есть у 650 человек из числа уходящих (60%). \n",
    "\n",
    "Были активны в последнее время 879 клиентов из числа уходящих (81%)."
   ]
  },
  {
   "cell_type": "markdown",
   "id": "37866b6e",
   "metadata": {},
   "source": [
    "#### 3.2 Построим столбчатые гистограммы  распределения признаков для тех, кто ушёл (отток) и тех, кто остался (не попали в отток)."
   ]
  },
  {
   "cell_type": "code",
   "execution_count": 25,
   "id": "dce39206",
   "metadata": {
    "scrolled": false
   },
   "outputs": [
    {
     "data": {
      "image/png": "[encoded data removed]",
      "text/plain": [
       "<Figure size 2880x2880 with 15 Axes>"
      ]
     },
     "metadata": {
      "needs_background": "light"
     },
     "output_type": "display_data"
    }
   ],
   "source": [
    "#Построим гистограммы\n",
    "fig, axis = plt.subplots(5, 3,figsize=[40,40])\n",
    "axis = axis.flatten()\n",
    "for num, col in enumerate(final_df):                                                                               \n",
    "    sns.histplot (data = final_df, x = col, ax = axis[num], stat=\"density\", common_norm=False, hue='churn') \n",
    "    axis[num].set_title(f'{col}')  "
   ]
  },
  {
   "cell_type": "markdown",
   "id": "d6e51526",
   "metadata": {},
   "source": [
    "* По показателю score видно, что к оттоку склонны клиенты с высокими баллами кредитного скоринга (от 850 до 950 баллов). Можно предположить, что это связано с неудвлетворенностью клиентов работой банка (не устраивают предлагаемые банковские продукты, условия).\n",
    "* По показателю age заметно, что среди возрастной категории 25-35 лет большая часть клиентов склонна к оттоку. Здесь можно предположить, что молодые люди предьявляют более высокие требования к банковским услугам. Например,  молодые люди более активно пользуются современными диджитал-инструментами для управления финансами.  \n",
    "* По показателю equity видно, что больше склонны к оттоку клиенты с высоким показателем оценки собственности (от 4 и выше). Можно предположить, что это состоятельные клиенты,которым нужен премиальный сервис.Банк не обеспечивает их нужд.\n",
    "* К оттоку также подвержены клиенты с различным балансом , ЗП.\n",
    "* Оптимальное количество продуктов - 2 (с таким количеством больше всего оставшихся клиентов). Также видно, что  клиенты, владеющие большим количеством продуктов (3-4) больше склонны к оттоку.\n",
    "* Судя по показателю credit_ card, к оттоку склонна большая часть клиентов не имеющих кредитных  карт. Это логично, так как данные клиенты не привязаны к банку, у них нет кредитов, они могут выбирать любой банк.\n",
    "* Судя по показателю last_activity, к оттоку склонна большая часть клиентов, которые были активны в последнее время.\n",
    "* Больше всего подвержены к оттоку клиенты из Ярославля. Возможно, филиалы банка в данном городе работают хуже, меньше проводится акций, рекламных компаний.\n",
    "* Чаще подвержены оттоку мужчины."
   ]
  },
  {
   "cell_type": "markdown",
   "id": "c7dc5278",
   "metadata": {},
   "source": [
    "#### 3.3 Построим матрицу корреляций"
   ]
  },
  {
   "cell_type": "code",
   "execution_count": 26,
   "id": "96ac0965",
   "metadata": {},
   "outputs": [
    {
     "data": {
      "image/png": "[encoded data removed]",
      "text/plain": [
       "<Figure size 1152x648 with 2 Axes>"
      ]
     },
     "metadata": {
      "needs_background": "light"
     },
     "output_type": "display_data"
    }
   ],
   "source": [
    "#Рассчитываем матрицу\n",
    "corr_matrix = final_df.query('balance > 0').corr()\n",
    "\n",
    "#Cтроим тепловую карту\n",
    "plt.figure(figsize=(16, 9))\n",
    "plt.title('Матрица корреляций признаков')\n",
    "ax=sns.heatmap(\n",
    "    corr_matrix,\n",
    "    annot=True,\n",
    "    fmt='.2f',\n",
    "    cmap='vlag'\n",
    ")\n",
    "plt.show()"
   ]
  },
  {
   "cell_type": "markdown",
   "id": "c95932ed",
   "metadata": {},
   "source": [
    "Как видно из матрицы:\n",
    "\n",
    "* наибольшие коэффициенты корреляции с целевой переменной churn (>0,25) у признаков last_activity (0,27) и score(0,3). Отток связан с баллами кредитного скоринга клиентов  и их активностью. Чем чаще клиент взаимодействует с банком, тем он требовательнее к банковским продуктам, услугам. Наиболее платежеспособные клиенты, также, скорее всего, предъявляют более высокие требования к качеству банковских услуг. Соответственно, связь данных признаков с целевой переменной понятна. \n",
    "\n",
    "\n",
    "* от 0,2 до 0,25 у целевой переменной корреляция с признаками balance(0,24), credit_card(-0,23) и products(0,23). По признаку balance связь с целевой переменной можно объяснить также неудвлетворенностью работой банка. Чем выше баланс, тем требовательнее клиент. Как мы выяснили в п.3.2, к оттоку склонна большая часть клиентов не имеющих кредитных  карт. Этим объясняется связь данного признака с целевой переменной. Клиенты без кредитов могут свободно выбирать любой банк. Также, целевая переменная связана с количеством банковских продуктов. Чем большим количеством продуктов пользуется клиентов, тем он чаще взаимодействует с банком и тем он требовательнее к банковским продуктам, услугам.\n",
    "\n",
    "\n",
    "* от 0,1 до 0,2 у целевой переменной корреляция с признаками salary(0,14), equity(0,16) и age(-0,13). По данным показателям связь также можно объяснить более высокими требованиями к обслуживанию у людей с высокой ЗП, высокими показателями оценки собственности. И как мы выяснили в п.3.2, к оотоку больше подвержены молодые люди (25-35 лет)."
   ]
  },
  {
   "cell_type": "markdown",
   "id": "16317ead",
   "metadata": {},
   "source": [
    "### Шаг 4.Сформулируем и проверим статистические гипотезы. "
   ]
  },
  {
   "cell_type": "markdown",
   "id": "c4b733c7",
   "metadata": {},
   "source": [
    "В пункте 3.3 мы определили, что у нас имеется 2 признака, имеющих наиболее сильную корреляцию с целевой переменной. С учётом того, что  также поставлена задача проверить гипотезу о различии доходов между теми клиентами, которые ушли и теми, которые остались, всего нужно проверить 3 гипотезы:\n",
    "\n",
    "* гипотезу о различии доходов;\n",
    "* гипотезу о различии last_activity;\n",
    "* гипотезу о различии score."
   ]
  },
  {
   "cell_type": "code",
   "execution_count": 27,
   "id": "c0c4183a",
   "metadata": {},
   "outputs": [],
   "source": [
    "#Выборки\n",
    "df_churn_0 = final_df[final_df['churn'] == 0] # не планируют уходить\n",
    "df_churn_1 = final_df[final_df['churn'] == 1] # планируют уходить"
   ]
  },
  {
   "cell_type": "code",
   "execution_count": 28,
   "id": "6f5d5692",
   "metadata": {},
   "outputs": [
    {
     "name": "stdout",
     "output_type": "stream",
     "text": [
      "Размеры выборок составляют: для попавших в отток - 1083, для оставшихся в банке - 6101\n"
     ]
    }
   ],
   "source": [
    "#Проверим размеры выборок\n",
    "print('Размеры выборок составляют: для попавших в отток - {}, для оставшихся в банке - {}'.format(\n",
    "        len(df_churn_1),\n",
    "        len(df_churn_0)))"
   ]
  },
  {
   "cell_type": "markdown",
   "id": "2c54091e",
   "metadata": {},
   "source": [
    "Размеры выборок значительно отличаются. Будем использовать для проверки непараметрический критерий Манна-Уитни. Уровень статистической значимости принимаем равным 0,05.\n",
    "\n",
    "С учётом того, что нам предстоит множественная проверка гипотез, необходимо скомпенсировать накопление ошибки первого рода. Применим поправку Бонферрони - разделим выбранный уровень значимости на количество проводимых тестов."
   ]
  },
  {
   "cell_type": "markdown",
   "id": "ce115cfc",
   "metadata": {},
   "source": [
    "#### 4.1 Гипотеза о различии доходов у клиентов в оттоке / не в оттоке"
   ]
  },
  {
   "cell_type": "markdown",
   "id": "2b8af6e4",
   "metadata": {},
   "source": [
    "Сформулируем гипотезу:\n",
    "\n",
    "H0: среднее значение дохода клиентов, ушедших в отток равно среднему значению дохода клиентов, оставшихся с банком\n",
    "\n",
    "H1: среднее значение дохода клиентов, ушедших в отток отличается от среднего значению дохода клиентов, оставшихся с банком"
   ]
  },
  {
   "cell_type": "markdown",
   "id": "9ea255b9",
   "metadata": {},
   "source": [
    "Для проверки стат. гипотезы будем использовать критерий Манна-Уитни. Это непараметрический критерий для сравнения двух независимых групп, который для проверки статистических гипотез не использует предположений о распределении генеральной совокупности. Не будем использовать t-критерий Стьюдента, так как для него необходимо, чтобы данные имели нормальное распределение.  \n",
    "\n",
    "Параметр alternative='two-sided' в методе stats.mannwhitneyu  означает двусторонний тест, сравнение выборок производится \"в обе стороны\"."
   ]
  },
  {
   "cell_type": "code",
   "execution_count": 29,
   "id": "68ac97cd",
   "metadata": {},
   "outputs": [],
   "source": [
    "#Формируем выборки\n",
    "sample_A = final_df.query('churn == 0')['salary']\n",
    "sample_B = final_df.query('churn == 1')['salary']"
   ]
  },
  {
   "cell_type": "code",
   "execution_count": 30,
   "id": "6b472027",
   "metadata": {},
   "outputs": [
    {
     "name": "stdout",
     "output_type": "stream",
     "text": [
      "Отвергаем нулевую гипотезу\n"
     ]
    }
   ],
   "source": [
    "#Задаём уровень критерия статистической значимости\n",
    "alpha = 0.05\n",
    "\n",
    "#Количество тестов\n",
    "n_test = 3\n",
    "\n",
    "#Рассчитываем итоговый уровень критерия статистической значимости с учётом поправки Бонферрони\n",
    "alpha_corr = alpha / n_test\n",
    "\n",
    "#Проводим тест\n",
    "result = stats.mannwhitneyu(sample_A, sample_B)\n",
    "\n",
    "#Получаем значение p-value\n",
    "p_value = result.pvalue\n",
    "\n",
    "#Сравниваем полученное значение с критерием\n",
    "if p_value > alpha_corr:\n",
    "    print('Не получилось отвергнуть нулевую гипотезу')\n",
    "else:\n",
    "    print('Отвергаем нулевую гипотезу')"
   ]
  },
  {
   "cell_type": "markdown",
   "id": "29ec19f1",
   "metadata": {},
   "source": [
    "Нулевая гипотеза отвергнута, т.е. есть статистически значимые различий между средними двух выборок. Посмотрим на относительную разницу средних:"
   ]
  },
  {
   "cell_type": "code",
   "execution_count": 31,
   "id": "441aed8a",
   "metadata": {},
   "outputs": [
    {
     "name": "stdout",
     "output_type": "stream",
     "text": [
      "21.79%\n"
     ]
    }
   ],
   "source": [
    "print('{0:.2%}'.format(sample_B.mean() / sample_A.mean() - 1))"
   ]
  },
  {
   "cell_type": "markdown",
   "id": "55427798",
   "metadata": {},
   "source": [
    "Полученное значение подтверждает выводы теста, относительная разница средних высокая."
   ]
  },
  {
   "cell_type": "markdown",
   "id": "1e540e4c",
   "metadata": {},
   "source": [
    "#### 4.2 Гипотеза о различии last_activity"
   ]
  },
  {
   "cell_type": "markdown",
   "id": "341ff86a",
   "metadata": {},
   "source": [
    "Сформулируем гипотезу:\n",
    "\n",
    "H0: доля неактивных клиентов, ушедших в отток (last_activity = 0) равна доле активных клиентов (last_activity = 1), ушедших в отток\n",
    "\n",
    "H1: доля неактивных клиентов, ушедших в отток (last_activity = 0) не равна доле активных клиентов (last_activity = 1), ушедших в отток"
   ]
  },
  {
   "cell_type": "code",
   "execution_count": 32,
   "id": "29e78c1d",
   "metadata": {},
   "outputs": [],
   "source": [
    "#Формируем выборки\n",
    "# с количеством клиентов со значениям признака last_activity 0 и 1\n",
    "sample_A = list(final_df.groupby('last_activity').agg({'userid':'count'})['userid'])\n",
    "# с количеством клиентов, ушедших в отток, со значениям признака last_activity 0 и 1\n",
    "sample_B = list(final_df.query('churn == 1').groupby('last_activity').agg({'userid':'count'})['userid'])"
   ]
  },
  {
   "cell_type": "code",
   "execution_count": 33,
   "id": "11af3672",
   "metadata": {},
   "outputs": [
    {
     "name": "stdout",
     "output_type": "stream",
     "text": [
      "Отвергаем нулевую гипотезу\n"
     ]
    }
   ],
   "source": [
    "#Проверка равенства долей\n",
    "def z_test(before, after):\n",
    "    successes = np.array(after)\n",
    "    trials = np.array(before)\n",
    "     \n",
    "    p1 = successes[0]/trials[0]\n",
    "    p2 = successes[1]/trials[1]\n",
    "    \n",
    "    p_combined = (successes[0] + successes[1]) / (trials[0] + trials[1])\n",
    "\n",
    "    difference = p1 - p2\n",
    "\n",
    "    z_value = difference / math.sqrt(p_combined * (1 - p_combined) * (1/trials[0] + 1/trials[1]))\n",
    "\n",
    "    distr = stats.norm(0, 1) \n",
    "\n",
    "    p_value = (1 - distr.cdf(abs(z_value))) * 2\n",
    "\n",
    "    return p_value\n",
    "\n",
    "\n",
    "#Получаем значение p-value\n",
    "p_value = z_test(\n",
    "    sample_A,\n",
    "    sample_B\n",
    ")\n",
    "\n",
    "#Сравниваем полученное значение с критерием\n",
    "if p_value > alpha_corr:\n",
    "    print('Не получилось отвергнуть нулевую гипотезу')\n",
    "else:\n",
    "    print('Отвергаем нулевую гипотезу')"
   ]
  },
  {
   "cell_type": "markdown",
   "id": "e2a66c63",
   "metadata": {},
   "source": [
    "Нулевую гипотеза отвергнута, т.е. между средними значениями имеются статистически значимые различия. Посмотрим на относительную разницу средних:"
   ]
  },
  {
   "cell_type": "code",
   "execution_count": 34,
   "id": "ace3fb8e",
   "metadata": {},
   "outputs": [
    {
     "name": "stdout",
     "output_type": "stream",
     "text": [
      "-78.11%\n"
     ]
    }
   ],
   "source": [
    "print('{0:.2%}'.format(sample_B[0] / sample_A[0] *  sample_A[1] / sample_B[1] - 1))"
   ]
  },
  {
   "cell_type": "markdown",
   "id": "df37315f",
   "metadata": {},
   "source": [
    "Разница средних существенна."
   ]
  },
  {
   "cell_type": "markdown",
   "id": "8ad32262",
   "metadata": {},
   "source": [
    "#### 4.3 Гипотеза о различии score"
   ]
  },
  {
   "cell_type": "markdown",
   "id": "567f33e1",
   "metadata": {},
   "source": [
    "Сформулируем гипотезу:\n",
    "\n",
    "H0: среднее значение баллов кредитного рейтинга, ушедших в отток равно среднему значению баллов кредитного рейтинга, оставшихся с банком.\n",
    "\n",
    "H1: среднее значение баллов кредитного рейтинга, ушедших в отток отличается от среднего значению баллов кредитного рейтинга, оставшихся с банком."
   ]
  },
  {
   "cell_type": "code",
   "execution_count": 35,
   "id": "3e4b4405",
   "metadata": {},
   "outputs": [
    {
     "name": "stdout",
     "output_type": "stream",
     "text": [
      "Отвергаем нулевую гипотезу\n"
     ]
    }
   ],
   "source": [
    "#Формируем выборки\n",
    "sample_A = final_df.query('churn == 0')['score']\n",
    "sample_B = final_df.query('churn == 1')['score']\n",
    "\n",
    "#Задаём уровень критерия статистической значимости\n",
    "alpha = 0.05\n",
    "\n",
    "#Количество тестов\n",
    "n_test = 3\n",
    "\n",
    "#Рассчитываем итоговый уровень критерия статистической значимости с учётом поправки Бонферрони\n",
    "alpha_corr = alpha / n_test\n",
    "\n",
    "#Проводим тест\n",
    "result = stats.mannwhitneyu(sample_A, sample_B)\n",
    "\n",
    "#Получаем значение p-value\n",
    "p_value = result.pvalue\n",
    "\n",
    "#Сравниваем полученное значение с критерием\n",
    "if p_value > alpha_corr:\n",
    "    print('Не получилось отвергнуть нулевую гипотезу')\n",
    "else:\n",
    "    print('Отвергаем нулевую гипотезу')"
   ]
  },
  {
   "cell_type": "markdown",
   "id": "171e9688",
   "metadata": {},
   "source": [
    "Нулевая гипотеза отвергнута, т.е. есть статистически значимые различий между средними двух выборок. Посмотрим на относительную разницу средних:"
   ]
  },
  {
   "cell_type": "code",
   "execution_count": 36,
   "id": "c6178004",
   "metadata": {},
   "outputs": [
    {
     "name": "stdout",
     "output_type": "stream",
     "text": [
      "5.14%\n"
     ]
    }
   ],
   "source": [
    "print('{0:.2%}'.format(sample_B.mean() / sample_A.mean() - 1))"
   ]
  },
  {
   "cell_type": "markdown",
   "id": "a646a690",
   "metadata": {},
   "source": [
    "Относительная разница есть."
   ]
  },
  {
   "cell_type": "markdown",
   "id": "51f60f8e",
   "metadata": {},
   "source": [
    "### Шаг 5. Сегментация"
   ]
  },
  {
   "cell_type": "markdown",
   "id": "eeec00f4",
   "metadata": {},
   "source": [
    "Изучим средние и медианы по подготовленным данным в разрезе оттока."
   ]
  },
  {
   "cell_type": "code",
   "execution_count": 37,
   "id": "b541d82f",
   "metadata": {},
   "outputs": [
    {
     "data": {
      "text/html": [
       "<div>\n",
       "<style scoped>\n",
       "    .dataframe tbody tr th:only-of-type {\n",
       "        vertical-align: middle;\n",
       "    }\n",
       "\n",
       "    .dataframe tbody tr th {\n",
       "        vertical-align: top;\n",
       "    }\n",
       "\n",
       "    .dataframe thead th {\n",
       "        text-align: right;\n",
       "    }\n",
       "</style>\n",
       "<table border=\"1\" class=\"dataframe\">\n",
       "  <thead>\n",
       "    <tr style=\"text-align: right;\">\n",
       "      <th></th>\n",
       "      <th>score</th>\n",
       "      <th>age</th>\n",
       "      <th>equity</th>\n",
       "      <th>balance</th>\n",
       "      <th>products</th>\n",
       "      <th>credit_card</th>\n",
       "      <th>last_activity</th>\n",
       "      <th>salary</th>\n",
       "      <th>city_rostov</th>\n",
       "      <th>city_rybinsk</th>\n",
       "      <th>city_yaroslavl</th>\n",
       "      <th>female</th>\n",
       "      <th>male</th>\n",
       "    </tr>\n",
       "    <tr>\n",
       "      <th>churn</th>\n",
       "      <th></th>\n",
       "      <th></th>\n",
       "      <th></th>\n",
       "      <th></th>\n",
       "      <th></th>\n",
       "      <th></th>\n",
       "      <th></th>\n",
       "      <th></th>\n",
       "      <th></th>\n",
       "      <th></th>\n",
       "      <th></th>\n",
       "      <th></th>\n",
       "      <th></th>\n",
       "    </tr>\n",
       "  </thead>\n",
       "  <tbody>\n",
       "    <tr>\n",
       "      <th>0</th>\n",
       "      <td>825.942141</td>\n",
       "      <td>43.544829</td>\n",
       "      <td>3.231929</td>\n",
       "      <td>568775.367984</td>\n",
       "      <td>2.126045</td>\n",
       "      <td>0.849041</td>\n",
       "      <td>0.427471</td>\n",
       "      <td>106065.124153</td>\n",
       "      <td>0.161449</td>\n",
       "      <td>0.285035</td>\n",
       "      <td>0.553516</td>\n",
       "      <td>0.541059</td>\n",
       "      <td>0.458941</td>\n",
       "    </tr>\n",
       "    <tr>\n",
       "      <th>1</th>\n",
       "      <td>868.362881</td>\n",
       "      <td>39.007387</td>\n",
       "      <td>3.939982</td>\n",
       "      <td>857260.519187</td>\n",
       "      <td>2.484765</td>\n",
       "      <td>0.600185</td>\n",
       "      <td>0.811634</td>\n",
       "      <td>129176.605152</td>\n",
       "      <td>0.151431</td>\n",
       "      <td>0.222530</td>\n",
       "      <td>0.626039</td>\n",
       "      <td>0.432133</td>\n",
       "      <td>0.567867</td>\n",
       "    </tr>\n",
       "  </tbody>\n",
       "</table>\n",
       "</div>"
      ],
      "text/plain": [
       "            score        age    equity        balance  products  credit_card  \\\n",
       "churn                                                                          \n",
       "0      825.942141  43.544829  3.231929  568775.367984  2.126045     0.849041   \n",
       "1      868.362881  39.007387  3.939982  857260.519187  2.484765     0.600185   \n",
       "\n",
       "       last_activity         salary  city_rostov  city_rybinsk  \\\n",
       "churn                                                            \n",
       "0           0.427471  106065.124153     0.161449      0.285035   \n",
       "1           0.811634  129176.605152     0.151431      0.222530   \n",
       "\n",
       "       city_yaroslavl    female      male  \n",
       "churn                                      \n",
       "0            0.553516  0.541059  0.458941  \n",
       "1            0.626039  0.432133  0.567867  "
      ]
     },
     "execution_count": 37,
     "metadata": {},
     "output_type": "execute_result"
    }
   ],
   "source": [
    "#Средние значения\n",
    "final_df.drop(['userid'], axis=1).groupby('churn').mean()"
   ]
  },
  {
   "cell_type": "code",
   "execution_count": 38,
   "id": "850733ee",
   "metadata": {},
   "outputs": [
    {
     "data": {
      "text/html": [
       "<div>\n",
       "<style scoped>\n",
       "    .dataframe tbody tr th:only-of-type {\n",
       "        vertical-align: middle;\n",
       "    }\n",
       "\n",
       "    .dataframe tbody tr th {\n",
       "        vertical-align: top;\n",
       "    }\n",
       "\n",
       "    .dataframe thead th {\n",
       "        text-align: right;\n",
       "    }\n",
       "</style>\n",
       "<table border=\"1\" class=\"dataframe\">\n",
       "  <thead>\n",
       "    <tr style=\"text-align: right;\">\n",
       "      <th></th>\n",
       "      <th>score</th>\n",
       "      <th>age</th>\n",
       "      <th>equity</th>\n",
       "      <th>balance</th>\n",
       "      <th>products</th>\n",
       "      <th>credit_card</th>\n",
       "      <th>last_activity</th>\n",
       "      <th>salary</th>\n",
       "      <th>city_rostov</th>\n",
       "      <th>city_rybinsk</th>\n",
       "      <th>city_yaroslavl</th>\n",
       "      <th>female</th>\n",
       "      <th>male</th>\n",
       "    </tr>\n",
       "    <tr>\n",
       "      <th>churn</th>\n",
       "      <th></th>\n",
       "      <th></th>\n",
       "      <th></th>\n",
       "      <th></th>\n",
       "      <th></th>\n",
       "      <th></th>\n",
       "      <th></th>\n",
       "      <th></th>\n",
       "      <th></th>\n",
       "      <th></th>\n",
       "      <th></th>\n",
       "      <th></th>\n",
       "      <th></th>\n",
       "    </tr>\n",
       "  </thead>\n",
       "  <tbody>\n",
       "    <tr>\n",
       "      <th>0</th>\n",
       "      <td>824.0</td>\n",
       "      <td>41.0</td>\n",
       "      <td>3.0</td>\n",
       "      <td>456176.79</td>\n",
       "      <td>2.0</td>\n",
       "      <td>1.0</td>\n",
       "      <td>0.0</td>\n",
       "      <td>97888.70</td>\n",
       "      <td>0.0</td>\n",
       "      <td>0.0</td>\n",
       "      <td>1.0</td>\n",
       "      <td>1.0</td>\n",
       "      <td>0.0</td>\n",
       "    </tr>\n",
       "    <tr>\n",
       "      <th>1</th>\n",
       "      <td>873.0</td>\n",
       "      <td>36.0</td>\n",
       "      <td>4.0</td>\n",
       "      <td>793229.81</td>\n",
       "      <td>2.0</td>\n",
       "      <td>1.0</td>\n",
       "      <td>1.0</td>\n",
       "      <td>122983.06</td>\n",
       "      <td>0.0</td>\n",
       "      <td>0.0</td>\n",
       "      <td>1.0</td>\n",
       "      <td>0.0</td>\n",
       "      <td>1.0</td>\n",
       "    </tr>\n",
       "  </tbody>\n",
       "</table>\n",
       "</div>"
      ],
      "text/plain": [
       "       score   age  equity    balance  products  credit_card  last_activity  \\\n",
       "churn                                                                         \n",
       "0      824.0  41.0     3.0  456176.79       2.0          1.0            0.0   \n",
       "1      873.0  36.0     4.0  793229.81       2.0          1.0            1.0   \n",
       "\n",
       "          salary  city_rostov  city_rybinsk  city_yaroslavl  female  male  \n",
       "churn                                                                      \n",
       "0       97888.70          0.0           0.0             1.0     1.0   0.0  \n",
       "1      122983.06          0.0           0.0             1.0     0.0   1.0  "
      ]
     },
     "execution_count": 38,
     "metadata": {},
     "output_type": "execute_result"
    }
   ],
   "source": [
    "#Медианные значения\n",
    "final_df.drop(['userid'], axis=1).groupby('churn').median()"
   ]
  },
  {
   "cell_type": "markdown",
   "id": "887ae181",
   "metadata": {},
   "source": [
    "На основе данных исследовательского анализа, анализа средних медиан построим портрет отточного и не отточного клиента"
   ]
  },
  {
   "cell_type": "markdown",
   "id": "c81715bf",
   "metadata": {},
   "source": [
    "Портрет отточного клиента:\n",
    "* Средний балл кредитного скоринга 868. \n",
    "* Средний возраст клиента 39 лет.\n",
    "* Средняя оценка собственности 4 балла.\n",
    "* Среднее значение баланса 857 тыс. рублей.\n",
    "* В среднем клиент владеет 2 продуктами.\n",
    "* У него есть кредитная карта.\n",
    "* Клиент был активен в последнее время.\n",
    "* Средняя ЗП равна 129176 руб.\n",
    "* Клиент из Ярославля.\n",
    "* Клиент мужчина."
   ]
  },
  {
   "cell_type": "markdown",
   "id": "74306e9f",
   "metadata": {},
   "source": [
    "Портрет не отточного клиента:\n",
    "* Средний балл кредитного скоринга 826. \n",
    "* Средний возраст клиента 44 года.\n",
    "* Средняя оценка собственности 3 балла.\n",
    "* Среднее значение баланса 569 тыс. рублей.\n",
    "* В среднем клиент владеет 2 продуктами.\n",
    "* У него есть кредитная карта.\n",
    "* Клиент не был активен в последнее время.\n",
    "* Средняя ЗП равна 106 065 руб.\n",
    "* Клиент из Ярославля.\n",
    "* Клиент женщина."
   ]
  },
  {
   "cell_type": "markdown",
   "id": "6652319a",
   "metadata": {},
   "source": [
    "На основе данных исследовательского анализа, анализа средних медиан, матрицы корреляций выделим стратегические признаки, влияющие на отток."
   ]
  },
  {
   "cell_type": "markdown",
   "id": "91bb7f28",
   "metadata": {},
   "source": [
    "К стратегическим признакам, влияющим на отток относятся:\n",
    "* Средний балл кредитного скоринга - видна разница в средних у отточных и не отточных клиентов(около 5%), самый высокий коэффициент корреляции (0,3). Кроме того, по результатам исследовательского анализа видно, что к оттоку склонны клиенты с высокими баллами кредитного скоринга (от 850 до 950 баллов). Проверка гипотезы подтвердила различия в выборках.    \n",
    "* Активность - являтся различным у отточных и не отточных клиентов, высокий коэффициент корреляции (0,27). По результатам исследовательского анализа установлено, что к оттоку склонна большая часть клиентов, которые были активны в последнее время. Проверка гипотезы подтвердила различия в выборках. \n",
    "* Баланс - существенное различие средних балансов у отточных и не отточных клиентов, высокий коэффициент корреляции (0,24).\n",
    "* ЗП - существенное различие средних ЗП у отточных и не отточных клиентов,  коэффициент корреляции (0,14). Проверка гипотезы подтвердила различия в выборках. \n",
    "* Также к стратегическим признакам отнесем пол - получили различия по портретам. По результатам исследовательского анализа видно, что чаще подвержены оттоку мужчины. \n",
    "* Возраст - получили различия по портретам. По результатам исследовательского анализа видно, что чаще подвержены оттоку молодые люди. \n",
    "    "
   ]
  },
  {
   "cell_type": "markdown",
   "id": "aa6928b7",
   "metadata": {},
   "source": [
    "Деление стратегически важных численных признаков на интервальные категории в соответствии с уровнем оттока. "
   ]
  },
  {
   "cell_type": "markdown",
   "id": "3954e6dc",
   "metadata": {},
   "source": [
    "К численным стратегическим признакам относятся: средний балл кредитного скоринга, баланс, ЗП, возраст."
   ]
  },
  {
   "cell_type": "code",
   "execution_count": 149,
   "id": "9e0b1288",
   "metadata": {},
   "outputs": [
    {
     "data": {
      "text/plain": [
       "<AxesSubplot:xlabel='score', ylabel='Count'>"
      ]
     },
     "execution_count": 149,
     "metadata": {},
     "output_type": "execute_result"
    },
    {
     "data": {
      "image/png": "[encoded data removed]",
      "text/plain": [
       "<Figure size 432x288 with 1 Axes>"
      ]
     },
     "metadata": {
      "needs_background": "light"
     },
     "output_type": "display_data"
    }
   ],
   "source": [
    "#Датасет\n",
    "df_churn_1 = final_df[final_df['churn'] == 1]\n",
    "#Cредний балл кредитного скоринга\n",
    "sns.histplot(data =df_churn_1, x =\"score\", binwidth=20)"
   ]
  },
  {
   "cell_type": "code",
   "execution_count": 40,
   "id": "585ad351",
   "metadata": {},
   "outputs": [
    {
     "name": "stdout",
     "output_type": "stream",
     "text": [
      "Минимальное значение в столбце score - 689.0\n",
      "Максимальное значение в столбце score - 961.0\n"
     ]
    }
   ],
   "source": [
    "#Минимальное и макcимальное значение в score\n",
    "min_score = df_churn_1['score'].min()\n",
    "print(f\"Минимальное значение в столбце score - {min_score}\")\n",
    "max_score = df_churn_1['score'].max()\n",
    "print(f\"Максимальное значение в столбце score - {max_score}\")"
   ]
  },
  {
   "cell_type": "markdown",
   "id": "f022e9e3",
   "metadata": {},
   "source": [
    "Выделим интервальные категории, связанные с оттоком по баллам кредитного скоринга:\n",
    "* Наибольший отток (count выше 100) наблюдается у группы клиентов с баллами кредитного скоринга 850-920.\n",
    "* Средние значения оттока (count от 50 до 100) у группы клиентов с баллами кредитного скоринга 830-850 и 920-940.\n",
    "* Наименьшие значения оттока (count до 50) у группы клиентов с баллами от 689 до 830 и от 940 до 961."
   ]
  },
  {
   "cell_type": "code",
   "execution_count": 41,
   "id": "4b901f5c",
   "metadata": {},
   "outputs": [
    {
     "data": {
      "text/plain": [
       "<AxesSubplot:xlabel='balance', ylabel='Count'>"
      ]
     },
     "execution_count": 41,
     "metadata": {},
     "output_type": "execute_result"
    },
    {
     "data": {
      "image/png": "[encoded data removed]",
      "text/plain": [
       "<Figure size 432x288 with 1 Axes>"
      ]
     },
     "metadata": {
      "needs_background": "light"
     },
     "output_type": "display_data"
    }
   ],
   "source": [
    "#Баланс\n",
    "sns.histplot(data =df_churn_1, x =\"balance\")"
   ]
  },
  {
   "cell_type": "code",
   "execution_count": 43,
   "id": "b58efb80",
   "metadata": {},
   "outputs": [
    {
     "name": "stdout",
     "output_type": "stream",
     "text": [
      "Минимальное значение в столбце balance - 8155.48\n",
      "Максимальное значение в столбце balance - 1990994.07\n"
     ]
    }
   ],
   "source": [
    "#Минимальное и макимальное значение в balance\n",
    "min_balance = df_churn_1['balance'].min()\n",
    "print(f\"Минимальное значение в столбце balance - {min_balance}\")\n",
    "max_balance = df_churn_1['balance'].max()\n",
    "print(f\"Максимальное значение в столбце balance - {max_balance}\")"
   ]
  },
  {
   "cell_type": "markdown",
   "id": "a8e90e10",
   "metadata": {},
   "source": [
    "Выделим интервальные категории, связанные с балансом:\n",
    "* Наибольший отток (count выше 100) наблюдается у группы клиентов с балансом  250-600тыс.\n",
    "* Средние значения оттока (count от 50 до 100) у группы клиентов с балансом 0-250тыс и 600-1,5млн.\n",
    "* Наименьшие значения оттока (count до 50) у группы клиентов с балансом 1,5- 2млн."
   ]
  },
  {
   "cell_type": "code",
   "execution_count": 44,
   "id": "bbd3e52f",
   "metadata": {},
   "outputs": [
    {
     "data": {
      "text/plain": [
       "<AxesSubplot:xlabel='salary', ylabel='Count'>"
      ]
     },
     "execution_count": 44,
     "metadata": {},
     "output_type": "execute_result"
    },
    {
     "data": {
      "image/png": "[encoded data removed]",
      "text/plain": [
       "<Figure size 432x288 with 1 Axes>"
      ]
     },
     "metadata": {
      "needs_background": "light"
     },
     "output_type": "display_data"
    }
   ],
   "source": [
    "#ЗП\n",
    "sns.histplot(data =df_churn_1, x =\"salary\")"
   ]
  },
  {
   "cell_type": "code",
   "execution_count": 47,
   "id": "199e70a5",
   "metadata": {},
   "outputs": [
    {
     "name": "stdout",
     "output_type": "stream",
     "text": [
      "Минимальное значение в столбце salary - 14288.02\n",
      "Максимальное значение в столбце balance - 319714.04\n"
     ]
    }
   ],
   "source": [
    "#Минимальное и макимальное значение в salary\n",
    "min_salary = df_churn_1['salary'].min()\n",
    "print(f\"Минимальное значение в столбце salary - {min_salary}\")\n",
    "max_salary = df_churn_1['salary'].max()\n",
    "print(f\"Максимальное значение в столбце balance - {max_salary}\")"
   ]
  },
  {
   "cell_type": "markdown",
   "id": "b47bf73d",
   "metadata": {},
   "source": [
    "Выделим интервальные категории, связанные с ЗП:\n",
    "\n",
    "* Наибольший отток (count выше 80) наблюдается у группы клиентов с ЗП 75-150тыс.\n",
    "* Средние значения оттока (count от 30 до 80) у группы клиентов с ЗП 30-75тыс и 150-210тыс.\n",
    "* Наименьшие значения оттока (count до 30) у группы клиентов с ЗП 14-30тыс. и 210 - 320тыс."
   ]
  },
  {
   "cell_type": "code",
   "execution_count": 130,
   "id": "d2981511",
   "metadata": {
    "scrolled": true
   },
   "outputs": [
    {
     "data": {
      "text/plain": [
       "<AxesSubplot:xlabel='age', ylabel='Count'>"
      ]
     },
     "execution_count": 130,
     "metadata": {},
     "output_type": "execute_result"
    },
    {
     "data": {
      "image/png": "[encoded data removed]",
      "text/plain": [
       "<Figure size 432x288 with 1 Axes>"
      ]
     },
     "metadata": {
      "needs_background": "light"
     },
     "output_type": "display_data"
    }
   ],
   "source": [
    "#Cредний возраст\n",
    "sns.histplot(data =df_churn_1, x =\"age\")"
   ]
  },
  {
   "cell_type": "code",
   "execution_count": 132,
   "id": "27c99205",
   "metadata": {},
   "outputs": [
    {
     "name": "stdout",
     "output_type": "stream",
     "text": [
      "Минимальное значение в столбце age - 18\n",
      "Максимальное значение в столбце age - 75\n"
     ]
    }
   ],
   "source": [
    "#Минимальное и макимальное значение в age\n",
    "min_age = df_churn_1['age'].min()\n",
    "print(f\"Минимальное значение в столбце age - {min_age}\")\n",
    "max_age = df_churn_1['age'].max()\n",
    "print(f\"Максимальное значение в столбце age - {max_age}\")"
   ]
  },
  {
   "cell_type": "markdown",
   "id": "5c6baa4b",
   "metadata": {},
   "source": [
    "Выделим интервальные категории, связанные с возрастом:\n",
    "\n",
    "* Наибольший отток (count выше 75) наблюдается у группы клиентов 25-45 лет\n",
    "* Средние значения оттока (count от 20 до 75) у группы клиентов 25-30 и 45-60.\n",
    "* Меньше всего отток (count до 20) у группы клиентов 18-25 и 60-75."
   ]
  },
  {
   "cell_type": "code",
   "execution_count": 194,
   "id": "d8f137b5",
   "metadata": {},
   "outputs": [
    {
     "name": "stdout",
     "output_type": "stream",
     "text": [
      "Среднее значение сhurn в финальном датасете 0.15\n",
      "Всего строк в финальном датасете 7184\n"
     ]
    }
   ],
   "source": [
    "#Среднее значение churn в финальном датасете\n",
    "print(f\"Среднее значение сhurn в финальном датасете {round(final_df['churn'].mean(),2)}\")\n",
    "print(f\"Всего строк в финальном датасете {len(final_df)}\") "
   ]
  },
  {
   "cell_type": "markdown",
   "id": "ff27688c",
   "metadata": {},
   "source": [
    "Путем множественного перебора стратегических признаков, выделим следующие сегменты, которые наиболее важны для банка (с высоким уровнем оттока)\n",
    "\n",
    "1. Активные клиенты с высокими баллами скоринга:"
   ]
  },
  {
   "cell_type": "code",
   "execution_count": 281,
   "id": "2d8bb190",
   "metadata": {},
   "outputs": [
    {
     "name": "stdout",
     "output_type": "stream",
     "text": [
      "Величига сегмента 1071 строка\n",
      "Среднее значение сhurn 0.55\n"
     ]
    }
   ],
   "source": [
    "#Выделим сегмент \n",
    "df_1_churn = final_df.loc[\n",
    "(final_df['score'] < 920) & (final_df['score'] > 850)                         \n",
    "& (final_df['last_activity'] == 1) \n",
    "]                          \n",
    "print(f\"Величига сегмента {len(df_1_churn)} строка\")        \n",
    "print(f\"Среднее значение сhurn {round(df_1_churn['churn'].mean(),2)}\")"
   ]
  },
  {
   "cell_type": "code",
   "execution_count": 282,
   "id": "fba6fd4b",
   "metadata": {},
   "outputs": [
    {
     "data": {
      "text/html": [
       "<div>\n",
       "<style scoped>\n",
       "    .dataframe tbody tr th:only-of-type {\n",
       "        vertical-align: middle;\n",
       "    }\n",
       "\n",
       "    .dataframe tbody tr th {\n",
       "        vertical-align: top;\n",
       "    }\n",
       "\n",
       "    .dataframe thead th {\n",
       "        text-align: right;\n",
       "    }\n",
       "</style>\n",
       "<table border=\"1\" class=\"dataframe\">\n",
       "  <thead>\n",
       "    <tr style=\"text-align: right;\">\n",
       "      <th></th>\n",
       "      <th>userid</th>\n",
       "      <th>score</th>\n",
       "      <th>age</th>\n",
       "      <th>equity</th>\n",
       "      <th>balance</th>\n",
       "      <th>products</th>\n",
       "      <th>credit_card</th>\n",
       "      <th>last_activity</th>\n",
       "      <th>salary</th>\n",
       "      <th>churn</th>\n",
       "      <th>city_rostov</th>\n",
       "      <th>city_rybinsk</th>\n",
       "      <th>city_yaroslavl</th>\n",
       "      <th>female</th>\n",
       "      <th>male</th>\n",
       "    </tr>\n",
       "  </thead>\n",
       "  <tbody>\n",
       "    <tr>\n",
       "      <th>count</th>\n",
       "      <td>1071.000000</td>\n",
       "      <td>1071.000000</td>\n",
       "      <td>1071.000000</td>\n",
       "      <td>1071.000000</td>\n",
       "      <td>1.071000e+03</td>\n",
       "      <td>1071.000000</td>\n",
       "      <td>1071.000000</td>\n",
       "      <td>1071.0</td>\n",
       "      <td>1071.000000</td>\n",
       "      <td>1071.000000</td>\n",
       "      <td>1071.000000</td>\n",
       "      <td>1071.000000</td>\n",
       "      <td>1071.000000</td>\n",
       "      <td>1071.000000</td>\n",
       "      <td>1071.000000</td>\n",
       "    </tr>\n",
       "    <tr>\n",
       "      <th>mean</th>\n",
       "      <td>155099.473389</td>\n",
       "      <td>878.944911</td>\n",
       "      <td>42.518207</td>\n",
       "      <td>4.068161</td>\n",
       "      <td>7.878730e+05</td>\n",
       "      <td>2.352007</td>\n",
       "      <td>0.677871</td>\n",
       "      <td>1.0</td>\n",
       "      <td>115207.725191</td>\n",
       "      <td>0.553688</td>\n",
       "      <td>0.129785</td>\n",
       "      <td>0.366947</td>\n",
       "      <td>0.503268</td>\n",
       "      <td>0.582633</td>\n",
       "      <td>0.417367</td>\n",
       "    </tr>\n",
       "    <tr>\n",
       "      <th>std</th>\n",
       "      <td>69324.566796</td>\n",
       "      <td>18.848777</td>\n",
       "      <td>13.662945</td>\n",
       "      <td>1.334665</td>\n",
       "      <td>4.431777e+05</td>\n",
       "      <td>0.769933</td>\n",
       "      <td>0.467510</td>\n",
       "      <td>0.0</td>\n",
       "      <td>58904.177699</td>\n",
       "      <td>0.497341</td>\n",
       "      <td>0.336224</td>\n",
       "      <td>0.482197</td>\n",
       "      <td>0.500223</td>\n",
       "      <td>0.493355</td>\n",
       "      <td>0.493355</td>\n",
       "    </tr>\n",
       "    <tr>\n",
       "      <th>min</th>\n",
       "      <td>3450.000000</td>\n",
       "      <td>851.000000</td>\n",
       "      <td>18.000000</td>\n",
       "      <td>0.000000</td>\n",
       "      <td>8.126880e+03</td>\n",
       "      <td>1.000000</td>\n",
       "      <td>0.000000</td>\n",
       "      <td>1.0</td>\n",
       "      <td>8587.790000</td>\n",
       "      <td>0.000000</td>\n",
       "      <td>0.000000</td>\n",
       "      <td>0.000000</td>\n",
       "      <td>0.000000</td>\n",
       "      <td>0.000000</td>\n",
       "      <td>0.000000</td>\n",
       "    </tr>\n",
       "    <tr>\n",
       "      <th>25%</th>\n",
       "      <td>100105.000000</td>\n",
       "      <td>863.000000</td>\n",
       "      <td>32.000000</td>\n",
       "      <td>3.000000</td>\n",
       "      <td>4.346189e+05</td>\n",
       "      <td>2.000000</td>\n",
       "      <td>0.000000</td>\n",
       "      <td>1.0</td>\n",
       "      <td>70923.265000</td>\n",
       "      <td>0.000000</td>\n",
       "      <td>0.000000</td>\n",
       "      <td>0.000000</td>\n",
       "      <td>0.000000</td>\n",
       "      <td>0.000000</td>\n",
       "      <td>0.000000</td>\n",
       "    </tr>\n",
       "    <tr>\n",
       "      <th>50%</th>\n",
       "      <td>160327.000000</td>\n",
       "      <td>877.000000</td>\n",
       "      <td>38.000000</td>\n",
       "      <td>4.000000</td>\n",
       "      <td>7.180664e+05</td>\n",
       "      <td>2.000000</td>\n",
       "      <td>1.000000</td>\n",
       "      <td>1.0</td>\n",
       "      <td>109597.890000</td>\n",
       "      <td>1.000000</td>\n",
       "      <td>0.000000</td>\n",
       "      <td>0.000000</td>\n",
       "      <td>1.000000</td>\n",
       "      <td>1.000000</td>\n",
       "      <td>0.000000</td>\n",
       "    </tr>\n",
       "    <tr>\n",
       "      <th>75%</th>\n",
       "      <td>216568.500000</td>\n",
       "      <td>894.000000</td>\n",
       "      <td>54.500000</td>\n",
       "      <td>5.000000</td>\n",
       "      <td>1.089883e+06</td>\n",
       "      <td>2.000000</td>\n",
       "      <td>1.000000</td>\n",
       "      <td>1.0</td>\n",
       "      <td>149291.635000</td>\n",
       "      <td>1.000000</td>\n",
       "      <td>0.000000</td>\n",
       "      <td>1.000000</td>\n",
       "      <td>1.000000</td>\n",
       "      <td>1.000000</td>\n",
       "      <td>1.000000</td>\n",
       "    </tr>\n",
       "    <tr>\n",
       "      <th>max</th>\n",
       "      <td>263963.000000</td>\n",
       "      <td>919.000000</td>\n",
       "      <td>76.000000</td>\n",
       "      <td>9.000000</td>\n",
       "      <td>1.990371e+06</td>\n",
       "      <td>5.000000</td>\n",
       "      <td>1.000000</td>\n",
       "      <td>1.0</td>\n",
       "      <td>319714.040000</td>\n",
       "      <td>1.000000</td>\n",
       "      <td>1.000000</td>\n",
       "      <td>1.000000</td>\n",
       "      <td>1.000000</td>\n",
       "      <td>1.000000</td>\n",
       "      <td>1.000000</td>\n",
       "    </tr>\n",
       "  </tbody>\n",
       "</table>\n",
       "</div>"
      ],
      "text/plain": [
       "              userid        score          age       equity       balance  \\\n",
       "count    1071.000000  1071.000000  1071.000000  1071.000000  1.071000e+03   \n",
       "mean   155099.473389   878.944911    42.518207     4.068161  7.878730e+05   \n",
       "std     69324.566796    18.848777    13.662945     1.334665  4.431777e+05   \n",
       "min      3450.000000   851.000000    18.000000     0.000000  8.126880e+03   \n",
       "25%    100105.000000   863.000000    32.000000     3.000000  4.346189e+05   \n",
       "50%    160327.000000   877.000000    38.000000     4.000000  7.180664e+05   \n",
       "75%    216568.500000   894.000000    54.500000     5.000000  1.089883e+06   \n",
       "max    263963.000000   919.000000    76.000000     9.000000  1.990371e+06   \n",
       "\n",
       "          products  credit_card  last_activity         salary        churn  \\\n",
       "count  1071.000000  1071.000000         1071.0    1071.000000  1071.000000   \n",
       "mean      2.352007     0.677871            1.0  115207.725191     0.553688   \n",
       "std       0.769933     0.467510            0.0   58904.177699     0.497341   \n",
       "min       1.000000     0.000000            1.0    8587.790000     0.000000   \n",
       "25%       2.000000     0.000000            1.0   70923.265000     0.000000   \n",
       "50%       2.000000     1.000000            1.0  109597.890000     1.000000   \n",
       "75%       2.000000     1.000000            1.0  149291.635000     1.000000   \n",
       "max       5.000000     1.000000            1.0  319714.040000     1.000000   \n",
       "\n",
       "       city_rostov  city_rybinsk  city_yaroslavl       female         male  \n",
       "count  1071.000000   1071.000000     1071.000000  1071.000000  1071.000000  \n",
       "mean      0.129785      0.366947        0.503268     0.582633     0.417367  \n",
       "std       0.336224      0.482197        0.500223     0.493355     0.493355  \n",
       "min       0.000000      0.000000        0.000000     0.000000     0.000000  \n",
       "25%       0.000000      0.000000        0.000000     0.000000     0.000000  \n",
       "50%       0.000000      0.000000        1.000000     1.000000     0.000000  \n",
       "75%       0.000000      1.000000        1.000000     1.000000     1.000000  \n",
       "max       1.000000      1.000000        1.000000     1.000000     1.000000  "
      ]
     },
     "execution_count": 282,
     "metadata": {},
     "output_type": "execute_result"
    }
   ],
   "source": [
    "df_1_churn.describe()"
   ]
  },
  {
   "cell_type": "code",
   "execution_count": 270,
   "id": "1c257bd7",
   "metadata": {},
   "outputs": [
    {
     "data": {
      "text/html": [
       "<div>\n",
       "<style scoped>\n",
       "    .dataframe tbody tr th:only-of-type {\n",
       "        vertical-align: middle;\n",
       "    }\n",
       "\n",
       "    .dataframe tbody tr th {\n",
       "        vertical-align: top;\n",
       "    }\n",
       "\n",
       "    .dataframe thead th {\n",
       "        text-align: right;\n",
       "    }\n",
       "</style>\n",
       "<table border=\"1\" class=\"dataframe\">\n",
       "  <thead>\n",
       "    <tr style=\"text-align: right;\">\n",
       "      <th></th>\n",
       "      <th>score</th>\n",
       "      <th>age</th>\n",
       "      <th>equity</th>\n",
       "      <th>balance</th>\n",
       "      <th>products</th>\n",
       "      <th>credit_card</th>\n",
       "      <th>last_activity</th>\n",
       "      <th>salary</th>\n",
       "      <th>city_rostov</th>\n",
       "      <th>city_rybinsk</th>\n",
       "      <th>city_yaroslavl</th>\n",
       "      <th>female</th>\n",
       "      <th>male</th>\n",
       "    </tr>\n",
       "    <tr>\n",
       "      <th>churn</th>\n",
       "      <th></th>\n",
       "      <th></th>\n",
       "      <th></th>\n",
       "      <th></th>\n",
       "      <th></th>\n",
       "      <th></th>\n",
       "      <th></th>\n",
       "      <th></th>\n",
       "      <th></th>\n",
       "      <th></th>\n",
       "      <th></th>\n",
       "      <th></th>\n",
       "      <th></th>\n",
       "    </tr>\n",
       "  </thead>\n",
       "  <tbody>\n",
       "    <tr>\n",
       "      <th>0</th>\n",
       "      <td>876.169456</td>\n",
       "      <td>48.077406</td>\n",
       "      <td>3.987448</td>\n",
       "      <td>672386.334916</td>\n",
       "      <td>2.433054</td>\n",
       "      <td>0.843096</td>\n",
       "      <td>1.0</td>\n",
       "      <td>93255.917992</td>\n",
       "      <td>0.123431</td>\n",
       "      <td>0.504184</td>\n",
       "      <td>0.372385</td>\n",
       "      <td>0.719665</td>\n",
       "      <td>0.280335</td>\n",
       "    </tr>\n",
       "    <tr>\n",
       "      <th>1</th>\n",
       "      <td>881.182125</td>\n",
       "      <td>38.037099</td>\n",
       "      <td>4.133221</td>\n",
       "      <td>880963.379730</td>\n",
       "      <td>2.286678</td>\n",
       "      <td>0.544688</td>\n",
       "      <td>1.0</td>\n",
       "      <td>132902.436560</td>\n",
       "      <td>0.134907</td>\n",
       "      <td>0.256324</td>\n",
       "      <td>0.608769</td>\n",
       "      <td>0.472175</td>\n",
       "      <td>0.527825</td>\n",
       "    </tr>\n",
       "  </tbody>\n",
       "</table>\n",
       "</div>"
      ],
      "text/plain": [
       "            score        age    equity        balance  products  credit_card  \\\n",
       "churn                                                                          \n",
       "0      876.169456  48.077406  3.987448  672386.334916  2.433054     0.843096   \n",
       "1      881.182125  38.037099  4.133221  880963.379730  2.286678     0.544688   \n",
       "\n",
       "       last_activity         salary  city_rostov  city_rybinsk  \\\n",
       "churn                                                            \n",
       "0                1.0   93255.917992     0.123431      0.504184   \n",
       "1                1.0  132902.436560     0.134907      0.256324   \n",
       "\n",
       "       city_yaroslavl    female      male  \n",
       "churn                                      \n",
       "0            0.372385  0.719665  0.280335  \n",
       "1            0.608769  0.472175  0.527825  "
      ]
     },
     "execution_count": 270,
     "metadata": {},
     "output_type": "execute_result"
    }
   ],
   "source": [
    "#Средние значения по оттоку\n",
    "df_1_churn.drop(['userid'], axis=1).groupby('churn').mean()"
   ]
  },
  {
   "cell_type": "markdown",
   "id": "5fa667f7",
   "metadata": {},
   "source": [
    "По результатам сегментации получен сегмент с высоким средним значением оттока 0,55 (выше среднего более чем в з раза). В данном сегменте все пользователи бвли активны и имеют баллы кредитного скоринга от 850 до 920 баллов.\n",
    "\n",
    "Среди отточных  преобладают мужчины из Ярославля с высокой средней ЗП 133 тыс. рублей, возрастом - 38 лет. У большинства есть кредитные карты.Клиенты позьзуются двумя продуктами. Средний балл оценки собственности - 4. Баланс около 880 тыс."
   ]
  },
  {
   "cell_type": "markdown",
   "id": "313115a9",
   "metadata": {},
   "source": [
    "Исходя из особенностей данного сегмента (прежде всего активность, высокие баллы кредитного скоринга, а также довольно высокими значениями ЗП, оценки собственности) можно дать следующие рекомендации по уменьшению оттока:\n",
    "* Так как данные клиенты являются ценными для банка (хорошие показатели ЗП, баланса и т.д) необходимо предлагать стимулы, такие как скидки и специальные предложения, тем клиентам, которые были идентифицированы как склонные к оттоку. Предложение стимулов и скидок широко рассматривается, как наиболее эффективная тактика сокращения оттока капитала. Так как можно сказать, что данные клиенты являются финансово устойчивыми, необходимо обратить внимание на такие банковские продукты как - инвестирование в акции, вложения в фонды.\n",
    "* Так как все клиенты сегмента являются активными, то есть часто взаимодействуют с банком, необходимо персонализировать сервис, обеспечить более качественное обслуживание клиентов.\n",
    "*  Так как большая часть отточных клиентов из Ярославля, необходимо увеличить количество рекламы, акций банка в городе (например предлагать вклады по более высоким процентам). Проверить работы местного менеджмента, возможно пплохое управление сказывается на работе филиалов в данном городе,  и как следствии приводит к неудвлетворенности клиентов.  "
   ]
  },
  {
   "cell_type": "markdown",
   "id": "cb9baed7",
   "metadata": {},
   "source": [
    "2. Сегмент сотоящий из мужчин возрастом 25-45 лет, активно пользующихся банком."
   ]
  },
  {
   "cell_type": "code",
   "execution_count": 278,
   "id": "493ec657",
   "metadata": {},
   "outputs": [
    {
     "name": "stdout",
     "output_type": "stream",
     "text": [
      "Величига сегмента 1088 строка\n",
      "Среднее значение сhurn 0.32\n"
     ]
    }
   ],
   "source": [
    "#Выделим еще один сегмент \n",
    "df_2_churn = final_df.loc[                  \n",
    "(final_df['male'] == 1)\n",
    "&(final_df['last_activity'] == 1)   \n",
    "& (final_df['age'] < 45) & (final_df['age'] > 25)                      \n",
    "]\n",
    "print(f\"Величига сегмента {len(df_2_churn)} строка\")        \n",
    "print(f\"Среднее значение сhurn {round(df_2_churn['churn'].mean(),2)}\")"
   ]
  },
  {
   "cell_type": "code",
   "execution_count": 279,
   "id": "49ca47b5",
   "metadata": {},
   "outputs": [
    {
     "data": {
      "text/html": [
       "<div>\n",
       "<style scoped>\n",
       "    .dataframe tbody tr th:only-of-type {\n",
       "        vertical-align: middle;\n",
       "    }\n",
       "\n",
       "    .dataframe tbody tr th {\n",
       "        vertical-align: top;\n",
       "    }\n",
       "\n",
       "    .dataframe thead th {\n",
       "        text-align: right;\n",
       "    }\n",
       "</style>\n",
       "<table border=\"1\" class=\"dataframe\">\n",
       "  <thead>\n",
       "    <tr style=\"text-align: right;\">\n",
       "      <th></th>\n",
       "      <th>userid</th>\n",
       "      <th>score</th>\n",
       "      <th>age</th>\n",
       "      <th>equity</th>\n",
       "      <th>balance</th>\n",
       "      <th>products</th>\n",
       "      <th>credit_card</th>\n",
       "      <th>last_activity</th>\n",
       "      <th>salary</th>\n",
       "      <th>churn</th>\n",
       "      <th>city_rostov</th>\n",
       "      <th>city_rybinsk</th>\n",
       "      <th>city_yaroslavl</th>\n",
       "      <th>female</th>\n",
       "      <th>male</th>\n",
       "    </tr>\n",
       "  </thead>\n",
       "  <tbody>\n",
       "    <tr>\n",
       "      <th>count</th>\n",
       "      <td>1088.000000</td>\n",
       "      <td>1088.000000</td>\n",
       "      <td>1088.000000</td>\n",
       "      <td>1088.000000</td>\n",
       "      <td>1.088000e+03</td>\n",
       "      <td>1088.000000</td>\n",
       "      <td>1088.000000</td>\n",
       "      <td>1088.0</td>\n",
       "      <td>1088.000000</td>\n",
       "      <td>1088.00000</td>\n",
       "      <td>1088.000000</td>\n",
       "      <td>1088.000000</td>\n",
       "      <td>1088.000000</td>\n",
       "      <td>1088.0</td>\n",
       "      <td>1088.0</td>\n",
       "    </tr>\n",
       "    <tr>\n",
       "      <th>mean</th>\n",
       "      <td>153982.750919</td>\n",
       "      <td>826.668199</td>\n",
       "      <td>34.755515</td>\n",
       "      <td>3.486213</td>\n",
       "      <td>6.120567e+05</td>\n",
       "      <td>2.307904</td>\n",
       "      <td>0.850184</td>\n",
       "      <td>1.0</td>\n",
       "      <td>117227.601875</td>\n",
       "      <td>0.32261</td>\n",
       "      <td>0.150735</td>\n",
       "      <td>0.304228</td>\n",
       "      <td>0.545037</td>\n",
       "      <td>0.0</td>\n",
       "      <td>1.0</td>\n",
       "    </tr>\n",
       "    <tr>\n",
       "      <th>std</th>\n",
       "      <td>68248.536947</td>\n",
       "      <td>50.505041</td>\n",
       "      <td>5.017262</td>\n",
       "      <td>1.594549</td>\n",
       "      <td>4.305108e+05</td>\n",
       "      <td>0.726583</td>\n",
       "      <td>0.357055</td>\n",
       "      <td>0.0</td>\n",
       "      <td>58416.670133</td>\n",
       "      <td>0.46769</td>\n",
       "      <td>0.357955</td>\n",
       "      <td>0.460291</td>\n",
       "      <td>0.498197</td>\n",
       "      <td>0.0</td>\n",
       "      <td>0.0</td>\n",
       "    </tr>\n",
       "    <tr>\n",
       "      <th>min</th>\n",
       "      <td>2229.000000</td>\n",
       "      <td>711.000000</td>\n",
       "      <td>26.000000</td>\n",
       "      <td>0.000000</td>\n",
       "      <td>1.467432e+04</td>\n",
       "      <td>1.000000</td>\n",
       "      <td>0.000000</td>\n",
       "      <td>1.0</td>\n",
       "      <td>9766.130000</td>\n",
       "      <td>0.00000</td>\n",
       "      <td>0.000000</td>\n",
       "      <td>0.000000</td>\n",
       "      <td>0.000000</td>\n",
       "      <td>0.0</td>\n",
       "      <td>1.0</td>\n",
       "    </tr>\n",
       "    <tr>\n",
       "      <th>25%</th>\n",
       "      <td>99781.750000</td>\n",
       "      <td>787.000000</td>\n",
       "      <td>31.000000</td>\n",
       "      <td>2.000000</td>\n",
       "      <td>2.644735e+05</td>\n",
       "      <td>2.000000</td>\n",
       "      <td>1.000000</td>\n",
       "      <td>1.0</td>\n",
       "      <td>73837.327500</td>\n",
       "      <td>0.00000</td>\n",
       "      <td>0.000000</td>\n",
       "      <td>0.000000</td>\n",
       "      <td>0.000000</td>\n",
       "      <td>0.0</td>\n",
       "      <td>1.0</td>\n",
       "    </tr>\n",
       "    <tr>\n",
       "      <th>50%</th>\n",
       "      <td>159493.000000</td>\n",
       "      <td>823.000000</td>\n",
       "      <td>35.000000</td>\n",
       "      <td>4.000000</td>\n",
       "      <td>4.902841e+05</td>\n",
       "      <td>2.000000</td>\n",
       "      <td>1.000000</td>\n",
       "      <td>1.0</td>\n",
       "      <td>110296.555000</td>\n",
       "      <td>0.00000</td>\n",
       "      <td>0.000000</td>\n",
       "      <td>0.000000</td>\n",
       "      <td>1.000000</td>\n",
       "      <td>0.0</td>\n",
       "      <td>1.0</td>\n",
       "    </tr>\n",
       "    <tr>\n",
       "      <th>75%</th>\n",
       "      <td>215573.250000</td>\n",
       "      <td>864.000000</td>\n",
       "      <td>39.000000</td>\n",
       "      <td>5.000000</td>\n",
       "      <td>8.808412e+05</td>\n",
       "      <td>2.000000</td>\n",
       "      <td>1.000000</td>\n",
       "      <td>1.0</td>\n",
       "      <td>152415.580000</td>\n",
       "      <td>1.00000</td>\n",
       "      <td>0.000000</td>\n",
       "      <td>1.000000</td>\n",
       "      <td>1.000000</td>\n",
       "      <td>0.0</td>\n",
       "      <td>1.0</td>\n",
       "    </tr>\n",
       "    <tr>\n",
       "      <th>max</th>\n",
       "      <td>263591.000000</td>\n",
       "      <td>952.000000</td>\n",
       "      <td>44.000000</td>\n",
       "      <td>9.000000</td>\n",
       "      <td>1.955521e+06</td>\n",
       "      <td>5.000000</td>\n",
       "      <td>1.000000</td>\n",
       "      <td>1.0</td>\n",
       "      <td>312656.560000</td>\n",
       "      <td>1.00000</td>\n",
       "      <td>1.000000</td>\n",
       "      <td>1.000000</td>\n",
       "      <td>1.000000</td>\n",
       "      <td>0.0</td>\n",
       "      <td>1.0</td>\n",
       "    </tr>\n",
       "  </tbody>\n",
       "</table>\n",
       "</div>"
      ],
      "text/plain": [
       "              userid        score          age       equity       balance  \\\n",
       "count    1088.000000  1088.000000  1088.000000  1088.000000  1.088000e+03   \n",
       "mean   153982.750919   826.668199    34.755515     3.486213  6.120567e+05   \n",
       "std     68248.536947    50.505041     5.017262     1.594549  4.305108e+05   \n",
       "min      2229.000000   711.000000    26.000000     0.000000  1.467432e+04   \n",
       "25%     99781.750000   787.000000    31.000000     2.000000  2.644735e+05   \n",
       "50%    159493.000000   823.000000    35.000000     4.000000  4.902841e+05   \n",
       "75%    215573.250000   864.000000    39.000000     5.000000  8.808412e+05   \n",
       "max    263591.000000   952.000000    44.000000     9.000000  1.955521e+06   \n",
       "\n",
       "          products  credit_card  last_activity         salary       churn  \\\n",
       "count  1088.000000  1088.000000         1088.0    1088.000000  1088.00000   \n",
       "mean      2.307904     0.850184            1.0  117227.601875     0.32261   \n",
       "std       0.726583     0.357055            0.0   58416.670133     0.46769   \n",
       "min       1.000000     0.000000            1.0    9766.130000     0.00000   \n",
       "25%       2.000000     1.000000            1.0   73837.327500     0.00000   \n",
       "50%       2.000000     1.000000            1.0  110296.555000     0.00000   \n",
       "75%       2.000000     1.000000            1.0  152415.580000     1.00000   \n",
       "max       5.000000     1.000000            1.0  312656.560000     1.00000   \n",
       "\n",
       "       city_rostov  city_rybinsk  city_yaroslavl  female    male  \n",
       "count  1088.000000   1088.000000     1088.000000  1088.0  1088.0  \n",
       "mean      0.150735      0.304228        0.545037     0.0     1.0  \n",
       "std       0.357955      0.460291        0.498197     0.0     0.0  \n",
       "min       0.000000      0.000000        0.000000     0.0     1.0  \n",
       "25%       0.000000      0.000000        0.000000     0.0     1.0  \n",
       "50%       0.000000      0.000000        1.000000     0.0     1.0  \n",
       "75%       0.000000      1.000000        1.000000     0.0     1.0  \n",
       "max       1.000000      1.000000        1.000000     0.0     1.0  "
      ]
     },
     "execution_count": 279,
     "metadata": {},
     "output_type": "execute_result"
    }
   ],
   "source": [
    "df_2_churn.describe()"
   ]
  },
  {
   "cell_type": "code",
   "execution_count": 275,
   "id": "4972aa5a",
   "metadata": {},
   "outputs": [
    {
     "data": {
      "text/html": [
       "<div>\n",
       "<style scoped>\n",
       "    .dataframe tbody tr th:only-of-type {\n",
       "        vertical-align: middle;\n",
       "    }\n",
       "\n",
       "    .dataframe tbody tr th {\n",
       "        vertical-align: top;\n",
       "    }\n",
       "\n",
       "    .dataframe thead th {\n",
       "        text-align: right;\n",
       "    }\n",
       "</style>\n",
       "<table border=\"1\" class=\"dataframe\">\n",
       "  <thead>\n",
       "    <tr style=\"text-align: right;\">\n",
       "      <th></th>\n",
       "      <th>score</th>\n",
       "      <th>age</th>\n",
       "      <th>equity</th>\n",
       "      <th>balance</th>\n",
       "      <th>products</th>\n",
       "      <th>credit_card</th>\n",
       "      <th>last_activity</th>\n",
       "      <th>salary</th>\n",
       "      <th>city_rostov</th>\n",
       "      <th>city_rybinsk</th>\n",
       "      <th>city_yaroslavl</th>\n",
       "      <th>female</th>\n",
       "      <th>male</th>\n",
       "    </tr>\n",
       "    <tr>\n",
       "      <th>churn</th>\n",
       "      <th></th>\n",
       "      <th></th>\n",
       "      <th></th>\n",
       "      <th></th>\n",
       "      <th></th>\n",
       "      <th></th>\n",
       "      <th></th>\n",
       "      <th></th>\n",
       "      <th></th>\n",
       "      <th></th>\n",
       "      <th></th>\n",
       "      <th></th>\n",
       "      <th></th>\n",
       "    </tr>\n",
       "  </thead>\n",
       "  <tbody>\n",
       "    <tr>\n",
       "      <th>0</th>\n",
       "      <td>803.215739</td>\n",
       "      <td>35.426052</td>\n",
       "      <td>3.195387</td>\n",
       "      <td>502321.942619</td>\n",
       "      <td>2.246947</td>\n",
       "      <td>0.919946</td>\n",
       "      <td>1.0</td>\n",
       "      <td>108821.743813</td>\n",
       "      <td>0.153324</td>\n",
       "      <td>0.310719</td>\n",
       "      <td>0.535957</td>\n",
       "      <td>0.0</td>\n",
       "      <td>1.0</td>\n",
       "    </tr>\n",
       "    <tr>\n",
       "      <th>1</th>\n",
       "      <td>875.911681</td>\n",
       "      <td>33.347578</td>\n",
       "      <td>4.096866</td>\n",
       "      <td>842468.495128</td>\n",
       "      <td>2.435897</td>\n",
       "      <td>0.703704</td>\n",
       "      <td>1.0</td>\n",
       "      <td>134877.508974</td>\n",
       "      <td>0.145299</td>\n",
       "      <td>0.290598</td>\n",
       "      <td>0.564103</td>\n",
       "      <td>0.0</td>\n",
       "      <td>1.0</td>\n",
       "    </tr>\n",
       "  </tbody>\n",
       "</table>\n",
       "</div>"
      ],
      "text/plain": [
       "            score        age    equity        balance  products  credit_card  \\\n",
       "churn                                                                          \n",
       "0      803.215739  35.426052  3.195387  502321.942619  2.246947     0.919946   \n",
       "1      875.911681  33.347578  4.096866  842468.495128  2.435897     0.703704   \n",
       "\n",
       "       last_activity         salary  city_rostov  city_rybinsk  \\\n",
       "churn                                                            \n",
       "0                1.0  108821.743813     0.153324      0.310719   \n",
       "1                1.0  134877.508974     0.145299      0.290598   \n",
       "\n",
       "       city_yaroslavl  female  male  \n",
       "churn                                \n",
       "0            0.535957     0.0   1.0  \n",
       "1            0.564103     0.0   1.0  "
      ]
     },
     "execution_count": 275,
     "metadata": {},
     "output_type": "execute_result"
    }
   ],
   "source": [
    "#Средние значения по оттоку\n",
    "df_2_churn.drop(['userid'], axis=1).groupby('churn').mean()"
   ]
  },
  {
   "cell_type": "markdown",
   "id": "3721d2f2",
   "metadata": {},
   "source": [
    "По результатам сегментации получен сегмент со  средним значением оттока 0,32 (больше среднего). В данном сегменте все пользователи бвли активны и имеют баллы кредитного скоринга от 850 до 920 баллов.\n",
    "\n",
    "Среди отточных  преобладают мужчины из Ярославля с высокой средней ЗП 134 тыс. рублей, возрастом - 33 года. У большинства есть кредитные карты.Клиенты позьзуются двумя продуктами. Средний балл оценки собственности - 4. Баланс около 840 тыс."
   ]
  },
  {
   "cell_type": "markdown",
   "id": "d94d7cd3",
   "metadata": {},
   "source": [
    "Исходя из особенностей данного сегмента (прежде всего это пол и возраст) можно дать следующие рекомендации по уменьшению оттока:\n",
    "* Так как данные клиенты являются мужчинами среднего возраста и активно пользуются банком нужно направить больше усилий на персональные предложения, разработать специальные банковские продукты для данной категории (например, проработать условия по автокредитам и более активно предлагать их клиентам данного сегмента).\n",
    "* Также, так как данные клиенты часто пользуются банком, необходимо развивать интернет-банкинг, предлагать больше банковских цифровых продуктов для более качетсвенного и быстрого обслуживания."
   ]
  },
  {
   "cell_type": "markdown",
   "id": "9ebcef7a",
   "metadata": {},
   "source": [
    "### Выводы"
   ]
  },
  {
   "cell_type": "markdown",
   "id": "6e2f2737",
   "metadata": {},
   "source": [
    "По результатам сегментации получен сегмент с высоким средним значением оттока 0,55 (выше среднего более чем в з раза). В данном сегменте все пользователи бвли активны и имеют баллы кредитного скоринга от 850 до 920 баллов.\n",
    "\n",
    "Среди отточных  преобладают мужчины из Ярославля с высокой средней ЗП 133 тыс. рублей, возрастом - 38 лет. У большинства есть кредитные карты. Клиенты позьзуются двумя продуктами. Средний балл оценки собственности - 4. Баланс около 880 тыс.\n",
    "\n",
    "Исходя из особенностей данного сегмента (прежде всего активность, высокие баллы кредитного скоринга, а также довольно высокими значениями ЗП, оценки собственности) можно дать следующие рекомендации по уменьшению оттока:\n",
    "* Так как данные клиенты являются ценными для банка (хорошие показатели ЗП, баланса и т.д) необходимо предлагать стимулы, такие как скидки и специальные предложения, тем клиентам, которые были идентифицированы как склонные к оттоку. Предложение стимулов и скидок широко рассматривается, как наиболее эффективная тактика сокращения оттока капитала. Так как можно сказать, что данные клиенты являются финансово устойчивыми, необходимо обратить внимание на такие банковские продукты как - инвестирование в акции, вложения в фонды.\n",
    "* Так как все клиенты сегмента являются активными, то есть часто взаимодействуют с банком, необходимо персонализировать сервис, обеспечить более качественное обслуживание клиентов.\n",
    "*  Так как большая часть отточных клиентов из Ярославля, необходимо увеличить количество рекламы, акций банка в городе. Проверить работы местного менеджмента, возможно пплохое управление сказывается на работе филиалов в данном городе,  и как следствии приводит к неудвлетворенности клиентов. "
   ]
  }
 ],
 "metadata": {
  "ExecuteTimeLog": [
   {
    "duration": 781,
    "start_time": "2022-03-08T14:16:46.017Z"
   },
   {
    "duration": 16,
    "start_time": "2022-03-08T14:20:15.418Z"
   },
   {
    "duration": 367,
    "start_time": "2022-03-08T14:40:19.559Z"
   },
   {
    "duration": 101,
    "start_time": "2022-03-08T14:41:29.842Z"
   },
   {
    "duration": 70,
    "start_time": "2022-03-08T14:42:28.051Z"
   },
   {
    "duration": 10,
    "start_time": "2022-03-08T14:46:38.177Z"
   },
   {
    "duration": 10,
    "start_time": "2022-03-08T14:47:33.173Z"
   },
   {
    "duration": 70,
    "start_time": "2022-03-08T14:47:41.709Z"
   },
   {
    "duration": 10,
    "start_time": "2022-03-08T14:47:47.254Z"
   },
   {
    "duration": 20,
    "start_time": "2022-03-08T14:51:35.710Z"
   },
   {
    "duration": 19,
    "start_time": "2022-03-08T14:54:01.919Z"
   },
   {
    "duration": 7,
    "start_time": "2022-03-08T14:54:24.151Z"
   },
   {
    "duration": 7,
    "start_time": "2022-03-08T15:08:24.450Z"
   },
   {
    "duration": 7,
    "start_time": "2022-03-08T15:10:57.122Z"
   },
   {
    "duration": 7,
    "start_time": "2022-03-08T15:12:36.278Z"
   },
   {
    "duration": 21,
    "start_time": "2022-03-08T15:12:48.580Z"
   },
   {
    "duration": 4,
    "start_time": "2022-03-08T15:20:21.132Z"
   },
   {
    "duration": 4,
    "start_time": "2022-03-08T15:20:28.035Z"
   },
   {
    "duration": 5,
    "start_time": "2022-03-08T15:20:40.869Z"
   },
   {
    "duration": 76,
    "start_time": "2022-03-08T15:22:36.995Z"
   },
   {
    "duration": 7,
    "start_time": "2022-03-08T15:23:28.205Z"
   },
   {
    "duration": 20,
    "start_time": "2022-03-08T15:23:39.365Z"
   },
   {
    "duration": 24,
    "start_time": "2022-03-08T15:24:06.367Z"
   },
   {
    "duration": 6,
    "start_time": "2022-03-08T15:24:58.661Z"
   },
   {
    "duration": 14,
    "start_time": "2022-03-08T15:28:30.328Z"
   },
   {
    "duration": 6,
    "start_time": "2022-03-08T15:28:39.436Z"
   },
   {
    "duration": 69,
    "start_time": "2022-03-08T15:41:03.503Z"
   },
   {
    "duration": 207,
    "start_time": "2022-03-08T15:41:17.924Z"
   },
   {
    "duration": 217,
    "start_time": "2022-03-08T15:41:40.737Z"
   },
   {
    "duration": 222,
    "start_time": "2022-03-08T15:41:50.249Z"
   },
   {
    "duration": 223,
    "start_time": "2022-03-08T15:47:37.637Z"
   },
   {
    "duration": 209,
    "start_time": "2022-03-08T15:48:47.642Z"
   },
   {
    "duration": 25,
    "start_time": "2022-03-08T15:57:38.835Z"
   },
   {
    "duration": 25,
    "start_time": "2022-03-08T15:58:42.756Z"
   },
   {
    "duration": 21,
    "start_time": "2022-03-08T15:58:48.360Z"
   },
   {
    "duration": 22,
    "start_time": "2022-03-08T15:59:19.224Z"
   },
   {
    "duration": 6,
    "start_time": "2022-03-08T15:59:21.123Z"
   },
   {
    "duration": 6,
    "start_time": "2022-03-08T15:59:25.513Z"
   },
   {
    "duration": 5,
    "start_time": "2022-03-08T15:59:30.648Z"
   },
   {
    "duration": 853,
    "start_time": "2022-03-08T15:59:48.646Z"
   },
   {
    "duration": 13,
    "start_time": "2022-03-08T15:59:49.502Z"
   },
   {
    "duration": 7,
    "start_time": "2022-03-08T15:59:49.518Z"
   },
   {
    "duration": 22,
    "start_time": "2022-03-08T15:59:49.528Z"
   },
   {
    "duration": 55,
    "start_time": "2022-03-08T15:59:49.553Z"
   },
   {
    "duration": 6,
    "start_time": "2022-03-08T15:59:49.611Z"
   },
   {
    "duration": 312,
    "start_time": "2022-03-08T16:01:52.037Z"
   },
   {
    "duration": 6,
    "start_time": "2022-03-08T16:01:54.217Z"
   },
   {
    "duration": 6,
    "start_time": "2022-03-08T16:01:57.904Z"
   },
   {
    "duration": 230,
    "start_time": "2022-03-08T16:02:03.827Z"
   },
   {
    "duration": 23,
    "start_time": "2022-03-08T16:02:54.634Z"
   },
   {
    "duration": 824,
    "start_time": "2022-03-08T16:03:13.401Z"
   },
   {
    "duration": 15,
    "start_time": "2022-03-08T16:03:14.228Z"
   },
   {
    "duration": 9,
    "start_time": "2022-03-08T16:03:14.246Z"
   },
   {
    "duration": 40,
    "start_time": "2022-03-08T16:03:14.257Z"
   },
   {
    "duration": 24,
    "start_time": "2022-03-08T16:03:14.300Z"
   },
   {
    "duration": 7,
    "start_time": "2022-03-08T16:03:14.327Z"
   },
   {
    "duration": 23,
    "start_time": "2022-03-08T16:03:54.266Z"
   },
   {
    "duration": 26,
    "start_time": "2022-03-08T16:04:37.848Z"
   },
   {
    "duration": -1131,
    "start_time": "2022-03-08T16:06:04.111Z"
   },
   {
    "duration": 806,
    "start_time": "2022-03-08T16:06:22.124Z"
   },
   {
    "duration": 15,
    "start_time": "2022-03-08T16:06:22.933Z"
   },
   {
    "duration": 10,
    "start_time": "2022-03-08T16:06:22.951Z"
   },
   {
    "duration": 38,
    "start_time": "2022-03-08T16:06:22.964Z"
   },
   {
    "duration": 3084,
    "start_time": "2022-03-08T16:06:23.004Z"
   },
   {
    "duration": -1095,
    "start_time": "2022-03-08T16:06:27.186Z"
   },
   {
    "duration": 20,
    "start_time": "2022-03-08T16:08:41.432Z"
   },
   {
    "duration": 5,
    "start_time": "2022-03-08T16:12:38.157Z"
   },
   {
    "duration": 9,
    "start_time": "2022-03-08T16:29:07.913Z"
   },
   {
    "duration": 69,
    "start_time": "2022-03-08T16:31:46.274Z"
   },
   {
    "duration": 72,
    "start_time": "2022-03-08T16:31:57.596Z"
   },
   {
    "duration": 66,
    "start_time": "2022-03-08T16:32:57.158Z"
   },
   {
    "duration": 73,
    "start_time": "2022-03-08T16:33:10.237Z"
   },
   {
    "duration": 83,
    "start_time": "2022-03-08T16:34:03.372Z"
   },
   {
    "duration": 69,
    "start_time": "2022-03-08T16:34:54.853Z"
   },
   {
    "duration": 8,
    "start_time": "2022-03-08T16:39:33.110Z"
   },
   {
    "duration": 6,
    "start_time": "2022-03-08T16:41:23.076Z"
   },
   {
    "duration": 11,
    "start_time": "2022-03-08T16:46:39.407Z"
   },
   {
    "duration": 10,
    "start_time": "2022-03-08T16:46:59.908Z"
   },
   {
    "duration": 11,
    "start_time": "2022-03-08T16:48:18.978Z"
   },
   {
    "duration": 11,
    "start_time": "2022-03-08T16:49:12.931Z"
   },
   {
    "duration": 9,
    "start_time": "2022-03-08T16:51:07.031Z"
   },
   {
    "duration": 20,
    "start_time": "2022-03-08T16:57:21.011Z"
   },
   {
    "duration": 8,
    "start_time": "2022-03-08T16:57:46.231Z"
   },
   {
    "duration": 9,
    "start_time": "2022-03-08T16:59:05.582Z"
   },
   {
    "duration": 4,
    "start_time": "2022-03-08T17:00:14.240Z"
   },
   {
    "duration": 3,
    "start_time": "2022-03-08T17:00:17.491Z"
   },
   {
    "duration": 14,
    "start_time": "2022-03-08T17:02:22.727Z"
   },
   {
    "duration": 21,
    "start_time": "2022-03-08T17:03:51.379Z"
   },
   {
    "duration": 4,
    "start_time": "2022-03-08T17:04:25.972Z"
   },
   {
    "duration": 12,
    "start_time": "2022-03-08T17:05:42.822Z"
   },
   {
    "duration": 11,
    "start_time": "2022-03-08T17:06:10.740Z"
   },
   {
    "duration": 813,
    "start_time": "2022-03-08T17:06:25.960Z"
   },
   {
    "duration": 18,
    "start_time": "2022-03-08T17:06:26.776Z"
   },
   {
    "duration": 10,
    "start_time": "2022-03-08T17:06:26.797Z"
   },
   {
    "duration": 19,
    "start_time": "2022-03-08T17:06:26.810Z"
   },
   {
    "duration": 9,
    "start_time": "2022-03-08T17:06:26.831Z"
   },
   {
    "duration": 52,
    "start_time": "2022-03-08T17:06:26.843Z"
   },
   {
    "duration": 21,
    "start_time": "2022-03-08T17:07:11.530Z"
   },
   {
    "duration": 5668,
    "start_time": "2022-03-08T17:09:00.285Z"
   },
   {
    "duration": 5892,
    "start_time": "2022-03-08T17:09:57.846Z"
   },
   {
    "duration": -1098,
    "start_time": "2022-03-08T17:10:14.275Z"
   },
   {
    "duration": 21,
    "start_time": "2022-03-08T17:10:46.829Z"
   },
   {
    "duration": 21,
    "start_time": "2022-03-08T17:10:55.601Z"
   },
   {
    "duration": 819,
    "start_time": "2022-03-08T17:11:13.782Z"
   },
   {
    "duration": 14,
    "start_time": "2022-03-08T17:11:14.604Z"
   },
   {
    "duration": 11,
    "start_time": "2022-03-08T17:11:14.621Z"
   },
   {
    "duration": 19,
    "start_time": "2022-03-08T17:11:14.634Z"
   },
   {
    "duration": 35,
    "start_time": "2022-03-08T17:11:14.656Z"
   },
   {
    "duration": 12,
    "start_time": "2022-03-08T17:11:14.694Z"
   },
   {
    "duration": 21,
    "start_time": "2022-03-08T17:11:14.708Z"
   },
   {
    "duration": 5334,
    "start_time": "2022-03-08T17:11:14.732Z"
   },
   {
    "duration": 21,
    "start_time": "2022-03-08T17:11:20.354Z"
   },
   {
    "duration": 6,
    "start_time": "2022-03-08T17:12:00.284Z"
   },
   {
    "duration": 13,
    "start_time": "2022-03-08T17:12:04.898Z"
   },
   {
    "duration": 64,
    "start_time": "2022-03-08T17:12:27.576Z"
   },
   {
    "duration": 12,
    "start_time": "2022-03-08T17:12:28.164Z"
   },
   {
    "duration": 76,
    "start_time": "2022-03-08T17:12:55.133Z"
   },
   {
    "duration": 333,
    "start_time": "2022-03-10T14:47:34.035Z"
   },
   {
    "duration": 261,
    "start_time": "2022-03-10T14:47:47.273Z"
   },
   {
    "duration": 843,
    "start_time": "2022-03-10T14:47:55.411Z"
   },
   {
    "duration": 27,
    "start_time": "2022-03-10T14:47:56.258Z"
   },
   {
    "duration": 140,
    "start_time": "2022-03-10T14:47:56.288Z"
   },
   {
    "duration": 225,
    "start_time": "2022-03-10T14:47:56.430Z"
   },
   {
    "duration": 180,
    "start_time": "2022-03-10T14:47:56.657Z"
   },
   {
    "duration": 207,
    "start_time": "2022-03-10T14:47:56.840Z"
   },
   {
    "duration": 225,
    "start_time": "2022-03-10T14:47:57.050Z"
   },
   {
    "duration": 192,
    "start_time": "2022-03-10T14:47:57.278Z"
   },
   {
    "duration": 173,
    "start_time": "2022-03-10T14:47:57.472Z"
   },
   {
    "duration": 160,
    "start_time": "2022-03-10T14:47:57.647Z"
   },
   {
    "duration": 12,
    "start_time": "2022-03-10T14:48:28.160Z"
   },
   {
    "duration": 13,
    "start_time": "2022-03-10T14:48:38.580Z"
   },
   {
    "duration": 13,
    "start_time": "2022-03-10T14:48:44.070Z"
   },
   {
    "duration": 6,
    "start_time": "2022-03-10T14:48:52.949Z"
   },
   {
    "duration": 12,
    "start_time": "2022-03-10T14:48:53.628Z"
   },
   {
    "duration": 12,
    "start_time": "2022-03-10T14:48:56.619Z"
   },
   {
    "duration": 817,
    "start_time": "2022-03-10T14:49:08.106Z"
   },
   {
    "duration": 16,
    "start_time": "2022-03-10T14:49:08.927Z"
   },
   {
    "duration": 230,
    "start_time": "2022-03-10T14:49:08.946Z"
   },
   {
    "duration": 322,
    "start_time": "2022-03-10T14:49:09.179Z"
   },
   {
    "duration": 572,
    "start_time": "2022-03-10T14:49:09.504Z"
   },
   {
    "duration": 272,
    "start_time": "2022-03-10T14:49:10.079Z"
   },
   {
    "duration": 313,
    "start_time": "2022-03-10T14:49:10.353Z"
   },
   {
    "duration": 330,
    "start_time": "2022-03-10T14:49:10.671Z"
   },
   {
    "duration": 274,
    "start_time": "2022-03-10T14:49:11.004Z"
   },
   {
    "duration": 426,
    "start_time": "2022-03-10T14:49:11.281Z"
   },
   {
    "duration": 15,
    "start_time": "2022-03-10T14:52:18.700Z"
   },
   {
    "duration": 18,
    "start_time": "2022-03-10T15:00:26.660Z"
   },
   {
    "duration": 338,
    "start_time": "2022-03-10T15:05:45.661Z"
   },
   {
    "duration": 5,
    "start_time": "2022-03-10T15:05:53.557Z"
   },
   {
    "duration": 17,
    "start_time": "2022-03-10T15:06:02.077Z"
   },
   {
    "duration": 20,
    "start_time": "2022-03-10T15:06:57.194Z"
   },
   {
    "duration": 6,
    "start_time": "2022-03-10T15:08:52.859Z"
   },
   {
    "duration": 16,
    "start_time": "2022-03-10T15:08:55.255Z"
   },
   {
    "duration": 3337,
    "start_time": "2022-03-10T15:09:34.694Z"
   },
   {
    "duration": -1353,
    "start_time": "2022-03-10T15:09:39.387Z"
   },
   {
    "duration": 314,
    "start_time": "2022-03-10T15:10:15.412Z"
   },
   {
    "duration": 303,
    "start_time": "2022-03-10T15:10:39.727Z"
   },
   {
    "duration": 6,
    "start_time": "2022-03-10T15:10:56.917Z"
   },
   {
    "duration": 15,
    "start_time": "2022-03-10T15:10:58.768Z"
   },
   {
    "duration": 379,
    "start_time": "2022-03-10T15:18:55.998Z"
   },
   {
    "duration": 15,
    "start_time": "2022-03-10T15:19:16.855Z"
   },
   {
    "duration": 7,
    "start_time": "2022-03-10T15:23:03.304Z"
   },
   {
    "duration": 10,
    "start_time": "2022-03-10T15:26:35.493Z"
   },
   {
    "duration": 7,
    "start_time": "2022-03-10T15:26:55.577Z"
   },
   {
    "duration": 9,
    "start_time": "2022-03-10T15:27:05.042Z"
   },
   {
    "duration": 7,
    "start_time": "2022-03-10T15:27:45.069Z"
   },
   {
    "duration": 8,
    "start_time": "2022-03-10T15:27:58.554Z"
   },
   {
    "duration": 8,
    "start_time": "2022-03-10T15:28:17.390Z"
   },
   {
    "duration": 9,
    "start_time": "2022-03-10T15:28:50.142Z"
   },
   {
    "duration": 24,
    "start_time": "2022-03-10T15:36:05.177Z"
   },
   {
    "duration": 26,
    "start_time": "2022-03-10T15:36:33.761Z"
   },
   {
    "duration": 21,
    "start_time": "2022-03-10T15:37:03.561Z"
   },
   {
    "duration": 31,
    "start_time": "2022-03-10T15:37:54.265Z"
   },
   {
    "duration": 26,
    "start_time": "2022-03-10T15:39:36.364Z"
   },
   {
    "duration": 28,
    "start_time": "2022-03-10T15:39:41.766Z"
   },
   {
    "duration": 8,
    "start_time": "2022-03-10T15:40:17.338Z"
   },
   {
    "duration": 7,
    "start_time": "2022-03-10T15:41:05.063Z"
   },
   {
    "duration": 7,
    "start_time": "2022-03-10T15:41:06.331Z"
   },
   {
    "duration": 6,
    "start_time": "2022-03-10T15:46:15.014Z"
   },
   {
    "duration": 8,
    "start_time": "2022-03-10T15:46:45.911Z"
   },
   {
    "duration": 881,
    "start_time": "2022-03-10T15:47:00.035Z"
   },
   {
    "duration": 18,
    "start_time": "2022-03-10T15:47:00.919Z"
   },
   {
    "duration": 9,
    "start_time": "2022-03-10T15:47:00.941Z"
   },
   {
    "duration": 48,
    "start_time": "2022-03-10T15:47:00.953Z"
   },
   {
    "duration": 12,
    "start_time": "2022-03-10T15:47:01.003Z"
   },
   {
    "duration": 46,
    "start_time": "2022-03-10T15:47:01.017Z"
   },
   {
    "duration": 30,
    "start_time": "2022-03-10T15:47:01.066Z"
   },
   {
    "duration": 6,
    "start_time": "2022-03-10T15:47:01.099Z"
   },
   {
    "duration": 28,
    "start_time": "2022-03-10T15:47:01.108Z"
   },
   {
    "duration": 11,
    "start_time": "2022-03-10T15:47:01.138Z"
   },
   {
    "duration": 8,
    "start_time": "2022-03-10T15:47:01.152Z"
   },
   {
    "duration": 30,
    "start_time": "2022-03-10T15:47:01.162Z"
   },
   {
    "duration": 32,
    "start_time": "2022-03-10T15:47:01.195Z"
   },
   {
    "duration": 31,
    "start_time": "2022-03-10T15:47:01.230Z"
   },
   {
    "duration": 34,
    "start_time": "2022-03-10T15:47:01.263Z"
   },
   {
    "duration": 8,
    "start_time": "2022-03-10T15:49:06.839Z"
   },
   {
    "duration": 8,
    "start_time": "2022-03-10T15:50:31.884Z"
   },
   {
    "duration": 9,
    "start_time": "2022-03-10T15:50:48.298Z"
   },
   {
    "duration": 15,
    "start_time": "2022-03-10T15:51:15.404Z"
   },
   {
    "duration": 10,
    "start_time": "2022-03-10T15:51:30.976Z"
   },
   {
    "duration": 10,
    "start_time": "2022-03-10T15:51:40.951Z"
   },
   {
    "duration": 7,
    "start_time": "2022-03-10T15:51:57.229Z"
   },
   {
    "duration": 9,
    "start_time": "2022-03-10T15:52:06.784Z"
   },
   {
    "duration": 8,
    "start_time": "2022-03-10T15:52:36.399Z"
   },
   {
    "duration": 9,
    "start_time": "2022-03-10T15:52:47.456Z"
   },
   {
    "duration": 7,
    "start_time": "2022-03-10T15:52:59.560Z"
   },
   {
    "duration": 7314,
    "start_time": "2022-03-10T15:53:11.689Z"
   },
   {
    "duration": 6,
    "start_time": "2022-03-10T15:53:24.660Z"
   },
   {
    "duration": 9,
    "start_time": "2022-03-10T15:53:40.693Z"
   },
   {
    "duration": 9,
    "start_time": "2022-03-10T15:53:53.078Z"
   },
   {
    "duration": 7,
    "start_time": "2022-03-10T15:54:15.574Z"
   },
   {
    "duration": 5,
    "start_time": "2022-03-10T15:54:21.209Z"
   },
   {
    "duration": 9,
    "start_time": "2022-03-10T15:54:47.937Z"
   },
   {
    "duration": 9,
    "start_time": "2022-03-10T15:57:38.626Z"
   },
   {
    "duration": 268,
    "start_time": "2022-03-10T16:01:15.424Z"
   },
   {
    "duration": 13,
    "start_time": "2022-03-10T16:01:26.794Z"
   },
   {
    "duration": 13,
    "start_time": "2022-03-10T16:02:33.312Z"
   },
   {
    "duration": 12,
    "start_time": "2022-03-10T16:03:04.611Z"
   },
   {
    "duration": 7,
    "start_time": "2022-03-10T16:09:22.035Z"
   },
   {
    "duration": 759,
    "start_time": "2022-03-10T16:09:35.838Z"
   },
   {
    "duration": 15,
    "start_time": "2022-03-10T16:09:36.600Z"
   },
   {
    "duration": 9,
    "start_time": "2022-03-10T16:09:36.619Z"
   },
   {
    "duration": 55,
    "start_time": "2022-03-10T16:09:36.630Z"
   },
   {
    "duration": 6,
    "start_time": "2022-03-10T16:09:36.688Z"
   },
   {
    "duration": 17,
    "start_time": "2022-03-10T16:09:36.697Z"
   },
   {
    "duration": 19,
    "start_time": "2022-03-10T16:09:36.717Z"
   },
   {
    "duration": 6,
    "start_time": "2022-03-10T16:09:36.738Z"
   },
   {
    "duration": 44,
    "start_time": "2022-03-10T16:09:36.747Z"
   },
   {
    "duration": 8,
    "start_time": "2022-03-10T16:09:36.794Z"
   },
   {
    "duration": 10,
    "start_time": "2022-03-10T16:09:36.805Z"
   },
   {
    "duration": 11,
    "start_time": "2022-03-10T16:09:36.817Z"
   },
   {
    "duration": 15,
    "start_time": "2022-03-10T16:09:36.830Z"
   },
   {
    "duration": 35,
    "start_time": "2022-03-10T16:09:36.847Z"
   },
   {
    "duration": 21,
    "start_time": "2022-03-10T16:09:36.885Z"
   },
   {
    "duration": 14,
    "start_time": "2022-03-10T16:09:36.908Z"
   },
   {
    "duration": 27,
    "start_time": "2022-03-10T16:09:36.924Z"
   },
   {
    "duration": 47,
    "start_time": "2022-03-10T16:09:36.954Z"
   },
   {
    "duration": 18,
    "start_time": "2022-03-10T16:10:10.130Z"
   },
   {
    "duration": 9,
    "start_time": "2022-03-10T16:13:21.897Z"
   },
   {
    "duration": 786,
    "start_time": "2022-03-10T16:13:46.401Z"
   },
   {
    "duration": 15,
    "start_time": "2022-03-10T16:13:47.190Z"
   },
   {
    "duration": 10,
    "start_time": "2022-03-10T16:13:47.208Z"
   },
   {
    "duration": 20,
    "start_time": "2022-03-10T16:13:47.221Z"
   },
   {
    "duration": 7,
    "start_time": "2022-03-10T16:13:47.283Z"
   },
   {
    "duration": 20,
    "start_time": "2022-03-10T16:13:47.293Z"
   },
   {
    "duration": 31,
    "start_time": "2022-03-10T16:13:47.315Z"
   },
   {
    "duration": 5,
    "start_time": "2022-03-10T16:13:47.350Z"
   },
   {
    "duration": 34,
    "start_time": "2022-03-10T16:13:47.358Z"
   },
   {
    "duration": 13,
    "start_time": "2022-03-10T16:13:47.395Z"
   },
   {
    "duration": 5,
    "start_time": "2022-03-10T16:13:47.411Z"
   },
   {
    "duration": 12,
    "start_time": "2022-03-10T16:13:47.419Z"
   },
   {
    "duration": 50,
    "start_time": "2022-03-10T16:13:47.434Z"
   },
   {
    "duration": 9,
    "start_time": "2022-03-10T16:13:47.487Z"
   },
   {
    "duration": 19,
    "start_time": "2022-03-10T16:13:47.499Z"
   },
   {
    "duration": 15,
    "start_time": "2022-03-10T16:13:47.521Z"
   },
   {
    "duration": 49,
    "start_time": "2022-03-10T16:13:47.539Z"
   },
   {
    "duration": 27,
    "start_time": "2022-03-10T16:13:47.590Z"
   },
   {
    "duration": 2542,
    "start_time": "2022-03-14T12:35:11.567Z"
   },
   {
    "duration": 468,
    "start_time": "2022-03-14T12:36:04.003Z"
   },
   {
    "duration": 540,
    "start_time": "2022-03-14T12:36:17.027Z"
   },
   {
    "duration": 802,
    "start_time": "2022-03-14T12:36:24.492Z"
   },
   {
    "duration": 9,
    "start_time": "2022-03-14T12:36:25.296Z"
   },
   {
    "duration": 6,
    "start_time": "2022-03-14T12:36:25.307Z"
   },
   {
    "duration": 11,
    "start_time": "2022-03-14T12:36:25.315Z"
   },
   {
    "duration": 6,
    "start_time": "2022-03-14T12:36:25.328Z"
   },
   {
    "duration": 8,
    "start_time": "2022-03-14T12:36:25.335Z"
   },
   {
    "duration": 41,
    "start_time": "2022-03-14T12:36:25.345Z"
   },
   {
    "duration": 5,
    "start_time": "2022-03-14T12:36:25.388Z"
   },
   {
    "duration": 8,
    "start_time": "2022-03-14T12:36:25.395Z"
   },
   {
    "duration": 7,
    "start_time": "2022-03-14T12:36:25.405Z"
   },
   {
    "duration": 5,
    "start_time": "2022-03-14T12:36:25.413Z"
   },
   {
    "duration": 14,
    "start_time": "2022-03-14T12:36:25.420Z"
   },
   {
    "duration": 18,
    "start_time": "2022-03-14T12:36:25.435Z"
   },
   {
    "duration": 27,
    "start_time": "2022-03-14T12:36:25.454Z"
   },
   {
    "duration": 14,
    "start_time": "2022-03-14T12:36:25.483Z"
   },
   {
    "duration": 11,
    "start_time": "2022-03-14T12:36:25.498Z"
   },
   {
    "duration": 19,
    "start_time": "2022-03-14T12:36:25.511Z"
   },
   {
    "duration": 16,
    "start_time": "2022-03-14T12:36:25.531Z"
   },
   {
    "duration": 6,
    "start_time": "2022-03-14T12:36:25.548Z"
   },
   {
    "duration": 6,
    "start_time": "2022-03-14T12:37:33.285Z"
   },
   {
    "duration": 8,
    "start_time": "2022-03-14T12:39:55.280Z"
   },
   {
    "duration": 7,
    "start_time": "2022-03-14T12:40:38.342Z"
   },
   {
    "duration": 6,
    "start_time": "2022-03-14T12:40:48.466Z"
   },
   {
    "duration": 8,
    "start_time": "2022-03-14T12:53:46.644Z"
   },
   {
    "duration": 12,
    "start_time": "2022-03-14T12:53:54.774Z"
   },
   {
    "duration": 13,
    "start_time": "2022-03-14T12:54:23.719Z"
   },
   {
    "duration": 380,
    "start_time": "2022-03-14T12:54:37.351Z"
   },
   {
    "duration": 302,
    "start_time": "2022-03-14T12:54:43.757Z"
   },
   {
    "duration": 292,
    "start_time": "2022-03-14T12:54:47.031Z"
   },
   {
    "duration": 315,
    "start_time": "2022-03-14T12:54:54.819Z"
   },
   {
    "duration": 679,
    "start_time": "2022-03-14T12:55:02.861Z"
   },
   {
    "duration": 10,
    "start_time": "2022-03-14T12:55:03.542Z"
   },
   {
    "duration": 16,
    "start_time": "2022-03-14T12:55:03.554Z"
   },
   {
    "duration": 35,
    "start_time": "2022-03-14T12:55:03.571Z"
   },
   {
    "duration": 12,
    "start_time": "2022-03-14T12:55:03.608Z"
   },
   {
    "duration": 8,
    "start_time": "2022-03-14T12:55:03.622Z"
   },
   {
    "duration": 17,
    "start_time": "2022-03-14T12:55:03.632Z"
   },
   {
    "duration": 6,
    "start_time": "2022-03-14T12:55:03.651Z"
   },
   {
    "duration": 18,
    "start_time": "2022-03-14T12:55:03.658Z"
   },
   {
    "duration": 20,
    "start_time": "2022-03-14T12:55:03.677Z"
   },
   {
    "duration": 9,
    "start_time": "2022-03-14T12:55:03.698Z"
   },
   {
    "duration": 26,
    "start_time": "2022-03-14T12:55:03.708Z"
   },
   {
    "duration": 17,
    "start_time": "2022-03-14T12:55:03.736Z"
   },
   {
    "duration": 16,
    "start_time": "2022-03-14T12:55:03.754Z"
   },
   {
    "duration": 20,
    "start_time": "2022-03-14T12:55:03.772Z"
   },
   {
    "duration": 15,
    "start_time": "2022-03-14T12:55:03.793Z"
   },
   {
    "duration": 30,
    "start_time": "2022-03-14T12:55:03.809Z"
   },
   {
    "duration": 15,
    "start_time": "2022-03-14T12:55:03.840Z"
   },
   {
    "duration": 7,
    "start_time": "2022-03-14T12:55:03.856Z"
   },
   {
    "duration": 36,
    "start_time": "2022-03-14T12:55:03.864Z"
   },
   {
    "duration": 5,
    "start_time": "2022-03-14T12:55:03.901Z"
   },
   {
    "duration": 10,
    "start_time": "2022-03-14T12:55:03.907Z"
   },
   {
    "duration": 11,
    "start_time": "2022-03-14T12:55:03.919Z"
   },
   {
    "duration": 344,
    "start_time": "2022-03-14T13:08:19.626Z"
   },
   {
    "duration": 3,
    "start_time": "2022-03-14T13:08:29.974Z"
   },
   {
    "duration": 3,
    "start_time": "2022-03-14T13:08:31.249Z"
   },
   {
    "duration": 16,
    "start_time": "2022-03-14T13:16:37.434Z"
   },
   {
    "duration": 3,
    "start_time": "2022-03-14T13:20:58.821Z"
   },
   {
    "duration": 15,
    "start_time": "2022-03-14T13:21:00.641Z"
   },
   {
    "duration": 107,
    "start_time": "2022-03-14T13:23:41.909Z"
   },
   {
    "duration": 6,
    "start_time": "2022-03-14T13:23:48.064Z"
   },
   {
    "duration": 99,
    "start_time": "2022-03-14T13:25:03.796Z"
   },
   {
    "duration": 6,
    "start_time": "2022-03-14T13:35:20.416Z"
   },
   {
    "duration": 7,
    "start_time": "2022-03-14T13:35:31.413Z"
   },
   {
    "duration": 7,
    "start_time": "2022-03-14T13:36:30.376Z"
   },
   {
    "duration": 3,
    "start_time": "2022-03-14T13:45:15.929Z"
   },
   {
    "duration": 1519,
    "start_time": "2022-03-14T13:48:00.948Z"
   },
   {
    "duration": 3,
    "start_time": "2022-03-14T13:48:09.305Z"
   },
   {
    "duration": 1478,
    "start_time": "2022-03-14T13:48:10.768Z"
   },
   {
    "duration": 3,
    "start_time": "2022-03-14T13:49:02.009Z"
   },
   {
    "duration": 17,
    "start_time": "2022-03-14T13:49:03.540Z"
   },
   {
    "duration": 445,
    "start_time": "2022-03-14T14:04:15.076Z"
   },
   {
    "duration": 6,
    "start_time": "2022-03-14T14:04:50.197Z"
   },
   {
    "duration": 4,
    "start_time": "2022-03-14T14:04:53.306Z"
   },
   {
    "duration": 4,
    "start_time": "2022-03-14T14:05:17.326Z"
   },
   {
    "duration": 4,
    "start_time": "2022-03-14T14:05:22.304Z"
   },
   {
    "duration": 593,
    "start_time": "2022-03-14T14:05:33.619Z"
   },
   {
    "duration": 10,
    "start_time": "2022-03-14T14:05:34.214Z"
   },
   {
    "duration": 6,
    "start_time": "2022-03-14T14:05:34.226Z"
   },
   {
    "duration": 11,
    "start_time": "2022-03-14T14:05:34.233Z"
   },
   {
    "duration": 5,
    "start_time": "2022-03-14T14:05:34.245Z"
   },
   {
    "duration": 30,
    "start_time": "2022-03-14T14:05:34.251Z"
   },
   {
    "duration": 10,
    "start_time": "2022-03-14T14:05:34.283Z"
   },
   {
    "duration": 3,
    "start_time": "2022-03-14T14:05:34.295Z"
   },
   {
    "duration": 8,
    "start_time": "2022-03-14T14:05:34.300Z"
   },
   {
    "duration": 5,
    "start_time": "2022-03-14T14:05:34.310Z"
   },
   {
    "duration": 4,
    "start_time": "2022-03-14T14:05:34.317Z"
   },
   {
    "duration": 7,
    "start_time": "2022-03-14T14:05:34.323Z"
   },
   {
    "duration": 12,
    "start_time": "2022-03-14T14:05:34.332Z"
   },
   {
    "duration": 37,
    "start_time": "2022-03-14T14:05:34.345Z"
   },
   {
    "duration": 12,
    "start_time": "2022-03-14T14:05:34.383Z"
   },
   {
    "duration": 10,
    "start_time": "2022-03-14T14:05:34.396Z"
   },
   {
    "duration": 17,
    "start_time": "2022-03-14T14:05:34.408Z"
   },
   {
    "duration": 16,
    "start_time": "2022-03-14T14:05:34.426Z"
   },
   {
    "duration": 6,
    "start_time": "2022-03-14T14:05:34.443Z"
   },
   {
    "duration": 37,
    "start_time": "2022-03-14T14:05:34.451Z"
   },
   {
    "duration": 6,
    "start_time": "2022-03-14T14:05:34.489Z"
   },
   {
    "duration": 9,
    "start_time": "2022-03-14T14:05:34.497Z"
   },
   {
    "duration": 11,
    "start_time": "2022-03-14T14:05:34.508Z"
   },
   {
    "duration": 6,
    "start_time": "2022-03-14T14:05:34.521Z"
   },
   {
    "duration": 16,
    "start_time": "2022-03-14T14:05:34.528Z"
   },
   {
    "duration": 38,
    "start_time": "2022-03-14T14:05:34.546Z"
   },
   {
    "duration": 7,
    "start_time": "2022-03-14T14:05:34.586Z"
   },
   {
    "duration": 5,
    "start_time": "2022-03-14T14:05:34.594Z"
   },
   {
    "duration": 17,
    "start_time": "2022-03-14T14:05:34.600Z"
   },
   {
    "duration": 5,
    "start_time": "2022-03-14T14:05:34.619Z"
   },
   {
    "duration": 4,
    "start_time": "2022-03-14T14:06:06.842Z"
   },
   {
    "duration": 7,
    "start_time": "2022-03-14T14:06:36.030Z"
   },
   {
    "duration": 377,
    "start_time": "2022-03-14T14:07:16.260Z"
   },
   {
    "duration": 528,
    "start_time": "2022-03-14T14:07:27.134Z"
   },
   {
    "duration": 14,
    "start_time": "2022-03-14T14:10:50.362Z"
   },
   {
    "duration": 5,
    "start_time": "2022-03-14T14:18:08.419Z"
   },
   {
    "duration": 7,
    "start_time": "2022-03-14T14:18:24.274Z"
   },
   {
    "duration": 4,
    "start_time": "2022-03-14T14:18:42.721Z"
   },
   {
    "duration": 6,
    "start_time": "2022-03-14T14:18:52.410Z"
   },
   {
    "duration": 4,
    "start_time": "2022-03-14T14:18:56.648Z"
   },
   {
    "duration": 6,
    "start_time": "2022-03-14T14:18:58.738Z"
   },
   {
    "duration": 623,
    "start_time": "2022-03-14T14:19:06.931Z"
   },
   {
    "duration": 10,
    "start_time": "2022-03-14T14:19:07.556Z"
   },
   {
    "duration": 6,
    "start_time": "2022-03-14T14:19:07.568Z"
   },
   {
    "duration": 11,
    "start_time": "2022-03-14T14:19:07.576Z"
   },
   {
    "duration": 4,
    "start_time": "2022-03-14T14:19:07.589Z"
   },
   {
    "duration": 7,
    "start_time": "2022-03-14T14:19:07.595Z"
   },
   {
    "duration": 13,
    "start_time": "2022-03-14T14:19:07.604Z"
   },
   {
    "duration": 4,
    "start_time": "2022-03-14T14:19:07.620Z"
   },
   {
    "duration": 8,
    "start_time": "2022-03-14T14:19:07.626Z"
   },
   {
    "duration": 44,
    "start_time": "2022-03-14T14:19:07.636Z"
   },
   {
    "duration": 4,
    "start_time": "2022-03-14T14:19:07.682Z"
   },
   {
    "duration": 7,
    "start_time": "2022-03-14T14:19:07.687Z"
   },
   {
    "duration": 8,
    "start_time": "2022-03-14T14:19:07.696Z"
   },
   {
    "duration": 14,
    "start_time": "2022-03-14T14:19:07.705Z"
   },
   {
    "duration": 6,
    "start_time": "2022-03-14T14:19:07.720Z"
   },
   {
    "duration": 14,
    "start_time": "2022-03-14T14:19:07.727Z"
   },
   {
    "duration": 10,
    "start_time": "2022-03-14T14:19:07.742Z"
   },
   {
    "duration": 39,
    "start_time": "2022-03-14T14:19:07.753Z"
   },
   {
    "duration": 16,
    "start_time": "2022-03-14T14:19:07.794Z"
   },
   {
    "duration": 5,
    "start_time": "2022-03-14T14:19:07.812Z"
   },
   {
    "duration": 12,
    "start_time": "2022-03-14T14:19:07.818Z"
   },
   {
    "duration": 5,
    "start_time": "2022-03-14T14:19:07.832Z"
   },
   {
    "duration": 7,
    "start_time": "2022-03-14T14:19:07.840Z"
   },
   {
    "duration": 41,
    "start_time": "2022-03-14T14:19:07.849Z"
   },
   {
    "duration": 3,
    "start_time": "2022-03-14T14:19:07.891Z"
   },
   {
    "duration": 24,
    "start_time": "2022-03-14T14:19:07.896Z"
   },
   {
    "duration": 6,
    "start_time": "2022-03-14T14:19:07.921Z"
   },
   {
    "duration": 9,
    "start_time": "2022-03-14T14:19:07.929Z"
   },
   {
    "duration": 4,
    "start_time": "2022-03-14T14:19:07.939Z"
   },
   {
    "duration": 39,
    "start_time": "2022-03-14T14:19:07.945Z"
   },
   {
    "duration": 16,
    "start_time": "2022-03-14T14:19:07.986Z"
   },
   {
    "duration": 7,
    "start_time": "2022-03-14T14:19:29.384Z"
   },
   {
    "duration": 8,
    "start_time": "2022-03-14T14:22:21.304Z"
   },
   {
    "duration": 7,
    "start_time": "2022-03-14T14:22:38.382Z"
   },
   {
    "duration": 642,
    "start_time": "2022-03-14T14:23:15.071Z"
   },
   {
    "duration": 10,
    "start_time": "2022-03-14T14:23:15.715Z"
   },
   {
    "duration": 7,
    "start_time": "2022-03-14T14:23:15.727Z"
   },
   {
    "duration": 13,
    "start_time": "2022-03-14T14:23:15.735Z"
   },
   {
    "duration": 9,
    "start_time": "2022-03-14T14:23:15.750Z"
   },
   {
    "duration": 30,
    "start_time": "2022-03-14T14:23:15.761Z"
   },
   {
    "duration": 12,
    "start_time": "2022-03-14T14:23:15.793Z"
   },
   {
    "duration": 4,
    "start_time": "2022-03-14T14:23:15.807Z"
   },
   {
    "duration": 9,
    "start_time": "2022-03-14T14:23:15.813Z"
   },
   {
    "duration": 7,
    "start_time": "2022-03-14T14:23:15.823Z"
   },
   {
    "duration": 4,
    "start_time": "2022-03-14T14:23:15.832Z"
   },
   {
    "duration": 11,
    "start_time": "2022-03-14T14:23:15.837Z"
   },
   {
    "duration": 7,
    "start_time": "2022-03-14T14:23:15.849Z"
   },
   {
    "duration": 33,
    "start_time": "2022-03-14T14:23:15.857Z"
   },
   {
    "duration": 7,
    "start_time": "2022-03-14T14:23:15.891Z"
   },
   {
    "duration": 16,
    "start_time": "2022-03-14T14:23:15.899Z"
   },
   {
    "duration": 10,
    "start_time": "2022-03-14T14:23:15.916Z"
   },
   {
    "duration": 17,
    "start_time": "2022-03-14T14:23:15.928Z"
   },
   {
    "duration": 35,
    "start_time": "2022-03-14T14:23:15.946Z"
   },
   {
    "duration": 7,
    "start_time": "2022-03-14T14:23:15.982Z"
   },
   {
    "duration": 19,
    "start_time": "2022-03-14T14:23:15.990Z"
   },
   {
    "duration": 6,
    "start_time": "2022-03-14T14:23:16.011Z"
   },
   {
    "duration": 15,
    "start_time": "2022-03-14T14:23:16.019Z"
   },
   {
    "duration": 14,
    "start_time": "2022-03-14T14:23:16.035Z"
   },
   {
    "duration": 8,
    "start_time": "2022-03-14T14:23:16.051Z"
   },
   {
    "duration": 33,
    "start_time": "2022-03-14T14:23:16.061Z"
   },
   {
    "duration": 7,
    "start_time": "2022-03-14T14:23:16.096Z"
   },
   {
    "duration": 13,
    "start_time": "2022-03-14T14:23:16.105Z"
   },
   {
    "duration": 5,
    "start_time": "2022-03-14T14:23:16.119Z"
   },
   {
    "duration": 19,
    "start_time": "2022-03-14T14:23:16.125Z"
   },
   {
    "duration": 14,
    "start_time": "2022-03-14T14:23:16.146Z"
   },
   {
    "duration": 8,
    "start_time": "2022-03-14T14:23:49.190Z"
   },
   {
    "duration": 10,
    "start_time": "2022-03-14T14:25:55.748Z"
   },
   {
    "duration": 11,
    "start_time": "2022-03-14T14:26:04.470Z"
   },
   {
    "duration": 692,
    "start_time": "2022-03-14T14:26:13.060Z"
   },
   {
    "duration": 10,
    "start_time": "2022-03-14T14:26:13.754Z"
   },
   {
    "duration": 29,
    "start_time": "2022-03-14T14:26:13.765Z"
   },
   {
    "duration": 34,
    "start_time": "2022-03-14T14:26:13.795Z"
   },
   {
    "duration": 15,
    "start_time": "2022-03-14T14:26:13.830Z"
   },
   {
    "duration": 30,
    "start_time": "2022-03-14T14:26:13.846Z"
   },
   {
    "duration": 18,
    "start_time": "2022-03-14T14:26:13.877Z"
   },
   {
    "duration": 6,
    "start_time": "2022-03-14T14:26:13.896Z"
   },
   {
    "duration": 7,
    "start_time": "2022-03-14T14:26:13.905Z"
   },
   {
    "duration": 22,
    "start_time": "2022-03-14T14:26:13.914Z"
   },
   {
    "duration": 12,
    "start_time": "2022-03-14T14:26:13.937Z"
   },
   {
    "duration": 18,
    "start_time": "2022-03-14T14:26:13.950Z"
   },
   {
    "duration": 18,
    "start_time": "2022-03-14T14:26:13.969Z"
   },
   {
    "duration": 29,
    "start_time": "2022-03-14T14:26:13.988Z"
   },
   {
    "duration": 20,
    "start_time": "2022-03-14T14:26:14.019Z"
   },
   {
    "duration": 29,
    "start_time": "2022-03-14T14:26:14.041Z"
   },
   {
    "duration": 10,
    "start_time": "2022-03-14T14:26:14.072Z"
   },
   {
    "duration": 66,
    "start_time": "2022-03-14T14:26:14.083Z"
   },
   {
    "duration": 16,
    "start_time": "2022-03-14T14:26:14.150Z"
   },
   {
    "duration": 91,
    "start_time": "2022-03-14T14:26:14.168Z"
   },
   {
    "duration": 130,
    "start_time": "2022-03-14T14:26:14.260Z"
   },
   {
    "duration": 93,
    "start_time": "2022-03-14T14:26:14.392Z"
   },
   {
    "duration": 117,
    "start_time": "2022-03-14T14:26:14.487Z"
   },
   {
    "duration": 28,
    "start_time": "2022-03-14T14:26:14.606Z"
   },
   {
    "duration": 136,
    "start_time": "2022-03-14T14:26:14.636Z"
   },
   {
    "duration": 72,
    "start_time": "2022-03-14T14:26:14.773Z"
   },
   {
    "duration": 25,
    "start_time": "2022-03-14T14:26:14.847Z"
   },
   {
    "duration": 48,
    "start_time": "2022-03-14T14:26:14.873Z"
   },
   {
    "duration": 21,
    "start_time": "2022-03-14T14:26:14.922Z"
   },
   {
    "duration": 21,
    "start_time": "2022-03-14T14:26:14.945Z"
   },
   {
    "duration": 12,
    "start_time": "2022-03-14T14:26:14.968Z"
   },
   {
    "duration": 10,
    "start_time": "2022-03-14T14:26:44.789Z"
   },
   {
    "duration": 10,
    "start_time": "2022-03-14T14:27:08.393Z"
   },
   {
    "duration": 21,
    "start_time": "2022-03-14T14:29:05.965Z"
   },
   {
    "duration": 17,
    "start_time": "2022-03-14T14:29:17.052Z"
   },
   {
    "duration": 14,
    "start_time": "2022-03-14T14:29:53.340Z"
   },
   {
    "duration": 643,
    "start_time": "2022-03-14T14:30:08.078Z"
   },
   {
    "duration": 94,
    "start_time": "2022-03-14T14:30:08.723Z"
   },
   {
    "duration": 211,
    "start_time": "2022-03-14T14:30:08.819Z"
   },
   {
    "duration": 116,
    "start_time": "2022-03-14T14:30:09.032Z"
   },
   {
    "duration": 222,
    "start_time": "2022-03-14T14:30:09.150Z"
   },
   {
    "duration": 819,
    "start_time": "2022-03-14T14:30:09.373Z"
   },
   {
    "duration": 561,
    "start_time": "2022-03-14T14:30:10.194Z"
   },
   {
    "duration": 472,
    "start_time": "2022-03-14T14:30:10.757Z"
   },
   {
    "duration": 186,
    "start_time": "2022-03-14T14:30:11.231Z"
   },
   {
    "duration": 194,
    "start_time": "2022-03-14T14:30:11.418Z"
   },
   {
    "duration": 323,
    "start_time": "2022-03-14T14:30:11.613Z"
   },
   {
    "duration": 494,
    "start_time": "2022-03-14T14:30:11.938Z"
   },
   {
    "duration": 239,
    "start_time": "2022-03-14T14:30:12.434Z"
   },
   {
    "duration": 200,
    "start_time": "2022-03-14T14:30:12.675Z"
   },
   {
    "duration": 168,
    "start_time": "2022-03-14T14:30:12.877Z"
   },
   {
    "duration": 83,
    "start_time": "2022-03-14T14:30:13.047Z"
   },
   {
    "duration": 60,
    "start_time": "2022-03-14T14:30:13.132Z"
   },
   {
    "duration": 98,
    "start_time": "2022-03-14T14:30:13.193Z"
   },
   {
    "duration": 135,
    "start_time": "2022-03-14T14:30:13.292Z"
   },
   {
    "duration": 75,
    "start_time": "2022-03-14T14:30:13.428Z"
   },
   {
    "duration": 286,
    "start_time": "2022-03-14T14:30:13.504Z"
   },
   {
    "duration": 295,
    "start_time": "2022-03-14T14:30:13.791Z"
   },
   {
    "duration": 551,
    "start_time": "2022-03-14T14:30:14.089Z"
   },
   {
    "duration": 738,
    "start_time": "2022-03-14T14:30:14.642Z"
   },
   {
    "duration": 673,
    "start_time": "2022-03-14T14:30:15.382Z"
   },
   {
    "duration": 399,
    "start_time": "2022-03-14T14:30:16.057Z"
   },
   {
    "duration": 394,
    "start_time": "2022-03-14T14:30:16.458Z"
   },
   {
    "duration": 363,
    "start_time": "2022-03-14T14:30:16.853Z"
   },
   {
    "duration": 1096,
    "start_time": "2022-03-14T14:30:17.217Z"
   },
   {
    "duration": 845,
    "start_time": "2022-03-14T14:30:18.315Z"
   },
   {
    "duration": 988,
    "start_time": "2022-03-14T14:30:19.161Z"
   },
   {
    "duration": 22,
    "start_time": "2022-03-14T14:32:37.912Z"
   },
   {
    "duration": 12,
    "start_time": "2022-03-14T14:32:47.947Z"
   },
   {
    "duration": 657,
    "start_time": "2022-03-14T14:33:02.479Z"
   },
   {
    "duration": 9,
    "start_time": "2022-03-14T14:33:03.138Z"
   },
   {
    "duration": 733,
    "start_time": "2022-03-14T14:33:03.149Z"
   },
   {
    "duration": 510,
    "start_time": "2022-03-14T14:33:03.883Z"
   },
   {
    "duration": 824,
    "start_time": "2022-03-14T14:33:04.395Z"
   },
   {
    "duration": 639,
    "start_time": "2022-03-14T14:33:05.220Z"
   },
   {
    "duration": 382,
    "start_time": "2022-03-14T14:33:05.861Z"
   },
   {
    "duration": 581,
    "start_time": "2022-03-14T14:33:06.245Z"
   },
   {
    "duration": 477,
    "start_time": "2022-03-14T14:33:06.828Z"
   },
   {
    "duration": 163,
    "start_time": "2022-03-14T14:33:07.306Z"
   },
   {
    "duration": 573,
    "start_time": "2022-03-14T14:33:07.470Z"
   },
   {
    "duration": 271,
    "start_time": "2022-03-14T14:33:08.045Z"
   },
   {
    "duration": 126,
    "start_time": "2022-03-14T14:33:08.318Z"
   },
   {
    "duration": 109,
    "start_time": "2022-03-14T14:33:08.445Z"
   },
   {
    "duration": 286,
    "start_time": "2022-03-14T14:33:08.556Z"
   },
   {
    "duration": 210,
    "start_time": "2022-03-14T14:33:08.844Z"
   },
   {
    "duration": 340,
    "start_time": "2022-03-14T14:33:09.056Z"
   },
   {
    "duration": 178,
    "start_time": "2022-03-14T14:33:09.398Z"
   },
   {
    "duration": 276,
    "start_time": "2022-03-14T14:33:09.577Z"
   },
   {
    "duration": 92,
    "start_time": "2022-03-14T14:33:09.855Z"
   },
   {
    "duration": 362,
    "start_time": "2022-03-14T14:33:09.949Z"
   },
   {
    "duration": 179,
    "start_time": "2022-03-14T14:33:10.313Z"
   },
   {
    "duration": 244,
    "start_time": "2022-03-14T14:33:10.495Z"
   },
   {
    "duration": 341,
    "start_time": "2022-03-14T14:33:10.741Z"
   },
   {
    "duration": 145,
    "start_time": "2022-03-14T14:33:11.083Z"
   },
   {
    "duration": 41,
    "start_time": "2022-03-14T14:33:11.230Z"
   },
   {
    "duration": 308,
    "start_time": "2022-03-14T14:33:11.273Z"
   },
   {
    "duration": 242,
    "start_time": "2022-03-14T14:33:11.583Z"
   },
   {
    "duration": 354,
    "start_time": "2022-03-14T14:33:11.826Z"
   },
   {
    "duration": 505,
    "start_time": "2022-03-14T14:33:12.182Z"
   },
   {
    "duration": 360,
    "start_time": "2022-03-14T14:33:12.688Z"
   },
   {
    "duration": 23,
    "start_time": "2022-03-14T14:34:13.523Z"
   },
   {
    "duration": 15,
    "start_time": "2022-03-14T14:34:43.377Z"
   },
   {
    "duration": 81,
    "start_time": "2022-03-14T14:35:47.705Z"
   },
   {
    "duration": 1038,
    "start_time": "2022-03-14T14:35:47.788Z"
   },
   {
    "duration": 506,
    "start_time": "2022-03-14T14:35:48.829Z"
   },
   {
    "duration": 1354,
    "start_time": "2022-03-14T14:35:49.337Z"
   },
   {
    "duration": 1137,
    "start_time": "2022-03-14T14:35:50.692Z"
   },
   {
    "duration": 1553,
    "start_time": "2022-03-14T14:35:51.830Z"
   },
   {
    "duration": 1259,
    "start_time": "2022-03-14T14:35:53.385Z"
   },
   {
    "duration": 751,
    "start_time": "2022-03-14T14:35:54.646Z"
   },
   {
    "duration": 737,
    "start_time": "2022-03-14T14:35:55.400Z"
   },
   {
    "duration": 1016,
    "start_time": "2022-03-14T14:35:56.140Z"
   },
   {
    "duration": 172,
    "start_time": "2022-03-14T14:35:57.158Z"
   },
   {
    "duration": 371,
    "start_time": "2022-03-14T14:35:57.331Z"
   },
   {
    "duration": 243,
    "start_time": "2022-03-14T14:35:57.703Z"
   },
   {
    "duration": 337,
    "start_time": "2022-03-14T14:35:57.947Z"
   },
   {
    "duration": 334,
    "start_time": "2022-03-14T14:35:58.285Z"
   },
   {
    "duration": 341,
    "start_time": "2022-03-14T14:35:58.620Z"
   },
   {
    "duration": 318,
    "start_time": "2022-03-14T14:35:58.963Z"
   },
   {
    "duration": 806,
    "start_time": "2022-03-14T14:35:59.283Z"
   },
   {
    "duration": 1361,
    "start_time": "2022-03-14T14:36:00.090Z"
   },
   {
    "duration": 1436,
    "start_time": "2022-03-14T14:36:01.452Z"
   },
   {
    "duration": 1105,
    "start_time": "2022-03-14T14:36:02.889Z"
   },
   {
    "duration": 863,
    "start_time": "2022-03-14T14:36:03.995Z"
   },
   {
    "duration": 643,
    "start_time": "2022-03-14T14:36:04.860Z"
   },
   {
    "duration": 839,
    "start_time": "2022-03-14T14:36:05.505Z"
   },
   {
    "duration": 760,
    "start_time": "2022-03-14T14:36:06.346Z"
   },
   {
    "duration": 706,
    "start_time": "2022-03-14T14:36:07.108Z"
   },
   {
    "duration": 408,
    "start_time": "2022-03-14T14:36:07.817Z"
   },
   {
    "duration": 483,
    "start_time": "2022-03-14T14:36:08.227Z"
   },
   {
    "duration": 725,
    "start_time": "2022-03-14T14:36:08.711Z"
   },
   {
    "duration": 879,
    "start_time": "2022-03-14T14:36:09.438Z"
   },
   {
    "duration": 1097,
    "start_time": "2022-03-14T14:36:10.318Z"
   },
   {
    "duration": 32,
    "start_time": "2022-03-14T14:36:32.512Z"
   },
   {
    "duration": 447,
    "start_time": "2022-03-14T14:39:28.302Z"
   },
   {
    "duration": 294,
    "start_time": "2022-03-14T14:39:40.156Z"
   },
   {
    "duration": 91,
    "start_time": "2022-03-14T14:42:02.461Z"
   },
   {
    "duration": 98,
    "start_time": "2022-03-14T14:42:41.290Z"
   },
   {
    "duration": 12,
    "start_time": "2022-03-14T14:42:47.399Z"
   },
   {
    "duration": 8,
    "start_time": "2022-03-14T14:43:00.333Z"
   },
   {
    "duration": 635,
    "start_time": "2022-03-14T14:43:07.999Z"
   },
   {
    "duration": 504,
    "start_time": "2022-03-14T14:43:08.636Z"
   },
   {
    "duration": 322,
    "start_time": "2022-03-14T14:43:09.142Z"
   },
   {
    "duration": 485,
    "start_time": "2022-03-14T14:43:09.467Z"
   },
   {
    "duration": 1160,
    "start_time": "2022-03-14T14:43:09.954Z"
   },
   {
    "duration": 942,
    "start_time": "2022-03-14T14:43:11.115Z"
   },
   {
    "duration": 658,
    "start_time": "2022-03-14T14:43:12.059Z"
   },
   {
    "duration": 1092,
    "start_time": "2022-03-14T14:43:12.720Z"
   },
   {
    "duration": 749,
    "start_time": "2022-03-14T14:43:13.814Z"
   },
   {
    "duration": 700,
    "start_time": "2022-03-14T14:43:14.565Z"
   },
   {
    "duration": 626,
    "start_time": "2022-03-14T14:43:15.267Z"
   },
   {
    "duration": 534,
    "start_time": "2022-03-14T14:43:15.895Z"
   },
   {
    "duration": 781,
    "start_time": "2022-03-14T14:43:16.431Z"
   },
   {
    "duration": 822,
    "start_time": "2022-03-14T14:43:17.214Z"
   },
   {
    "duration": 707,
    "start_time": "2022-03-14T14:43:18.038Z"
   },
   {
    "duration": 847,
    "start_time": "2022-03-14T14:43:18.746Z"
   },
   {
    "duration": 738,
    "start_time": "2022-03-14T14:43:19.596Z"
   },
   {
    "duration": 478,
    "start_time": "2022-03-14T14:43:20.335Z"
   },
   {
    "duration": 720,
    "start_time": "2022-03-14T14:43:20.814Z"
   },
   {
    "duration": 602,
    "start_time": "2022-03-14T14:43:21.536Z"
   },
   {
    "duration": 899,
    "start_time": "2022-03-14T14:43:22.139Z"
   },
   {
    "duration": 1354,
    "start_time": "2022-03-14T14:43:23.039Z"
   },
   {
    "duration": 724,
    "start_time": "2022-03-14T14:43:24.396Z"
   },
   {
    "duration": 810,
    "start_time": "2022-03-14T14:43:25.122Z"
   },
   {
    "duration": 865,
    "start_time": "2022-03-14T14:43:25.933Z"
   },
   {
    "duration": 537,
    "start_time": "2022-03-14T14:43:26.800Z"
   },
   {
    "duration": 603,
    "start_time": "2022-03-14T14:43:27.339Z"
   },
   {
    "duration": 1005,
    "start_time": "2022-03-14T14:43:27.944Z"
   },
   {
    "duration": 731,
    "start_time": "2022-03-14T14:43:28.951Z"
   },
   {
    "duration": 1156,
    "start_time": "2022-03-14T14:43:29.684Z"
   },
   {
    "duration": 685,
    "start_time": "2022-03-14T14:43:30.841Z"
   },
   {
    "duration": 9,
    "start_time": "2022-03-14T14:43:46.133Z"
   },
   {
    "duration": 8,
    "start_time": "2022-03-14T14:44:06.913Z"
   },
   {
    "duration": 10,
    "start_time": "2022-03-14T14:44:15.930Z"
   },
   {
    "duration": 6,
    "start_time": "2022-03-14T14:44:33.757Z"
   },
   {
    "duration": 656,
    "start_time": "2022-03-14T14:44:43.522Z"
   },
   {
    "duration": 10,
    "start_time": "2022-03-14T14:44:44.179Z"
   },
   {
    "duration": 627,
    "start_time": "2022-03-14T14:44:44.191Z"
   },
   {
    "duration": 2385,
    "start_time": "2022-03-14T14:44:44.820Z"
   },
   {
    "duration": 1009,
    "start_time": "2022-03-14T14:44:47.207Z"
   },
   {
    "duration": 881,
    "start_time": "2022-03-14T14:44:48.218Z"
   },
   {
    "duration": 970,
    "start_time": "2022-03-14T14:44:49.101Z"
   },
   {
    "duration": 751,
    "start_time": "2022-03-14T14:44:50.072Z"
   },
   {
    "duration": 453,
    "start_time": "2022-03-14T14:44:50.826Z"
   },
   {
    "duration": 754,
    "start_time": "2022-03-14T14:44:51.282Z"
   },
   {
    "duration": 56,
    "start_time": "2022-03-14T14:44:52.038Z"
   },
   {
    "duration": 290,
    "start_time": "2022-03-14T14:44:52.096Z"
   },
   {
    "duration": 645,
    "start_time": "2022-03-14T14:44:52.388Z"
   },
   {
    "duration": 598,
    "start_time": "2022-03-14T14:44:53.035Z"
   },
   {
    "duration": 655,
    "start_time": "2022-03-14T14:44:53.634Z"
   },
   {
    "duration": 641,
    "start_time": "2022-03-14T14:44:54.291Z"
   },
   {
    "duration": 476,
    "start_time": "2022-03-14T14:44:54.935Z"
   },
   {
    "duration": 389,
    "start_time": "2022-03-14T14:44:55.413Z"
   },
   {
    "duration": 287,
    "start_time": "2022-03-14T14:44:55.803Z"
   },
   {
    "duration": 414,
    "start_time": "2022-03-14T14:44:56.093Z"
   },
   {
    "duration": 354,
    "start_time": "2022-03-14T14:44:56.509Z"
   },
   {
    "duration": 291,
    "start_time": "2022-03-14T14:44:56.865Z"
   },
   {
    "duration": 393,
    "start_time": "2022-03-14T14:44:57.158Z"
   },
   {
    "duration": 342,
    "start_time": "2022-03-14T14:44:57.552Z"
   },
   {
    "duration": 311,
    "start_time": "2022-03-14T14:44:57.895Z"
   },
   {
    "duration": 311,
    "start_time": "2022-03-14T14:44:58.208Z"
   },
   {
    "duration": 355,
    "start_time": "2022-03-14T14:44:58.522Z"
   },
   {
    "duration": 267,
    "start_time": "2022-03-14T14:44:58.879Z"
   },
   {
    "duration": 232,
    "start_time": "2022-03-14T14:44:59.148Z"
   },
   {
    "duration": 264,
    "start_time": "2022-03-14T14:44:59.382Z"
   },
   {
    "duration": 212,
    "start_time": "2022-03-14T14:44:59.649Z"
   },
   {
    "duration": 12,
    "start_time": "2022-03-14T14:47:05.904Z"
   },
   {
    "duration": 901,
    "start_time": "2022-03-14T14:47:14.661Z"
   },
   {
    "duration": 19,
    "start_time": "2022-03-14T14:47:15.564Z"
   },
   {
    "duration": 200,
    "start_time": "2022-03-14T14:47:15.585Z"
   },
   {
    "duration": 332,
    "start_time": "2022-03-14T14:47:15.787Z"
   },
   {
    "duration": 293,
    "start_time": "2022-03-14T14:47:16.121Z"
   },
   {
    "duration": 308,
    "start_time": "2022-03-14T14:47:16.415Z"
   },
   {
    "duration": 269,
    "start_time": "2022-03-14T14:47:16.724Z"
   },
   {
    "duration": 825,
    "start_time": "2022-03-14T14:47:16.997Z"
   },
   {
    "duration": 268,
    "start_time": "2022-03-14T14:47:17.824Z"
   },
   {
    "duration": 841,
    "start_time": "2022-03-14T14:47:18.093Z"
   },
   {
    "duration": 670,
    "start_time": "2022-03-14T14:47:18.935Z"
   },
   {
    "duration": 805,
    "start_time": "2022-03-14T14:47:19.607Z"
   },
   {
    "duration": 1158,
    "start_time": "2022-03-14T14:47:20.413Z"
   },
   {
    "duration": 619,
    "start_time": "2022-03-14T14:47:21.573Z"
   },
   {
    "duration": 458,
    "start_time": "2022-03-14T14:47:22.194Z"
   },
   {
    "duration": 503,
    "start_time": "2022-03-14T14:47:22.654Z"
   },
   {
    "duration": 317,
    "start_time": "2022-03-14T14:47:23.159Z"
   },
   {
    "duration": 251,
    "start_time": "2022-03-14T14:47:23.478Z"
   },
   {
    "duration": 654,
    "start_time": "2022-03-14T14:47:23.731Z"
   },
   {
    "duration": 773,
    "start_time": "2022-03-14T14:47:24.387Z"
   },
   {
    "duration": 553,
    "start_time": "2022-03-14T14:47:25.161Z"
   },
   {
    "duration": 663,
    "start_time": "2022-03-14T14:47:25.716Z"
   },
   {
    "duration": 233,
    "start_time": "2022-03-14T14:47:26.381Z"
   },
   {
    "duration": 337,
    "start_time": "2022-03-14T14:47:26.616Z"
   },
   {
    "duration": 307,
    "start_time": "2022-03-14T14:47:26.954Z"
   },
   {
    "duration": 245,
    "start_time": "2022-03-14T14:47:27.263Z"
   },
   {
    "duration": 215,
    "start_time": "2022-03-14T14:47:27.510Z"
   },
   {
    "duration": 246,
    "start_time": "2022-03-14T14:47:27.727Z"
   },
   {
    "duration": 356,
    "start_time": "2022-03-14T14:47:27.975Z"
   },
   {
    "duration": 507,
    "start_time": "2022-03-14T14:47:28.333Z"
   },
   {
    "duration": 252,
    "start_time": "2022-03-14T14:47:28.842Z"
   },
   {
    "duration": 15,
    "start_time": "2022-03-14T14:49:18.797Z"
   },
   {
    "duration": 15,
    "start_time": "2022-03-14T14:49:26.099Z"
   },
   {
    "duration": 8,
    "start_time": "2022-03-14T14:49:46.452Z"
   },
   {
    "duration": 6,
    "start_time": "2022-03-14T14:50:13.033Z"
   },
   {
    "duration": 9,
    "start_time": "2022-03-14T14:54:28.378Z"
   },
   {
    "duration": 9,
    "start_time": "2022-03-14T14:54:34.577Z"
   },
   {
    "duration": 8,
    "start_time": "2022-03-14T14:54:51.274Z"
   },
   {
    "duration": 361,
    "start_time": "2022-03-14T14:55:45.868Z"
   },
   {
    "duration": 333,
    "start_time": "2022-03-14T14:55:47.269Z"
   },
   {
    "duration": 21,
    "start_time": "2022-03-14T14:55:59.321Z"
   },
   {
    "duration": 6,
    "start_time": "2022-03-14T14:56:06.695Z"
   },
   {
    "duration": 668,
    "start_time": "2022-03-14T14:56:16.579Z"
   },
   {
    "duration": 84,
    "start_time": "2022-03-14T14:56:17.248Z"
   },
   {
    "duration": 996,
    "start_time": "2022-03-14T14:56:17.334Z"
   },
   {
    "duration": 696,
    "start_time": "2022-03-14T14:56:18.332Z"
   },
   {
    "duration": 304,
    "start_time": "2022-03-14T14:56:19.030Z"
   },
   {
    "duration": 381,
    "start_time": "2022-03-14T14:56:19.335Z"
   },
   {
    "duration": 338,
    "start_time": "2022-03-14T14:56:19.718Z"
   },
   {
    "duration": 301,
    "start_time": "2022-03-14T14:56:20.058Z"
   },
   {
    "duration": 354,
    "start_time": "2022-03-14T14:56:20.362Z"
   },
   {
    "duration": 383,
    "start_time": "2022-03-14T14:56:20.718Z"
   },
   {
    "duration": 462,
    "start_time": "2022-03-14T14:56:21.103Z"
   },
   {
    "duration": 420,
    "start_time": "2022-03-14T14:56:21.567Z"
   },
   {
    "duration": 351,
    "start_time": "2022-03-14T14:56:21.989Z"
   },
   {
    "duration": 274,
    "start_time": "2022-03-14T14:56:22.341Z"
   },
   {
    "duration": 401,
    "start_time": "2022-03-14T14:56:22.616Z"
   },
   {
    "duration": 369,
    "start_time": "2022-03-14T14:56:23.019Z"
   },
   {
    "duration": 585,
    "start_time": "2022-03-14T14:56:23.390Z"
   },
   {
    "duration": 292,
    "start_time": "2022-03-14T14:56:23.976Z"
   },
   {
    "duration": 80,
    "start_time": "2022-03-14T14:56:24.270Z"
   },
   {
    "duration": 200,
    "start_time": "2022-03-14T14:56:24.351Z"
   },
   {
    "duration": 583,
    "start_time": "2022-03-14T14:56:24.552Z"
   },
   {
    "duration": 401,
    "start_time": "2022-03-14T14:56:25.137Z"
   },
   {
    "duration": 288,
    "start_time": "2022-03-14T14:56:25.540Z"
   },
   {
    "duration": 257,
    "start_time": "2022-03-14T14:56:25.830Z"
   },
   {
    "duration": 336,
    "start_time": "2022-03-14T14:56:26.089Z"
   },
   {
    "duration": 303,
    "start_time": "2022-03-14T14:56:26.426Z"
   },
   {
    "duration": 125,
    "start_time": "2022-03-14T14:56:26.731Z"
   },
   {
    "duration": 23,
    "start_time": "2022-03-14T14:56:26.857Z"
   },
   {
    "duration": 12,
    "start_time": "2022-03-14T14:56:26.882Z"
   },
   {
    "duration": 50,
    "start_time": "2022-03-14T14:56:26.895Z"
   },
   {
    "duration": 348,
    "start_time": "2022-03-14T14:56:26.946Z"
   },
   {
    "duration": 15,
    "start_time": "2022-03-14T15:00:12.867Z"
   },
   {
    "duration": 12,
    "start_time": "2022-03-14T15:01:27.882Z"
   },
   {
    "duration": 11,
    "start_time": "2022-03-14T15:11:52.013Z"
   },
   {
    "duration": 15,
    "start_time": "2022-03-14T15:12:47.358Z"
   },
   {
    "duration": 15,
    "start_time": "2022-03-14T15:28:07.380Z"
   },
   {
    "duration": 12,
    "start_time": "2022-03-14T15:28:46.055Z"
   },
   {
    "duration": 3,
    "start_time": "2022-03-14T15:32:01.279Z"
   },
   {
    "duration": 15,
    "start_time": "2022-03-14T15:32:57.758Z"
   },
   {
    "duration": 12,
    "start_time": "2022-03-14T15:33:11.826Z"
   },
   {
    "duration": -345,
    "start_time": "2022-03-14T15:37:01.248Z"
   },
   {
    "duration": 7732,
    "start_time": "2022-03-14T15:37:04.378Z"
   },
   {
    "duration": -358,
    "start_time": "2022-03-14T15:37:12.471Z"
   },
   {
    "duration": 22,
    "start_time": "2022-03-14T15:37:25.230Z"
   },
   {
    "duration": 12,
    "start_time": "2022-03-14T15:37:28.524Z"
   },
   {
    "duration": 129,
    "start_time": "2022-03-14T15:40:34.497Z"
   },
   {
    "duration": 14,
    "start_time": "2022-03-14T15:41:44.597Z"
   },
   {
    "duration": 13,
    "start_time": "2022-03-14T15:42:03.084Z"
   },
   {
    "duration": 1320,
    "start_time": "2022-03-14T15:59:49.765Z"
   },
   {
    "duration": 294,
    "start_time": "2022-03-14T16:00:29.692Z"
   },
   {
    "duration": 19,
    "start_time": "2022-03-14T16:01:38.677Z"
   },
   {
    "duration": 328,
    "start_time": "2022-03-14T16:04:12.376Z"
   },
   {
    "duration": 24,
    "start_time": "2022-03-14T16:09:40.821Z"
   },
   {
    "duration": 28,
    "start_time": "2022-03-14T16:12:25.924Z"
   },
   {
    "duration": 239,
    "start_time": "2022-03-24T16:49:34.295Z"
   },
   {
    "duration": 50,
    "start_time": "2022-03-27T06:32:23.470Z"
   },
   {
    "duration": 517,
    "start_time": "2022-03-27T06:32:37.048Z"
   },
   {
    "duration": 17,
    "start_time": "2022-03-27T06:32:37.567Z"
   },
   {
    "duration": 8,
    "start_time": "2022-03-27T06:32:37.585Z"
   },
   {
    "duration": 16,
    "start_time": "2022-03-27T06:32:37.595Z"
   },
   {
    "duration": 8,
    "start_time": "2022-03-27T06:32:37.631Z"
   },
   {
    "duration": 10,
    "start_time": "2022-03-27T06:32:37.641Z"
   },
   {
    "duration": 17,
    "start_time": "2022-03-27T06:32:37.653Z"
   },
   {
    "duration": 6,
    "start_time": "2022-03-27T06:32:37.672Z"
   },
   {
    "duration": 9,
    "start_time": "2022-03-27T06:32:37.680Z"
   },
   {
    "duration": 41,
    "start_time": "2022-03-27T06:32:37.694Z"
   },
   {
    "duration": 6,
    "start_time": "2022-03-27T06:32:37.737Z"
   },
   {
    "duration": 8,
    "start_time": "2022-03-27T06:32:37.745Z"
   },
   {
    "duration": 24,
    "start_time": "2022-03-27T06:32:37.755Z"
   },
   {
    "duration": 31,
    "start_time": "2022-03-27T06:32:37.781Z"
   },
   {
    "duration": 76,
    "start_time": "2022-03-27T06:32:37.814Z"
   },
   {
    "duration": 0,
    "start_time": "2022-03-27T06:32:37.892Z"
   },
   {
    "duration": 0,
    "start_time": "2022-03-27T06:32:37.893Z"
   },
   {
    "duration": 0,
    "start_time": "2022-03-27T06:32:37.894Z"
   },
   {
    "duration": 0,
    "start_time": "2022-03-27T06:32:37.896Z"
   },
   {
    "duration": 0,
    "start_time": "2022-03-27T06:32:37.897Z"
   },
   {
    "duration": 0,
    "start_time": "2022-03-27T06:32:37.898Z"
   },
   {
    "duration": 0,
    "start_time": "2022-03-27T06:32:37.899Z"
   },
   {
    "duration": 0,
    "start_time": "2022-03-27T06:32:37.899Z"
   },
   {
    "duration": 0,
    "start_time": "2022-03-27T06:32:37.900Z"
   },
   {
    "duration": 0,
    "start_time": "2022-03-27T06:32:37.901Z"
   },
   {
    "duration": 0,
    "start_time": "2022-03-27T06:32:37.902Z"
   },
   {
    "duration": 0,
    "start_time": "2022-03-27T06:32:37.903Z"
   },
   {
    "duration": 0,
    "start_time": "2022-03-27T06:32:37.905Z"
   },
   {
    "duration": 0,
    "start_time": "2022-03-27T06:32:37.906Z"
   },
   {
    "duration": 0,
    "start_time": "2022-03-27T06:32:37.931Z"
   },
   {
    "duration": 0,
    "start_time": "2022-03-27T06:32:37.933Z"
   },
   {
    "duration": 0,
    "start_time": "2022-03-27T06:32:37.935Z"
   },
   {
    "duration": 7,
    "start_time": "2022-03-27T06:32:53.363Z"
   },
   {
    "duration": 8,
    "start_time": "2022-03-27T06:32:54.564Z"
   },
   {
    "duration": 11,
    "start_time": "2022-03-27T06:33:18.357Z"
   },
   {
    "duration": 10,
    "start_time": "2022-03-27T06:34:30.398Z"
   },
   {
    "duration": 7,
    "start_time": "2022-03-27T06:38:28.318Z"
   },
   {
    "duration": 5,
    "start_time": "2022-03-27T06:38:29.776Z"
   },
   {
    "duration": 11,
    "start_time": "2022-03-27T06:42:42.866Z"
   },
   {
    "duration": 6,
    "start_time": "2022-03-27T06:43:51.386Z"
   },
   {
    "duration": 2650,
    "start_time": "2022-03-27T06:46:21.984Z"
   },
   {
    "duration": 3,
    "start_time": "2022-03-27T06:46:30.354Z"
   },
   {
    "duration": 3,
    "start_time": "2022-03-27T06:46:33.850Z"
   },
   {
    "duration": 12,
    "start_time": "2022-03-27T06:47:27.669Z"
   },
   {
    "duration": 12,
    "start_time": "2022-03-27T06:50:03.514Z"
   },
   {
    "duration": 477,
    "start_time": "2022-03-27T06:54:15.061Z"
   },
   {
    "duration": 16,
    "start_time": "2022-03-27T06:54:15.540Z"
   },
   {
    "duration": 7,
    "start_time": "2022-03-27T06:54:15.558Z"
   },
   {
    "duration": 16,
    "start_time": "2022-03-27T06:54:15.566Z"
   },
   {
    "duration": 5,
    "start_time": "2022-03-27T06:54:15.585Z"
   },
   {
    "duration": 13,
    "start_time": "2022-03-27T06:54:15.592Z"
   },
   {
    "duration": 15,
    "start_time": "2022-03-27T06:54:15.631Z"
   },
   {
    "duration": 7,
    "start_time": "2022-03-27T06:54:15.648Z"
   },
   {
    "duration": 13,
    "start_time": "2022-03-27T06:54:15.657Z"
   },
   {
    "duration": 9,
    "start_time": "2022-03-27T06:54:15.671Z"
   },
   {
    "duration": 10,
    "start_time": "2022-03-27T06:54:15.681Z"
   },
   {
    "duration": 5,
    "start_time": "2022-03-27T06:54:15.693Z"
   },
   {
    "duration": 34,
    "start_time": "2022-03-27T06:54:15.700Z"
   },
   {
    "duration": 13,
    "start_time": "2022-03-27T06:54:15.737Z"
   },
   {
    "duration": 13,
    "start_time": "2022-03-27T06:54:15.752Z"
   },
   {
    "duration": 6,
    "start_time": "2022-03-27T06:54:15.767Z"
   },
   {
    "duration": 12,
    "start_time": "2022-03-27T06:54:15.776Z"
   },
   {
    "duration": 5,
    "start_time": "2022-03-27T06:54:15.790Z"
   },
   {
    "duration": 49,
    "start_time": "2022-03-27T06:54:15.797Z"
   },
   {
    "duration": 13,
    "start_time": "2022-03-27T06:54:15.848Z"
   },
   {
    "duration": 22,
    "start_time": "2022-03-27T06:54:15.863Z"
   },
   {
    "duration": 57,
    "start_time": "2022-03-27T06:54:15.887Z"
   },
   {
    "duration": 8,
    "start_time": "2022-03-27T06:54:15.946Z"
   },
   {
    "duration": 10,
    "start_time": "2022-03-27T06:54:15.956Z"
   },
   {
    "duration": 7,
    "start_time": "2022-03-27T06:54:15.968Z"
   },
   {
    "duration": 13,
    "start_time": "2022-03-27T06:54:15.977Z"
   },
   {
    "duration": 49,
    "start_time": "2022-03-27T06:54:15.992Z"
   },
   {
    "duration": 9,
    "start_time": "2022-03-27T06:54:16.043Z"
   },
   {
    "duration": 23,
    "start_time": "2022-03-27T06:54:16.054Z"
   },
   {
    "duration": 7,
    "start_time": "2022-03-27T06:54:16.079Z"
   },
   {
    "duration": 9,
    "start_time": "2022-03-27T06:54:16.088Z"
   },
   {
    "duration": 7,
    "start_time": "2022-03-27T06:54:16.099Z"
   },
   {
    "duration": 42,
    "start_time": "2022-03-27T06:54:16.108Z"
   },
   {
    "duration": 78,
    "start_time": "2022-03-27T07:28:52.812Z"
   },
   {
    "duration": 17,
    "start_time": "2022-03-27T07:31:05.725Z"
   },
   {
    "duration": 11,
    "start_time": "2022-03-27T07:32:03.223Z"
   },
   {
    "duration": 10,
    "start_time": "2022-03-27T07:32:06.745Z"
   },
   {
    "duration": 11,
    "start_time": "2022-03-27T07:32:26.866Z"
   },
   {
    "duration": 13,
    "start_time": "2022-03-27T07:32:58.445Z"
   },
   {
    "duration": 14,
    "start_time": "2022-03-27T07:33:27.211Z"
   },
   {
    "duration": 14,
    "start_time": "2022-03-27T07:33:32.659Z"
   },
   {
    "duration": 11,
    "start_time": "2022-03-27T07:33:39.811Z"
   },
   {
    "duration": 15,
    "start_time": "2022-03-27T07:39:23.456Z"
   },
   {
    "duration": 15,
    "start_time": "2022-03-27T07:40:19.324Z"
   },
   {
    "duration": 13,
    "start_time": "2022-03-27T07:40:34.917Z"
   },
   {
    "duration": 15,
    "start_time": "2022-03-27T07:46:16.461Z"
   },
   {
    "duration": 14,
    "start_time": "2022-03-27T07:48:39.632Z"
   },
   {
    "duration": 26,
    "start_time": "2022-03-27T07:51:25.724Z"
   },
   {
    "duration": 13,
    "start_time": "2022-03-27T07:51:59.168Z"
   },
   {
    "duration": 18,
    "start_time": "2022-03-27T07:52:25.924Z"
   },
   {
    "duration": 13,
    "start_time": "2022-03-27T07:52:44.761Z"
   },
   {
    "duration": 17,
    "start_time": "2022-03-27T07:52:48.176Z"
   },
   {
    "duration": 15,
    "start_time": "2022-03-27T07:57:05.883Z"
   },
   {
    "duration": 2589,
    "start_time": "2022-03-27T08:03:02.464Z"
   },
   {
    "duration": 17,
    "start_time": "2022-03-27T08:03:59.335Z"
   },
   {
    "duration": 20,
    "start_time": "2022-03-27T08:08:43.293Z"
   },
   {
    "duration": 21,
    "start_time": "2022-03-27T08:15:47.032Z"
   },
   {
    "duration": 22,
    "start_time": "2022-03-27T08:16:16.923Z"
   },
   {
    "duration": 2,
    "start_time": "2022-03-27T08:21:43.636Z"
   },
   {
    "duration": 47,
    "start_time": "2022-03-27T12:52:10.463Z"
   },
   {
    "duration": 492,
    "start_time": "2022-03-27T12:52:24.045Z"
   },
   {
    "duration": 16,
    "start_time": "2022-03-27T12:52:24.539Z"
   },
   {
    "duration": 8,
    "start_time": "2022-03-27T12:52:24.556Z"
   },
   {
    "duration": 14,
    "start_time": "2022-03-27T12:52:24.567Z"
   },
   {
    "duration": 6,
    "start_time": "2022-03-27T12:52:24.582Z"
   },
   {
    "duration": 12,
    "start_time": "2022-03-27T12:52:24.589Z"
   },
   {
    "duration": 47,
    "start_time": "2022-03-27T12:52:24.603Z"
   },
   {
    "duration": 5,
    "start_time": "2022-03-27T12:52:24.651Z"
   },
   {
    "duration": 15,
    "start_time": "2022-03-27T12:52:24.658Z"
   },
   {
    "duration": 9,
    "start_time": "2022-03-27T12:52:24.677Z"
   },
   {
    "duration": 9,
    "start_time": "2022-03-27T12:52:24.688Z"
   },
   {
    "duration": 8,
    "start_time": "2022-03-27T12:52:24.699Z"
   },
   {
    "duration": 31,
    "start_time": "2022-03-27T12:52:24.708Z"
   },
   {
    "duration": 17,
    "start_time": "2022-03-27T12:52:24.741Z"
   },
   {
    "duration": 21,
    "start_time": "2022-03-27T12:52:24.760Z"
   },
   {
    "duration": 11,
    "start_time": "2022-03-27T12:52:24.783Z"
   },
   {
    "duration": 16,
    "start_time": "2022-03-27T12:52:24.796Z"
   },
   {
    "duration": 25,
    "start_time": "2022-03-27T12:52:24.814Z"
   },
   {
    "duration": 17,
    "start_time": "2022-03-27T12:52:24.841Z"
   },
   {
    "duration": 13,
    "start_time": "2022-03-27T12:52:24.860Z"
   },
   {
    "duration": 31,
    "start_time": "2022-03-27T12:52:24.875Z"
   },
   {
    "duration": 46,
    "start_time": "2022-03-27T12:52:24.910Z"
   },
   {
    "duration": 7,
    "start_time": "2022-03-27T12:52:24.958Z"
   },
   {
    "duration": 20,
    "start_time": "2022-03-27T12:52:24.966Z"
   },
   {
    "duration": 12,
    "start_time": "2022-03-27T12:52:24.987Z"
   },
   {
    "duration": 13,
    "start_time": "2022-03-27T12:52:25.001Z"
   },
   {
    "duration": 33,
    "start_time": "2022-03-27T12:52:25.015Z"
   },
   {
    "duration": 4,
    "start_time": "2022-03-27T12:52:25.052Z"
   },
   {
    "duration": 40,
    "start_time": "2022-03-27T12:52:25.057Z"
   },
   {
    "duration": 18,
    "start_time": "2022-03-27T12:52:25.099Z"
   },
   {
    "duration": 15,
    "start_time": "2022-03-27T12:52:25.120Z"
   },
   {
    "duration": 12,
    "start_time": "2022-03-27T12:52:25.137Z"
   },
   {
    "duration": 26,
    "start_time": "2022-03-27T12:52:25.151Z"
   },
   {
    "duration": 30,
    "start_time": "2022-03-27T12:52:25.179Z"
   },
   {
    "duration": 16,
    "start_time": "2022-03-27T12:52:25.211Z"
   },
   {
    "duration": 27,
    "start_time": "2022-03-27T12:52:25.228Z"
   },
   {
    "duration": 20,
    "start_time": "2022-03-27T12:52:25.256Z"
   },
   {
    "duration": 23,
    "start_time": "2022-03-27T12:53:44.273Z"
   },
   {
    "duration": 19,
    "start_time": "2022-03-27T12:54:37.253Z"
   },
   {
    "duration": 25,
    "start_time": "2022-03-27T12:54:43.397Z"
   },
   {
    "duration": 26,
    "start_time": "2022-03-27T13:18:32.422Z"
   },
   {
    "duration": 26,
    "start_time": "2022-03-27T13:22:33.436Z"
   },
   {
    "duration": 28,
    "start_time": "2022-03-27T13:30:51.738Z"
   },
   {
    "duration": 124,
    "start_time": "2022-03-27T14:06:35.614Z"
   },
   {
    "duration": 69,
    "start_time": "2022-04-11T15:36:40.808Z"
   },
   {
    "duration": 751,
    "start_time": "2022-04-11T15:36:56.605Z"
   },
   {
    "duration": 21,
    "start_time": "2022-04-11T15:36:57.359Z"
   },
   {
    "duration": 24,
    "start_time": "2022-04-11T15:36:57.385Z"
   },
   {
    "duration": 14,
    "start_time": "2022-04-11T15:36:57.413Z"
   },
   {
    "duration": 27,
    "start_time": "2022-04-11T15:36:57.429Z"
   },
   {
    "duration": 47,
    "start_time": "2022-04-11T15:36:57.458Z"
   },
   {
    "duration": 7,
    "start_time": "2022-04-11T15:36:57.507Z"
   },
   {
    "duration": 9,
    "start_time": "2022-04-11T15:36:57.516Z"
   },
   {
    "duration": 5,
    "start_time": "2022-04-11T15:36:57.527Z"
   },
   {
    "duration": 13,
    "start_time": "2022-04-11T15:36:57.536Z"
   },
   {
    "duration": 17,
    "start_time": "2022-04-11T15:36:57.551Z"
   },
   {
    "duration": 55,
    "start_time": "2022-04-11T15:36:57.570Z"
   },
   {
    "duration": 16,
    "start_time": "2022-04-11T15:36:57.627Z"
   },
   {
    "duration": 19,
    "start_time": "2022-04-11T15:36:57.645Z"
   },
   {
    "duration": 21,
    "start_time": "2022-04-11T15:36:57.666Z"
   },
   {
    "duration": 22,
    "start_time": "2022-04-11T15:36:57.691Z"
   },
   {
    "duration": 22,
    "start_time": "2022-04-11T15:36:57.715Z"
   },
   {
    "duration": 985,
    "start_time": "2022-04-11T15:36:57.739Z"
   },
   {
    "duration": 35,
    "start_time": "2022-04-11T15:36:58.726Z"
   },
   {
    "duration": 1092,
    "start_time": "2022-04-11T15:36:58.763Z"
   },
   {
    "duration": 441,
    "start_time": "2022-04-11T15:36:59.858Z"
   },
   {
    "duration": 462,
    "start_time": "2022-04-11T15:37:00.302Z"
   },
   {
    "duration": 414,
    "start_time": "2022-04-11T15:37:00.767Z"
   },
   {
    "duration": 353,
    "start_time": "2022-04-11T15:37:01.185Z"
   },
   {
    "duration": 13,
    "start_time": "2022-04-11T15:37:01.540Z"
   },
   {
    "duration": 4,
    "start_time": "2022-04-11T15:37:01.555Z"
   },
   {
    "duration": 201,
    "start_time": "2022-04-11T15:37:01.592Z"
   },
   {
    "duration": 422,
    "start_time": "2022-04-11T15:37:01.802Z"
   },
   {
    "duration": 12,
    "start_time": "2022-04-11T15:37:02.227Z"
   },
   {
    "duration": 303,
    "start_time": "2022-04-11T15:37:02.241Z"
   },
   {
    "duration": 17,
    "start_time": "2022-04-11T15:37:02.547Z"
   },
   {
    "duration": 511,
    "start_time": "2022-04-11T15:37:02.586Z"
   },
   {
    "duration": 10,
    "start_time": "2022-04-11T15:37:03.100Z"
   },
   {
    "duration": 368,
    "start_time": "2022-04-11T15:37:03.112Z"
   },
   {
    "duration": 16,
    "start_time": "2022-04-11T15:37:03.482Z"
   },
   {
    "duration": 234,
    "start_time": "2022-04-11T15:37:03.502Z"
   },
   {
    "duration": 789,
    "start_time": "2022-04-11T15:37:03.738Z"
   },
   {
    "duration": 9,
    "start_time": "2022-04-11T15:37:04.530Z"
   },
   {
    "duration": 241,
    "start_time": "2022-04-11T15:37:04.546Z"
   },
   {
    "duration": 265,
    "start_time": "2022-04-11T15:37:04.790Z"
   },
   {
    "duration": 220,
    "start_time": "2022-04-11T15:37:05.058Z"
   },
   {
    "duration": 40,
    "start_time": "2022-04-11T15:37:05.281Z"
   },
   {
    "duration": 16,
    "start_time": "2022-04-11T15:37:05.323Z"
   },
   {
    "duration": 38,
    "start_time": "2022-04-11T15:37:05.341Z"
   },
   {
    "duration": 349,
    "start_time": "2022-04-11T15:37:05.382Z"
   },
   {
    "duration": 13,
    "start_time": "2022-04-11T15:37:05.735Z"
   },
   {
    "duration": 294,
    "start_time": "2022-04-11T15:37:05.750Z"
   },
   {
    "duration": 279,
    "start_time": "2022-04-11T15:37:06.046Z"
   },
   {
    "duration": 288,
    "start_time": "2022-04-11T15:37:06.328Z"
   },
   {
    "duration": 414,
    "start_time": "2022-04-11T15:37:06.618Z"
   },
   {
    "duration": 414,
    "start_time": "2022-04-11T15:37:07.034Z"
   },
   {
    "duration": 426,
    "start_time": "2022-04-11T15:37:07.451Z"
   },
   {
    "duration": 580,
    "start_time": "2022-04-11T15:37:07.879Z"
   },
   {
    "duration": 247,
    "start_time": "2022-04-11T15:37:08.461Z"
   },
   {
    "duration": 250,
    "start_time": "2022-04-11T15:37:08.711Z"
   },
   {
    "duration": 256,
    "start_time": "2022-04-11T15:37:08.964Z"
   },
   {
    "duration": 18,
    "start_time": "2022-04-11T15:37:53.465Z"
   },
   {
    "duration": 15,
    "start_time": "2022-04-11T15:38:40.833Z"
   },
   {
    "duration": 16,
    "start_time": "2022-04-11T15:39:02.253Z"
   },
   {
    "duration": 15,
    "start_time": "2022-04-11T15:39:40.832Z"
   },
   {
    "duration": 671,
    "start_time": "2022-04-11T15:39:57.628Z"
   },
   {
    "duration": 22,
    "start_time": "2022-04-11T15:39:58.302Z"
   },
   {
    "duration": 15,
    "start_time": "2022-04-11T15:39:58.326Z"
   },
   {
    "duration": 40,
    "start_time": "2022-04-11T15:39:58.345Z"
   },
   {
    "duration": 22,
    "start_time": "2022-04-11T15:39:58.388Z"
   },
   {
    "duration": 30,
    "start_time": "2022-04-11T15:39:58.413Z"
   },
   {
    "duration": 42,
    "start_time": "2022-04-11T15:39:58.446Z"
   },
   {
    "duration": 11,
    "start_time": "2022-04-11T15:39:58.491Z"
   },
   {
    "duration": 18,
    "start_time": "2022-04-11T15:39:58.504Z"
   },
   {
    "duration": 10,
    "start_time": "2022-04-11T15:39:58.528Z"
   },
   {
    "duration": 44,
    "start_time": "2022-04-11T15:39:58.540Z"
   },
   {
    "duration": 44,
    "start_time": "2022-04-11T15:39:58.586Z"
   },
   {
    "duration": 20,
    "start_time": "2022-04-11T15:39:58.632Z"
   },
   {
    "duration": 47,
    "start_time": "2022-04-11T15:39:58.656Z"
   },
   {
    "duration": 18,
    "start_time": "2022-04-11T15:39:58.707Z"
   },
   {
    "duration": 31,
    "start_time": "2022-04-11T15:39:58.727Z"
   },
   {
    "duration": 28,
    "start_time": "2022-04-11T15:39:58.784Z"
   },
   {
    "duration": 908,
    "start_time": "2022-04-11T15:39:58.815Z"
   },
   {
    "duration": 59,
    "start_time": "2022-04-11T15:39:59.726Z"
   },
   {
    "duration": 1045,
    "start_time": "2022-04-11T15:39:59.788Z"
   },
   {
    "duration": 696,
    "start_time": "2022-04-11T15:40:00.836Z"
   },
   {
    "duration": 631,
    "start_time": "2022-04-11T15:40:01.535Z"
   },
   {
    "duration": 615,
    "start_time": "2022-04-11T15:40:02.169Z"
   },
   {
    "duration": 310,
    "start_time": "2022-04-11T15:40:02.787Z"
   },
   {
    "duration": 14,
    "start_time": "2022-04-11T15:40:03.100Z"
   },
   {
    "duration": 92,
    "start_time": "2022-04-11T15:40:03.117Z"
   },
   {
    "duration": 255,
    "start_time": "2022-04-11T15:40:03.211Z"
   },
   {
    "duration": 391,
    "start_time": "2022-04-11T15:40:03.483Z"
   },
   {
    "duration": 14,
    "start_time": "2022-04-11T15:40:03.885Z"
   },
   {
    "duration": 196,
    "start_time": "2022-04-11T15:40:03.902Z"
   },
   {
    "duration": 20,
    "start_time": "2022-04-11T15:40:04.101Z"
   },
   {
    "duration": 778,
    "start_time": "2022-04-11T15:40:04.123Z"
   },
   {
    "duration": 9,
    "start_time": "2022-04-11T15:40:04.904Z"
   },
   {
    "duration": 290,
    "start_time": "2022-04-11T15:40:04.915Z"
   },
   {
    "duration": 9,
    "start_time": "2022-04-11T15:40:05.208Z"
   },
   {
    "duration": 196,
    "start_time": "2022-04-11T15:40:05.219Z"
   },
   {
    "duration": 740,
    "start_time": "2022-04-11T15:40:05.418Z"
   },
   {
    "duration": 25,
    "start_time": "2022-04-11T15:40:06.161Z"
   },
   {
    "duration": 319,
    "start_time": "2022-04-11T15:40:06.188Z"
   },
   {
    "duration": 391,
    "start_time": "2022-04-11T15:40:06.509Z"
   },
   {
    "duration": 236,
    "start_time": "2022-04-11T15:40:06.902Z"
   },
   {
    "duration": 43,
    "start_time": "2022-04-11T15:40:07.140Z"
   },
   {
    "duration": 5,
    "start_time": "2022-04-11T15:40:07.185Z"
   },
   {
    "duration": 9,
    "start_time": "2022-04-11T15:40:07.192Z"
   },
   {
    "duration": 316,
    "start_time": "2022-04-11T15:40:07.203Z"
   },
   {
    "duration": 14,
    "start_time": "2022-04-11T15:40:07.521Z"
   },
   {
    "duration": 396,
    "start_time": "2022-04-11T15:40:07.538Z"
   },
   {
    "duration": 388,
    "start_time": "2022-04-11T15:40:07.937Z"
   },
   {
    "duration": 396,
    "start_time": "2022-04-11T15:40:08.328Z"
   },
   {
    "duration": 376,
    "start_time": "2022-04-11T15:40:08.727Z"
   },
   {
    "duration": 345,
    "start_time": "2022-04-11T15:40:09.106Z"
   },
   {
    "duration": 354,
    "start_time": "2022-04-11T15:40:09.453Z"
   },
   {
    "duration": 559,
    "start_time": "2022-04-11T15:40:09.809Z"
   },
   {
    "duration": 235,
    "start_time": "2022-04-11T15:40:10.370Z"
   },
   {
    "duration": 204,
    "start_time": "2022-04-11T15:40:10.608Z"
   },
   {
    "duration": 233,
    "start_time": "2022-04-11T15:40:10.814Z"
   },
   {
    "duration": 97,
    "start_time": "2022-04-11T15:47:15.479Z"
   },
   {
    "duration": 112,
    "start_time": "2022-04-11T15:47:37.019Z"
   },
   {
    "duration": 113,
    "start_time": "2022-04-11T15:48:16.128Z"
   },
   {
    "duration": 110,
    "start_time": "2022-04-11T15:48:21.582Z"
   },
   {
    "duration": 120,
    "start_time": "2022-04-11T15:48:37.527Z"
   },
   {
    "duration": 21,
    "start_time": "2022-04-11T15:48:54.528Z"
   },
   {
    "duration": 163,
    "start_time": "2022-04-11T15:49:20.217Z"
   },
   {
    "duration": 24,
    "start_time": "2022-04-11T15:49:29.723Z"
   },
   {
    "duration": 21,
    "start_time": "2022-04-11T15:49:47.475Z"
   },
   {
    "duration": 1004,
    "start_time": "2022-04-11T15:50:02.285Z"
   },
   {
    "duration": 33,
    "start_time": "2022-04-11T15:50:03.293Z"
   },
   {
    "duration": 22,
    "start_time": "2022-04-11T15:50:03.329Z"
   },
   {
    "duration": 41,
    "start_time": "2022-04-11T15:50:03.354Z"
   },
   {
    "duration": 32,
    "start_time": "2022-04-11T15:50:03.400Z"
   },
   {
    "duration": 72,
    "start_time": "2022-04-11T15:50:03.434Z"
   },
   {
    "duration": 9,
    "start_time": "2022-04-11T15:50:03.509Z"
   },
   {
    "duration": 34,
    "start_time": "2022-04-11T15:50:03.520Z"
   },
   {
    "duration": 42,
    "start_time": "2022-04-11T15:50:03.556Z"
   },
   {
    "duration": 42,
    "start_time": "2022-04-11T15:50:03.600Z"
   },
   {
    "duration": 23,
    "start_time": "2022-04-11T15:50:03.645Z"
   },
   {
    "duration": 43,
    "start_time": "2022-04-11T15:50:03.671Z"
   },
   {
    "duration": 16,
    "start_time": "2022-04-11T15:50:03.717Z"
   },
   {
    "duration": 19,
    "start_time": "2022-04-11T15:50:03.738Z"
   },
   {
    "duration": 30,
    "start_time": "2022-04-11T15:50:03.760Z"
   },
   {
    "duration": 26,
    "start_time": "2022-04-11T15:50:03.793Z"
   },
   {
    "duration": 22,
    "start_time": "2022-04-11T15:50:03.821Z"
   },
   {
    "duration": 927,
    "start_time": "2022-04-11T15:50:03.846Z"
   },
   {
    "duration": 56,
    "start_time": "2022-04-11T15:50:04.776Z"
   },
   {
    "duration": 1170,
    "start_time": "2022-04-11T15:50:04.835Z"
   },
   {
    "duration": 664,
    "start_time": "2022-04-11T15:50:06.008Z"
   },
   {
    "duration": 414,
    "start_time": "2022-04-11T15:50:06.675Z"
   },
   {
    "duration": 395,
    "start_time": "2022-04-11T15:50:07.092Z"
   },
   {
    "duration": 304,
    "start_time": "2022-04-11T15:50:07.490Z"
   },
   {
    "duration": 13,
    "start_time": "2022-04-11T15:50:07.797Z"
   },
   {
    "duration": 5,
    "start_time": "2022-04-11T15:50:07.813Z"
   },
   {
    "duration": 222,
    "start_time": "2022-04-11T15:50:07.820Z"
   },
   {
    "duration": 394,
    "start_time": "2022-04-11T15:50:08.044Z"
   },
   {
    "duration": 13,
    "start_time": "2022-04-11T15:50:08.440Z"
   },
   {
    "duration": 203,
    "start_time": "2022-04-11T15:50:08.455Z"
   },
   {
    "duration": 32,
    "start_time": "2022-04-11T15:50:08.660Z"
   },
   {
    "duration": 559,
    "start_time": "2022-04-11T15:50:08.694Z"
   },
   {
    "duration": 7,
    "start_time": "2022-04-11T15:50:09.255Z"
   },
   {
    "duration": 279,
    "start_time": "2022-04-11T15:50:09.264Z"
   },
   {
    "duration": 8,
    "start_time": "2022-04-11T15:50:09.545Z"
   },
   {
    "duration": 196,
    "start_time": "2022-04-11T15:50:09.555Z"
   },
   {
    "duration": 844,
    "start_time": "2022-04-11T15:50:09.753Z"
   },
   {
    "duration": 7,
    "start_time": "2022-04-11T15:50:10.600Z"
   },
   {
    "duration": 234,
    "start_time": "2022-04-11T15:50:10.609Z"
   },
   {
    "duration": 258,
    "start_time": "2022-04-11T15:50:10.846Z"
   },
   {
    "duration": 340,
    "start_time": "2022-04-11T15:50:11.110Z"
   },
   {
    "duration": 62,
    "start_time": "2022-04-11T15:50:11.454Z"
   },
   {
    "duration": 7,
    "start_time": "2022-04-11T15:50:11.519Z"
   },
   {
    "duration": 13,
    "start_time": "2022-04-11T15:50:11.529Z"
   },
   {
    "duration": 325,
    "start_time": "2022-04-11T15:50:11.545Z"
   },
   {
    "duration": 18,
    "start_time": "2022-04-11T15:50:11.872Z"
   },
   {
    "duration": 275,
    "start_time": "2022-04-11T15:50:11.892Z"
   },
   {
    "duration": 268,
    "start_time": "2022-04-11T15:50:12.169Z"
   },
   {
    "duration": 284,
    "start_time": "2022-04-11T15:50:12.440Z"
   },
   {
    "duration": 403,
    "start_time": "2022-04-11T15:50:12.727Z"
   },
   {
    "duration": 531,
    "start_time": "2022-04-11T15:50:13.134Z"
   },
   {
    "duration": 374,
    "start_time": "2022-04-11T15:50:13.668Z"
   },
   {
    "duration": 859,
    "start_time": "2022-04-11T15:50:14.045Z"
   },
   {
    "duration": 366,
    "start_time": "2022-04-11T15:50:14.907Z"
   },
   {
    "duration": 333,
    "start_time": "2022-04-11T15:50:15.275Z"
   },
   {
    "duration": 233,
    "start_time": "2022-04-11T15:50:15.611Z"
   },
   {
    "duration": 146,
    "start_time": "2022-04-11T15:55:12.032Z"
   },
   {
    "duration": 8,
    "start_time": "2022-04-12T14:44:18.395Z"
   },
   {
    "duration": 45,
    "start_time": "2022-04-12T14:44:45.254Z"
   },
   {
    "duration": 544,
    "start_time": "2022-04-12T14:44:53.705Z"
   },
   {
    "duration": 14,
    "start_time": "2022-04-12T14:44:54.250Z"
   },
   {
    "duration": 10,
    "start_time": "2022-04-12T14:44:54.265Z"
   },
   {
    "duration": 8,
    "start_time": "2022-04-12T14:44:54.277Z"
   },
   {
    "duration": 31,
    "start_time": "2022-04-12T14:44:54.287Z"
   },
   {
    "duration": 16,
    "start_time": "2022-04-12T14:44:54.320Z"
   },
   {
    "duration": 4,
    "start_time": "2022-04-12T14:44:54.338Z"
   },
   {
    "duration": 7,
    "start_time": "2022-04-12T14:44:54.343Z"
   },
   {
    "duration": 55,
    "start_time": "2022-04-12T14:44:54.352Z"
   },
   {
    "duration": 4,
    "start_time": "2022-04-12T14:44:54.409Z"
   },
   {
    "duration": 9,
    "start_time": "2022-04-12T14:44:54.414Z"
   },
   {
    "duration": 13,
    "start_time": "2022-04-12T14:44:54.424Z"
   },
   {
    "duration": 29,
    "start_time": "2022-04-12T14:44:54.438Z"
   },
   {
    "duration": 37,
    "start_time": "2022-04-12T14:44:54.470Z"
   },
   {
    "duration": 14,
    "start_time": "2022-04-12T14:44:54.509Z"
   },
   {
    "duration": 8,
    "start_time": "2022-04-12T14:44:54.524Z"
   },
   {
    "duration": 14,
    "start_time": "2022-04-12T14:44:54.534Z"
   },
   {
    "duration": 16,
    "start_time": "2022-04-12T14:44:54.550Z"
   },
   {
    "duration": 341,
    "start_time": "2022-04-12T14:44:54.568Z"
   },
   {
    "duration": 23,
    "start_time": "2022-04-12T14:44:54.910Z"
   },
   {
    "duration": 603,
    "start_time": "2022-04-12T14:44:54.935Z"
   },
   {
    "duration": 238,
    "start_time": "2022-04-12T14:44:55.540Z"
   },
   {
    "duration": 241,
    "start_time": "2022-04-12T14:44:55.780Z"
   },
   {
    "duration": 230,
    "start_time": "2022-04-12T14:44:56.023Z"
   },
   {
    "duration": 185,
    "start_time": "2022-04-12T14:44:56.255Z"
   },
   {
    "duration": 9,
    "start_time": "2022-04-12T14:44:56.441Z"
   },
   {
    "duration": 2,
    "start_time": "2022-04-12T14:44:56.451Z"
   },
   {
    "duration": 128,
    "start_time": "2022-04-12T14:44:56.455Z"
   },
   {
    "duration": 233,
    "start_time": "2022-04-12T14:44:56.585Z"
   },
   {
    "duration": 9,
    "start_time": "2022-04-12T14:44:56.820Z"
   },
   {
    "duration": 185,
    "start_time": "2022-04-12T14:44:56.830Z"
   },
   {
    "duration": 10,
    "start_time": "2022-04-12T14:44:57.017Z"
   },
   {
    "duration": 287,
    "start_time": "2022-04-12T14:44:57.029Z"
   },
   {
    "duration": 5,
    "start_time": "2022-04-12T14:44:57.318Z"
   },
   {
    "duration": 152,
    "start_time": "2022-04-12T14:44:57.324Z"
   },
   {
    "duration": 5,
    "start_time": "2022-04-12T14:44:57.478Z"
   },
   {
    "duration": 123,
    "start_time": "2022-04-12T14:44:57.484Z"
   },
   {
    "duration": 415,
    "start_time": "2022-04-12T14:44:57.609Z"
   },
   {
    "duration": 5,
    "start_time": "2022-04-12T14:44:58.026Z"
   },
   {
    "duration": 136,
    "start_time": "2022-04-12T14:44:58.032Z"
   },
   {
    "duration": 163,
    "start_time": "2022-04-12T14:44:58.172Z"
   },
   {
    "duration": 125,
    "start_time": "2022-04-12T14:44:58.336Z"
   },
   {
    "duration": 20,
    "start_time": "2022-04-12T14:44:58.463Z"
   },
   {
    "duration": 3,
    "start_time": "2022-04-12T14:44:58.484Z"
   },
   {
    "duration": 19,
    "start_time": "2022-04-12T14:44:58.489Z"
   },
   {
    "duration": 179,
    "start_time": "2022-04-12T14:44:58.510Z"
   },
   {
    "duration": 17,
    "start_time": "2022-04-12T14:44:58.691Z"
   },
   {
    "duration": 155,
    "start_time": "2022-04-12T14:44:58.710Z"
   },
   {
    "duration": 157,
    "start_time": "2022-04-12T14:44:58.867Z"
   },
   {
    "duration": 160,
    "start_time": "2022-04-12T14:44:59.026Z"
   },
   {
    "duration": 236,
    "start_time": "2022-04-12T14:44:59.188Z"
   },
   {
    "duration": 204,
    "start_time": "2022-04-12T14:44:59.426Z"
   },
   {
    "duration": 213,
    "start_time": "2022-04-12T14:44:59.632Z"
   },
   {
    "duration": 349,
    "start_time": "2022-04-12T14:44:59.846Z"
   },
   {
    "duration": 149,
    "start_time": "2022-04-12T14:45:00.196Z"
   },
   {
    "duration": 125,
    "start_time": "2022-04-12T14:45:00.346Z"
   },
   {
    "duration": 138,
    "start_time": "2022-04-12T14:45:00.473Z"
   },
   {
    "duration": 5,
    "start_time": "2022-04-12T14:51:20.851Z"
   },
   {
    "duration": 33,
    "start_time": "2022-04-12T14:51:31.279Z"
   },
   {
    "duration": 4,
    "start_time": "2022-04-12T14:52:01.638Z"
   },
   {
    "duration": 31,
    "start_time": "2022-04-12T14:52:02.767Z"
   },
   {
    "duration": 4,
    "start_time": "2022-04-12T14:54:53.875Z"
   },
   {
    "duration": 33,
    "start_time": "2022-04-12T14:54:55.375Z"
   },
   {
    "duration": 598,
    "start_time": "2022-04-12T14:55:04.809Z"
   },
   {
    "duration": 15,
    "start_time": "2022-04-12T14:55:05.409Z"
   },
   {
    "duration": 11,
    "start_time": "2022-04-12T14:55:05.426Z"
   },
   {
    "duration": 10,
    "start_time": "2022-04-12T14:55:05.439Z"
   },
   {
    "duration": 17,
    "start_time": "2022-04-12T14:55:05.451Z"
   },
   {
    "duration": 51,
    "start_time": "2022-04-12T14:55:05.470Z"
   },
   {
    "duration": 5,
    "start_time": "2022-04-12T14:55:05.523Z"
   },
   {
    "duration": 7,
    "start_time": "2022-04-12T14:55:05.530Z"
   },
   {
    "duration": 9,
    "start_time": "2022-04-12T14:55:05.539Z"
   },
   {
    "duration": 70,
    "start_time": "2022-04-12T14:55:05.551Z"
   },
   {
    "duration": 4,
    "start_time": "2022-04-12T14:55:05.623Z"
   },
   {
    "duration": 12,
    "start_time": "2022-04-12T14:55:05.629Z"
   },
   {
    "duration": 16,
    "start_time": "2022-04-12T14:55:05.643Z"
   },
   {
    "duration": 50,
    "start_time": "2022-04-12T14:55:05.661Z"
   },
   {
    "duration": 12,
    "start_time": "2022-04-12T14:55:05.713Z"
   },
   {
    "duration": 13,
    "start_time": "2022-04-12T14:55:05.727Z"
   },
   {
    "duration": 9,
    "start_time": "2022-04-12T14:55:05.742Z"
   },
   {
    "duration": 16,
    "start_time": "2022-04-12T14:55:05.753Z"
   },
   {
    "duration": 47,
    "start_time": "2022-04-12T14:55:05.771Z"
   },
   {
    "duration": 353,
    "start_time": "2022-04-12T14:55:05.820Z"
   },
   {
    "duration": 34,
    "start_time": "2022-04-12T14:55:06.175Z"
   },
   {
    "duration": 1974,
    "start_time": "2022-04-12T14:55:06.211Z"
   },
   {
    "duration": 296,
    "start_time": "2022-04-12T14:55:08.187Z"
   },
   {
    "duration": 250,
    "start_time": "2022-04-12T14:55:08.485Z"
   },
   {
    "duration": 232,
    "start_time": "2022-04-12T14:55:08.736Z"
   },
   {
    "duration": 183,
    "start_time": "2022-04-12T14:55:08.969Z"
   },
   {
    "duration": 11,
    "start_time": "2022-04-12T14:55:09.153Z"
   },
   {
    "duration": 2,
    "start_time": "2022-04-12T14:55:09.167Z"
   },
   {
    "duration": 136,
    "start_time": "2022-04-12T14:55:09.171Z"
   },
   {
    "duration": 236,
    "start_time": "2022-04-12T14:55:09.309Z"
   },
   {
    "duration": 9,
    "start_time": "2022-04-12T14:55:09.547Z"
   },
   {
    "duration": 123,
    "start_time": "2022-04-12T14:55:09.558Z"
   },
   {
    "duration": 10,
    "start_time": "2022-04-12T14:55:09.683Z"
   },
   {
    "duration": 377,
    "start_time": "2022-04-12T14:55:09.695Z"
   },
   {
    "duration": 5,
    "start_time": "2022-04-12T14:55:10.073Z"
   },
   {
    "duration": 159,
    "start_time": "2022-04-12T14:55:10.079Z"
   },
   {
    "duration": 5,
    "start_time": "2022-04-12T14:55:10.240Z"
   },
   {
    "duration": 117,
    "start_time": "2022-04-12T14:55:10.247Z"
   },
   {
    "duration": 416,
    "start_time": "2022-04-12T14:55:10.366Z"
   },
   {
    "duration": 6,
    "start_time": "2022-04-12T14:55:10.784Z"
   },
   {
    "duration": 138,
    "start_time": "2022-04-12T14:55:10.792Z"
   },
   {
    "duration": 156,
    "start_time": "2022-04-12T14:55:10.932Z"
   },
   {
    "duration": 129,
    "start_time": "2022-04-12T14:55:11.090Z"
   },
   {
    "duration": 21,
    "start_time": "2022-04-12T14:55:11.221Z"
   },
   {
    "duration": 4,
    "start_time": "2022-04-12T14:55:11.243Z"
   },
   {
    "duration": 5,
    "start_time": "2022-04-12T14:55:11.249Z"
   },
   {
    "duration": 207,
    "start_time": "2022-04-12T14:55:11.256Z"
   },
   {
    "duration": 8,
    "start_time": "2022-04-12T14:55:11.465Z"
   },
   {
    "duration": 166,
    "start_time": "2022-04-12T14:55:11.475Z"
   },
   {
    "duration": 157,
    "start_time": "2022-04-12T14:55:11.643Z"
   },
   {
    "duration": 161,
    "start_time": "2022-04-12T14:55:11.801Z"
   },
   {
    "duration": 264,
    "start_time": "2022-04-12T14:55:11.964Z"
   },
   {
    "duration": 209,
    "start_time": "2022-04-12T14:55:12.229Z"
   },
   {
    "duration": 223,
    "start_time": "2022-04-12T14:55:12.440Z"
   },
   {
    "duration": 378,
    "start_time": "2022-04-12T14:55:12.666Z"
   },
   {
    "duration": 148,
    "start_time": "2022-04-12T14:55:13.045Z"
   },
   {
    "duration": 131,
    "start_time": "2022-04-12T14:55:13.194Z"
   },
   {
    "duration": 151,
    "start_time": "2022-04-12T14:55:13.327Z"
   },
   {
    "duration": 6,
    "start_time": "2022-04-12T14:57:35.250Z"
   },
   {
    "duration": 4,
    "start_time": "2022-04-12T14:57:36.028Z"
   },
   {
    "duration": 35,
    "start_time": "2022-04-12T14:57:39.362Z"
   },
   {
    "duration": 34,
    "start_time": "2022-04-12T14:57:56.023Z"
   },
   {
    "duration": 6,
    "start_time": "2022-04-12T14:57:59.353Z"
   },
   {
    "duration": 34,
    "start_time": "2022-04-12T14:58:00.834Z"
   },
   {
    "duration": 555,
    "start_time": "2022-04-12T14:58:13.935Z"
   },
   {
    "duration": 24,
    "start_time": "2022-04-12T14:58:14.493Z"
   },
   {
    "duration": 11,
    "start_time": "2022-04-12T14:58:14.519Z"
   },
   {
    "duration": 12,
    "start_time": "2022-04-12T14:58:14.532Z"
   },
   {
    "duration": 22,
    "start_time": "2022-04-12T14:58:14.545Z"
   },
   {
    "duration": 38,
    "start_time": "2022-04-12T14:58:14.569Z"
   },
   {
    "duration": 5,
    "start_time": "2022-04-12T14:58:14.609Z"
   },
   {
    "duration": 6,
    "start_time": "2022-04-12T14:58:14.616Z"
   },
   {
    "duration": 38,
    "start_time": "2022-04-12T14:58:14.624Z"
   },
   {
    "duration": 3,
    "start_time": "2022-04-12T14:58:14.665Z"
   },
   {
    "duration": 7,
    "start_time": "2022-04-12T14:58:14.670Z"
   },
   {
    "duration": 36,
    "start_time": "2022-04-12T14:58:14.679Z"
   },
   {
    "duration": 27,
    "start_time": "2022-04-12T14:58:14.717Z"
   },
   {
    "duration": 13,
    "start_time": "2022-04-12T14:58:14.746Z"
   },
   {
    "duration": 13,
    "start_time": "2022-04-12T14:58:14.760Z"
   },
   {
    "duration": 8,
    "start_time": "2022-04-12T14:58:14.775Z"
   },
   {
    "duration": 13,
    "start_time": "2022-04-12T14:58:14.808Z"
   },
   {
    "duration": 15,
    "start_time": "2022-04-12T14:58:14.823Z"
   },
   {
    "duration": 348,
    "start_time": "2022-04-12T14:58:14.839Z"
   },
   {
    "duration": 33,
    "start_time": "2022-04-12T14:58:15.189Z"
   },
   {
    "duration": 434,
    "start_time": "2022-04-12T14:58:15.224Z"
   },
   {
    "duration": 307,
    "start_time": "2022-04-12T14:58:15.659Z"
   },
   {
    "duration": 255,
    "start_time": "2022-04-12T14:58:15.967Z"
   },
   {
    "duration": 240,
    "start_time": "2022-04-12T14:58:16.224Z"
   },
   {
    "duration": 185,
    "start_time": "2022-04-12T14:58:16.466Z"
   },
   {
    "duration": 10,
    "start_time": "2022-04-12T14:58:16.653Z"
   },
   {
    "duration": 3,
    "start_time": "2022-04-12T14:58:16.664Z"
   },
   {
    "duration": 141,
    "start_time": "2022-04-12T14:58:16.671Z"
   },
   {
    "duration": 237,
    "start_time": "2022-04-12T14:58:16.814Z"
   },
   {
    "duration": 10,
    "start_time": "2022-04-12T14:58:17.053Z"
   },
   {
    "duration": 129,
    "start_time": "2022-04-12T14:58:17.065Z"
   },
   {
    "duration": 16,
    "start_time": "2022-04-12T14:58:17.196Z"
   },
   {
    "duration": 366,
    "start_time": "2022-04-12T14:58:17.214Z"
   },
   {
    "duration": 6,
    "start_time": "2022-04-12T14:58:17.581Z"
   },
   {
    "duration": 163,
    "start_time": "2022-04-12T14:58:17.588Z"
   },
   {
    "duration": 5,
    "start_time": "2022-04-12T14:58:17.753Z"
   },
   {
    "duration": 121,
    "start_time": "2022-04-12T14:58:17.760Z"
   },
   {
    "duration": 419,
    "start_time": "2022-04-12T14:58:17.883Z"
   },
   {
    "duration": 7,
    "start_time": "2022-04-12T14:58:18.303Z"
   },
   {
    "duration": 142,
    "start_time": "2022-04-12T14:58:18.312Z"
   },
   {
    "duration": 166,
    "start_time": "2022-04-12T14:58:18.456Z"
   },
   {
    "duration": 142,
    "start_time": "2022-04-12T14:58:18.624Z"
   },
   {
    "duration": 22,
    "start_time": "2022-04-12T14:58:18.768Z"
   },
   {
    "duration": 4,
    "start_time": "2022-04-12T14:58:18.791Z"
   },
   {
    "duration": 4,
    "start_time": "2022-04-12T14:58:18.808Z"
   },
   {
    "duration": 203,
    "start_time": "2022-04-12T14:58:18.813Z"
   },
   {
    "duration": 8,
    "start_time": "2022-04-12T14:58:19.017Z"
   },
   {
    "duration": 170,
    "start_time": "2022-04-12T14:58:19.027Z"
   },
   {
    "duration": 158,
    "start_time": "2022-04-12T14:58:19.198Z"
   },
   {
    "duration": 163,
    "start_time": "2022-04-12T14:58:19.358Z"
   },
   {
    "duration": 260,
    "start_time": "2022-04-12T14:58:19.522Z"
   },
   {
    "duration": 205,
    "start_time": "2022-04-12T14:58:19.784Z"
   },
   {
    "duration": 220,
    "start_time": "2022-04-12T14:58:19.990Z"
   },
   {
    "duration": 368,
    "start_time": "2022-04-12T14:58:20.211Z"
   },
   {
    "duration": 151,
    "start_time": "2022-04-12T14:58:20.580Z"
   },
   {
    "duration": 139,
    "start_time": "2022-04-12T14:58:20.732Z"
   },
   {
    "duration": 147,
    "start_time": "2022-04-12T14:58:20.873Z"
   },
   {
    "duration": 6,
    "start_time": "2022-04-12T15:10:20.211Z"
   },
   {
    "duration": 42,
    "start_time": "2022-04-12T15:10:45.453Z"
   },
   {
    "duration": 571,
    "start_time": "2022-04-12T15:11:08.602Z"
   },
   {
    "duration": 14,
    "start_time": "2022-04-12T15:11:09.175Z"
   },
   {
    "duration": 19,
    "start_time": "2022-04-12T15:11:09.190Z"
   },
   {
    "duration": 10,
    "start_time": "2022-04-12T15:11:09.210Z"
   },
   {
    "duration": 14,
    "start_time": "2022-04-12T15:11:09.222Z"
   },
   {
    "duration": 18,
    "start_time": "2022-04-12T15:11:09.237Z"
   },
   {
    "duration": 4,
    "start_time": "2022-04-12T15:11:09.257Z"
   },
   {
    "duration": 8,
    "start_time": "2022-04-12T15:11:09.262Z"
   },
   {
    "duration": 64,
    "start_time": "2022-04-12T15:11:09.272Z"
   },
   {
    "duration": 5,
    "start_time": "2022-04-12T15:11:09.338Z"
   },
   {
    "duration": 46,
    "start_time": "2022-04-12T15:11:09.345Z"
   },
   {
    "duration": 3,
    "start_time": "2022-04-12T15:11:09.408Z"
   },
   {
    "duration": 13,
    "start_time": "2022-04-12T15:11:09.413Z"
   },
   {
    "duration": 12,
    "start_time": "2022-04-12T15:11:09.429Z"
   },
   {
    "duration": 27,
    "start_time": "2022-04-12T15:11:09.443Z"
   },
   {
    "duration": 12,
    "start_time": "2022-04-12T15:11:09.471Z"
   },
   {
    "duration": 14,
    "start_time": "2022-04-12T15:11:09.508Z"
   },
   {
    "duration": 7,
    "start_time": "2022-04-12T15:11:09.524Z"
   },
   {
    "duration": 16,
    "start_time": "2022-04-12T15:11:09.533Z"
   },
   {
    "duration": 16,
    "start_time": "2022-04-12T15:11:09.550Z"
   },
   {
    "duration": 348,
    "start_time": "2022-04-12T15:11:09.567Z"
   },
   {
    "duration": 24,
    "start_time": "2022-04-12T15:11:09.916Z"
   },
   {
    "duration": 414,
    "start_time": "2022-04-12T15:11:09.941Z"
   },
   {
    "duration": 299,
    "start_time": "2022-04-12T15:11:10.356Z"
   },
   {
    "duration": 265,
    "start_time": "2022-04-12T15:11:10.657Z"
   },
   {
    "duration": 236,
    "start_time": "2022-04-12T15:11:10.923Z"
   },
   {
    "duration": 196,
    "start_time": "2022-04-12T15:11:11.161Z"
   },
   {
    "duration": 10,
    "start_time": "2022-04-12T15:11:11.358Z"
   },
   {
    "duration": 3,
    "start_time": "2022-04-12T15:11:11.369Z"
   },
   {
    "duration": 136,
    "start_time": "2022-04-12T15:11:11.374Z"
   },
   {
    "duration": 236,
    "start_time": "2022-04-12T15:11:11.512Z"
   },
   {
    "duration": 10,
    "start_time": "2022-04-12T15:11:11.749Z"
   },
   {
    "duration": 128,
    "start_time": "2022-04-12T15:11:11.760Z"
   },
   {
    "duration": 20,
    "start_time": "2022-04-12T15:11:11.890Z"
   },
   {
    "duration": 356,
    "start_time": "2022-04-12T15:11:11.912Z"
   },
   {
    "duration": 5,
    "start_time": "2022-04-12T15:11:12.270Z"
   },
   {
    "duration": 156,
    "start_time": "2022-04-12T15:11:12.277Z"
   },
   {
    "duration": 6,
    "start_time": "2022-04-12T15:11:12.434Z"
   },
   {
    "duration": 121,
    "start_time": "2022-04-12T15:11:12.442Z"
   },
   {
    "duration": 424,
    "start_time": "2022-04-12T15:11:12.564Z"
   },
   {
    "duration": 16,
    "start_time": "2022-04-12T15:11:12.992Z"
   },
   {
    "duration": 139,
    "start_time": "2022-04-12T15:11:13.010Z"
   },
   {
    "duration": 163,
    "start_time": "2022-04-12T15:11:13.151Z"
   },
   {
    "duration": 136,
    "start_time": "2022-04-12T15:11:13.316Z"
   },
   {
    "duration": 21,
    "start_time": "2022-04-12T15:11:13.454Z"
   },
   {
    "duration": 3,
    "start_time": "2022-04-12T15:11:13.477Z"
   },
   {
    "duration": 6,
    "start_time": "2022-04-12T15:11:13.482Z"
   },
   {
    "duration": 188,
    "start_time": "2022-04-12T15:11:13.506Z"
   },
   {
    "duration": 18,
    "start_time": "2022-04-12T15:11:13.696Z"
   },
   {
    "duration": 168,
    "start_time": "2022-04-12T15:11:13.716Z"
   },
   {
    "duration": 154,
    "start_time": "2022-04-12T15:11:13.886Z"
   },
   {
    "duration": 167,
    "start_time": "2022-04-12T15:11:14.042Z"
   },
   {
    "duration": 260,
    "start_time": "2022-04-12T15:11:14.211Z"
   },
   {
    "duration": 202,
    "start_time": "2022-04-12T15:11:14.472Z"
   },
   {
    "duration": 220,
    "start_time": "2022-04-12T15:11:14.675Z"
   },
   {
    "duration": 368,
    "start_time": "2022-04-12T15:11:14.897Z"
   },
   {
    "duration": 155,
    "start_time": "2022-04-12T15:11:15.267Z"
   },
   {
    "duration": 137,
    "start_time": "2022-04-12T15:11:15.424Z"
   },
   {
    "duration": 145,
    "start_time": "2022-04-12T15:11:15.563Z"
   },
   {
    "duration": 42,
    "start_time": "2022-04-12T15:15:11.861Z"
   },
   {
    "duration": 542,
    "start_time": "2022-04-12T15:16:29.043Z"
   },
   {
    "duration": 21,
    "start_time": "2022-04-12T15:16:29.587Z"
   },
   {
    "duration": 12,
    "start_time": "2022-04-12T15:16:29.610Z"
   },
   {
    "duration": 13,
    "start_time": "2022-04-12T15:16:29.625Z"
   },
   {
    "duration": 14,
    "start_time": "2022-04-12T15:16:29.640Z"
   },
   {
    "duration": 19,
    "start_time": "2022-04-12T15:16:29.656Z"
   },
   {
    "duration": 35,
    "start_time": "2022-04-12T15:16:29.677Z"
   },
   {
    "duration": 10,
    "start_time": "2022-04-12T15:16:29.714Z"
   },
   {
    "duration": 38,
    "start_time": "2022-04-12T15:16:29.725Z"
   },
   {
    "duration": 6,
    "start_time": "2022-04-12T15:16:29.766Z"
   },
   {
    "duration": 37,
    "start_time": "2022-04-12T15:16:29.773Z"
   },
   {
    "duration": 9,
    "start_time": "2022-04-12T15:16:29.812Z"
   },
   {
    "duration": 16,
    "start_time": "2022-04-12T15:16:29.823Z"
   },
   {
    "duration": 28,
    "start_time": "2022-04-12T15:16:29.841Z"
   },
   {
    "duration": 12,
    "start_time": "2022-04-12T15:16:29.871Z"
   },
   {
    "duration": 34,
    "start_time": "2022-04-12T15:16:29.884Z"
   },
   {
    "duration": 7,
    "start_time": "2022-04-12T15:16:29.920Z"
   },
   {
    "duration": 15,
    "start_time": "2022-04-12T15:16:29.928Z"
   },
   {
    "duration": 16,
    "start_time": "2022-04-12T15:16:29.945Z"
   },
   {
    "duration": 367,
    "start_time": "2022-04-12T15:16:29.962Z"
   },
   {
    "duration": 24,
    "start_time": "2022-04-12T15:16:30.331Z"
   },
   {
    "duration": 441,
    "start_time": "2022-04-12T15:16:30.357Z"
   },
   {
    "duration": 309,
    "start_time": "2022-04-12T15:16:30.800Z"
   },
   {
    "duration": 281,
    "start_time": "2022-04-12T15:16:31.111Z"
   },
   {
    "duration": 252,
    "start_time": "2022-04-12T15:16:31.393Z"
   },
   {
    "duration": 206,
    "start_time": "2022-04-12T15:16:31.647Z"
   },
   {
    "duration": 10,
    "start_time": "2022-04-12T15:16:31.855Z"
   },
   {
    "duration": 3,
    "start_time": "2022-04-12T15:16:31.868Z"
   },
   {
    "duration": 136,
    "start_time": "2022-04-12T15:16:31.873Z"
   },
   {
    "duration": 226,
    "start_time": "2022-04-12T15:16:32.011Z"
   },
   {
    "duration": 8,
    "start_time": "2022-04-12T15:16:32.239Z"
   },
   {
    "duration": 122,
    "start_time": "2022-04-12T15:16:32.249Z"
   },
   {
    "duration": 10,
    "start_time": "2022-04-12T15:16:32.372Z"
   },
   {
    "duration": 352,
    "start_time": "2022-04-12T15:16:32.383Z"
   },
   {
    "duration": 5,
    "start_time": "2022-04-12T15:16:32.737Z"
   },
   {
    "duration": 160,
    "start_time": "2022-04-12T15:16:32.744Z"
   },
   {
    "duration": 6,
    "start_time": "2022-04-12T15:16:32.905Z"
   },
   {
    "duration": 110,
    "start_time": "2022-04-12T15:16:32.912Z"
   },
   {
    "duration": 405,
    "start_time": "2022-04-12T15:16:33.024Z"
   },
   {
    "duration": 5,
    "start_time": "2022-04-12T15:16:33.430Z"
   },
   {
    "duration": 140,
    "start_time": "2022-04-12T15:16:33.437Z"
   },
   {
    "duration": 160,
    "start_time": "2022-04-12T15:16:33.579Z"
   },
   {
    "duration": 135,
    "start_time": "2022-04-12T15:16:33.741Z"
   },
   {
    "duration": 30,
    "start_time": "2022-04-12T15:16:33.879Z"
   },
   {
    "duration": 4,
    "start_time": "2022-04-12T15:16:33.911Z"
   },
   {
    "duration": 6,
    "start_time": "2022-04-12T15:16:33.916Z"
   },
   {
    "duration": 193,
    "start_time": "2022-04-12T15:16:33.923Z"
   },
   {
    "duration": 10,
    "start_time": "2022-04-12T15:16:34.117Z"
   },
   {
    "duration": 172,
    "start_time": "2022-04-12T15:16:34.128Z"
   },
   {
    "duration": 181,
    "start_time": "2022-04-12T15:16:34.307Z"
   },
   {
    "duration": 180,
    "start_time": "2022-04-12T15:16:34.490Z"
   },
   {
    "duration": 265,
    "start_time": "2022-04-12T15:16:34.672Z"
   },
   {
    "duration": 209,
    "start_time": "2022-04-12T15:16:34.939Z"
   },
   {
    "duration": 228,
    "start_time": "2022-04-12T15:16:35.149Z"
   },
   {
    "duration": 360,
    "start_time": "2022-04-12T15:16:35.379Z"
   },
   {
    "duration": 153,
    "start_time": "2022-04-12T15:16:35.740Z"
   },
   {
    "duration": 132,
    "start_time": "2022-04-12T15:16:35.895Z"
   },
   {
    "duration": 145,
    "start_time": "2022-04-12T15:16:36.029Z"
   },
   {
    "duration": 3,
    "start_time": "2022-04-12T15:44:27.947Z"
   },
   {
    "duration": 12,
    "start_time": "2022-04-12T15:44:31.239Z"
   },
   {
    "duration": 15,
    "start_time": "2022-04-12T15:44:32.259Z"
   },
   {
    "duration": 490,
    "start_time": "2022-04-12T15:44:56.951Z"
   },
   {
    "duration": 16,
    "start_time": "2022-04-12T15:44:57.443Z"
   },
   {
    "duration": 10,
    "start_time": "2022-04-12T15:44:57.460Z"
   },
   {
    "duration": 9,
    "start_time": "2022-04-12T15:44:57.472Z"
   },
   {
    "duration": 30,
    "start_time": "2022-04-12T15:44:57.482Z"
   },
   {
    "duration": 18,
    "start_time": "2022-04-12T15:44:57.514Z"
   },
   {
    "duration": 5,
    "start_time": "2022-04-12T15:44:57.533Z"
   },
   {
    "duration": 6,
    "start_time": "2022-04-12T15:44:57.539Z"
   },
   {
    "duration": 36,
    "start_time": "2022-04-12T15:44:57.547Z"
   },
   {
    "duration": 6,
    "start_time": "2022-04-12T15:44:57.607Z"
   },
   {
    "duration": 6,
    "start_time": "2022-04-12T15:44:57.614Z"
   },
   {
    "duration": 12,
    "start_time": "2022-04-12T15:44:57.622Z"
   },
   {
    "duration": 12,
    "start_time": "2022-04-12T15:44:57.635Z"
   },
   {
    "duration": 25,
    "start_time": "2022-04-12T15:44:57.649Z"
   },
   {
    "duration": 32,
    "start_time": "2022-04-12T15:44:57.676Z"
   },
   {
    "duration": 3,
    "start_time": "2022-04-12T15:44:57.710Z"
   },
   {
    "duration": 13,
    "start_time": "2022-04-12T15:44:57.714Z"
   },
   {
    "duration": 14,
    "start_time": "2022-04-12T15:44:57.729Z"
   },
   {
    "duration": 14,
    "start_time": "2022-04-12T15:44:57.745Z"
   },
   {
    "duration": 334,
    "start_time": "2022-04-12T15:44:57.761Z"
   },
   {
    "duration": 25,
    "start_time": "2022-04-12T15:44:58.096Z"
   },
   {
    "duration": 421,
    "start_time": "2022-04-12T15:44:58.123Z"
   },
   {
    "duration": 307,
    "start_time": "2022-04-12T15:44:58.546Z"
   },
   {
    "duration": 266,
    "start_time": "2022-04-12T15:44:58.854Z"
   },
   {
    "duration": 242,
    "start_time": "2022-04-12T15:44:59.121Z"
   },
   {
    "duration": 184,
    "start_time": "2022-04-12T15:44:59.365Z"
   },
   {
    "duration": 10,
    "start_time": "2022-04-12T15:44:59.550Z"
   },
   {
    "duration": 22,
    "start_time": "2022-04-12T15:44:59.564Z"
   },
   {
    "duration": 137,
    "start_time": "2022-04-12T15:44:59.588Z"
   },
   {
    "duration": 244,
    "start_time": "2022-04-12T15:44:59.726Z"
   },
   {
    "duration": 8,
    "start_time": "2022-04-12T15:44:59.972Z"
   },
   {
    "duration": 131,
    "start_time": "2022-04-12T15:44:59.981Z"
   },
   {
    "duration": 10,
    "start_time": "2022-04-12T15:45:00.114Z"
   },
   {
    "duration": 338,
    "start_time": "2022-04-12T15:45:00.125Z"
   },
   {
    "duration": 6,
    "start_time": "2022-04-12T15:45:00.465Z"
   },
   {
    "duration": 164,
    "start_time": "2022-04-12T15:45:00.472Z"
   },
   {
    "duration": 5,
    "start_time": "2022-04-12T15:45:00.638Z"
   },
   {
    "duration": 112,
    "start_time": "2022-04-12T15:45:00.645Z"
   },
   {
    "duration": 390,
    "start_time": "2022-04-12T15:45:00.759Z"
   },
   {
    "duration": 6,
    "start_time": "2022-04-12T15:45:01.151Z"
   },
   {
    "duration": 134,
    "start_time": "2022-04-12T15:45:01.159Z"
   },
   {
    "duration": 158,
    "start_time": "2022-04-12T15:45:01.294Z"
   },
   {
    "duration": 124,
    "start_time": "2022-04-12T15:45:01.454Z"
   },
   {
    "duration": 30,
    "start_time": "2022-04-12T15:45:01.580Z"
   },
   {
    "duration": 3,
    "start_time": "2022-04-12T15:45:01.611Z"
   },
   {
    "duration": 16,
    "start_time": "2022-04-12T15:45:01.616Z"
   },
   {
    "duration": 180,
    "start_time": "2022-04-12T15:45:01.634Z"
   },
   {
    "duration": 8,
    "start_time": "2022-04-12T15:45:01.816Z"
   },
   {
    "duration": 163,
    "start_time": "2022-04-12T15:45:01.826Z"
   },
   {
    "duration": 152,
    "start_time": "2022-04-12T15:45:01.991Z"
   },
   {
    "duration": 145,
    "start_time": "2022-04-12T15:45:02.145Z"
   },
   {
    "duration": 244,
    "start_time": "2022-04-12T15:45:02.292Z"
   },
   {
    "duration": 183,
    "start_time": "2022-04-12T15:45:02.538Z"
   },
   {
    "duration": 202,
    "start_time": "2022-04-12T15:45:02.722Z"
   },
   {
    "duration": 342,
    "start_time": "2022-04-12T15:45:02.926Z"
   },
   {
    "duration": 148,
    "start_time": "2022-04-12T15:45:03.270Z"
   },
   {
    "duration": 148,
    "start_time": "2022-04-12T15:45:03.420Z"
   },
   {
    "duration": 166,
    "start_time": "2022-04-12T15:45:03.569Z"
   },
   {
    "duration": 308,
    "start_time": "2022-04-12T15:53:55.512Z"
   },
   {
    "duration": 238,
    "start_time": "2022-04-12T15:55:28.332Z"
   },
   {
    "duration": 217,
    "start_time": "2022-04-12T16:03:10.325Z"
   },
   {
    "duration": 108,
    "start_time": "2022-04-12T16:03:40.877Z"
   },
   {
    "duration": 9,
    "start_time": "2022-04-12T16:04:18.016Z"
   },
   {
    "duration": 274,
    "start_time": "2022-04-12T16:04:38.973Z"
   },
   {
    "duration": 270,
    "start_time": "2022-04-12T16:08:57.313Z"
   },
   {
    "duration": 282,
    "start_time": "2022-04-12T16:09:03.185Z"
   },
   {
    "duration": 408,
    "start_time": "2022-04-12T16:09:11.058Z"
   },
   {
    "duration": 277,
    "start_time": "2022-04-12T16:09:25.166Z"
   },
   {
    "duration": 4,
    "start_time": "2022-04-12T16:12:32.737Z"
   },
   {
    "duration": 297,
    "start_time": "2022-04-12T16:13:04.785Z"
   },
   {
    "duration": 287,
    "start_time": "2022-04-12T16:14:46.797Z"
   },
   {
    "duration": 247,
    "start_time": "2022-04-12T16:15:15.533Z"
   },
   {
    "duration": 246,
    "start_time": "2022-04-12T16:15:43.677Z"
   },
   {
    "duration": 409,
    "start_time": "2022-04-12T16:16:21.100Z"
   },
   {
    "duration": 280,
    "start_time": "2022-04-12T16:16:40.344Z"
   },
   {
    "duration": 244,
    "start_time": "2022-04-12T16:17:30.693Z"
   },
   {
    "duration": 201,
    "start_time": "2022-04-12T16:19:07.178Z"
   },
   {
    "duration": 12,
    "start_time": "2022-04-12T16:19:20.954Z"
   },
   {
    "duration": 126,
    "start_time": "2022-04-12T16:24:22.895Z"
   },
   {
    "duration": 233,
    "start_time": "2022-04-12T16:43:35.787Z"
   },
   {
    "duration": 241,
    "start_time": "2022-04-12T16:44:23.947Z"
   },
   {
    "duration": 117,
    "start_time": "2022-04-12T16:49:56.109Z"
   },
   {
    "duration": 110,
    "start_time": "2022-04-12T16:50:07.212Z"
   },
   {
    "duration": 125,
    "start_time": "2022-04-12T16:50:20.996Z"
   },
   {
    "duration": 9,
    "start_time": "2022-04-12T16:50:40.308Z"
   },
   {
    "duration": 9,
    "start_time": "2022-04-12T16:50:53.315Z"
   },
   {
    "duration": 73,
    "start_time": "2022-04-12T16:52:24.120Z"
   },
   {
    "duration": 392,
    "start_time": "2022-04-12T16:54:18.804Z"
   },
   {
    "duration": 11,
    "start_time": "2022-04-12T16:54:55.723Z"
   },
   {
    "duration": 213,
    "start_time": "2022-04-12T16:55:31.748Z"
   },
   {
    "duration": 228,
    "start_time": "2022-04-12T16:55:45.424Z"
   },
   {
    "duration": 230,
    "start_time": "2022-04-12T16:55:53.739Z"
   },
   {
    "duration": 244,
    "start_time": "2022-04-12T16:55:58.068Z"
   },
   {
    "duration": 389,
    "start_time": "2022-04-12T16:57:08.109Z"
   },
   {
    "duration": 354,
    "start_time": "2022-04-12T16:57:25.616Z"
   },
   {
    "duration": 338,
    "start_time": "2022-04-12T16:57:38.365Z"
   },
   {
    "duration": 10,
    "start_time": "2022-04-12T16:58:02.076Z"
   },
   {
    "duration": 71,
    "start_time": "2022-04-14T15:07:34.023Z"
   },
   {
    "duration": 6,
    "start_time": "2022-04-14T15:08:48.299Z"
   },
   {
    "duration": 480,
    "start_time": "2022-04-14T15:13:56.449Z"
   },
   {
    "duration": 15,
    "start_time": "2022-04-14T15:13:56.932Z"
   },
   {
    "duration": 10,
    "start_time": "2022-04-14T15:13:56.949Z"
   },
   {
    "duration": 38,
    "start_time": "2022-04-14T15:13:56.962Z"
   },
   {
    "duration": 14,
    "start_time": "2022-04-14T15:13:57.001Z"
   },
   {
    "duration": 17,
    "start_time": "2022-04-14T15:13:57.016Z"
   },
   {
    "duration": 5,
    "start_time": "2022-04-14T15:13:57.035Z"
   },
   {
    "duration": 7,
    "start_time": "2022-04-14T15:13:57.041Z"
   },
   {
    "duration": 54,
    "start_time": "2022-04-14T15:13:57.050Z"
   },
   {
    "duration": 5,
    "start_time": "2022-04-14T15:13:57.107Z"
   },
   {
    "duration": 5,
    "start_time": "2022-04-14T15:13:57.114Z"
   },
   {
    "duration": 10,
    "start_time": "2022-04-14T15:13:57.121Z"
   },
   {
    "duration": 11,
    "start_time": "2022-04-14T15:13:57.132Z"
   },
   {
    "duration": 26,
    "start_time": "2022-04-14T15:13:57.144Z"
   },
   {
    "duration": 32,
    "start_time": "2022-04-14T15:13:57.171Z"
   },
   {
    "duration": 2,
    "start_time": "2022-04-14T15:13:57.204Z"
   },
   {
    "duration": 10,
    "start_time": "2022-04-14T15:13:57.208Z"
   },
   {
    "duration": 14,
    "start_time": "2022-04-14T15:13:57.219Z"
   },
   {
    "duration": 14,
    "start_time": "2022-04-14T15:13:57.234Z"
   },
   {
    "duration": 316,
    "start_time": "2022-04-14T15:13:57.249Z"
   },
   {
    "duration": 21,
    "start_time": "2022-04-14T15:13:57.567Z"
   },
   {
    "duration": 397,
    "start_time": "2022-04-14T15:13:57.589Z"
   },
   {
    "duration": 256,
    "start_time": "2022-04-14T15:13:57.988Z"
   },
   {
    "duration": 230,
    "start_time": "2022-04-14T15:13:58.246Z"
   },
   {
    "duration": 230,
    "start_time": "2022-04-14T15:13:58.478Z"
   },
   {
    "duration": 218,
    "start_time": "2022-04-14T15:13:58.710Z"
   },
   {
    "duration": 180,
    "start_time": "2022-04-14T15:13:58.930Z"
   },
   {
    "duration": 9,
    "start_time": "2022-04-14T15:13:59.114Z"
   },
   {
    "duration": 2,
    "start_time": "2022-04-14T15:13:59.125Z"
   },
   {
    "duration": 121,
    "start_time": "2022-04-14T15:13:59.129Z"
   },
   {
    "duration": 206,
    "start_time": "2022-04-14T15:13:59.252Z"
   },
   {
    "duration": 367,
    "start_time": "2022-04-14T15:13:59.459Z"
   },
   {
    "duration": 8,
    "start_time": "2022-04-14T15:13:59.827Z"
   },
   {
    "duration": 9,
    "start_time": "2022-04-14T15:13:59.836Z"
   },
   {
    "duration": 7,
    "start_time": "2022-04-14T15:13:59.846Z"
   },
   {
    "duration": 94,
    "start_time": "2022-04-14T15:13:59.854Z"
   },
   {
    "duration": 0,
    "start_time": "2022-04-14T15:13:59.950Z"
   },
   {
    "duration": 0,
    "start_time": "2022-04-14T15:13:59.951Z"
   },
   {
    "duration": 0,
    "start_time": "2022-04-14T15:13:59.952Z"
   },
   {
    "duration": 0,
    "start_time": "2022-04-14T15:13:59.953Z"
   },
   {
    "duration": 0,
    "start_time": "2022-04-14T15:13:59.954Z"
   },
   {
    "duration": 0,
    "start_time": "2022-04-14T15:13:59.955Z"
   },
   {
    "duration": 0,
    "start_time": "2022-04-14T15:13:59.955Z"
   },
   {
    "duration": 0,
    "start_time": "2022-04-14T15:13:59.956Z"
   },
   {
    "duration": 0,
    "start_time": "2022-04-14T15:13:59.957Z"
   },
   {
    "duration": 0,
    "start_time": "2022-04-14T15:13:59.958Z"
   },
   {
    "duration": 0,
    "start_time": "2022-04-14T15:13:59.958Z"
   },
   {
    "duration": 0,
    "start_time": "2022-04-14T15:13:59.959Z"
   },
   {
    "duration": 0,
    "start_time": "2022-04-14T15:13:59.960Z"
   },
   {
    "duration": 0,
    "start_time": "2022-04-14T15:13:59.961Z"
   },
   {
    "duration": 0,
    "start_time": "2022-04-14T15:13:59.962Z"
   },
   {
    "duration": 0,
    "start_time": "2022-04-14T15:13:59.962Z"
   },
   {
    "duration": 0,
    "start_time": "2022-04-14T15:13:59.963Z"
   },
   {
    "duration": 0,
    "start_time": "2022-04-14T15:13:59.964Z"
   },
   {
    "duration": 0,
    "start_time": "2022-04-14T15:13:59.965Z"
   },
   {
    "duration": 0,
    "start_time": "2022-04-14T15:13:59.965Z"
   },
   {
    "duration": 0,
    "start_time": "2022-04-14T15:13:59.966Z"
   },
   {
    "duration": 0,
    "start_time": "2022-04-14T15:13:59.967Z"
   },
   {
    "duration": 0,
    "start_time": "2022-04-14T15:13:59.968Z"
   },
   {
    "duration": 0,
    "start_time": "2022-04-14T15:13:59.969Z"
   },
   {
    "duration": 0,
    "start_time": "2022-04-14T15:13:59.970Z"
   },
   {
    "duration": 0,
    "start_time": "2022-04-14T15:13:59.971Z"
   },
   {
    "duration": 0,
    "start_time": "2022-04-14T15:13:59.972Z"
   },
   {
    "duration": 0,
    "start_time": "2022-04-14T15:13:59.972Z"
   },
   {
    "duration": 207,
    "start_time": "2022-04-14T15:18:30.435Z"
   },
   {
    "duration": 10,
    "start_time": "2022-04-14T15:24:09.845Z"
   },
   {
    "duration": 8,
    "start_time": "2022-04-14T15:24:13.969Z"
   },
   {
    "duration": 527,
    "start_time": "2022-04-14T15:24:59.314Z"
   },
   {
    "duration": 12,
    "start_time": "2022-04-14T15:24:59.843Z"
   },
   {
    "duration": 10,
    "start_time": "2022-04-14T15:24:59.857Z"
   },
   {
    "duration": 8,
    "start_time": "2022-04-14T15:24:59.869Z"
   },
   {
    "duration": 34,
    "start_time": "2022-04-14T15:24:59.879Z"
   },
   {
    "duration": 18,
    "start_time": "2022-04-14T15:24:59.914Z"
   },
   {
    "duration": 4,
    "start_time": "2022-04-14T15:24:59.934Z"
   },
   {
    "duration": 6,
    "start_time": "2022-04-14T15:24:59.940Z"
   },
   {
    "duration": 59,
    "start_time": "2022-04-14T15:24:59.947Z"
   },
   {
    "duration": 10,
    "start_time": "2022-04-14T15:25:00.009Z"
   },
   {
    "duration": 14,
    "start_time": "2022-04-14T15:25:00.021Z"
   },
   {
    "duration": 16,
    "start_time": "2022-04-14T15:25:00.036Z"
   },
   {
    "duration": 18,
    "start_time": "2022-04-14T15:25:00.053Z"
   },
   {
    "duration": 26,
    "start_time": "2022-04-14T15:25:00.072Z"
   },
   {
    "duration": 14,
    "start_time": "2022-04-14T15:25:00.099Z"
   },
   {
    "duration": 13,
    "start_time": "2022-04-14T15:25:00.114Z"
   },
   {
    "duration": 18,
    "start_time": "2022-04-14T15:25:00.128Z"
   },
   {
    "duration": 17,
    "start_time": "2022-04-14T15:25:00.147Z"
   },
   {
    "duration": 20,
    "start_time": "2022-04-14T15:25:00.165Z"
   },
   {
    "duration": 337,
    "start_time": "2022-04-14T15:25:00.186Z"
   },
   {
    "duration": 21,
    "start_time": "2022-04-14T15:25:00.525Z"
   },
   {
    "duration": 275,
    "start_time": "2022-04-14T15:25:00.548Z"
   },
   {
    "duration": 226,
    "start_time": "2022-04-14T15:25:00.824Z"
   },
   {
    "duration": 289,
    "start_time": "2022-04-14T15:25:01.052Z"
   },
   {
    "duration": 247,
    "start_time": "2022-04-14T15:25:01.343Z"
   },
   {
    "duration": 228,
    "start_time": "2022-04-14T15:25:01.592Z"
   },
   {
    "duration": 167,
    "start_time": "2022-04-14T15:25:01.822Z"
   },
   {
    "duration": 17,
    "start_time": "2022-04-14T15:25:01.993Z"
   },
   {
    "duration": 17,
    "start_time": "2022-04-14T15:25:02.011Z"
   },
   {
    "duration": 110,
    "start_time": "2022-04-14T15:25:02.029Z"
   },
   {
    "duration": 221,
    "start_time": "2022-04-14T15:25:02.141Z"
   },
   {
    "duration": 391,
    "start_time": "2022-04-14T15:25:02.364Z"
   },
   {
    "duration": 9,
    "start_time": "2022-04-14T15:25:02.756Z"
   },
   {
    "duration": 7,
    "start_time": "2022-04-14T15:25:02.767Z"
   },
   {
    "duration": 34,
    "start_time": "2022-04-14T15:25:02.775Z"
   },
   {
    "duration": 11,
    "start_time": "2022-04-14T15:25:02.810Z"
   },
   {
    "duration": 10,
    "start_time": "2022-04-14T15:25:02.823Z"
   },
   {
    "duration": 114,
    "start_time": "2022-04-14T15:25:02.834Z"
   },
   {
    "duration": 10,
    "start_time": "2022-04-14T15:25:02.950Z"
   },
   {
    "duration": 287,
    "start_time": "2022-04-14T15:25:02.962Z"
   },
   {
    "duration": 6,
    "start_time": "2022-04-14T15:25:03.250Z"
   },
   {
    "duration": 146,
    "start_time": "2022-04-14T15:25:03.257Z"
   },
   {
    "duration": 8,
    "start_time": "2022-04-14T15:25:03.405Z"
   },
   {
    "duration": 106,
    "start_time": "2022-04-14T15:25:03.414Z"
   },
   {
    "duration": 338,
    "start_time": "2022-04-14T15:25:03.522Z"
   },
   {
    "duration": 6,
    "start_time": "2022-04-14T15:25:03.861Z"
   },
   {
    "duration": 120,
    "start_time": "2022-04-14T15:25:03.868Z"
   },
   {
    "duration": 138,
    "start_time": "2022-04-14T15:25:03.990Z"
   },
   {
    "duration": 115,
    "start_time": "2022-04-14T15:25:04.130Z"
   },
   {
    "duration": 20,
    "start_time": "2022-04-14T15:25:04.246Z"
   },
   {
    "duration": 3,
    "start_time": "2022-04-14T15:25:04.268Z"
   },
   {
    "duration": 85,
    "start_time": "2022-04-14T15:25:04.272Z"
   },
   {
    "duration": 0,
    "start_time": "2022-04-14T15:25:04.358Z"
   },
   {
    "duration": 0,
    "start_time": "2022-04-14T15:25:04.359Z"
   },
   {
    "duration": 0,
    "start_time": "2022-04-14T15:25:04.360Z"
   },
   {
    "duration": 0,
    "start_time": "2022-04-14T15:25:04.361Z"
   },
   {
    "duration": 0,
    "start_time": "2022-04-14T15:25:04.362Z"
   },
   {
    "duration": 1,
    "start_time": "2022-04-14T15:25:04.362Z"
   },
   {
    "duration": 0,
    "start_time": "2022-04-14T15:25:04.363Z"
   },
   {
    "duration": 0,
    "start_time": "2022-04-14T15:25:04.364Z"
   },
   {
    "duration": 0,
    "start_time": "2022-04-14T15:25:04.365Z"
   },
   {
    "duration": 0,
    "start_time": "2022-04-14T15:25:04.366Z"
   },
   {
    "duration": 0,
    "start_time": "2022-04-14T15:25:04.367Z"
   },
   {
    "duration": 0,
    "start_time": "2022-04-14T15:25:04.368Z"
   },
   {
    "duration": 41,
    "start_time": "2022-04-14T15:25:30.922Z"
   },
   {
    "duration": 8,
    "start_time": "2022-04-14T15:26:48.282Z"
   },
   {
    "duration": 204,
    "start_time": "2022-04-14T15:28:01.279Z"
   },
   {
    "duration": 213,
    "start_time": "2022-04-14T15:29:22.823Z"
   },
   {
    "duration": 9,
    "start_time": "2022-04-14T15:29:37.123Z"
   },
   {
    "duration": 8,
    "start_time": "2022-04-14T15:29:56.767Z"
   },
   {
    "duration": 8,
    "start_time": "2022-04-14T15:30:09.747Z"
   },
   {
    "duration": 97,
    "start_time": "2022-04-14T15:30:39.164Z"
   },
   {
    "duration": 9,
    "start_time": "2022-04-14T15:31:17.888Z"
   },
   {
    "duration": 94,
    "start_time": "2022-04-14T15:31:22.064Z"
   },
   {
    "duration": 11,
    "start_time": "2022-04-14T15:36:35.673Z"
   },
   {
    "duration": 8,
    "start_time": "2022-04-14T15:41:41.392Z"
   },
   {
    "duration": 8,
    "start_time": "2022-04-14T15:41:46.136Z"
   },
   {
    "duration": 104,
    "start_time": "2022-04-14T15:41:52.052Z"
   },
   {
    "duration": 8,
    "start_time": "2022-04-14T15:42:09.640Z"
   },
   {
    "duration": 8,
    "start_time": "2022-04-14T15:42:25.485Z"
   },
   {
    "duration": 175,
    "start_time": "2022-04-14T15:42:27.756Z"
   },
   {
    "duration": 9,
    "start_time": "2022-04-14T15:42:47.181Z"
   },
   {
    "duration": 243,
    "start_time": "2022-04-14T15:42:47.932Z"
   },
   {
    "duration": 5,
    "start_time": "2022-04-14T15:42:56.280Z"
   },
   {
    "duration": 142,
    "start_time": "2022-04-14T15:43:12.152Z"
   },
   {
    "duration": 5,
    "start_time": "2022-04-14T15:43:17.313Z"
   },
   {
    "duration": 89,
    "start_time": "2022-04-14T15:44:28.365Z"
   },
   {
    "duration": 318,
    "start_time": "2022-04-14T15:44:49.537Z"
   },
   {
    "duration": 361,
    "start_time": "2022-04-14T15:46:01.362Z"
   },
   {
    "duration": 6,
    "start_time": "2022-04-14T15:46:05.862Z"
   },
   {
    "duration": 105,
    "start_time": "2022-04-14T15:46:48.026Z"
   },
   {
    "duration": 116,
    "start_time": "2022-04-14T15:47:06.570Z"
   },
   {
    "duration": 129,
    "start_time": "2022-04-14T15:47:31.242Z"
   },
   {
    "duration": 117,
    "start_time": "2022-04-14T15:47:53.201Z"
   },
   {
    "duration": 11,
    "start_time": "2022-04-14T15:53:06.416Z"
   },
   {
    "duration": 11,
    "start_time": "2022-04-14T15:57:10.257Z"
   },
   {
    "duration": 0,
    "start_time": "2022-04-14T15:57:51.740Z"
   },
   {
    "duration": 25257,
    "start_time": "2022-04-14T15:58:35.382Z"
   },
   {
    "duration": 26396,
    "start_time": "2022-04-14T15:59:43.366Z"
   },
   {
    "duration": 7,
    "start_time": "2022-04-14T16:02:17.259Z"
   },
   {
    "duration": 12,
    "start_time": "2022-04-14T16:02:23.830Z"
   },
   {
    "duration": 415,
    "start_time": "2022-04-14T16:02:40.413Z"
   },
   {
    "duration": 542,
    "start_time": "2022-04-14T16:16:19.623Z"
   },
   {
    "duration": 13,
    "start_time": "2022-04-14T16:16:20.167Z"
   },
   {
    "duration": 23,
    "start_time": "2022-04-14T16:16:20.181Z"
   },
   {
    "duration": 10,
    "start_time": "2022-04-14T16:16:20.207Z"
   },
   {
    "duration": 22,
    "start_time": "2022-04-14T16:16:20.218Z"
   },
   {
    "duration": 16,
    "start_time": "2022-04-14T16:16:20.242Z"
   },
   {
    "duration": 4,
    "start_time": "2022-04-14T16:16:20.260Z"
   },
   {
    "duration": 11,
    "start_time": "2022-04-14T16:16:20.265Z"
   },
   {
    "duration": 48,
    "start_time": "2022-04-14T16:16:20.277Z"
   },
   {
    "duration": 5,
    "start_time": "2022-04-14T16:16:20.327Z"
   },
   {
    "duration": 6,
    "start_time": "2022-04-14T16:16:20.333Z"
   },
   {
    "duration": 8,
    "start_time": "2022-04-14T16:16:20.341Z"
   },
   {
    "duration": 14,
    "start_time": "2022-04-14T16:16:20.350Z"
   },
   {
    "duration": 52,
    "start_time": "2022-04-14T16:16:20.365Z"
   },
   {
    "duration": 14,
    "start_time": "2022-04-14T16:16:20.419Z"
   },
   {
    "duration": 2,
    "start_time": "2022-04-14T16:16:20.434Z"
   },
   {
    "duration": 11,
    "start_time": "2022-04-14T16:16:20.438Z"
   },
   {
    "duration": 14,
    "start_time": "2022-04-14T16:16:20.450Z"
   },
   {
    "duration": 13,
    "start_time": "2022-04-14T16:16:20.466Z"
   },
   {
    "duration": 339,
    "start_time": "2022-04-14T16:16:20.481Z"
   },
   {
    "duration": 22,
    "start_time": "2022-04-14T16:16:20.822Z"
   },
   {
    "duration": 243,
    "start_time": "2022-04-14T16:16:20.845Z"
   },
   {
    "duration": 228,
    "start_time": "2022-04-14T16:16:21.090Z"
   },
   {
    "duration": 262,
    "start_time": "2022-04-14T16:16:21.320Z"
   },
   {
    "duration": 331,
    "start_time": "2022-04-14T16:16:21.584Z"
   },
   {
    "duration": 222,
    "start_time": "2022-04-14T16:16:21.917Z"
   },
   {
    "duration": 175,
    "start_time": "2022-04-14T16:16:22.141Z"
   },
   {
    "duration": 9,
    "start_time": "2022-04-14T16:16:22.321Z"
   },
   {
    "duration": 3,
    "start_time": "2022-04-14T16:16:22.331Z"
   },
   {
    "duration": 126,
    "start_time": "2022-04-14T16:16:22.336Z"
   },
   {
    "duration": 224,
    "start_time": "2022-04-14T16:16:22.464Z"
   },
   {
    "duration": 394,
    "start_time": "2022-04-14T16:16:22.689Z"
   },
   {
    "duration": 28,
    "start_time": "2022-04-14T16:16:23.084Z"
   },
   {
    "duration": 9,
    "start_time": "2022-04-14T16:16:23.114Z"
   },
   {
    "duration": 7,
    "start_time": "2022-04-14T16:16:23.124Z"
   },
   {
    "duration": 10,
    "start_time": "2022-04-14T16:16:23.132Z"
   },
   {
    "duration": 8,
    "start_time": "2022-04-14T16:16:23.143Z"
   },
   {
    "duration": 121,
    "start_time": "2022-04-14T16:16:23.152Z"
   },
   {
    "duration": 10,
    "start_time": "2022-04-14T16:16:23.274Z"
   },
   {
    "duration": 287,
    "start_time": "2022-04-14T16:16:23.286Z"
   },
   {
    "duration": 5,
    "start_time": "2022-04-14T16:16:23.575Z"
   },
   {
    "duration": 145,
    "start_time": "2022-04-14T16:16:23.582Z"
   },
   {
    "duration": 4,
    "start_time": "2022-04-14T16:16:23.729Z"
   },
   {
    "duration": 96,
    "start_time": "2022-04-14T16:16:23.734Z"
   },
   {
    "duration": 390,
    "start_time": "2022-04-14T16:16:23.832Z"
   },
   {
    "duration": 5,
    "start_time": "2022-04-14T16:16:24.223Z"
   },
   {
    "duration": 126,
    "start_time": "2022-04-14T16:16:24.230Z"
   },
   {
    "duration": 132,
    "start_time": "2022-04-14T16:16:24.358Z"
   },
   {
    "duration": 126,
    "start_time": "2022-04-14T16:16:24.492Z"
   },
   {
    "duration": 10,
    "start_time": "2022-04-14T16:16:24.620Z"
   },
   {
    "duration": 85,
    "start_time": "2022-04-14T16:16:24.632Z"
   },
   {
    "duration": 0,
    "start_time": "2022-04-14T16:16:24.719Z"
   },
   {
    "duration": 0,
    "start_time": "2022-04-14T16:16:24.720Z"
   },
   {
    "duration": 0,
    "start_time": "2022-04-14T16:16:24.721Z"
   },
   {
    "duration": 0,
    "start_time": "2022-04-14T16:16:24.722Z"
   },
   {
    "duration": 0,
    "start_time": "2022-04-14T16:16:24.723Z"
   },
   {
    "duration": 0,
    "start_time": "2022-04-14T16:16:24.724Z"
   },
   {
    "duration": 0,
    "start_time": "2022-04-14T16:16:24.725Z"
   },
   {
    "duration": 0,
    "start_time": "2022-04-14T16:16:24.726Z"
   },
   {
    "duration": 0,
    "start_time": "2022-04-14T16:16:24.727Z"
   },
   {
    "duration": 0,
    "start_time": "2022-04-14T16:16:24.728Z"
   },
   {
    "duration": 0,
    "start_time": "2022-04-14T16:16:24.729Z"
   },
   {
    "duration": 0,
    "start_time": "2022-04-14T16:16:24.730Z"
   },
   {
    "duration": 0,
    "start_time": "2022-04-14T16:16:24.731Z"
   },
   {
    "duration": 0,
    "start_time": "2022-04-14T16:16:24.732Z"
   },
   {
    "duration": 0,
    "start_time": "2022-04-14T16:16:24.733Z"
   },
   {
    "duration": 0,
    "start_time": "2022-04-14T16:16:24.734Z"
   },
   {
    "duration": 16,
    "start_time": "2022-04-14T16:16:54.888Z"
   },
   {
    "duration": 10,
    "start_time": "2022-04-14T16:17:31.572Z"
   },
   {
    "duration": 513,
    "start_time": "2022-04-14T16:17:40.307Z"
   },
   {
    "duration": 393,
    "start_time": "2022-04-14T16:18:56.324Z"
   },
   {
    "duration": 416,
    "start_time": "2022-04-14T16:19:05.021Z"
   },
   {
    "duration": 536,
    "start_time": "2022-04-14T16:19:16.360Z"
   },
   {
    "duration": 15,
    "start_time": "2022-04-14T16:20:21.845Z"
   },
   {
    "duration": 11,
    "start_time": "2022-04-14T16:22:27.865Z"
   },
   {
    "duration": 788,
    "start_time": "2022-04-14T16:22:28.858Z"
   },
   {
    "duration": 16,
    "start_time": "2022-04-14T16:24:45.302Z"
   },
   {
    "duration": 15,
    "start_time": "2022-04-14T16:25:33.479Z"
   },
   {
    "duration": 197,
    "start_time": "2022-04-14T16:28:13.304Z"
   },
   {
    "duration": 16,
    "start_time": "2022-04-14T16:28:23.084Z"
   },
   {
    "duration": 17,
    "start_time": "2022-04-14T16:32:38.801Z"
   },
   {
    "duration": 548,
    "start_time": "2022-04-14T16:32:39.608Z"
   },
   {
    "duration": 230,
    "start_time": "2022-04-14T16:36:38.122Z"
   },
   {
    "duration": 5,
    "start_time": "2022-04-14T16:36:43.763Z"
   },
   {
    "duration": 6,
    "start_time": "2022-04-14T16:37:01.239Z"
   },
   {
    "duration": 7,
    "start_time": "2022-04-14T16:45:26.106Z"
   },
   {
    "duration": 579,
    "start_time": "2022-04-14T16:45:42.174Z"
   },
   {
    "duration": 630,
    "start_time": "2022-04-14T16:45:42.850Z"
   },
   {
    "duration": 698,
    "start_time": "2022-04-14T16:46:46.454Z"
   },
   {
    "duration": 21,
    "start_time": "2022-04-14T16:47:36.786Z"
   },
   {
    "duration": 5,
    "start_time": "2022-04-14T16:52:02.209Z"
   },
   {
    "duration": 4,
    "start_time": "2022-04-14T16:52:11.206Z"
   },
   {
    "duration": 275,
    "start_time": "2022-04-14T16:52:14.265Z"
   },
   {
    "duration": 13,
    "start_time": "2022-04-14T16:54:06.230Z"
   },
   {
    "duration": 124,
    "start_time": "2022-04-14T16:55:35.034Z"
   },
   {
    "duration": 135,
    "start_time": "2022-04-14T16:56:31.122Z"
   },
   {
    "duration": 211,
    "start_time": "2022-04-14T16:56:53.967Z"
   },
   {
    "duration": 144,
    "start_time": "2022-04-14T16:57:01.900Z"
   },
   {
    "duration": 161,
    "start_time": "2022-04-14T16:57:27.118Z"
   },
   {
    "duration": 166,
    "start_time": "2022-04-14T16:58:20.966Z"
   },
   {
    "duration": 182,
    "start_time": "2022-04-14T16:58:42.786Z"
   },
   {
    "duration": 199,
    "start_time": "2022-04-14T17:00:31.280Z"
   },
   {
    "duration": 313,
    "start_time": "2022-04-14T17:00:40.823Z"
   },
   {
    "duration": 143,
    "start_time": "2022-04-14T17:01:47.776Z"
   },
   {
    "duration": 118,
    "start_time": "2022-04-14T17:02:05.952Z"
   },
   {
    "duration": 119,
    "start_time": "2022-04-14T17:02:25.212Z"
   },
   {
    "duration": 331,
    "start_time": "2022-04-14T17:36:19.221Z"
   },
   {
    "duration": 377,
    "start_time": "2022-05-12T18:43:59.012Z"
   },
   {
    "duration": 39,
    "start_time": "2022-05-12T18:43:59.472Z"
   },
   {
    "duration": 227,
    "start_time": "2022-05-12T18:44:12.706Z"
   },
   {
    "duration": 3,
    "start_time": "2022-05-12T18:44:16.385Z"
   },
   {
    "duration": 38,
    "start_time": "2022-05-12T18:44:16.564Z"
   },
   {
    "duration": 23,
    "start_time": "2022-05-12T18:44:16.729Z"
   },
   {
    "duration": 14,
    "start_time": "2022-05-12T18:44:16.891Z"
   },
   {
    "duration": 4,
    "start_time": "2022-05-12T18:44:23.890Z"
   },
   {
    "duration": 5,
    "start_time": "2022-05-12T18:44:30.353Z"
   },
   {
    "duration": 4,
    "start_time": "2022-05-12T18:44:55.606Z"
   },
   {
    "duration": 8,
    "start_time": "2022-05-12T18:44:57.687Z"
   },
   {
    "duration": 14,
    "start_time": "2022-05-12T18:44:57.697Z"
   },
   {
    "duration": 10,
    "start_time": "2022-05-12T18:45:01.185Z"
   },
   {
    "duration": 8,
    "start_time": "2022-05-12T18:45:03.440Z"
   },
   {
    "duration": 5,
    "start_time": "2022-05-12T18:45:21.198Z"
   },
   {
    "duration": 8,
    "start_time": "2022-05-12T18:45:26.686Z"
   },
   {
    "duration": 5,
    "start_time": "2022-05-12T18:45:48.989Z"
   },
   {
    "duration": 9,
    "start_time": "2022-05-12T18:46:05.159Z"
   },
   {
    "duration": 12,
    "start_time": "2022-05-12T18:46:05.841Z"
   },
   {
    "duration": 13,
    "start_time": "2022-05-12T18:46:08.151Z"
   },
   {
    "duration": 5,
    "start_time": "2022-05-12T18:46:22.196Z"
   },
   {
    "duration": 14,
    "start_time": "2022-05-12T18:46:22.568Z"
   },
   {
    "duration": 14,
    "start_time": "2022-05-12T18:47:10.785Z"
   },
   {
    "duration": 521,
    "start_time": "2022-05-12T18:47:13.210Z"
   },
   {
    "duration": 13,
    "start_time": "2022-05-12T18:48:15.979Z"
   },
   {
    "duration": 242,
    "start_time": "2022-05-12T18:48:16.422Z"
   },
   {
    "duration": 73,
    "start_time": "2022-05-12T18:48:44.130Z"
   },
   {
    "duration": 2,
    "start_time": "2022-05-12T18:48:46.836Z"
   },
   {
    "duration": 154,
    "start_time": "2022-05-12T18:48:47.024Z"
   },
   {
    "duration": 16,
    "start_time": "2022-05-12T18:48:55.519Z"
   },
   {
    "duration": 11,
    "start_time": "2022-05-12T18:49:43.644Z"
   },
   {
    "duration": 223,
    "start_time": "2022-05-12T18:49:44.727Z"
   },
   {
    "duration": 5,
    "start_time": "2022-05-12T18:49:51.467Z"
   },
   {
    "duration": 5,
    "start_time": "2022-05-12T18:49:58.998Z"
   },
   {
    "duration": 749,
    "start_time": "2022-05-12T18:50:05.239Z"
   },
   {
    "duration": 213,
    "start_time": "2022-05-12T18:50:26.444Z"
   },
   {
    "duration": 6,
    "start_time": "2022-05-12T18:50:30.915Z"
   },
   {
    "duration": 5,
    "start_time": "2022-05-12T18:50:33.041Z"
   },
   {
    "duration": 199,
    "start_time": "2022-05-12T18:50:33.528Z"
   },
   {
    "duration": 276,
    "start_time": "2022-05-12T18:50:34.945Z"
   },
   {
    "duration": 658,
    "start_time": "2022-05-12T18:50:37.406Z"
   },
   {
    "duration": 5,
    "start_time": "2022-05-12T18:50:49.234Z"
   },
   {
    "duration": 5,
    "start_time": "2022-05-12T18:50:49.700Z"
   },
   {
    "duration": 6,
    "start_time": "2022-05-12T18:50:49.937Z"
   },
   {
    "duration": 5,
    "start_time": "2022-05-12T18:50:50.176Z"
   },
   {
    "duration": 462,
    "start_time": "2022-05-12T18:50:50.849Z"
   },
   {
    "duration": 6,
    "start_time": "2022-05-12T18:50:51.604Z"
   },
   {
    "duration": 6,
    "start_time": "2022-05-12T18:50:51.832Z"
   },
   {
    "duration": 4,
    "start_time": "2022-05-12T18:50:52.027Z"
   },
   {
    "duration": 5,
    "start_time": "2022-05-12T18:50:52.292Z"
   },
   {
    "duration": 142,
    "start_time": "2022-05-12T18:51:07.431Z"
   },
   {
    "duration": 16,
    "start_time": "2022-05-12T18:53:25.268Z"
   },
   {
    "duration": 380,
    "start_time": "2022-05-12T18:53:25.695Z"
   },
   {
    "duration": 15,
    "start_time": "2022-05-12T18:53:27.542Z"
   },
   {
    "duration": 455,
    "start_time": "2022-05-12T18:53:27.771Z"
   },
   {
    "duration": 15,
    "start_time": "2022-05-12T18:53:28.918Z"
   },
   {
    "duration": 9,
    "start_time": "2022-05-12T18:54:32.618Z"
   },
   {
    "duration": 240,
    "start_time": "2022-05-12T18:54:50.169Z"
   },
   {
    "duration": 5,
    "start_time": "2022-05-12T18:54:53.708Z"
   },
   {
    "duration": 196,
    "start_time": "2022-05-12T18:56:15.351Z"
   },
   {
    "duration": 8,
    "start_time": "2022-05-12T18:56:36.150Z"
   },
   {
    "duration": 6,
    "start_time": "2022-05-12T18:56:37.785Z"
   },
   {
    "duration": 138,
    "start_time": "2022-05-15T06:54:10.667Z"
   },
   {
    "duration": 556,
    "start_time": "2022-05-15T06:54:44.751Z"
   },
   {
    "duration": 53,
    "start_time": "2022-05-15T06:54:45.310Z"
   },
   {
    "duration": 41,
    "start_time": "2022-05-15T06:54:45.365Z"
   },
   {
    "duration": 20,
    "start_time": "2022-05-15T06:54:45.408Z"
   },
   {
    "duration": 5,
    "start_time": "2022-05-15T06:54:45.430Z"
   },
   {
    "duration": 6,
    "start_time": "2022-05-15T06:54:45.437Z"
   },
   {
    "duration": 38,
    "start_time": "2022-05-15T06:54:45.445Z"
   },
   {
    "duration": 15,
    "start_time": "2022-05-15T06:54:45.485Z"
   },
   {
    "duration": 18,
    "start_time": "2022-05-15T06:54:45.503Z"
   },
   {
    "duration": 14,
    "start_time": "2022-05-15T06:54:45.525Z"
   },
   {
    "duration": 10,
    "start_time": "2022-05-15T06:54:45.541Z"
   },
   {
    "duration": 6,
    "start_time": "2022-05-15T06:54:45.582Z"
   },
   {
    "duration": 15,
    "start_time": "2022-05-15T06:54:45.590Z"
   },
   {
    "duration": 8,
    "start_time": "2022-05-15T06:54:45.607Z"
   },
   {
    "duration": 12,
    "start_time": "2022-05-15T06:54:45.617Z"
   },
   {
    "duration": 55,
    "start_time": "2022-05-15T06:54:45.631Z"
   },
   {
    "duration": 20,
    "start_time": "2022-05-15T06:54:45.688Z"
   },
   {
    "duration": 5,
    "start_time": "2022-05-15T06:54:45.710Z"
   },
   {
    "duration": 22,
    "start_time": "2022-05-15T06:54:45.717Z"
   },
   {
    "duration": 58,
    "start_time": "2022-05-15T06:54:45.741Z"
   },
   {
    "duration": 1183,
    "start_time": "2022-05-15T06:54:45.801Z"
   },
   {
    "duration": 22,
    "start_time": "2022-05-15T06:54:46.986Z"
   },
   {
    "duration": 487,
    "start_time": "2022-05-15T06:54:47.010Z"
   },
   {
    "duration": 4,
    "start_time": "2022-05-15T06:54:47.499Z"
   },
   {
    "duration": 371,
    "start_time": "2022-05-15T06:54:47.505Z"
   },
   {
    "duration": 29,
    "start_time": "2022-05-15T06:54:47.881Z"
   },
   {
    "duration": 21,
    "start_time": "2022-05-15T06:54:47.912Z"
   },
   {
    "duration": 369,
    "start_time": "2022-05-15T06:54:47.938Z"
   },
   {
    "duration": 6,
    "start_time": "2022-05-15T06:54:48.309Z"
   },
   {
    "duration": 11,
    "start_time": "2022-05-15T06:54:48.317Z"
   },
   {
    "duration": 1221,
    "start_time": "2022-05-15T06:54:48.330Z"
   },
   {
    "duration": 8,
    "start_time": "2022-05-15T06:54:49.553Z"
   },
   {
    "duration": 21,
    "start_time": "2022-05-15T06:54:49.563Z"
   },
   {
    "duration": 354,
    "start_time": "2022-05-15T06:54:49.586Z"
   },
   {
    "duration": 290,
    "start_time": "2022-05-15T06:54:49.942Z"
   },
   {
    "duration": 902,
    "start_time": "2022-05-15T06:54:50.234Z"
   },
   {
    "duration": 7,
    "start_time": "2022-05-15T06:54:51.138Z"
   },
   {
    "duration": 20,
    "start_time": "2022-05-15T06:54:51.147Z"
   },
   {
    "duration": 16,
    "start_time": "2022-05-15T06:54:51.169Z"
   },
   {
    "duration": 7,
    "start_time": "2022-05-15T06:54:51.187Z"
   },
   {
    "duration": 910,
    "start_time": "2022-05-15T06:54:51.196Z"
   },
   {
    "duration": 7,
    "start_time": "2022-05-15T06:54:52.108Z"
   },
   {
    "duration": 14,
    "start_time": "2022-05-15T06:54:52.118Z"
   },
   {
    "duration": 14,
    "start_time": "2022-05-15T06:54:52.134Z"
   },
   {
    "duration": 33,
    "start_time": "2022-05-15T06:54:52.150Z"
   },
   {
    "duration": 290,
    "start_time": "2022-05-15T06:54:52.185Z"
   },
   {
    "duration": 316,
    "start_time": "2022-05-15T06:54:52.481Z"
   },
   {
    "duration": 26,
    "start_time": "2022-05-15T06:54:52.799Z"
   },
   {
    "duration": 788,
    "start_time": "2022-05-15T06:54:52.828Z"
   },
   {
    "duration": 24,
    "start_time": "2022-05-15T06:54:53.619Z"
   },
   {
    "duration": 744,
    "start_time": "2022-05-15T06:54:53.646Z"
   },
   {
    "duration": 25,
    "start_time": "2022-05-15T06:54:54.392Z"
   },
   {
    "duration": 717,
    "start_time": "2022-05-15T06:54:54.419Z"
   },
   {
    "duration": 14,
    "start_time": "2022-05-15T06:54:55.139Z"
   },
   {
    "duration": 28,
    "start_time": "2022-05-15T06:54:55.156Z"
   },
   {
    "duration": 13,
    "start_time": "2022-05-15T06:54:55.186Z"
   },
   {
    "duration": 9,
    "start_time": "2022-05-15T06:54:55.202Z"
   },
   {
    "duration": 135,
    "start_time": "2022-05-15T07:02:41.531Z"
   },
   {
    "duration": 109,
    "start_time": "2022-05-15T07:03:38.813Z"
   },
   {
    "duration": 17,
    "start_time": "2022-05-15T07:09:55.846Z"
   },
   {
    "duration": 9,
    "start_time": "2022-05-15T07:10:31.698Z"
   },
   {
    "duration": 47,
    "start_time": "2022-05-15T07:14:43.093Z"
   },
   {
    "duration": 24,
    "start_time": "2022-05-15T07:15:04.850Z"
   },
   {
    "duration": 8,
    "start_time": "2022-05-15T07:15:43.462Z"
   },
   {
    "duration": 21,
    "start_time": "2022-05-15T07:44:13.443Z"
   },
   {
    "duration": 177,
    "start_time": "2022-05-15T07:46:07.670Z"
   },
   {
    "duration": 563,
    "start_time": "2022-05-15T07:46:29.356Z"
   },
   {
    "duration": 53,
    "start_time": "2022-05-15T07:46:29.922Z"
   },
   {
    "duration": 44,
    "start_time": "2022-05-15T07:46:29.977Z"
   },
   {
    "duration": 20,
    "start_time": "2022-05-15T07:46:30.025Z"
   },
   {
    "duration": 6,
    "start_time": "2022-05-15T07:46:30.047Z"
   },
   {
    "duration": 6,
    "start_time": "2022-05-15T07:46:30.083Z"
   },
   {
    "duration": 9,
    "start_time": "2022-05-15T07:46:30.091Z"
   },
   {
    "duration": 18,
    "start_time": "2022-05-15T07:46:30.103Z"
   },
   {
    "duration": 20,
    "start_time": "2022-05-15T07:46:30.123Z"
   },
   {
    "duration": 41,
    "start_time": "2022-05-15T07:46:30.147Z"
   },
   {
    "duration": 20,
    "start_time": "2022-05-15T07:46:30.190Z"
   },
   {
    "duration": 14,
    "start_time": "2022-05-15T07:46:30.212Z"
   },
   {
    "duration": 19,
    "start_time": "2022-05-15T07:46:30.228Z"
   },
   {
    "duration": 11,
    "start_time": "2022-05-15T07:46:30.249Z"
   },
   {
    "duration": 26,
    "start_time": "2022-05-15T07:46:30.262Z"
   },
   {
    "duration": 29,
    "start_time": "2022-05-15T07:46:30.290Z"
   },
   {
    "duration": 28,
    "start_time": "2022-05-15T07:46:30.321Z"
   },
   {
    "duration": 32,
    "start_time": "2022-05-15T07:46:30.351Z"
   },
   {
    "duration": 16,
    "start_time": "2022-05-15T07:46:30.385Z"
   },
   {
    "duration": 17,
    "start_time": "2022-05-15T07:46:30.404Z"
   },
   {
    "duration": 25,
    "start_time": "2022-05-15T07:46:30.424Z"
   },
   {
    "duration": 33,
    "start_time": "2022-05-15T07:46:30.451Z"
   },
   {
    "duration": 890,
    "start_time": "2022-05-15T07:46:30.486Z"
   },
   {
    "duration": 24,
    "start_time": "2022-05-15T07:46:31.383Z"
   },
   {
    "duration": 496,
    "start_time": "2022-05-15T07:46:31.409Z"
   },
   {
    "duration": 5,
    "start_time": "2022-05-15T07:46:31.907Z"
   },
   {
    "duration": 324,
    "start_time": "2022-05-15T07:46:31.914Z"
   },
   {
    "duration": 95,
    "start_time": "2022-05-15T07:46:32.246Z"
   },
   {
    "duration": 43,
    "start_time": "2022-05-15T07:46:32.344Z"
   },
   {
    "duration": 368,
    "start_time": "2022-05-15T07:46:32.390Z"
   },
   {
    "duration": 6,
    "start_time": "2022-05-15T07:46:32.760Z"
   },
   {
    "duration": 6,
    "start_time": "2022-05-15T07:46:32.781Z"
   },
   {
    "duration": 1171,
    "start_time": "2022-05-15T07:46:32.789Z"
   },
   {
    "duration": 10,
    "start_time": "2022-05-15T07:46:33.962Z"
   },
   {
    "duration": 12,
    "start_time": "2022-05-15T07:46:33.982Z"
   },
   {
    "duration": 290,
    "start_time": "2022-05-15T07:46:33.996Z"
   },
   {
    "duration": 387,
    "start_time": "2022-05-15T07:46:34.288Z"
   },
   {
    "duration": 925,
    "start_time": "2022-05-15T07:46:34.677Z"
   },
   {
    "duration": 7,
    "start_time": "2022-05-15T07:46:35.605Z"
   },
   {
    "duration": 13,
    "start_time": "2022-05-15T07:46:35.614Z"
   },
   {
    "duration": 10,
    "start_time": "2022-05-15T07:46:35.629Z"
   },
   {
    "duration": 42,
    "start_time": "2022-05-15T07:46:35.641Z"
   },
   {
    "duration": 956,
    "start_time": "2022-05-15T07:46:35.686Z"
   },
   {
    "duration": 7,
    "start_time": "2022-05-15T07:46:36.645Z"
   },
   {
    "duration": 27,
    "start_time": "2022-05-15T07:46:36.655Z"
   },
   {
    "duration": 9,
    "start_time": "2022-05-15T07:46:36.685Z"
   },
   {
    "duration": 14,
    "start_time": "2022-05-15T07:46:36.696Z"
   },
   {
    "duration": 316,
    "start_time": "2022-05-15T07:46:36.713Z"
   },
   {
    "duration": 322,
    "start_time": "2022-05-15T07:46:37.031Z"
   },
   {
    "duration": 180,
    "start_time": "2022-05-15T07:46:37.355Z"
   },
   {
    "duration": 0,
    "start_time": "2022-05-15T07:46:37.537Z"
   },
   {
    "duration": 0,
    "start_time": "2022-05-15T07:46:37.539Z"
   },
   {
    "duration": 0,
    "start_time": "2022-05-15T07:46:37.540Z"
   },
   {
    "duration": 0,
    "start_time": "2022-05-15T07:46:37.542Z"
   },
   {
    "duration": 0,
    "start_time": "2022-05-15T07:46:37.543Z"
   },
   {
    "duration": 0,
    "start_time": "2022-05-15T07:46:37.544Z"
   },
   {
    "duration": 0,
    "start_time": "2022-05-15T07:46:37.545Z"
   },
   {
    "duration": 1,
    "start_time": "2022-05-15T07:46:37.546Z"
   },
   {
    "duration": 0,
    "start_time": "2022-05-15T07:46:37.548Z"
   },
   {
    "duration": 0,
    "start_time": "2022-05-15T07:46:37.549Z"
   },
   {
    "duration": 24,
    "start_time": "2022-05-15T07:47:38.576Z"
   },
   {
    "duration": 12,
    "start_time": "2022-05-15T07:48:14.880Z"
   },
   {
    "duration": 307,
    "start_time": "2022-05-15T07:48:22.016Z"
   },
   {
    "duration": 97,
    "start_time": "2022-05-15T07:49:43.512Z"
   },
   {
    "duration": 25,
    "start_time": "2022-05-15T07:57:22.447Z"
   },
   {
    "duration": 788,
    "start_time": "2022-05-15T07:57:23.031Z"
   },
   {
    "duration": 28,
    "start_time": "2022-05-15T07:57:26.382Z"
   },
   {
    "duration": 917,
    "start_time": "2022-05-15T07:57:27.335Z"
   },
   {
    "duration": 24,
    "start_time": "2022-05-15T07:57:29.507Z"
   },
   {
    "duration": 706,
    "start_time": "2022-05-15T07:57:29.967Z"
   },
   {
    "duration": 13,
    "start_time": "2022-05-15T07:57:35.657Z"
   },
   {
    "duration": 7,
    "start_time": "2022-05-15T07:57:45.572Z"
   },
   {
    "duration": 12,
    "start_time": "2022-05-15T07:57:51.843Z"
   },
   {
    "duration": 6,
    "start_time": "2022-05-15T07:57:53.019Z"
   },
   {
    "duration": 334,
    "start_time": "2022-05-15T08:02:04.065Z"
   },
   {
    "duration": 681,
    "start_time": "2022-05-15T13:31:39.368Z"
   },
   {
    "duration": 67,
    "start_time": "2022-05-15T13:31:40.052Z"
   },
   {
    "duration": 55,
    "start_time": "2022-05-15T13:31:40.121Z"
   },
   {
    "duration": 29,
    "start_time": "2022-05-15T13:31:40.180Z"
   },
   {
    "duration": 6,
    "start_time": "2022-05-15T13:31:41.139Z"
   },
   {
    "duration": 6,
    "start_time": "2022-05-15T13:31:41.319Z"
   },
   {
    "duration": 7,
    "start_time": "2022-05-15T13:31:42.177Z"
   },
   {
    "duration": 22,
    "start_time": "2022-05-15T13:31:42.477Z"
   },
   {
    "duration": 21,
    "start_time": "2022-05-15T13:31:42.690Z"
   },
   {
    "duration": 16,
    "start_time": "2022-05-15T13:31:43.261Z"
   },
   {
    "duration": 12,
    "start_time": "2022-05-15T13:31:43.604Z"
   },
   {
    "duration": 7,
    "start_time": "2022-05-15T13:31:44.134Z"
   },
   {
    "duration": 13,
    "start_time": "2022-05-15T13:31:44.729Z"
   },
   {
    "duration": 7,
    "start_time": "2022-05-15T13:31:45.142Z"
   },
   {
    "duration": 14,
    "start_time": "2022-05-15T13:31:45.330Z"
   },
   {
    "duration": 21,
    "start_time": "2022-05-15T13:31:45.713Z"
   },
   {
    "duration": 25,
    "start_time": "2022-05-15T13:31:46.236Z"
   },
   {
    "duration": 21,
    "start_time": "2022-05-15T13:32:06.151Z"
   },
   {
    "duration": 69,
    "start_time": "2022-05-15T14:00:17.573Z"
   },
   {
    "duration": 527,
    "start_time": "2022-05-15T14:00:30.278Z"
   },
   {
    "duration": 59,
    "start_time": "2022-05-15T14:00:30.808Z"
   },
   {
    "duration": 36,
    "start_time": "2022-05-15T14:00:30.870Z"
   },
   {
    "duration": 19,
    "start_time": "2022-05-15T14:00:30.909Z"
   },
   {
    "duration": 33,
    "start_time": "2022-05-15T14:00:30.930Z"
   },
   {
    "duration": 12,
    "start_time": "2022-05-15T14:00:30.966Z"
   },
   {
    "duration": 21,
    "start_time": "2022-05-15T14:00:30.981Z"
   },
   {
    "duration": 42,
    "start_time": "2022-05-15T14:00:31.004Z"
   },
   {
    "duration": 40,
    "start_time": "2022-05-15T14:00:31.049Z"
   },
   {
    "duration": 17,
    "start_time": "2022-05-15T14:00:31.092Z"
   },
   {
    "duration": 11,
    "start_time": "2022-05-15T14:00:31.112Z"
   },
   {
    "duration": 45,
    "start_time": "2022-05-15T14:00:31.125Z"
   },
   {
    "duration": 24,
    "start_time": "2022-05-15T14:00:31.172Z"
   },
   {
    "duration": 14,
    "start_time": "2022-05-15T14:00:31.198Z"
   },
   {
    "duration": 25,
    "start_time": "2022-05-15T14:00:31.214Z"
   },
   {
    "duration": 31,
    "start_time": "2022-05-15T14:00:31.241Z"
   },
   {
    "duration": 25,
    "start_time": "2022-05-15T14:00:31.274Z"
   },
   {
    "duration": 12,
    "start_time": "2022-05-15T14:00:31.301Z"
   },
   {
    "duration": 12,
    "start_time": "2022-05-15T14:00:31.316Z"
   },
   {
    "duration": 57,
    "start_time": "2022-05-15T14:00:31.331Z"
   },
   {
    "duration": 17,
    "start_time": "2022-05-15T14:00:31.391Z"
   },
   {
    "duration": 18,
    "start_time": "2022-05-15T14:00:31.410Z"
   },
   {
    "duration": 35,
    "start_time": "2022-05-15T14:00:31.431Z"
   },
   {
    "duration": 35,
    "start_time": "2022-05-15T14:00:31.469Z"
   },
   {
    "duration": 1161,
    "start_time": "2022-05-15T14:00:31.506Z"
   },
   {
    "duration": 32,
    "start_time": "2022-05-15T14:00:32.673Z"
   },
   {
    "duration": 583,
    "start_time": "2022-05-15T14:00:32.708Z"
   },
   {
    "duration": 4,
    "start_time": "2022-05-15T14:00:33.296Z"
   },
   {
    "duration": 366,
    "start_time": "2022-05-15T14:00:33.302Z"
   },
   {
    "duration": 31,
    "start_time": "2022-05-15T14:00:33.670Z"
   },
   {
    "duration": 20,
    "start_time": "2022-05-15T14:00:33.703Z"
   },
   {
    "duration": 374,
    "start_time": "2022-05-15T14:00:33.725Z"
   },
   {
    "duration": 7,
    "start_time": "2022-05-15T14:00:34.101Z"
   },
   {
    "duration": 6,
    "start_time": "2022-05-15T14:00:34.110Z"
   },
   {
    "duration": 1181,
    "start_time": "2022-05-15T14:00:34.118Z"
   },
   {
    "duration": 9,
    "start_time": "2022-05-15T14:00:35.301Z"
   },
   {
    "duration": 13,
    "start_time": "2022-05-15T14:00:35.313Z"
   },
   {
    "duration": 362,
    "start_time": "2022-05-15T14:00:35.328Z"
   },
   {
    "duration": 279,
    "start_time": "2022-05-15T14:00:35.692Z"
   },
   {
    "duration": 898,
    "start_time": "2022-05-15T14:00:35.973Z"
   },
   {
    "duration": 7,
    "start_time": "2022-05-15T14:00:36.873Z"
   },
   {
    "duration": 34,
    "start_time": "2022-05-15T14:00:36.883Z"
   },
   {
    "duration": 20,
    "start_time": "2022-05-15T14:00:36.920Z"
   },
   {
    "duration": 13,
    "start_time": "2022-05-15T14:00:36.942Z"
   },
   {
    "duration": 908,
    "start_time": "2022-05-15T14:00:36.959Z"
   },
   {
    "duration": 7,
    "start_time": "2022-05-15T14:00:37.870Z"
   },
   {
    "duration": 25,
    "start_time": "2022-05-15T14:00:37.879Z"
   },
   {
    "duration": 21,
    "start_time": "2022-05-15T14:00:37.906Z"
   },
   {
    "duration": 36,
    "start_time": "2022-05-15T14:00:37.929Z"
   },
   {
    "duration": 295,
    "start_time": "2022-05-15T14:00:37.967Z"
   },
   {
    "duration": 318,
    "start_time": "2022-05-15T14:00:38.265Z"
   },
   {
    "duration": 330,
    "start_time": "2022-05-15T14:00:38.585Z"
   },
   {
    "duration": 24,
    "start_time": "2022-05-15T14:00:38.918Z"
   },
   {
    "duration": 766,
    "start_time": "2022-05-15T14:00:38.944Z"
   },
   {
    "duration": 25,
    "start_time": "2022-05-15T14:00:39.712Z"
   },
   {
    "duration": 745,
    "start_time": "2022-05-15T14:00:39.740Z"
   },
   {
    "duration": 31,
    "start_time": "2022-05-15T14:00:40.487Z"
   },
   {
    "duration": 813,
    "start_time": "2022-05-15T14:00:40.520Z"
   },
   {
    "duration": 12,
    "start_time": "2022-05-15T14:00:41.335Z"
   },
   {
    "duration": 8,
    "start_time": "2022-05-15T14:00:41.360Z"
   },
   {
    "duration": 20,
    "start_time": "2022-05-15T14:00:41.371Z"
   },
   {
    "duration": 10,
    "start_time": "2022-05-15T14:00:41.394Z"
   },
   {
    "duration": 16,
    "start_time": "2022-05-15T14:01:37.746Z"
   },
   {
    "duration": 19,
    "start_time": "2022-05-15T14:02:00.810Z"
   },
   {
    "duration": 178,
    "start_time": "2022-05-15T14:02:19.922Z"
   },
   {
    "duration": 16,
    "start_time": "2022-05-15T14:02:28.117Z"
   },
   {
    "duration": 14,
    "start_time": "2022-05-15T14:02:47.578Z"
   },
   {
    "duration": 22,
    "start_time": "2022-05-15T14:04:24.954Z"
   },
   {
    "duration": 7,
    "start_time": "2022-05-15T14:05:02.017Z"
   },
   {
    "duration": 6,
    "start_time": "2022-05-15T14:05:08.170Z"
   },
   {
    "duration": 16,
    "start_time": "2022-05-15T14:05:14.125Z"
   },
   {
    "duration": 17,
    "start_time": "2022-05-15T14:10:46.875Z"
   },
   {
    "duration": 19,
    "start_time": "2022-05-15T14:11:04.484Z"
   },
   {
    "duration": 16,
    "start_time": "2022-05-15T14:17:23.611Z"
   },
   {
    "duration": 15,
    "start_time": "2022-05-15T14:17:33.435Z"
   },
   {
    "duration": 15,
    "start_time": "2022-05-15T14:21:32.518Z"
   },
   {
    "duration": 14,
    "start_time": "2022-05-15T14:23:10.683Z"
   },
   {
    "duration": 15,
    "start_time": "2022-05-15T14:23:31.394Z"
   },
   {
    "duration": 11,
    "start_time": "2022-05-15T14:24:05.074Z"
   },
   {
    "duration": 16,
    "start_time": "2022-05-15T14:24:11.793Z"
   },
   {
    "duration": 24,
    "start_time": "2022-05-15T14:26:06.375Z"
   },
   {
    "duration": 13,
    "start_time": "2022-05-15T14:26:21.958Z"
   },
   {
    "duration": 14,
    "start_time": "2022-05-15T14:28:40.946Z"
   },
   {
    "duration": 21,
    "start_time": "2022-05-15T14:31:51.917Z"
   },
   {
    "duration": 20,
    "start_time": "2022-05-15T14:31:56.846Z"
   },
   {
    "duration": 17,
    "start_time": "2022-05-15T14:33:16.774Z"
   },
   {
    "duration": 13,
    "start_time": "2022-05-15T14:33:28.021Z"
   },
   {
    "duration": 14,
    "start_time": "2022-05-15T14:33:28.385Z"
   },
   {
    "duration": 20,
    "start_time": "2022-05-15T14:36:37.064Z"
   },
   {
    "duration": 35,
    "start_time": "2022-05-15T14:39:29.986Z"
   },
   {
    "duration": 10,
    "start_time": "2022-05-15T14:40:43.630Z"
   },
   {
    "duration": 14,
    "start_time": "2022-05-15T14:40:52.499Z"
   },
   {
    "duration": 13,
    "start_time": "2022-05-15T14:40:59.336Z"
   },
   {
    "duration": 41,
    "start_time": "2022-05-15T14:41:01.013Z"
   },
   {
    "duration": 19,
    "start_time": "2022-05-15T14:41:45.493Z"
   },
   {
    "duration": 23,
    "start_time": "2022-05-15T14:41:46.428Z"
   },
   {
    "duration": 514,
    "start_time": "2022-05-15T14:41:57.892Z"
   },
   {
    "duration": 45,
    "start_time": "2022-05-15T14:41:58.408Z"
   },
   {
    "duration": 43,
    "start_time": "2022-05-15T14:41:58.457Z"
   },
   {
    "duration": 19,
    "start_time": "2022-05-15T14:41:58.503Z"
   },
   {
    "duration": 33,
    "start_time": "2022-05-15T14:41:58.524Z"
   },
   {
    "duration": 8,
    "start_time": "2022-05-15T14:41:58.560Z"
   },
   {
    "duration": 20,
    "start_time": "2022-05-15T14:41:58.571Z"
   },
   {
    "duration": 14,
    "start_time": "2022-05-15T14:41:58.594Z"
   },
   {
    "duration": 47,
    "start_time": "2022-05-15T14:41:58.610Z"
   },
   {
    "duration": 22,
    "start_time": "2022-05-15T14:41:58.670Z"
   },
   {
    "duration": 13,
    "start_time": "2022-05-15T14:41:58.694Z"
   },
   {
    "duration": 6,
    "start_time": "2022-05-15T14:41:58.709Z"
   },
   {
    "duration": 14,
    "start_time": "2022-05-15T14:41:58.717Z"
   },
   {
    "duration": 27,
    "start_time": "2022-05-15T14:41:58.734Z"
   },
   {
    "duration": 28,
    "start_time": "2022-05-15T14:41:58.764Z"
   },
   {
    "duration": 18,
    "start_time": "2022-05-15T14:41:58.795Z"
   },
   {
    "duration": 43,
    "start_time": "2022-05-15T14:41:58.815Z"
   },
   {
    "duration": 18,
    "start_time": "2022-05-15T14:41:58.861Z"
   },
   {
    "duration": 27,
    "start_time": "2022-05-15T14:41:58.881Z"
   },
   {
    "duration": 13,
    "start_time": "2022-05-15T14:41:58.910Z"
   },
   {
    "duration": 31,
    "start_time": "2022-05-15T14:41:58.957Z"
   },
   {
    "duration": 8,
    "start_time": "2022-05-15T14:41:58.991Z"
   },
   {
    "duration": 6,
    "start_time": "2022-05-15T14:41:59.001Z"
   },
   {
    "duration": 73,
    "start_time": "2022-05-15T14:41:59.009Z"
   },
   {
    "duration": 21,
    "start_time": "2022-05-15T14:41:59.084Z"
   },
   {
    "duration": 953,
    "start_time": "2022-05-15T14:41:59.108Z"
   },
   {
    "duration": 28,
    "start_time": "2022-05-15T14:42:00.064Z"
   },
   {
    "duration": 540,
    "start_time": "2022-05-15T14:42:00.100Z"
   },
   {
    "duration": 4,
    "start_time": "2022-05-15T14:42:00.642Z"
   },
   {
    "duration": 352,
    "start_time": "2022-05-15T14:42:00.648Z"
   },
   {
    "duration": 29,
    "start_time": "2022-05-15T14:42:01.002Z"
   },
   {
    "duration": 97,
    "start_time": "2022-05-15T14:42:01.034Z"
   },
   {
    "duration": 388,
    "start_time": "2022-05-15T14:42:01.133Z"
   },
   {
    "duration": 7,
    "start_time": "2022-05-15T14:42:01.524Z"
   },
   {
    "duration": 27,
    "start_time": "2022-05-15T14:42:01.532Z"
   },
   {
    "duration": 1241,
    "start_time": "2022-05-15T14:42:01.562Z"
   },
   {
    "duration": 9,
    "start_time": "2022-05-15T14:42:02.806Z"
   },
   {
    "duration": 11,
    "start_time": "2022-05-15T14:42:02.817Z"
   },
   {
    "duration": 309,
    "start_time": "2022-05-15T14:42:02.830Z"
   },
   {
    "duration": 384,
    "start_time": "2022-05-15T14:42:03.142Z"
   },
   {
    "duration": 1201,
    "start_time": "2022-05-15T14:42:03.529Z"
   },
   {
    "duration": 7,
    "start_time": "2022-05-15T14:42:04.732Z"
   },
   {
    "duration": 8,
    "start_time": "2022-05-15T14:42:04.757Z"
   },
   {
    "duration": 26,
    "start_time": "2022-05-15T14:42:04.768Z"
   },
   {
    "duration": 7,
    "start_time": "2022-05-15T14:42:04.796Z"
   },
   {
    "duration": 978,
    "start_time": "2022-05-15T14:42:04.805Z"
   },
   {
    "duration": 7,
    "start_time": "2022-05-15T14:42:05.785Z"
   },
   {
    "duration": 11,
    "start_time": "2022-05-15T14:42:05.795Z"
   },
   {
    "duration": 11,
    "start_time": "2022-05-15T14:42:05.808Z"
   },
   {
    "duration": 47,
    "start_time": "2022-05-15T14:42:05.822Z"
   },
   {
    "duration": 300,
    "start_time": "2022-05-15T14:42:05.871Z"
   },
   {
    "duration": 343,
    "start_time": "2022-05-15T14:42:06.173Z"
   },
   {
    "duration": 472,
    "start_time": "2022-05-15T14:42:06.519Z"
   },
   {
    "duration": 35,
    "start_time": "2022-05-15T14:42:06.993Z"
   },
   {
    "duration": 907,
    "start_time": "2022-05-15T14:42:07.030Z"
   },
   {
    "duration": 45,
    "start_time": "2022-05-15T14:42:07.940Z"
   },
   {
    "duration": 914,
    "start_time": "2022-05-15T14:42:07.989Z"
   },
   {
    "duration": 25,
    "start_time": "2022-05-15T14:42:08.906Z"
   },
   {
    "duration": 872,
    "start_time": "2022-05-15T14:42:08.934Z"
   },
   {
    "duration": 38,
    "start_time": "2022-05-15T14:42:09.829Z"
   },
   {
    "duration": 37,
    "start_time": "2022-05-15T14:42:09.870Z"
   },
   {
    "duration": 9,
    "start_time": "2022-05-15T14:42:09.911Z"
   },
   {
    "duration": 13,
    "start_time": "2022-05-15T14:42:09.926Z"
   },
   {
    "duration": 6,
    "start_time": "2022-05-15T14:42:15.312Z"
   },
   {
    "duration": 13,
    "start_time": "2022-05-15T14:42:20.132Z"
   },
   {
    "duration": 90,
    "start_time": "2022-08-02T12:27:09.440Z"
   },
   {
    "duration": 92,
    "start_time": "2022-08-02T12:28:46.358Z"
   },
   {
    "duration": 92,
    "start_time": "2022-08-02T12:35:05.972Z"
   },
   {
    "duration": 178,
    "start_time": "2022-08-14T14:39:19.735Z"
   },
   {
    "duration": 73,
    "start_time": "2022-08-14T14:56:28.198Z"
   },
   {
    "duration": 1672,
    "start_time": "2022-08-14T14:57:47.824Z"
   },
   {
    "duration": 1353,
    "start_time": "2022-08-14T14:57:49.498Z"
   },
   {
    "duration": 14,
    "start_time": "2022-08-14T14:57:50.853Z"
   },
   {
    "duration": 9,
    "start_time": "2022-08-14T14:57:50.870Z"
   },
   {
    "duration": 7,
    "start_time": "2022-08-14T14:57:50.881Z"
   },
   {
    "duration": 35,
    "start_time": "2022-08-14T14:57:50.889Z"
   },
   {
    "duration": 18,
    "start_time": "2022-08-14T14:57:50.926Z"
   },
   {
    "duration": 7,
    "start_time": "2022-08-14T14:57:50.946Z"
   },
   {
    "duration": 17,
    "start_time": "2022-08-14T14:57:50.954Z"
   },
   {
    "duration": 5,
    "start_time": "2022-08-14T14:57:51.001Z"
   },
   {
    "duration": 632,
    "start_time": "2022-08-14T14:57:51.008Z"
   },
   {
    "duration": 205,
    "start_time": "2022-08-14T14:57:51.643Z"
   },
   {
    "duration": 360,
    "start_time": "2022-08-14T14:57:51.850Z"
   },
   {
    "duration": 417,
    "start_time": "2022-08-14T14:57:52.212Z"
   },
   {
    "duration": 9,
    "start_time": "2022-08-14T14:57:52.630Z"
   },
   {
    "duration": 5,
    "start_time": "2022-08-14T14:57:52.641Z"
   },
   {
    "duration": 9,
    "start_time": "2022-08-14T14:57:52.647Z"
   },
   {
    "duration": 6,
    "start_time": "2022-08-14T14:57:52.657Z"
   },
   {
    "duration": 43,
    "start_time": "2022-08-14T14:57:52.664Z"
   },
   {
    "duration": 21,
    "start_time": "2022-08-14T14:57:52.709Z"
   },
   {
    "duration": 4,
    "start_time": "2022-08-14T14:57:52.731Z"
   },
   {
    "duration": 17,
    "start_time": "2022-08-14T14:57:52.737Z"
   },
   {
    "duration": 6,
    "start_time": "2022-08-14T14:57:52.755Z"
   },
   {
    "duration": 125,
    "start_time": "2022-08-14T14:57:52.762Z"
   },
   {
    "duration": 3614,
    "start_time": "2022-08-14T14:57:52.889Z"
   },
   {
    "duration": 1535,
    "start_time": "2022-08-14T14:57:56.505Z"
   },
   {
    "duration": 6,
    "start_time": "2022-08-14T14:57:58.041Z"
   },
   {
    "duration": 8,
    "start_time": "2022-08-14T14:57:58.050Z"
   },
   {
    "duration": 13,
    "start_time": "2022-08-14T14:57:58.060Z"
   },
   {
    "duration": 29,
    "start_time": "2022-08-14T14:57:58.075Z"
   },
   {
    "duration": 4,
    "start_time": "2022-08-14T14:57:58.106Z"
   },
   {
    "duration": 14,
    "start_time": "2022-08-14T14:57:58.111Z"
   },
   {
    "duration": 8,
    "start_time": "2022-08-14T14:57:58.127Z"
   },
   {
    "duration": 10,
    "start_time": "2022-08-14T14:57:58.137Z"
   },
   {
    "duration": 17,
    "start_time": "2022-08-14T14:57:58.148Z"
   },
   {
    "duration": 4,
    "start_time": "2022-08-14T14:57:58.166Z"
   },
   {
    "duration": 31,
    "start_time": "2022-08-14T14:57:58.172Z"
   },
   {
    "duration": 189776,
    "start_time": "2022-08-14T14:57:58.205Z"
   },
   {
    "duration": 2142,
    "start_time": "2022-08-14T15:01:07.983Z"
   },
   {
    "duration": 1707,
    "start_time": "2022-08-14T15:01:10.127Z"
   },
   {
    "duration": 1424,
    "start_time": "2022-08-14T15:01:11.835Z"
   },
   {
    "duration": 40,
    "start_time": "2022-08-14T15:01:13.261Z"
   },
   {
    "duration": 14,
    "start_time": "2022-08-14T15:01:13.324Z"
   },
   {
    "duration": 1125,
    "start_time": "2022-08-14T15:04:07.459Z"
   },
   {
    "duration": 953,
    "start_time": "2022-08-14T15:04:46.277Z"
   }
  ],
  "kernelspec": {
   "display_name": "Python 3 (ipykernel)",
   "language": "python",
   "name": "python3"
  },
  "language_info": {
   "codemirror_mode": {
    "name": "ipython",
    "version": 3
   },
   "file_extension": ".py",
   "mimetype": "text/x-python",
   "name": "python",
   "nbconvert_exporter": "python",
   "pygments_lexer": "ipython3",
   "version": "3.9.7"
  },
  "toc": {
   "base_numbering": 1,
   "nav_menu": {},
   "number_sections": true,
   "sideBar": true,
   "skip_h1_title": true,
   "title_cell": "Table of Contents",
   "title_sidebar": "Contents",
   "toc_cell": false,
   "toc_position": {
    "height": "calc(100% - 180px)",
    "left": "10px",
    "top": "150px",
    "width": "165px"
   },
   "toc_section_display": true,
   "toc_window_display": true
  }
 },
 "nbformat": 4,
 "nbformat_minor": 5
}
